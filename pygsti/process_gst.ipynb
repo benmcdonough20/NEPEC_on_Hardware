{
 "cells": [
  {
   "cell_type": "markdown",
   "metadata": {},
   "source": [
    "# GST on Rigetti Backends with PyGSTi"
   ]
  },
  {
   "cell_type": "markdown",
   "metadata": {},
   "source": [
    "## Read data from experiment"
   ]
  },
  {
   "cell_type": "code",
   "execution_count": 32,
   "metadata": {},
   "outputs": [],
   "source": [
    "#PyGSTi tools\n",
    "import pygsti\n",
    "#pre-built gateset to use\n",
    "from pygsti.modelpacks import smq1Q_XZ\n",
    "from pygsti.data.dataset import DataSet\n",
    "from pygsti.io.writers import write_dataset\n",
    "\n",
    "#Rigetti tools\n",
    "from pyquil import get_qc, Program\n",
    "from pyquil.api import QCSClientConfiguration\n",
    "\n",
    "configuration = QCSClientConfiguration.load()\n",
    "\n",
    "#python helper libraries\n",
    "from multiprocessing.pool import ThreadPool\n",
    "import time\n",
    "\n",
    "import smq1Q_XZI"
   ]
  },
  {
   "cell_type": "code",
   "execution_count": 33,
   "metadata": {},
   "outputs": [],
   "source": [
    "data = pygsti.io.read_data_from_dir('experiment_data/rigetti_first_run')"
   ]
  },
  {
   "cell_type": "markdown",
   "metadata": {},
   "source": [
    "## Run GST on the data"
   ]
  },
  {
   "cell_type": "code",
   "execution_count": 34,
   "metadata": {},
   "outputs": [
    {
     "name": "stdout",
     "output_type": "stream",
     "text": [
      "-- Std Practice:  Iter 1 of 3  (TP) --: \n",
      "  --- Iterative GST: [##################################################] 100.0%  550 circuits ---\n",
      "  Iterative GST Total Time: 1.1s\n",
      "-- Std Practice:  Iter 2 of 3  (CPTP) --: \n",
      "  --- Iterative GST: [##################################################] 100.0%  550 circuits ---\n",
      "  Iterative GST Total Time: 8.1s\n",
      "-- Std Practice:  Iter 3 of 3  (Target) --: \n"
     ]
    }
   ],
   "source": [
    "gst_protocol = pygsti.protocols.StandardGST('TP,CPTP,Target')\n",
    "results = gst_protocol.run(data)"
   ]
  },
  {
   "cell_type": "markdown",
   "metadata": {},
   "source": [
    "## Create GST report"
   ]
  },
  {
   "cell_type": "code",
   "execution_count": 35,
   "metadata": {},
   "outputs": [
    {
     "name": "stdout",
     "output_type": "stream",
     "text": [
      "Running idle tomography\n",
      "Computing switchable properties\n"
     ]
    }
   ],
   "source": [
    "report = pygsti.report.construct_standard_report(\n",
    "    results, title=\"GST Overview Tutorial Example Report\")"
   ]
  },
  {
   "cell_type": "markdown",
   "metadata": {},
   "source": [
    "## Constrain to TPCP and gauge-optimize"
   ]
  },
  {
   "cell_type": "code",
   "execution_count": 36,
   "metadata": {},
   "outputs": [
    {
     "name": "stdout",
     "output_type": "stream",
     "text": [
      "rho0 = TPState with dimension 4\n",
      " 0.71   0   0 0.67\n",
      "\n",
      "\n",
      "Mdefault = TPPOVM with effect vectors:\n",
      "0: FullPOVMEffect with dimension 4\n",
      " 0.75   0   0 0.66\n",
      "\n",
      "1: ComplementPOVMEffect with dimension 4\n",
      " 0.66   0   0-0.66\n",
      "\n",
      "\n",
      "\n",
      "Gxpi2:0 = \n",
      "FullTPOp with shape (4, 4)\n",
      " 1.00   0   0   0\n",
      "   0 1.00   0   0\n",
      "   0   0   0-1.00\n",
      "   0   0 1.00   0\n",
      "\n",
      "\n",
      "Gzpi2:0 = \n",
      "FullTPOp with shape (4, 4)\n",
      " 1.00   0   0   0\n",
      "   0   0-1.00   0\n",
      "   0 1.00   0   0\n",
      "   0   0   0 1.00\n",
      "\n",
      "\n",
      "\n",
      "\n"
     ]
    }
   ],
   "source": [
    "cptp_estimate = results.estimates['CPTP']\n",
    "cptp_estimate_final_model = cptp_estimate.models['stdgaugeopt']\n",
    "print(cptp_estimate_final_model)"
   ]
  }
 ],
 "metadata": {
  "kernelspec": {
   "display_name": "Python 3 (ipykernel)",
   "language": "python",
   "name": "python3"
  },
  "language_info": {
   "codemirror_mode": {
    "name": "ipython",
    "version": 3
   },
   "file_extension": ".py",
   "mimetype": "text/x-python",
   "name": "python",
   "nbconvert_exporter": "python",
   "pygments_lexer": "ipython3",
   "version": "3.10.5"
  },
  "vscode": {
   "interpreter": {
    "hash": "d4803144e0ca2433cbbdbc82809c7bf0c6dd86d5d16291a48205e2d911513c87"
   }
  }
 },
 "nbformat": 4,
 "nbformat_minor": 4
}
