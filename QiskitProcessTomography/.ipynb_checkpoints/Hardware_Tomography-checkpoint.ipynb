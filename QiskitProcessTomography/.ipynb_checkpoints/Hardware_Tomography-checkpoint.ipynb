{
 "cells": [
  {
   "cell_type": "code",
   "execution_count": 1,
   "id": "74938619",
   "metadata": {},
   "outputs": [
    {
     "name": "stderr",
     "output_type": "stream",
     "text": [
      "/tmp/ipykernel_59916/2936720341.py:5: DeprecationWarning: The qiskit.ignis package is deprecated and has been supersceded by the qiskit-experiments project. Refer to the migration guide: https://github.com/Qiskit/qiskit-ignis#migration-guide on how to migrate to the new project.\n",
      "  from qiskit.ignis.verification.tomography import process_tomography_circuits, ProcessTomographyFitter\n"
     ]
    }
   ],
   "source": [
    "from qiskit import QuantumCircuit, execute\n",
    "\n",
    "#This package will soon be depreciated in favor of the new qiskit_experiments package,\n",
    "#although this one has more documentation\n",
    "from qiskit.ignis.verification.tomography import process_tomography_circuits, ProcessTomographyFitter\n",
    "from qiskit.test.mock import FakeVigo\n",
    "import qiskit.quantum_info as qi\n",
    "\n",
    "backend = FakeVigo()"
   ]
  },
  {
   "cell_type": "code",
   "execution_count": 3,
   "id": "ad156185",
   "metadata": {},
   "outputs": [
    {
     "data": {
      "text/plain": [
       "<AccountProvider for IBMQ(hub='ibm-q', group='open', project='main')>"
      ]
     },
     "execution_count": 3,
     "metadata": {},
     "output_type": "execute_result"
    }
   ],
   "source": [
    "from qiskit import IBMQ\n",
    "IBMQ.load_account()"
   ]
  },
  {
   "cell_type": "code",
   "execution_count": null,
   "id": "513ca1da",
   "metadata": {},
   "outputs": [
    {
     "name": "stdout",
     "output_type": "stream",
     "text": [
      "{'backend_name': 'ibmq_qasm_simulator', 'backend_version': '0.1.547', 'operational': True, 'pending_jobs': 13, 'status_msg': 'active'}\n",
      "{'backend_name': 'ibmq_armonk', 'backend_version': '2.4.35', 'operational': True, 'pending_jobs': 1, 'status_msg': 'active'}\n"
     ]
    }
   ],
   "source": [
    "provider = IBMQ.get_provider(hub='ibm-q')\n",
    "for backend in provider.backends():\n",
    "    print(backend.status().to_dict())"
   ]
  },
  {
   "cell_type": "code",
   "execution_count": 93,
   "id": "de391350",
   "metadata": {},
   "outputs": [],
   "source": [
    "qc = QuantumCircuit(1)\n",
    "qc.h(0)\n",
    "\n",
    "qpt_circs = process_tomography_circuits(qc,[0])"
   ]
  },
  {
   "cell_type": "code",
   "execution_count": 94,
   "id": "e75eb971",
   "metadata": {},
   "outputs": [],
   "source": [
    "job = execute(qpt_circs, backend, shots = 4000)"
   ]
  },
  {
   "cell_type": "code",
   "execution_count": 95,
   "id": "17ad0633",
   "metadata": {},
   "outputs": [
    {
     "data": {
      "text/plain": [
       "{(('Zp',), ('X',)): {'1': 323, '0': 3677},\n",
       " (('Zp',), ('Y',)): {'0': 1969, '1': 2031},\n",
       " (('Zp',), ('Z',)): {'0': 2031, '1': 1969},\n",
       " (('Zm',), ('X',)): {'0': 278, '1': 3722},\n",
       " (('Zm',), ('Y',)): {'1': 1996, '0': 2004},\n",
       " (('Zm',), ('Z',)): {'1': 2016, '0': 1984},\n",
       " (('Xp',), ('X',)): {'0': 2015, '1': 1985},\n",
       " (('Xp',), ('Y',)): {'0': 2004, '1': 1996},\n",
       " (('Xp',), ('Z',)): {'1': 358, '0': 3642},\n",
       " (('Yp',), ('X',)): {'1': 2034, '0': 1966},\n",
       " (('Yp',), ('Y',)): {'0': 316, '1': 3684},\n",
       " (('Yp',), ('Z',)): {'0': 1928, '1': 2072}}"
      ]
     },
     "execution_count": 95,
     "metadata": {},
     "output_type": "execute_result"
    }
   ],
   "source": [
    "qpt_tomo = ProcessTomographyFitter(job.result(), qpt_circs)\n",
    "qpt_tomo.data"
   ]
  },
  {
   "cell_type": "code",
   "execution_count": 99,
   "id": "b16ad965",
   "metadata": {},
   "outputs": [],
   "source": [
    "#Fitting\n",
    "\n",
    "choi_fit = qpt_tomo.fit(method='lstsq')\n",
    "kraus_ops = qi.Kraus(choi_fit)"
   ]
  },
  {
   "cell_type": "code",
   "execution_count": 109,
   "id": "cc45caa2",
   "metadata": {},
   "outputs": [
    {
     "name": "stdout",
     "output_type": "stream",
     "text": [
      "Kraus op no. 0:\n",
      "\n",
      "[[ 0.65877313-3.28956112e-17j  0.66590923+9.72034892e-03j]\n",
      " [ 0.66007625-8.19743186e-03j -0.66182247-6.82409741e-03j]]\n",
      "\n",
      "\n",
      "Kraus op no. 1:\n",
      "\n",
      "[[-0.07655881-3.44087942e-16j -0.03496149+1.31522479e-01j]\n",
      " [ 0.10431058-4.55416664e-02j -0.00576647+8.86591621e-02j]]\n",
      "\n",
      "\n",
      "Kraus op no. 2:\n",
      "\n",
      "[[ 0.25299034+2.52046471e-10j -0.09916777+8.02203536e-02j]\n",
      " [-0.0235353 +2.72537130e-02j  0.12827382+1.10385149e-01j]]\n",
      "\n",
      "\n",
      "Kraus op no. 3:\n",
      "\n",
      "[[-0.0624708 +2.82106601e-12j  0.12239681-5.19558786e-02j]\n",
      " [ 0.02641874+2.03795916e-01j  0.08248096+1.50361515e-01j]]\n",
      "\n",
      "\n"
     ]
    }
   ],
   "source": [
    "for i,op in enumerate(kraus_ops.data):\n",
    "    print(\"Kraus op no. \" + str(i) + \":\\n\")\n",
    "    print(op)\n",
    "    print(\"\\n\")"
   ]
  }
 ],
 "metadata": {
  "kernelspec": {
   "display_name": "Python 3 (ipykernel)",
   "language": "python",
   "name": "python3"
  },
  "language_info": {
   "codemirror_mode": {
    "name": "ipython",
    "version": 3
   },
   "file_extension": ".py",
   "mimetype": "text/x-python",
   "name": "python",
   "nbconvert_exporter": "python",
   "pygments_lexer": "ipython3",
   "version": "3.10.5"
  }
 },
 "nbformat": 4,
 "nbformat_minor": 5
}
