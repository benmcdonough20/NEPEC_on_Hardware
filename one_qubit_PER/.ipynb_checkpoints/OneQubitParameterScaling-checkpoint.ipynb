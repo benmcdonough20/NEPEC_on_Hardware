{
 "cells": [
  {
   "cell_type": "markdown",
   "id": "d66b584a",
   "metadata": {},
   "source": [
    "# Noise Parameter Scaling/Tuning\n",
    "\n",
    "I was having some trouble making the canonical noise scaling work, so I came up with an alternative method. This method takes advantage of the fact that since all of the $\\lambda_k(P_k\\rho P_k-\\rho)$ channels in the Lindbladian commute, a channel can be constructed to scale the parameters $\\lambda_k$ individually. \n",
    "\n",
    "The first part of the notebook shows how the parameters can be scaled uniformly to achieve an effect similar to canonical noise scaling. I called this method parameter scaling. The second part of the notebook shows how individual interaction parameters can be tuned to great/smaller than hardware noise, what I called noise tuning."
   ]
  },
  {
   "cell_type": "code",
   "execution_count": 1,
   "id": "f1dd5d11",
   "metadata": {},
   "outputs": [],
   "source": [
    "#helper libraries\n",
    "import numpy as np\n",
    "from numpy.random import rand\n",
    "import math\n",
    "import scipy.optimize\n",
    "import matplotlib.pyplot as plt\n",
    "\n",
    "#qiskit functionalities\n",
    "from qiskit import Aer, execute, QuantumCircuit, QuantumRegister, ClassicalRegister\n",
    "from qiskit.tools.visualization import plot_histogram\n",
    "\n",
    "#noise model stuff\n",
    "from qiskit.providers.aer.noise import NoiseModel, kraus_error, pauli_error\n",
    "    \n",
    "#operator info\n",
    "from qiskit.quantum_info import Pauli, Kraus"
   ]
  },
  {
   "cell_type": "markdown",
   "id": "2d316706",
   "metadata": {},
   "source": [
    "Parameters for the model"
   ]
  },
  {
   "cell_type": "code",
   "execution_count": 2,
   "id": "d75068a1",
   "metadata": {},
   "outputs": [],
   "source": [
    "T = [Pauli(\"X\"), Pauli(\"Y\"), Pauli(\"Z\")] #These are the terms considered in the model\n",
    "coeffs = [.05, .05, .05] #These are the corresponding lambdas\n",
    "omegas = np.multiply(.5, np.add(1, np.exp(np.multiply(-2.0, coeffs)))) #Equation (S9)\n",
    "overhead = np.exp(2.0*np.sum(coeffs)) #below Eq (5)"
   ]
  },
  {
   "cell_type": "markdown",
   "id": "3c7e2b13",
   "metadata": {},
   "source": [
    "Build the corresponding noise model for use in the simulations"
   ]
  },
  {
   "cell_type": "code",
   "execution_count": 3,
   "id": "e8ece0dd",
   "metadata": {},
   "outputs": [
    {
     "name": "stderr",
     "output_type": "stream",
     "text": [
      "/home/ben/.local/lib/python3.10/site-packages/qiskit/quantum_info/operators/channel/kraus.py:92: VisibleDeprecationWarning: Creating an ndarray from ragged nested sequences (which is a list-or-tuple of lists-or-tuples-or ndarrays with different lengths or shapes) is deprecated. If you meant to do this, you must specify 'dtype=object' when creating the ndarray.\n",
      "  if isinstance(data, np.ndarray) or np.array(data).ndim == 2:\n"
     ]
    }
   ],
   "source": [
    "kraus_ops = Kraus(np.identity(2)) #Start with identity map\n",
    "\n",
    "#Repeatedly compose (w_kI+(1-w_k)P_k) to get error channel as Kraus map\n",
    "for i in range(len(T)):\n",
    "    op = Kraus([T[i].to_matrix()*np.sqrt(1-omegas[i]),np.sqrt(omegas[i])*np.identity(2)]);\n",
    "    kraus_ops = kraus_ops.compose(op);\n",
    "\n",
    "kraus_error_channel = kraus_error(kraus_ops.data) #create kraus error channel from kraus map\n",
    "kraus_noise_model = NoiseModel() #create noise model from kraus error channel\n",
    "kraus_noise_model.add_all_qubit_quantum_error(kraus_error_channel, ['id', 'rx', 'ry', 'rz']) #add noise to all gates\n",
    "kraus_basis_gates = kraus_noise_model.basis_gates #get noisy basis gates"
   ]
  },
  {
   "cell_type": "markdown",
   "id": "7a7e37d7",
   "metadata": {},
   "source": [
    "## Parameter Noise Scaling\n",
    "\n",
    "I observed that the Sparse Pauli-Lindblad model gives rise to an intuitive definition of scaled noise by taking $\\lambda_k \\to \\lambda \\lambda_k$, where $\\lambda \\in [0,1]$ is the strength of the noise. Since all the terms in $\\mathcal{L}$ are mutually commuting,\n",
    "\n",
    "$$\n",
    "e^{\\lambda \\mathcal{L}(\\rho)} = e^{\\mathcal{L}(\\rho)-\\mathcal{L}(\\rho)}e^{\\lambda \\mathcal{L}(\\rho)} = \\Lambda(\\rho) e^{-(1-\\lambda)\\mathcal{L}(\\rho)}\n",
    "$$\n",
    "\n",
    "Let \n",
    "$$\n",
    "\\Lambda_{(\\lambda)}(\\rho) \\equiv e^{-(1-\\lambda)\\mathcal{L}(\\rho)}\n",
    "$$\n",
    "\n",
    "be the map that takes the noise to the desired strength. This map can be expanded into product form as before:\n",
    "\n",
    "$$\n",
    "\\Lambda_{(\\lambda)}(\\rho) = \\frac{1}{2}(e^{2(1-\\lambda)\\lambda_k}+1)\\rho-\\frac{1}{2}(e^{2(1-\\lambda)\\lambda_k}-1)P_k\\rho P_k\n",
    "$$\n",
    "\n",
    "When $\\lambda < 1$, it can be seen that $e^{2(1-\\lambda)\\lambda_k} > 1$, so the second term is negative. The overhead of the $k^\\text{th}$ term is then\n",
    "$$\n",
    "\\gamma_{(\\lambda)}^{(k)} = \\frac{1}{2}(e^{2(1-\\lambda)\\lambda_k}+1)+\\frac{1}{2}(e^{2(1-\\lambda)\\lambda_k}-1) = e^{2(1-\\lambda)\\lambda_k}\n",
    "$$\n",
    "And the total overhead is\n",
    "$$\n",
    "\\gamma_{(\\lambda)} = \\prod_{k \\in \\mathcal{T}} \\gamma_{(\\lambda)}^{(k)} = e^{2(1-\\lambda)\\sum_k\\lambda_k} = \\gamma^{1-\\lambda}\n",
    "$$\n",
    "The term $\\phi_k \\equiv \\frac{1}{2}(1+e^{-2(1-\\lambda)\\lambda_k})$ can be used to write the product in quasiprobability form:\n",
    "$$\n",
    "\\Lambda_{(\\lambda)}(\\rho) = \\gamma_{(\\lambda)}\\prod_{k\\in\\mathcal{T}} \\phi_k \\rho-(1-\\phi_k)P_k\\rho P_k\n",
    "$$\n",
    "The sampling can be accomplished with the same procedure as the inverse map. In the case where $\\lambda > 1$, then the second term in the sum is positive, and the product is already a probability distribution with overhead $1$.\n",
    "\n",
    "There is no natural limit to the scaling of this noise above hardware level. The largest error probability is\n",
    "$$\n",
    "\\prod_k \\frac{1}{2}(1-e^{-2(\\lambda-1)\\lambda_k}) < \\left(\\frac{1-e^{-2(\\lambda-1)\\lambda_{min}}}{2}\\right)^k <1\n",
    "$$\n",
    "Since $e^{-2(\\lambda-1)\\lambda_{min}}\\leq 1$ for all $\\lambda_{min}$, there is no upper bound on $\\lambda$."
   ]
  },
  {
   "cell_type": "code",
   "execution_count": 4,
   "id": "38c21758",
   "metadata": {},
   "outputs": [],
   "source": [
    "#Follow the procedure for sampling gates\n",
    "def uniform_noise_scaling(lmbda, samples, gate_to_mitigate):\n",
    "    \n",
    "    total = 0 #store the estimator\n",
    "    phis = .5*(np.exp(np.multiply(-2.0*np.abs(1-lmbda), coeffs))+1) #new adjusted coefficients\n",
    "    \n",
    "    if(lmbda < 1):\n",
    "        gamma = overhead**(1-gamma) #new overhead\n",
    "    else:\n",
    "        gamma = 1\n",
    "    \n",
    "    backend = Aer.get_backend('qasm_simulator') #getting closer to this being a real QPU\n",
    "    \n",
    "    for i in range(samples):\n",
    "        m = 1 #store the sign\n",
    "        op = gate_to_mitigate #start with the target gate\n",
    "        for (phi, Pk) in zip(phis, T):\n",
    "            if rand() < 1-phi: #sample the pauli with prob 1-phi\n",
    "                m*=-1\n",
    "                op = op.compose(Pk)\n",
    "                \n",
    "        qc = QuantumCircuit(1,1) \n",
    "        qc.append(op.to_instruction(),[0]) #apply combination of paulis in circuit\n",
    "        qc.measure(0,0)\n",
    "        \n",
    "        if(lmbda > 1): #no sign adjustments if noise is being scaled up\n",
    "            m = 1\n",
    "        \n",
    "        #run one shot of this circuit\n",
    "        counts = execute(qc, backend, noise_model=kraus_noise_model, \n",
    "                        basis_gates = kraus_basis_gates, shots = 1,\n",
    "                        optimization_level = 0).result().get_counts()\n",
    "        \n",
    "        total += (counts.get('0',0)-counts.get('1',0))*m #update estimator\n",
    "    \n",
    "    mitigated_value = total/samples*gamma #scale by overhead for final value\n",
    "    \n",
    "    return mitigated_value"
   ]
  },
  {
   "cell_type": "markdown",
   "id": "de8b681f",
   "metadata": {},
   "source": [
    "## Uniform scaling test\n",
    "\n",
    "Testing the uniform scaling method for different strengths of noise"
   ]
  },
  {
   "cell_type": "code",
   "execution_count": 14,
   "id": "69f137f6",
   "metadata": {},
   "outputs": [],
   "source": [
    "lmbdas = [0, .33, .66, 1, 1.33]\n",
    "mitigated_values_scaling = []\n",
    "samples = 4096\n",
    "#Run the procedure for each lambda\n",
    "for lmbda in lmbdas:\n",
    "    mitigated_value = uniform_noise_scaling(lmbda, samples, Pauli('X'))\n",
    "    mitigated_values_scaling.append(mitigated_value)\n",
    "    \n",
    "#get unmitigated value\n",
    "qc = QuantumCircuit(1,1)\n",
    "qc.x(0)\n",
    "qc.measure(0,0)\n",
    "backend = Aer.get_backend('qasm_simulator')\n",
    "counts = execute(qc, backend, noise_model=kraus_noise_model, \n",
    "                        basis_gates = kraus_basis_gates, shots = samples,\n",
    "                        optimization_level = 0).result().get_counts()\n",
    "\n",
    "unmitigated_value = (counts.get('0',0)-counts.get('1',0))/samples"
   ]
  },
  {
   "cell_type": "code",
   "execution_count": 15,
   "id": "11f5752c",
   "metadata": {},
   "outputs": [
    {
     "data": {
      "text/plain": [
       "<matplotlib.legend.Legend at 0x7f025574dc60>"
      ]
     },
     "execution_count": 15,
     "metadata": {},
     "output_type": "execute_result"
    },
    {
     "data": {
      "image/png": "[encoded data removed]",
      "text/plain": [
       "<Figure size 432x288 with 1 Axes>"
      ]
     },
     "metadata": {
      "needs_background": "light"
     },
     "output_type": "display_data"
    }
   ],
   "source": [
    "xrange = np.linspace(0, max(lmbdas), 100)\n",
    "mvs, = plt.plot(lmbdas, mitigated_values_scaling, 'go')\n",
    "iv, = plt.plot(xrange, [-1]*len(xrange), '-.')\n",
    "umv, = plt.plot(1, unmitigated_value, 'ro')\n",
    "plt.xlabel(\"Noise level\")\n",
    "plt.ylabel(\"Estimator value for %s shots\" %samples)\n",
    "plt.axvline(1)\n",
    "plt.title(\"Noise Level vs Estimator value\")\n",
    "plt.legend([umv, iv, mvs], ['Unmitigated value','Ideal value','Error-mitigated value'], loc=\"lower right\")"
   ]
  },
  {
   "cell_type": "markdown",
   "id": "4b1f3c6b",
   "metadata": {},
   "source": [
    "## Tunable Noise\n",
    "\n",
    "Another observation about this model is that each of the parameters can be tuned using the sampling method. Let\n",
    "$$\n",
    "\\mathcal{L}_{\\vec \\lambda}(\\rho) \\equiv \\sum_k \\lambda_k(P_k\\rho P_k-\\rho)\n",
    "$$\n",
    "Since all of the terms in $\\mathcal{L}_{\\vec \\lambda}$ and $\\mathcal{L}_{\\vec \\phi}$ commute with each other,\n",
    "$$\n",
    "\\exp(\\mathcal{L}_{\\vec \\lambda})\\exp(\\mathcal{L}_{\\vec \\phi-\\vec \\lambda}) = \\exp(\\mathcal{L}_{\\vec \\lambda})\\exp(-\\mathcal{L}_{\\vec \\lambda})\\exp(\\mathcal{L}_{\\vec \\phi}) = \\exp(\\mathcal{L}_{\\vec \\phi})\n",
    "$$\n",
    "The map $\\Lambda_{\\vec \\phi-\\vec \\lambda} = e^{\\mathcal{L}_{\\vec \\phi-\\vec \\lambda}}$ can be implemented to produce a noise model with individually tuned parameters. The product form is just as before:\n",
    "$$\n",
    "\\Lambda_{\\vec \\phi-\\vec \\lambda}(\\rho) = \\prod_k \\frac{1}{2}(1+e^{2(\\lambda_k-\\phi_k)})\\rho - \\frac{1}{2}(1-e^{2(\\lambda_k-\\phi_k)})P_k\\rho P_k\n",
    "$$\n",
    "Each of the terms can be scaled individually to give a QPD, resulting in the overhead\n",
    "$$\n",
    "\\gamma = \\prod_{\\{k \\ | \\ \\phi_k < \\lambda_k\\}} e^{2(\\lambda_k-\\phi_k)} = e^{2\\sum_{k \\ | \\ \\phi_k < \\lambda_k}\\lambda_k-\\phi_k}\n",
    "$$\n",
    "The procedure for sampling is as follows:\n",
    "1. Start with the identity map\n",
    "2. If $\\lambda_k > \\phi_k$ then...\n",
    "    1. Sample the identity with probability $\\frac{1}{2}(1+e^{-2(\\lambda_k-\\phi_k)})$ and $P_k$ otherwise\n",
    "    2. Compose the map into the operator to be applied\n",
    "    3. If $P_k$ was chosen, multiply $-1$ into instance scale factor\n",
    "3. If $\\lambda_k < \\phi_k$ then...\n",
    "    1. Sample the identity with probability $\\frac{1}{2}(1+e^{2(\\lambda_k-\\phi_k)})$ and $P_k$ otherwise\n",
    "    2. Compose the map into the operator to be applied\n",
    "    4. Run the circuit and don't scale the result\n",
    "4. Average all scaled runs together, and multiply by overhead"
   ]
  },
  {
   "cell_type": "code",
   "execution_count": 9,
   "id": "ee90633e",
   "metadata": {},
   "outputs": [],
   "source": [
    "def noise_tuning(target_coeffs, samples, gate_to_mitigate):\n",
    "    \n",
    "    total = 0 #the estimator\n",
    "    phis = [] #the adjusted coefficients\n",
    "    gamma = 1 #start at gamma=1\n",
    "    \n",
    "    for (lambdak, phik) in zip(coeffs, target_coeffs):\n",
    "        phis.append(.5*(1+math.exp(-2*np.abs(lambdak-phik)))) #the coefficients are always the same,\n",
    "                                                              #only the sign and the overhead change\n",
    "        if lambdak - phik > 0:\n",
    "            gamma *= math.exp(2*(lambdak-phik)) #if the parameter is scaled down, adjust overhead\n",
    "        \n",
    "    backend = Aer.get_backend('qasm_simulator')\n",
    "    \n",
    "    for i in range(samples):\n",
    "        m = 1 #storing the sign\n",
    "        op = gate_to_mitigate #target gate\n",
    "        for j in range(len(T)):\n",
    "            if rand() < 1-phis[j]: #sample according to the new distribution\n",
    "                if coeffs[j]-phis[j] > 0: #only change the sign if the parameter is scaled down\n",
    "                    m*=-1\n",
    "                op = op.compose(T[j])\n",
    "                \n",
    "        qc = QuantumCircuit(1,1) \n",
    "        qc.append(op.to_instruction(),[0]) #apply combination of paulis in circuit\n",
    "        qc.measure(0,0)\n",
    "        \n",
    "        #run one shot of this circuit\n",
    "        counts = execute(qc, backend, noise_model=kraus_noise_model, \n",
    "                        basis_gates = kraus_basis_gates, shots = 1,\n",
    "                        optimization_level = 0).result().get_counts()\n",
    "        \n",
    "        total += (counts.get('0',0)-counts.get('1',0))*m\n",
    "        \n",
    "    print(\"finished\") #at 20000+ shots for a six parameter sweep, this can take a while\n",
    "    return gamma*total/samples"
   ]
  },
  {
   "cell_type": "markdown",
   "id": "f8f5add3",
   "metadata": {},
   "source": [
    "To test out the parameter tuning, I ran the mitigation scheme with several target parameter sets. Then I created error models with the target coefficients, measured the expectation values, and compared them with the mitigated ones."
   ]
  },
  {
   "cell_type": "code",
   "execution_count": 10,
   "id": "bb94602c",
   "metadata": {},
   "outputs": [
    {
     "name": "stdout",
     "output_type": "stream",
     "text": [
      "finished\n",
      "finished\n",
      "finished\n"
     ]
    }
   ],
   "source": [
    "samples = 10000\n",
    "\n",
    "target_coeffs = [.1, 0, 0]\n",
    "mitigated_value_x = noise_tuning(target_coeffs, samples, Pauli('X'))\n",
    "\n",
    "target_coeffs = [0, .1, 0]\n",
    "mitigated_value_y = noise_tuning(target_coeffs, samples, Pauli('X'))\n",
    "\n",
    "target_coeffs = [0, 0, .1]\n",
    "mitigated_value_z = noise_tuning(target_coeffs, samples, Pauli('X'))"
   ]
  },
  {
   "cell_type": "code",
   "execution_count": 11,
   "id": "dc87a40f",
   "metadata": {},
   "outputs": [],
   "source": [
    "#quickly generate a noise model based on coefficients\n",
    "def get_noise_model(coeffs):\n",
    "    omegas = np.multiply(.5, np.add(1, np.exp(np.multiply(-2.0, coeffs))))\n",
    "    \n",
    "    kraus_ops = Kraus(np.identity(2)) #Start with identity map\n",
    "    \n",
    "    #Repeatedly compose (w_kI+(1-w_k)P_k) to get error channel as Kraus map\n",
    "    for i in range(len(T)):\n",
    "        op = Kraus([T[i].to_matrix()*np.sqrt(1-omegas[i]),np.sqrt(omegas[i])*np.identity(2)]);\n",
    "        kraus_ops = kraus_ops.compose(op);\n",
    "\n",
    "    kraus_error_channel = kraus_error(kraus_ops.data) #create kraus error channel from kraus map\n",
    "    kraus_noise_model = NoiseModel() #create noise model from kraus error channel\n",
    "    kraus_noise_model.add_all_qubit_quantum_error(kraus_error_channel, ['id', 'rx', 'ry', 'rz']) #add noise to all gates\n",
    "    \n",
    "    return kraus_noise_model\n",
    "\n",
    "#get the expectation value from a counts object\n",
    "def expectation(counts):\n",
    "    return (counts.get('0',0)-counts.get('1',0))/(counts.get('0',0)+counts.get('1',0))"
   ]
  },
  {
   "cell_type": "code",
   "execution_count": 12,
   "id": "59827e19",
   "metadata": {},
   "outputs": [
    {
     "name": "stderr",
     "output_type": "stream",
     "text": [
      "/home/ben/.local/lib/python3.10/site-packages/qiskit/quantum_info/operators/channel/kraus.py:92: VisibleDeprecationWarning: Creating an ndarray from ragged nested sequences (which is a list-or-tuple of lists-or-tuples-or ndarrays with different lengths or shapes) is deprecated. If you meant to do this, you must specify 'dtype=object' when creating the ndarray.\n",
      "  if isinstance(data, np.ndarray) or np.array(data).ndim == 2:\n"
     ]
    }
   ],
   "source": [
    "ideal_circuit = QuantumCircuit(1,1)\n",
    "ideal_circuit.x(0)\n",
    "ideal_circuit.measure(0,0);\n",
    "ideal_circuit.draw()\n",
    "\n",
    "#Try one noise model\n",
    "noise_model = get_noise_model([.1, 0, 0])\n",
    "job = execute(ideal_circuit, backend, noise_model = noise_model, basis_gates = noise_model.basis_gates, shots=10000)\n",
    "unmitigated_value_x = expectation(job.result().get_counts())\n",
    "\n",
    "#Try the second model\n",
    "noise_model = get_noise_model([0, .1, 0])\n",
    "job = execute(ideal_circuit, backend, noise_model = noise_model, basis_gates = noise_model.basis_gates, shots=10000)\n",
    "unmitigated_value_y = expectation(job.result().get_counts())\n",
    "\n",
    "#Try the last model\n",
    "noise_model = get_noise_model([0, 0, .1])\n",
    "job = execute(ideal_circuit, backend, noise_model = noise_model, basis_gates = noise_model.basis_gates, shots=10000)\n",
    "unmitigated_value_z = expectation(job.result().get_counts())"
   ]
  },
  {
   "cell_type": "markdown",
   "id": "877ad818",
   "metadata": {},
   "source": [
    "The graph below compares the tuned noise at hardware-level noise in comparison with the noise models constructed to match the tuning."
   ]
  },
  {
   "cell_type": "code",
   "execution_count": 13,
   "id": "a591ad66",
   "metadata": {},
   "outputs": [
    {
     "data": {
      "text/plain": [
       "Text(0.5, 1.0, 'Comparison of tuned channel with equivalent error channel')"
      ]
     },
     "execution_count": 13,
     "metadata": {},
     "output_type": "execute_result"
    },
    {
     "data": {
      "image/png": "[encoded data removed]",
      "text/plain": [
       "<Figure size 432x288 with 1 Axes>"
      ]
     },
     "metadata": {
      "needs_background": "light"
     },
     "output_type": "display_data"
    }
   ],
   "source": [
    "data = [[mitigated_value_x, mitigated_value_y, mitigated_value_z],\n",
    "[unmitigated_value_x, unmitigated_value_y, unmitigated_value_z]]\n",
    "X = np.arange(3)\n",
    "fig = plt.figure()\n",
    "ax = fig.add_axes([0,0,1,1])\n",
    "ax.set_xticks(X, ('X', 'Y', 'Z'))\n",
    "mitigated_bar = ax.bar(X + 0.00, data[0], color = 'b', width = 0.25)\n",
    "unmitigated_bar = ax.bar(X + 0.25, data[1], color = 'r', width = 0.25)\n",
    "fig.legend([mitigated_bar, unmitigated_bar], [\"Value after error tuning\", \"Equivalent error channel\"], loc=\"center right\")\n",
    "plt.xlabel(\"Amplified interaction\")\n",
    "plt.ylabel(\"Expectation value\")\n",
    "plt.title(\"Comparison of tuned channel with equivalent error channel\")"
   ]
  },
  {
   "cell_type": "markdown",
   "id": "b3c24688",
   "metadata": {},
   "source": [
    "## Analysis\n",
    "\n",
    "Even though I was not able to get the canonical noise scaling to work, there are still some comparisons to be made between this and the parameter scaling. Firstly, I found that the respective overheads,\n",
    "$$\n",
    "\\gamma_{ps} = \\gamma^{1-\\lambda} \\ \\ \\ \\ \\ \\ \\ \\gamma_{cns} = \\gamma-\\lambda(\\gamma-1)\n",
    "$$\n",
    "are approximately equal if $\\gamma \\approx 1$, so there is little overhead advantage to one over the other. One challenge I encountered in the canonical scaling method was separating the distribution into positive and negative volumes. The sampling method given in the text takes advantage of the product form of the channel for efficient sampling, and I could not figure out how to leverage this for canonical scaling. My best guess was to convert the channel to a Pauli channel and then sample from that, but that distribution scales as $4^n$, so it would not be efficient. The parameter scaling method supports efficient sampling.\n",
    "\n",
    "In the noise tuning method, I realized that the $Z$ errors did not affect the expectation value I was measuring. At high noise levels, omitting this parameter can benefit the overhead. I was happy to see the high agreement with the predicted values. I remember being skeptical when reading the NEPEC paper that noise could be tuned on individual gates, but this method would provide a way to scale up or down each interaction in the model on every gate or layer."
   ]
  }
 ],
 "metadata": {
  "kernelspec": {
   "display_name": "Python 3 (ipykernel)",
   "language": "python",
   "name": "python3"
  },
  "language_info": {
   "codemirror_mode": {
    "name": "ipython",
    "version": 3
   },
   "file_extension": ".py",
   "mimetype": "text/x-python",
   "name": "python",
   "nbconvert_exporter": "python",
   "pygments_lexer": "ipython3",
   "version": "3.10.4"
  }
 },
 "nbformat": 4,
 "nbformat_minor": 5
}
