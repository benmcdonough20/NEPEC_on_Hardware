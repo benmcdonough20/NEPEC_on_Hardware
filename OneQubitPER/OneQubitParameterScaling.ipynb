{
 "cells": [
  {
   "cell_type": "code",
   "execution_count": 79,
   "id": "f1dd5d11",
   "metadata": {},
   "outputs": [],
   "source": [
    "#helper libraries\n",
    "import numpy as np\n",
    "from numpy.random import rand\n",
    "import math\n",
    "import scipy.optimize\n",
    "import matplotlib.pyplot as plt\n",
    "\n",
    "#qiskit functionalities\n",
    "from qiskit import Aer, execute, QuantumCircuit, QuantumRegister, ClassicalRegister\n",
    "from qiskit.tools.visualization import plot_histogram\n",
    "\n",
    "#noise model stuff\n",
    "from qiskit.providers.aer.noise import NoiseModel, kraus_error, pauli_error\n",
    "    \n",
    "#operator info\n",
    "from qiskit.quantum_info import PauliList, Pauli, Kraus\n",
    "from qiskit.circuit.library import XGate\n",
    "\n",
    "import PauliExperimentHelperFunctions as pe"
   ]
  },
  {
   "cell_type": "code",
   "execution_count": 82,
   "id": "20d8350e",
   "metadata": {},
   "outputs": [
    {
     "name": "stdout",
     "output_type": "stream",
     "text": [
      "Manhattan distance between measured/ideal fidelity vectors:  0.00457\n",
      "Manhattan distance between measured/ideal model coefficients:  0.00263\n"
     ]
    }
   ],
   "source": [
    "n = 1 #Number of qubits\n",
    "F = PauliList(['I', 'X', 'Y', 'Z']) #list of paulis\n",
    "T = PauliList(['X', 'Y', 'Z']) #paulis considered in the model\n",
    "coeffs = [.01, .05, .0085] #model coefficients\n",
    "\n",
    "#Kraus error channel\n",
    "noise_model = pe.build_noise_model(F, T, coeffs, n)\n",
    "\n",
    "backend = Aer.get_backend('qasm_simulator')\n",
    "gate = XGate() #the gate to use for noise profiling\n",
    "folds = 40 #number of folds to fit noise\n",
    "shots = 4096 #number of shots for expectation values\n",
    "\n",
    "#generate the circuits with increasing numbers of folds\n",
    "circuits = pe.generate_circuits('X', gate, folds)\n",
    "#extract expectation values at each circuit depth\n",
    "xfidelities = pe.fidelity_experiment(circuits, backend, noise_model,shots)\n",
    "\n",
    "#repeat for <Y>\n",
    "circuits = pe.generate_circuits('Y', gate, folds)\n",
    "yfidelities = pe.fidelity_experiment(circuits, backend, noise_model,shots)\n",
    "\n",
    "#repeat for <Z>\n",
    "circuits = pe.generate_circuits('Z', gate, folds)\n",
    "zfidelities = pe.fidelity_experiment(circuits, backend, noise_model,shots)\n",
    "\n",
    "measured_fidelities = pe.learn_fidelities(xfidelities, yfidelities, zfidelities)\n",
    "#get the coefficients from the fit\n",
    "measured_coeffs = pe.learn_model_coefficients(measured_fidelities, F, T)\n",
    "\n",
    "def unzip(zippedlist):\n",
    "    return [a for (x,a) in zippedlist]\n",
    "\n",
    "def manhattannorm(a, b):\n",
    "    return np.sum(np.abs(np.subtract(a,b)))\n",
    "\n",
    "print(\"Manhattan distance between measured/ideal fidelity vectors: \", \"%.5f\" %manhattannorm(unzip(pe.get_ideal_fidelities(F, T, coeffs)), unzip(measured_fidelities)))\n",
    "print(\"Manhattan distance between measured/ideal model coefficients: \", \"%.5f\" %manhattannorm(unzip(measured_coeffs), coeffs))"
   ]
  },
  {
   "cell_type": "code",
   "execution_count": 93,
   "id": "2ac48262",
   "metadata": {},
   "outputs": [],
   "source": [
    "samples = 1000 #number of circuits toi sample\n",
    "\n",
    "overhead = np.exp(2*np.sum(coeffs)) #Compute the sampling overhead\n",
    "\n",
    "ideal_circuit = QuantumCircuit(qr, cr)\n",
    "ideal_circuit.x(0)\n",
    "ideal_circuit.measure(0,0); #expectation value "
   ]
  },
  {
   "cell_type": "code",
   "execution_count": 17,
   "id": "177c73f5",
   "metadata": {},
   "outputs": [
    {
     "name": "stdout",
     "output_type": "stream",
     "text": [
      "-0.8862\n"
     ]
    }
   ],
   "source": [
    "job = execute(ideal_circuit, backend, noise_model = kraus_noise_model, basis_gates = kraus_basis_gates, shots=10000)\n",
    "unmitigated_value = expectation(job.result().get_counts())\n",
    "print(unmitigated_value)"
   ]
  },
  {
   "cell_type": "code",
   "execution_count": 73,
   "id": "38c21758",
   "metadata": {},
   "outputs": [],
   "source": [
    "ideal_circuit = QuantumCircuit(qr, cr)\n",
    "ideal_circuit.x(0)\n",
    "\n",
    "#Follow the procedure for sampling gates\n",
    "def uniform_noise_scaling(lmbda, samples, ideal_circuit, measured_coeffs, backend, noise_model):\n",
    "    circuits = []\n",
    "    sgns = []\n",
    "\n",
    "    adjusted_omegas = .5*(np.exp(np.multiply(-2*(1-lmbda), measured_coeffs))+1)\n",
    "    \n",
    "    for i in range(samples):\n",
    "        m = 0 #m keeps track of the sign, with paulis carrying a negative sign\n",
    "        qc = ideal_circuit.copy()\n",
    "        op = Pauli('I')\n",
    "        for (omega, Pk) in zip(omegas, pauli_list):\n",
    "            #with probability 1-\\omega_k, sample the Pauli gate and compose into operator\n",
    "            if rand() < 1-omega:\n",
    "                m+=1\n",
    "                op = op.compose(Pk) #Wow I spent so long on this silly line\n",
    "        qc.barrier()\n",
    "        qc.append(op.to_instruction(),[0])\n",
    "        qc.barrier()\n",
    "        qc.measure(0,0)\n",
    "        circuits.append(qc)\n",
    "        sgns.append((-1)**m)\n",
    "    \n",
    "    \n",
    "    job = execute(circuits, backend, noise_model = noise_model, basis_gates = noise_model.basis_gates, shots = 1)\n",
    "    \n",
    "    overhead = math.exp(2*(1-lmbda)*np.sum(measured_coeffs))\n",
    "    \n",
    "    total = 0\n",
    "    for (count,sgn) in zip(job.result().get_counts(),sgns):\n",
    "        total += expectation(count)*sgn*overhead\n",
    "\n",
    "    mitigated_value = total/samples\n",
    "    \n",
    "    return mitigated_value"
   ]
  }
 ],
 "metadata": {
  "kernelspec": {
   "display_name": "Python 3 (ipykernel)",
   "language": "python",
   "name": "python3"
  },
  "language_info": {
   "codemirror_mode": {
    "name": "ipython",
    "version": 3
   },
   "file_extension": ".py",
   "mimetype": "text/x-python",
   "name": "python",
   "nbconvert_exporter": "python",
   "pygments_lexer": "ipython3",
   "version": "3.10.5"
  }
 },
 "nbformat": 4,
 "nbformat_minor": 5
}
