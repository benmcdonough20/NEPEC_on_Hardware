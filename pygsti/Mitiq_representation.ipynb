{
 "cells": [
  {
   "cell_type": "code",
   "execution_count": 330,
   "id": "b0348058",
   "metadata": {},
   "outputs": [],
   "source": [
    "from mitiq.pec import NoisyOperation, NoisyBasis \n",
    "import pickle\n",
    "from qiskit import QuantumCircuit\n",
    "from qiskit.quantum_info import SuperOp, Kraus, Operator\n",
    "import numpy as np\n",
    "from mitiq.pec.representations.optimal import find_optimal_representation\n",
    "from qiskit.circuit.library import RXGate, RZGate, XGate, YGate, ZGate, IGate\n",
    "from itertools import product\n",
    "\n",
    "np.set_printoptions(precision=3, suppress=True)"
   ]
  },
  {
   "cell_type": "code",
   "execution_count": 443,
   "id": "574a4f58",
   "metadata": {},
   "outputs": [],
   "source": [
    "with open(\"XZ.kraus\",\"rb\") as f:\n",
    "    krausops = pickle.load(f)\n",
    "\n",
    "krausops.append(np.identity(2)) #I did not get idle in the tomography!\n",
    "superops = [SuperOp(Kraus(k)) for k in krausops] #Convert to superoperators\n",
    "\n",
    "#Create a list of gates matching the ideal ones\n",
    "ideal_gates = [RXGate(-np.pi/2), RZGate(-np.pi/2)]"
   ]
  },
  {
   "cell_type": "code",
   "execution_count": 444,
   "id": "75a641f6",
   "metadata": {},
   "outputs": [],
   "source": [
    "def get_gate_sequences(len):\n",
    "    NoisyOperations = []\n",
    "    for string in product(zip(superops,ideal_gates), repeat=len):\n",
    "        qc = QuantumCircuit(1)\n",
    "        superop = SuperOp(np.identity(4))\n",
    "        for (noisy_op, ideal_op) in string:\n",
    "            qc.append(ideal_op,[0])\n",
    "            superop = superop.compose(noisy_op)\n",
    "        NoisyOperations.append(NoisyOperation(qc, superop.data))\n",
    "    \n",
    "    return NoisyOperations.copy()\n",
    "\n",
    "NoisyOperations = []\n",
    "for i in range(3):\n",
    "    NoisyOperations = np.concatenate((NoisyOperations, get_gate_sequences(i+1)))\n",
    "\n",
    "basis = NoisyBasis(*NoisyOperations)"
   ]
  },
  {
   "cell_type": "code",
   "execution_count": 447,
   "id": "0cb11217",
   "metadata": {},
   "outputs": [
    {
     "name": "stdout",
     "output_type": "stream",
     "text": [
      "q_0: ───Rx(-0.5π)─── = 0.009*(q_0: ───Rz(-0.5π)───Rx(-0.5π)───)+0.017*(q_0: ───Rx(-0.5π)───Rz(-0.5π)───)+0.005*(q_0: ───Rx(-0.5π)───Rz(-0.5π)───Rx(-0.5π)───)-0.006*(q_0: ───Rz(-0.5π)───Rz(-0.5π)───Rz(-0.5π)───)-0.002*(q_0: ───Rz(-0.5π)───Rz(-0.5π)───)+0.991*(q_0: ───Rx(-0.5π)───)-0.004*(q_0: ───Rx(-0.5π)───Rz(-0.5π)───Rz(-0.5π)───)\n"
     ]
    }
   ],
   "source": [
    "optimal_circuit = QuantumCircuit(1,1)\n",
    "optimal_circuit.rx(-np.pi/2,0)\n",
    "\n",
    "optimal_rep = find_optimal_representation(optimal_circuit, basis, tol=.01)\n",
    "print(optimal_rep)"
   ]
  },
  {
   "cell_type": "code",
   "execution_count": 448,
   "id": "f8034d0c",
   "metadata": {},
   "outputs": [
    {
     "name": "stdout",
     "output_type": "stream",
     "text": [
      "1.035708499454329\n"
     ]
    }
   ],
   "source": [
    "print(optimal_rep.norm)"
   ]
  },
  {
   "cell_type": "code",
   "execution_count": 449,
   "id": "2aef438d",
   "metadata": {},
   "outputs": [
    {
     "name": "stdout",
     "output_type": "stream",
     "text": [
      "[[ 0.506+0.j    -0.007-0.49j  -0.007+0.49j   0.502-0.j   ]\n",
      " [-0.003-0.492j  0.5  -0.01j   0.49 +0.007j  0.01 +0.49j ]\n",
      " [-0.003+0.492j  0.49 -0.007j  0.5  +0.01j   0.01 -0.49j ]\n",
      " [ 0.506-0.j     0.007+0.49j   0.007-0.49j   0.509+0.j   ]]\n"
     ]
    }
   ],
   "source": [
    "matrices = [m.channel_matrix for m in optimal_rep.noisy_operations]\n",
    "mat = sum(m*coeff for (m,coeff) in zip(matrices, optimal_rep.coeffs))\n",
    "print(mat)"
   ]
  },
  {
   "cell_type": "code",
   "execution_count": 370,
   "id": "b4113235",
   "metadata": {},
   "outputs": [
    {
     "name": "stdout",
     "output_type": "stream",
     "text": [
      "[[0.5+0.j  0. -0.5j 0. +0.5j 0.5+0.j ]\n",
      " [0. -0.5j 0.5+0.j  0.5+0.j  0. +0.5j]\n",
      " [0. +0.5j 0.5+0.j  0.5+0.j  0. -0.5j]\n",
      " [0.5+0.j  0. +0.5j 0. -0.5j 0.5+0.j ]]\n"
     ]
    }
   ],
   "source": [
    "print(SuperOp(RXGate(np.pi/2)).data)"
   ]
  },
  {
   "cell_type": "code",
   "execution_count": null,
   "id": "6819af0c",
   "metadata": {},
   "outputs": [],
   "source": []
  }
 ],
 "metadata": {
  "kernelspec": {
   "display_name": "Python 3.8.13 ('mitiq': conda)",
   "language": "python",
   "name": "python3"
  },
  "language_info": {
   "codemirror_mode": {
    "name": "ipython",
    "version": 3
   },
   "file_extension": ".py",
   "mimetype": "text/x-python",
   "name": "python",
   "nbconvert_exporter": "python",
   "pygments_lexer": "ipython3",
   "version": "3.8.13"
  },
  "vscode": {
   "interpreter": {
    "hash": "c7c859f551ac771d7ec7b66508341cbf372a533465b4e32d787c7352e7a7fb68"
   }
  }
 },
 "nbformat": 4,
 "nbformat_minor": 5
}
