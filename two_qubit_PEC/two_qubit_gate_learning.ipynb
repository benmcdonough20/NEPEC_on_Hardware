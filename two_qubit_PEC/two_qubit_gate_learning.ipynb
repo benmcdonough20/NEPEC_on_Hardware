{
 "cells": [
  {
   "cell_type": "markdown",
   "id": "482698b4",
   "metadata": {},
   "source": [
    "# Two-qubit gate learning with crosstalk\n",
    "This notebook is designed to test noise learning through two-qubit clifford gates with crosstalk. I still have questions about how to do this while simultaneously twirling the noise. This example uses a pauli-channel noise model."
   ]
  },
  {
   "cell_type": "code",
   "execution_count": 11,
   "id": "aad0d9ad",
   "metadata": {},
   "outputs": [],
   "source": [
    "from qiskit.quantum_info import Operator, Pauli \n",
    "from qiskit.circuit.library import CXGate, CZGate, HGate, SGate\n",
    "from qiskit import QuantumCircuit, Aer, execute\n",
    "from qiskit.providers.aer.noise import depolarizing_error, NoiseModel\n",
    "\n",
    "import numpy as np\n",
    "from random import choices\n",
    "from numpy.random import permutation\n",
    "import matplotlib.pyplot as plt\n",
    "from itertools import product\n",
    "from scipy.optimize import curve_fit"
   ]
  },
  {
   "cell_type": "code",
   "execution_count": 12,
   "id": "53276b18",
   "metadata": {},
   "outputs": [],
   "source": [
    "#convenient names for common operators\n",
    "I = Operator(np.identity(2))\n",
    "H = Operator(HGate())\n",
    "CX = Operator(CXGate())\n",
    "CZ = Operator(CZGate())\n",
    "X = Operator(Pauli('X'))\n",
    "Y = Operator(Pauli('Y'))\n",
    "Z = Operator(Pauli('Z'))\n",
    "S = Operator(SGate())\n",
    "IH = I.tensor(H)\n",
    "HI = H.tensor(I)\n",
    "\n",
    "#dimension of the system\n",
    "n = 2\n",
    "\n",
    "#iterate through all pauli strings and convert them to operators. indices are a convenient representation of ops\n",
    "names = [\"\".join(str) for str in product(['I', 'X', 'Y','Z'], repeat=n)]\n",
    "paulis = [Operator(Pauli(name)) for name in names]\n",
    "\n",
    "#match pauli names with operators, so pauli_dict[name] = Operator(Pauli(name))\n",
    "pauli_dict = dict(zip(names, paulis))\n",
    "\n",
    "#give this function a pauli matrix and it returns its name if it is on the list, e.g. \"XIYZ\"\n",
    "def get_name(pauli_op):\n",
    "    try:\n",
    "        #iterate through gates and check if they are equivalent up to global phase\n",
    "        return names[min([i for (i,gate) in enumerate(paulis) if pauli_op.equiv(gate)])]\n",
    "    except:\n",
    "        return -1\n",
    "\n",
    "#simplifying conjugating a pauli by a clifford\n",
    "def conjugate(op1, op2):\n",
    "    return op2.compose(op1).compose(op2.adjoint())\n",
    "\n",
    "#get a random pauli of a specified weight\n",
    "def sample_pauli(weight):\n",
    "    if weight > n:\n",
    "        return -1\n",
    "    return pauli_dict[\"\".join(permutation(choices(['X', 'Y','Z'], k=weight)+['I']*(n-weight)))]"
   ]
  },
  {
   "cell_type": "code",
   "execution_count": 13,
   "id": "6a204c14",
   "metadata": {},
   "outputs": [],
   "source": [
    "#generate all of the paulis with support on connected qubit pairs and on the single qubits\n",
    "def generate_paulis(adjacency_list, proc_size):\n",
    "    pauli_list = []\n",
    "    idPauli = ['I']*proc_size\n",
    "    \n",
    "    #get all single-weight paulis\n",
    "    for i in range(proc_size):\n",
    "        for op in ['X','Y','Z']:\n",
    "            pauli = idPauli.copy()\n",
    "            pauli[i] = op\n",
    "            pauli_list.append(\"\".join(pauli))\n",
    "\n",
    "    #get all weight-two paulis on nieghboring qubits\n",
    "    for (qubit1, qubit2) in adjacency_list:\n",
    "        for pauli1, pauli2 in product(['X','Y','Z'], repeat =2):\n",
    "            pauli = idPauli.copy()\n",
    "            pauli[qubit1] = pauli1\n",
    "            pauli[qubit2] = pauli2\n",
    "            pauli_list.append(\"\".join(pauli))\n",
    "\n",
    "    return pauli_list"
   ]
  },
  {
   "cell_type": "code",
   "execution_count": 14,
   "id": "bc9a94aa",
   "metadata": {},
   "outputs": [
    {
     "name": "stdout",
     "output_type": "stream",
     "text": [
      "['XI', 'YI', 'ZI', 'IX', 'IY', 'IZ', 'XX', 'XY', 'XZ', 'YX', 'YY', 'YZ', 'ZX', 'ZY', 'ZZ']\n"
     ]
    }
   ],
   "source": [
    "#create a small two-qubit model to begin testing\n",
    "small_proc = [(0,1)]\n",
    "pauli_group = generate_paulis(small_proc, 2)\n",
    "print(pauli_group)"
   ]
  },
  {
   "cell_type": "code",
   "execution_count": 15,
   "id": "7eabed0c",
   "metadata": {},
   "outputs": [],
   "source": [
    "#Unitaries mapping from the Z basis to desired pauli\n",
    "BASIS_CHANGE = {'I':I, 'Z':I, 'X':H, 'Y':H.compose(S)}\n",
    "\n",
    "#change from Z to the eigenvasis of desired pauli operator\n",
    "def change_basis(pauli_str):\n",
    "    op = Operator([1])\n",
    "    for char in pauli_str:\n",
    "        #tensor together individual basis changes\n",
    "        op = op.tensor(BASIS_CHANGE[char])\n",
    "    return op\n",
    "\n",
    "#map from pauli eigenbasis back to Z\n",
    "def change_basis_back(pauli_str):\n",
    "    op = Operator([1])\n",
    "    for char in pauli_str:\n",
    "        #tensor together the inverse of the basis changes\n",
    "        op = op.tensor(BASIS_CHANGE[char].adjoint())\n",
    "    return op"
   ]
  },
  {
   "cell_type": "code",
   "execution_count": 16,
   "id": "1a933711",
   "metadata": {},
   "outputs": [],
   "source": [
    "def get_expectation(qc, pa, shots, backend):\n",
    "    qc.append(change_basis_back(pa), range(len(pa)))\n",
    "    qc.measure_all()\n",
    "    counts = execute(qc, backend, shots = shots).result().get_counts()\n",
    "    results = list(counts.keys())\n",
    "    freqs = list(counts.values())\n",
    "    pa = [{'I':'0'}.get(p, '1') for p in pa]\n",
    "    for i in range(len(results)):\n",
    "        results[i] = 1-2*(np.sum([{('1','1'):1}.get(item, 0) for item in zip(results[i], pa[::-1])])%2)\n",
    "    return np.sum([res * freq for res,freq in zip(results, freqs)])/shots"
   ]
  },
  {
   "cell_type": "markdown",
   "id": "45eb37c7",
   "metadata": {},
   "source": [
    "## Measurement procedure"
   ]
  },
  {
   "cell_type": "code",
   "execution_count": 17,
   "id": "99bbaa5a",
   "metadata": {},
   "outputs": [],
   "source": [
    "p = .01\n",
    "num = len(pauli_group)\n",
    "onequbit_error = depolarizing_error(p, 1)\n",
    "twoqubit_error = depolarizing_error(p, 2)\n",
    "error_model = NoiseModel()\n",
    "error_model.add_all_qubit_quantum_error(onequbit_error, ['id','rz', 'sx', 'u1', 'u2', 'u3'])\n",
    "error_model.add_all_qubit_quantum_error(twoqubit_error, ['cx','cz'])\n",
    "basis_gates = error_model.basis_gates"
   ]
  },
  {
   "cell_type": "code",
   "execution_count": 18,
   "id": "ffe19434",
   "metadata": {},
   "outputs": [],
   "source": [
    "SHOTS = 10000\n",
    "gate_to_benchmark = CX\n",
    "\n",
    "#get the expectation value of a pauli operator\n",
    "def get_expectation(circuit, pauli_str):\n",
    "    #switch basis and measure in Z basis\n",
    "    circ = circuit.copy()\n",
    "    circ.append(change_basis_back(pauli_str), range(len(pauli_str)))\n",
    "    circ.measure_all()\n",
    "    #create backend\n",
    "    backend = Aer.get_backend('qasm_simulator')\n",
    "    #extract counts from potentially noisy backend\n",
    "    counts = execute(circ, backend, shots = SHOTS, noise_model = error_model, basis_gates = basis_gates, optimization_level=0).result().get_counts()\n",
    "    #get expectation value\n",
    "    total = 0\n",
    "    for key in counts.keys():\n",
    "        #compute overlap between key and P_z(i) to weight counts. If even, 1, if odd, -1\n",
    "        total += (1-2*(np.sum([int(key_bit)*int({'I':'0'}.get(pauli_bit, '1')) for (key_bit,pauli_bit) in zip(key, pauli_str)])%2))*counts[key]\n",
    "    return total/SHOTS\n",
    "\n",
    "#measure the fidelity of a pauli operator after folding the noisy gate a certain number of times\n",
    "def measure_fidelity(pauli, folds):\n",
    "    dim = len(pauli)\n",
    "    op_dim = int(np.log2(gate_to_benchmark.dim[0]))\n",
    "    total = 0\n",
    "\n",
    "    qc = QuantumCircuit(2)\n",
    "    qc.append(change_basis(pauli),range(dim))\n",
    "\n",
    "    for i in range(folds):\n",
    "        qc.append(gate_to_benchmark, range(op_dim))\n",
    "        qc.append(gate_to_benchmark, range(op_dim))\n",
    "\n",
    "    return get_expectation(qc,pauli)\n",
    "    \n",
    "#exponential fit fidelity vs number of folds\n",
    "def fit_fidelity(pauli, max_folds, precision):\n",
    "    fidelities = []\n",
    "    for folds in range(0,max_folds,precision):\n",
    "        fidelities.append(measure_fidelity(pauli, folds))\n",
    "    #with twirled readout, dividing by the first measurement will give a SPAM-free estimate\n",
    "    fidelities = [fid/fidelities[0] for fid in fidelities]\n",
    "    xrange = range(0,max_folds*2, precision*2)\n",
    "    #fit an exponential to the data\n",
    "    popt, pcov = curve_fit(lambda x,a: np.exp(-a*x), xrange, fidelities, p0=[.01])\n",
    "    return popt, fidelities\n",
    "\n",
    "def progressBar (iteration, total, prefix = '', suffix = '', decimals = 1, length = 100, fill = '█', printEnd = \"\\r\"):\n",
    "    # Displays a nice progress bar\n",
    "    percent = (\"{0:.\" + str(decimals) + \"f}\").format(100 * (iteration / float(total)))\n",
    "    filledLength = int(length * iteration // total)\n",
    "    bar = fill * filledLength + '-' * (length - filledLength)\n",
    "    print(f'\\r{prefix} |{bar}| {percent}% {suffix}', end = printEnd)\n",
    "    if iteration == total: \n",
    "        print()\n",
    "\n",
    "#Run the fidelity fitting procedure for every poauli in the model\n",
    "def generate_full_fidelity_list(max_folds, precision):\n",
    "    fidelities = []\n",
    "    progressBar(0, len(pauli_group))\n",
    "    for i,pauli in enumerate(pauli_group):\n",
    "        fidelities.append(fit_fidelity(pauli, max_folds, precision)[0][0])\n",
    "        progressBar(i+1, len(pauli_group))\n",
    "    return np.exp(np.multiply(-1, fidelities))"
   ]
  },
  {
   "cell_type": "code",
   "execution_count": 19,
   "id": "fa9a2f05",
   "metadata": {},
   "outputs": [
    {
     "data": {
      "text/plain": [
       "[<matplotlib.lines.Line2D at 0x7f5c7de8e4d0>]"
      ]
     },
     "execution_count": 19,
     "metadata": {},
     "output_type": "execute_result"
    },
    {
     "data": {
      "image/png": "[encoded data removed]",
      "text/plain": [
       "<Figure size 432x288 with 1 Axes>"
      ]
     },
     "metadata": {
      "needs_background": "light"
     },
     "output_type": "display_data"
    }
   ],
   "source": [
    "prec =  8 #precision\n",
    "max_folds = 40 #max number of folds\n",
    "coeffs, fidelities = fit_fidelity(\"XY\", max_folds, prec) #try for single pauli \"XY\"\n",
    "\n",
    "xrange = np.linspace(0, max_folds*2, 100) #as a function of circuit depth\n",
    "plt.plot(xrange, [np.exp(-coeffs[0]*x) for x in xrange],'b.-') #plot fit\n",
    "plt.plot(range(0,max_folds*2, prec*2), fidelities, 'ro') #plot data"
   ]
  },
  {
   "cell_type": "code",
   "execution_count": 20,
   "id": "74ca7f2a",
   "metadata": {},
   "outputs": [
    {
     "name": "stdout",
     "output_type": "stream",
     "text": [
      " |████████████████████████████████████████████████████████████████████████████████████████████████████| 100.0% \n"
     ]
    },
    {
     "data": {
      "image/png": "[encoded data removed]",
      "text/plain": [
       "<Figure size 720x360 with 1 Axes>"
      ]
     },
     "metadata": {
      "needs_background": "light"
     },
     "output_type": "display_data"
    }
   ],
   "source": [
    "#run the procedure for all paulis in the list\n",
    "f = generate_full_fidelity_list(10, 2)\n",
    "p_group_permuted = [get_name(conjugate(pauli_dict[pauli], gate_to_benchmark)) for pauli in pauli_group]\n",
    "fig, ax = plt.subplots()\n",
    "ax.bar(range(len(pauli_group)), f)\n",
    "ax.set_xticks(range(len(pauli_group)), [p1+\"*\"+p2 for p1,p2 in zip(pauli_group, p_group_permuted)]);\n",
    "fig.set_size_inches(10, 5, forward=True)"
   ]
  },
  {
   "cell_type": "code",
   "execution_count": 38,
   "id": "3aecce4f",
   "metadata": {},
   "outputs": [
    {
     "name": "stdout",
     "output_type": "stream",
     "text": [
      "[0.00273 0.00321 0.00325 0.00318 0.00329 0.00286 0.      0.      0.00027\n",
      " 0.00045 0.00069 0.      0.      0.      0.     ]\n",
      "['XI', 'YI', 'ZI', 'IX', 'IY', 'IZ', 'XX', 'XY', 'XZ', 'YX', 'YY', 'YZ', 'ZX', 'ZY', 'ZZ']\n"
     ]
    }
   ],
   "source": [
    "import scipy\n",
    "np.set_printoptions(precision=5, suppress=False)\n",
    "\n",
    "def s_prod(a,b):\n",
    "    return {True:0, False:1}[Pauli(a).commutes(Pauli(b))]\n",
    "\n",
    "M1 = [[s_prod(a,b) for a in pauli_group] for b in pauli_group]\n",
    "M2 = [[s_prod(a,b) for a in p_group_permuted] for b in pauli_group]\n",
    "#This should be invertible, but it is not\n",
    "M = np.add(M1, M2)\n",
    "\n",
    "model_coeffs, fit = scipy.optimize.nnls(M, -.5*np.log(f)) \n",
    "print(model_coeffs)\n",
    "print(pauli_group)"
   ]
  },
  {
   "cell_type": "code",
   "execution_count": 37,
   "id": "f064f111",
   "metadata": {},
   "outputs": [
    {
     "ename": "LinAlgError",
     "evalue": "Singular matrix",
     "output_type": "error",
     "traceback": [
      "\u001b[0;31m---------------------------------------------------------------------------\u001b[0m",
      "\u001b[0;31mLinAlgError\u001b[0m                               Traceback (most recent call last)",
      "\u001b[1;32m/home/ben/Documents/NEPEC_on_Hardware/two_qubit_PEC/two_qubit_gate_learning.ipynb Cell 14\u001b[0m in \u001b[0;36m<cell line: 1>\u001b[0;34m()\u001b[0m\n\u001b[0;32m----> <a href='vscode-notebook-cell:/home/ben/Documents/NEPEC_on_Hardware/two_qubit_PEC/two_qubit_gate_learning.ipynb#ch0000013?line=0'>1</a>\u001b[0m np\u001b[39m.\u001b[39;49mlinalg\u001b[39m.\u001b[39;49minv(np\u001b[39m.\u001b[39;49madd(M1,M2))\n",
      "File \u001b[0;32m<__array_function__ internals>:180\u001b[0m, in \u001b[0;36minv\u001b[0;34m(*args, **kwargs)\u001b[0m\n",
      "File \u001b[0;32m~/.local/lib/python3.10/site-packages/numpy/linalg/linalg.py:545\u001b[0m, in \u001b[0;36minv\u001b[0;34m(a)\u001b[0m\n\u001b[1;32m    543\u001b[0m signature \u001b[39m=\u001b[39m \u001b[39m'\u001b[39m\u001b[39mD->D\u001b[39m\u001b[39m'\u001b[39m \u001b[39mif\u001b[39;00m isComplexType(t) \u001b[39melse\u001b[39;00m \u001b[39m'\u001b[39m\u001b[39md->d\u001b[39m\u001b[39m'\u001b[39m\n\u001b[1;32m    544\u001b[0m extobj \u001b[39m=\u001b[39m get_linalg_error_extobj(_raise_linalgerror_singular)\n\u001b[0;32m--> 545\u001b[0m ainv \u001b[39m=\u001b[39m _umath_linalg\u001b[39m.\u001b[39;49minv(a, signature\u001b[39m=\u001b[39;49msignature, extobj\u001b[39m=\u001b[39;49mextobj)\n\u001b[1;32m    546\u001b[0m \u001b[39mreturn\u001b[39;00m wrap(ainv\u001b[39m.\u001b[39mastype(result_t, copy\u001b[39m=\u001b[39m\u001b[39mFalse\u001b[39;00m))\n",
      "File \u001b[0;32m~/.local/lib/python3.10/site-packages/numpy/linalg/linalg.py:88\u001b[0m, in \u001b[0;36m_raise_linalgerror_singular\u001b[0;34m(err, flag)\u001b[0m\n\u001b[1;32m     87\u001b[0m \u001b[39mdef\u001b[39;00m \u001b[39m_raise_linalgerror_singular\u001b[39m(err, flag):\n\u001b[0;32m---> 88\u001b[0m     \u001b[39mraise\u001b[39;00m LinAlgError(\u001b[39m\"\u001b[39m\u001b[39mSingular matrix\u001b[39m\u001b[39m\"\u001b[39m)\n",
      "\u001b[0;31mLinAlgError\u001b[0m: Singular matrix"
     ]
    }
   ],
   "source": [
    "np.linalg.inv(np.add(M1,M2))"
   ]
  },
  {
   "cell_type": "code",
   "execution_count": null,
   "id": "fed922bf",
   "metadata": {},
   "outputs": [
    {
     "data": {
      "text/plain": [
       "'XX'"
      ]
     },
     "execution_count": 23,
     "metadata": {},
     "output_type": "execute_result"
    }
   ],
   "source": [
    "get_name(conjugate(Pauli('IX').to_matrix(), CX))"
   ]
  },
  {
   "cell_type": "code",
   "execution_count": 25,
   "id": "8092fdbe",
   "metadata": {},
   "outputs": [
    {
     "data": {
      "text/plain": [
       "[('XI', 'XI'),\n",
       " ('YI', 'YZ'),\n",
       " ('ZI', 'ZZ'),\n",
       " ('IX', 'XX'),\n",
       " ('IY', 'XY'),\n",
       " ('IZ', 'IZ'),\n",
       " ('XX', 'IX'),\n",
       " ('XY', 'IY'),\n",
       " ('XZ', 'XZ'),\n",
       " ('YX', 'ZY'),\n",
       " ('YY', 'ZX'),\n",
       " ('YZ', 'YI'),\n",
       " ('ZX', 'YY'),\n",
       " ('ZY', 'YX'),\n",
       " ('ZZ', 'ZI')]"
      ]
     },
     "execution_count": 25,
     "metadata": {},
     "output_type": "execute_result"
    }
   ],
   "source": [
    "list(zip(pauli_group, p_group_permuted))"
   ]
  },
  {
   "cell_type": "code",
   "execution_count": 76,
   "id": "9b8a970f",
   "metadata": {},
   "outputs": [],
   "source": [
    "reduced_p_group = pauli_group\n",
    "for i,(p,r) in enumerate(zip(pauli_group, p_group_permuted)):\n",
    "    if 'I' in p or 'I' in r:\n",
    "        reduced_p_group[i] = r"
   ]
  },
  {
   "cell_type": "code",
   "execution_count": 77,
   "id": "0e1f5405",
   "metadata": {},
   "outputs": [
    {
     "data": {
      "text/plain": [
       "['XI',\n",
       " 'YZ',\n",
       " 'ZZ',\n",
       " 'XX',\n",
       " 'XY',\n",
       " 'IZ',\n",
       " 'IX',\n",
       " 'IY',\n",
       " 'XZ',\n",
       " 'YX',\n",
       " 'YY',\n",
       " 'YI',\n",
       " 'ZX',\n",
       " 'ZY',\n",
       " 'ZI']"
      ]
     },
     "execution_count": 77,
     "metadata": {},
     "output_type": "execute_result"
    }
   ],
   "source": [
    "reduced_p_group"
   ]
  },
  {
   "cell_type": "code",
   "execution_count": 80,
   "id": "4f24e65b",
   "metadata": {},
   "outputs": [],
   "source": [
    "M1 = [[s_prod(a,b) for a in pauli_group] for b in pauli_group]\n",
    "M2 = [[s_prod(a,b) for a in reduced_p_group] for b in pauli_group]"
   ]
  },
  {
   "cell_type": "code",
   "execution_count": 81,
   "id": "95fa85bc",
   "metadata": {},
   "outputs": [
    {
     "data": {
      "text/plain": [
       "array([[-0.0625,  0.0625,  0.0625, -0.0625, -0.0625, -0.0625, -0.0625,\n",
       "        -0.0625, -0.0625,  0.0625,  0.0625,  0.0625,  0.0625,  0.0625,\n",
       "         0.0625],\n",
       "       [ 0.0625, -0.0625,  0.0625, -0.0625, -0.0625, -0.0625,  0.0625,\n",
       "         0.0625,  0.0625,  0.0625,  0.0625, -0.0625, -0.0625, -0.0625,\n",
       "         0.0625],\n",
       "       [ 0.0625,  0.0625, -0.0625, -0.0625, -0.0625, -0.0625,  0.0625,\n",
       "         0.0625,  0.0625, -0.0625, -0.0625,  0.0625,  0.0625,  0.0625,\n",
       "        -0.0625],\n",
       "       [-0.0625, -0.0625, -0.0625, -0.0625,  0.0625,  0.0625, -0.0625,\n",
       "         0.0625,  0.0625,  0.0625, -0.0625,  0.0625,  0.0625, -0.0625,\n",
       "         0.0625],\n",
       "       [-0.0625, -0.0625, -0.0625,  0.0625, -0.0625,  0.0625,  0.0625,\n",
       "        -0.0625,  0.0625, -0.0625,  0.0625,  0.0625, -0.0625,  0.0625,\n",
       "         0.0625],\n",
       "       [-0.0625, -0.0625, -0.0625,  0.0625,  0.0625, -0.0625,  0.0625,\n",
       "         0.0625, -0.0625,  0.0625,  0.0625, -0.0625,  0.0625,  0.0625,\n",
       "        -0.0625],\n",
       "       [-0.0625,  0.0625,  0.0625, -0.0625,  0.0625,  0.0625, -0.0625,\n",
       "         0.0625,  0.0625, -0.0625,  0.0625, -0.0625, -0.0625,  0.0625,\n",
       "        -0.0625],\n",
       "       [-0.0625,  0.0625,  0.0625,  0.0625, -0.0625,  0.0625,  0.0625,\n",
       "        -0.0625,  0.0625,  0.0625, -0.0625, -0.0625,  0.0625, -0.0625,\n",
       "        -0.0625],\n",
       "       [-0.0625,  0.0625,  0.0625,  0.0625,  0.0625, -0.0625,  0.0625,\n",
       "         0.0625, -0.0625, -0.0625, -0.0625,  0.0625, -0.0625, -0.0625,\n",
       "         0.0625],\n",
       "       [ 0.0625,  0.0625, -0.0625,  0.0625, -0.0625,  0.0625, -0.0625,\n",
       "         0.0625, -0.0625, -0.0625,  0.0625, -0.0625,  0.0625, -0.0625,\n",
       "         0.0625],\n",
       "       [ 0.0625,  0.0625, -0.0625, -0.0625,  0.0625,  0.0625,  0.0625,\n",
       "        -0.0625, -0.0625,  0.0625, -0.0625, -0.0625, -0.0625,  0.0625,\n",
       "         0.0625],\n",
       "       [ 0.0625, -0.0625,  0.0625,  0.0625,  0.0625, -0.0625, -0.0625,\n",
       "        -0.0625,  0.0625, -0.0625, -0.0625, -0.0625,  0.0625,  0.0625,\n",
       "         0.0625],\n",
       "       [ 0.0625, -0.0625,  0.0625,  0.0625, -0.0625,  0.0625, -0.0625,\n",
       "         0.0625, -0.0625,  0.0625, -0.0625,  0.0625, -0.0625,  0.0625,\n",
       "        -0.0625],\n",
       "       [ 0.0625, -0.0625,  0.0625, -0.0625,  0.0625,  0.0625,  0.0625,\n",
       "        -0.0625, -0.0625, -0.0625,  0.0625,  0.0625,  0.0625, -0.0625,\n",
       "        -0.0625],\n",
       "       [ 0.0625,  0.0625, -0.0625,  0.0625,  0.0625, -0.0625, -0.0625,\n",
       "        -0.0625,  0.0625,  0.0625,  0.0625,  0.0625, -0.0625, -0.0625,\n",
       "        -0.0625]])"
      ]
     },
     "execution_count": 81,
     "metadata": {},
     "output_type": "execute_result"
    }
   ],
   "source": [
    "np.linalg.inv(np.add(M1,M2))"
   ]
  },
  {
   "cell_type": "code",
   "execution_count": 72,
   "id": "7f2c650b",
   "metadata": {},
   "outputs": [
    {
     "data": {
      "text/plain": [
       "'ZX'"
      ]
     },
     "execution_count": 72,
     "metadata": {},
     "output_type": "execute_result"
    }
   ],
   "source": [
    "get_name(conjugate(Pauli('YY').to_matrix(), Operator(np.kron(H.compose(S.adjoint()),S.adjoint()))))"
   ]
  }
 ],
 "metadata": {
  "kernelspec": {
   "display_name": "Python 3.10.4 ('qiskit_env')",
   "language": "python",
   "name": "python3"
  },
  "language_info": {
   "codemirror_mode": {
    "name": "ipython",
    "version": 3
   },
   "file_extension": ".py",
   "mimetype": "text/x-python",
   "name": "python",
   "nbconvert_exporter": "python",
   "pygments_lexer": "ipython3",
   "version": "3.10.4"
  },
  "vscode": {
   "interpreter": {
    "hash": "d4803144e0ca2433cbbdbc82809c7bf0c6dd86d5d16291a48205e2d911513c87"
   }
  }
 },
 "nbformat": 4,
 "nbformat_minor": 5
}
