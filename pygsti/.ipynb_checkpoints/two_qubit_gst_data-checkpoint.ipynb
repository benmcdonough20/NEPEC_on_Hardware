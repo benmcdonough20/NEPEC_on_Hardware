{
 "cells": [
  {
   "cell_type": "markdown",
   "metadata": {},
   "source": [
    "# GST data acquisition"
   ]
  },
  {
   "cell_type": "code",
   "execution_count": 16,
   "metadata": {},
   "outputs": [],
   "source": [
    "#PyGSTi tools\n",
    "import pygsti\n",
    "\n",
    "#pre-built gateset to use\n",
    "from pygsti.modelpacks import smq2Q_XYICPHASE\n",
    "from pygsti.data.dataset import DataSet\n",
    "from pygsti.io.writers import write_dataset\n",
    "\n",
    "from pyquil import Program, get_qc\n",
    "\n",
    "#python helper libraries\n",
    "from multiprocessing.pool import ThreadPool\n",
    "import time\n",
    "import numpy as np\n",
    "import pickle"
   ]
  },
  {
   "cell_type": "markdown",
   "metadata": {},
   "source": [
    "## Create experiment design"
   ]
  },
  {
   "cell_type": "code",
   "execution_count": 11,
   "metadata": {},
   "outputs": [],
   "source": [
    "target_model = smq2Q_XYICPHASE.target_model()      # a Model object\n",
    "prep_fiducials = smq2Q_XYICPHASE.prep_fiducials()  # preparation circuits\n",
    "meas_fiducials = smq2Q_XYICPHASE.meas_fiducials()  # measurement circuits\n",
    "germs = smq2Q_XYICPHASE.germs()                    # circuits repeated to amplify noise\n",
    "maxLengths = [1,2,4,8,16,32]\n",
    "exp_design = pygsti.protocols.StandardGSTDesign(target_model, \n",
    "                                                prep_fiducials, \n",
    "                                                meas_fiducials,\n",
    "                                                germs, maxLengths) #stores data structure of experiment\n",
    "\n",
    "exp_design.all_circuits_needing_data\n",
    "circuits = list(exp_design.all_circuits_needing_data) #Get list of circuits"
   ]
  },
  {
   "cell_type": "markdown",
   "metadata": {},
   "source": [
    "Write empty protocol data, to be filled with experimental data"
   ]
  },
  {
   "cell_type": "code",
   "execution_count": 14,
   "metadata": {},
   "outputs": [],
   "source": [
    "pygsti.io.write_empty_protocol_data('experiment_data/rigetti_XYICPHASE_data', exp_design, clobber_ok=True)\n",
    "with open(\"circuits.pickle\", \"wb\") as f:\n",
    "    pickle.dump(circuits, f)"
   ]
  },
  {
   "cell_type": "markdown",
   "metadata": {},
   "source": [
    "This next cell loads the qpu. The `execution_timeout` and `compiler_timeout` were necessary to handle queueing in the parallel pool. "
   ]
  },
  {
   "cell_type": "code",
   "execution_count": 15,
   "metadata": {},
   "outputs": [],
   "source": [
    "#Get QPU. Replace with simulator if no reservation\n",
    "qpu = get_qc(\"Aspen-11\", \n",
    "             execution_timeout = 100000, \n",
    "             compiler_timeout = 100000) #I thought 27 hours seemed like a reasonable timeout"
   ]
  },
  {
   "cell_type": "markdown",
   "metadata": {},
   "source": [
    "The `circ_fname` function is a terrible last-minute fix designed like a bijective hash between circuits and filenames within the system filename character limit. These files hold the pickled binaries."
   ]
  },
  {
   "cell_type": "code",
   "execution_count": 23,
   "metadata": {},
   "outputs": [
    {
     "name": "stdout",
     "output_type": "stream",
     "text": [
      "2.1185951232910156\r"
     ]
    }
   ],
   "source": [
    "shots = 1000 #number of shots for each circuit. This was the default value\n",
    "num_circs = len(circuits)\n",
    "\n",
    "start_time = time.time()\n",
    "start_idx = 3660\n",
    "\n",
    "for i in range(start_idx, num_circs):\n",
    "    start_time = time.time()\n",
    "    #convert pyGSTi circuit to quil program. add active reset to speed up execution\n",
    "    prog = Program(\"RESET\", circ.convert_to_quil()).wrap_in_numshots_loop(shots)\n",
    "    executable = qpu.compile(prog) #compile for target QPU\n",
    "    with open(\"XYICPHASEdata/\"+str(i)+\".pickle\", \"wb\") as f:\n",
    "        pickle.dump(executable,f)\n",
    "    print(time.time()-start_time, end='\\r')"
   ]
  },
  {
   "cell_type": "markdown",
   "metadata": {},
   "source": [
    "The compilation ended up being the bottleneck by far. The QPU runs jobs extremely quickly. It better at $40 per minute."
   ]
  },
  {
   "cell_type": "code",
   "execution_count": null,
   "metadata": {},
   "outputs": [],
   "source": [
    "results = []\n",
    "\n",
    "#Run the program in the file identified by 'circ' and return results\n",
    "def run(circ):\n",
    "    \n",
    "    with open(circ_fname(circ), \"rb\") as f: #hash circuit back to executable file\n",
    "        executable = pickle.load(f)\n",
    "        \n",
    "    result = qpu.run(executable).readout_data.get(\"ro\")\n",
    "    zeros = len([i for i in result if i== [0]]) #count the number of zeros\n",
    "    return zeros\n",
    "\n",
    "#I still found issues with the parallel pool for execution,\n",
    "#so I made this part iterative too\n",
    "for (i,circ) in enumerate(circuits):\n",
    "    print(\"Running\", i,end='\\r' ) #For sanity\n",
    "    results.append(run(circ)) #add number of zeros from run to result"
   ]
  },
  {
   "cell_type": "markdown",
   "metadata": {},
   "source": [
    "Store the results in a data set and write to disk"
   ]
  },
  {
   "cell_type": "code",
   "execution_count": null,
   "metadata": {},
   "outputs": [],
   "source": [
    "#Dataset object acts like a 2-d dictionary, with keys as circuit names,\n",
    "#followed by result outcome\n",
    "data = DataSet()\n",
    "\n",
    "for (circ, result) in zip(circuits, results):\n",
    "    data.add_count_dict(circ, {'0':result, '1':shots-result})\n",
    "    \n",
    "#write dataset for later usage\n",
    "write_dataset(\"experiment_data/rigetti_XYZI_data/data/dataset.txt\", data)"
   ]
  },
  {
   "cell_type": "markdown",
   "metadata": {},
   "source": [
    "On jupyterlabs the data folder needs to be compressed to download it"
   ]
  },
  {
   "cell_type": "code",
   "execution_count": null,
   "metadata": {},
   "outputs": [],
   "source": [
    "%%bash\n",
    "\n",
    "tar -cvf second_experiment_run_data.tar experiment_data circuit_binaries"
   ]
  }
 ],
 "metadata": {
  "kernelspec": {
   "display_name": "Python 3 (ipykernel)",
   "language": "python",
   "name": "python3"
  },
  "language_info": {
   "codemirror_mode": {
    "name": "ipython",
    "version": 3
   },
   "file_extension": ".py",
   "mimetype": "text/x-python",
   "name": "python",
   "nbconvert_exporter": "python",
   "pygments_lexer": "ipython3",
   "version": "3.10.5"
  }
 },
 "nbformat": 4,
 "nbformat_minor": 4
}
