{
 "cells": [
  {
   "cell_type": "code",
   "execution_count": 13,
   "id": "98083c83",
   "metadata": {},
   "outputs": [],
   "source": [
    "from qiskit import QuantumCircuit, execute, QuantumRegister, ClassicalRegister\n",
    "import qiskit.quantum_info as qi\n",
    "from numpy import pi\n",
    "\n",
    "#qiskit experiments is replacing qiskit ignis. Docs can be found here:\n",
    "#https://qiskit.org/documentation/experiments/apidocs/index.html\n",
    "from qiskit_experiments.library.tomography import ProcessTomography, ProcessTomographyAnalysis\n",
    "from qiskit_experiments.library.tomography.fitters import linear_inversion, scipy_gaussian_lstsq\n",
    "\n",
    "#Is there a library for SICPOVM basis?\n",
    "from qiskit_experiments.library.tomography.basis import PauliMeasurementBasis, PauliPreparationBasis"
   ]
  },
  {
   "cell_type": "code",
   "execution_count": 2,
   "id": "35f468b3",
   "metadata": {},
   "outputs": [
    {
     "data": {
      "text/plain": [
       "<AccountProvider for IBMQ(hub='ibm-q', group='open', project='main')>"
      ]
     },
     "execution_count": 2,
     "metadata": {},
     "output_type": "execute_result"
    }
   ],
   "source": [
    "#Load account\n",
    "from qiskit import IBMQ\n",
    "IBMQ.load_account()"
   ]
  },
  {
   "cell_type": "code",
   "execution_count": 6,
   "id": "9b4437d7",
   "metadata": {},
   "outputs": [
    {
     "name": "stdout",
     "output_type": "stream",
     "text": [
      "{'backend_name': 'ibmq_qasm_simulator', 'backend_version': '0.1.547', 'operational': True, 'pending_jobs': 14, 'status_msg': 'active'}\n",
      "{'backend_name': 'ibmq_armonk', 'backend_version': '2.4.35', 'operational': True, 'pending_jobs': 1, 'status_msg': 'active'}\n",
      "{'backend_name': 'ibmq_santiago', 'backend_version': '1.4.3', 'operational': True, 'pending_jobs': 86, 'status_msg': 'active'}\n",
      "{'backend_name': 'ibmq_bogota', 'backend_version': '1.6.41', 'operational': True, 'pending_jobs': 242, 'status_msg': 'active'}\n",
      "{'backend_name': 'ibmq_lima', 'backend_version': '1.0.36', 'operational': True, 'pending_jobs': 14, 'status_msg': 'active'}\n",
      "{'backend_name': 'ibmq_belem', 'backend_version': '1.0.42', 'operational': True, 'pending_jobs': 19, 'status_msg': 'active'}\n",
      "{'backend_name': 'ibmq_quito', 'backend_version': '1.1.30', 'operational': True, 'pending_jobs': 24, 'status_msg': 'active'}\n",
      "{'backend_name': 'simulator_statevector', 'backend_version': '0.1.547', 'operational': True, 'pending_jobs': 14, 'status_msg': 'active'}\n",
      "{'backend_name': 'simulator_mps', 'backend_version': '0.1.547', 'operational': True, 'pending_jobs': 14, 'status_msg': 'active'}\n",
      "{'backend_name': 'simulator_extended_stabilizer', 'backend_version': '0.1.547', 'operational': True, 'pending_jobs': 14, 'status_msg': 'active'}\n",
      "{'backend_name': 'simulator_stabilizer', 'backend_version': '0.1.547', 'operational': True, 'pending_jobs': 14, 'status_msg': 'active'}\n",
      "{'backend_name': 'ibmq_manila', 'backend_version': '1.0.30', 'operational': True, 'pending_jobs': 213, 'status_msg': 'active'}\n",
      "{'backend_name': 'ibm_oslo', 'backend_version': '1.0.0', 'operational': True, 'pending_jobs': 6, 'status_msg': 'active'}\n"
     ]
    }
   ],
   "source": [
    "provider = IBMQ.get_provider(hub = 'ibm-q')\n",
    "for backend in provider.backends():\n",
    "    print(backend.status().to_dict())"
   ]
  },
  {
   "cell_type": "code",
   "execution_count": 8,
   "id": "caaaf5bc",
   "metadata": {},
   "outputs": [],
   "source": [
    "backend = provider.get_backend('ibmq_armonk')"
   ]
  },
  {
   "cell_type": "markdown",
   "id": "daa66d93",
   "metadata": {},
   "source": [
    "1. Prepare the process by specifying a circuit"
   ]
  },
  {
   "cell_type": "code",
   "execution_count": 18,
   "id": "bceb1be6",
   "metadata": {},
   "outputs": [],
   "source": [
    "cr = ClassicalRegister(1)\n",
    "qr = QuantumRegister(1)\n",
    "qc = QuantumCircuit(qr, cr)\n",
    "qc.ry(pi/2, 0);"
   ]
  },
  {
   "cell_type": "markdown",
   "id": "1752e2f2",
   "metadata": {},
   "source": [
    "2. The tomography experiment sets up the circuits to measure in the chosen basis"
   ]
  },
  {
   "cell_type": "code",
   "execution_count": 19,
   "id": "b7c9aae9",
   "metadata": {},
   "outputs": [
    {
     "name": "stderr",
     "output_type": "stream",
     "text": [
      "Job data not added for errorred job [Job ID: 62abf4b55e6b2a91b681d6a5]\n",
      "Error message: Instruction {'name': 'reset', 'qubits': [0]} is not supported. Error code: 7001.\n",
      "Analysis callback failed [Experiment ID: c756a14c-dd00-48e1-897b-79e2a5915978][Analysis Callback ID: 833bc807b37a4620a0ed257e84a3b324]:\n",
      "Traceback (most recent call last):\n",
      "  File \"/home/ben/.local/lib/python3.10/site-packages/qiskit_experiments/database_service/db_experiment_data.py\", line 535, in _run_analysis_callback\n",
      "    callback(self, **kwargs)\n",
      "  File \"/home/ben/.local/lib/python3.10/site-packages/qiskit_experiments/framework/base_analysis.py\", line 157, in run_analysis\n",
      "    results, figures = analysis._run_analysis(expdata)\n",
      "  File \"/home/ben/.local/lib/python3.10/site-packages/qiskit_experiments/library/tomography/tomography_analysis.py\", line 121, in _run_analysis\n",
      "    outcome_data, shot_data, measurement_data, preparation_data = self._fitter_data(\n",
      "  File \"/home/ben/.local/lib/python3.10/site-packages/qiskit_experiments/library/tomography/tomography_analysis.py\", line 466, in _fitter_data\n",
      "    raise AnalysisError(\"Specified number of measurementqubits does not match data.\")\n",
      "qiskit_experiments.exceptions.AnalysisError: 'Specified number of measurementqubits does not match data.'\n",
      "\n"
     ]
    },
    {
     "ename": "IndexError",
     "evalue": "list index out of range",
     "output_type": "error",
     "traceback": [
      "\u001b[0;31m---------------------------------------------------------------------------\u001b[0m",
      "\u001b[0;31mIndexError\u001b[0m                                Traceback (most recent call last)",
      "Input \u001b[0;32mIn [19]\u001b[0m, in \u001b[0;36m<cell line: 5>\u001b[0;34m()\u001b[0m\n\u001b[1;32m      3\u001b[0m experiment_data \u001b[38;5;241m=\u001b[39m exp\u001b[38;5;241m.\u001b[39mrun(backend, fitter \u001b[38;5;241m=\u001b[39m \u001b[38;5;124m\"\u001b[39m\u001b[38;5;124mlinear_inversion\u001b[39m\u001b[38;5;124m\"\u001b[39m)\n\u001b[1;32m      4\u001b[0m results \u001b[38;5;241m=\u001b[39m experiment_data\u001b[38;5;241m.\u001b[39manalysis_results()\n\u001b[0;32m----> 5\u001b[0m choi_matrix \u001b[38;5;241m=\u001b[39m \u001b[43mresults\u001b[49m\u001b[43m[\u001b[49m\u001b[38;5;241;43m0\u001b[39;49m\u001b[43m]\u001b[49m\u001b[38;5;241m.\u001b[39mvalue\n\u001b[1;32m      6\u001b[0m kraus_rep \u001b[38;5;241m=\u001b[39m qi\u001b[38;5;241m.\u001b[39mKraus(choi_matrix)\n",
      "\u001b[0;31mIndexError\u001b[0m: list index out of range"
     ]
    }
   ],
   "source": [
    "#circuit (or appendable object, measurement basis, qubits to measure (all if None), and preparation basis)\n",
    "exp = ProcessTomography(qc)\n",
    "experiment_data = exp.run(backend, fitter = \"linear_inversion\")\n",
    "results = experiment_data.analysis_results()\n",
    "choi_matrix = results[0].value\n",
    "kraus_rep = qi.Kraus(choi_matrix)"
   ]
  },
  {
   "cell_type": "code",
   "execution_count": 122,
   "id": "1a7c7dbf",
   "metadata": {},
   "outputs": [
    {
     "name": "stdout",
     "output_type": "stream",
     "text": [
      "---------------------------------------------------\n",
      "Experiment: ProcessTomography\n",
      "Experiment ID: 6dd93207-4c56-4a97-9fff-69521e38fc4d\n",
      "Status: ExperimentStatus.DONE\n",
      "Backend: aer_simulator(fake_vigo)\n",
      "Data: 12\n",
      "Analysis Results: 4\n",
      "Figures: 0\n"
     ]
    }
   ],
   "source": [
    "print(experiment_data)"
   ]
  },
  {
   "cell_type": "code",
   "execution_count": 123,
   "id": "5cb1e487",
   "metadata": {},
   "outputs": [
    {
     "name": "stdout",
     "output_type": "stream",
     "text": [
      "Kraus([[[-0.66979795+4.78890287e-19j,  0.67273562+1.78943350e-02j],\n",
      "        [-0.66713124+1.47512215e-02j, -0.67090951+1.33549572e-03j]],\n",
      "\n",
      "       [[ 0.22610666+1.56276099e-15j,  0.01862859-8.44285614e-02j],\n",
      "        [-0.08862047+7.64776087e-02j, -0.11981824-1.59015144e-01j]],\n",
      "\n",
      "       [[ 0.1010079 +1.08589463e-11j,  0.06710443+1.77027256e-02j],\n",
      "        [-0.01967616-1.00523254e-01j, -0.01549448+1.16381729e-01j]],\n",
      "\n",
      "       [[-0.04198383-1.21520627e-10j, -0.05018155-1.62595858e-01j],\n",
      "        [ 0.02357782-1.35089420e-01j, -0.03921118-2.78116829e-02j]]],\n",
      "      input_dims=(2,), output_dims=(2,))\n"
     ]
    }
   ],
   "source": [
    "print(kraus_rep)"
   ]
  },
  {
   "cell_type": "code",
   "execution_count": 126,
   "id": "516a34c8",
   "metadata": {},
   "outputs": [
    {
     "data": {
      "text/html": [
       "<pre style=\"word-wrap: normal;white-space: pre;background: #fff0;line-height: 1.1;font-family: &quot;Courier New&quot;,Courier,monospace\">          ┌─────────────┐ ░ ┌─────────┐ ░ ┌────────────┐ ░ ┌─┐\n",
       "  q: ─|0>─┤ PauliPrepZp ├─░─┤ Ry(π/2) ├─░─┤ PauliMeasZ ├─░─┤M├\n",
       "          └─────────────┘ ░ └─────────┘ ░ └────────────┘ ░ └╥┘\n",
       "c: 1/═══════════════════════════════════════════════════════╩═\n",
       "                                                            0 </pre>"
      ],
      "text/plain": [
       "          ┌─────────────┐ ░ ┌─────────┐ ░ ┌────────────┐ ░ ┌─┐\n",
       "  q: ─|0>─┤ PauliPrepZp ├─░─┤ Ry(π/2) ├─░─┤ PauliMeasZ ├─░─┤M├\n",
       "          └─────────────┘ ░ └─────────┘ ░ └────────────┘ ░ └╥┘\n",
       "c: 1/═══════════════════════════════════════════════════════╩═\n",
       "                                                            0 "
      ]
     },
     "execution_count": 126,
     "metadata": {},
     "output_type": "execute_result"
    }
   ],
   "source": [
    "exp.circuits()[0].draw()"
   ]
  },
  {
   "cell_type": "code",
   "execution_count": null,
   "id": "a379c956",
   "metadata": {},
   "outputs": [],
   "source": []
  }
 ],
 "metadata": {
  "kernelspec": {
   "display_name": "Python 3 (ipykernel)",
   "language": "python",
   "name": "python3"
  },
  "language_info": {
   "codemirror_mode": {
    "name": "ipython",
    "version": 3
   },
   "file_extension": ".py",
   "mimetype": "text/x-python",
   "name": "python",
   "nbconvert_exporter": "python",
   "pygments_lexer": "ipython3",
   "version": "3.10.5"
  }
 },
 "nbformat": 4,
 "nbformat_minor": 5
}
