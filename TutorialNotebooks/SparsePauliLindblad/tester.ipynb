{
 "cells": [
  {
   "cell_type": "code",
   "execution_count": 1,
   "metadata": {},
   "outputs": [],
   "source": [
    "from qiskit import QuantumCircuit, transpile\n",
    "from qiskit.providers.fake_provider import FakeVigoV2\n",
    "from random import randint, random, choice\n",
    "from qiskit.circuit.library import HGate, SGate, XGate, ZGate\n",
    "from qiskit.providers.aer import Aer\n",
    "\n",
    "backend = FakeVigoV2()"
   ]
  },
  {
   "cell_type": "code",
   "execution_count": 3,
   "metadata": {},
   "outputs": [],
   "source": [
    "def executor(circuits):\n",
    "    return backend.run(\"qasm_simulator\").run(circuits).result().get_counts()"
   ]
  },
  {
   "cell_type": "code",
   "execution_count": 4,
   "metadata": {},
   "outputs": [
    {
     "data": {
      "text/html": [
       "<pre style=\"word-wrap: normal;white-space: pre;background: #fff0;line-height: 1.1;font-family: &quot;Courier New&quot;,Courier,monospace\">global phase: π\n",
       "          ┌────────┐                                      ┌───┐┌─────────┐»\n",
       "q_0 -> 0 ─┤ Rz(-π) ├──────────────────────────────────────┤ X ├┤ Rz(π/2) ├»\n",
       "         ┌┴────────┤                  ┌───┐┌───┐     ┌───┐└─┬─┘└─────────┘»\n",
       "q_1 -> 1 ┤ Rz(π/2) ├──────────────────┤ X ├┤ X ├──■──┤ X ├──■─────────────»\n",
       "         └─────────┘                  └─┬─┘└─┬─┘┌─┴─┐└─┬─┘                »\n",
       "q_2 -> 2 ───────────────────────────────┼────■──┤ X ├──■──────────────────»\n",
       "         ┌─────────┐ ┌────┐┌─────────┐  │  ┌───┐└───┘                     »\n",
       "q_3 -> 3 ┤ Rz(π/2) ├─┤ √X ├┤ Rz(π/2) ├──■──┤ X ├──────────────────────────»\n",
       "         ├─────────┴┐├────┤├─────────┤     └───┘                          »\n",
       "q_4 -> 4 ┤ Rz(-π/2) ├┤ √X ├┤ Rz(π/2) ├────────────────────────────────────»\n",
       "         └──────────┘└────┘└─────────┘                                    »\n",
       "«         ┌────┐┌─────────┐\n",
       "«q_0 -> 0 ┤ √X ├┤ Rz(π/2) ├\n",
       "«         └────┘└─────────┘\n",
       "«q_1 -> 1 ─────────────────\n",
       "«                          \n",
       "«q_2 -> 2 ─────────────────\n",
       "«                          \n",
       "«q_3 -> 3 ─────────────────\n",
       "«                          \n",
       "«q_4 -> 4 ─────────────────\n",
       "«                          </pre>"
      ],
      "text/plain": [
       "global phase: π\n",
       "          ┌────────┐                                      ┌───┐┌─────────┐»\n",
       "q_0 -> 0 ─┤ Rz(-π) ├──────────────────────────────────────┤ X ├┤ Rz(π/2) ├»\n",
       "         ┌┴────────┤                  ┌───┐┌───┐     ┌───┐└─┬─┘└─────────┘»\n",
       "q_1 -> 1 ┤ Rz(π/2) ├──────────────────┤ X ├┤ X ├──■──┤ X ├──■─────────────»\n",
       "         └─────────┘                  └─┬─┘└─┬─┘┌─┴─┐└─┬─┘                »\n",
       "q_2 -> 2 ───────────────────────────────┼────■──┤ X ├──■──────────────────»\n",
       "         ┌─────────┐ ┌────┐┌─────────┐  │  ┌───┐└───┘                     »\n",
       "q_3 -> 3 ┤ Rz(π/2) ├─┤ √X ├┤ Rz(π/2) ├──■──┤ X ├──────────────────────────»\n",
       "         ├─────────┴┐├────┤├─────────┤     └───┘                          »\n",
       "q_4 -> 4 ┤ Rz(-π/2) ├┤ √X ├┤ Rz(π/2) ├────────────────────────────────────»\n",
       "         └──────────┘└────┘└─────────┘                                    »\n",
       "«         ┌────┐┌─────────┐\n",
       "«q_0 -> 0 ┤ √X ├┤ Rz(π/2) ├\n",
       "«         └────┘└─────────┘\n",
       "«q_1 -> 1 ─────────────────\n",
       "«                          \n",
       "«q_2 -> 2 ─────────────────\n",
       "«                          \n",
       "«q_3 -> 3 ─────────────────\n",
       "«                          \n",
       "«q_4 -> 4 ─────────────────\n",
       "«                          "
      ]
     },
     "execution_count": 4,
     "metadata": {},
     "output_type": "execute_result"
    }
   ],
   "source": [
    "qc = random_circ(10)\n",
    "qc.draw()"
   ]
  },
  {
   "cell_type": "code",
   "execution_count": 5,
   "metadata": {},
   "outputs": [
    {
     "ename": "ModuleNotFoundError",
     "evalue": "No module named 'experiment'",
     "output_type": "error",
     "traceback": [
      "\u001b[0;31m---------------------------------------------------------------------------\u001b[0m",
      "\u001b[0;31mModuleNotFoundError\u001b[0m                       Traceback (most recent call last)",
      "\u001b[1;32m/home/ben/Documents/NEPEC_on_Hardware/TutorialNotebooks/SparsePauliLindblad/tester.ipynb Cell 4\u001b[0m in \u001b[0;36m<cell line: 1>\u001b[0;34m()\u001b[0m\n\u001b[0;32m----> <a href='vscode-notebook-cell:/home/ben/Documents/NEPEC_on_Hardware/TutorialNotebooks/SparsePauliLindblad/tester.ipynb#W3sZmlsZQ%3D%3D?line=0'>1</a>\u001b[0m \u001b[39mfrom\u001b[39;00m \u001b[39mexperiment\u001b[39;00m \u001b[39mimport\u001b[39;00m SparsePauliTomographyExperiment\n",
      "\u001b[0;31mModuleNotFoundError\u001b[0m: No module named 'experiment'"
     ]
    }
   ],
   "source": [
    "from experiment import SparsePauliTomographyExperiment"
   ]
  },
  {
   "cell_type": "code",
   "execution_count": 6,
   "metadata": {},
   "outputs": [],
   "source": [
    "experiment = SparsePauliTomographyExperiment(qc, [0,1,2,3,4], backend)"
   ]
  },
  {
   "cell_type": "code",
   "execution_count": 7,
   "metadata": {},
   "outputs": [],
   "source": [
    "experiment.generate(1,1, [2])"
   ]
  },
  {
   "cell_type": "code",
   "execution_count": 8,
   "metadata": {},
   "outputs": [],
   "source": [
    "experiment.run(executor)"
   ]
  },
  {
   "cell_type": "code",
   "execution_count": 9,
   "metadata": {},
   "outputs": [],
   "source": [
    "experiment.analyze()"
   ]
  },
  {
   "cell_type": "code",
   "execution_count": 2,
   "metadata": {},
   "outputs": [],
   "source": [
    "def random_circ(N):\n",
    "    qc = QuantumCircuit(5)\n",
    "    single_gates = [HGate(), SGate(), XGate(), ZGate()]\n",
    "    insts = [q for q in backend.coupling_map.graph.edge_list()]\n",
    "    for i in range(N):\n",
    "            for i in range(5):\n",
    "                if random() < .2:\n",
    "                    qc.append(choice(single_gates), [i])\n",
    "            if random() <= .4:\n",
    "                inst = randint(0, len(insts)-1)\n",
    "                q1,q2 = insts[inst]\n",
    "                qc.cx(q1, q2)\n",
    "\n",
    "    return transpile(qc, backend)"
   ]
  },
  {
   "cell_type": "code",
   "execution_count": null,
   "metadata": {},
   "outputs": [],
   "source": []
  }
 ],
 "metadata": {
  "kernelspec": {
   "display_name": "Python 3.10.5 64-bit",
   "language": "python",
   "name": "python3"
  },
  "language_info": {
   "codemirror_mode": {
    "name": "ipython",
    "version": 3
   },
   "file_extension": ".py",
   "mimetype": "text/x-python",
   "name": "python",
   "nbconvert_exporter": "python",
   "pygments_lexer": "ipython3",
   "version": "3.10.6"
  },
  "orig_nbformat": 4,
  "vscode": {
   "interpreter": {
    "hash": "e7370f93d1d0cde622a1f8e1c04877d8463912d04d973331ad4851f04de6915a"
   }
  }
 },
 "nbformat": 4,
 "nbformat_minor": 2
}
