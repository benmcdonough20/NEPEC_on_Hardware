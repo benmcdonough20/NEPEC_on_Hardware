{
 "cells": [
  {
   "cell_type": "code",
   "execution_count": null,
   "metadata": {},
   "outputs": [],
   "source": [
    "#PyGSTi tools\n",
    "import pygsti\n",
    "#pre-built gateset to use\n",
    "from pygsti.modelpacks import smq1Q_XYZI\n",
    "from pygsti.data.dataset import DataSet\n",
    "from pygsti.io.writers import write_dataset\n",
    "\n",
    "#Rigetti tools\n",
    "from pyquil import get_qc, Program\n",
    "from pyquil.api import QCSClientConfiguration, local_forest_runtime\n",
    "from pyquil.gates import RESET\n",
    "\n",
    "configuration = QCSClientConfiguration.load()\n",
    "\n",
    "#python helper libraries\n",
    "from multiprocessing.pool import ThreadPool\n",
    "import time\n",
    "import numpy as np\n",
    "import pickle"
   ]
  },
  {
   "cell_type": "code",
   "execution_count": null,
   "metadata": {},
   "outputs": [],
   "source": [
    "target_model = smq1Q_XYZI.target_model()      # a Model object\n",
    "prep_fiducials = smq1Q_XYZI.prep_fiducials()  # a list of Circuit objects\n",
    "meas_fiducials = smq1Q_XYZI.meas_fiducials()  # a list of Circuit objects\n",
    "germs = smq1Q_XYZI.germs()                    # a list of Circuit objects\n",
    "maxLengths = [1,2,4,8,16,32]\n",
    "exp_design = pygsti.protocols.StandardGSTDesign(target_model, prep_fiducials, meas_fiducials,\n",
    "                                                germs, maxLengths)\n",
    "\n",
    "exp_design.all_circuits_needing_data\n",
    "circuits = list(exp_design.all_circuits_needing_data)"
   ]
  },
  {
   "cell_type": "code",
   "execution_count": null,
   "metadata": {},
   "outputs": [],
   "source": [
    "pygsti.io.write_empty_protocol_data('experiment_data/rigetti_XYZI_data', exp_design, clobber_ok=True)\n",
    "#Actual (`empty) dataset located at tutorial_files/test_gst_dir/data/dataset.txt"
   ]
  },
  {
   "cell_type": "code",
   "execution_count": null,
   "metadata": {},
   "outputs": [],
   "source": [
    "qpu = get_qc(\"Aspen-11\", client_configuration=configuration, execution_timeout = 100000, compiler_timeout = 100000)\n",
    "#qpu = get_qc(\"9q-square-qvm\", noisy=True, execution_timeout = 100000, compiler_timeout = 100000)\n",
    "\n",
    "def circ_fname(circ):\n",
    "    return \"circuit_binaries/%s .circ\"%str(circ).replace(\"-\",\"\").replace('\\n','').replace('|','').replace(' ','').replace('G','')[8:]\n",
    "\n",
    "shots = 1000\n",
    "num_circs = len(circuits)"
   ]
  },
  {
   "cell_type": "code",
   "execution_count": null,
   "metadata": {},
   "outputs": [],
   "source": [
    "\n",
    "\n",
    "start_time = time.time()\n",
    "for (i,circ) in enumerate(circuits):\n",
    "    prog = Program(circ.convert_to_quil()).wrap_in_numshots_loop(shots)\n",
    "    executable = qpu.compile(prog)\n",
    "    with open(circ_fname(circ), \"wb\") as f:\n",
    "        pickle.dump(executable, f)\n",
    "        \n",
    "    print(\"finished \",i, \" Done in \",(time.time()-start_time)/(i+1)*(num_circs-i), end='\\r')\n",
    "    \n",
    "print(time.time() - start_time)"
   ]
  },
  {
   "cell_type": "code",
   "execution_count": null,
   "metadata": {},
   "outputs": [],
   "source": [
    "results = []\n",
    "\n",
    "def run(circ):\n",
    "    with open(circ_fname(circ), \"rb\") as f:\n",
    "        executable = pickle.load(f)\n",
    "    print(\"ran\")\n",
    "    result = qpu.run(executable).readout_data.get(\"ro\")\n",
    "    zeros = len([i for i in result if i== [0]])\n",
    "    return zeros\n",
    "\n",
    "for (i,circ) in enumerate(circuits):\n",
    "    print(\"Running \", i)\n",
    "    results.append(run(circ))"
   ]
  },
  {
   "cell_type": "code",
   "execution_count": null,
   "metadata": {},
   "outputs": [],
   "source": [
    "time_data = [0]*len(results)\n",
    "data = DataSet()\n",
    "\n",
    "for (circ, result) in zip(circuits, results):\n",
    "    data.add_count_dict(circ, {'0':result, '1':shots-result})\n",
    "    \n",
    "write_dataset(\"experiment_data/rigetti_XYZI_data/data/dataset.txt\", data)"
   ]
  },
  {
   "cell_type": "code",
   "execution_count": null,
   "metadata": {},
   "outputs": [],
   "source": [
    "%%bash\n",
    "\n",
    "tar -cvf second_experiment_run_data.tar experiment_data circuit_binaries"
   ]
  }
 ],
 "metadata": {
  "kernelspec": {
   "display_name": "Python 3",
   "language": "python",
   "name": "python3"
  },
  "language_info": {
   "codemirror_mode": {
    "name": "ipython",
    "version": 3
   },
   "file_extension": ".py",
   "mimetype": "text/x-python",
   "name": "python",
   "nbconvert_exporter": "python",
   "pygments_lexer": "ipython3",
   "version": "3.8.6"
  }
 },
 "nbformat": 4,
 "nbformat_minor": 4
}
