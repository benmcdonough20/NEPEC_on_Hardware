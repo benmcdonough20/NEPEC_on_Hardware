{
 "cells": [
  {
   "cell_type": "code",
   "execution_count": 115,
   "id": "98083c83",
   "metadata": {},
   "outputs": [],
   "source": [
    "from qiskit import QuantumCircuit, execute\n",
    "import qiskit.quantum_info as qi\n",
    "#the simulator\n",
    "from qiskit.providers.aer import AerSimulator\n",
    "# Noise model\n",
    "from qiskit.test.mock import FakeVigo\n",
    "from numpy import pi\n",
    "\n",
    "#qiskit experiments is replacing qiskit ignis. Docs can be found here:\n",
    "#https://qiskit.org/documentation/experiments/apidocs/index.html\n",
    "from qiskit_experiments.library.tomography import ProcessTomography, ProcessTomographyAnalysis\n",
    "from qiskit_experiments.library.tomography.fitters import linear_inversion, scipy_gaussian_lstsq\n",
    "\n",
    "#Is there a library for SICPOVM basis?\n",
    "from qiskit_experiments.library.tomography.basis import PauliMeasurementBasis, PauliPreparationBasis\n",
    "\n",
    "# Construct noisy simulator\n",
    "backend = AerSimulator.from_backend(FakeVigo())"
   ]
  },
  {
   "cell_type": "markdown",
   "id": "daa66d93",
   "metadata": {},
   "source": [
    "1. Prepare the process by specifying a circuit"
   ]
  },
  {
   "cell_type": "code",
   "execution_count": 119,
   "id": "bceb1be6",
   "metadata": {},
   "outputs": [],
   "source": [
    "qc = QuantumCircuit(1)\n",
    "qc.ry(pi/2, 0);"
   ]
  },
  {
   "cell_type": "markdown",
   "id": "1752e2f2",
   "metadata": {},
   "source": [
    "2. The tomography experiment sets up the circuits to measure in the chosen basis"
   ]
  },
  {
   "cell_type": "code",
   "execution_count": 121,
   "id": "b7c9aae9",
   "metadata": {},
   "outputs": [],
   "source": [
    "#circuit (or appendable object, measurement basis, qubits to measure (all if None), and preparation basis)\n",
    "exp = ProcessTomography(qc)\n",
    "experiment_data = exp.run(backend, fitter = \"linear_inversion\")"
   ]
  },
  {
   "cell_type": "code",
   "execution_count": null,
   "id": "758174b1",
   "metadata": {},
   "outputs": [],
   "source": [
    "#acquire the data\n",
    "results = experiment_data.analysis_results()\n",
    "choi_matrix = results[0].value\n",
    "kraus_rep = qi.Kraus(choi_matrix)"
   ]
  },
  {
   "cell_type": "code",
   "execution_count": 122,
   "id": "0d2e4477",
   "metadata": {},
   "outputs": [
    {
     "name": "stdout",
     "output_type": "stream",
     "text": [
      "---------------------------------------------------\n",
      "Experiment: ProcessTomography\n",
      "Experiment ID: 6dd93207-4c56-4a97-9fff-69521e38fc4d\n",
      "Status: ExperimentStatus.DONE\n",
      "Backend: aer_simulator(fake_vigo)\n",
      "Data: 12\n",
      "Analysis Results: 4\n",
      "Figures: 0\n"
     ]
    }
   ],
   "source": [
    "print(experiment_data)"
   ]
  },
  {
   "cell_type": "code",
   "execution_count": 129,
   "id": "05adf776",
   "metadata": {},
   "outputs": [
    {
     "name": "stdout",
     "output_type": "stream",
     "text": [
      "Kraus operator 0:\n",
      "\n",
      "[[-0.66979795+4.78890287e-19j  0.67273562+1.78943350e-02j]\n",
      " [-0.66713124+1.47512215e-02j -0.67090951+1.33549572e-03j]]\n",
      "\n",
      "\n",
      "Kraus operator 1:\n",
      "\n",
      "[[ 0.22610666+1.56276099e-15j  0.01862859-8.44285614e-02j]\n",
      " [-0.08862047+7.64776087e-02j -0.11981824-1.59015144e-01j]]\n",
      "\n",
      "\n",
      "Kraus operator 2:\n",
      "\n",
      "[[ 0.1010079 +1.08589463e-11j  0.06710443+1.77027256e-02j]\n",
      " [-0.01967616-1.00523254e-01j -0.01549448+1.16381729e-01j]]\n",
      "\n",
      "\n",
      "Kraus operator 3:\n",
      "\n",
      "[[-0.04198383-1.21520627e-10j -0.05018155-1.62595858e-01j]\n",
      " [ 0.02357782-1.35089420e-01j -0.03921118-2.78116829e-02j]]\n",
      "\n",
      "\n"
     ]
    }
   ],
   "source": [
    "for (i,op) in enumerate(kraus_rep.data):\n",
    "    print(\"Kraus operator \" + str(i) + \":\\n\")\n",
    "    print(op)\n",
    "    print(\"\\n\")"
   ]
  },
  {
   "cell_type": "code",
   "execution_count": 126,
   "id": "641ffbd1",
   "metadata": {},
   "outputs": [
    {
     "data": {
      "text/html": [
       "<pre style=\"word-wrap: normal;white-space: pre;background: #fff0;line-height: 1.1;font-family: &quot;Courier New&quot;,Courier,monospace\">          ┌─────────────┐ ░ ┌─────────┐ ░ ┌────────────┐ ░ ┌─┐\n",
       "  q: ─|0>─┤ PauliPrepZp ├─░─┤ Ry(π/2) ├─░─┤ PauliMeasZ ├─░─┤M├\n",
       "          └─────────────┘ ░ └─────────┘ ░ └────────────┘ ░ └╥┘\n",
       "c: 1/═══════════════════════════════════════════════════════╩═\n",
       "                                                            0 </pre>"
      ],
      "text/plain": [
       "          ┌─────────────┐ ░ ┌─────────┐ ░ ┌────────────┐ ░ ┌─┐\n",
       "  q: ─|0>─┤ PauliPrepZp ├─░─┤ Ry(π/2) ├─░─┤ PauliMeasZ ├─░─┤M├\n",
       "          └─────────────┘ ░ └─────────┘ ░ └────────────┘ ░ └╥┘\n",
       "c: 1/═══════════════════════════════════════════════════════╩═\n",
       "                                                            0 "
      ]
     },
     "execution_count": 126,
     "metadata": {},
     "output_type": "execute_result"
    }
   ],
   "source": [
    "exp.circuits()[0].draw()"
   ]
  }
 ],
 "metadata": {
  "kernelspec": {
   "display_name": "Python 3 (ipykernel)",
   "language": "python",
   "name": "python3"
  },
  "language_info": {
   "codemirror_mode": {
    "name": "ipython",
    "version": 3
   },
   "file_extension": ".py",
   "mimetype": "text/x-python",
   "name": "python",
   "nbconvert_exporter": "python",
   "pygments_lexer": "ipython3",
   "version": "3.10.5"
  }
 },
 "nbformat": 4,
 "nbformat_minor": 5
}
