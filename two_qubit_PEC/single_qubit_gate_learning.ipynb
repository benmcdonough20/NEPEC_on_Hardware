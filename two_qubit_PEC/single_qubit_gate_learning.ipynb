{
 "cells": [
  {
   "cell_type": "markdown",
   "metadata": {},
   "source": [
    "# Single-qubit gate layer learning\n",
    "This notebook implements the full learning procedure for a layer of single-qubit gates. This involves taking in an arbitrary processor topology and implementing the sweeping algorithm to generate the list of nine Pauli strings that can be used to construct all of the expectation values included in the sparse model. "
   ]
  },
  {
   "cell_type": "code",
   "execution_count": 2,
   "metadata": {},
   "outputs": [],
   "source": [
    "import numpy as np\n",
    "from itertools import permutations, cycle, product\n",
    "from random import choice, random\n",
    "from qiskit import QuantumCircuit, transpile\n",
    "from qiskit.quantum_info import Pauli\n",
    "from scipy.optimize import curve_fit\n",
    "from qiskit.providers.aer import AerSimulator\n",
    "from qiskit.providers.fake_provider import FakeQuito\n",
    "import matplotlib.pyplot as plt"
   ]
  },
  {
   "cell_type": "code",
   "execution_count": 3,
   "metadata": {},
   "outputs": [],
   "source": [
    "#head for the recursive procedure to generate the nine pauli strings\n",
    "#containing the complete bases for the sparse model\n",
    "def pauli_strings(adjacency_matrix):\n",
    "    start_vertex = 0 #start at qubit zero. This could be any outside qubit\n",
    "    pauli_strings = [['I']*n for i in range(9)] #start with identity\n",
    "    visited_verts = [] #store the vertices that have been visited\n",
    "    #call the recursive method and restart it if it dead-ends\n",
    "    while(True):\n",
    "        #recursive method\n",
    "        _getstr(start_vertex, adjacency_matrix, visited_verts, pauli_strings)\n",
    "        remaining_verts = [v for v in verts if v not in visited_verts] #find unexplored qubits\n",
    "        if len(remaining_verts) == 0:\n",
    "            return pauli_strings #if all are explored, return strings\n",
    "        else: #continue at next unvisited qubit otherwise\n",
    "            _getstr(remaining_verts[0], adjacency_matrix, visited_verts, pauli_strings)\n",
    "\n",
    "#recursive method to find pauli strings\n",
    "def _getstr(vertex, adjacency_matrix, visited_verts, pauli_strings):\n",
    "    \n",
    "    #copied from Fig. S3 in van den Berg\n",
    "    example_orderings = {\"XXXYYYZZZ\":\"XYZXYZXYZ\",\n",
    "                        \"XXXYYZZZY\":\"XYZXYZXYZ\",\n",
    "                        \"XXYYYZZZX\":\"XYZXYZXYZ\",\n",
    "                        \"XXZYYZXYZ\":\"XYZXZYZYX\",\n",
    "                        \"XYZXYZXYZ\":\"XYZZXYYZX\"}\n",
    "\n",
    "    visited_verts.append(vertex) #mark current vertex as visited\n",
    "    children = [i for i,e in enumerate(adjacency_matrix[vertex]) if e == 1] #get children from edge list\n",
    "    visited_children = [c for c in children if c in visited_verts] #find intersection with visited qubits\n",
    "\n",
    "    match len(visited_children):\n",
    "        case 0: #zero predecessors\n",
    "            cycp = cycle(\"XYZ\")\n",
    "            for i,s in enumerate(pauli_strings):\n",
    "                pauli_strings[i][vertex] = next(cycp)\n",
    "\n",
    "        case 1: #one predecessor\n",
    "            predecessor = visited_children[0] #get single predecessor v_j\n",
    "            #store permutation of indices so that predecessor has X,X,X,Y,Y,Y,Z,Z,Z\n",
    "            reorder_list = [[] for i in range(3)]\n",
    "            for i in range(9):\n",
    "                basis = pauli_strings[i][predecessor]\n",
    "                reorder_list[\"XYZ\".index(basis)].append(i)\n",
    "            \n",
    "            #set the current qubit in the permuted order as X,Y,Z,X,Y,Z,X,Y,Z\n",
    "            for i in range(3):\n",
    "                for j,c in enumerate(\"XYZ\"):\n",
    "                    idx = reorder_list[i][j]\n",
    "                    pauli_strings[idx][vertex] = c\n",
    "\n",
    "        case 2: #two predecessors\n",
    "            predecessor0 = visited_children[0] #choice is arbitrary\n",
    "            predecessor1 = visited_children[1] #choice is arbitrary\n",
    "\n",
    "            #use the same reordering trick to get XXXYYYZZZ on first predecessor\n",
    "            reorder_list = [[] for i in range(3)] \n",
    "            for i in range(9):\n",
    "                basis = pauli_strings[i][predecessor0]\n",
    "                reorder_list[\"XYZ\".index(basis)].append(i)\n",
    "            \n",
    "            #list out string with permuted values of predecessor 2\n",
    "            substring = \"\"\n",
    "            for list in reorder_list:\n",
    "                for idx in list:\n",
    "                    substring += pauli_strings[idx][predecessor1]\n",
    "\n",
    "            #match predecessor two with a permutation of example_orderings\n",
    "            reordering = \"\"\n",
    "            for perm in permutations(\"XYZ\"):\n",
    "                p_string = \"\".join([\"XYZ\"[perm.index(p)] for p in substring])\n",
    "                if p_string in example_orderings:\n",
    "                    reordering = example_orderings[p_string]\n",
    "                    break\n",
    "            \n",
    "            #unpermute the example orderings so that they match the original strings\n",
    "            i = 0\n",
    "            for list in reorder_list:\n",
    "                for idx in list:\n",
    "                    pauli_strings[idx][vertex] = reordering[i]\n",
    "                    i += 1\n",
    "\n",
    "        case _: #processor needs to have connectivity so that there are <= 2 predecessors\n",
    "            raise Exception(\"Three or more predecessors encountered\")\n",
    "    \n",
    "    for c in children: #call recursive method on children\n",
    "        if c not in visited_children:\n",
    "            _getstr(c, adjacency_matrix, visited_verts, pauli_strings)\n",
    "\n",
    "    return\n",
    "\n",
    "#create a list of all paulis with support on connected qubits    \n",
    "def generate_paulis(adjacency_matrix):\n",
    "    n = len(adjacency_matrix)\n",
    "    pauli_list = []\n",
    "    idPauli = ['I']*n    \n",
    "    \n",
    "    #get all single-weight paulis\n",
    "    for i in range(n):\n",
    "        for op in ['X','Y','Z']:\n",
    "            pauli = idPauli.copy()\n",
    "            pauli[i] = op\n",
    "            pauli_list.append(\"\".join(pauli))\n",
    "            \n",
    "    #get all weight-two paulis on nieghboring qubits\n",
    "    for vert1,link in enumerate(adjacency_matrix):\n",
    "        for vert2,val in enumerate(link[:vert1]):\n",
    "            if val == 1:\n",
    "                for pauli1, pauli2 in product(['X','Y','Z'], repeat = 2):\n",
    "                    pauli = idPauli.copy()\n",
    "                    pauli[vert1] = pauli1\n",
    "                    pauli[vert2] = pauli2\n",
    "                    pauli_list.append(\"\".join(pauli))\n",
    "\n",
    "    return pauli_list"
   ]
  },
  {
   "cell_type": "code",
   "execution_count": 4,
   "metadata": {},
   "outputs": [],
   "source": [
    "#generate a twirled circuit instance with l layers\n",
    "def twirled_circuit(n : int, l : int) -> QuantumCircuit:\n",
    "    qc = QuantumCircuit(n)\n",
    "    ops = [Pauli('I')]*n\n",
    "    #iterate over the layers\n",
    "    for j in range(l-1):\n",
    "        #iterate over the qubits\n",
    "        for i in range(n):\n",
    "            #choose a random single-qubit Pauli\n",
    "            p = Pauli(choice(['I','X','Y','Z']))\n",
    "            #chain the layers together so that the last half of the previous\n",
    "            #cycle is combined with the first half of the next\n",
    "            op = ops[i].compose(p)\n",
    "            qc.append(Pauli([op.z],[op.x]), [i]) #this trick gets rid of the phase\n",
    "            ops[i] = p\n",
    "    qc.barrier()\n",
    "    #fill in the last layer so that the logical circuit is the identity\n",
    "    for i in range(n):\n",
    "        op = ops[i] \n",
    "        qc.append(Pauli([op.z],[op.x]), [i])\n",
    "    return qc\n",
    "\n",
    "#This implements the readout twirling procedure to diagonalize the readout errors\n",
    "# in the readout basis.\n",
    "def twirled_readout(n):\n",
    "    qc = QuantumCircuit(n)\n",
    "    #this string is returned to get the adjusted result of running the circuit\n",
    "    binstr = \"\"\n",
    "    for i in range(n):\n",
    "        r = random()\n",
    "        #sample unifromly from {X,I}\n",
    "        if r < .5:\n",
    "            qc.x(i)\n",
    "            #record the bit flips\n",
    "            binstr += '1'\n",
    "        else:\n",
    "            qc.id(i)\n",
    "            binstr += '0'\n",
    "    return(qc, binstr)"
   ]
  },
  {
   "cell_type": "code",
   "execution_count": 5,
   "metadata": {},
   "outputs": [],
   "source": [
    "#generate pauli measurement circuitry with corresponding metadata\n",
    "def twirled_instance(n, pauli, length):\n",
    "    n = len(qubits)\n",
    "\n",
    "    qc = QuantumCircuit(n)\n",
    "    #switch to pauli basis\n",
    "    for k,p in enumerate(pauli):\n",
    "        match p:\n",
    "            case 'X':\n",
    "                qc.h(k)\n",
    "            case 'Y':\n",
    "                qc.h(k)\n",
    "                qc.s(k)\n",
    "            case 'Z':\n",
    "                qc.id(k)\n",
    "    qc.barrier()\n",
    "    #add the twirled layers\n",
    "    tw = twirled_circuit(n,length)\n",
    "    qc = qc.compose(tw)\n",
    "\n",
    "    qc.barrier()\n",
    "    #switch to measurement basis\n",
    "    for k,p in enumerate(pauli):\n",
    "        match p:\n",
    "            case 'X':\n",
    "                qc.h(k)\n",
    "            case 'Y':\n",
    "                qc.sdg(k)\n",
    "                qc.h(k)\n",
    "            case 'Z':\n",
    "                qc.id(k)\n",
    "    #add the readout layer\n",
    "    qc.barrier()\n",
    "    ro, binstr = twirled_readout(n)\n",
    "    qc = qc.compose(ro)\n",
    "\n",
    "    qc.measure_all()\n",
    "    #transpile the circuits\n",
    "    info = {'qubits':qubits, 'pauli':pauli, 'rostring':binstr, 'length':length}\n",
    "\n",
    "    return (qc,info)"
   ]
  },
  {
   "cell_type": "code",
   "execution_count": 6,
   "metadata": {},
   "outputs": [],
   "source": [
    "#compute the binary sum of two bitstrings\n",
    "def oplus(binstr1, binstr2):\n",
    "    result = \"\"\n",
    "    for i,b in enumerate(binstr2):\n",
    "        if binstr1[i] == '1':\n",
    "            result += {'0':'1','1':'0'}[b]\n",
    "        else:\n",
    "            result += b\n",
    "    return result\n",
    "\n",
    "def dot(binstr1, binstr2):\n",
    "    return np.sum([{('1','1'):1}.get(pair, 0) for pair in zip(binstr1, binstr2)])\n",
    "\n",
    "def get_expectation(circuit_data, pauli):\n",
    "    pauli_weight = \"\".join([{'I':'0'}.get(p, '1') for p in pauli])\n",
    "    counts = circuit_data['counts']\n",
    "    rostring = circuit_data['rostring']\n",
    "    expec = np.sum([counts[key]*(-1)**dot(oplus(key[::-1],rostring), pauli_weight) for key in counts.keys()])\n",
    "    return expec"
   ]
  },
  {
   "cell_type": "code",
   "execution_count": 7,
   "metadata": {},
   "outputs": [],
   "source": [
    "backend = AerSimulator.from_backend(FakeQuito())\n",
    "qubits = [0,1,2] #coinciding with the gate layer\n",
    "connections = [(0,1),(1,2)]\n",
    "n = len(qubits)\n",
    "\n",
    "unmapped = lambda i: qubits.index(i)\n",
    "verts = [unmapped(qubit) for qubit in qubits]\n",
    "edges = [(unmapped(qubit1), unmapped(qubit2)) for qubit1,qubit2 in connections]\n",
    "mapped = lambda i: verts[i]\n",
    "#change adjacency list to matrix\n",
    "adjacency_matrix = [[0 for i in verts] for j in verts] \n",
    "for (vert1,vert2) in edges:\n",
    "    adjacency_matrix[vert1][vert2] = 1\n",
    "    adjacency_matrix[vert2][vert1] = 1\n",
    "\n",
    "degrees = [adjacency_matrix[vert].count(1) for vert in verts]"
   ]
  },
  {
   "cell_type": "code",
   "execution_count": 8,
   "metadata": {},
   "outputs": [],
   "source": [
    "pauli_measurements = pauli_strings(adjacency_matrix)\n",
    "benchmark_paulis = generate_paulis(adjacency_matrix)"
   ]
  },
  {
   "cell_type": "code",
   "execution_count": 9,
   "metadata": {},
   "outputs": [],
   "source": [
    "circs = []\n",
    "data = []\n",
    "lengths = [2,4, 8, 16,32,64,128]\n",
    "samples = 64\n",
    "shots = 100\n",
    "\n",
    "for p in pauli_measurements:\n",
    "    for l in lengths: \n",
    "        for i in range(samples):\n",
    "            circ, circ_info =  twirled_instance(len(qubits), \"\".join(p), l)\n",
    "            circs.append(circ)\n",
    "            data.append(circ_info)"
   ]
  },
  {
   "cell_type": "code",
   "execution_count": 10,
   "metadata": {},
   "outputs": [],
   "source": [
    "trans =  transpile(circs, backend, optimization_level=0, initial_layout = qubits)"
   ]
  },
  {
   "cell_type": "code",
   "execution_count": 11,
   "metadata": {},
   "outputs": [],
   "source": [
    "results = backend.run(trans, shots = shots).result().get_counts()\n",
    "for i,res in enumerate(results):\n",
    "    data[i]['counts'] = res"
   ]
  },
  {
   "cell_type": "code",
   "execution_count": 12,
   "metadata": {},
   "outputs": [],
   "source": [
    "ordered_results = {}\n",
    "for p in benchmark_paulis:\n",
    "    ordered_results[p] = {}\n",
    "    for l in lengths:\n",
    "        ordered_results[p][l] = {}\n",
    "        ordered_results[p][l][\"count\"] = 0 \n",
    "        ordered_results[p][l][\"total\"] = 0 \n",
    "\n",
    "for datum in data:\n",
    "    #check each pauli in benchmarks for compatible overlap\n",
    "    instance = dict()\n",
    "    for p in benchmark_paulis:\n",
    "        #check if non-identity terms in p overlap with instance\n",
    "        if all([c1 == c2 for c1,c2 in zip(p, datum['pauli']) if not c1 == 'I']):\n",
    "            ordered_results[p][datum['length']]['count'] += get_expectation(datum, p)\n",
    "            ordered_results[p][datum['length']]['total'] += sum(list(datum['counts'].values()))\n",
    "\n",
    "for p in benchmark_paulis:\n",
    "    for l in lengths:\n",
    "        ordered_results[p][l]['count'] /= ordered_results[p][l]['total']\n",
    "        "
   ]
  },
  {
   "cell_type": "code",
   "execution_count": 27,
   "metadata": {},
   "outputs": [
    {
     "data": {
      "image/png": "[encoded data removed]",
      "text/plain": [
       "<Figure size 432x288 with 1 Axes>"
      ]
     },
     "metadata": {
      "needs_background": "light"
     },
     "output_type": "display_data"
    }
   ],
   "source": [
    "color = cycle(\"rgbcmk\")\n",
    "xrange = np.linspace(0, np.max(lengths))\n",
    "show_paulis = benchmark_paulis\n",
    "fit_data = {}\n",
    "for p in show_paulis:\n",
    "    vals = [ordered_results[p][l]['count'] for l in lengths]\n",
    "    popt, pcov = curve_fit(lambda x,a,b: a*np.exp(-b*x), lengths, vals, p0=[.8, .01])\n",
    "    fit_data[p] = np.exp(-popt[1])\n",
    "    c = next(color)\n",
    "    plt.plot(lengths, vals, c+\"X\")\n",
    "    plt.plot(xrange, [popt[0]*np.exp(-popt[1]*x) for x in xrange], c)"
   ]
  },
  {
   "cell_type": "code",
   "execution_count": 34,
   "metadata": {},
   "outputs": [
    {
     "data": {
      "image/png": "[encoded data removed]",
      "text/plain": [
       "<Figure size 432x288 with 1 Axes>"
      ]
     },
     "metadata": {
      "needs_background": "light"
     },
     "output_type": "display_data"
    }
   ],
   "source": [
    "show_paulis = [j+\"II\" for j in \"XYZ\"]\n",
    "for p in show_paulis:\n",
    "    plt.bar(p[0], 100*(1-fit_data[p]), color='b')\n"
   ]
  },
  {
   "cell_type": "code",
   "execution_count": 36,
   "metadata": {},
   "outputs": [
    {
     "data": {
      "image/png": "[encoded data removed]",
      "text/plain": [
       "<Figure size 432x288 with 1 Axes>"
      ]
     },
     "metadata": {
      "needs_background": "light"
     },
     "output_type": "display_data"
    }
   ],
   "source": [
    "show_paulis = [\"I\"+j+\"I\" for j in \"XYZ\"]\n",
    "for p in show_paulis:\n",
    "    plt.bar(p[1], 100*(1-fit_data[p]), color = 'b')"
   ]
  },
  {
   "cell_type": "code",
   "execution_count": 37,
   "metadata": {},
   "outputs": [
    {
     "data": {
      "image/png": "[encoded data removed]",
      "text/plain": [
       "<Figure size 432x288 with 1 Axes>"
      ]
     },
     "metadata": {
      "needs_background": "light"
     },
     "output_type": "display_data"
    }
   ],
   "source": [
    "show_paulis = [\"II\"+j for j in \"XYZ\"]\n",
    "for p in show_paulis:\n",
    "    plt.bar(p[2], 100*(1-fit_data[p]), color = 'b')"
   ]
  },
  {
   "cell_type": "code",
   "execution_count": 38,
   "metadata": {},
   "outputs": [
    {
     "data": {
      "image/png": "[encoded data removed]",
      "text/plain": [
       "<Figure size 432x288 with 1 Axes>"
      ]
     },
     "metadata": {
      "needs_background": "light"
     },
     "output_type": "display_data"
    }
   ],
   "source": [
    "show_paulis = [x + y + \"I\" for x in \"XYZ\" for y in \"XYZ\"]\n",
    "for p in show_paulis:\n",
    "    plt.bar(p[:2], 100*(1-fit_data[p]), color='b')"
   ]
  },
  {
   "cell_type": "code",
   "execution_count": 39,
   "metadata": {},
   "outputs": [
    {
     "data": {
      "image/png": "[encoded data removed]",
      "text/plain": [
       "<Figure size 432x288 with 1 Axes>"
      ]
     },
     "metadata": {
      "needs_background": "light"
     },
     "output_type": "display_data"
    }
   ],
   "source": [
    "show_paulis = [\"I\"+x+y for x in \"XYZ\" for y in \"XYZ\"]\n",
    "for p in show_paulis:\n",
    "    plt.bar(p[1:], 100*(1-fit_data[p]), color = 'b')"
   ]
  }
 ],
 "metadata": {
  "kernelspec": {
   "display_name": "Python 3.10.5 64-bit",
   "language": "python",
   "name": "python3"
  },
  "language_info": {
   "codemirror_mode": {
    "name": "ipython",
    "version": 3
   },
   "file_extension": ".py",
   "mimetype": "text/x-python",
   "name": "python",
   "nbconvert_exporter": "python",
   "pygments_lexer": "ipython3",
   "version": "3.10.5"
  },
  "orig_nbformat": 4,
  "vscode": {
   "interpreter": {
    "hash": "e7370f93d1d0cde622a1f8e1c04877d8463912d04d973331ad4851f04de6915a"
   }
  }
 },
 "nbformat": 4,
 "nbformat_minor": 2
}
