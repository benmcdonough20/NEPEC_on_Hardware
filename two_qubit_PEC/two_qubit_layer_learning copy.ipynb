{
 "cells": [
  {
   "cell_type": "code",
   "execution_count": 114,
   "metadata": {},
   "outputs": [],
   "source": [
    "from qiskit import QuantumCircuit, transpile\n",
    "from qiskit.quantum_info import Pauli, pauli_basis, SuperOp, PTM, Operator\n",
    "from qiskit.circuit.library import CXGate, CZGate, HGate, SGate, SdgGate\n",
    "from random import choice, choices\n",
    "from itertools import product, permutations, cycle\n",
    "from scipy.optimize import curve_fit, nnls\n",
    "from matplotlib import pyplot as plt\n",
    "import numpy as np\n",
    "from qiskit.providers.aer.noise import NoiseModel\n",
    "from qiskit.providers.fake_provider import FakeVigoV2\n",
    "from qiskit.providers.aer import Aer\n",
    "from typing import List, Tuple, Dict\n",
    "from qiskit.providers.backend import Backend, BackendV1, BackendV2\n",
    "from sympy import singularities\n",
    "\n",
    "plt.rcParams[\"figure.figsize\"] = (6.4,4.0)"
   ]
  },
  {
   "cell_type": "code",
   "execution_count": 115,
   "metadata": {},
   "outputs": [],
   "source": [
    "from FullProcedure import Layer, LearningProcedure, ProcedureAnalysis\n",
    "\n",
    "QUBIT = int\n",
    "DOUBLE_GATE = 2\n",
    "SINGLE_GATE = 1\n",
    "NUM_BASES = 9\n",
    "layer = Layer([0,1],[('cx',(0,1))],[])\n",
    "backend = FakeVigoV2()\n",
    "sim = Aer.get_backend(\"qasm_simulator\")\n",
    "\n",
    "tglp = LearningProcedure(layer, backend)"
   ]
  },
  {
   "cell_type": "code",
   "execution_count": 116,
   "metadata": {},
   "outputs": [],
   "source": [
    "from qiskit.providers.aer.noise import pauli_error\n",
    "from random import random\n",
    "\n",
    "errorgen = 4\n",
    "p_single = .001\n",
    "errorops = choices(pauli_basis(2, pauli_list = True), k=errorgen)\n",
    "errorprobs = [random()*.05/errorgen for op in errorops]\n",
    "twoqubit_error = pauli_error([(op, p) for op,p in zip(errorops, errorprobs)]+[(Pauli(\"II\"), 1-sum(errorprobs))])\n",
    "noise_model = NoiseModel()\n",
    "noise_model.add_all_qubit_quantum_error(twoqubit_error, ['cx','cz'])\n",
    "singlequbit_error = pauli_error([(Pauli(\"X\"), p_single), (Pauli(\"Y\"), p_single), (Pauli(\"Z\"), p_single),(Pauli(\"I\"), 1-3*p_single)])\n",
    "noise_model.add_all_qubit_quantum_error(singlequbit_error, ['x','sx','rz'])"
   ]
  },
  {
   "cell_type": "code",
   "execution_count": 117,
   "metadata": {},
   "outputs": [
    {
     "data": {
      "image/png": "[encoded data removed]",
      "text/plain": [
       "<Figure size 460.8x288 with 1 Axes>"
      ]
     },
     "metadata": {
      "needs_background": "light"
     },
     "output_type": "display_data"
    }
   ],
   "source": [
    "\n",
    "real_errors = {}\n",
    "q2_transfer = PTM(twoqubit_error.to_quantumchannel())\n",
    "q1_transfer = PTM(singlequbit_error.to_quantumchannel())\n",
    "transfer_matrix = q1_transfer.tensor(q1_transfer).compose(q2_transfer).data\n",
    "#transfer_matrix = PTM(twoqubit_error.to_quantumchannel()).data\n",
    "for i,pauli in enumerate(pauli_basis(2, pauli_list = True)):\n",
    "    real_errors[pauli] = transfer_matrix[i][i]\n",
    "    plt.bar(pauli.to_label(), 10*(1-transfer_matrix[i][i]).real)"
   ]
  },
  {
   "cell_type": "code",
   "execution_count": 118,
   "metadata": {},
   "outputs": [
    {
     "name": "stdout",
     "output_type": "stream",
     "text": [
      "2940 / 2940\r"
     ]
    }
   ],
   "source": [
    "circuits, metadatas = tglp.procedure([0,2,4,8,16,32], [100,32,32,32,32,32],100)"
   ]
  },
  {
   "cell_type": "code",
   "execution_count": 119,
   "metadata": {},
   "outputs": [],
   "source": [
    "tglp.depths = [0,2,4,8,16,32]\n",
    "tglp.single_samples = 100"
   ]
  },
  {
   "cell_type": "code",
   "execution_count": 120,
   "metadata": {},
   "outputs": [],
   "source": [
    "analysis = ProcedureAnalysis.fromExperiment(tglp)"
   ]
  },
  {
   "cell_type": "code",
   "execution_count": 121,
   "metadata": {},
   "outputs": [],
   "source": [
    "results = sim.run(circuits, shots=250, noise_model = noise_model).result().get_counts()"
   ]
  },
  {
   "cell_type": "code",
   "execution_count": 122,
   "metadata": {},
   "outputs": [],
   "source": [
    "basis_dict = analysis.analyze(results, metadatas)"
   ]
  },
  {
   "cell_type": "code",
   "execution_count": 123,
   "metadata": {},
   "outputs": [],
   "source": [
    "def display(*paulis):\n",
    "    fidelities = []\n",
    "    fidelities_calculated = []\n",
    "    ax = np.arange(len(tglp.model_paulis))\n",
    "    for p in tglp.model_paulis:\n",
    "        fid = basis_dict[p]['fidelity']\n",
    "        if(basis_dict[p]['type'] == 'pair'):\n",
    "            pair = tglp.commute_layer(p)\n",
    "            fid = fid**2/basis_dict[pair]['fidelity']\n",
    "        fidelities.append(fid)\n",
    "        fidelities_calculated.append(real_errors[p])\n",
    "    plt.bar(ax+.2, [10*(1-f) for f in fidelities], .4,color='b')\n",
    "    plt.bar(ax-.2, [10*(1-f) for f in fidelities_calculated],.4, color='r')\n",
    "    plt.xticks(ax, tglp.model_paulis)"
   ]
  },
  {
   "cell_type": "markdown",
   "metadata": {},
   "source": []
  },
  {
   "cell_type": "code",
   "execution_count": 124,
   "metadata": {},
   "outputs": [
    {
     "name": "stderr",
     "output_type": "stream",
     "text": [
      "/home/ben/.local/lib/python3.10/site-packages/matplotlib/transforms.py:775: ComplexWarning: Casting complex values to real discards the imaginary part\n",
      "  points = np.asarray(points, float)\n"
     ]
    },
    {
     "data": {
      "image/png": "[encoded data removed]",
      "text/plain": [
       "<Figure size 460.8x288 with 1 Axes>"
      ]
     },
     "metadata": {
      "needs_background": "light"
     },
     "output_type": "display_data"
    }
   ],
   "source": [
    "display(*tglp.model_paulis)"
   ]
  },
  {
   "cell_type": "code",
   "execution_count": 125,
   "metadata": {},
   "outputs": [],
   "source": [
    "F1 = []\n",
    "F2 = []\n",
    "fidelities = []\n",
    "for key in tglp.model_paulis:\n",
    "    F1.append(key)\n",
    "    fidelities.append(basis_dict[key]['fidelity'])\n",
    "    if basis_dict[key][\"type\"] == \"pair\":\n",
    "        pair = tglp.commute_layer(key)\n",
    "        F2.append(pair)\n",
    "    else:\n",
    "        F2.append(Pauli(\"I\"*tglp.n))"
   ]
  },
  {
   "cell_type": "code",
   "execution_count": 126,
   "metadata": {},
   "outputs": [],
   "source": [
    "import scipy as sc\n",
    "def fit_model():\n",
    "    F1 = []\n",
    "    F2 = []\n",
    "    fidelities = []\n",
    "    for key in tglp.model_paulis:\n",
    "        F1.append(key)\n",
    "        fidelities.append(basis_dict[key]['fidelity'])\n",
    "        if basis_dict[key][\"type\"] == \"pair\":\n",
    "            pair = tglp.commute_layer(key)\n",
    "            F2.append(pair)\n",
    "        else:\n",
    "            F2.append(Pauli(\"I\"*tglp.n))\n",
    "    \n",
    "    sprod = lambda a,b: int(a.anticommutes(b))\n",
    "    M1 = [[sprod(a,b) for a in tglp.model_paulis] for b in F1]\n",
    "    M2 = [[sprod(a,b) for a in tglp.model_paulis] for b in F2]\n",
    "    coeffs,rnorm = sc.optimize.nnls(np.add(M1,M2), -np.log(fidelities))\n",
    "    print(rnorm)\n",
    "    return list(zip(coeffs, tglp.model_paulis))"
   ]
  },
  {
   "cell_type": "code",
   "execution_count": 129,
   "metadata": {},
   "outputs": [
    {
     "ename": "NameError",
     "evalue": "name 'expfit' is not defined",
     "output_type": "error",
     "traceback": [
      "\u001b[0;31m---------------------------------------------------------------------------\u001b[0m",
      "\u001b[0;31mNameError\u001b[0m                                 Traceback (most recent call last)",
      "\u001b[1;32m/home/ben/Documents/NEPEC_on_Hardware/two_qubit_PEC/two_qubit_layer_learning copy.ipynb Cell 15\u001b[0m in \u001b[0;36m<cell line: 1>\u001b[0;34m()\u001b[0m\n\u001b[0;32m----> <a href='vscode-notebook-cell:/home/ben/Documents/NEPEC_on_Hardware/two_qubit_PEC/two_qubit_layer_learning%20copy.ipynb#Y151sZmlsZQ%3D%3D?line=0'>1</a>\u001b[0m analysis\u001b[39m.\u001b[39;49mgraph(Pauli(\u001b[39m\"\u001b[39;49m\u001b[39mXZ\u001b[39;49m\u001b[39m\"\u001b[39;49m))\n",
      "File \u001b[0;32m~/Documents/NEPEC_on_Hardware/two_qubit_PEC/FullProcedure.py:486\u001b[0m, in \u001b[0;36mProcedureAnalysis.graph\u001b[0;34m(self, *paulis)\u001b[0m\n\u001b[1;32m    484\u001b[0m c \u001b[39m=\u001b[39m \u001b[39mnext\u001b[39m(colcy)\n\u001b[1;32m    485\u001b[0m data \u001b[39m=\u001b[39m \u001b[39mself\u001b[39m\u001b[39m.\u001b[39mdata[p][\u001b[39m'\u001b[39m\u001b[39mexpectation\u001b[39m\u001b[39m'\u001b[39m]\n\u001b[0;32m--> 486\u001b[0m popt, pcov \u001b[39m=\u001b[39m curve_fit(expfit, depths, data, p0\u001b[39m=\u001b[39m[\u001b[39m.9\u001b[39m,\u001b[39m.01\u001b[39m])\n\u001b[1;32m    487\u001b[0m xrange \u001b[39m=\u001b[39m np\u001b[39m.\u001b[39mlinspace(\u001b[39m0\u001b[39m,np\u001b[39m.\u001b[39mmax(depths))\n\u001b[1;32m    488\u001b[0m plt\u001b[39m.\u001b[39mplot(depths, data, c\u001b[39m+\u001b[39m\u001b[39m\"\u001b[39m\u001b[39mX\u001b[39m\u001b[39m\"\u001b[39m)\n",
      "\u001b[0;31mNameError\u001b[0m: name 'expfit' is not defined"
     ]
    }
   ],
   "source": [
    "analysis.graph(Pauli(\"XZ\"))"
   ]
  },
  {
   "cell_type": "code",
   "execution_count": 130,
   "metadata": {},
   "outputs": [
    {
     "name": "stdout",
     "output_type": "stream",
     "text": [
      "0.03295438953507978\n"
     ]
    },
    {
     "data": {
      "image/png": "[encoded data removed]",
      "text/plain": [
       "<Figure size 1440x396 with 1 Axes>"
      ]
     },
     "metadata": {
      "needs_background": "light"
     },
     "output_type": "display_data"
    }
   ],
   "source": [
    "plt.rcParams[\"figure.figsize\"] = (20,5.5)\n",
    "for coeff,term in fit_model():\n",
    "        plt.bar(term.to_label(), coeff, color='b')"
   ]
  }
 ],
 "metadata": {
  "kernelspec": {
   "display_name": "Python 3.10.5 64-bit",
   "language": "python",
   "name": "python3"
  },
  "language_info": {
   "codemirror_mode": {
    "name": "ipython",
    "version": 3
   },
   "file_extension": ".py",
   "mimetype": "text/x-python",
   "name": "python",
   "nbconvert_exporter": "python",
   "pygments_lexer": "ipython3",
   "version": "3.10.5"
  },
  "orig_nbformat": 4,
  "vscode": {
   "interpreter": {
    "hash": "e7370f93d1d0cde622a1f8e1c04877d8463912d04d973331ad4851f04de6915a"
   }
  }
 },
 "nbformat": 4,
 "nbformat_minor": 2
}
