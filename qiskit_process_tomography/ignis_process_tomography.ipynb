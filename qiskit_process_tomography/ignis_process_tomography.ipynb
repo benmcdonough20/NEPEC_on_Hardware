{
 "cells": [
  {
   "cell_type": "code",
   "execution_count": 5,
   "id": "814032e1",
   "metadata": {},
   "outputs": [],
   "source": [
    "from qiskit import QuantumCircuit, execute\n",
    "\n",
    "#This package will soon be depreciated in favor of the new qiskit_experiments package,\n",
    "#although this one has more documentation\n",
    "from qiskit.ignis.verification.tomography import process_tomography_circuits, ProcessTomographyFitter\n",
    "from qiskit.test.mock import FakeVigo\n",
    "import qiskit.quantum_info as qi\n",
    "\n",
    "import qiskit.quantum_info as qi\n",
    "from numpy import pi\n",
    "\n",
    "backend = FakeVigo()"
   ]
  },
  {
   "cell_type": "code",
   "execution_count": 6,
   "id": "fb15af41",
   "metadata": {},
   "outputs": [],
   "source": [
    "qc = QuantumCircuit(1)\n",
    "qc.ry(pi/2, 0);\n",
    "\n",
    "qpt_circs = process_tomography_circuits(qc,[0])"
   ]
  },
  {
   "cell_type": "code",
   "execution_count": 7,
   "id": "b5ef64ae",
   "metadata": {},
   "outputs": [],
   "source": [
    "job = execute(qpt_circs, backend, shots = 4000)"
   ]
  },
  {
   "cell_type": "code",
   "execution_count": 8,
   "id": "2b2b46f5",
   "metadata": {},
   "outputs": [
    {
     "data": {
      "text/plain": [
       "{(('Zp',), ('X',)): {'1': 280, '0': 3720},\n",
       " (('Zp',), ('Y',)): {'1': 1987, '0': 2013},\n",
       " (('Zp',), ('Z',)): {'0': 1974, '1': 2026},\n",
       " (('Zm',), ('X',)): {'0': 321, '1': 3679},\n",
       " (('Zm',), ('Y',)): {'1': 2040, '0': 1960},\n",
       " (('Zm',), ('Z',)): {'1': 1974, '0': 2026},\n",
       " (('Xp',), ('X',)): {'1': 1997, '0': 2003},\n",
       " (('Xp',), ('Y',)): {'1': 1966, '0': 2034},\n",
       " (('Xp',), ('Z',)): {'0': 323, '1': 3677},\n",
       " (('Yp',), ('X',)): {'0': 1975, '1': 2025},\n",
       " (('Yp',), ('Y',)): {'1': 297, '0': 3703},\n",
       " (('Yp',), ('Z',)): {'0': 1963, '1': 2037}}"
      ]
     },
     "execution_count": 8,
     "metadata": {},
     "output_type": "execute_result"
    }
   ],
   "source": [
    "qpt_tomo = ProcessTomographyFitter(job.result(), qpt_circs)\n",
    "qpt_tomo.data"
   ]
  },
  {
   "cell_type": "code",
   "execution_count": 9,
   "id": "dfb7ac12",
   "metadata": {},
   "outputs": [],
   "source": [
    "#Fitting\n",
    "\n",
    "choi_fit = qpt_tomo.fit(method='lstsq')\n",
    "kraus_ops = qi.Kraus(choi_fit)"
   ]
  },
  {
   "cell_type": "code",
   "execution_count": 10,
   "id": "16a7a731",
   "metadata": {},
   "outputs": [
    {
     "name": "stdout",
     "output_type": "stream",
     "text": [
      "Kraus op no. 0:\n",
      "\n",
      "[[ 0.6636797 +1.36678359e-17j -0.66808175+6.53073765e-04j]\n",
      " [ 0.67190644+1.12918231e-02j  0.65946189+1.59028745e-02j]]\n",
      "\n",
      "\n",
      "Kraus op no. 1:\n",
      "\n",
      "[[-0.13226586-8.91474612e-16j  0.04120032+5.91822452e-02j]\n",
      " [ 0.10753629-3.69024405e-02j  0.06342355+1.00966213e-01j]]\n",
      "\n",
      "\n",
      "Kraus op no. 2:\n",
      "\n",
      "[[-0.14352132-6.25886739e-10j -0.05713743-1.41910592e-01j]\n",
      " [ 0.13584058+3.85751965e-02j -0.04798113-1.81956329e-01j]]\n",
      "\n",
      "\n",
      "Kraus op no. 3:\n",
      "\n",
      "[[-0.12221549-6.17753354e-12j -0.175029  +3.04612527e-02j]\n",
      " [-0.14555217+2.93639030e-02j  0.09343348+5.28940526e-04j]]\n",
      "\n",
      "\n"
     ]
    }
   ],
   "source": [
    "for i,op in enumerate(kraus_ops.data):\n",
    "    print(\"Kraus op no. \" + str(i) + \":\\n\")\n",
    "    print(op)\n",
    "    print(\"\\n\")"
   ]
  },
  {
   "cell_type": "code",
   "execution_count": 11,
   "id": "53fef5ac",
   "metadata": {},
   "outputs": [
    {
     "name": "stdout",
     "output_type": "stream",
     "text": [
      "Choi([[ 0.4935 +0.j     ,  0.43   -0.00325j, -0.41925-0.00925j,\n",
      "        0.42475-0.02325j],\n",
      "      [ 0.43   +0.00325j,  0.5065 +0.j     , -0.4335 +0.0005j ,\n",
      "        0.41925+0.00925j],\n",
      "      [-0.41925+0.00925j, -0.4335 -0.0005j ,  0.5065 +0.j     ,\n",
      "       -0.41975+0.01j   ],\n",
      "      [ 0.42475+0.02325j,  0.41925-0.00925j, -0.41975-0.01j   ,\n",
      "        0.4935 +0.j     ]],\n",
      "     input_dims=(2,), output_dims=(2,))\n"
     ]
    }
   ],
   "source": [
    "print(choi_fit)"
   ]
  },
  {
   "cell_type": "code",
   "execution_count": null,
   "id": "f6631ba3",
   "metadata": {},
   "outputs": [],
   "source": []
  }
 ],
 "metadata": {
  "kernelspec": {
   "display_name": "Python 3 (ipykernel)",
   "language": "python",
   "name": "python3"
  },
  "language_info": {
   "codemirror_mode": {
    "name": "ipython",
    "version": 3
   },
   "file_extension": ".py",
   "mimetype": "text/x-python",
   "name": "python",
   "nbconvert_exporter": "python",
   "pygments_lexer": "ipython3",
   "version": "3.10.5"
  }
 },
 "nbformat": 4,
 "nbformat_minor": 5
}
