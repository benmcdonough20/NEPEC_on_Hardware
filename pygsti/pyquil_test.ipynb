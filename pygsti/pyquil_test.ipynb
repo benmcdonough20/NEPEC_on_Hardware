{
 "cells": [
  {
   "cell_type": "code",
   "execution_count": 84,
   "id": "d02498f7",
   "metadata": {},
   "outputs": [],
   "source": [
    "from pyquil import Program, get_qc\n",
    "from pyquil.gates import *\n",
    "import numpy as np"
   ]
  },
  {
   "cell_type": "code",
   "execution_count": 86,
   "id": "845f1873",
   "metadata": {},
   "outputs": [
    {
     "data": {
      "text/plain": [
       "<pyquil.quil.Program at 0x7f5c1feff100>"
      ]
     },
     "execution_count": 86,
     "metadata": {},
     "output_type": "execute_result"
    }
   ],
   "source": [
    "prog = Program()\n",
    "ro = prog.declare(\"ro\", \"BIT\", 2)\n",
    "prog += X(0)\n",
    "prog += X(0)\n",
    "prog += MEASURE(0, ro[0])\n",
    "\n",
    "prog.wrap_in_numshots_loop(10)"
   ]
  },
  {
   "cell_type": "code",
   "execution_count": 89,
   "id": "57ff273e",
   "metadata": {},
   "outputs": [],
   "source": [
    "qvm = get_qc('9q-square', as_qvm=True, noisy=True)\n",
    "executable = qvm.compile(prog)\n",
    "result = qvm.run(executable)\n",
    "data = result.readout_data\n",
    "bitstrings = data.get(\"ro\")"
   ]
  }
 ],
 "metadata": {
  "kernelspec": {
   "display_name": "Python 3 (ipykernel)",
   "language": "python",
   "name": "python3"
  },
  "language_info": {
   "codemirror_mode": {
    "name": "ipython",
    "version": 3
   },
   "file_extension": ".py",
   "mimetype": "text/x-python",
   "name": "python",
   "nbconvert_exporter": "python",
   "pygments_lexer": "ipython3",
   "version": "3.10.5"
  }
 },
 "nbformat": 4,
 "nbformat_minor": 5
}
