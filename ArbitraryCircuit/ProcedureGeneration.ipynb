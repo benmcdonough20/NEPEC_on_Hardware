{
 "cells": [
  {
   "cell_type": "code",
   "execution_count": 1,
   "metadata": {},
   "outputs": [],
   "source": [
    "from qiskit import QuantumCircuit\n",
    "from qiskit.dagcircuit import DAGCircuit\n",
    "from qiskit.converters import circuit_to_dag, dag_to_circuit\n",
    "from qiskit.tools.visualization import dag_drawer\n",
    "import pickle\n",
    "\n",
    "from SparsePauliExperiment import LearningProcedure"
   ]
  },
  {
   "cell_type": "code",
   "execution_count": 2,
   "metadata": {},
   "outputs": [
    {
     "data": {
      "text/plain": [
       "<qiskit.circuit.instructionset.InstructionSet at 0x7f5b3b3bd600>"
      ]
     },
     "execution_count": 2,
     "metadata": {},
     "output_type": "execute_result"
    }
   ],
   "source": [
    "qc = QuantumCircuit(4,4)\n",
    "qc.x(0)\n",
    "qc.cx(0,1)\n",
    "qc.cx(2,3)\n",
    "qc.x(0)\n",
    "qc.x(1)\n",
    "qc.cx(0,1)\n",
    "qc.cx(2,3)\n",
    "qc.cx(1,2)\n",
    "qc.measure(range(4), range(4))"
   ]
  },
  {
   "cell_type": "code",
   "execution_count": 3,
   "metadata": {},
   "outputs": [
    {
     "data": {
      "text/html": [
       "<pre style=\"word-wrap: normal;white-space: pre;background: #fff0;line-height: 1.1;font-family: &quot;Courier New&quot;,Courier,monospace\">     ┌───┐     ┌───┐          ┌─┐      \n",
       "q_0: ┤ X ├──■──┤ X ├──■───────┤M├──────\n",
       "     └───┘┌─┴─┐├───┤┌─┴─┐     └╥┘┌─┐   \n",
       "q_1: ─────┤ X ├┤ X ├┤ X ├──■───╫─┤M├───\n",
       "          └───┘└───┘└───┘┌─┴─┐ ║ └╥┘┌─┐\n",
       "q_2: ──■────■────────────┤ X ├─╫──╫─┤M├\n",
       "     ┌─┴─┐┌─┴─┐ ┌─┐      └───┘ ║  ║ └╥┘\n",
       "q_3: ┤ X ├┤ X ├─┤M├────────────╫──╫──╫─\n",
       "     └───┘└───┘ └╥┘            ║  ║  ║ \n",
       "c: 4/════════════╩═════════════╩══╩══╩═\n",
       "                 3             0  1  2 </pre>"
      ],
      "text/plain": [
       "     ┌───┐     ┌───┐          ┌─┐      \n",
       "q_0: ┤ X ├──■──┤ X ├──■───────┤M├──────\n",
       "     └───┘┌─┴─┐├───┤┌─┴─┐     └╥┘┌─┐   \n",
       "q_1: ─────┤ X ├┤ X ├┤ X ├──■───╫─┤M├───\n",
       "          └───┘└───┘└───┘┌─┴─┐ ║ └╥┘┌─┐\n",
       "q_2: ──■────■────────────┤ X ├─╫──╫─┤M├\n",
       "     ┌─┴─┐┌─┴─┐ ┌─┐      └───┘ ║  ║ └╥┘\n",
       "q_3: ┤ X ├┤ X ├─┤M├────────────╫──╫──╫─\n",
       "     └───┘└───┘ └╥┘            ║  ║  ║ \n",
       "c: 4/════════════╩═════════════╩══╩══╩═\n",
       "                 3             0  1  2 "
      ]
     },
     "execution_count": 3,
     "metadata": {},
     "output_type": "execute_result"
    }
   ],
   "source": [
    "qc.draw()"
   ]
  },
  {
   "cell_type": "code",
   "execution_count": 8,
   "metadata": {},
   "outputs": [
    {
     "data": {
      "text/html": [
       "<pre style=\"word-wrap: normal;white-space: pre;background: #fff0;line-height: 1.1;font-family: &quot;Courier New&quot;,Courier,monospace\">     ┌───┐      ░ ┌───┐      ░       ░ ┌─┐         \n",
       "q_0: ┤ X ├──■───░─┤ X ├──■───░───────░─┤M├─────────\n",
       "     └───┘┌─┴─┐ ░ ├───┤┌─┴─┐ ░       ░ └╥┘┌─┐      \n",
       "q_1: ─────┤ X ├─░─┤ X ├┤ X ├─░───■───░──╫─┤M├──────\n",
       "          └───┘ ░ └───┘└───┘ ░ ┌─┴─┐ ░  ║ └╥┘┌─┐   \n",
       "q_2: ──■────────░───■────────░─┤ X ├─░──╫──╫─┤M├───\n",
       "     ┌─┴─┐      ░ ┌─┴─┐      ░ └───┘ ░  ║  ║ └╥┘┌─┐\n",
       "q_3: ┤ X ├──────░─┤ X ├──────░───────░──╫──╫──╫─┤M├\n",
       "     └───┘      ░ └───┘      ░       ░  ║  ║  ║ └╥┘\n",
       "c: 4/═══════════════════════════════════╩══╩══╩══╩═\n",
       "                                        0  1  2  3 </pre>"
      ],
      "text/plain": [
       "     ┌───┐      ░ ┌───┐      ░       ░ ┌─┐         \n",
       "q_0: ┤ X ├──■───░─┤ X ├──■───░───────░─┤M├─────────\n",
       "     └───┘┌─┴─┐ ░ ├───┤┌─┴─┐ ░       ░ └╥┘┌─┐      \n",
       "q_1: ─────┤ X ├─░─┤ X ├┤ X ├─░───■───░──╫─┤M├──────\n",
       "          └───┘ ░ └───┘└───┘ ░ ┌─┴─┐ ░  ║ └╥┘┌─┐   \n",
       "q_2: ──■────────░───■────────░─┤ X ├─░──╫──╫─┤M├───\n",
       "     ┌─┴─┐      ░ ┌─┴─┐      ░ └───┘ ░  ║  ║ └╥┘┌─┐\n",
       "q_3: ┤ X ├──────░─┤ X ├──────░───────░──╫──╫──╫─┤M├\n",
       "     └───┘      ░ └───┘      ░       ░  ║  ║  ║ └╥┘\n",
       "c: 4/═══════════════════════════════════╩══╩══╩══╩═\n",
       "                                        0  1  2  3 "
      ]
     },
     "execution_count": 8,
     "metadata": {},
     "output_type": "execute_result"
    }
   ],
   "source": [
    "layers, measurements = circuit_to_benchmark_layers(qc)\n",
    "render_layers(layers, measurements).draw()"
   ]
  },
  {
   "cell_type": "code",
   "execution_count": 5,
   "metadata": {},
   "outputs": [],
   "source": [
    "def get_measurements(qc):\n",
    "    measurements = qc.copy_empty_like()\n",
    "    for inst in qc:\n",
    "        if inst.operation.name == \"measure\":\n",
    "            measurements.append(inst)\n",
    "    return measurements\n",
    "\n",
    "def circuit_to_benchmark_layers(qc):\n",
    "    layers = []\n",
    "    #remove final measurements and store as separate layer\n",
    "    measurements = get_measurements(qc)\n",
    "    #convert qc to a list of instructions\n",
    "    inst_list = [inst for inst in qc if inst.operation.name != \"measure\"] \n",
    "    #iterate through instructions adding to layers according to the rules until all are added\n",
    "    while inst_list:\n",
    "        circ = qc.copy_empty_like()\n",
    "        layer_qubits = set()\n",
    "\n",
    "        for inst in inst_list.copy():\n",
    "            if not layer_qubits.intersection(inst.qubits):\n",
    "                if len(inst.qubits) == 2:\n",
    "                    layer_qubits = layer_qubits.union(inst.qubits)\n",
    "                circ.append(inst)\n",
    "                inst_list.remove(inst)\n",
    "\n",
    "        layers.append(circ)\n",
    "\n",
    "    return layers, measurements"
   ]
  },
  {
   "cell_type": "code",
   "execution_count": 7,
   "metadata": {},
   "outputs": [],
   "source": [
    "def render_layers(layers, measurements):\n",
    "    qc = layers[0].copy_empty_like()\n",
    "    for l in layers:\n",
    "        qc = qc.compose(l)\n",
    "        qc.barrier()\n",
    "    qc = qc.compose(measurements)\n",
    "    return qc"
   ]
  },
  {
   "cell_type": "code",
   "execution_count": 9,
   "metadata": {},
   "outputs": [],
   "source": [
    "def hashable_layer(layer):\n",
    "    return tuple((inst.operation.name,) + tuple(q.index for q in inst.qubits) for inst in layer if len(inst.qubits) == 2)"
   ]
  },
  {
   "cell_type": "code",
   "execution_count": 10,
   "metadata": {},
   "outputs": [],
   "source": [
    "def benchmark_profiles(layers):\n",
    "    return list(dict([(hashable_layer(layer),layer) for layer in layers]).values())"
   ]
  },
  {
   "cell_type": "code",
   "execution_count": 11,
   "metadata": {},
   "outputs": [
    {
     "name": "stderr",
     "output_type": "stream",
     "text": [
      "/tmp/ipykernel_26408/174004657.py:2: DeprecationWarning: Back-references to from Bit instances to their containing Registers have been deprecated. Instead, inspect Registers to find their contained Bits.\n",
      "  return tuple((inst.operation.name,) + tuple(q.index for q in inst.qubits) for inst in layer if len(inst.qubits) == 2)\n"
     ]
    },
    {
     "data": {
      "text/plain": [
       "[<qiskit.circuit.quantumcircuit.QuantumCircuit at 0x7f5b1af7f040>,\n",
       " <qiskit.circuit.quantumcircuit.QuantumCircuit at 0x7f5b1af7f880>]"
      ]
     },
     "execution_count": 11,
     "metadata": {},
     "output_type": "execute_result"
    }
   ],
   "source": [
    "benchmark_profiles(layers)"
   ]
  },
  {
   "cell_type": "code",
   "execution_count": 12,
   "metadata": {},
   "outputs": [],
   "source": [
    "def benchmark_experiment(circuit, save_dir, backend, inst_map = None, depths = [1,4,16], samples = 50, single_samples = 50):\n",
    "    with open(save_dir+\"/circuit.pickle\", \"wb\") as f:\n",
    "        pickle.dump(circuit, f)\n",
    "    layers,_ = circuit_to_benchmark_layers(circuit)\n",
    "    profiles = benchmark_profiles(layers)\n",
    "\n",
    "    if not inst_map:\n",
    "        inst_map = sorted([q.index for q in circuit.qubits])\n",
    "\n",
    "    for i,profile in enumerate(profiles):\n",
    "        procedure = LearningProcedure(profile, inst_map, backend)\n",
    "        data = {\"layer\":profile, \"inst_map\": inst_map, \"samples\":samples, \"single_samples\":single_samples, \"model_terms\": procedure.model_terms}\n",
    "        circs = procedure.procedure(depths, samples, single_samples)\n",
    "        \n",
    "        with open(save_dir+\"/Profile\"+str(i)+\".data\", 'wb') as f:\n",
    "            pickle.dump(data, f)\n",
    "\n",
    "        with open(save_dir+\"/Profile\"+str(i)+\".circs\", 'wb') as f:\n",
    "            pickle.dump(circs, f)"
   ]
  },
  {
   "cell_type": "code",
   "execution_count": 13,
   "metadata": {},
   "outputs": [],
   "source": [
    "from qiskit.providers.fake_provider import FakeVigoV2"
   ]
  },
  {
   "cell_type": "code",
   "execution_count": 14,
   "metadata": {},
   "outputs": [
    {
     "name": "stderr",
     "output_type": "stream",
     "text": [
      "/tmp/ipykernel_26408/174004657.py:2: DeprecationWarning: Back-references to from Bit instances to their containing Registers have been deprecated. Instead, inspect Registers to find their contained Bits.\n",
      "  return tuple((inst.operation.name,) + tuple(q.index for q in inst.qubits) for inst in layer if len(inst.qubits) == 2)\n",
      "/tmp/ipykernel_26408/3986756806.py:8: DeprecationWarning: Back-references to from Bit instances to their containing Registers have been deprecated. Instead, inspect Registers to find their contained Bits.\n",
      "  inst_map = sorted([q.index for q in circuit.qubits])\n"
     ]
    },
    {
     "name": "stdout",
     "output_type": "stream",
     "text": [
      "Pauli bases chosen:  ['XXXX', 'YXYY', 'ZXZZ', 'XYXX', 'YYYY', 'ZYZZ', 'XZXX', 'YZYY', 'ZZZZ']\n",
      "Model terms: ['IYIX', 'IXIX', 'IYYI', 'YXII', 'XYII', 'YIII', 'IXXI', 'ZIII', 'IYII', 'YZII', 'IIXI', 'IYXI', 'XZII', 'IZIX', 'IYZI', 'ZYII', 'XXII', 'IIIY', 'IZIZ', 'IZII', 'IIIX', 'YYII', 'IZZI', 'IXIZ', 'IZYI', 'IXYI', 'IXZI', 'IXIY', 'IXII', 'IIIZ', 'IYIZ', 'XIII', 'IZXI', 'IIZI', 'IIYI', 'ZZII', 'IZIY', 'ZXII', 'IYIY']\n",
      "bases for singles:  [Pauli('IIXX'), Pauli('IIZY'), Pauli('IIYZ'), Pauli('IIZZ'), Pauli('IIYY'), Pauli('IIIY')]\n",
      "Generated 330 circuits\n",
      "Pauli bases chosen:  ['XXXX', 'YXYY', 'ZXZZ', 'XYXX', 'YYYY', 'ZYZZ', 'XZXX', 'YZYY', 'ZZZZ']\n",
      "Model terms: ['IYIX', 'IXIX', 'IYYI', 'YXII', 'XYII', 'YIII', 'IXXI', 'ZIII', 'IYII', 'YZII', 'IIXI', 'IYXI', 'XZII', 'IZIX', 'IYZI', 'ZYII', 'XXII', 'IIIY', 'IZIZ', 'IZII', 'IIIX', 'YYII', 'IZZI', 'IXIZ', 'IZYI', 'IXYI', 'IXZI', 'IXIY', 'IXII', 'IIIZ', 'IYIZ', 'XIII', 'IZXI', 'IIZI', 'IIYI', 'ZZII', 'IZIY', 'ZXII', 'IYIY']\n",
      "bases for singles:  [Pauli('IZII'), Pauli('IIYI'), Pauli('IYII'), Pauli('IYYI'), Pauli('IZYI'), Pauli('IIXI')]\n",
      "Generated 330 circuits\n"
     ]
    }
   ],
   "source": [
    "benchmark_experiment(qc, \"Data\", FakeVigoV2(), samples = 10, single_samples = 10)"
   ]
  }
 ],
 "metadata": {
  "kernelspec": {
   "display_name": "Python 3.10.4 ('qiskit_env')",
   "language": "python",
   "name": "python3"
  },
  "language_info": {
   "codemirror_mode": {
    "name": "ipython",
    "version": 3
   },
   "file_extension": ".py",
   "mimetype": "text/x-python",
   "name": "python",
   "nbconvert_exporter": "python",
   "pygments_lexer": "ipython3",
   "version": "3.10.4"
  },
  "orig_nbformat": 4,
  "vscode": {
   "interpreter": {
    "hash": "d4803144e0ca2433cbbdbc82809c7bf0c6dd86d5d16291a48205e2d911513c87"
   }
  }
 },
 "nbformat": 4,
 "nbformat_minor": 2
}
