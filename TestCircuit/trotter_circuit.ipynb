{
 "cells": [
  {
   "cell_type": "code",
   "execution_count": 457,
   "metadata": {},
   "outputs": [],
   "source": [
    "from qiskit import QuantumCircuit, transpile, ClassicalRegister\n",
    "from matplotlib import pyplot as plt\n",
    "from qiskit.providers.aer import Aer\n",
    "from qiskit.quantum_info import Pauli\n",
    "from random import choice, choices, random\n",
    "import numpy as np"
   ]
  },
  {
   "cell_type": "code",
   "execution_count": 3,
   "metadata": {},
   "outputs": [],
   "source": [
    "def trotterLayer(h,J,dt,n):\n",
    "    trotterLayer = QuantumCircuit(2*n)\n",
    "    trotterLayer.rx(4*h*dt, range(2*n))\n",
    "    trotterLayer.cx(*zip(*[(2*i, 2*i+1) for i in range(n)]))\n",
    "    trotterLayer.rz(-4*J*dt, [2*i+1 for i in range(n)])\n",
    "    trotterLayer.cx(*zip(*[(2*i, 2*i+1) for i in range(n)]))\n",
    "    trotterLayer.cx(*zip(*[(2*i+1, 2*i+2) for i in range(n-1)]))\n",
    "    trotterLayer.rz(-4*J*dt, [2*i+2 for i in range(n-1)])\n",
    "    trotterLayer.cx(*zip(*[(2*i+1, 2*i+2) for i in range(n-1)]))\n",
    "    return trotterLayer\n",
    "\n",
    "h = 1\n",
    "J = -.15\n",
    "dt = .25\n",
    "n = 2\n",
    "def maketrotterCircuit(s):\n",
    "    tL = trotterLayer(h, J, dt, n)\n",
    "    trotterCircuit = QuantumCircuit(n*2)\n",
    "    for i in range(s):\n",
    "        trotterCircuit = trotterCircuit.compose(tL)\n",
    "        trotterCircuit.barrier()\n",
    "    return trotterCircuit"
   ]
  },
  {
   "cell_type": "code",
   "execution_count": 4,
   "metadata": {},
   "outputs": [
    {
     "data": {
      "text/html": [
       "<pre style=\"word-wrap: normal;white-space: pre;background: #fff0;line-height: 1.1;font-family: &quot;Courier New&quot;,Courier,monospace\">     ┌───────┐                                            \n",
       "q_0: ┤ Rx(1) ├──■────────────────■────────────────────────\n",
       "     ├───────┤┌─┴─┐┌──────────┐┌─┴─┐                      \n",
       "q_1: ┤ Rx(1) ├┤ X ├┤ Rz(0.15) ├┤ X ├──■────────────────■──\n",
       "     ├───────┤└───┘└──────────┘└───┘┌─┴─┐┌──────────┐┌─┴─┐\n",
       "q_2: ┤ Rx(1) ├──■────────────────■──┤ X ├┤ Rz(0.15) ├┤ X ├\n",
       "     ├───────┤┌─┴─┐┌──────────┐┌─┴─┐└───┘└──────────┘└───┘\n",
       "q_3: ┤ Rx(1) ├┤ X ├┤ Rz(0.15) ├┤ X ├──────────────────────\n",
       "     └───────┘└───┘└──────────┘└───┘                      </pre>"
      ],
      "text/plain": [
       "     ┌───────┐                                            \n",
       "q_0: ┤ Rx(1) ├──■────────────────■────────────────────────\n",
       "     ├───────┤┌─┴─┐┌──────────┐┌─┴─┐                      \n",
       "q_1: ┤ Rx(1) ├┤ X ├┤ Rz(0.15) ├┤ X ├──■────────────────■──\n",
       "     ├───────┤└───┘└──────────┘└───┘┌─┴─┐┌──────────┐┌─┴─┐\n",
       "q_2: ┤ Rx(1) ├──■────────────────■──┤ X ├┤ Rz(0.15) ├┤ X ├\n",
       "     ├───────┤┌─┴─┐┌──────────┐┌─┴─┐└───┘└──────────┘└───┘\n",
       "q_3: ┤ Rx(1) ├┤ X ├┤ Rz(0.15) ├┤ X ├──────────────────────\n",
       "     └───────┘└───┘└──────────┘└───┘                      "
      ]
     },
     "execution_count": 4,
     "metadata": {},
     "output_type": "execute_result"
    }
   ],
   "source": [
    "step = trotterLayer(h,J,dt,n)\n",
    "step.draw()"
   ]
  },
  {
   "cell_type": "code",
   "execution_count": 378,
   "metadata": {},
   "outputs": [],
   "source": [
    "results = []\n",
    "backend = Aer.get_backend('qasm_simulator')\n",
    "\n",
    "for i in range(15):\n",
    "    qc = maketrotterCircuit(i)\n",
    "\n",
    "    measx = QuantumCircuit(n*2)\n",
    "    measx.h(range(n*2))\n",
    "    measy = QuantumCircuit(n*2)\n",
    "    measy.sdg(range(n*2))\n",
    "    measy.h(range(n*2))\n",
    "    measz = QuantumCircuit(n*2)\n",
    "\n",
    "    res = []\n",
    "\n",
    "    for basis in [measx, measy, measz]:\n",
    "        circ = qc.copy()\n",
    "        circ = circ.compose(basis)\n",
    "        circ.measure_all()\n",
    "        result = backend.run(circ)\n",
    "        count = result.result().get_counts()\n",
    "        count = {tuple(int(k) for k in key):count[key] for key in count.keys()}\n",
    "        tot = 0\n",
    "        for key in count.keys():\n",
    "            num = sum([(-1)**bit for bit in key])\n",
    "            tot += num*count[key]\n",
    "        res.append(tot/(1024*n*2))\n",
    "    \n",
    "    results.append(tuple(res))"
   ]
  },
  {
   "cell_type": "code",
   "execution_count": 379,
   "metadata": {},
   "outputs": [
    {
     "data": {
      "text/plain": [
       "[<matplotlib.lines.Line2D at 0x7f64668ee470>]"
      ]
     },
     "execution_count": 379,
     "metadata": {},
     "output_type": "execute_result"
    },
    {
     "data": {
      "image/png": "[encoded data removed]",
      "text/plain": [
       "<Figure size 432x288 with 1 Axes>"
      ]
     },
     "metadata": {
      "needs_background": "light"
     },
     "output_type": "display_data"
    }
   ],
   "source": [
    "x,y,z = zip(*results)\n",
    "plt.plot(y,z)"
   ]
  },
  {
   "cell_type": "code",
   "execution_count": 154,
   "metadata": {},
   "outputs": [],
   "source": [
    "def trotterstep_to_layers(step):\n",
    "    circuits = []\n",
    "    new_circ = QuantumCircuit(step.num_qubits)\n",
    "    old_qubits = set()\n",
    "    new_qubits = set()\n",
    "\n",
    "    for gate in step:\n",
    "        if gate.operation.num_qubits == 2:\n",
    "            for q in gate.qubits:\n",
    "                new_qubits.add(q)\n",
    "\n",
    "        if new_qubits.intersection(old_qubits):\n",
    "            old_qubits = new_qubits.copy()\n",
    "            new_qubits = set()\n",
    "            circuits.append(new_circ)\n",
    "            new_circ = QuantumCircuit(step.num_qubits)\n",
    "\n",
    "        if gate.operation.num_qubits == 1 and old_qubits:\n",
    "            new_qubits = set()\n",
    "            old_qubits = set()\n",
    "            circuits.append(new_circ)\n",
    "            new_circ = QuantumCircuit(step.num_qubits)\n",
    "\n",
    "        old_qubits = old_qubits.union(new_qubits)\n",
    "        new_circ.append(gate)\n",
    "        new_qubits = set()\n",
    "\n",
    "    circuits.append(new_circ)\n",
    "            \n",
    "    return circuits"
   ]
  },
  {
   "cell_type": "code",
   "execution_count": 185,
   "metadata": {},
   "outputs": [],
   "source": [
    "circs = trotterstep_to_layers(step)"
   ]
  },
  {
   "cell_type": "code",
   "execution_count": 202,
   "metadata": {},
   "outputs": [
    {
     "data": {
      "text/plain": [
       "{'1011': 34,\n",
       " '1111': 26,\n",
       " '1100': 107,\n",
       " '0101': 5,\n",
       " '1001': 14,\n",
       " '1010': 34,\n",
       " '0000': 343,\n",
       " '0010': 124,\n",
       " '0011': 89,\n",
       " '0111': 13,\n",
       " '1110': 34,\n",
       " '1000': 117,\n",
       " '0110': 14,\n",
       " '1101': 8,\n",
       " '0100': 33,\n",
       " '0001': 29}"
      ]
     },
     "execution_count": 202,
     "metadata": {},
     "output_type": "execute_result"
    }
   ],
   "source": [
    "qc = circs[0].copy()\n",
    "qc.measure_all()\n",
    "backend.run(qc).result().get_counts()"
   ]
  },
  {
   "cell_type": "code",
   "execution_count": 211,
   "metadata": {},
   "outputs": [
    {
     "data": {
      "text/html": [
       "<pre style=\"word-wrap: normal;white-space: pre;background: #fff0;line-height: 1.1;font-family: &quot;Courier New&quot;,Courier,monospace\">   ┌───────┐     \n",
       "0: ┤ Rx(1) ├──■──\n",
       "   ├───────┤┌─┴─┐\n",
       "1: ┤ Rx(1) ├┤ X ├\n",
       "   ├───────┤└───┘\n",
       "2: ┤ Rx(1) ├──■──\n",
       "   ├───────┤┌─┴─┐\n",
       "3: ┤ Rx(1) ├┤ X ├\n",
       "   └───────┘└───┘</pre>"
      ],
      "text/plain": [
       "   ┌───────┐     \n",
       "0: ┤ Rx(1) ├──■──\n",
       "   ├───────┤┌─┴─┐\n",
       "1: ┤ Rx(1) ├┤ X ├\n",
       "   ├───────┤└───┘\n",
       "2: ┤ Rx(1) ├──■──\n",
       "   ├───────┤┌─┴─┐\n",
       "3: ┤ Rx(1) ├┤ X ├\n",
       "   └───────┘└───┘"
      ]
     },
     "execution_count": 211,
     "metadata": {},
     "output_type": "execute_result"
    }
   ],
   "source": [
    "quack = QuantumCircuit(circs[0].qubits)\n",
    "quack = quack.compose(circs[0])\n",
    "quack.draw()"
   ]
  },
  {
   "cell_type": "markdown",
   "metadata": {},
   "source": [
    "Running with PEC"
   ]
  },
  {
   "cell_type": "code",
   "execution_count": 465,
   "metadata": {},
   "outputs": [],
   "source": [
    "def addWithoutPhase(pauli, qc):\n",
    "    p = Pauli((pauli.z, pauli.x))\n",
    "    for i,p in enumerate(pauli):\n",
    "        qc.append(p,[i])\n",
    "\n",
    "class TrotterCircuit:\n",
    "    def __init__(self, trotterLayers, noise_model, last_layer = None):\n",
    "        #trotter layers is a list of quantum circuits decomposed as a number of single gate layers follwed by a two-qubit layer (both optional)\n",
    "        #measurement_basis is the pauli expectation value to be measured\n",
    "        #noise_model is a list of lists of tuples with paulis and model coefficients for sampling\n",
    "        #the last_layer can be used if the trotter steps decompose in reverse order, if set it will trigger the subsequent layers to be flipped\n",
    "        self.trotterLayers = trotterLayers\n",
    "        self.noise_model = noise_model\n",
    "        self.last_layer = last_layer\n",
    "    \n",
    "\n",
    "    def layer_with_PEC(self,layer, noise_model, last_twirl = None):\n",
    "        circ = QuantumCircuit(layer.num_qubits)\n",
    "        circ.data = []\n",
    "        cliff = circ.copy()\n",
    "\n",
    "        if last_twirl:\n",
    "            addWithoutPhase(last_twirl, circ)\n",
    "\n",
    "        for gate in layer:\n",
    "            match gate.operation.num_qubits:\n",
    "                case 1:\n",
    "                    circ.append(gate)\n",
    "                case 2:\n",
    "                    cliff.append(gate)\n",
    "\n",
    "        pauli = Pauli(\"\".join(choices(\"IXYZ\", k=layer.num_qubits))) \n",
    "        mitigation, sign = self.sample(noise_model, layer.num_qubits)\n",
    "\n",
    "        addWithoutPhase(pauli,circ)\n",
    "        addWithoutPhase(mitigation,circ)\n",
    "\n",
    "        circ = circ.compose(cliff)\n",
    "\n",
    "        return circ, pauli.evolve(cliff), sign\n",
    "\n",
    "    def sample(self, noise_model,n):\n",
    "        operator = Pauli(\"I\"*n)\n",
    "        sgn = 0\n",
    "        for term, prob in noise_model:\n",
    "            if random() < prob:\n",
    "                operator = operator.compose(term)\n",
    "                sgn ^= 1\n",
    "        return operator, sgn\n",
    "\n",
    "    def trotterstep_with_PEC(self, pauli = None):\n",
    "        circ = QuantumCircuit(self.trotterLayers[0].num_qubits)\n",
    "        overall_sign = 0\n",
    "        for layer,noise_model in zip(self.trotterLayers, self.noise_model):\n",
    "            qc, pauli, sgn = self.layer_with_PEC(layer, noise_model, pauli)\n",
    "            circ = circ.compose(qc)\n",
    "            overall_sign ^= sgn\n",
    "            circ.barrier()\n",
    "        return circ, overall_sign,pauli\n",
    "\n",
    "    def trotter_with_PEC(self,reps,measurement_basis):\n",
    "        circ = QuantumCircuit(self.trotterLayers[0].num_qubits)\n",
    "        pauli = None\n",
    "        overall_sign = 0\n",
    "        for i in range(reps):\n",
    "            qc,sgn,pauli = self.trotterstep_with_PEC(pauli)\n",
    "            circ = circ.compose(qc)\n",
    "            overall_sign ^= sgn\n",
    "        if pauli:\n",
    "            addWithoutPhase(pauli, circ)\n",
    "        for i,m in enumerate(measurement_basis):\n",
    "            match m.to_label():\n",
    "                case \"X\":\n",
    "                    qc.h(i)\n",
    "                case \"Y\":\n",
    "                    qc.sdg(i)\n",
    "                    qc.h(i)\n",
    "        operator, sgn = self.sample(self.noise_model[-1], 4)\n",
    "        addWithoutPhase(operator, circ)\n",
    "        overall_sign ^= sgn\n",
    "        rostring = choices([0,1], k=4)\n",
    "        addWithoutPhase(Pauli(([0]*4, rostring)), circ) \n",
    "        \n",
    "        return circ, overall_sign, rostring[::-1]"
   ]
  },
  {
   "cell_type": "code",
   "execution_count": 466,
   "metadata": {},
   "outputs": [],
   "source": [
    "l = [(Pauli(\"XXII\"), -1), (Pauli(\"IIXX\"), -1)]\n",
    "tl = TrotterCircuit(circs, [l]*4)"
   ]
  },
  {
   "cell_type": "code",
   "execution_count": 467,
   "metadata": {},
   "outputs": [
    {
     "data": {
      "text/html": [
       "<pre style=\"word-wrap: normal;white-space: pre;background: #fff0;line-height: 1.1;font-family: &quot;Courier New&quot;,Courier,monospace\">     ┌───────┐┌───┐┌───┐     \n",
       "q_0: ┤ Rx(1) ├┤ X ├┤ I ├──■──\n",
       "     ├───────┤├───┤├───┤┌─┴─┐\n",
       "q_1: ┤ Rx(1) ├┤ X ├┤ I ├┤ X ├\n",
       "     ├───────┤├───┤├───┤└───┘\n",
       "q_2: ┤ Rx(1) ├┤ Y ├┤ I ├──■──\n",
       "     ├───────┤├───┤├───┤┌─┴─┐\n",
       "q_3: ┤ Rx(1) ├┤ I ├┤ I ├┤ X ├\n",
       "     └───────┘└───┘└───┘└───┘</pre>"
      ],
      "text/plain": [
       "     ┌───────┐┌───┐┌───┐     \n",
       "q_0: ┤ Rx(1) ├┤ X ├┤ I ├──■──\n",
       "     ├───────┤├───┤├───┤┌─┴─┐\n",
       "q_1: ┤ Rx(1) ├┤ X ├┤ I ├┤ X ├\n",
       "     ├───────┤├───┤├───┤└───┘\n",
       "q_2: ┤ Rx(1) ├┤ Y ├┤ I ├──■──\n",
       "     ├───────┤├───┤├───┤┌─┴─┐\n",
       "q_3: ┤ Rx(1) ├┤ I ├┤ I ├┤ X ├\n",
       "     └───────┘└───┘└───┘└───┘"
      ]
     },
     "execution_count": 467,
     "metadata": {},
     "output_type": "execute_result"
    }
   ],
   "source": [
    "circ,pauli,sign = tl.layer_with_PEC(circs[0], l)\n",
    "circ.draw()"
   ]
  },
  {
   "cell_type": "code",
   "execution_count": 468,
   "metadata": {},
   "outputs": [],
   "source": [
    "results = []\n",
    "backend = Aer.get_backend('qasm_simulator')\n",
    "\n"
   ]
  },
  {
   "cell_type": "code",
   "execution_count": 469,
   "metadata": {},
   "outputs": [],
   "source": [
    "results2 = []\n",
    "backend = Aer.get_backend('qasm_simulator')\n",
    "\n",
    "for i in range(15):\n",
    "    qc,_,rostring = tl.trotter_with_PEC(i,Pauli(\"ZZ\"))\n",
    "\n",
    "    measx = QuantumCircuit(n*2)\n",
    "    measx.h(range(n*2))\n",
    "    measy = QuantumCircuit(n*2)\n",
    "    measy.sdg(range(n*2))\n",
    "    measy.h(range(n*2))\n",
    "    measz = QuantumCircuit(n*2)\n",
    "\n",
    "    res = []\n",
    "\n",
    "    for basis in [measx, measy, measz]:\n",
    "        circ = qc.copy()\n",
    "        circ = circ.compose(basis)\n",
    "        circ.measure_all()\n",
    "        result = backend.run(circ)\n",
    "        count = result.result().get_counts()\n",
    "        count = {tuple(int(k) for k in key):count[key] for key in count.keys()}\n",
    "        tot = 0\n",
    "        for key in count.keys():\n",
    "            num = sum([(-1)**bit for bit in np.bitwise_xor(key, rostring)])\n",
    "            tot += num*count[key]\n",
    "        res.append(tot/(1024*n*2))\n",
    "    \n",
    "    results2.append(tuple(res))"
   ]
  },
  {
   "cell_type": "code",
   "execution_count": 470,
   "metadata": {},
   "outputs": [
    {
     "data": {
      "text/plain": [
       "[<matplotlib.lines.Line2D at 0x7f645ff21060>]"
      ]
     },
     "execution_count": 470,
     "metadata": {},
     "output_type": "execute_result"
    },
    {
     "data": {
      "image/png": "[encoded data removed]",
      "text/plain": [
       "<Figure size 432x288 with 1 Axes>"
      ]
     },
     "metadata": {
      "needs_background": "light"
     },
     "output_type": "display_data"
    }
   ],
   "source": [
    "x,y,z = zip(*results2)\n",
    "plt.plot(y,z)"
   ]
  }
 ],
 "metadata": {
  "kernelspec": {
   "display_name": "Python 3.10.5 64-bit",
   "language": "python",
   "name": "python3"
  },
  "language_info": {
   "codemirror_mode": {
    "name": "ipython",
    "version": 3
   },
   "file_extension": ".py",
   "mimetype": "text/x-python",
   "name": "python",
   "nbconvert_exporter": "python",
   "pygments_lexer": "ipython3",
   "version": "3.10.5"
  },
  "orig_nbformat": 4,
  "vscode": {
   "interpreter": {
    "hash": "e7370f93d1d0cde622a1f8e1c04877d8463912d04d973331ad4851f04de6915a"
   }
  }
 },
 "nbformat": 4,
 "nbformat_minor": 2
}
