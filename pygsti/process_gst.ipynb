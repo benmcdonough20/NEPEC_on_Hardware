{
 "cells": [
  {
   "cell_type": "markdown",
   "metadata": {},
   "source": [
    "# GST on Rigetti Backends with PyGSTi"
   ]
  },
  {
   "cell_type": "markdown",
   "metadata": {},
   "source": [
    "## Read data from experiment"
   ]
  },
  {
   "cell_type": "code",
   "execution_count": 16,
   "metadata": {},
   "outputs": [],
   "source": [
    "#PyGSTi tools\n",
    "import pygsti\n",
    "\n",
    "#pre-built gateset to use\n",
    "from pygsti.data.dataset import DataSet\n",
    "\n",
    "import pickle\n",
    "\n",
    "#Rigetti tools\n",
    "from forest.benchmarking.operator_tools import pauli_liouville2kraus\n",
    "from pyquil.gates import X\n",
    "from pyquil import Program"
   ]
  },
  {
   "cell_type": "code",
   "execution_count": 5,
   "metadata": {},
   "outputs": [],
   "source": [
    "data = pygsti.io.read_data_from_dir('experiment_data/rigetti_first_run')"
   ]
  },
  {
   "cell_type": "markdown",
   "metadata": {},
   "source": [
    "## Run GST on the data"
   ]
  },
  {
   "cell_type": "code",
   "execution_count": 6,
   "metadata": {},
   "outputs": [
    {
     "name": "stdout",
     "output_type": "stream",
     "text": [
      "-- Std Practice:  Iter 1 of 3  (TP) --: \n",
      "  --- Iterative GST: [##################################################] 100.0%  550 circuits ---\n",
      "  Iterative GST Total Time: 1.4s\n",
      "-- Std Practice:  Iter 2 of 3  (CPTP) --: \n",
      "  --- Iterative GST: [########------------------------------------------] 16.67%  96 circuits ---\r"
     ]
    },
    {
     "name": "stderr",
     "output_type": "stream",
     "text": [
      "\n",
      "WARNING: Treating result as *converged* after maximum iterations (100) were exceeded.\n"
     ]
    },
    {
     "name": "stdout",
     "output_type": "stream",
     "text": [
      "  --- Iterative GST: [##################################################] 100.0%  550 circuits ---\n",
      "  Iterative GST Total Time: 19.0s\n",
      "-- Std Practice:  Iter 3 of 3  (Target) --: \n"
     ]
    }
   ],
   "source": [
    "gst_protocol = pygsti.protocols.StandardGST('TP,CPTP,Target')\n",
    "results = gst_protocol.run(data)"
   ]
  },
  {
   "cell_type": "markdown",
   "metadata": {},
   "source": [
    "## Create GST report"
   ]
  },
  {
   "cell_type": "code",
   "execution_count": 5,
   "metadata": {},
   "outputs": [
    {
     "name": "stdout",
     "output_type": "stream",
     "text": [
      "Running idle tomography\n",
      "Computing switchable properties\n"
     ]
    }
   ],
   "source": [
    "report = pygsti.report.construct_standard_report(\n",
    "    results, title=\"GST Overview Tutorial Example Report\")"
   ]
  },
  {
   "cell_type": "markdown",
   "metadata": {},
   "source": [
    "## Constrain to TPCP and gauge-optimize"
   ]
  },
  {
   "cell_type": "code",
   "execution_count": 9,
   "metadata": {},
   "outputs": [
    {
     "name": "stdout",
     "output_type": "stream",
     "text": [
      "rho0 = TPState with dimension 4\n",
      " 0.71 0.02 0.03 0.69\n",
      "\n",
      "\n",
      "Mdefault = TPPOVM with effect vectors:\n",
      "0: FullPOVMEffect with dimension 4\n",
      " 0.81-0.01-0.03 0.61\n",
      "\n",
      "1: ComplementPOVMEffect with dimension 4\n",
      " 0.61 0.01 0.03-0.61\n",
      "\n",
      "\n",
      "\n",
      "Gxpi2:0 = \n",
      "FullTPOp with shape (4, 4)\n",
      " 1.00   0   0   0\n",
      "   0 0.99 0.03-0.03\n",
      "   0-0.03 0.01-0.98\n",
      "   0-0.03 0.98 0.01\n",
      "\n",
      "\n",
      "Gzpi2:0 = \n",
      "FullTPOp with shape (4, 4)\n",
      " 1.00   0   0   0\n",
      "   0   0-1.00-0.03\n",
      "   0 1.00   0 0.03\n",
      "   0-0.03-0.03 1.00\n",
      "\n",
      "\n",
      "\n",
      "\n"
     ]
    }
   ],
   "source": [
    "cptp_estimate = results.estimates['CPTP']\n",
    "cptp_estimate_final_model = cptp_estimate.models['stdgaugeopt']\n",
    "print(cptp_estimate_final_model)"
   ]
  },
  {
   "cell_type": "code",
   "execution_count": 10,
   "metadata": {},
   "outputs": [
    {
     "name": "stdout",
     "output_type": "stream",
     "text": [
      "Normalized Pauli-Product basis (dim=4), 4 elements of shape (2, 2) :\n",
      "I, X, Y, Z\n"
     ]
    }
   ],
   "source": [
    "print(cptp_estimate_final_model.basis)"
   ]
  },
  {
   "cell_type": "code",
   "execution_count": 11,
   "metadata": {},
   "outputs": [],
   "source": [
    "kraus_rep_x = pauli_liouville2kraus(cptp_estimate_final_model.operations[('Gxpi2',0)])\n",
    "kraus_rep_z = pauli_liouville2kraus(cptp_estimate_final_model.operations[('Gzpi2',0)])"
   ]
  },
  {
   "cell_type": "code",
   "execution_count": 12,
   "metadata": {},
   "outputs": [],
   "source": [
    "with open(\"XZ.kraus\", \"wb\") as f:\n",
    "    pickle.dump([kraus_rep_x,kraus_rep_z],f)"
   ]
  }
 ],
 "metadata": {
  "kernelspec": {
   "display_name": "Python 3 (ipykernel)",
   "language": "python",
   "name": "python3"
  },
  "language_info": {
   "codemirror_mode": {
    "name": "ipython",
    "version": 3
   },
   "file_extension": ".py",
   "mimetype": "text/x-python",
   "name": "python",
   "nbconvert_exporter": "python",
   "pygments_lexer": "ipython3",
   "version": "3.10.5"
  },
  "vscode": {
   "interpreter": {
    "hash": "d4803144e0ca2433cbbdbc82809c7bf0c6dd86d5d16291a48205e2d911513c87"
   }
  }
 },
 "nbformat": 4,
 "nbformat_minor": 4
}
