{
 "cells": [
  {
   "cell_type": "markdown",
   "metadata": {},
   "source": [
    "# GST on Rigetti Backends with PyGSTi"
   ]
  },
  {
   "cell_type": "markdown",
   "metadata": {},
   "source": [
    "## Read data from experiment"
   ]
  },
  {
   "cell_type": "code",
   "execution_count": 7,
   "metadata": {},
   "outputs": [],
   "source": [
    "data = pygsti.io.read_data_from_dir('tutorial_files/test_gst_dir/')"
   ]
  },
  {
   "cell_type": "markdown",
   "metadata": {},
   "source": [
    "## Run GST on the data"
   ]
  },
  {
   "cell_type": "code",
   "execution_count": 16,
   "metadata": {},
   "outputs": [
    {
     "name": "stdout",
     "output_type": "stream",
     "text": [
      "-- Std Practice:  Iter 1 of 3  (TP) --: \n",
      "  --- Iterative GST: [##################################################] 100.0%  784 circuits ---\n",
      "  Iterative GST Total Time: 2.4s\n",
      "-- Std Practice:  Iter 2 of 3  (CPTP) --: \n",
      "  --- Iterative GST: [########------------------------------------------] 16.67%  168 circuits ---\r"
     ]
    },
    {
     "name": "stderr",
     "output_type": "stream",
     "text": [
      "\n",
      "WARNING: Treating result as *converged* after maximum iterations (100) were exceeded.\n"
     ]
    },
    {
     "name": "stdout",
     "output_type": "stream",
     "text": [
      "  --- Iterative GST: [#################---------------------------------] 33.33%  285 circuits ---\r"
     ]
    },
    {
     "name": "stderr",
     "output_type": "stream",
     "text": [
      "\n",
      "WARNING: Treating result as *converged* after maximum iterations (100) were exceeded.\n"
     ]
    },
    {
     "name": "stdout",
     "output_type": "stream",
     "text": [
      "  --- Iterative GST: [##################################################] 100.0%  784 circuits ---\n",
      "  Iterative GST Total Time: 37.0s\n",
      "-- Std Practice:  Iter 3 of 3  (Target) --: \n"
     ]
    }
   ],
   "source": [
    "gst_protocol = pygsti.protocols.StandardGST('TP,CPTP,Target')\n",
    "results = gst_protocol.run(data)"
   ]
  },
  {
   "cell_type": "markdown",
   "metadata": {},
   "source": [
    "## Create GST report"
   ]
  },
  {
   "cell_type": "code",
   "execution_count": 9,
   "metadata": {},
   "outputs": [
    {
     "name": "stdout",
     "output_type": "stream",
     "text": [
      "Running idle tomography\n",
      "Computing switchable properties\n"
     ]
    }
   ],
   "source": [
    "report = pygsti.report.construct_standard_report(\n",
    "    results, title=\"GST Overview Tutorial Example Report\")"
   ]
  },
  {
   "cell_type": "markdown",
   "metadata": {},
   "source": [
    "## Constrain to TPCP and gauge-optimize"
   ]
  },
  {
   "cell_type": "code",
   "execution_count": 10,
   "metadata": {},
   "outputs": [
    {
     "name": "stdout",
     "output_type": "stream",
     "text": [
      "rho0 = TPState with dimension 4\n",
      " 0.71   0   0 0.71\n",
      "\n",
      "\n",
      "Mdefault = TPPOVM with effect vectors:\n",
      "0: FullPOVMEffect with dimension 4\n",
      " 0.71   0   0 0.71\n",
      "\n",
      "1: ComplementPOVMEffect with dimension 4\n",
      " 0.71   0   0-0.71\n",
      "\n",
      "\n",
      "\n",
      "[] = \n",
      "FullTPOp with shape (4, 4)\n",
      " 1.00   0   0   0\n",
      "   0 0.99   0   0\n",
      "   0   0 0.99   0\n",
      "   0   0   0 0.99\n",
      "\n",
      "\n",
      "Gxpi2:0 = \n",
      "FullTPOp with shape (4, 4)\n",
      " 1.00   0   0   0\n",
      "   0 0.99   0   0\n",
      "   0   0   0-0.99\n",
      "   0   0 0.99   0\n",
      "\n",
      "\n",
      "Gzpi2:0 = \n",
      "FullTPOp with shape (4, 4)\n",
      " 1.00   0   0   0\n",
      "   0   0   0 0.99\n",
      "   0   0 0.99   0\n",
      "   0-0.99   0   0\n",
      "\n",
      "\n",
      "\n",
      "\n"
     ]
    }
   ],
   "source": [
    "cptp_estimate = results.estimates['CPTP']\n",
    "cptp_estimate_final_model = cptp_estimate.models['stdgaugeopt']\n",
    "print(cptp_estimate_final_model)"
   ]
  }
 ],
 "metadata": {
  "kernelspec": {
   "display_name": "Python 3 (ipykernel)",
   "language": "python",
   "name": "python3"
  },
  "language_info": {
   "codemirror_mode": {
    "name": "ipython",
    "version": 3
   },
   "file_extension": ".py",
   "mimetype": "text/x-python",
   "name": "python",
   "nbconvert_exporter": "python",
   "pygments_lexer": "ipython3",
   "version": "3.10.5"
  },
  "vscode": {
   "interpreter": {
    "hash": "d4803144e0ca2433cbbdbc82809c7bf0c6dd86d5d16291a48205e2d911513c87"
   }
  }
 },
 "nbformat": 4,
 "nbformat_minor": 4
}
