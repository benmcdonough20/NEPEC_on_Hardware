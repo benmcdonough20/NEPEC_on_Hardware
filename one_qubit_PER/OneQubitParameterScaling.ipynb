{
 "cells": [
  {
   "cell_type": "code",
   "execution_count": 228,
   "id": "f1dd5d11",
   "metadata": {},
   "outputs": [],
   "source": [
    "#helper libraries\n",
    "import numpy as np\n",
    "from numpy.random import rand\n",
    "import math\n",
    "import scipy.optimize\n",
    "import matplotlib.pyplot as plt\n",
    "\n",
    "#qiskit functionalities\n",
    "from qiskit import Aer, execute, QuantumCircuit, QuantumRegister, ClassicalRegister\n",
    "from qiskit.tools.visualization import plot_histogram\n",
    "\n",
    "#noise model stuff\n",
    "from qiskit.providers.aer.noise import NoiseModel, kraus_error, pauli_error\n",
    "    \n",
    "#operator info\n",
    "from qiskit.quantum_info import PauliList, Pauli, Kraus\n",
    "from qiskit.circuit.library import XGate\n",
    "\n",
    "import PauliExperimentHelperFunctions as pe"
   ]
  },
  {
   "cell_type": "markdown",
   "id": "2959e40f",
   "metadata": {},
   "source": [
    "## Learn the model\n",
    "\n",
    "The module `PauliExperimentHelperFunctions` condenses all of the code from the previous journal into a few methods to make it more compact. The code below creates a noise model based on the parameters $\\lambda_k$ given in `coeffs`, then measures the fidelities of the Pauli operators in `F` at different circuit depths, performs a fit to get the fidelities, and lastly approximates model coefficients that match the measured fidelities using the least squares method."
   ]
  },
  {
   "cell_type": "code",
   "execution_count": 239,
   "id": "20d8350e",
   "metadata": {},
   "outputs": [
    {
     "name": "stdout",
     "output_type": "stream",
     "text": [
      "Manhattan distance between measured/ideal fidelity vectors:  0.00356\n",
      "Manhattan distance between measured/ideal model coefficients:  0.00229\n"
     ]
    }
   ],
   "source": [
    "n = 1 #Number of qubits\n",
    "F = PauliList(['I', 'X', 'Y', 'Z']) #list of paulis\n",
    "T = PauliList(['X', 'Y', 'Z']) #paulis considered in the model\n",
    "coeffs = [.07, .03, .01] #model coefficients\n",
    "\n",
    "#Kraus error channel\n",
    "noise_model = pe.build_noise_model(F, T, coeffs, n)\n",
    "\n",
    "backend = Aer.get_backend('qasm_simulator')\n",
    "gate = XGate() #the gate to use for noise profiling\n",
    "folds = 40 #number of folds to fit noise\n",
    "shots = 10000 #number of shots for expectation values\n",
    "\n",
    "#generate the circuits with increasing numbers of folds\n",
    "circuits = pe.generate_circuits('X', gate, folds)\n",
    "#extract expectation values at each circuit depth\n",
    "xfidelities = pe.fidelity_experiment(circuits, backend, noise_model,shots)\n",
    "\n",
    "#repeat for <Y>\n",
    "circuits = pe.generate_circuits('Y', gate, folds)\n",
    "yfidelities = pe.fidelity_experiment(circuits, backend, noise_model,shots)\n",
    "\n",
    "#repeat for <Z>\n",
    "circuits = pe.generate_circuits('Z', gate, folds)\n",
    "zfidelities = pe.fidelity_experiment(circuits, backend, noise_model,shots)\n",
    "\n",
    "measured_fidelities = pe.learn_fidelities(xfidelities, yfidelities, zfidelities)\n",
    "#get the coefficients from the fit\n",
    "measured_coeffs = pe.learn_model_coefficients(measured_fidelities, F, T)\n",
    "\n",
    "def unzip(zippedlist):\n",
    "    return [a for (x,a) in zippedlist]\n",
    "\n",
    "def manhattannorm(a, b):\n",
    "    return np.sum(np.abs(np.subtract(a,b)))\n",
    "\n",
    "print(\"Manhattan distance between measured/ideal fidelity vectors: \", \"%.5f\" %manhattannorm(unzip(pe.get_ideal_fidelities(F, T, coeffs)), unzip(measured_fidelities)))\n",
    "print(\"Manhattan distance between measured/ideal model coefficients: \", \"%.5f\" %manhattannorm(unzip(measured_coeffs), coeffs))"
   ]
  },
  {
   "cell_type": "code",
   "execution_count": 240,
   "id": "2ac48262",
   "metadata": {},
   "outputs": [
    {
     "data": {
      "text/html": [
       "<pre style=\"word-wrap: normal;white-space: pre;background: #fff0;line-height: 1.1;font-family: &quot;Courier New&quot;,Courier,monospace\">      ┌───┐┌─┐\n",
       "  q0: ┤ X ├┤M├\n",
       "      └───┘└╥┘\n",
       "c0: 1/══════╩═\n",
       "            0 </pre>"
      ],
      "text/plain": [
       "      ┌───┐┌─┐\n",
       "  q0: ┤ X ├┤M├\n",
       "      └───┘└╥┘\n",
       "c0: 1/══════╩═\n",
       "            0 "
      ]
     },
     "execution_count": 240,
     "metadata": {},
     "output_type": "execute_result"
    }
   ],
   "source": [
    "samples = 1000 #number of circuits to sample\n",
    "\n",
    "ideal_circuit = QuantumCircuit(qr, cr)\n",
    "ideal_circuit.x(0)\n",
    "ideal_circuit.measure(0,0); #expectation value \n",
    "ideal_circuit.draw()"
   ]
  },
  {
   "cell_type": "code",
   "execution_count": 241,
   "id": "177c73f5",
   "metadata": {},
   "outputs": [
    {
     "name": "stdout",
     "output_type": "stream",
     "text": [
      "-0.784\n"
     ]
    }
   ],
   "source": [
    "#Get the unmitigated expectation value\n",
    "job = execute(ideal_circuit, backend, noise_model = noise_model, basis_gates = noise_model.basis_gates, shots=samples)\n",
    "unmitigated_value = expectation(job.result().get_counts())\n",
    "print(unmitigated_value)"
   ]
  },
  {
   "cell_type": "markdown",
   "id": "7a7e37d7",
   "metadata": {},
   "source": [
    "## Parameter Noise Scaling\n",
    "\n",
    "I observed that the Sparse Pauli-Lindblad model gives rise to an intuitive definition of scaled noise by taking $\\lambda_k \\to \\lambda \\lambda_k$, where $\\lambda \\in [0,1]$ is the strength of the noise. Since all the terms in $\\mathcal{L}$ are mutually commuting,\n",
    "\n",
    "$$\n",
    "e^{\\lambda \\mathcal{L}(\\rho)} = e^{\\mathcal{L}(\\rho)-\\mathcal{L}(\\rho)}e^{\\lambda \\mathcal{L}(\\rho)} = \\Lambda(\\rho) e^{-(1-\\lambda)\\mathcal{L}(\\rho)}\n",
    "$$\n",
    "\n",
    "Let \n",
    "$$\n",
    "\\Lambda_{(\\lambda)}(\\rho) \\equiv e^{-(1-\\lambda)\\mathcal{L}(\\rho)}\n",
    "$$\n",
    "\n",
    "be the map that takes the noise to the desired strength. This map can be expanded into product form as before:\n",
    "\n",
    "$$\n",
    "\\Lambda_{(\\lambda)}(\\rho) = \\frac{1}{2}(e^{2(1-\\lambda)\\lambda_k}+1)\\rho-\\frac{1}{2}(e^{2(1-\\lambda)\\lambda_k}-1)P_k\\rho P_k\n",
    "$$\n",
    "\n",
    "When $\\lambda < 1$, it can be seen that $e^{2(1-\\lambda)\\lambda_k} > 1$, so the second term is negative. The overhead of the $k^\\text{th}$ term is then\n",
    "$$\n",
    "\\gamma_{(\\lambda)}^{(k)} = \\frac{1}{2}(e^{2(1-\\lambda)\\lambda_k}+1)+\\frac{1}{2}(e^{2(1-\\lambda)\\lambda_k}-1) = e^{2(1-\\lambda)\\lambda_k}\n",
    "$$\n",
    "And the total overhead is\n",
    "$$\n",
    "\\gamma_{(\\lambda)} = \\prod_{k \\in \\mathcal{T}} \\gamma_{(\\lambda)}^{(k)} = e^{2(1-\\lambda)\\sum_k\\lambda_k}\n",
    "$$\n",
    "The term $\\phi_k \\equiv \\frac{1}{2}(1+e^{-2(1-\\lambda)\\lambda_k})$ can be used to write the product in quasiprobability form:\n",
    "$$\n",
    "\\Lambda_{(\\lambda)}(\\rho) = \\gamma_{(\\lambda)}\\prod_{k\\in\\mathcal{T}} \\phi_k \\rho-(1-\\phi_k)P_k\\rho P_k\n",
    "$$\n",
    "The sampling can be accomplished with the same procedure as the inverse map. In the case where $\\lambda > 1$, then the second term in the sum is positive, and the product is already a probability distribution with overhead $1$.\n",
    "\n",
    "There is no natural limit to the scaling of this noise above hardware level. The largest error probability is\n",
    "$$\n",
    "\\prod_k \\frac{1}{2}(1-e^{-2(\\lambda-1)\\lambda_k}) < \\left(\\frac{1-e^{-2(\\lambda-1)\\lambda_{min}}}{2}\\right)^k <1\n",
    "$$\n",
    "Since $e^{-2(\\lambda-1)\\lambda_{min}}\\leq 1$ for all $\\lambda_{min}$, there is no upper bound on $\\lambda$."
   ]
  },
  {
   "cell_type": "code",
   "execution_count": 242,
   "id": "38c21758",
   "metadata": {},
   "outputs": [],
   "source": [
    "#re-build the circuit without the measurement at the end\n",
    "ideal_circuit = QuantumCircuit(qr, cr)\n",
    "ideal_circuit.x(0)\n",
    "\n",
    "#Follow the procedure for sampling gates\n",
    "def uniform_noise_scaling(lmbda, samples, ideal_circuit, measured_coeffs, backend, noise_model, T):\n",
    "    circuits = []\n",
    "    sgns = []\n",
    "\n",
    "    adjusted_omegas = .5*(np.exp(np.multiply(-2*(1-lmbda), measured_coeffs))+1)\n",
    "    \n",
    "    for i in range(samples):\n",
    "        m = 0 #m keeps track of the sign, with paulis carrying a negative sign\n",
    "        qc = ideal_circuit.copy()\n",
    "        op = Pauli('I')\n",
    "        for (omega, Pk) in zip(adjusted_omegas, T):\n",
    "            #with probability 1-\\omega_k, sample the Pauli gate and compose into operator\n",
    "            if rand() < 1-omega:\n",
    "                m+=1\n",
    "                op = op.compose(Pk) #Wow I spent so long on this silly line\n",
    "        qc.barrier()\n",
    "        qc.append(op.to_instruction(),[0])\n",
    "        qc.barrier()\n",
    "        qc.measure(0,0)\n",
    "        circuits.append(qc)\n",
    "        if lmbda < 1:\n",
    "            sgns.append((-1)**m)\n",
    "        else:\n",
    "            sgns.append(1)\n",
    "    \n",
    "    \n",
    "    job = execute(circuits, backend, noise_model = noise_model, basis_gates = noise_model.basis_gates, shots = 1)\n",
    "    \n",
    "    overhead = math.exp(2*(1-lmbda)*np.sum(measured_coeffs))\n",
    "    \n",
    "    total = 0\n",
    "    for (count,sgn) in zip(job.result().get_counts(),sgns):\n",
    "        total += pe.expectation(count)*sgn*overhead\n",
    "\n",
    "    mitigated_value = total/samples\n",
    "    \n",
    "    return mitigated_value"
   ]
  },
  {
   "cell_type": "markdown",
   "id": "de8b681f",
   "metadata": {},
   "source": [
    "## Uniform scaling test\n",
    "\n",
    "Testing the uniform scaling method for different strengths of noise"
   ]
  },
  {
   "cell_type": "code",
   "execution_count": 243,
   "id": "69f137f6",
   "metadata": {},
   "outputs": [],
   "source": [
    "lmbdas = [0, .2, .4, .6, .8, 1, 1.2]\n",
    "mitigated_values_scaling = []\n",
    "samples = 4096\n",
    "#Run the procedure for each lambda\n",
    "for lmbda in lmbdas:\n",
    "    mitigated_value = uniform_noise_scaling(lmbda, samples, ideal_circuit, unzip(measured_coeffs), backend, noise_model, T)\n",
    "    mitigated_values_scaling.append(mitigated_value)"
   ]
  },
  {
   "cell_type": "code",
   "execution_count": 274,
   "id": "11f5752c",
   "metadata": {},
   "outputs": [
    {
     "data": {
      "text/plain": [
       "<matplotlib.legend.Legend at 0x7f1b9c621c90>"
      ]
     },
     "execution_count": 274,
     "metadata": {},
     "output_type": "execute_result"
    },
    {
     "data": {
      "image/png": "[encoded data removed]",
      "text/plain": [
       "<Figure size 432x288 with 1 Axes>"
      ]
     },
     "metadata": {
      "needs_background": "light"
     },
     "output_type": "display_data"
    }
   ],
   "source": [
    "xrange = np.linspace(0, max(lmbdas), 100)\n",
    "plt.ylim([-1.1, -.75])\n",
    "mvs, = plt.plot(lmbdas, mitigated_values_scaling, 'go')\n",
    "umv, = plt.plot(1.0, unmitigated_value, 'bo')\n",
    "iv, = plt.plot(xrange, [-1]*len(xrange), '-.')\n",
    "plt.xlabel(\"Noise level\")\n",
    "plt.ylabel(\"Estimator value for %s shots\" %samples)\n",
    "plt.axvline(1)\n",
    "plt.title(\"Noise Level vs Estimator value\")\n",
    "plt.legend([umv, iv, mvs], ['Error-mitigated value', 'Unmitigated value', 'Ideal value'], loc=\"lower right\")"
   ]
  },
  {
   "cell_type": "markdown",
   "id": "4b1f3c6b",
   "metadata": {},
   "source": [
    "## Tunable Noise\n",
    "\n",
    "Another observation about this model is that each of the parameters can be tuned using the sampling method. Let\n",
    "$$\n",
    "\\mathcal{L}_{\\vec \\lambda}(\\rho) \\equiv \\sum_k \\lambda_k(P_k\\rho P_k-\\rho)\n",
    "$$\n",
    "Since all of the terms in $\\mathcal{L}_{\\vec \\lambda}$ and $\\mathcal{L}_{\\vec \\phi}$ commute with each other,\n",
    "$$\n",
    "e^{\\mathcal{L}_{\\vec \\lambda}}e^{\\mathcal{L}_{\\vec \\phi-\\vec \\lambda}} = e^{\\mathcal{L}_{\\vec \\lambda}}e^{-\\mathcal{L}_{\\vec \\lambda}}e^{\\mathcal{L}_{\\vec \\phi}} = e^{\\mathcal{L}_{\\vec \\phi}}\n",
    "$$\n",
    "The map $\\Lambda_{\\vec \\phi-\\vec \\lambda} = e^{\\mathcal{L}_{\\vec \\phi-\\vec \\lambda}}$ can be implemented to produce a noise model with individually tuned parameters. The product form is just as before:\n",
    "$$\n",
    "\\Lambda_{\\vec \\phi-\\vec \\lambda}(\\rho) = \\prod_k \\frac{1}{2}(1+e^{2(\\lambda_k-\\phi_k)})\\rho - \\frac{1}{2}(1-e^{2(\\lambda_k-\\phi_k)})P_k\\rho P_k\n",
    "$$\n",
    "Each of the terms can be scaled individually to give a QPD, resulting in the overhead\n",
    "$$\n",
    "\\gamma = \\prod_{\\{k \\ | \\ \\phi_k < \\lambda_k\\}} e^{2(\\lambda_k-\\phi_k)} = e^{2\\sum_{k \\ | \\ \\phi_k < \\lambda_k}\\lambda_k}\n",
    "$$\n",
    "The procedure for sampling is as follows:\n",
    "1. Start with the identity map\n",
    "2. If $\\lambda_k > \\phi_k$ then...\n",
    "    1. Sample the identity with probability $\\frac{1}{2}(1+e^{-2(\\lambda_k-\\phi_k)})$ and $P_k$ otherwise\n",
    "    2. Compose the map into the operator to be applied\n",
    "    3. Multiply $e^{2(\\lambda_k-\\omega_k)}$ into the scale factor\n",
    "    4. If $P_k$ was chosen, then multiply $-1$ in to the scale factor\n",
    "3. If $\\lambda_k < \\phi_k$ then...\n",
    "    1. Sample the identity with probability $\\frac{1}{2}(1+e^{2(\\lambda_k-\\phi_k)})$ and $P_k$ otherwise\n",
    "    2. Compose the map into the operator to be applied\n",
    "    4. Run the circuit and don't scale the result\n",
    "4. Add all of the scaled runs together and average"
   ]
  },
  {
   "cell_type": "code",
   "execution_count": 250,
   "id": "ee90633e",
   "metadata": {},
   "outputs": [],
   "source": [
    "def noise_tuning(target_coeffs, samples, ideal_circuit, measured_coeffs, backend, noise_model):\n",
    "    circuits = []\n",
    "    scale_factors = []\n",
    "    \n",
    "    adjusted_omegas = []\n",
    "    overhead = 1\n",
    "    for (lambdak, phik) in zip(measured_coeffs, target_coeffs):\n",
    "        if lambdak - phik > 0:\n",
    "            adjusted_omegas.append(.5*(1+math.exp(-2*(lambdak-phik))))\n",
    "            overhead *= math.exp(2*(lambdak-phik))\n",
    "        else:\n",
    "            adjusted_omegas.append(.5*(1+math.exp(2*(lambdak-phik))))\n",
    "    \n",
    "    for j in range(samples):\n",
    "        scale_factor = 1 #m keeps track of the sign, with paulis carrying a negative sign\n",
    "        qc = ideal_circuit.copy()\n",
    "        op = Pauli('I')\n",
    "        for i in range(len(pauli_list)):\n",
    "            #with probability 1-\\omega_k, sample the Pauli gate and compose into operator\n",
    "            diff_coeff = measured_coeffs[i]-target_coeffs[i]\n",
    "            if diff_coeff > 0:\n",
    "                scale_factor *= math.exp(2*diff_coeff)\n",
    "            if rand() < 1-adjusted_omegas[i]:\n",
    "                if diff_coeff > 0:\n",
    "                    scale_factor *= -1\n",
    "                op = op.compose(T[i]) #Wow I spent so long on this silly line\n",
    "        qc.barrier()\n",
    "        qc.append(op.to_instruction(),[0])\n",
    "        qc.barrier()\n",
    "        qc.measure(0,0)\n",
    "        circuits.append(qc)  \n",
    "        scale_factors.append(scale_factor)\n",
    "    \n",
    "    job = execute(circuits, backend, noise_model = noise_model, basis_gates = noise_model.basis_gates, shots = 1)\n",
    "    \n",
    "    total = 0\n",
    "    for (count,scale) in zip(job.result().get_counts(),scale_factors):\n",
    "        total += expectation(count)*scale\n",
    "\n",
    "    mitigated_value = total/samples\n",
    "    \n",
    "    return mitigated_value, overhead"
   ]
  },
  {
   "cell_type": "markdown",
   "id": "f8f5add3",
   "metadata": {},
   "source": [
    "To test out the parameter tuning, I ran the mitigation scheme with several target parameter sets, and then ran normal circuits with a noise model generated from the target parameters"
   ]
  },
  {
   "cell_type": "code",
   "execution_count": 271,
   "id": "bb94602c",
   "metadata": {},
   "outputs": [],
   "source": [
    "samples = 4096\n",
    "noise_model = pe.build_noise_model(F, T, coeffs, n)\n",
    "\n",
    "target_coeffs = [.1, 0, 0]\n",
    "mitigated_value_x, overhead_x = noise_tuning(target_coeffs, samples, ideal_circuit, unzip(measured_coeffs), backend, noise_model)\n",
    "\n",
    "target_coeffs = [0, .1, 0]\n",
    "mitigated_value_y, overhead_y = noise_tuning(target_coeffs, samples, ideal_circuit, unzip(measured_coeffs), backend, noise_model)\n",
    "\n",
    "target_coeffs = [0, 0, .1]\n",
    "mitigated_value_z, overhead_z = noise_tuning(target_coeffs, samples, ideal_circuit, unzip(measured_coeffs), backend, noise_model)"
   ]
  },
  {
   "cell_type": "code",
   "execution_count": 272,
   "id": "59827e19",
   "metadata": {},
   "outputs": [],
   "source": [
    "ideal_circuit = QuantumCircuit(qr, cr)\n",
    "ideal_circuit.x(0)\n",
    "ideal_circuit.measure(0,0); #expectation value \n",
    "ideal_circuit.draw()\n",
    "\n",
    "noise_model = pe.build_noise_model(F, T, [.1, 0, 0], n)\n",
    "job = execute(ideal_circuit, backend, noise_model = noise_model, basis_gates = noise_model.basis_gates, shots=10000)\n",
    "unmitigated_value_x = expectation(job.result().get_counts())\n",
    "\n",
    "noise_model = pe.build_noise_model(F, T, [0, .1, 0], n)\n",
    "job = execute(ideal_circuit, backend, noise_model = noise_model, basis_gates = noise_model.basis_gates, shots=10000)\n",
    "unmitigated_value_y = expectation(job.result().get_counts())\n",
    "\n",
    "noise_model = pe.build_noise_model(F, T, [0, 0, .1], n)\n",
    "job = execute(ideal_circuit, backend, noise_model = noise_model, basis_gates = noise_model.basis_gates, shots=10000)\n",
    "unmitigated_value_z = expectation(job.result().get_counts())"
   ]
  },
  {
   "cell_type": "code",
   "execution_count": 273,
   "id": "a591ad66",
   "metadata": {},
   "outputs": [
    {
     "data": {
      "text/plain": [
       "Text(0.5, 1.0, 'Comparison of tuned channel with equivalent error channel')"
      ]
     },
     "execution_count": 273,
     "metadata": {},
     "output_type": "execute_result"
    },
    {
     "data": {
      "image/png": "[encoded data removed]",
      "text/plain": [
       "<Figure size 432x288 with 1 Axes>"
      ]
     },
     "metadata": {
      "needs_background": "light"
     },
     "output_type": "display_data"
    }
   ],
   "source": [
    "data = [[mitigated_value_x, mitigated_value_y, mitigated_value_z],\n",
    "[unmitigated_value_x, unmitigated_value_y, unmitigated_value_z]]\n",
    "X = np.arange(3)\n",
    "fig = plt.figure()\n",
    "ax = fig.add_axes([0,0,1,1])\n",
    "ax.set_xticks(X, ('X', 'Y', 'Z'))\n",
    "mitigated_bar = ax.bar(X + 0.00, data[0], color = 'b', width = 0.25)\n",
    "unmitigated_bar = ax.bar(X + 0.25, data[1], color = 'r', width = 0.25)\n",
    "fig.legend([mitigated_bar, unmitigated_bar], [\"Value after error tuning\", \"Equivalent error channel\"], loc=\"center right\")\n",
    "plt.xlabel(\"Amplified interaction\")\n",
    "plt.ylabel(\"Expectation value\")\n",
    "plt.title(\"Comparison of tuned channel with equivalent error channel\")"
   ]
  },
  {
   "cell_type": "code",
   "execution_count": null,
   "id": "e643520d",
   "metadata": {},
   "outputs": [],
   "source": []
  }
 ],
 "metadata": {
  "kernelspec": {
   "display_name": "Python 3 (ipykernel)",
   "language": "python",
   "name": "python3"
  },
  "language_info": {
   "codemirror_mode": {
    "name": "ipython",
    "version": 3
   },
   "file_extension": ".py",
   "mimetype": "text/x-python",
   "name": "python",
   "nbconvert_exporter": "python",
   "pygments_lexer": "ipython3",
   "version": "3.10.5"
  }
 },
 "nbformat": 4,
 "nbformat_minor": 5
}
