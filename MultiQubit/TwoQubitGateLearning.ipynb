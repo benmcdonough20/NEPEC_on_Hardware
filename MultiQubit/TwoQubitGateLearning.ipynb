{
 "cells": [
  {
   "cell_type": "markdown",
   "id": "e92ee6b9",
   "metadata": {},
   "source": [
    "# Two-qubit gate layer learning\n",
    "\n",
    "This notebook shows a simplified procedure for learning the noise assocaited with a layer of two-qubits gates. Here, the twirl is not implemented, and instead a Pauli noise model is used directly. The measurements are made individually. For the sparse model, this would still scale linearly with the number of qubits, but van den Berg et Al. shows that the efficiency of the process can be further improved through the use of simultaneous measurements. This is implemented in a later notebook but omitted here for simplicity."
   ]
  },
  {
   "cell_type": "code",
   "execution_count": 4,
   "id": "aad0d9ad",
   "metadata": {},
   "outputs": [],
   "source": [
    "from qiskit.quantum_info import Operator, Pauli, PTM, pauli_basis\n",
    "from qiskit.circuit.library import CXGate, CZGate, HGate, SGate\n",
    "from qiskit import QuantumCircuit, Aer, execute\n",
    "from qiskit.providers.aer.noise import depolarizing_error, NoiseModel, pauli_error\n",
    "\n",
    "import numpy as np\n",
    "from random import choices, random\n",
    "from numpy.random import permutation\n",
    "import matplotlib.pyplot as plt\n",
    "from itertools import product\n",
    "from scipy.optimize import curve_fit\n",
    "\n",
    "plt.style.use(\"ggplot\")"
   ]
  },
  {
   "cell_type": "markdown",
   "id": "73482b6a",
   "metadata": {},
   "source": [
    "When the layer consists of self-adjoint two-qubit Clifford gates, the pauli terms will appear in pairs. The following cell find the paulis that are conjugate under an application of the noisy layer. This will be replaced by `pauli.evolve(clifford)` in later versions."
   ]
  },
  {
   "cell_type": "code",
   "execution_count": 6,
   "id": "53276b18",
   "metadata": {},
   "outputs": [],
   "source": [
    "n=2\n",
    "names = [\"\".join(str) for str in product(['I', 'X', 'Y','Z'], repeat=n)]\n",
    "paulis = [Operator(Pauli(name)) for name in names]\n",
    "\n",
    "def get_name(pauli_op):\n",
    "    try:\n",
    "        return names[min([i for (i,gate) in enumerate(paulis) if pauli_op.equiv(gate)])]\n",
    "    except:\n",
    "        return -1\n",
    "\n",
    "def conjugate(pauli, cliffordop):\n",
    "    return get_name(cliffordop.compose(Operator(Pauli(pauli).to_matrix())).compose(cliffordop))"
   ]
  },
  {
   "cell_type": "code",
   "execution_count": 7,
   "id": "50519303",
   "metadata": {},
   "outputs": [
    {
     "name": "stdout",
     "output_type": "stream",
     "text": [
      "[('II', 'II'), ('IX', 'XX'), ('IY', 'XY'), ('IZ', 'IZ'), ('XI', 'XI'), ('XX', 'IX'), ('XY', 'IY'), ('XZ', 'XZ'), ('YI', 'YZ'), ('YX', 'ZY'), ('YY', 'ZX'), ('YZ', 'YI'), ('ZI', 'ZZ'), ('ZX', 'YY'), ('ZY', 'YX'), ('ZZ', 'ZI')]\n"
     ]
    }
   ],
   "source": [
    "p_group = pauli_basis(n, pauli_list = True).to_labels()\n",
    "p_group_permuted = [conjugate(p, Operator(CXGate())) for p in p_group]\n",
    "pairs = list(zip(p_group, p_group_permuted))\n",
    "print(pairs)"
   ]
  },
  {
   "cell_type": "code",
   "execution_count": 12,
   "id": "99bbaa5a",
   "metadata": {},
   "outputs": [
    {
     "data": {
      "text/plain": [
       "Text(0, 0.5, '10x(1-f)')"
      ]
     },
     "execution_count": 12,
     "metadata": {},
     "output_type": "execute_result"
    },
    {
     "data": {
      "image/png": "[encoded data removed]",
      "text/plain": [
       "<Figure size 432x288 with 1 Axes>"
      ]
     },
     "metadata": {},
     "output_type": "display_data"
    }
   ],
   "source": [
    "errorgen = 4\n",
    "errorops = choices(p_group, k=errorgen)\n",
    "errorprobs = [random()*.1/errorgen for op in errorops]\n",
    "twoqubit_error = pauli_error([(op, p) for op,p in zip(errorops, errorprobs)]+[(Pauli(\"II\"), 1-sum(errorprobs))])\n",
    "noise_model = NoiseModel()\n",
    "noise_model.add_all_qubit_quantum_error(twoqubit_error, ['cx','cz'])\n",
    "\n",
    "real_errors = {}\n",
    "transfer_matrix = PTM(twoqubit_error.to_quantumchannel()).data\n",
    "for i,pauli in enumerate(pauli_basis(2, pauli_list = True)):\n",
    "    real_errors[pauli.to_label()] = transfer_matrix[i][i]\n",
    "    plt.bar(pauli.to_label(), 10*(1-transfer_matrix[i][i]).real, color = \"tab:blue\")\n",
    "\n",
    "plt.title(\"Random Pauli Infidelities\")\n",
    "plt.xlabel(\"Pauli Term\")\n",
    "plt.ylabel(\"10x(1-f)\")"
   ]
  },
  {
   "cell_type": "code",
   "execution_count": 13,
   "id": "ffe19434",
   "metadata": {},
   "outputs": [],
   "source": [
    "#get the expectation value of a pauli operator after a run of a circuit, where a transformation\n",
    "#into the computational basis has already been performed at the end of the circuit\n",
    "def get_expectation(circuit, pauli_str, noise = True):\n",
    "    circ = circuit.copy()\n",
    "    circ.measure_all()\n",
    "    backend = Aer.get_backend('qasm_simulator')\n",
    "    if noise:\n",
    "        counts = execute(circ, backend, shots = SHOTS, noise_model = noise_model, basis_gates = noise_model.basis_gates, optimization_level=0).result().get_counts()\n",
    "    else:\n",
    "        counts = execute(circ, backend, shots = SHOTS).result().get_counts()\n",
    "    total = 0\n",
    "    for key in counts.keys():\n",
    "        pauli_weight = [{\"I\":'0'}.get(p,'1') for p in pauli_str]\n",
    "        total += (-1)**sum([{('1','1'):1}.get((pauli_bit, key_bit), 0) for pauli_bit, key_bit in zip(pauli_weight, key)])*counts[key]\n",
    "    return total/SHOTS\n",
    "\n",
    "#Implement the basic outline of the procedure, which consists of changing to the preparation basis,\n",
    "#followed by a number of applications of the noisy layer, and then changing back to the measurement basis\n",
    "def measure_circuit(pauli_prep, pauli_meas, depth):\n",
    "    total = 0\n",
    "    qc = QuantumCircuit(2)\n",
    "    for i,p in enumerate(pauli_prep[::-1]):\n",
    "        match p:\n",
    "            case 'X':\n",
    "                qc.h(i)\n",
    "            case 'Y':\n",
    "                qc.h(i)\n",
    "                qc.s(i)\n",
    "    for i in range(depth):\n",
    "        qc.cx(0,1)\n",
    "    for i,p in enumerate(pauli_meas[::-1]):\n",
    "        match p:\n",
    "            case 'X':\n",
    "                qc.h(i)\n",
    "            case 'Y':\n",
    "                qc.sdg(i)\n",
    "                qc.h(i)\n",
    "    return qc "
   ]
  },
  {
   "cell_type": "markdown",
   "id": "3308dd98",
   "metadata": {},
   "source": [
    "The addition of the layer of self-adjoint clifford gates introduces the complication that some of the fidelities now appear in pairs. This next cell identifies those operators with weight two which are conjugate under application of the layer to a pauli operator of weight one."
   ]
  },
  {
   "cell_type": "code",
   "execution_count": 15,
   "id": "8092fdbe",
   "metadata": {},
   "outputs": [
    {
     "name": "stdout",
     "output_type": "stream",
     "text": [
      "{('YZ', 'YI'), ('XY', 'IY'), ('XX', 'IX'), ('ZZ', 'ZI')}\n"
     ]
    }
   ],
   "source": [
    "single_pairs = set()\n",
    "for p1, p2 in zip(p_group, p_group_permuted):\n",
    "    if 'I' in p1 and not 'I' in p2:\n",
    "        single_pairs.add((p2,p1))\n",
    "    if 'I' in p2 and not 'I' in p1:\n",
    "        single_pairs.add((p1,p2))\n",
    "print(single_pairs)"
   ]
  },
  {
   "cell_type": "markdown",
   "id": "673c0408",
   "metadata": {},
   "source": [
    "One measurement needs to be taken for each of these pairs to lift the degeneracy associated with the fidelity pair. The single measurements differ from the normal measurement procedure in that there are an odd number of applications of the noisy layer, and the preparation and measurement bases differ."
   ]
  },
  {
   "cell_type": "code",
   "execution_count": 19,
   "id": "fa9a2f05",
   "metadata": {},
   "outputs": [
    {
     "name": "stdout",
     "output_type": "stream",
     "text": [
      "YI measured: 0.97076 ideal: (0.9696639315581543+0j)\n",
      "IY measured: 0.97584 ideal: (0.977172543887425+0j)\n",
      "IX measured: 1.0 ideal: (1+0j)\n",
      "ZI measured: 0.97268 ideal: (0.9716055935821095+0j)\n"
     ]
    }
   ],
   "source": [
    "for double, single in single_pairs:\n",
    "    circ = measure_circuit(double,double,1)\n",
    "    print(single, \"measured:\",get_expectation(circ, single), \"ideal:\", real_errors[single]) #no spam, otherwise divide by single measurement"
   ]
  },
  {
   "cell_type": "markdown",
   "id": "73441b38",
   "metadata": {},
   "source": [
    "This next cell demonstrates that the fidelities measured by an exponential fit to an even number of applications of the noisy layer are indeed fidelity pairs. Below, the measured value is exhibited next to both the ideal value and the ideal pair value, and the measured value will agree more closely with the pair value. In addition, this is true whether there is an even or odd application of the noisy layer."
   ]
  },
  {
   "cell_type": "code",
   "execution_count": 18,
   "id": "a0da4755",
   "metadata": {},
   "outputs": [
    {
     "name": "stdout",
     "output_type": "stream",
     "text": [
      "YI real: (0.9696639315581543+0j) measured: 0.9808279117337403 pair: (0.9810112644645869+0j)\n",
      "IY real: (0.977172543887425+0j) measured: 0.9756423262120315 pair: (0.9762012301303987+0j)\n",
      "IX real: (1+0j) measured: 0.9990526746712856 pair: (0.9990286972735292+0j)\n",
      "ZI real: (0.9716055935821095+0j) measured: 0.9829694528224434 pair: (0.9829530576412443+0j)\n"
     ]
    }
   ],
   "source": [
    "depths = [1,3,5,7,9,11,13]\n",
    "for double, single in single_pairs:\n",
    "    res = []\n",
    "    for d in depths:\n",
    "        circ = measure_circuit(double, double, d)\n",
    "        res.append(get_expectation(circ, single))\n",
    "    expfit = lambda x,a,b: np.exp(-b*x)*a\n",
    "    popt, pcov = curve_fit(expfit, depths, res)\n",
    "    fid = expfit(1,1,popt[1])\n",
    "    print(single, \"real:\", real_errors[single], \"measured:\", fid, \"pair:\", np.sqrt(real_errors[single]*real_errors[double]))"
   ]
  },
  {
   "cell_type": "code",
   "execution_count": 20,
   "id": "1a44b2e0",
   "metadata": {},
   "outputs": [
    {
     "name": "stdout",
     "output_type": "stream",
     "text": [
      "YZ real: (0.9924913876707293+0j) measured: 0.981067024982668 pair: (0.9810112644645869+0j)\n",
      "XY real: (0.9752308818634698+0j) measured: 0.9759614894197263 pair: (0.9762012301303987+0j)\n",
      "XX real: (0.9980583379760448+0j) measured: 0.9989863973776559 pair: (0.9990286972735292+0j)\n",
      "ZZ real: (0.9944330496946845+0j) measured: 0.9831945860908413 pair: (0.9829530576412443+0j)\n"
     ]
    }
   ],
   "source": [
    "depths = [2,4,6,8,10,12,14]\n",
    "for double, single in single_pairs:\n",
    "    res = []\n",
    "    for d in depths:\n",
    "        circ = measure_circuit(double, double, d)\n",
    "        res.append(get_expectation(circ, double))\n",
    "    expfit = lambda x,a,b: np.exp(-b*x)*a\n",
    "    popt, pcov = curve_fit(expfit, depths, res)\n",
    "    fid = expfit(1,1,popt[1])\n",
    "    print(double, \"real:\", real_errors[double], \"measured:\", fid, \"pair:\", np.sqrt(real_errors[single]*real_errors[double]))"
   ]
  },
  {
   "cell_type": "markdown",
   "id": "44ba8a3b",
   "metadata": {},
   "source": [
    "## Measurement Procedure\n",
    "The remainder of the notebook shows how the degeneracy-lifting single measurements can be combined with the double measurements to fully learn the fidelities in the model.\n",
    "\n",
    "The pauli terms of weight two which are conjugate to other pauli terms of weight two are separated out. Since the support of the pauli term doesn't change after application of the layer, single-qubit gates can be inserted during benchmarking that change the Pauli terms back to the original, allowing them to be measured in a SPAM-free manner."
   ]
  },
  {
   "cell_type": "code",
   "execution_count": 22,
   "id": "a605cfbe",
   "metadata": {},
   "outputs": [
    {
     "name": "stdout",
     "output_type": "stream",
     "text": [
      "[('YX', 'ZY'), ('YY', 'ZX')]\n"
     ]
    }
   ],
   "source": [
    "double_pairs = []\n",
    "for p1, p2 in pairs:\n",
    "    if not (\"I\" in p1 or \"I\" in p2 or (p2,p1) in double_pairs or p1 == p2):\n",
    "        double_pairs.append((p1,p2))\n",
    "\n",
    "print(double_pairs)"
   ]
  },
  {
   "cell_type": "code",
   "execution_count": 23,
   "id": "b3b9cf8d",
   "metadata": {},
   "outputs": [],
   "source": [
    "#procedure for measurement using an even number of layer applications\n",
    "def measure_double(pauli, pauli_pair, depth):\n",
    "    qc = QuantumCircuit(n)\n",
    "\n",
    "    #basis change gates\n",
    "    for i,p in enumerate(pauli[::-1]):\n",
    "        match p:\n",
    "            case \"X\":\n",
    "                qc.h(i)\n",
    "            case \"Y\":\n",
    "                qc.h(i)\n",
    "                qc.s(i)\n",
    "\n",
    "    qc.barrier()\n",
    "\n",
    "    #noisy layer applciations \n",
    "    for j in range(depth):\n",
    "        #single qubit gates for changing pauli pair\n",
    "        for i,p in enumerate(zip(pauli[::-1], pauli_pair[::-1])):\n",
    "            match p:\n",
    "                case (\"X\",\"Y\"):\n",
    "                    qc.s(i)\n",
    "                case (\"X\", \"Z\"):\n",
    "                    qc.h(i)\n",
    "                case (\"Y\", \"X\"):\n",
    "                    qc.sdg(i)\n",
    "                case (\"Y\", \"Z\"):\n",
    "                    qc.sdg(i)\n",
    "                    qc.h(i)\n",
    "                case (\"Z\", \"X\"):\n",
    "                    qc.h(i)\n",
    "                case (\"Z\", \"Y\"):\n",
    "                    qc.h(i)\n",
    "                    qc.s(i)\n",
    "        #noisy layer\n",
    "        qc.cx(0,1) \n",
    "\n",
    "        qc.barrier()\n",
    "\n",
    "    #change back to computational basis \n",
    "    for i,p in enumerate(pauli[::-1]):\n",
    "        match p:\n",
    "            case \"X\":\n",
    "                qc.h(i)\n",
    "            case \"Y\":\n",
    "                qc.sdg(i)\n",
    "                qc.h(i)\n",
    "\n",
    "    return qc"
   ]
  },
  {
   "cell_type": "markdown",
   "id": "482ae198",
   "metadata": {},
   "source": [
    "Some pauli terms require degeneracy-lifting measurements with a single depth. This is shown in the following method:"
   ]
  },
  {
   "cell_type": "code",
   "execution_count": 25,
   "id": "bd11b9ac",
   "metadata": {},
   "outputs": [],
   "source": [
    "#procedure for degeneracy-lifting measurements\n",
    "def measure_single(single, double):\n",
    "    #measure first at depth zero to obtain estimate of SPAM errors\n",
    "    circ = measure_double(single, single, 0)\n",
    "    result0 = get_expectation(circ, single)\n",
    "    #then measure at depth one to obtain fidelity and SPAM estimate\n",
    "    circ = measure_double(double, single, 1)\n",
    "    result1 = get_expectation(circ, single)\n",
    "    \n",
    "    return result1/result0"
   ]
  },
  {
   "cell_type": "markdown",
   "id": "f95a766c",
   "metadata": {},
   "source": [
    "The next cell separates the pauli terms into three categories:\n",
    "* easy: the pauli term is conjugate to itself\n",
    "* medium: the pauli term is conjugate to another term of equal weight, requiring single-qubit gates\n",
    "* hard: the pauli term is conjugate to another pauli term in the model, requiring a degeneracy-lifting measurement."
   ]
  },
  {
   "cell_type": "code",
   "execution_count": 28,
   "id": "9c88d9a0",
   "metadata": {},
   "outputs": [],
   "source": [
    "easy_set = set(p1 for (p1, p2) in pairs if p1==p2)\n",
    "medium_set = set([(p1,p2) for (p1,p2) in pairs if not (\"I\" in p1 or \"I\" in p2) and p1 != p2])\n",
    "hard_set = set([(p1, p2) for (p1, p2) in pairs if (not \"I\" in p1 and \"I\" in p2) and not p2 in easy_set])"
   ]
  },
  {
   "cell_type": "markdown",
   "id": "e6e7054c",
   "metadata": {},
   "source": [
    "## Putting it together\n",
    "\n",
    "Putting the procedure together by measuring the fidelities in the easy set directly, choosing the appropriate single-qubit gates to measure the fidelitites in the medium set, and completing the model with the necessary degeneracy-lifing measurements."
   ]
  },
  {
   "cell_type": "code",
   "execution_count": 29,
   "id": "e00fbaa3",
   "metadata": {},
   "outputs": [
    {
     "name": "stderr",
     "output_type": "stream",
     "text": [
      "/usr/lib/python3.10/site-packages/scipy/optimize/_minpack_py.py:833: OptimizeWarning: Covariance of the parameters could not be estimated\n",
      "  warnings.warn('Covariance of the parameters could not be estimated',\n"
     ]
    }
   ],
   "source": [
    "measured_errors = {}\n",
    "depths = [2,4,6,8,10,12] #has to be even\n",
    "\n",
    "for p in easy_set:\n",
    "    results = []\n",
    "    for d in depths:\n",
    "        circ = measure_double(p, p, d)\n",
    "        results.append(get_expectation(circ, p))\n",
    "    popt, pcov = curve_fit(expfit, depths, results)\n",
    "    measured_errors[p] = np.exp(-popt[1])"
   ]
  },
  {
   "cell_type": "code",
   "execution_count": 30,
   "id": "d2a6f4ea",
   "metadata": {},
   "outputs": [],
   "source": [
    "for p1, p2 in medium_set.union(hard_set):\n",
    "    results = []\n",
    "    for d in depths:\n",
    "        circ = measure_double(p1, p2, d)\n",
    "        results.append(get_expectation(circ, p1))\n",
    "    popt, pcov = curve_fit(expfit, depths, results) \n",
    "    measured_errors[p1] = np.exp(-popt[1])"
   ]
  },
  {
   "cell_type": "code",
   "execution_count": 31,
   "id": "e67faa32",
   "metadata": {},
   "outputs": [],
   "source": [
    "for double, single in hard_set:\n",
    "    single_err = measure_single(single, double)\n",
    "    measured_errors[single] = single_err\n",
    "    measured_errors[double] = measured_errors[double]**2/single_err"
   ]
  },
  {
   "cell_type": "code",
   "execution_count": 34,
   "id": "df5fcd82",
   "metadata": {},
   "outputs": [
    {
     "name": "stderr",
     "output_type": "stream",
     "text": [
      "/home/ben/.local/lib/python3.10/site-packages/matplotlib/transforms.py:775: ComplexWarning: Casting complex values to real discards the imaginary part\n",
      "  points = np.asarray(points, float)\n"
     ]
    },
    {
     "data": {
      "text/plain": [
       "Text(0, 0.5, '10x(1-f)')"
      ]
     },
     "execution_count": 34,
     "metadata": {},
     "output_type": "execute_result"
    },
    {
     "data": {
      "image/png": "[encoded data removed]",
      "text/plain": [
       "<Figure size 432x288 with 1 Axes>"
      ]
     },
     "metadata": {},
     "output_type": "display_data"
    }
   ],
   "source": [
    "labels = []\n",
    "real_bar = []\n",
    "measured_bar = []\n",
    "for pauli in pauli_basis(2, pauli_list = True).to_labels():\n",
    "    labels.append(pauli)\n",
    "    real_bar.append(10*(1-real_errors[pauli]))\n",
    "    measured_bar.append(10*(1-measured_errors[pauli]))\n",
    "\n",
    "ax = np.arange(len(labels))\n",
    "plt.bar(ax+.2, real_bar, .4, color='tab:green')\n",
    "plt.bar(ax-.2, measured_bar, .4, color='tab:blue')\n",
    "plt.xticks(ax, labels);\n",
    "plt.title(\"Measured vs Ideal Fidelities for CNOT layer\")\n",
    "plt.xlabel(\"Term\")\n",
    "plt.ylabel(\"10x(1-f)\")"
   ]
  }
 ],
 "metadata": {
  "kernelspec": {
   "display_name": "Python 3.10.5 64-bit",
   "language": "python",
   "name": "python3"
  },
  "language_info": {
   "codemirror_mode": {
    "name": "ipython",
    "version": 3
   },
   "file_extension": ".py",
   "mimetype": "text/x-python",
   "name": "python",
   "nbconvert_exporter": "python",
   "pygments_lexer": "ipython3",
   "version": "3.10.5"
  },
  "vscode": {
   "interpreter": {
    "hash": "e7370f93d1d0cde622a1f8e1c04877d8463912d04d973331ad4851f04de6915a"
   }
  }
 },
 "nbformat": 4,
 "nbformat_minor": 5
}
