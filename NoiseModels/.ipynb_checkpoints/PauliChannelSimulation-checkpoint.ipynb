{
 "cells": [
  {
   "cell_type": "code",
   "execution_count": 1176,
   "id": "f1dd5d11",
   "metadata": {},
   "outputs": [],
   "source": [
    "#helper libraries\n",
    "import numpy as np\n",
    "from numpy.random import rand\n",
    "import math\n",
    "import scipy.optimize\n",
    "import matplotlib.pyplot as plt\n",
    "\n",
    "#qiskit functionalities\n",
    "from qiskit import Aer, execute, QuantumCircuit, QuantumRegister, ClassicalRegister\n",
    "from qiskit.tools.visualization import plot_histogram\n",
    "\n",
    "#noise model stuff\n",
    "from qiskit.providers.aer.noise import NoiseModel, kraus_error, pauli_error\n",
    "    \n",
    "#operator info\n",
    "from qiskit.quantum_info import PauliList, Pauli, Kraus\n",
    "from qiskit.circuit.library import XGate"
   ]
  },
  {
   "cell_type": "markdown",
   "id": "34a3e670",
   "metadata": {},
   "source": [
    "Define the terms\n",
    "$$\n",
    "\\vec\\lambda, \\kappa, K \\equiv |\\kappa|, \\vec \\omega\n",
    "$$\n",
    "Where $\\vec \\lambda$ is a list of the coefficients, $\\kappa$ is the set of Pauli operators in the model, $K$ is the order of this set, and $\\vec \\omega$ is the transformed product-form coefficients in the noise model (Eq. S9)"
   ]
  },
  {
   "cell_type": "code",
   "execution_count": 1177,
   "id": "20d8350e",
   "metadata": {},
   "outputs": [
    {
     "name": "stdout",
     "output_type": "stream",
     "text": [
      "[1, 0.001, 0, 0.01]\n"
     ]
    }
   ],
   "source": [
    "n = 1 #Numer of qubits (Later specify processor topology)\n",
    "pauli_list = PauliList(['I', 'X', 'Y', 'Z']) #Kappa\n",
    "K = len(pauli_list) #K = |Kappa|\n",
    "coeffs = [1, .001, 0, .01]\n",
    "print(coeffs)"
   ]
  },
  {
   "cell_type": "markdown",
   "id": "70c54263",
   "metadata": {},
   "source": [
    "Eq. S9: $\\omega_k = \\frac{1}{2}(1+e^{-2\\lambda_k})$"
   ]
  },
  {
   "cell_type": "code",
   "execution_count": 1178,
   "id": "2c55c68d",
   "metadata": {},
   "outputs": [],
   "source": [
    "omegas = []\n",
    "for (k, lambdak) in enumerate(coeffs):\n",
    "    omegas.append(.5*(1+exp(-2*lambdak)))"
   ]
  },
  {
   "cell_type": "markdown",
   "id": "189fb966",
   "metadata": {},
   "source": [
    "Defining the simplectic inner product, a piecewise function such that\n",
    "$$\n",
    "\\langle P_a, P_b \\rangle_{sp} = \n",
    "\\begin{cases}\n",
    "0 & [P_a, P_b] = 0 \\\\\n",
    "1 & \\text{else}\n",
    "\\end{cases}\n",
    "$$\n",
    "This is expressed in a matrix $M_{ab} = \\langle P_a, P_b \\rangle_{sp}$ to simplify equation (S10)"
   ]
  },
  {
   "cell_type": "code",
   "execution_count": 1179,
   "id": "8b33cd01",
   "metadata": {},
   "outputs": [],
   "source": [
    "def s_prod(a, b):\n",
    "    if(a.compose(b) == b.compose(a)):\n",
    "        return 0\n",
    "    else:\n",
    "        return 1\n",
    "\n",
    "M = np.zeros([K,K])\n",
    "for (i,a) in enumerate(pauli_list):\n",
    "    for (j,b) in enumerate(pauli_list):\n",
    "        M[i,j] = s_prod(a,b)"
   ]
  },
  {
   "cell_type": "markdown",
   "id": "2a575a26",
   "metadata": {},
   "source": [
    "ideal_fidelities is the ideal $\\vec f$ (with components $f_a$) giving the fidelities for each element in `pauli_list`. This is computed using Eq. (S11),\n",
    "$$\n",
    "-\\log(\\vec f)/2 = M\\vec \\lambda\n",
    "$$"
   ]
  },
  {
   "cell_type": "code",
   "execution_count": 1180,
   "id": "a2c3e5a0",
   "metadata": {},
   "outputs": [
    {
     "name": "stdout",
     "output_type": "stream",
     "text": [
      "[1.         0.98019867 0.97824024 0.998002  ]\n"
     ]
    }
   ],
   "source": [
    "ideal_fidelities = np.exp(-2*np.dot(M, coeffs))\n",
    "print(ideal_fidelities)"
   ]
  },
  {
   "cell_type": "markdown",
   "id": "4072ad29",
   "metadata": {},
   "source": [
    "The model fidelities can be converted to Pauli coefficients using the simplectic Hadamard transformation,\n",
    "$$\n",
    "c_b = \\frac{1}{2^n} \\sum_a (-1)^{\\langle P_a, P_b\\rangle_{sp}}f_a\n",
    "$$\n",
    "These convert the diagonal transfer matrix to a diagonal $\\chi$ matrix. This seems to fail for some models, I wonder why? There is also something wrong with the normalization"
   ]
  },
  {
   "cell_type": "code",
   "execution_count": 1181,
   "id": "63c02a59",
   "metadata": {},
   "outputs": [
    {
     "name": "stdout",
     "output_type": "stream",
     "text": [
      "[0.9891102267563247, 0.0009891098970530587, 9.890769280429534e-06, 0.009890772577341944]\n"
     ]
    }
   ],
   "source": [
    "#What are the requirements for this to work? \n",
    "#How many of the fidelities need to be measured?\n",
    "def WHtransform(b, ideal_fidelities, pauli_list):\n",
    "    c_b = 0\n",
    "    P_b = pauli_list[b]\n",
    "    for (f_a, P_a) in zip(ideal_fidelities, pauli_list):\n",
    "        c_b += (-1)**s_prod(P_a, P_b)*f_a\n",
    "    c_b /= 4**n\n",
    "    return c_b\n",
    "\n",
    "chi = []\n",
    "for b in range(K):\n",
    "    chi.append(WHtransform(b, ideal_fidelities, pauli_list))\n",
    "    \n",
    "print(chi)"
   ]
  },
  {
   "cell_type": "markdown",
   "id": "ab8d51cc",
   "metadata": {},
   "source": [
    "Use the resulting diagonal process matrix to create a pauli channel\n",
    "$$\n",
    "\\Lambda(\\rho) = \\sum_{i}\\chi_i P_i \\rho P_i\n",
    "$$"
   ]
  },
  {
   "cell_type": "code",
   "execution_count": 1182,
   "id": "af816012",
   "metadata": {},
   "outputs": [],
   "source": [
    "#Pauli error channel\n",
    "pauli_eror_channel = pauli_error(zip(pauli_list, chi))\n",
    "pauli_noise_model = NoiseModel()\n",
    "pauli_noise_model.add_all_qubit_quantum_error(pauli_error_channel, ['id', 'rz', 'sx'])\n",
    "pauli_basis_gates = pauli_noise_model.basis_gates"
   ]
  },
  {
   "cell_type": "markdown",
   "id": "a3b01a39",
   "metadata": {},
   "source": [
    "This is an alternative expression of the noise model through Kraus operators according to Eq. (1):\n",
    "$$\n",
    "\\Lambda(\\rho) = \\prod_{k \\in \\kappa} \\left(\\omega_k \\rho + P_k \\rho P_k\\right)\n",
    "$$\n",
    "where the product symbol denotes composition"
   ]
  },
  {
   "cell_type": "code",
   "execution_count": 1183,
   "id": "76da697c",
   "metadata": {},
   "outputs": [
    {
     "name": "stderr",
     "output_type": "stream",
     "text": [
      "/home/ben/.local/lib/python3.10/site-packages/qiskit/quantum_info/operators/channel/kraus.py:92: VisibleDeprecationWarning: Creating an ndarray from ragged nested sequences (which is a list-or-tuple of lists-or-tuples-or ndarrays with different lengths or shapes) is deprecated. If you meant to do this, you must specify 'dtype=object' when creating the ndarray.\n",
      "  if isinstance(data, np.ndarray) or np.array(data).ndim == 2:\n"
     ]
    }
   ],
   "source": [
    "#Build list of Kraus Operators\n",
    "kraus_ops = Kraus(np.identity(2**n))\n",
    "for (P,omega,lambdak) in zip(pauli_list, omegas, coeffs):\n",
    "    if lambdak != 0:\n",
    "        op = Kraus([P.to_matrix()*np.sqrt(1-omega),np.sqrt(omega)*np.identity(2**n)])\n",
    "        kraus_ops = kraus_ops.compose(op)"
   ]
  },
  {
   "cell_type": "code",
   "execution_count": 1184,
   "id": "43d49cfa",
   "metadata": {
    "scrolled": false
   },
   "outputs": [],
   "source": [
    "#Kraus error channel\n",
    "kraus_error_channel = kraus_error(kraus_ops.data)\n",
    "kraus_noise_model = NoiseModel()\n",
    "kraus_noise_model.add_all_qubit_quantum_error(kraus_error_channel, ['id', 'rz', 'sx', 'h'])\n",
    "kraus_basis_gates = kraus_noise_model.basis_gates"
   ]
  },
  {
   "cell_type": "markdown",
   "id": "b2d9d71f",
   "metadata": {},
   "source": [
    "I'm not sure whether the noise is dependent on the specific gates enacted. In the literature, it is written $\\tilde{\\mathcal{U}} = \\mathcal{U} \\circ \\Lambda$, but is $\\Lambda$ dependent on $\\mathcal{U}$?"
   ]
  },
  {
   "cell_type": "markdown",
   "id": "f020720b",
   "metadata": {},
   "source": [
    "The pauli operators are diagonalizable in terms of their eigenvectors:\n",
    "$$\n",
    "P_a = \\sum_{\\vert\\psi\\rangle \\in E_{a}(+1)} \\vert\\psi\\rangle \\langle\\psi\\vert - \\sum_{\\vert\\psi\\rangle\\in E_a(-1)} \\vert\\psi\\rangle\\langle\\psi\\vert\n",
    "$$\n",
    "Take $X$ for example:\n",
    "$$\n",
    "\\begin{align}\n",
    "\\text{Tr}[X\\Lambda(X)] &= \\text{Tr}[X\\Lambda(\\vert+\\rangle\\langle+\\vert-\\vert-\\rangle \\langle -\\vert)]\\\\\n",
    "&= \\text{Tr}[X\\Lambda(\\vert+\\rangle\\langle+\\vert)]+\\text{Tr}[X\\Lambda(\\vert-\\rangle\\langle -\\vert)]\n",
    "\\end{align}\n",
    "$$"
   ]
  },
  {
   "cell_type": "markdown",
   "id": "1d297c91",
   "metadata": {},
   "source": [
    "For $X$ estimation"
   ]
  },
  {
   "cell_type": "code",
   "execution_count": 1185,
   "id": "e29e1a13",
   "metadata": {},
   "outputs": [],
   "source": [
    "circuits = []\n",
    "gate = XGate() #the gate to use for noise profiling. Is the noise gate-dependent?\n",
    "folds = 40 #number of folds to fit noise\n",
    "\n",
    "for i in range(folds):\n",
    "    qc = QuantumCircuit(qr,cr)\n",
    "    \n",
    "    #initialize to positive eigenstate of Pauli being measured\n",
    "    qc.initialize(\"0\")\n",
    "    qc.barrier() #these are necessary to deter the compiler from cancelling\n",
    "    \n",
    "    #add anumber of unitary folds\n",
    "    for j in range(i+1):\n",
    "        qc.append(gate, [0])\n",
    "        qc.barrier()\n",
    "        qc.append(gate.inverse(), [0])\n",
    "        qc.barrier()\n",
    "    \n",
    "    #measure in the operator basis\n",
    "    qc.measure(0,0)\n",
    "    circuits.append([qc.copy()])\n",
    "    \n",
    "    #repeat the process but for the negative eigenstate\n",
    "    qc = QuantumCircuit(qr,cr)\n",
    "    qc.initialize(\"1\")\n",
    "    qc.barrier()\n",
    "    for j in range(i+1):\n",
    "        qc.append(gate, [0])\n",
    "        qc.barrier()\n",
    "        qc.append(gate.inverse(), [0])\n",
    "        qc.barrier()\n",
    "    qc.measure(0,0)\n",
    "    circuits[i].append(qc.copy())"
   ]
  },
  {
   "cell_type": "code",
   "execution_count": 1193,
   "id": "0db93867",
   "metadata": {},
   "outputs": [],
   "source": [
    "fidelities = []\n",
    "expectations = [0,0]\n",
    "shots = 4096\n",
    "counts = [0,0]\n",
    "for [circuit1, circuit2] in circuits:\n",
    "    job = execute(circuit1, backend, noise_model=kraus_noise_model,\n",
    "                  basis_gates = kraus_basis_gates, shots = shots)\n",
    "    counts[0] = job.result().get_counts()\n",
    "    job = execute(circuit2, backend, noise_model=kraus_noise_model, \n",
    "                  basis_gates = kraus_basis_gates, shots = shots)\n",
    "    counts[1] = job.result().get_counts()\n",
    "    expectations[0] = (1/shots)*(counts[0]['0']*1+(-1)*counts[0]['1'])\n",
    "    expectations[1] = (1/shots)*(counts[1]['0']*1+(-1)*counts[1]['1'])\n",
    "    fidelities.append((1/2**n)*(expectations[0]-expectations[1]))\n",
    "    \n",
    "zfidelities = fidelities.copy()"
   ]
  },
  {
   "cell_type": "code",
   "execution_count": 1194,
   "id": "2015141d",
   "metadata": {},
   "outputs": [],
   "source": [
    "circuits = []\n",
    "gate = XGate() #the gate to use for noise profiling. Is the noise gate-dependent?\n",
    "folds = 40 #number of folds to fit noise\n",
    "\n",
    "for i in range(folds):\n",
    "    qc = QuantumCircuit(qr,cr)\n",
    "    \n",
    "    #initialize to positive eigenstate of Pauli being measured\n",
    "    qc.initialize(\"+\")\n",
    "    qc.barrier() #these are necessary to deter the compiler from cancelling\n",
    "    \n",
    "    #add anumber of unitary folds\n",
    "    for j in range(i+1):\n",
    "        qc.append(gate, [0])\n",
    "        qc.barrier()\n",
    "        qc.append(gate.inverse(), [0])\n",
    "        qc.barrier()\n",
    "    \n",
    "    #measure in the operator basis\n",
    "    qc.h(0)\n",
    "    qc.measure(0,0)\n",
    "    circuits.append([qc.copy()])\n",
    "    \n",
    "    #repeat the process but for the negative eigenstate\n",
    "    qc = QuantumCircuit(qr,cr)\n",
    "    qc.initialize(\"-\")\n",
    "    qc.barrier()\n",
    "    for j in range(i+1):\n",
    "        qc.append(gate, [0])\n",
    "        qc.barrier()\n",
    "        qc.append(gate.inverse(), [0])\n",
    "        qc.barrier()\n",
    "    \n",
    "    qc.h(0)\n",
    "    qc.measure(0,0)\n",
    "    circuits[i].append(qc.copy())"
   ]
  },
  {
   "cell_type": "code",
   "execution_count": 1195,
   "id": "296d8408",
   "metadata": {},
   "outputs": [],
   "source": [
    "fidelities = []\n",
    "expectations = [0,0]\n",
    "counts = [0,0]\n",
    "for [circuit1, circuit2] in circuits:\n",
    "    job = execute(circuit1, backend, noise_model=kraus_noise_model,\n",
    "                  basis_gates = kraus_basis_gates, shots = shots)\n",
    "    counts[0] = job.result().get_counts()\n",
    "    job = execute(circuit2, backend, noise_model=kraus_noise_model, \n",
    "                  basis_gates = kraus_basis_gates, shots = shots)\n",
    "    counts[1] = job.result().get_counts()\n",
    "    expectations[0] = (1/shots)*(counts[0]['0']*1+(-1)*counts[0]['1'])\n",
    "    expectations[1] = (1/shots)*(counts[1]['0']*1+(-1)*counts[1]['1'])\n",
    "    fidelities.append((1/2**n)*(expectations[0]-expectations[1]))\n",
    "    \n",
    "xfidelities = fidelities.copy()"
   ]
  },
  {
   "cell_type": "code",
   "execution_count": 1196,
   "id": "99e32e9d",
   "metadata": {},
   "outputs": [],
   "source": [
    "circuits = []\n",
    "gate = XGate() #the gate to use for noise profiling. Is the noise gate-dependent?\n",
    "folds = 40 #number of folds to fit noise\n",
    "\n",
    "for i in range(folds):\n",
    "    qc = QuantumCircuit(qr,cr)\n",
    "    \n",
    "    #initialize to positive eigenstate of Pauli being measured\n",
    "    qc.initialize(\"r\")\n",
    "    qc.barrier() #these are necessary to deter the compiler from cancelling\n",
    "    \n",
    "    #add anumber of unitary folds\n",
    "    for j in range(i+1):\n",
    "        qc.append(gate, [0])\n",
    "        qc.barrier()\n",
    "        qc.append(gate.inverse(), [0])\n",
    "        qc.barrier()\n",
    "    \n",
    "    #measure in the operator basis\n",
    "    qc.sdg(0)\n",
    "    qc.h(0)\n",
    "    qc.measure(0,0)\n",
    "    circuits.append([qc.copy()])\n",
    "    \n",
    "    #repeat the process but for the negative eigenstate\n",
    "    qc = QuantumCircuit(qr,cr)\n",
    "    qc.initialize(\"l\")\n",
    "    qc.barrier()\n",
    "    for j in range(i+1):\n",
    "        qc.append(gate, [0])\n",
    "        qc.barrier()\n",
    "        qc.append(gate.inverse(), [0])\n",
    "        qc.barrier()\n",
    "        \n",
    "    qc.sdg(0)\n",
    "    qc.h(0)\n",
    "    qc.measure(0,0)\n",
    "    circuits[i].append(qc.copy())"
   ]
  },
  {
   "cell_type": "code",
   "execution_count": 1197,
   "id": "9f03444a",
   "metadata": {},
   "outputs": [],
   "source": [
    "fidelities = []\n",
    "expectations = [0,0]\n",
    "counts = [0,0]\n",
    "for [circuit1, circuit2] in circuits:\n",
    "    job = execute(circuit1, backend, noise_model=kraus_noise_model,\n",
    "                  basis_gates = kraus_basis_gates, shots = shots)\n",
    "    counts[0] = job.result().get_counts()\n",
    "    job = execute(circuit2, backend, noise_model=kraus_noise_model, \n",
    "                  basis_gates = kraus_basis_gates, shots = shots)\n",
    "    counts[1] = job.result().get_counts()\n",
    "    expectations[0] = (1/shots)*(counts[0]['0']*1+(-1)*counts[0]['1'])\n",
    "    expectations[1] = (1/shots)*(counts[1]['0']*1+(-1)*counts[1]['1'])\n",
    "    fidelities.append((1/2**n)*(expectations[0]-expectations[1]))\n",
    "    \n",
    "yfidelities = fidelities.copy()"
   ]
  },
  {
   "cell_type": "code",
   "execution_count": 1203,
   "id": "cdb06b4c",
   "metadata": {},
   "outputs": [
    {
     "data": {
      "image/png": "[encoded data removed]",
      "text/plain": [
       "<Figure size 432x288 with 1 Axes>"
      ]
     },
     "metadata": {
      "needs_background": "light"
     },
     "output_type": "display_data"
    }
   ],
   "source": [
    "xrange = np.multiply(2,range(1,1+folds)) \n",
    "\n",
    "plt.plot(xrange, xfidelities, 'ro')\n",
    "plt.plot(xrange, yfidelities, 'mo')\n",
    "plt.plot(xrange, zfidelities, 'bo')\n",
    "\n",
    "#perform optimized fit to extrapolate to the the single-gate noise limit\n",
    "\n",
    "\n",
    "#do they decay to zero over time?\n",
    "def Exp(t, b, a):\n",
    "    return a*np.exp(-t * b)\n",
    "\n",
    "p0 = (.05, 1)\n",
    "params, cv = scipy.optimize.curve_fit(Exp, xrange, xfidelities, p0)\n",
    "plt.plot(xrange, a*np.exp(np.multiply(-1*bx, xrange)))\n",
    "\n",
    "params, cv = scipy.optimize.curve_fit(Exp, xrange, yfidelities, p0)\n",
    "b, a = params\n",
    "plt.plot(xrange, a*np.exp(np.multiply(-1*by, xrange)))\n",
    "\n",
    "params, cv = scipy.optimize.curve_fit(Exp, xrange, zfidelities, p0)\n",
    "b, a = params\n",
    "plt.plot(xrange, a*np.exp(np.multiply(-1*bz, xrange)));"
   ]
  },
  {
   "cell_type": "code",
   "execution_count": 1192,
   "id": "b66fd7bf",
   "metadata": {},
   "outputs": [
    {
     "name": "stdout",
     "output_type": "stream",
     "text": [
      "[1, 0.9617017133274431, 0.9463691079245158, 0.9510124355014462]\n",
      "[1.         0.98019867 0.97824024 0.998002  ]\n"
     ]
    }
   ],
   "source": [
    "measured_fidelities = [1, math.exp(-bx), math.exp(-by), math.exp(-bz)]\n",
    "print(measured_fidelities)\n",
    "print(ideal_fidelities)"
   ]
  },
  {
   "cell_type": "code",
   "execution_count": null,
   "id": "76bee0a8",
   "metadata": {},
   "outputs": [],
   "source": []
  }
 ],
 "metadata": {
  "kernelspec": {
   "display_name": "Python 3 (ipykernel)",
   "language": "python",
   "name": "python3"
  },
  "language_info": {
   "codemirror_mode": {
    "name": "ipython",
    "version": 3
   },
   "file_extension": ".py",
   "mimetype": "text/x-python",
   "name": "python",
   "nbconvert_exporter": "python",
   "pygments_lexer": "ipython3",
   "version": "3.10.5"
  }
 },
 "nbformat": 4,
 "nbformat_minor": 5
}
