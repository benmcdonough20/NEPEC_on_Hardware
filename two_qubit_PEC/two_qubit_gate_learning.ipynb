{
 "cells": [
  {
   "cell_type": "markdown",
   "id": "482698b4",
   "metadata": {},
   "source": [
    "# Two-qubit gate learning with crosstalk\n",
    "This notebook is designed to test noise learning through two-qubit clifford gates with crosstalk. I still have questions about how to do this while simultaneously twirling the noise. This example uses a pauli-channel noise model."
   ]
  },
  {
   "cell_type": "code",
   "execution_count": 72,
   "id": "aad0d9ad",
   "metadata": {},
   "outputs": [],
   "source": [
    "from qiskit.quantum_info import Operator, Pauli \n",
    "from qiskit.circuit.library import CXGate, CZGate, HGate, SGate\n",
    "from qiskit import QuantumCircuit, Aer, execute\n",
    "from qiskit.providers.aer.noise import depolarizing_error, NoiseModel\n",
    "\n",
    "import numpy as np\n",
    "from random import choices\n",
    "from numpy.random import permutation\n",
    "import matplotlib.pyplot as plt\n",
    "from itertools import product\n",
    "from scipy.optimize import curve_fit"
   ]
  },
  {
   "cell_type": "markdown",
   "id": "3a8f9f8d",
   "metadata": {},
   "source": [
    "## Pauli name tools"
   ]
  },
  {
   "cell_type": "code",
   "execution_count": 73,
   "id": "53276b18",
   "metadata": {},
   "outputs": [],
   "source": [
    "#iterate through all pauli strings and convert them to operators. indices are a convenient representation of ops\n",
    "names = [\"\".join(str) for str in product(['I', 'X', 'Y','Z'], repeat=n)]\n",
    "paulis = [Operator(Pauli(name)) for name in names]\n",
    "\n",
    "#give this function a pauli matrix and it returns its name if it is on the list, e.g. \"XIYZ\"\n",
    "def get_name(pauli_op):\n",
    "    try:\n",
    "        #iterate through gates and check if they are equivalent up to global phase\n",
    "        return names[min([i for (i,gate) in enumerate(paulis) if pauli_op.equiv(gate)])]\n",
    "    except:\n",
    "        return -1\n",
    "\n",
    "#simplifying conjugating a pauli by a clifford\n",
    "def conjugate(pauli, cliffordop):\n",
    "    return get_name(cliffordop.compose(Operator(Pauli(pauli).to_matrix())).compose(cliffordop))"
   ]
  },
  {
   "cell_type": "markdown",
   "id": "466e8f8d",
   "metadata": {},
   "source": [
    "## Basis change gates"
   ]
  },
  {
   "cell_type": "code",
   "execution_count": 92,
   "id": "7eabed0c",
   "metadata": {},
   "outputs": [],
   "source": [
    "#change from Z to the eigenvasis of desired pauli operator\n",
    "def change_basis(pauli_str):\n",
    "    qc = QuantumCircuit(len(pauli_str))\n",
    "    for i,p in enumerate(pauli_str):\n",
    "        match p:\n",
    "            case 'X':\n",
    "                qc.h(i)\n",
    "            case 'Y':\n",
    "                qc.h(i)\n",
    "                qc.s(i)\n",
    "            case _:\n",
    "                qc.id(i)\n",
    "    return qc.to_instruction()\n",
    "\n",
    "def change_basis_back(pauli_str):\n",
    "    qc = QuantumCircuit(len(pauli_str))\n",
    "    for i,p in enumerate(pauli_str):\n",
    "        match p:\n",
    "            case 'X':\n",
    "                qc.h(i)\n",
    "            case 'Y':\n",
    "                qc.sdg(i)\n",
    "                qc.h(i)\n",
    "            case _:\n",
    "                qc.id(i)\n",
    "    return qc.to_instruction()"
   ]
  },
  {
   "cell_type": "markdown",
   "id": "45eb37c7",
   "metadata": {},
   "source": [
    "## Generate fidelity pair list"
   ]
  },
  {
   "cell_type": "code",
   "execution_count": 175,
   "id": "3aecce4f",
   "metadata": {},
   "outputs": [],
   "source": [
    "def s_prod(a,b):\n",
    "    return {True:0, False:1}[Pauli(a).commutes(Pauli(b))]\n",
    "\n",
    "gate_to_benchmark = Operator(CXGate().to_matrix())\n",
    "n=2\n",
    "p1 = [\"\".join(s) for s in product(\"IXYZ\", repeat = n)][1:]\n",
    "p_group_permuted = [conjugate(p, gate_to_benchmark) for p in p1]\n",
    "\n",
    "M1 = [[s_prod(a,b) for a in p1] for b in p1]\n",
    "M2 = [[s_prod(a,b) for a in p_group_permuted] for b in p1]\n",
    "\n",
    "M = np.add(M1, M2)"
   ]
  },
  {
   "cell_type": "code",
   "execution_count": 176,
   "id": "f064f111",
   "metadata": {},
   "outputs": [
    {
     "name": "stdout",
     "output_type": "stream",
     "text": [
      "Singular Matrix\n"
     ]
    }
   ],
   "source": [
    "#just using products, this matrix is singular\n",
    "try:\n",
    "    np.linalg.inv(np.add(M1,M2))\n",
    "except:\n",
    "    print(\"Singular Matrix\")"
   ]
  },
  {
   "cell_type": "code",
   "execution_count": 177,
   "id": "8092fdbe",
   "metadata": {},
   "outputs": [
    {
     "data": {
      "text/plain": [
       "[('IX', 'XX'),\n",
       " ('IY', 'XY'),\n",
       " ('IZ', 'IZ'),\n",
       " ('XI', 'XI'),\n",
       " ('XX', 'IX'),\n",
       " ('XY', 'IY'),\n",
       " ('XZ', 'XZ'),\n",
       " ('YI', 'YZ'),\n",
       " ('YX', 'ZY'),\n",
       " ('YY', 'ZX'),\n",
       " ('YZ', 'YI'),\n",
       " ('ZI', 'ZZ'),\n",
       " ('ZX', 'YY'),\n",
       " ('ZY', 'YX'),\n",
       " ('ZZ', 'ZI')]"
      ]
     },
     "execution_count": 177,
     "metadata": {},
     "output_type": "execute_result"
    }
   ],
   "source": [
    "list(zip(p1, p_group_permuted))"
   ]
  },
  {
   "cell_type": "code",
   "execution_count": 189,
   "id": "9b8a970f",
   "metadata": {},
   "outputs": [
    {
     "name": "stdout",
     "output_type": "stream",
     "text": [
      "[('IX', 'II'), ('IY', 'II'), ('IZ', 'IZ'), ('XI', 'XI'), ('XX', 'IX'), ('XY', 'IY'), ('XZ', 'XZ'), ('YI', 'II'), ('YX', 'ZY'), ('YY', 'ZX'), ('YZ', 'YI'), ('ZI', 'II'), ('ZX', 'YY'), ('ZY', 'YX'), ('ZZ', 'ZI')]\n"
     ]
    }
   ],
   "source": [
    "p2 = p_group_permuted.copy()\n",
    "paulis_to_fix = []\n",
    "for i,(s1,s2) in enumerate(zip(p1, p_group_permuted)):\n",
    "    if 'I' in s1:\n",
    "        if 'I' not in s2:\n",
    "            p2[i] = \"II\"\n",
    "    else:\n",
    "        p1[i] = s1 #the problem children\n",
    "\n",
    "print(list(zip(p1, p2)))"
   ]
  },
  {
   "cell_type": "code",
   "execution_count": 187,
   "id": "f0e65612",
   "metadata": {},
   "outputs": [
    {
     "data": {
      "text/plain": [
       "['XX', 'XY', 'XZ', 'YX', 'YY', 'YZ', 'ZX', 'ZY', 'ZZ']"
      ]
     },
     "execution_count": 187,
     "metadata": {},
     "output_type": "execute_result"
    }
   ],
   "source": [
    "paulis_to_fix"
   ]
  },
  {
   "cell_type": "code",
   "execution_count": 181,
   "id": "4f24e65b",
   "metadata": {},
   "outputs": [],
   "source": [
    "M1 = [[s_prod(a,b) for a in p1] for b in p1]\n",
    "M2 = [[s_prod(a,b) for a in p2] for b in p2]"
   ]
  },
  {
   "cell_type": "code",
   "execution_count": 182,
   "id": "95fa85bc",
   "metadata": {},
   "outputs": [
    {
     "name": "stdout",
     "output_type": "stream",
     "text": [
      "Full rank!\n"
     ]
    }
   ],
   "source": [
    "try:\n",
    "    np.linalg.inv(np.add(M1,M2))\n",
    "    print(\"Full rank!\")\n",
    "except:\n",
    "    print(\"Singular matrix\")"
   ]
  },
  {
   "cell_type": "code",
   "execution_count": 174,
   "id": "99bbaa5a",
   "metadata": {},
   "outputs": [],
   "source": [
    "p = .01\n",
    "onequbit_error = depolarizing_error(p, 1)\n",
    "twoqubit_error = depolarizing_error(p, 2)\n",
    "noise_model = NoiseModel()\n",
    "noise_model.add_all_qubit_quantum_error(onequbit_error, ['id','x','y','z'])\n",
    "noise_model.add_all_qubit_quantum_error(twoqubit_error, ['cx','cz'])\n",
    "SHOTS = 1000"
   ]
  },
  {
   "cell_type": "code",
   "execution_count": 86,
   "id": "ffe19434",
   "metadata": {},
   "outputs": [],
   "source": [
    "#get the expectation value of a pauli operator\n",
    "def get_expectation(circuit, pauli_str):\n",
    "    #switch basis and measure in Z basis\n",
    "    circ = circuit.copy()\n",
    "    circ.append(change_basis_back(pauli_str), range(len(pauli_str)))\n",
    "    circ.measure_all()\n",
    "    #create backend\n",
    "    backend = Aer.get_backend('qasm_simulator')\n",
    "    #extract counts from potentially noisy backend\n",
    "    counts = execute(circ, backend, shots = SHOTS, noise_model = noise_model, basis_gates = noise_model.basis_gates, optimization_level=0).result().get_counts()\n",
    "    #get expectation value\n",
    "    total = 0\n",
    "    pauli_str = pauli_str[::-1]\n",
    "    for key in counts.keys():\n",
    "        #compute overlap between key and P_z(i) to weight counts. If even, 1, if odd, -1\n",
    "        total += (1-2*(np.sum([int(key_bit)*int({'I':'0'}.get(pauli_bit, '1')) for (key_bit,pauli_bit) in zip(key, pauli_str)])%2))*counts[key]\n",
    "    return total/SHOTS\n",
    "\n",
    "#measure the fidelity of a pauli operator after folding the noisy gate a certain number of times\n",
    "def measure_circuit(pauli, folds):\n",
    "    total = 0\n",
    "\n",
    "    qc = QuantumCircuit(2)\n",
    "    qc.append(change_basis(pauli),range(n))\n",
    "\n",
    "    for i in range(folds):\n",
    "        qc.append(gate_to_benchmark, range(n))\n",
    "        qc.append(gate_to_benchmark, range(n))\n",
    "\n",
    "    return qc "
   ]
  },
  {
   "cell_type": "code",
   "execution_count": 96,
   "id": "fa9a2f05",
   "metadata": {},
   "outputs": [],
   "source": [
    "pauli_group = [\"\".join(s) for s in product(\"IXYZ\", repeat = 2)][1:]\n",
    "lengths = [1,2,4,8,16,32]\n",
    "pauli_fidelities = {p:[0]*len(lengths) for p in pauli_group}\n",
    "for s in product(\"XYZ\", repeat = 2):\n",
    "    p = \"\".join(s)\n",
    "    for i,l in enumerate(lengths):\n",
    "        qc = measure_circuit(p, l)\n",
    "        pauli_fidelities[p][i] += get_expectation(qc, p)\n",
    "        pauli_fidelities[p[0]+\"I\"][i] += get_expectation(qc, p[0]+\"I\")/3\n",
    "        pauli_fidelities[\"I\"+p[1]][i] += get_expectation(qc,\"I\"+p[1])/3\n"
   ]
  },
  {
   "cell_type": "code",
   "execution_count": 107,
   "id": "74ca7f2a",
   "metadata": {},
   "outputs": [
    {
     "data": {
      "text/plain": [
       "[<matplotlib.lines.Line2D at 0x7f4b37d5f400>]"
      ]
     },
     "execution_count": 107,
     "metadata": {},
     "output_type": "execute_result"
    },
    {
     "data": {
      "image/png": "[encoded data removed]",
      "text/plain": [
       "<Figure size 432x288 with 1 Axes>"
      ]
     },
     "metadata": {
      "needs_background": "light"
     },
     "output_type": "display_data"
    }
   ],
   "source": [
    "pauli = \"IY\"\n",
    "plt.plot(lengths, pauli_fidelities[pauli], 'ro')\n",
    "expfit = lambda x,a,b: np.exp(-b*x)*a\n",
    "popt, pcov = curve_fit(expfit, lengths, pauli_fidelities[pauli])\n",
    "xrange = np.linspace(0, np.max(lengths), 100)\n",
    "plt.plot(xrange, [expfit(x, popt[0], popt[1]) for x in xrange])"
   ]
  }
 ],
 "metadata": {
  "kernelspec": {
   "display_name": "Python 3.10.4 ('qiskit_env')",
   "language": "python",
   "name": "python3"
  },
  "language_info": {
   "codemirror_mode": {
    "name": "ipython",
    "version": 3
   },
   "file_extension": ".py",
   "mimetype": "text/x-python",
   "name": "python",
   "nbconvert_exporter": "python",
   "pygments_lexer": "ipython3",
   "version": "3.10.4"
  },
  "vscode": {
   "interpreter": {
    "hash": "d4803144e0ca2433cbbdbc82809c7bf0c6dd86d5d16291a48205e2d911513c87"
   }
  }
 },
 "nbformat": 4,
 "nbformat_minor": 5
}
