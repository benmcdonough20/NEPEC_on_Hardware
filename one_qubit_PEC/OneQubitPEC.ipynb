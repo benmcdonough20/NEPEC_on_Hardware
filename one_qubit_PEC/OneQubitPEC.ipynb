{
 "cells": [
  {
   "cell_type": "markdown",
   "metadata": {},
   "source": [
    "# Carrying out PEC on one qubit\n",
    "\n",
    "This is a demo of PEC carried out on a single qubit. This notebook uses the ideal model coefficients to determine how well it works. The full version would involve learning the model coefficients first and then using those to do PEC."
   ]
  },
  {
   "cell_type": "code",
   "execution_count": 7,
   "metadata": {},
   "outputs": [],
   "source": [
    "import numpy as np\n",
    "from numpy.random import randint\n",
    "from decimal import Decimal\n",
    "\n",
    "from qiskit.providers.aer.noise import kraus_error, NoiseModel\n",
    "from qiskit.quantum_info import Kraus, Pauli\n",
    "from qiskit import Aer, QuantumCircuit, execute"
   ]
  },
  {
   "cell_type": "markdown",
   "metadata": {},
   "source": [
    "Inputting the model parameters"
   ]
  },
  {
   "cell_type": "code",
   "execution_count": 2,
   "metadata": {},
   "outputs": [],
   "source": [
    "T = [Pauli(\"X\"), Pauli(\"Y\"), Pauli(\"Z\")] #These are the terms considered in the model\n",
    "coeffs = [.03, .01, .05] #These are the corresponding lambdas\n",
    "omegas = np.multiply(.5, np.add(1, np.exp(np.multiply(-2.0, coeffs)))) #Equation (S9)\n",
    "overhead = np.exp(2.0*np.sum(coeffs)) #below Eq (5)"
   ]
  },
  {
   "cell_type": "markdown",
   "metadata": {},
   "source": [
    "Using these parameters to generate a Kraus map representing the error model\n",
    "$$\n",
    "\\Lambda(\\rho) = \\prod_{k \\in \\mathcal{T}}\\omega_k\\rho+(1-\\omega_k)P_k\\rho P_k \\\\\n",
    "= (\\omega_1I\\otimes I + (1-\\omega_1)P_1^\\top \\otimes P_1) \\circ (\\omega_2I\\otimes I + (1-\\omega_2)P_2^\\top \\otimes P_2) \\circ ... \\circ (\\omega_NI\\otimes I + (1-\\omega_N)P_N^\\top \\otimes P_N)\\vert \\rho \\rangle \\rangle\n",
    "$$"
   ]
  },
  {
   "cell_type": "code",
   "execution_count": 3,
   "metadata": {},
   "outputs": [
    {
     "name": "stderr",
     "output_type": "stream",
     "text": [
      "/home/ben/.local/lib/python3.10/site-packages/qiskit/quantum_info/operators/channel/kraus.py:92: VisibleDeprecationWarning: Creating an ndarray from ragged nested sequences (which is a list-or-tuple of lists-or-tuples-or ndarrays with different lengths or shapes) is deprecated. If you meant to do this, you must specify 'dtype=object' when creating the ndarray.\n",
      "  if isinstance(data, np.ndarray) or np.array(data).ndim == 2:\n"
     ]
    }
   ],
   "source": [
    "kraus_ops = Kraus(np.identity(2)) #Start with identity map\n",
    "\n",
    "#Repeatedly compose (w_kI+(1-w_k)P_k) to get error channel as Kraus map\n",
    "for i in range(len(T)):\n",
    "    op = Kraus([T[i].to_matrix()*np.sqrt(1-omegas[i]),np.sqrt(omegas[i])*np.identity(2)]);\n",
    "    kraus_ops = kraus_ops.compose(op);\n",
    "\n",
    "kraus_error_channel = kraus_error(kraus_ops.data) #create kraus error channel from kraus map\n",
    "kraus_noise_model = NoiseModel() #create noise model from kraus error channel\n",
    "kraus_noise_model.add_all_qubit_quantum_error(kraus_error_channel, ['id', 'rx', 'ry', 'rz']) #add noise to all gates\n",
    "kraus_basis_gates = kraus_noise_model.basis_gates #get noisy basis gates"
   ]
  },
  {
   "cell_type": "markdown",
   "metadata": {},
   "source": [
    "## Inverse map\n",
    "$$\n",
    "\\Lambda^{-1}(\\rho) = \\gamma\\prod_{k \\in \\mathcal{T}}\\omega_k \\rho - (1-\\omega_k)P_k\\rho P_k\n",
    "$$\n",
    "\n",
    "Sample from the inverse distribution according to the procedure outlined on page 4, section B in the text:\n",
    "1. Sample the identity with probability $\\omega_k$ and $P_k$ otherwise\n",
    "2. Record the number of times a Pauli was applied\n",
    "3. Compose the sampled operators together and compose (insert?) into the gate being mitigated\n",
    "4. Scale the result of this instance by $(-1)^m\\gamma$"
   ]
  },
  {
   "cell_type": "code",
   "execution_count": 4,
   "metadata": {},
   "outputs": [],
   "source": [
    "samples = 10000 #number of circuits to sample\n",
    "total = 0 #stores the estimator value\n",
    "\n",
    "gate_to_mitigate = Pauli('Y') #The gate that is being mitigated\n",
    "\n",
    "backend = Aer.get_backend('qasm_simulator') #backend is a simulator (for now)\n",
    "\n",
    "#I wanted to be able to control the precision of the rng\n",
    "def rand_precision(prec_digits):\n",
    "    return Decimal(randint(0, 10**prec_digits))/10**prec_digits\n",
    "\n",
    "for i in range(samples):\n",
    "    m = 1 #store the sign, alternating when applying non-id Pauli\n",
    "    op = gate_to_mitigate #start with the gate to be mitigated\n",
    "    \n",
    "    for (j,Pk) in enumerate(T):\n",
    "        if rand_precision(10) < 1-omegas[j]: #with prob 1-w_k apply pauli (in software)\n",
    "            m*=-1 #alternate sign\n",
    "            op = op.compose(Pk)\n",
    "            \n",
    "    qc = QuantumCircuit(1,1) \n",
    "    qc.append(op.to_instruction(),[0]) #apply combination of paulis in circuit\n",
    "    qc.measure(0,0)\n",
    "    \n",
    "    #run one shot of this circuit\n",
    "    counts = execute(qc, backend, noise_model=kraus_noise_model, \n",
    "                     basis_gates = kraus_basis_gates, shots = 1,\n",
    "                    optimization_level = 0).result().get_counts()\n",
    "    total += (counts.get('0',0)-counts.get('1',0))*m #scale the results accordingly"
   ]
  },
  {
   "cell_type": "markdown",
   "metadata": {},
   "source": [
    "Get the mitigated value and the unmitigated value, then compare them to the actual value"
   ]
  },
  {
   "cell_type": "code",
   "execution_count": 5,
   "metadata": {},
   "outputs": [
    {
     "name": "stdout",
     "output_type": "stream",
     "text": [
      "Unmitigated value:  -0.9164\n",
      "Mitigated value:  -1.0003948286245847\n",
      "Ideal value:  -1.00\n"
     ]
    }
   ],
   "source": [
    "#get the unmitigated value\n",
    "qc = QuantumCircuit(1,1)\n",
    "qc.append(gate_to_mitigate, [0])\n",
    "qc.measure(0,0)\n",
    "counts = execute(qc, backend, noise_model=kraus_noise_model, \n",
    "                     basis_gates = kraus_basis_gates, shots = samples,\n",
    "                    optimization_level = 0).result().get_counts()\n",
    "\n",
    "#compare the mitigated, unmitigated, and actual values\n",
    "print(\"Unmitigated value: \", (counts.get('0',0)-counts.get('1',0))/samples)\n",
    "print(\"Mitigated value: \", total*overhead/samples)\n",
    "print(\"Ideal value: \", \"%.2f\"%{True:1, False:-1}[gate_to_mitigate.compose(Pauli('Z')) == Pauli('Z').compose(gate_to_mitigate)])"
   ]
  }
 ],
 "metadata": {
  "kernelspec": {
   "display_name": "Python 3 (ipykernel)",
   "language": "python",
   "name": "python3"
  },
  "language_info": {
   "codemirror_mode": {
    "name": "ipython",
    "version": 3
   },
   "file_extension": ".py",
   "mimetype": "text/x-python",
   "name": "python",
   "nbconvert_exporter": "python",
   "pygments_lexer": "ipython3",
   "version": "3.10.4"
  },
  "vscode": {
   "interpreter": {
    "hash": "e7370f93d1d0cde622a1f8e1c04877d8463912d04d973331ad4851f04de6915a"
   }
  }
 },
 "nbformat": 4,
 "nbformat_minor": 2
}
