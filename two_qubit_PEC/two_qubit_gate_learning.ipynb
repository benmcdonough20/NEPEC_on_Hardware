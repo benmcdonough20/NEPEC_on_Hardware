{
 "cells": [
  {
   "cell_type": "code",
   "execution_count": 588,
   "id": "aad0d9ad",
   "metadata": {},
   "outputs": [],
   "source": [
    "from qiskit.quantum_info import Operator, Pauli \n",
    "from qiskit.circuit.library import CXGate, CZGate, HGate, SGate\n",
    "from qiskit import QuantumCircuit, Aer, execute\n",
    "from qiskit.providers.aer.noise import depolarizing_error, NoiseModel\n",
    "\n",
    "import numpy as np\n",
    "from random import choices\n",
    "from numpy.random import permutation\n",
    "import matplotlib.pyplot as plt\n",
    "from itertools import product\n",
    "from scipy.optimize import curve_fit"
   ]
  },
  {
   "cell_type": "markdown",
   "id": "a14ddb81",
   "metadata": {},
   "source": [
    "The `Operator` class has a lot of nice features. This cell sets up some useful operator-related functions."
   ]
  },
  {
   "cell_type": "code",
   "execution_count": 25,
   "id": "53276b18",
   "metadata": {},
   "outputs": [],
   "source": [
    "#convenient names for common operators\n",
    "I = Operator(np.identity(2))\n",
    "H = Operator(HGate())\n",
    "CX = Operator(CXGate())\n",
    "CZ = Operator(CZGate())\n",
    "X = Operator(Pauli('X'))\n",
    "Y = Operator(Pauli('Y'))\n",
    "Z = Operator(Pauli('Z'))\n",
    "S = Operator(SGate())\n",
    "IH = I.tensor(H)\n",
    "HI = H.tensor(I)\n",
    "\n",
    "#dimension of the system\n",
    "n = 2\n",
    "\n",
    "#iterate through all pauli strings and convert them to operators. indices are a convenient representation of ops\n",
    "names = [\"\".join(str) for str in product(['I', 'X', 'Y','Z'], repeat=n)]\n",
    "paulis = [Operator(Pauli(name)) for name in names]\n",
    "\n",
    "#match pauli names with operators, so pauli_dict[name] = Operator(Pauli(name))\n",
    "pauli_dict = dict(zip(names, paulis))\n",
    "\n",
    "#give this function a pauli matrix and it returns its name if it is on the list, e.g. \"XIYZ\"\n",
    "def get_name(pauli_op):\n",
    "    try:\n",
    "        #iterate through gates and check if they are equivalent up to global phase\n",
    "        return names[min([i for (i,gate) in enumerate(paulis) if pauli_op.equiv(gate)])]\n",
    "    except:\n",
    "        return -1\n",
    "\n",
    "#simplifying conjugating a pauli by a clifford\n",
    "def conjugate(op1, op2):\n",
    "    return op2.compose(op1).compose(op2.adjoint())\n",
    "\n",
    "#get a random pauli of a specified weight\n",
    "def sample_pauli(weight):\n",
    "    if weight > n:\n",
    "        return -1\n",
    "    return pauli_dict[\"\".join(permutation(choices(['X', 'Y','Z'], k=weight)+['I']*(n-weight)))]"
   ]
  },
  {
   "cell_type": "code",
   "execution_count": 199,
   "id": "6a204c14",
   "metadata": {},
   "outputs": [],
   "source": [
    "#generate all of the paulis with support on connected qubit pairs and on the single qubits\n",
    "def generate_paulis(adjacency_list, proc_size):\n",
    "    pauli_list = []\n",
    "    idPauli = ['I']*proc_size\n",
    "    \n",
    "    #get all single-weight paulis\n",
    "    for i in range(proc_size):\n",
    "        for op in ['X','Y','Z']:\n",
    "            pauli = idPauli.copy()\n",
    "            pauli[i] = op\n",
    "            pauli_list.append(\"\".join(pauli))\n",
    "\n",
    "    #get all weight-two paulis on nieghboring qubits\n",
    "    for (qubit1, qubit2) in adjacency_list:\n",
    "        for pauli1, pauli2 in product(['X','Y','Z'], repeat =2):\n",
    "            pauli = idPauli.copy()\n",
    "            pauli[qubit1] = pauli1\n",
    "            pauli[qubit2] = pauli2\n",
    "            pauli_list.append(\"\".join(pauli))\n",
    "\n",
    "    return pauli_list"
   ]
  },
  {
   "cell_type": "code",
   "execution_count": 201,
   "id": "bc9a94aa",
   "metadata": {},
   "outputs": [
    {
     "name": "stdout",
     "output_type": "stream",
     "text": [
      "['XI', 'YI', 'ZI', 'IX', 'IY', 'IZ', 'XX', 'XY', 'XZ', 'YX', 'YY', 'YZ', 'ZX', 'ZY', 'ZZ']\n"
     ]
    }
   ],
   "source": [
    "#create a small two-qubit model to begin testing\n",
    "small_proc = [(0,1)]\n",
    "pauli_group = generate_paulis(small_proc, 2)\n",
    "print(pauli_group)"
   ]
  },
  {
   "cell_type": "code",
   "execution_count": 536,
   "id": "7eabed0c",
   "metadata": {},
   "outputs": [],
   "source": [
    "#Unitaries mapping from the Z basis to desired pauli\n",
    "BASIS_CHANGE = {'I':I, 'Z':I, 'X':H, 'Y':H.compose(S)}\n",
    "\n",
    "#change from Z to the eigenvasis of desired pauli operator\n",
    "def change_basis(pauli_str):\n",
    "    op = Operator([1])\n",
    "    for char in pauli_str:\n",
    "        #tensor together individual basis changes\n",
    "        op = op.tensor(BASIS_CHANGE[char])\n",
    "    return op\n",
    "\n",
    "#map from pauli eigenbasis back to Z\n",
    "def change_basis_back(pauli_str):\n",
    "    op = Operator([1])\n",
    "    for char in pauli_str:\n",
    "        #tensor together the inverse of the basis changes\n",
    "        op = op.tensor(BASIS_CHANGE[char].adjoint())\n",
    "    return op\n",
    "\n",
    "#generate preparation operators for negative and positive eigenstates of arbitrary pauli\n",
    "def pauli_eigenstate_prep_ops(pauli_str):\n",
    "    pos_ops, neg_ops = z_eigenstate_prep_ops(pauli_str) #flip bits to prepare P_z(i) eigenstate\n",
    "    #append with switch to desired pauli basis\n",
    "    pos_ops = [op.compose(change_basis(pauli_str)) for op in pos_ops]\n",
    "    neg_ops = [op.compose(change_basis(pauli_str)) for op in neg_ops]\n",
    "    return (pos_ops, neg_ops)\n",
    "\n",
    "#recursive method that prepares all eigenstates of Z-I string such as 'ZIZZI'\n",
    "def z_eigenstate_prep_ops(pauli_str):\n",
    "    if len(pauli_str) == 1: #bottom out at single pauli gate\n",
    "        return {'I':([I,X],[])}.get(pauli_str, ([I],[X])) #return pos/neg eigenstate preps for 'Z'\n",
    "\n",
    "    last = z_eigenstate_prep_ops(pauli_str[-1]) #get the preparations operators from the last pauli in the string\n",
    "    rest = z_eigenstate_prep_ops(pauli_str[:-1]) #call the method on the rest of the string recursively\n",
    "    #tensor the two together to get negative/positive preparation circuits\n",
    "    ret_pos = [op2.tensor(op1) for op1 in last[0] for op2 in rest[0]]+[op2.tensor(op1) for op1 in last[1] for op2 in rest[1]]\n",
    "    ret_neg = [op2.tensor(op1) for op1 in last[1] for op2 in rest[0]]+[op2.tensor(op1) for op1 in last[0] for op2 in rest[1]]\n",
    "\n",
    "    return (ret_pos, ret_neg)\n"
   ]
  },
  {
   "cell_type": "code",
   "execution_count": 554,
   "id": "1a933711",
   "metadata": {},
   "outputs": [],
   "source": [
    "#short routine to test pauli preparation/measurement. Computes HS inner product of two paulis\n",
    "def pauli_inner_product(pa, pb):\n",
    "    dim = len(pa)\n",
    "    backend = Aer.get_backend('qasm_simulator')\n",
    "    pos, neg = pauli_eigenstate_prep_ops(pb)\n",
    "    total = 0\n",
    "    #prepare all positive eigenstates\n",
    "    for op in pos:\n",
    "        qc = QuantumCircuit(dim)\n",
    "        qc.append(op,range(dim))\n",
    "        #measure desired expectation value and add to total\n",
    "        total += get_expectation(qc, pa, 25, backend)\n",
    "    #prepare all negative eigenstates\n",
    "    for op in neg:\n",
    "        qc = QuantumCircuit(dim)\n",
    "        qc.append(op,range(dim))\n",
    "        #measure expectation value and subtract from total\n",
    "        total -= get_expectation(qc, pa, 25, backend)\n",
    "    #return value scaled so <I|I>=1\n",
    "    return total/2**dim\n",
    "\n",
    "#run for all paulis in basis. Matrix should be identity because pauli basis is orthonormal\n",
    "basis_mat = [[pauli_inner_product(pa, pb) for pa in pauli_group] for pb in pauli_group]"
   ]
  },
  {
   "cell_type": "code",
   "execution_count": 556,
   "id": "089963d4",
   "metadata": {},
   "outputs": [
    {
     "name": "stdout",
     "output_type": "stream",
     "text": [
      "[[ 1. -0. -0. -0. -0.  0.  0.  0.  0.  0. -0. -0. -0.  0. -0.]\n",
      " [-0.  1. -0. -0.  0.  0.  0. -0. -0.  0.  0.  0.  0.  0.  0.]\n",
      " [ 0. -0.  1.  0.  0.  0.  0.  0.  0.  0. -0. -0. -0. -0.  0.]\n",
      " [ 0.  0.  0.  1. -0. -0.  0. -0.  0.  0. -0. -0.  0.  0.  0.]\n",
      " [ 0. -0.  0.  0.  1. -0. -0. -0.  0. -0. -0.  0. -0.  0.  0.]\n",
      " [-0.  0.  0. -0.  0.  1. -0.  0. -0.  0.  0. -0.  0.  0.  0.]\n",
      " [ 0.  0. -0.  0. -0.  0.  1.  0.  0. -0.  0.  0.  0.  0. -0.]\n",
      " [ 0.  0. -0. -0.  0.  0.  0.  1. -0.  0.  0.  0. -0.  0.  0.]\n",
      " [ 0.  0.  0. -0. -0.  0.  0.  0.  1. -0.  0.  0.  0. -0.  0.]\n",
      " [ 0.  0.  0.  0.  0.  0.  0.  0. -0.  1. -0. -0.  0. -0.  0.]\n",
      " [-0.  0.  0. -0.  0.  0.  0. -0.  0. -0.  1. -0. -0.  0.  0.]\n",
      " [-0.  0.  0.  0. -0.  0.  0. -0. -0.  0. -0.  1. -0. -0. -0.]\n",
      " [-0.  0.  0.  0.  0.  0. -0. -0. -0. -0.  0.  0.  1.  0. -0.]\n",
      " [ 0. -0.  0. -0.  0. -0. -0. -0. -0. -0. -0.  0. -0.  1.  0.]\n",
      " [ 0. -0.  0.  0.  0.  0. -0.  0. -0. -0.  0. -0.  0. -0.  1.]]\n"
     ]
    }
   ],
   "source": [
    "np.set_printoptions(precision=0, suppress=True) #low shots, low precision\n",
    "print(np.array(basis_mat)) #verify that this is the identity"
   ]
  },
  {
   "cell_type": "markdown",
   "id": "45eb37c7",
   "metadata": {},
   "source": [
    "## Measurement procedure"
   ]
  },
  {
   "cell_type": "code",
   "execution_count": 590,
   "id": "99bbaa5a",
   "metadata": {},
   "outputs": [],
   "source": [
    "p = .01\n",
    "num = len(pauli_group)\n",
    "onequbit_error = depolarizing_error(p, 1)\n",
    "twoqubit_error = depolarizing_error(p, 2)\n",
    "error_model = NoiseModel()\n",
    "error_model.add_all_qubit_quantum_error(onequbit_error, ['id','rz', 'sx', 'u1', 'u2', 'u3'])\n",
    "error_model.add_all_qubit_quantum_error(twoqubit_error, ['cx','cz'])\n",
    "basis_gates = error_model.basis_gates"
   ]
  },
  {
   "cell_type": "code",
   "execution_count": 600,
   "id": "ffe19434",
   "metadata": {},
   "outputs": [],
   "source": [
    "SHOTS = 10000\n",
    "gate_to_benchmark = CX\n",
    "\n",
    "#get the expectation value of a puali operator\n",
    "def get_expectation(circuit, pauli_str):\n",
    "    #switch basis and measure in Z basis\n",
    "    circ = circuit.copy()\n",
    "    circ.append(change_basis_back(pauli_str), range(len(pauli_str)))\n",
    "    circ.measure_all()\n",
    "    #create backend\n",
    "    backend = Aer.get_backend('qasm_simulator')\n",
    "    #extract counts from potentially noisy backend\n",
    "    counts = execute(circ, backend, shots = SHOTS, noise_model = error_model, basis_gates = basis_gates, optimization_level=0).result().get_counts()\n",
    "    #get expectation value\n",
    "    total = 0\n",
    "    for key in counts.keys():\n",
    "        #compute overlap between key and P_z(i) to weight counts. If even, 1, if odd, -1\n",
    "        total += (1-2*(np.sum([int(key_bit)*int({'I':'0'}.get(pauli_bit, '1')) for (key_bit,pauli_bit) in zip(key, pauli_str)])%2))*counts[key]\n",
    "    return total/SHOTS\n",
    "\n",
    "def measure_fidelity(pauli, folds):\n",
    "    dim = len(pauli)\n",
    "    op_dim = int(np.log2(gate_to_benchmark.dim[0]))\n",
    "    prep_circuits_pos, prep_circuits_neg = pauli_eigenstate_prep_ops(pauli)\n",
    "    total = 0\n",
    "\n",
    "    qc = QuantumCircuit(2)\n",
    "    qc.append(prep_circuits_pos[0],range(dim))\n",
    "\n",
    "    for i in range(folds):\n",
    "        qc.append(gate_to_benchmark, range(op_dim))\n",
    "        qc.append(gate_to_benchmark, range(op_dim))\n",
    "\n",
    "    return get_expectation(qc,pauli)\n",
    "    \n",
    "    '''\n",
    "    This is a question I have had for a bit: do you need to measure\n",
    "    all of the eigenstates of the operator? The paper seems to imply\n",
    "    otherwise\n",
    "\n",
    "    for circ in prep_circuits_pos:\n",
    "        qc = QuantumCircuit(dim)\n",
    "        qc.append(circ,range(dim))\n",
    "        for i in range(folds):\n",
    "            qc.append(gate_to_benchmark, range(op_dim))\n",
    "            qc.append(gate_to_benchmark, range(op_dim))\n",
    "        total += get_expectation(qc, pauli)\n",
    "    for circ in prep_circuits_neg:\n",
    "        qc = QuantumCircuit(dim)\n",
    "        qc.append(circ,range(dim))\n",
    "        for i in range(folds):\n",
    "            qc.append(gate_to_benchmark, range(op_dim))\n",
    "            qc.append(gate_to_benchmark, range(op_dim))\n",
    "        total -= get_expectation(qc, pauli)\n",
    "    '''\n",
    "    #return total*1/2**dim\n",
    "\n",
    "def fit_fidelity(pauli, max_folds, precision):\n",
    "    fidelities = []\n",
    "    for folds in range(0,max_folds,precision):\n",
    "        fidelities.append(measure_fidelity(pauli, folds))\n",
    "    fidelities = [fid/fidelities[0] for fid in fidelities]\n",
    "    xrange = range(0,max_folds*2, precision*2)\n",
    "    popt, pcov = curve_fit(lambda x,a: np.exp(-a*x), xrange, fidelities, p0=[.01])\n",
    "    return popt, fidelities\n",
    "\n",
    "def progressBar (iteration, total, prefix = '', suffix = '', decimals = 1, length = 100, fill = '█', printEnd = \"\\r\"):\n",
    "    # Displays a nice progress bar\n",
    "    percent = (\"{0:.\" + str(decimals) + \"f}\").format(100 * (iteration / float(total)))\n",
    "    filledLength = int(length * iteration // total)\n",
    "    bar = fill * filledLength + '-' * (length - filledLength)\n",
    "    print(f'\\r{prefix} |{bar}| {percent}% {suffix}', end = printEnd)\n",
    "    if iteration == total: \n",
    "        print()\n",
    "\n",
    "def generate_full_fidelity_list(max_folds, precision):\n",
    "    fidelities = []\n",
    "    progressBar(0, len(pauli_group))\n",
    "    for i,pauli in enumerate(pauli_group):\n",
    "        fidelities.append(fit_fidelity(pauli, max_folds, precision)[0][0])\n",
    "        progressBar(i+1, len(pauli_group))\n",
    "    return np.exp(np.multiply(-1, fidelities))"
   ]
  },
  {
   "cell_type": "code",
   "execution_count": 601,
   "id": "fa9a2f05",
   "metadata": {},
   "outputs": [
    {
     "data": {
      "text/plain": [
       "[<matplotlib.lines.Line2D at 0x7f045719fd90>]"
      ]
     },
     "execution_count": 601,
     "metadata": {},
     "output_type": "execute_result"
    },
    {
     "data": {
      "image/png": "[encoded data removed]",
      "text/plain": [
       "<Figure size 432x288 with 1 Axes>"
      ]
     },
     "metadata": {
      "needs_background": "light"
     },
     "output_type": "display_data"
    }
   ],
   "source": [
    "prec = 8\n",
    "max_depth = 40\n",
    "coeffs, fidelities = fit_fidelity(\"XY\", max_depth, prec)\n",
    "\n",
    "xrange = range(0,max_depth*2, prec*2)\n",
    "plt.plot(xrange, [np.exp(-coeffs[0]*x) for x in xrange],'b.-')\n",
    "plt.plot(xrange, fidelities, 'ro')"
   ]
  },
  {
   "cell_type": "code",
   "execution_count": 599,
   "id": "74ca7f2a",
   "metadata": {},
   "outputs": [
    {
     "name": "stdout",
     "output_type": "stream",
     "text": [
      " |████████████████████████████████████████████████████████████████████████████████████████████████████| 100.0% \n"
     ]
    },
    {
     "data": {
      "image/png": "[encoded data removed]",
      "text/plain": [
       "<Figure size 720x360 with 1 Axes>"
      ]
     },
     "metadata": {
      "needs_background": "light"
     },
     "output_type": "display_data"
    }
   ],
   "source": [
    "f = generate_full_fidelity_list(10, 2)\n",
    "p_group_permuted = [get_name(conjugate(pauli_dict[pauli], gate_to_benchmark)) for pauli in pauli_group]\n",
    "fig, ax = plt.subplots()\n",
    "ax.bar(range(len(pauli_group)), f)\n",
    "ax.set_xticks(range(len(pauli_group)), [p1+\"*\"+p2 for p1,p2 in zip(pauli_group, p_group_permuted)]);\n",
    "fig.set_size_inches(10, 5, forward=True)"
   ]
  },
  {
   "cell_type": "code",
   "execution_count": 602,
   "id": "3aecce4f",
   "metadata": {},
   "outputs": [
    {
     "name": "stdout",
     "output_type": "stream",
     "text": [
      "[0.0033  0.00298 0.00301 0.00364 0.00313 0.00238 0.      0.      0.00014\n",
      " 0.00021 0.00078 0.      0.      0.      0.     ]\n"
     ]
    }
   ],
   "source": [
    "import scipy\n",
    "np.set_printoptions(precision=5, suppress=False)\n",
    "\n",
    "def s_prod(a,b):\n",
    "    return {True:0, False:1}[Pauli(a).commutes(Pauli(b))]\n",
    "\n",
    "M1 = [[s_prod(a,b) for a in pauli_group] for b in pauli_group]\n",
    "M2 = [[s_prod(a,b) for a in p_group_permuted] for b in pauli_group]\n",
    "M = np.add(M1, M2)\n",
    "\n",
    "model_coeffs, fit = scipy.optimize.nnls(M, -.5*np.log(f)) \n",
    "print(model_coeffs)"
   ]
  },
  {
   "cell_type": "markdown",
   "id": "57468cc5",
   "metadata": {},
   "source": [
    "## Noise learning for single qubit gates with crosstalk\n",
    "\n",
    "The procedure is outlined in the paper as follows. TO determine the fidelity $f_i$,\n",
    "1. start with the Pauli-Z term $P_{z(i)}$ that has the same support as $P_i$\n",
    "2. Implement the basis change gates $B_i$ that change $P_z(i)$ to $P_i$\n",
    "3. apply $k$ cycles of Pauli-twirled noise\n",
    "4. apply inverse basis change $B_i^\\dagger$\n",
    "5. Sample readout gates randomly from $\\{I,X\\}$ and record for post-processing\n",
    "6. compose all layers of neighboring gates"
   ]
  },
  {
   "cell_type": "code",
   "execution_count": 609,
   "id": "bbbf7077",
   "metadata": {},
   "outputs": [],
   "source": [
    "class twirled_layer:\n",
    "    pre_layer = []\n",
    "    post_layer = []\n",
    "    dim = 0\n",
    "    def __init__(self, dim):\n",
    "        self.dim = dim \n",
    "        self.pre_layer = [None]*dim\n",
    "        self.post_layer = [None]*dim\n",
    "        self.resample()\n",
    "\n",
    "    def resample(self):\n",
    "        for i in range(self.dim):\n",
    "            pauli = sample_pauli(self.dim)\n",
    "            self.pre_layer[i] = pauli\n",
    "            self.post_layer[i] = pauli\n",
    "\n",
    "basis_gates = []\n",
    "twirled_layers = []\n",
    "readout_gates = []"
   ]
  },
  {
   "cell_type": "code",
   "execution_count": 610,
   "id": "6342fb21",
   "metadata": {},
   "outputs": [],
   "source": [
    "pauli = \"XX\"\n",
    "dim = 2\n",
    "basis_gates = [BASIS_CHANGE[char] for char in pauli]\n",
    "k = 1\n",
    "for i in range(k):\n",
    "    twirled_layers.append(twirled_layer(dim))\n",
    "readout_gates = choices(['I','X'], k=dim)\n"
   ]
  },
  {
   "cell_type": "code",
   "execution_count": null,
   "id": "bf7d6dee",
   "metadata": {},
   "outputs": [],
   "source": []
  }
 ],
 "metadata": {
  "kernelspec": {
   "display_name": "Python 3.10.4",
   "language": "python",
   "name": "python3"
  },
  "language_info": {
   "codemirror_mode": {
    "name": "ipython",
    "version": 3
   },
   "file_extension": ".py",
   "mimetype": "text/x-python",
   "name": "python",
   "nbconvert_exporter": "python",
   "pygments_lexer": "ipython3",
   "version": "3.10.4"
  },
  "vscode": {
   "interpreter": {
    "hash": "d4803144e0ca2433cbbdbc82809c7bf0c6dd86d5d16291a48205e2d911513c87"
   }
  }
 },
 "nbformat": 4,
 "nbformat_minor": 5
}
