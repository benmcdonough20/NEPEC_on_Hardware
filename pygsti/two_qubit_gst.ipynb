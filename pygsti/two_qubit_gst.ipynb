{
 "cells": [
  {
   "cell_type": "code",
   "execution_count": 10,
   "metadata": {},
   "outputs": [],
   "source": [
    "#PyGSTi tools\n",
    "from pygsti.models.modelconstruction import create_explicit_model_from_expressions\n",
    "\n",
    "#pre-built gateset to use\n",
    "from pygsti.modelpacks import smq2Q_XYCPHASE\n",
    "from pygsti.data.dataset import DataSet\n",
    "from pygsti.io.writers import write_dataset\n",
    "\n",
    "#Rigetti tools\n",
    "from pyquil import get_qc, Program\n",
    "from pyquil.api import QCSClientConfiguration, local_forest_runtime\n",
    "from pyquil.gates import RESET\n",
    "\n",
    "configuration = QCSClientConfiguration.load()\n",
    "\n",
    "#python helper libraries\n",
    "from multiprocessing.pool import ThreadPool\n",
    "import time\n",
    "import numpy as np\n",
    "import pickle"
   ]
  },
  {
   "cell_type": "code",
   "execution_count": 18,
   "metadata": {},
   "outputs": [
    {
     "ename": "KeyError",
     "evalue": "\"All keys must be strings, beginning with the prefix 'rho'\"",
     "output_type": "error",
     "traceback": [
      "\u001b[0;31m---------------------------------------------------------------------------\u001b[0m",
      "\u001b[0;31mKeyError\u001b[0m                                  Traceback (most recent call last)",
      "Input \u001b[0;32mIn [18]\u001b[0m, in \u001b[0;36m<cell line: 1>\u001b[0;34m()\u001b[0m\n\u001b[0;32m----> 1\u001b[0m gs_target \u001b[38;5;241m=\u001b[39m \u001b[43mcreate_explicit_model_from_expressions\u001b[49m\u001b[43m(\u001b[49m\u001b[43m \u001b[49m\n\u001b[1;32m      2\u001b[0m \u001b[43m            \u001b[49m\u001b[43m[\u001b[49m\u001b[38;5;241;43m4\u001b[39;49m\u001b[43m]\u001b[49m\u001b[43m,\u001b[49m\u001b[43m \u001b[49m\u001b[43m[\u001b[49m\u001b[43m(\u001b[49m\u001b[38;5;124;43m'\u001b[39;49m\u001b[38;5;124;43mQ0\u001b[39;49m\u001b[38;5;124;43m'\u001b[39;49m\u001b[43m,\u001b[49m\u001b[38;5;124;43m'\u001b[39;49m\u001b[38;5;124;43mQ1\u001b[39;49m\u001b[38;5;124;43m'\u001b[39;49m\u001b[43m)\u001b[49m\u001b[43m]\u001b[49m\u001b[43m,\u001b[49m\u001b[43m[\u001b[49m\u001b[38;5;124;43m'\u001b[39;49m\u001b[38;5;124;43mGix\u001b[39;49m\u001b[38;5;124;43m'\u001b[39;49m\u001b[43m,\u001b[49m\u001b[38;5;124;43m'\u001b[39;49m\u001b[38;5;124;43mGix\u001b[39;49m\u001b[38;5;124;43m'\u001b[39;49m\u001b[43m,\u001b[49m\u001b[38;5;124;43m'\u001b[39;49m\u001b[38;5;124;43mGxi\u001b[39;49m\u001b[38;5;124;43m'\u001b[39;49m\u001b[43m,\u001b[49m\u001b[38;5;124;43m'\u001b[39;49m\u001b[38;5;124;43mGyi\u001b[39;49m\u001b[38;5;124;43m'\u001b[39;49m\u001b[43m]\u001b[49m\u001b[43m,\u001b[49m\u001b[43m \u001b[49m\n\u001b[1;32m      3\u001b[0m \u001b[43m            \u001b[49m\u001b[43m[\u001b[49m\u001b[43m \u001b[49m\u001b[38;5;124;43m\"\u001b[39;49m\u001b[38;5;124;43mX(pi/2,Q1)\u001b[39;49m\u001b[38;5;124;43m\"\u001b[39;49m\u001b[43m,\u001b[49m\u001b[43m \u001b[49m\u001b[38;5;124;43m\"\u001b[39;49m\u001b[38;5;124;43mY(pi/2,Q1)\u001b[39;49m\u001b[38;5;124;43m\"\u001b[39;49m\u001b[43m,\u001b[49m\u001b[43m \u001b[49m\u001b[38;5;124;43m\"\u001b[39;49m\u001b[38;5;124;43mX(pi/2,Q0)\u001b[39;49m\u001b[38;5;124;43m\"\u001b[39;49m\u001b[43m,\u001b[49m\u001b[43m \u001b[49m\u001b[38;5;124;43m\"\u001b[39;49m\u001b[38;5;124;43mY(pi/2,Q0)\u001b[39;49m\u001b[38;5;124;43m\"\u001b[39;49m\u001b[43m]\u001b[49m\n\u001b[1;32m      4\u001b[0m \u001b[43m            \u001b[49m\u001b[43m,\u001b[49m\u001b[43m \u001b[49m\u001b[43mprep_expressions\u001b[49m\u001b[38;5;241;43m=\u001b[39;49m\u001b[43m[\u001b[49m\u001b[38;5;124;43m\"\u001b[39;49m\u001b[38;5;124;43m0\u001b[39;49m\u001b[38;5;124;43m\"\u001b[39;49m\u001b[43m]\u001b[49m\u001b[43m,\u001b[49m\n\u001b[1;32m      5\u001b[0m \u001b[43m            \u001b[49m\u001b[43meffect_labels\u001b[49m\u001b[38;5;241;43m=\u001b[39;49m\u001b[43m[\u001b[49m\u001b[38;5;124;43m'\u001b[39;49m\u001b[38;5;124;43mE0\u001b[39;49m\u001b[38;5;124;43m'\u001b[39;49m\u001b[43m,\u001b[49m\u001b[38;5;124;43m'\u001b[39;49m\u001b[38;5;124;43mE1\u001b[39;49m\u001b[38;5;124;43m'\u001b[39;49m\u001b[43m,\u001b[49m\u001b[38;5;124;43m'\u001b[39;49m\u001b[38;5;124;43mE2\u001b[39;49m\u001b[38;5;124;43m'\u001b[39;49m\u001b[43m]\u001b[49m\u001b[43m,\u001b[49m\u001b[43m \u001b[49m\u001b[43meffect_expressions\u001b[49m\u001b[38;5;241;43m=\u001b[39;49m\u001b[43m[\u001b[49m\u001b[38;5;124;43m\"\u001b[39;49m\u001b[38;5;124;43m0\u001b[39;49m\u001b[38;5;124;43m\"\u001b[39;49m\u001b[43m,\u001b[49m\u001b[38;5;124;43m\"\u001b[39;49m\u001b[38;5;124;43m1\u001b[39;49m\u001b[38;5;124;43m\"\u001b[39;49m\u001b[43m,\u001b[49m\u001b[38;5;124;43m\"\u001b[39;49m\u001b[38;5;124;43m2\u001b[39;49m\u001b[38;5;124;43m\"\u001b[39;49m\u001b[43m]\u001b[49m\u001b[43m,\u001b[49m\u001b[43m \u001b[49m\u001b[43mbasis\u001b[49m\u001b[38;5;241;43m=\u001b[39;49m\u001b[38;5;124;43m\"\u001b[39;49m\u001b[38;5;124;43mpp\u001b[39;49m\u001b[38;5;124;43m\"\u001b[39;49m\u001b[43m)\u001b[49m\n",
      "File \u001b[0;32m~/Desktop/pyGSTi/pygsti/models/modelconstruction.py:654\u001b[0m, in \u001b[0;36mcreate_explicit_model_from_expressions\u001b[0;34m(state_space, op_labels, op_expressions, prep_labels, prep_expressions, effect_labels, effect_expressions, povm_labels, basis, gate_type, prep_type, povm_type, instrument_type, evotype)\u001b[0m\n\u001b[1;32m    651\u001b[0m         basis \u001b[38;5;241m=\u001b[39m \u001b[38;5;124m\"\u001b[39m\u001b[38;5;124mqt\u001b[39m\u001b[38;5;124m\"\u001b[39m\n\u001b[1;32m    652\u001b[0m     \u001b[38;5;28;01melse\u001b[39;00m: basis \u001b[38;5;241m=\u001b[39m \u001b[38;5;124m\"\u001b[39m\u001b[38;5;124mgm\u001b[39m\u001b[38;5;124m\"\u001b[39m\n\u001b[0;32m--> 654\u001b[0m \u001b[38;5;28;01mreturn\u001b[39;00m \u001b[43m_create_explicit_model_from_expressions\u001b[49m\u001b[43m(\u001b[49m\u001b[43mstate_space\u001b[49m\u001b[43m,\u001b[49m\n\u001b[1;32m    655\u001b[0m \u001b[43m                                               \u001b[49m\u001b[43m_Basis\u001b[49m\u001b[38;5;241;43m.\u001b[39;49m\u001b[43mcast\u001b[49m\u001b[43m(\u001b[49m\u001b[43mbasis\u001b[49m\u001b[43m,\u001b[49m\u001b[43m \u001b[49m\u001b[43mstate_space\u001b[49m\u001b[43m)\u001b[49m\u001b[43m,\u001b[49m\n\u001b[1;32m    656\u001b[0m \u001b[43m                                               \u001b[49m\u001b[43mop_labels\u001b[49m\u001b[43m,\u001b[49m\u001b[43m \u001b[49m\u001b[43mop_expressions\u001b[49m\u001b[43m,\u001b[49m\n\u001b[1;32m    657\u001b[0m \u001b[43m                                               \u001b[49m\u001b[43mprep_labels\u001b[49m\u001b[43m,\u001b[49m\u001b[43m \u001b[49m\u001b[43mprep_expressions\u001b[49m\u001b[43m,\u001b[49m\n\u001b[1;32m    658\u001b[0m \u001b[43m                                               \u001b[49m\u001b[43meffect_labels\u001b[49m\u001b[43m,\u001b[49m\u001b[43m \u001b[49m\u001b[43meffect_expressions\u001b[49m\u001b[43m,\u001b[49m\n\u001b[1;32m    659\u001b[0m \u001b[43m                                               \u001b[49m\u001b[43mpovm_labels\u001b[49m\u001b[43m,\u001b[49m\u001b[43m \u001b[49m\u001b[43mgate_type\u001b[49m\u001b[38;5;241;43m=\u001b[39;49m\u001b[43mgate_type\u001b[49m\u001b[43m,\u001b[49m\n\u001b[1;32m    660\u001b[0m \u001b[43m                                               \u001b[49m\u001b[43mprep_type\u001b[49m\u001b[38;5;241;43m=\u001b[39;49m\u001b[43mprep_type\u001b[49m\u001b[43m,\u001b[49m\u001b[43m \u001b[49m\u001b[43mpovm_type\u001b[49m\u001b[38;5;241;43m=\u001b[39;49m\u001b[43mpovm_type\u001b[49m\u001b[43m,\u001b[49m\n\u001b[1;32m    661\u001b[0m \u001b[43m                                               \u001b[49m\u001b[43minstrument_type\u001b[49m\u001b[38;5;241;43m=\u001b[39;49m\u001b[43minstrument_type\u001b[49m\u001b[43m,\u001b[49m\u001b[43m \u001b[49m\u001b[43mevotype\u001b[49m\u001b[38;5;241;43m=\u001b[39;49m\u001b[43mevotype\u001b[49m\u001b[43m)\u001b[49m\n",
      "File \u001b[0;32m~/Desktop/pyGSTi/pygsti/models/modelconstruction.py:509\u001b[0m, in \u001b[0;36m_create_explicit_model_from_expressions\u001b[0;34m(state_space, basis, op_labels, op_expressions, prep_labels, prep_expressions, effect_labels, effect_expressions, povm_labels, gate_type, prep_type, povm_type, instrument_type, evotype)\u001b[0m\n\u001b[1;32m    507\u001b[0m \u001b[38;5;28;01mfor\u001b[39;00m label, rhoExpr \u001b[38;5;129;01min\u001b[39;00m \u001b[38;5;28mzip\u001b[39m(prep_labels, prep_expressions):\n\u001b[1;32m    508\u001b[0m     vec \u001b[38;5;241m=\u001b[39m create_spam_vector(rhoExpr, state_space, basis)\n\u001b[0;32m--> 509\u001b[0m     ret\u001b[38;5;241m.\u001b[39mpreps[label] \u001b[38;5;241m=\u001b[39m _state\u001b[38;5;241m.\u001b[39mcreate_from_dmvec(vec, prep_type, basis, evotype, state_space)\n\u001b[1;32m    511\u001b[0m \u001b[38;5;28;01mif\u001b[39;00m \u001b[38;5;28misinstance\u001b[39m(povm_labels, \u001b[38;5;28mstr\u001b[39m):\n\u001b[1;32m    512\u001b[0m     povm_labels \u001b[38;5;241m=\u001b[39m [povm_labels]\n",
      "File \u001b[0;32m~/Desktop/pyGSTi/pygsti/models/memberdict.py:316\u001b[0m, in \u001b[0;36mOrderedMemberDict.__setitem__\u001b[0;34m(self, key, value)\u001b[0m\n\u001b[1;32m    313\u001b[0m     existing \u001b[38;5;241m=\u001b[39m \u001b[38;5;28msuper\u001b[39m(OrderedMemberDict, \u001b[38;5;28mself\u001b[39m)\u001b[38;5;241m.\u001b[39m\u001b[38;5;21m__getitem__\u001b[39m(key)\n\u001b[1;32m    314\u001b[0m \u001b[38;5;28;01melse\u001b[39;00m: existing \u001b[38;5;241m=\u001b[39m \u001b[38;5;28;01mNone\u001b[39;00m\n\u001b[0;32m--> 316\u001b[0m \u001b[38;5;28;43msuper\u001b[39;49m\u001b[43m(\u001b[49m\u001b[43mOrderedMemberDict\u001b[49m\u001b[43m,\u001b[49m\u001b[43m \u001b[49m\u001b[38;5;28;43mself\u001b[39;49m\u001b[43m)\u001b[49m\u001b[38;5;241;43m.\u001b[39;49m\u001b[38;5;21;43m__setitem__\u001b[39;49m\u001b[43m(\u001b[49m\u001b[43mkey\u001b[49m\u001b[43m,\u001b[49m\u001b[43m \u001b[49m\u001b[43mvalue\u001b[49m\u001b[43m)\u001b[49m\n\u001b[1;32m    317\u001b[0m new_item \u001b[38;5;241m=\u001b[39m value  \u001b[38;5;66;03m# keep track of newly set item for later\u001b[39;00m\n\u001b[1;32m    319\u001b[0m \u001b[38;5;66;03m# let the now-replaced existing object know it's been\u001b[39;00m\n\u001b[1;32m    320\u001b[0m \u001b[38;5;66;03m# removed from the parent, allowing it to reset (to None)\u001b[39;00m\n\u001b[1;32m    321\u001b[0m \u001b[38;5;66;03m# its parent link if there are no more references to it.\u001b[39;00m\n",
      "File \u001b[0;32m~/Desktop/pyGSTi/pygsti/models/memberdict.py:42\u001b[0m, in \u001b[0;36m_PrefixOrderedDict.__setitem__\u001b[0;34m(self, key, val)\u001b[0m\n\u001b[1;32m     40\u001b[0m \u001b[38;5;124;03m\"\"\" Assumes key is a Label object \"\"\"\u001b[39;00m\n\u001b[1;32m     41\u001b[0m \u001b[38;5;28;01mif\u001b[39;00m \u001b[38;5;129;01mnot\u001b[39;00m (\u001b[38;5;28mself\u001b[39m\u001b[38;5;241m.\u001b[39m_prefix \u001b[38;5;129;01mis\u001b[39;00m \u001b[38;5;28;01mNone\u001b[39;00m \u001b[38;5;129;01mor\u001b[39;00m key\u001b[38;5;241m.\u001b[39mhas_prefix(\u001b[38;5;28mself\u001b[39m\u001b[38;5;241m.\u001b[39m_prefix)):\n\u001b[0;32m---> 42\u001b[0m     \u001b[38;5;28;01mraise\u001b[39;00m \u001b[38;5;167;01mKeyError\u001b[39;00m(\u001b[38;5;124m\"\u001b[39m\u001b[38;5;124mAll keys must be strings, \u001b[39m\u001b[38;5;124m\"\u001b[39m\n\u001b[1;32m     43\u001b[0m                    \u001b[38;5;124m\"\u001b[39m\u001b[38;5;124mbeginning with the prefix \u001b[39m\u001b[38;5;124m'\u001b[39m\u001b[38;5;132;01m%s\u001b[39;00m\u001b[38;5;124m'\u001b[39m\u001b[38;5;124m\"\u001b[39m \u001b[38;5;241m%\u001b[39m \u001b[38;5;28mself\u001b[39m\u001b[38;5;241m.\u001b[39m_prefix)\n\u001b[1;32m     44\u001b[0m \u001b[38;5;28msuper\u001b[39m(_PrefixOrderedDict, \u001b[38;5;28mself\u001b[39m)\u001b[38;5;241m.\u001b[39m\u001b[38;5;21m__setitem__\u001b[39m(key, val)\n",
      "\u001b[0;31mKeyError\u001b[0m: \"All keys must be strings, beginning with the prefix 'rho'\""
     ]
    }
   ],
   "source": [
    "gs_target = create_explicit_model_from_expressions( \n",
    "            [4], [('Q0','Q1')],['Gix','Gix','Gxi','Gyi'], \n",
    "            [ \"X(pi/2,Q1)\", \"Y(pi/2,Q1)\", \"X(pi/2,Q0)\", \"Y(pi/2,Q0)\"]\n",
    "            , prep_expressions=[\"0\"],\n",
    "            effect_labels=['E0','E1','E2'], effect_expressions=[\"0\",\"1\",\"2\"], basis=\"pp\")"
   ]
  },
  {
   "cell_type": "markdown",
   "metadata": {},
   "source": [
    "## Create experiment design\n",
    "This is borrowed from the [tutorial notebook](https://github.com/pyGSTio/pyGSTi/blob/bfedc1de4d604f14b0f958615776fb80ddb59e33/jupyter_notebooks/Tutorials/algorithms/GST-Overview.ipynb) on GST with pyGSTi. The fiducials are a set of operators $\\{F_i\\}$ such that $F_i|\\rho \\rangle \\rangle$ and $\\langle \\langle E | F_i$ form an 'informationally complete' set. The germs are a set of strings generated from the target gates with the desired lengths, specified by `maxLengths`. This set is suppoed to be 'amplificationally complete', making it as sensitive to every kind of error as possible. The tutorials are not very clear on how to make these, and they are hard-coded into the model packs. I tried to re-impliment the `smq1Q-XYI` model pack and simply change every `Gypi2` to `Gzpi2` naively, but this did not affect the result. I would like to learn how to create custom gate sets, fiducials, and germs, but for now I am using the pre-build modelpacks."
   ]
  },
  {
   "cell_type": "code",
   "execution_count": 13,
   "metadata": {},
   "outputs": [
    {
     "name": "stdout",
     "output_type": "stream",
     "text": [
      "10997\n"
     ]
    }
   ],
   "source": [
    "target_model = smq2Q_XYCPHASE.target_model()      # a Model object\n",
    "prep_fiducials = smq2Q_XYCPHASE.prep_fiducials()  # preparation circuits\n",
    "meas_fiducials = smq2Q_XYCPHASE.meas_fiducials()  # measurement circuits\n",
    "germs = smq2Q_XYCPHASE.germs()                    # circuits repeated to amplify noise\n",
    "maxLengths = [1,2,4,8,16, 32]\n",
    "exp_design = pygsti.protocols.StandardGSTDesign(target_model, \n",
    "                                                prep_fiducials, \n",
    "                                                meas_fiducials,\n",
    "                                                germs, maxLengths) #stores data structure of experiment\n",
    "\n",
    "exp_design.all_circuits_needing_data\n",
    "circuits = list(exp_design.all_circuits_needing_data) #Get list of circuits\n",
    "print(len(circuits))"
   ]
  },
  {
   "cell_type": "markdown",
   "metadata": {},
   "source": [
    "Write empty protocol data, to be filled with experimental data"
   ]
  },
  {
   "cell_type": "code",
   "execution_count": 3,
   "metadata": {},
   "outputs": [],
   "source": [
    "pygsti.io.write_empty_protocol_data('experiment_data/rigetti_XYZI_data', exp_design, clobber_ok=True)"
   ]
  },
  {
   "cell_type": "markdown",
   "metadata": {},
   "source": [
    "This next cell loads the qpu. The `execution_timeout` and `compiler_timeout` were necessary to handle queueing in the parallel pool. "
   ]
  },
  {
   "cell_type": "code",
   "execution_count": null,
   "metadata": {},
   "outputs": [],
   "source": [
    "#Get QPU. Replace with simulator if no reservation\n",
    "qpu = get_qc(\"Aspen-11\", \n",
    "             client_configuration=configuration, \n",
    "             execution_timeout = 100000, \n",
    "             compiler_timeout = 100000) #I thought 27 hours seemed like a reasonable timeout"
   ]
  },
  {
   "cell_type": "markdown",
   "metadata": {},
   "source": [
    "The `circ_fname` function is a terrible last-minute fix designed like a bijective hash between circuits and filenames within the system filename character limit. These files hold the pickled binaries."
   ]
  },
  {
   "cell_type": "code",
   "execution_count": null,
   "metadata": {},
   "outputs": [],
   "source": [
    "def circ_fname(circ):\n",
    "    return \"circuit_binaries/%s .circ\"%str(circ).replace(\"-\",\"\").replace('\\n','').replace('|','').replace(' ','').replace('G','')[8:]\n",
    "\n",
    "shots = 1000 #number of shots for each circuit. This was the default value\n",
    "num_circs = len(circuits)\n",
    "\n",
    "start_time = time.time()\n",
    "\n",
    "for (i,circ) in enumerate(circuits):\n",
    "    #convert pyGSTi circuit to quil program. add active reset to speed up execution\n",
    "    prog = Program(circ.convert_to_quil()).wrap_in_numshots_loop(shots)\n",
    "    executable = qpu.compile(prog) #compile for target QPU\n",
    "    \n",
    "    with open(circ_fname(circ), \"wb\") as f:\n",
    "        pickle.dump(executable, f) #dump binary for later use\n",
    "    \n",
    "    #A watched pot will still boil eventually\n",
    "    print(\"finished \",i, \" Done in \",(time.time()-start_time)/(i+1)*(num_circs-i), end='\\r')\n",
    "    \n",
    "print(time.time() - start_time) #Around 1hr."
   ]
  },
  {
   "cell_type": "markdown",
   "metadata": {},
   "source": [
    "The compilation ended up being the bottleneck by far. The QPU runs jobs extremely quickly. It better at $40 per minute."
   ]
  },
  {
   "cell_type": "code",
   "execution_count": null,
   "metadata": {},
   "outputs": [],
   "source": [
    "results = []\n",
    "\n",
    "#Run the program in the file identified by 'circ' and return results\n",
    "def run(circ):\n",
    "    \n",
    "    with open(circ_fname(circ), \"rb\") as f: #hash circuit back to executable file\n",
    "        executable = pickle.load(f)\n",
    "        \n",
    "    result = qpu.run(executable).readout_data.get(\"ro\")\n",
    "    zeros = len([i for i in result if i== [0]]) #count the number of zeros\n",
    "    return zeros\n",
    "\n",
    "#I still found issues with the parallel pool for execution,\n",
    "#so I made this part iterative too\n",
    "for (i,circ) in enumerate(circuits):\n",
    "    print(\"Running\", i,end='\\r' ) #For sanity\n",
    "    results.append(run(circ)) #add number of zeros from run to result"
   ]
  },
  {
   "cell_type": "markdown",
   "metadata": {},
   "source": [
    "Store the results in a data set and write to disk"
   ]
  },
  {
   "cell_type": "code",
   "execution_count": null,
   "metadata": {},
   "outputs": [],
   "source": [
    "#Dataset object acts like a 2-d dictionary, with keys as circuit names,\n",
    "#followed by result outcome\n",
    "data = DataSet()\n",
    "\n",
    "for (circ, result) in zip(circuits, results):\n",
    "    data.add_count_dict(circ, {'0':result, '1':shots-result})\n",
    "    \n",
    "#write dataset for later usage\n",
    "write_dataset(\"experiment_data/rigetti_XYZI_data/data/dataset.txt\", data)"
   ]
  },
  {
   "cell_type": "markdown",
   "metadata": {},
   "source": [
    "On jupyterlabs the data folder needs to be compressed to download it"
   ]
  },
  {
   "cell_type": "code",
   "execution_count": null,
   "metadata": {},
   "outputs": [],
   "source": [
    "%%bash\n",
    "\n",
    "tar -cvf second_experiment_run_data.tar experiment_data circuit_binaries"
   ]
  }
 ],
 "metadata": {
  "kernelspec": {
   "display_name": "Python 3 (ipykernel)",
   "language": "python",
   "name": "python3"
  },
  "language_info": {
   "codemirror_mode": {
    "name": "ipython",
    "version": 3
   },
   "file_extension": ".py",
   "mimetype": "text/x-python",
   "name": "python",
   "nbconvert_exporter": "python",
   "pygments_lexer": "ipython3",
   "version": "3.10.5"
  },
  "vscode": {
   "interpreter": {
    "hash": "e7370f93d1d0cde622a1f8e1c04877d8463912d04d973331ad4851f04de6915a"
   }
  }
 },
 "nbformat": 4,
 "nbformat_minor": 4
}
