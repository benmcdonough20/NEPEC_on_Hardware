{
 "cells": [
  {
   "cell_type": "code",
   "execution_count": 6,
   "metadata": {},
   "outputs": [],
   "source": [
    "from qiskit import QuantumCircuit\n",
    "from qiskit.dagcircuit import DAGCircuit\n",
    "from qiskit.converters import circuit_to_dag, dag_to_circuit\n",
    "from qiskit.tools.visualization import dag_drawer\n",
    "import pickle\n",
    "\n",
    "import numpy as np\n",
    "\n",
    "from SparsePauliExperiment import LearningProcedure\n",
    "from typing import List, Tuple\n",
    "from qiskit.quantum_info import Pauli\n",
    "from random import choices\n",
    "from random import random"
   ]
  },
  {
   "cell_type": "code",
   "execution_count": 7,
   "metadata": {},
   "outputs": [],
   "source": [
    "Profile = List[Tuple[str, Tuple[int]]]\n",
    "\n",
    "class NoiseModel:\n",
    "    def __init__(self, model_terms, noise_coefficients):\n",
    "        self.noise_coefficients = noise_coefficients\n",
    "        self.noise_probabilities = None #calculate omegas\n",
    "        self.noise_model = zip(model_terms, self.noise_probabilities)\n",
    "        self.overhead = np.exp(2*sum(noise_coefficients))\n",
    "    \n",
    "    def scaled_noise(self, noise_parameter):\n",
    "        pass \n",
    "    \n",
    "    def sample(self):\n",
    "        operator = Pauli(\"I\"*self.n)\n",
    "        sgn = 0\n",
    "        noise_model = self.noise_model\n",
    "        for term, prob in self.noise_model:\n",
    "            if random() < prob:\n",
    "                operator = operator.compose(term)\n",
    "                sgn ^= 1\n",
    "        return operator, sgn\n",
    "\n",
    "class CircuitLayer:\n",
    "    def __init__(self, circuit, noise_parameter, noise_model = None):\n",
    "        self.circuit = circuit\n",
    "        self.n = len(circuit.qubits)\n",
    "        self.noise_model = noise_model\n",
    "        self.profile = self.get_profile()\n",
    "        self.single_qubit_layer, self.clifford_layer = self.separate_circuit()\n",
    "\n",
    "    def get_clifford_layer(self):\n",
    "        single = self.circuit.copy_empty_like()\n",
    "        double = self.circuit.copy_empty_like()\n",
    "        for op in self.circuit:\n",
    "            if len(op.qubits) == 2:\n",
    "                double.append(op)\n",
    "            elif len(op.qubits) == 1:\n",
    "                single.append(op)\n",
    "        return single, double\n",
    "\n",
    "    def get_profile(self):\n",
    "        return tuple((inst.operation.name,) + tuple(q.index for q in inst.qubits) for inst in self.circuit if len(inst.qubits) == 2)\n",
    "\n",
    "    def sample_PER(self):\n",
    "\n",
    "        def conjugate(pauli):\n",
    "            return pauli.evolve(self.clifford_layer)\n",
    "\n",
    "        circ = self.single.copy()\n",
    "\n",
    "        twirl = Pauli(\"\".join(choices(\"IXYZ\", k=self.n)))\n",
    "        mitigation, sgn = self.noise_model.sample()\n",
    "        mitigation = conjugate(mitigation)\n",
    "        for q,m,t in zip(circ.qubits, mitigation, twirl):\n",
    "            circ.append(m, [q])\n",
    "            circ.append(t, [q])\n",
    "\n",
    "        circ = circ.compose(self.double)\n",
    "        overall_sign ^= sgn\n",
    "        circ.barrier()\n",
    "        return circ, sgn, conjugate(twirl)\n",
    "\n",
    "class Circuit:\n",
    "    def __init__(self, qc):\n",
    "        self.qc = qc\n",
    "        layers = self.circuit_to_benchmark_layers()\n",
    "        self.layers = [CircuitLayer(circuit) for circuit in layers]\n",
    "        self.measurements = self.get_measurements\n",
    "\n",
    "    def get_measurements(self):\n",
    "        qc = self.qc\n",
    "        measurements = qc.copy_empty_like()\n",
    "        for inst in qc:\n",
    "            if inst.operation.name == \"measure\":\n",
    "                measurements.append(inst)\n",
    "        return measurements\n",
    "\n",
    "    def circuit_to_benchmark_layers(self):\n",
    "        layers = []\n",
    "        qc = self.qc\n",
    "        #convert qc to a list of instructions\n",
    "        inst_list = [inst for inst in qc if inst.operation.name != \"measure\"] \n",
    "        #iterate through instructions adding to layers according to the rules until all are added\n",
    "        while inst_list:\n",
    "            circ = qc.copy_empty_like()\n",
    "            layer_qubits = set()\n",
    "            for inst in inst_list.copy():\n",
    "                if not layer_qubits.intersection(inst.qubits):\n",
    "                    if len(inst.qubits) == 2:\n",
    "                        layer_qubits = layer_qubits.union(inst.qubits)\n",
    "                    circ.append(inst)\n",
    "                    inst_list.remove(inst)\n",
    "            layers.append(circ)\n",
    "\n",
    "        return layers\n",
    "    \n",
    "    def sample_PER(self, noise_strength):\n",
    "        pauli_frame = Pauli(\"I\"*self.n)\n",
    "        circ = self.qc.copy_empty_like()\n",
    "        overall_sign = 0\n",
    "        for l in self.layers:\n",
    "            qc, sgn, frame = l.sample_PER()\n",
    "            circ = circ.compose(qc)\n",
    "            pauli_frame = pauli_frame.compose(frame)\n",
    "            overall_sign ^= sgn\n",
    "        for q,t in zip(circ.qubits, pauli_frame):\n",
    "            circ.append(t,[q])\n",
    "        rostring = None #TODO: readout twirling\n",
    "        circ.metadata = {\"sign\": sgn, \"rostring\": rostring}"
   ]
  },
  {
   "cell_type": "code",
   "execution_count": 2,
   "metadata": {},
   "outputs": [
    {
     "data": {
      "text/plain": [
       "<qiskit.circuit.instructionset.InstructionSet at 0x7f5b3b3bd600>"
      ]
     },
     "execution_count": 2,
     "metadata": {},
     "output_type": "execute_result"
    }
   ],
   "source": [
    "qc = QuantumCircuit(4,4)\n",
    "qc.x(0)\n",
    "qc.cx(0,1)\n",
    "qc.cx(2,3)\n",
    "qc.x(0)\n",
    "qc.x(1)\n",
    "qc.cx(0,1)\n",
    "qc.cx(2,3)\n",
    "qc.cx(1,2)\n",
    "qc.measure(range(4), range(4))"
   ]
  },
  {
   "cell_type": "code",
   "execution_count": 3,
   "metadata": {},
   "outputs": [
    {
     "data": {
      "text/html": [
       "<pre style=\"word-wrap: normal;white-space: pre;background: #fff0;line-height: 1.1;font-family: &quot;Courier New&quot;,Courier,monospace\">     ┌───┐     ┌───┐          ┌─┐      \n",
       "q_0: ┤ X ├──■──┤ X ├──■───────┤M├──────\n",
       "     └───┘┌─┴─┐├───┤┌─┴─┐     └╥┘┌─┐   \n",
       "q_1: ─────┤ X ├┤ X ├┤ X ├──■───╫─┤M├───\n",
       "          └───┘└───┘└───┘┌─┴─┐ ║ └╥┘┌─┐\n",
       "q_2: ──■────■────────────┤ X ├─╫──╫─┤M├\n",
       "     ┌─┴─┐┌─┴─┐ ┌─┐      └───┘ ║  ║ └╥┘\n",
       "q_3: ┤ X ├┤ X ├─┤M├────────────╫──╫──╫─\n",
       "     └───┘└───┘ └╥┘            ║  ║  ║ \n",
       "c: 4/════════════╩═════════════╩══╩══╩═\n",
       "                 3             0  1  2 </pre>"
      ],
      "text/plain": [
       "     ┌───┐     ┌───┐          ┌─┐      \n",
       "q_0: ┤ X ├──■──┤ X ├──■───────┤M├──────\n",
       "     └───┘┌─┴─┐├───┤┌─┴─┐     └╥┘┌─┐   \n",
       "q_1: ─────┤ X ├┤ X ├┤ X ├──■───╫─┤M├───\n",
       "          └───┘└───┘└───┘┌─┴─┐ ║ └╥┘┌─┐\n",
       "q_2: ──■────■────────────┤ X ├─╫──╫─┤M├\n",
       "     ┌─┴─┐┌─┴─┐ ┌─┐      └───┘ ║  ║ └╥┘\n",
       "q_3: ┤ X ├┤ X ├─┤M├────────────╫──╫──╫─\n",
       "     └───┘└───┘ └╥┘            ║  ║  ║ \n",
       "c: 4/════════════╩═════════════╩══╩══╩═\n",
       "                 3             0  1  2 "
      ]
     },
     "execution_count": 3,
     "metadata": {},
     "output_type": "execute_result"
    }
   ],
   "source": [
    "qc.draw()"
   ]
  },
  {
   "cell_type": "code",
   "execution_count": 8,
   "metadata": {},
   "outputs": [
    {
     "data": {
      "text/html": [
       "<pre style=\"word-wrap: normal;white-space: pre;background: #fff0;line-height: 1.1;font-family: &quot;Courier New&quot;,Courier,monospace\">     ┌───┐      ░ ┌───┐      ░       ░ ┌─┐         \n",
       "q_0: ┤ X ├──■───░─┤ X ├──■───░───────░─┤M├─────────\n",
       "     └───┘┌─┴─┐ ░ ├───┤┌─┴─┐ ░       ░ └╥┘┌─┐      \n",
       "q_1: ─────┤ X ├─░─┤ X ├┤ X ├─░───■───░──╫─┤M├──────\n",
       "          └───┘ ░ └───┘└───┘ ░ ┌─┴─┐ ░  ║ └╥┘┌─┐   \n",
       "q_2: ──■────────░───■────────░─┤ X ├─░──╫──╫─┤M├───\n",
       "     ┌─┴─┐      ░ ┌─┴─┐      ░ └───┘ ░  ║  ║ └╥┘┌─┐\n",
       "q_3: ┤ X ├──────░─┤ X ├──────░───────░──╫──╫──╫─┤M├\n",
       "     └───┘      ░ └───┘      ░       ░  ║  ║  ║ └╥┘\n",
       "c: 4/═══════════════════════════════════╩══╩══╩══╩═\n",
       "                                        0  1  2  3 </pre>"
      ],
      "text/plain": [
       "     ┌───┐      ░ ┌───┐      ░       ░ ┌─┐         \n",
       "q_0: ┤ X ├──■───░─┤ X ├──■───░───────░─┤M├─────────\n",
       "     └───┘┌─┴─┐ ░ ├───┤┌─┴─┐ ░       ░ └╥┘┌─┐      \n",
       "q_1: ─────┤ X ├─░─┤ X ├┤ X ├─░───■───░──╫─┤M├──────\n",
       "          └───┘ ░ └───┘└───┘ ░ ┌─┴─┐ ░  ║ └╥┘┌─┐   \n",
       "q_2: ──■────────░───■────────░─┤ X ├─░──╫──╫─┤M├───\n",
       "     ┌─┴─┐      ░ ┌─┴─┐      ░ └───┘ ░  ║  ║ └╥┘┌─┐\n",
       "q_3: ┤ X ├──────░─┤ X ├──────░───────░──╫──╫──╫─┤M├\n",
       "     └───┘      ░ └───┘      ░       ░  ║  ║  ║ └╥┘\n",
       "c: 4/═══════════════════════════════════╩══╩══╩══╩═\n",
       "                                        0  1  2  3 "
      ]
     },
     "execution_count": 8,
     "metadata": {},
     "output_type": "execute_result"
    }
   ],
   "source": [
    "layers, measurements = circuit_to_benchmark_layers(qc)\n",
    "render_layers(layers, measurements).draw()"
   ]
  },
  {
   "cell_type": "code",
   "execution_count": 10,
   "metadata": {},
   "outputs": [],
   "source": [
    "def hashable_layer(self):\n",
    "    return tuple((inst.operation.name,) + tuple(q.index for q in inst.qubits) for inst in self.circuit if len(inst.qubits) == 2)"
   ]
  },
  {
   "cell_type": "code",
   "execution_count": 7,
   "metadata": {},
   "outputs": [],
   "source": [
    "def render_layers(layers, measurements):\n",
    "    qc = layers[0].copy_empty_like()\n",
    "    for l in layers:\n",
    "        qc = qc.compose(l)\n",
    "        qc.barrier()\n",
    "    qc = qc.compose(measurements)\n",
    "    return qc"
   ]
  },
  {
   "cell_type": "code",
   "execution_count": 8,
   "metadata": {},
   "outputs": [],
   "source": [
    "def circuit_to_benchmark_layers(self, qc):\n",
    "        layers = []\n",
    "        #convert qc to a list of instructions\n",
    "        inst_list = [inst for inst in qc if inst.operation.name != \"measure\"] \n",
    "        #iterate through instructions adding to layers according to the rules until all are added\n",
    "        while inst_list:\n",
    "            circ = qc.copy_empty_like()\n",
    "            layer_qubits = set()\n",
    "            for inst in inst_list.copy():\n",
    "                if not layer_qubits.intersection(inst.qubits):\n",
    "                    if len(inst.qubits) == 2:\n",
    "                        layer_qubits = layer_qubits.union(inst.qubits)\n",
    "                    circ.append(inst)\n",
    "                    inst_list.remove(inst)\n",
    "            layers.append(circ)\n",
    "\n",
    "        return layers"
   ]
  },
  {
   "cell_type": "code",
   "execution_count": 10,
   "metadata": {},
   "outputs": [],
   "source": [
    "def benchmark_profiles(layers):\n",
    "    return list(dict([(hashable_layer(layer),layer) for layer in layers]).values())"
   ]
  },
  {
   "cell_type": "code",
   "execution_count": 11,
   "metadata": {},
   "outputs": [
    {
     "name": "stderr",
     "output_type": "stream",
     "text": [
      "/tmp/ipykernel_26408/174004657.py:2: DeprecationWarning: Back-references to from Bit instances to their containing Registers have been deprecated. Instead, inspect Registers to find their contained Bits.\n",
      "  return tuple((inst.operation.name,) + tuple(q.index for q in inst.qubits) for inst in layer if len(inst.qubits) == 2)\n"
     ]
    },
    {
     "data": {
      "text/plain": [
       "[<qiskit.circuit.quantumcircuit.QuantumCircuit at 0x7f5b1af7f040>,\n",
       " <qiskit.circuit.quantumcircuit.QuantumCircuit at 0x7f5b1af7f880>]"
      ]
     },
     "execution_count": 11,
     "metadata": {},
     "output_type": "execute_result"
    }
   ],
   "source": [
    "benchmark_profiles(layers)"
   ]
  },
  {
   "cell_type": "code",
   "execution_count": 12,
   "metadata": {},
   "outputs": [],
   "source": [
    "def benchmark_experiment(circuit, save_dir, backend, inst_map = None, depths = [1,4,16], samples = 50, single_samples = 50):\n",
    "    with open(save_dir+\"/circuit.pickle\", \"wb\") as f:\n",
    "        pickle.dump(circuit, f)\n",
    "    layers,_ = circuit_to_benchmark_layers(circuit)\n",
    "    profiles = benchmark_profiles(layers)\n",
    "\n",
    "    if not inst_map:\n",
    "        inst_map = sorted([q.index for q in circuit.qubits])\n",
    "\n",
    "    for i,profile in enumerate(profiles):\n",
    "        procedure = LearningProcedure(profile, inst_map, backend)\n",
    "        data = {\"layer\":profile, \"inst_map\": inst_map, \"samples\":samples, \"single_samples\":single_samples, \"model_terms\": procedure.model_terms}\n",
    "        circs = procedure.procedure(depths, samples, single_samples)\n",
    "        \n",
    "        with open(save_dir+\"/Profile\"+str(i)+\".data\", 'wb') as f:\n",
    "            pickle.dump(data, f)\n",
    "\n",
    "        with open(save_dir+\"/Profile\"+str(i)+\".circs\", 'wb') as f:\n",
    "            pickle.dump(circs, f)"
   ]
  },
  {
   "cell_type": "code",
   "execution_count": 13,
   "metadata": {},
   "outputs": [],
   "source": [
    "from qiskit.providers.fake_provider import FakeVigoV2"
   ]
  },
  {
   "cell_type": "code",
   "execution_count": 14,
   "metadata": {},
   "outputs": [
    {
     "name": "stderr",
     "output_type": "stream",
     "text": [
      "/tmp/ipykernel_26408/174004657.py:2: DeprecationWarning: Back-references to from Bit instances to their containing Registers have been deprecated. Instead, inspect Registers to find their contained Bits.\n",
      "  return tuple((inst.operation.name,) + tuple(q.index for q in inst.qubits) for inst in layer if len(inst.qubits) == 2)\n",
      "/tmp/ipykernel_26408/3986756806.py:8: DeprecationWarning: Back-references to from Bit instances to their containing Registers have been deprecated. Instead, inspect Registers to find their contained Bits.\n",
      "  inst_map = sorted([q.index for q in circuit.qubits])\n"
     ]
    },
    {
     "name": "stdout",
     "output_type": "stream",
     "text": [
      "Pauli bases chosen:  ['XXXX', 'YXYY', 'ZXZZ', 'XYXX', 'YYYY', 'ZYZZ', 'XZXX', 'YZYY', 'ZZZZ']\n",
      "Model terms: ['IYIX', 'IXIX', 'IYYI', 'YXII', 'XYII', 'YIII', 'IXXI', 'ZIII', 'IYII', 'YZII', 'IIXI', 'IYXI', 'XZII', 'IZIX', 'IYZI', 'ZYII', 'XXII', 'IIIY', 'IZIZ', 'IZII', 'IIIX', 'YYII', 'IZZI', 'IXIZ', 'IZYI', 'IXYI', 'IXZI', 'IXIY', 'IXII', 'IIIZ', 'IYIZ', 'XIII', 'IZXI', 'IIZI', 'IIYI', 'ZZII', 'IZIY', 'ZXII', 'IYIY']\n",
      "bases for singles:  [Pauli('IIXX'), Pauli('IIZY'), Pauli('IIYZ'), Pauli('IIZZ'), Pauli('IIYY'), Pauli('IIIY')]\n",
      "Generated 330 circuits\n",
      "Pauli bases chosen:  ['XXXX', 'YXYY', 'ZXZZ', 'XYXX', 'YYYY', 'ZYZZ', 'XZXX', 'YZYY', 'ZZZZ']\n",
      "Model terms: ['IYIX', 'IXIX', 'IYYI', 'YXII', 'XYII', 'YIII', 'IXXI', 'ZIII', 'IYII', 'YZII', 'IIXI', 'IYXI', 'XZII', 'IZIX', 'IYZI', 'ZYII', 'XXII', 'IIIY', 'IZIZ', 'IZII', 'IIIX', 'YYII', 'IZZI', 'IXIZ', 'IZYI', 'IXYI', 'IXZI', 'IXIY', 'IXII', 'IIIZ', 'IYIZ', 'XIII', 'IZXI', 'IIZI', 'IIYI', 'ZZII', 'IZIY', 'ZXII', 'IYIY']\n",
      "bases for singles:  [Pauli('IZII'), Pauli('IIYI'), Pauli('IYII'), Pauli('IYYI'), Pauli('IZYI'), Pauli('IIXI')]\n",
      "Generated 330 circuits\n"
     ]
    }
   ],
   "source": [
    "benchmark_experiment(qc, \"Data\", FakeVigoV2(), samples = 10, single_samples = 10)"
   ]
  }
 ],
 "metadata": {
  "kernelspec": {
   "display_name": "Python 3.10.4 ('qiskit_env')",
   "language": "python",
   "name": "python3"
  },
  "language_info": {
   "codemirror_mode": {
    "name": "ipython",
    "version": 3
   },
   "file_extension": ".py",
   "mimetype": "text/x-python",
   "name": "python",
   "nbconvert_exporter": "python",
   "pygments_lexer": "ipython3",
   "version": "3.10.4"
  },
  "orig_nbformat": 4,
  "vscode": {
   "interpreter": {
    "hash": "d4803144e0ca2433cbbdbc82809c7bf0c6dd86d5d16291a48205e2d911513c87"
   }
  }
 },
 "nbformat": 4,
 "nbformat_minor": 2
}
