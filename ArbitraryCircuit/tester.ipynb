{
 "cells": [
  {
   "cell_type": "code",
   "execution_count": 1,
   "metadata": {},
   "outputs": [
    {
     "data": {
      "text/plain": [
       "<qiskit.circuit.instructionset.InstructionSet at 0x7fa202f6e0e0>"
      ]
     },
     "execution_count": 1,
     "metadata": {},
     "output_type": "execute_result"
    }
   ],
   "source": [
    "from qiskit import QuantumCircuit\n",
    "qc = QuantumCircuit(4,4)\n",
    "qc.x(0)\n",
    "qc.cx(0,1)\n",
    "qc.x(2)\n",
    "qc.cx(2,3)\n",
    "qc.x(0)\n",
    "qc.z(0)\n",
    "qc.cx(0,1)\n",
    "qc.x(1)\n",
    "qc.cx(1,2)\n",
    "qc.z(1)\n",
    "qc.cx(0,1)\n",
    "qc.z(3)\n",
    "qc.cx(2,3)"
   ]
  },
  {
   "cell_type": "code",
   "execution_count": 2,
   "metadata": {},
   "outputs": [],
   "source": [
    "from primitives.circuit import QiskitCircuit\n",
    "qic = QiskitCircuit(qc)"
   ]
  },
  {
   "cell_type": "code",
   "execution_count": 3,
   "metadata": {},
   "outputs": [],
   "source": [
    "from percircuit import PERCircuit"
   ]
  },
  {
   "cell_type": "code",
   "execution_count": 4,
   "metadata": {},
   "outputs": [],
   "source": [
    "perc = PERCircuit(qic)"
   ]
  },
  {
   "cell_type": "code",
   "execution_count": 5,
   "metadata": {},
   "outputs": [
    {
     "data": {
      "text/html": [
       "<pre style=\"word-wrap: normal;white-space: pre;background: #fff0;line-height: 1.1;font-family: &quot;Courier New&quot;,Courier,monospace\">     ┌───┐      ░ ┌───┐┌───┐      ░            ░            ░ \n",
       "q_0: ┤ X ├──■───░─┤ X ├┤ Z ├──■───░────────────░────────■───░─\n",
       "     └───┘┌─┴─┐ ░ └───┘└───┘┌─┴─┐ ░ ┌───┐      ░ ┌───┐┌─┴─┐ ░ \n",
       "q_1: ─────┤ X ├─░───────────┤ X ├─░─┤ X ├──■───░─┤ Z ├┤ X ├─░─\n",
       "     ┌───┐└───┘ ░           └───┘ ░ └───┘┌─┴─┐ ░ └───┘└───┘ ░ \n",
       "q_2: ┤ X ├──■───░────────■────────░──────┤ X ├─░────────────░─\n",
       "     └───┘┌─┴─┐ ░ ┌───┐┌─┴─┐      ░      └───┘ ░            ░ \n",
       "q_3: ─────┤ X ├─░─┤ Z ├┤ X ├──────░────────────░────────────░─\n",
       "          └───┘ ░ └───┘└───┘      ░            ░            ░ \n",
       "c: 4/═════════════════════════════════════════════════════════\n",
       "                                                              </pre>"
      ],
      "text/plain": [
       "     ┌───┐      ░ ┌───┐┌───┐      ░            ░            ░ \n",
       "q_0: ┤ X ├──■───░─┤ X ├┤ Z ├──■───░────────────░────────■───░─\n",
       "     └───┘┌─┴─┐ ░ └───┘└───┘┌─┴─┐ ░ ┌───┐      ░ ┌───┐┌─┴─┐ ░ \n",
       "q_1: ─────┤ X ├─░───────────┤ X ├─░─┤ X ├──■───░─┤ Z ├┤ X ├─░─\n",
       "     ┌───┐└───┘ ░           └───┘ ░ └───┘┌─┴─┐ ░ └───┘└───┘ ░ \n",
       "q_2: ┤ X ├──■───░────────■────────░──────┤ X ├─░────────────░─\n",
       "     └───┘┌─┴─┐ ░ ┌───┐┌─┴─┐      ░      └───┘ ░            ░ \n",
       "q_3: ─────┤ X ├─░─┤ Z ├┤ X ├──────░────────────░────────────░─\n",
       "          └───┘ ░ └───┘└───┘      ░            ░            ░ \n",
       "c: 4/═════════════════════════════════════════════════════════\n",
       "                                                              "
      ]
     },
     "execution_count": 5,
     "metadata": {},
     "output_type": "execute_result"
    }
   ],
   "source": [
    "circ = qc.copy_empty_like()\n",
    "for l in perc._layers:\n",
    "    circ = circ.compose(l.single_layer.qc)\n",
    "    circ = circ.compose(l.cliff_layer.qc)\n",
    "    circ.barrier()\n",
    "\n",
    "circ.draw()"
   ]
  },
  {
   "cell_type": "code",
   "execution_count": 6,
   "metadata": {},
   "outputs": [],
   "source": [
    "rep1,rep2,rep3 = perc.reps"
   ]
  },
  {
   "cell_type": "code",
   "execution_count": 7,
   "metadata": {},
   "outputs": [
    {
     "data": {
      "text/html": [
       "<pre style=\"word-wrap: normal;white-space: pre;background: #fff0;line-height: 1.1;font-family: &quot;Courier New&quot;,Courier,monospace\">          \n",
       "q_0: ─────\n",
       "          \n",
       "q_1: ──■──\n",
       "     ┌─┴─┐\n",
       "q_2: ┤ X ├\n",
       "     └───┘\n",
       "q_3: ─────\n",
       "          \n",
       "c: 4/═════\n",
       "          </pre>"
      ],
      "text/plain": [
       "          \n",
       "q_0: ─────\n",
       "          \n",
       "q_1: ──■──\n",
       "     ┌─┴─┐\n",
       "q_2: ┤ X ├\n",
       "     └───┘\n",
       "q_3: ─────\n",
       "          \n",
       "c: 4/═════\n",
       "          "
      ]
     },
     "execution_count": 7,
     "metadata": {},
     "output_type": "execute_result"
    }
   ],
   "source": [
    "rep1.cliff_layer.qc.draw()"
   ]
  },
  {
   "cell_type": "code",
   "execution_count": 8,
   "metadata": {},
   "outputs": [
    {
     "data": {
      "text/html": [
       "<pre style=\"word-wrap: normal;white-space: pre;background: #fff0;line-height: 1.1;font-family: &quot;Courier New&quot;,Courier,monospace\">          \n",
       "q_0: ──■──\n",
       "     ┌─┴─┐\n",
       "q_1: ┤ X ├\n",
       "     └───┘\n",
       "q_2: ─────\n",
       "          \n",
       "q_3: ─────\n",
       "          \n",
       "c: 4/═════\n",
       "          </pre>"
      ],
      "text/plain": [
       "          \n",
       "q_0: ──■──\n",
       "     ┌─┴─┐\n",
       "q_1: ┤ X ├\n",
       "     └───┘\n",
       "q_2: ─────\n",
       "          \n",
       "q_3: ─────\n",
       "          \n",
       "c: 4/═════\n",
       "          "
      ]
     },
     "execution_count": 8,
     "metadata": {},
     "output_type": "execute_result"
    }
   ],
   "source": [
    "rep2.cliff_layer.qc.draw()"
   ]
  },
  {
   "cell_type": "code",
   "execution_count": 9,
   "metadata": {},
   "outputs": [
    {
     "data": {
      "text/html": [
       "<pre style=\"word-wrap: normal;white-space: pre;background: #fff0;line-height: 1.1;font-family: &quot;Courier New&quot;,Courier,monospace\">          \n",
       "q_0: ──■──\n",
       "     ┌─┴─┐\n",
       "q_1: ┤ X ├\n",
       "     └───┘\n",
       "q_2: ──■──\n",
       "     ┌─┴─┐\n",
       "q_3: ┤ X ├\n",
       "     └───┘\n",
       "c: 4/═════\n",
       "          </pre>"
      ],
      "text/plain": [
       "          \n",
       "q_0: ──■──\n",
       "     ┌─┴─┐\n",
       "q_1: ┤ X ├\n",
       "     └───┘\n",
       "q_2: ──■──\n",
       "     ┌─┴─┐\n",
       "q_3: ┤ X ├\n",
       "     └───┘\n",
       "c: 4/═════\n",
       "          "
      ]
     },
     "execution_count": 9,
     "metadata": {},
     "output_type": "execute_result"
    }
   ],
   "source": [
    "rep3.cliff_layer.qc.draw()"
   ]
  },
  {
   "cell_type": "code",
   "execution_count": 10,
   "metadata": {},
   "outputs": [],
   "source": [
    "from qiskit.providers.fake_provider import FakeVigoV2\n",
    "backend = FakeVigoV2()"
   ]
  },
  {
   "cell_type": "code",
   "execution_count": 11,
   "metadata": {},
   "outputs": [],
   "source": [
    "from primitives.processor import QiskitProcessor\n",
    "pc = QiskitProcessor(backend)"
   ]
  },
  {
   "cell_type": "code",
   "execution_count": 12,
   "metadata": {},
   "outputs": [],
   "source": [
    "from processorspec import ProcessorSpec\n",
    "pspec = ProcessorSpec([0,1,2,3], pc)"
   ]
  },
  {
   "cell_type": "code",
   "execution_count": 13,
   "metadata": {},
   "outputs": [
    {
     "data": {
      "text/plain": [
       "['XXXX', 'YYXY', 'ZZXZ', 'XXYX', 'YYYY', 'ZZYZ', 'XXZX', 'YYZY', 'ZZZZ']"
      ]
     },
     "execution_count": 13,
     "metadata": {},
     "output_type": "execute_result"
    }
   ],
   "source": [
    "[p.to_label() for p in pspec.meas_bases]"
   ]
  },
  {
   "cell_type": "code",
   "execution_count": 14,
   "metadata": {},
   "outputs": [],
   "source": [
    "from benchmarkinstance import BenchmarkInstance\n",
    "bc = BenchmarkInstance(pspec.meas_bases[0], pspec.meas_bases[0], 4, pspec, perc._layers[0].cliff_layer)"
   ]
  },
  {
   "cell_type": "code",
   "execution_count": 15,
   "metadata": {},
   "outputs": [
    {
     "data": {
      "text/plain": [
       "[<primitives.term.QiskitPauli at 0x7fa1e064afe0>,\n",
       " <primitives.term.QiskitPauli at 0x7fa1e0649c30>,\n",
       " <primitives.term.QiskitPauli at 0x7fa1e0649c00>,\n",
       " <primitives.term.QiskitPauli at 0x7fa1e064b9a0>]"
      ]
     },
     "execution_count": 15,
     "metadata": {},
     "output_type": "execute_result"
    }
   ],
   "source": [
    "[p for p in pspec.meas_bases[0]]"
   ]
  },
  {
   "cell_type": "code",
   "execution_count": 16,
   "metadata": {},
   "outputs": [
    {
     "data": {
      "text/html": [
       "<pre style=\"word-wrap: normal;white-space: pre;background: #fff0;line-height: 1.1;font-family: &quot;Courier New&quot;,Courier,monospace\">     ┌───┐┌───┐      ░ ┌───┐      ░ ┌───┐      ░ ┌───┐      ░ ┌───┐┌───┐┌───┐»\n",
       "q_0: ┤ H ├┤ Y ├──■───░─┤ Y ├──■───░─┤ X ├──■───░─┤ I ├──■───░─┤ Y ├┤ H ├┤ I ├»\n",
       "     ├───┤├───┤┌─┴─┐ ░ ├───┤┌─┴─┐ ░ ├───┤┌─┴─┐ ░ ├───┤┌─┴─┐ ░ ├───┤├───┤├───┤»\n",
       "q_1: ┤ H ├┤ X ├┤ X ├─░─┤ Y ├┤ X ├─░─┤ I ├┤ X ├─░─┤ X ├┤ X ├─░─┤ Z ├┤ H ├┤ X ├»\n",
       "     ├───┤├───┤└───┘ ░ ├───┤└───┘ ░ ├───┤└───┘ ░ ├───┤└───┘ ░ ├───┤├───┤├───┤»\n",
       "q_2: ┤ H ├┤ X ├──■───░─┤ I ├──■───░─┤ I ├──■───░─┤ X ├──■───░─┤ I ├┤ H ├┤ X ├»\n",
       "     ├───┤├───┤┌─┴─┐ ░ ├───┤┌─┴─┐ ░ ├───┤┌─┴─┐ ░ ├───┤┌─┴─┐ ░ ├───┤├───┤├───┤»\n",
       "q_3: ┤ H ├┤ X ├┤ X ├─░─┤ I ├┤ X ├─░─┤ I ├┤ X ├─░─┤ I ├┤ X ├─░─┤ I ├┤ H ├┤ I ├»\n",
       "     └───┘└───┘└───┘ ░ └───┘└───┘ ░ └───┘└───┘ ░ └───┘└───┘ ░ └───┘└───┘└───┘»\n",
       "c: 4/════════════════════════════════════════════════════════════════════════»\n",
       "                                                                             »\n",
       "«     ┌─┐         \n",
       "«q_0: ┤M├─────────\n",
       "«     └╥┘┌─┐      \n",
       "«q_1: ─╫─┤M├──────\n",
       "«      ║ └╥┘┌─┐   \n",
       "«q_2: ─╫──╫─┤M├───\n",
       "«      ║  ║ └╥┘┌─┐\n",
       "«q_3: ─╫──╫──╫─┤M├\n",
       "«      ║  ║  ║ └╥┘\n",
       "«c: 4/═╩══╩══╩══╩═\n",
       "«      0  1  2  3 </pre>"
      ],
      "text/plain": [
       "     ┌───┐┌───┐      ░ ┌───┐      ░ ┌───┐      ░ ┌───┐      ░ ┌───┐┌───┐┌───┐»\n",
       "q_0: ┤ H ├┤ Y ├──■───░─┤ Y ├──■───░─┤ X ├──■───░─┤ I ├──■───░─┤ Y ├┤ H ├┤ I ├»\n",
       "     ├───┤├───┤┌─┴─┐ ░ ├───┤┌─┴─┐ ░ ├───┤┌─┴─┐ ░ ├───┤┌─┴─┐ ░ ├───┤├───┤├───┤»\n",
       "q_1: ┤ H ├┤ X ├┤ X ├─░─┤ Y ├┤ X ├─░─┤ I ├┤ X ├─░─┤ X ├┤ X ├─░─┤ Z ├┤ H ├┤ X ├»\n",
       "     ├───┤├───┤└───┘ ░ ├───┤└───┘ ░ ├───┤└───┘ ░ ├───┤└───┘ ░ ├───┤├───┤├───┤»\n",
       "q_2: ┤ H ├┤ X ├──■───░─┤ I ├──■───░─┤ I ├──■───░─┤ X ├──■───░─┤ I ├┤ H ├┤ X ├»\n",
       "     ├───┤├───┤┌─┴─┐ ░ ├───┤┌─┴─┐ ░ ├───┤┌─┴─┐ ░ ├───┤┌─┴─┐ ░ ├───┤├───┤├───┤»\n",
       "q_3: ┤ H ├┤ X ├┤ X ├─░─┤ I ├┤ X ├─░─┤ I ├┤ X ├─░─┤ I ├┤ X ├─░─┤ I ├┤ H ├┤ I ├»\n",
       "     └───┘└───┘└───┘ ░ └───┘└───┘ ░ └───┘└───┘ ░ └───┘└───┘ ░ └───┘└───┘└───┘»\n",
       "c: 4/════════════════════════════════════════════════════════════════════════»\n",
       "                                                                             »\n",
       "«     ┌─┐         \n",
       "«q_0: ┤M├─────────\n",
       "«     └╥┘┌─┐      \n",
       "«q_1: ─╫─┤M├──────\n",
       "«      ║ └╥┘┌─┐   \n",
       "«q_2: ─╫──╫─┤M├───\n",
       "«      ║  ║ └╥┘┌─┐\n",
       "«q_3: ─╫──╫──╫─┤M├\n",
       "«      ║  ║  ║ └╥┘\n",
       "«c: 4/═╩══╩══╩══╩═\n",
       "«      0  1  2  3 "
      ]
     },
     "execution_count": 16,
     "metadata": {},
     "output_type": "execute_result"
    }
   ],
   "source": [
    "bc.circuit.qc.draw()"
   ]
  }
 ],
 "metadata": {
  "kernelspec": {
   "display_name": "Python 3.10.5 64-bit",
   "language": "python",
   "name": "python3"
  },
  "language_info": {
   "codemirror_mode": {
    "name": "ipython",
    "version": 3
   },
   "file_extension": ".py",
   "mimetype": "text/x-python",
   "name": "python",
   "nbconvert_exporter": "python",
   "pygments_lexer": "ipython3",
   "version": "3.10.5"
  },
  "orig_nbformat": 4,
  "vscode": {
   "interpreter": {
    "hash": "e7370f93d1d0cde622a1f8e1c04877d8463912d04d973331ad4851f04de6915a"
   }
  }
 },
 "nbformat": 4,
 "nbformat_minor": 2
}
