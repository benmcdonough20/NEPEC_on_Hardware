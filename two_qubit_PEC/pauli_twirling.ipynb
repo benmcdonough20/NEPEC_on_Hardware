{
 "cells": [
  {
   "cell_type": "markdown",
   "metadata": {},
   "source": [
    "# Pauli twirling a noise channel\n",
    "This notebook implements a Pauli twirl of an arbitrary noise channel and a method to learn the fidelities through cycle benchmarking. Then, readout twirling is incorporated and the procedure is tested for several pauli operators on a noisy simulator. Lastly, the optimal estimation procedure detailed in [1] is used to estimate pauli fidelities\n",
    "\n",
    "Resources that I used:\n",
    "1. Probabilistic error cancellation with sparse Pauli-Lindblad models on noisy quantum processors\n",
    "2. Model-free readout-error mitigation for quantum expectation values\n",
    "3. Characterizing large-scale quantum computers via cycle benchmarking\n",
    "4. Experimental Pauli-frame randomization on a superconducting qubit\n",
    "5. Efficient Estimation of Pauli channels"
   ]
  },
  {
   "cell_type": "code",
   "execution_count": 2,
   "metadata": {},
   "outputs": [
    {
     "name": "stderr",
     "output_type": "stream",
     "text": [
      "/tmp/ipykernel_56036/2704099940.py:6: DeprecationWarning: The module 'qiskit.test.mock' is deprecated since Qiskit Terra 0.21.0, and will be removed 3 months or more later. Instead, you should import the desired object directly 'qiskit.providers.fake_provider'.\n",
      "  from qiskit.test.mock import FakeQuitoV2\n"
     ]
    }
   ],
   "source": [
    "from qiskit import QuantumCircuit, Aer, transpile, IBMQ\n",
    "from qiskit.quantum_info import Pauli, pauli_basis, PTM, SuperOp\n",
    "from qiskit.circuit import Delay\n",
    "from random import choice, random\n",
    "from qiskit.providers.aer.noise import depolarizing_error, NoiseModel, amplitude_damping_error\n",
    "from qiskit.test.mock import FakeQuitoV2\n",
    "import matplotlib.pyplot as plt\n",
    "from scipy.optimize import curve_fit\n",
    "import numpy as np\n",
    "from itertools import product, cycle\n",
    "from copy import deepcopy\n",
    "import pickle"
   ]
  },
  {
   "cell_type": "markdown",
   "metadata": {},
   "source": [
    "## Proof of pauli twirl\n",
    "Pauli twirling consists of uniformly sampling an operators from $\\mathcal P^n$ and inserting it before and after application of noise. The noiseless twirled circuit is logically equivalent to the origin circuit, but in the presence of noise it has the effect of diagonlizing the errors in the pauli basis.\n",
    "\n",
    "Here is a proof of the noise twirling:\n",
    "\n",
    "Consider the Kraus map of the noise\n",
    "$$\n",
    "\\Lambda(\\rho) = \\sum_k M_k \\rho M_k^\\dagger\n",
    "$$\n",
    "The noise twirl acts on a channel by conjugating the Kraus operators:\n",
    "$$\n",
    "\\Lambda^{\\mathcal{P}^n}(\\rho) = \\frac{1}{4^n}\\sum_{i,k} P_iM_kP_i(\\rho)P_iM_k^\\dagger P_i\n",
    "$$\n",
    "Each kraus operator can be decomposed in the pauli basis as \n",
    "$$\n",
    "M_k = \\sum_{j}c_{kj}P_j\n",
    "$$\n",
    "Then the channel becomes\n",
    "$$\n",
    "\\begin{align*}\n",
    "\\Lambda^{\\mathcal{P}^n}(\\rho) &= \\frac{1}{4^n}\\sum_{i,k} P_iM_kP_i(\\rho)P_iM_kP_i\\\\\n",
    "&=\\frac{1}{4^n}\\sum_{i,j,k,l} c_jc_l^\\ast P_iP_jP_i(\\rho)P_iP_lP_i\\\\\n",
    "\\end{align*}\n",
    "$$\n",
    "Define a function $\\zeta(P_a, P_b)$ to measure the commutativity of $P_a$ and $P_b$ as $P_aP_b = \\zeta(P_a,P_b)$. It can be seen that\n",
    "$$\n",
    "P_a(P_bP_c) = \\zeta(P_a,P_b)P_bP_a = \\zeta(P_a,P_b)\\zeta(P_a,P_c)(P_bP_c)P_a\n",
    "$$\n",
    "and so $\\zeta(P_a,P_b)\\zeta(P_a,P_c) = \\zeta(P_a,P_bP_c)$. With this problem, the channel can be simplified:\n",
    "$$\n",
    "\\begin{align*}\n",
    "\\frac{1}{4^n}\\sum_{i,j,k,l} c_{kj}c_{kl}^\\ast P_iP_jP_i(\\rho)P_iP_lP_i &= \\frac{1}{4^n}\\sum_{i,j,k,l} c_{kj}c_{kl}^\\ast\\zeta(P_i,P_j)\\zeta(P_i,P_l) P_jP_iP_i(\\rho)P_lP_iP_i \\\\\n",
    "&= \\frac{1}{4^n}\\sum_{i,j,k,l} c_{kj}c_{kl}^\\ast\\zeta(P_i,P_jP_l)P_j(\\rho)P_l \\\\\n",
    "&= \\frac{1}{4^n}\\sum_{i,j,k,l} c_{kj}c_{kl}^\\ast P_j(\\rho)P_l\\sum_i \\zeta(P_i, P_jP_l)\n",
    "\\end{align*}\n",
    "$$\n",
    "Let $P_m \\equiv P_jP_l$. For fixed $m$, $\\sum_{i \\in \\mathcal{P}^n} \\zeta(P_i, P_m) = \\delta_{m0}4^n$, which can be shown through induction on $n$. For the base case, the following table shows $\\zeta(i,m)$ plotted with $P_i$ in the rows and $P_m$ in the columns:\n",
    "\n",
    "| |I|X |Y |Z |\n",
    "|-|-|--|--|--|\n",
    "|I|1|1 |1 |1 |\n",
    "|X|1|1 |-1|-1|\n",
    "|Y|1|-1|1 |-1|\n",
    "|Z|1|-1|-1| 1|\n",
    "\n",
    "The sum of the first row is $4^1$, while the sum of subsequent rows is zero. This proves the base case. Now we may assume that\n",
    "$$\n",
    "\\sum_{i \\in \\mathcal{P}^n} \\zeta(P_i, P_m) = \\delta_{0m}4^n\n",
    "$$\n",
    "for the inductive assumption. Let $P_j, P_r \\in \\mathcal{P}^{n+1}$. $P_j$ may be written as $P_{i}\\otimes \\sigma_{a}$ for some $i,a$, where $P_{a} \\in \\mathcal P^{n}$ and $\\sigma_b \\in \\mathcal P^1$, and similarly $P_r = P_m \\otimes \\sigma_b$ for some fixed $m,c$. We observe that\n",
    "$$\n",
    "\\begin{align*}\n",
    "(P_i \\otimes \\sigma_a)(P_m \\otimes \\sigma_b) = P_iP_m \\otimes \\sigma_a\\sigma_b = \\zeta(P_i,P_m)\\zeta(\\sigma_a, \\sigma_b)(P_m \\otimes \\sigma_b)(P_i \\otimes \\sigma_a)\n",
    "\\end{align*}\n",
    "$$\n",
    "and so $\\zeta(P_j,P_r) = \\zeta(P_i \\otimes \\sigma_a, P_m \\otimes \\sigma_b) = \\zeta(P_i, \\sigma_a)\\zeta(P_m, \\sigma_b)$. With this we find that\n",
    "$$\n",
    "\\begin{align*}\n",
    "\\sum_{j \\in \\mathcal{P}^{n+1}} \\zeta(P_j, P_r) &= \\sum_{i \\in \\mathcal{P}^{n}, a \\in \\mathcal{P}} \\zeta(P_j, P_r)\\\\\n",
    " &= \\sum_{i \\in \\mathcal{P}^{n}, a \\in \\mathcal{P}} \\zeta(P_i, P_m)\\zeta(\\sigma_a, \\sigma_b)\\\\\n",
    " &= \\left(\\sum_{i \\in \\mathcal{P}^{n}} \\zeta(P_i, P_m)\\right)\\left(\\sum_{a\\in \\mathcal{P}}\\zeta(\\sigma_a, \\sigma_b)\\right)\\\\\n",
    " &= \\delta_{m0}\\delta_{b0}\\\\\n",
    " &= \\delta_{r0}\n",
    " \\end{align*}\n",
    "$$\n",
    "This completes the argument. Carrying on from before, this fact can be used to simplify the form of the channel further:\n",
    "$$\n",
    "\\begin{align*}\n",
    "\\frac{1}{4^n}\\sum_{i,j,k,l} c_{kj}c_{kl}^\\ast P_j(\\rho)P_l\\sum_i \\zeta(P_i, P_jP_l) &= \\sum_{i,j,k,l} c_{kj}c_{kl}^\\ast P_j(\\rho)P_l\\delta_{jl} \\\\\n",
    " &= \\sum_{j,k} |c_{kj}|^2 P_j(\\rho)P_j \\\\\n",
    " &= \\sum_{j} \\left(\\sum_{k}|c_{kj}|^2\\right) P_j(\\rho)P_j \\\\\n",
    " &= \\sum_{j} \\alpha_j P_j(\\rho)P_j \\\\\n",
    "\\end{align*}\n",
    "$$\n",
    "Where $\\alpha_j > 0$. This shows that the twirled noise channel has the form of a pauli channel. By sampling from the distribution and averaging instead of computing the sum over $4^n$ terms directly, the estimator converges to the twirled channel\n",
    "$$\n",
    "\\mathbb{E}_i[P_i\\Lambda(P_i \\rho P_i)P_i] = \\Lambda^{\\mathcal{P}^n} = \\sum_{j}\\alpha_jP_j\\rho P_j\n",
    "$$"
   ]
  },
  {
   "cell_type": "code",
   "execution_count": 3,
   "metadata": {},
   "outputs": [],
   "source": [
    "#This method returns a circuit replicating fig. S1 in the sparse model paper.\n",
    "#adjacent layers are composed together so that there are k repetitions of the noise\n",
    "def twirled_circuit(n : int, l : int) -> QuantumCircuit:\n",
    "    qc = QuantumCircuit(n)\n",
    "    ops = [Pauli('I')]*n\n",
    "    #iterate over the layers\n",
    "    for j in range(l-1):\n",
    "        #iterate over the qubits\n",
    "        for i in range(n):\n",
    "            #choose a random single-qubit Pauli\n",
    "            p = Pauli(choice(['I','X','Y','Z']))\n",
    "            #chain the layers together so that the last half of the previous\n",
    "            op = ops[i].compose(p)\n",
    "            ops[i] = p\n",
    "            qc.append(Pauli((op.z,op.x)), [i]) #this trick gets rid of the phase\n",
    "        qc.barrier()\n",
    "    #fill in the last layer so that the logical circuit is the identity\n",
    "    for i in range(n):\n",
    "        op = ops[i] \n",
    "        qc.append(Pauli((op.z,op.x)), [i])\n",
    "    return qc\n",
    "\n",
    "#This implements the readout twirling procedure to diagonalize the readout errors\n",
    "# in the readout basis.\n",
    "def twirled_readout(n):\n",
    "    qc = QuantumCircuit(n)\n",
    "    #this string is returned to get the adjusted result of running the circuit\n",
    "    binstr = \"\"\n",
    "    for i in range(n):\n",
    "        r = random()\n",
    "        #sample unifromly from {X,I}\n",
    "        if r < .5:\n",
    "            qc.x(i)\n",
    "            #record the bit flips\n",
    "            binstr += '1'\n",
    "        else:\n",
    "            qc.id(i)\n",
    "            binstr += '0'\n",
    "    return(qc, binstr)"
   ]
  },
  {
   "cell_type": "markdown",
   "metadata": {},
   "source": [
    "## Test error model\n",
    "For the test model, I started with a depolarizing channel as a control. I also used an amplitude damping channel for the fact that it is not already diagonal in the pauli basis."
   ]
  },
  {
   "cell_type": "code",
   "execution_count": 4,
   "metadata": {},
   "outputs": [],
   "source": [
    "p = .01\n",
    "depol = depolarizing_error(p, 1)\n",
    "damping = amplitude_damping_error(p, .4)\n",
    "error_model = damping\n",
    "noise_model = NoiseModel()\n",
    "noise_model.add_all_qubit_quantum_error(error_model, ['id','u1','u2','u3'])"
   ]
  },
  {
   "cell_type": "code",
   "execution_count": 5,
   "metadata": {},
   "outputs": [],
   "source": [
    "# Displays a nice progress bar\n",
    "def progressBar(iteration, total, prefix = '', suffix = '', decimals = 1, length = 100, fill = '█', printEnd = \"\\r\"):\n",
    "    percent = (\"{0:.\" + str(decimals) + \"f}\").format(100 * (iteration / float(total)))\n",
    "    filledLength = int(length * iteration // total)\n",
    "    bar = fill * filledLength + '-' * (length - filledLength)\n",
    "    print(f'\\r{prefix} |{bar}| {percent}% {suffix}', end = printEnd)\n",
    "    if iteration == total: \n",
    "        print()\n",
    "\n",
    "#compute the binary sum of two bitstrings\n",
    "def oplus(binstr1, binstr2):\n",
    "    result = \"\"\n",
    "    for i,b in enumerate(binstr2):\n",
    "        if binstr1[i] == '1':\n",
    "            result += {'0':'1','1':'0'}[b]\n",
    "        else:\n",
    "            result += b\n",
    "    return result\n",
    "\n",
    "def dot(binstr1, binstr2):\n",
    "    return np.sum([{('1','1'):1}.get(pair, 0) for pair in zip(binstr1, binstr2)])"
   ]
  },
  {
   "cell_type": "markdown",
   "metadata": {},
   "source": [
    "## Optimal number of shots\n",
    "My circuits were running really slowly, but I noticed that there is a trade-off between two sources of noise, the shot noise and the deviation from the pauli-twirl. Since there are only 16 pauis in the group, sampling 1000 times from the group is a bit overkill, but the shot noise is still reasonably high at 1000 shots. I found that the accuracy and the speed were greatly improved by sampling a smaller number of circuits and then running a greater number of shots on each one. The van den Berg paper mentions that the number of samples taken was 100 and the number of shots on each sample was 256 for benchmarking the CNOT layers."
   ]
  },
  {
   "cell_type": "code",
   "execution_count": 6,
   "metadata": {},
   "outputs": [
    {
     "name": "stdout",
     "output_type": "stream",
     "text": [
      " |███████████████████████████████████████████████████████████████████████████████████████████████████-| 99.9% \r"
     ]
    }
   ],
   "source": [
    "n = 2 #dimension of the system\n",
    "scale_factor = 2 #how many shots to run vs the size of the ditribution\n",
    "samples = int(2**(2*n)*scale_factor*2**n) #samples to take\n",
    "shots = 100 #shots of each circuit\n",
    "lengths = [2,4,8,16,32,64,128] #lengths of cycle benchmarking\n",
    "results = np.zeros([4, len(lengths)]) #store frequency of each outcome for each length\n",
    "backend = Aer.get_backend('qasm_simulator')\n",
    "for m,l in enumerate(lengths):\n",
    "    result = 0\n",
    "    for i in range(samples):\n",
    "        qc = QuantumCircuit(2)\n",
    "        #add the twirled layers\n",
    "\n",
    "        tw = twirled_circuit(2,l)\n",
    "        qc = qc.compose(tw)\n",
    "        #add the readout layer\n",
    "        ro, binstr = twirled_readout(n)\n",
    "        qc = qc.compose(ro)\n",
    "        qc.measure_all()\n",
    "\n",
    "        #transpile the circuits\n",
    "        circ = transpile(qc, backend, optimization_level=0, basis_gates = noise_model.basis_gates)\n",
    "        #get counts\n",
    "        counts = backend.run(circ, noise_model = noise_model, shots = shots).result().get_counts()\n",
    "        #compute the expectation value of ZZ, adjusted for the readout twirling\n",
    "        result += (counts.get(oplus('00', binstr),0) - counts.get(oplus('01',binstr), 0) - counts.get(oplus('10', binstr),0)+counts.get(oplus('11', binstr),0))\n",
    "        #count resultts\n",
    "        for k in range(4):\n",
    "            results[k][m] += counts.get(oplus(bin(k)[2:].zfill(2)[::-1], binstr), 0)/(shots*samples)\n",
    "        progressBar(m*samples+i, len(lengths)*samples)"
   ]
  },
  {
   "cell_type": "markdown",
   "metadata": {},
   "source": [
    "## Measuring the fidelity\n",
    "Last week, I was asking how to avoid having to prepare all eigenstates of the Pauli operator, which would be inefficient in $n$. The sparse model paper suggests that preparing $\\ket{0}\\bra{0}$ is sufficient. I found a proof for why these are equivalent, specifically\n",
    "$$\n",
    "\\frac{1}{2^n}\\operatorname{Tr}[P_a\\Lambda(P_a)] = \\operatorname{Tr}[P_a\\Lambda(\\ket{+}\\bra{+})]\n",
    "$$\n",
    "Where $\\ket{+}$ is any +1 eigenstate of $P_a$. Working in the $Z$ basis, consider $P_{z(a)} = Z[a]$, where $Z[a]$ is defined $Z[a] = \\bigotimes_i Z^{a_i}$. The operator $Z[a]$ can be diagonalized via\n",
    "$$\n",
    "Z[a] = \\sum_{b \\in \\{0,1\\}^{\\otimes n}}(-1)^{b\\cdot a}\\ket{b}\\bra{b}\n",
    "$$\n",
    "Using this, observing that $\\ket{b} = X[b]\\ket{0}$, and leveraging the fact that Pauli channels commute with each other,\n",
    "$$\n",
    "\\begin{align*}\n",
    "\\frac{1}{2^n}\\operatorname{Tr}[Z[a]\\Lambda(Z[a])] &= \\frac{1}{2^n}\\sum_{b \\in \\{0,1\\}^{\\otimes n}}(-1)^{b\\cdot a}\\operatorname{Tr}[Z[a]\\Lambda(\\ket{b}\\bra{b})]\\\\\n",
    "&=\\frac{1}{2^n}\\sum_{b \\in \\{0,1\\}^{\\otimes n}}(-1)^{b\\cdot a}\\operatorname{Tr}[Z[a]\\Lambda(X[b]\\ket{0}\\bra{0}X[b])]\\\\\n",
    "&=\\frac{1}{2^n}\\sum_{b \\in \\{0,1\\}^{\\otimes n}}(-1)^{b\\cdot a}\\operatorname{Tr}[Z[a](\\mathcal{X}[b] \\circ \\Lambda)(\\ket{0}\\bra{0})]\\\\\n",
    "\\end{align*}\n",
    "$$\n",
    "Using the form of $\\Lambda$ as a pauli channel, we have\n",
    "$$\n",
    "\\begin{align*}\n",
    "\\Lambda(\\ket{0}\\bra{0}) &= \\sum_{i}c_iP_i\\ket{0}\\bra{0}P_i\\\\\n",
    "&= \\sum_{j,k \\in \\{0,1\\}^{\\otimes n}}c_{jk}X[j]Z[k]\\ket{0}\\bra{0}X[j]Z[k]\\\\\n",
    "&= \\sum_{j\\in \\{0,1\\}^{\\otimes n}} \\alpha_{j}X[j]\\ket{0}\\bra{0}X[j]\\\\\n",
    "&= \\sum_{j\\in \\{0,1\\}^{\\otimes n}} \\alpha_{j}\\ket{j}\\bra{j}\\\\\n",
    "\\end{align*}\n",
    "$$\n",
    "Putting this back into the expectation value,\n",
    "$$\n",
    "\\begin{align*}\n",
    "\\frac{1}{2^n}\\sum_{b \\in \\{0,1\\}^{\\otimes n}}(-1)^{b\\cdot a}\\operatorname{Tr}[Z[a](\\mathcal{X}[b] \\circ \\Lambda)(\\ket{0}\\bra{0})] &= \\frac{1}{2^n}\\sum_{j,b \\in \\{0,1\\}^{\\otimes n}}\\alpha_j(-1)^{b\\cdot a}\\operatorname{Tr}[Z[a]\\mathcal{X}[b](\\ket{j}\\bra{j})]\\\\\n",
    "&= \\frac{1}{2^n}\\sum_{j,b \\in \\{0,1\\}^{\\otimes n}}\\alpha_j(-1)^{b\\cdot a}\\operatorname{Tr}[Z[a]\\ket{j \\oplus b}\\bra{j \\oplus b}]\\\\\n",
    "\\end{align*}\n",
    "$$\n",
    "The expectation value is given by the overlap in the computational basis, $\\operatorname{Tr}[Z[a]\\ket{b}\\bra{b}] = (-1)^{a\\cdot b}$, and so\n",
    "$$\n",
    "\\begin{align*}\n",
    "\\frac{1}{2^n}\\sum_{j,b \\in \\{0,1\\}^{\\otimes n}}\\alpha_j(-1)^{b\\cdot a}\\operatorname{Tr}[Z[a]\\ket{j \\oplus b}\\bra{j \\oplus b}] &=  \\frac{1}{2^n}\\sum_{j,b \\in \\{0,1\\}^{\\otimes n}}\\alpha_j(-1)^{b\\cdot a}(-1)^{a\\cdot(j\\oplus b)} \\\\\n",
    " &= \\sum_{j \\in \\{0,1\\}^{\\otimes n}}\\alpha_j(-1)^{a\\cdot j} \\\\\n",
    " &= \\operatorname{Tr}[Z[a]\\Lambda(\\ket{0}\\bra{0})] \n",
    "\\end{align*}\n",
    "$$\n",
    "\n",
    "This shows that\n",
    "$$\n",
    "\\frac{1}{2^n}\\operatorname{Tr}[Z[a]\\Lambda(Z[a])] = \\operatorname{Tr}[Z[a]\\Lambda(\\bra{0}\\ket{0})]\n",
    "$$\n",
    "Since measuring the fidelity of any pauli operator is identical up to a change in the preparation and measurement basis, this argument holds not just for $Z[a]$, but for every $P_a$"
   ]
  },
  {
   "cell_type": "code",
   "execution_count": 7,
   "metadata": {},
   "outputs": [
    {
     "data": {
      "text/plain": [
       "[<matplotlib.lines.Line2D at 0x7f2c850f6470>]"
      ]
     },
     "execution_count": 7,
     "metadata": {},
     "output_type": "execute_result"
    },
    {
     "data": {
      "image/png": "[encoded data removed]",
      "text/plain": [
       "<Figure size 432x288 with 1 Axes>"
      ]
     },
     "metadata": {
      "needs_background": "light"
     },
     "output_type": "display_data"
    }
   ],
   "source": [
    "#under amplitude damping noise, all of the counts converge to a non-zero equilibrium, \n",
    "#but the expectation value does converge to zero\n",
    "\n",
    "#measurement results in the computational basis\n",
    "plt.plot(lengths, results[0],'g')\n",
    "plt.plot(lengths, results[1],'b')\n",
    "plt.plot(lengths, results[2],'y')\n",
    "plt.plot(lengths, results[3], 'b')\n",
    "\n",
    "#get the expectation value of ZZ\n",
    "tot = [r0-r2-r1+r3 for (r0,r1,r2,r3) in zip(results[0], results[1], results[2], results[3])]\n",
    "\n",
    "#fit to an exponential decay, where a represents SPAM errors\n",
    "popt,pcov = curve_fit(lambda x,a,b: a*np.exp(-b*x), lengths, tot, p0=[.9, .01])\n",
    "\n",
    "\n",
    "plt.plot(lengths, tot, 'ro')\n",
    "xrange = np.linspace(0,np.max(lengths), 100)\n",
    "plt.plot(xrange, [popt[0]*np.exp(-popt[1]*x) for x in xrange], 'm--')"
   ]
  },
  {
   "cell_type": "code",
   "execution_count": 8,
   "metadata": {},
   "outputs": [],
   "source": [
    "#generate pauli measurement circuitry with corresponding metadata\n",
    "def pauli_meas(pauli, lengths, samples, backend):\n",
    "    info = []\n",
    "    circs = []\n",
    "\n",
    "    #iterate over lengths\n",
    "    for m,l in enumerate(lengths):\n",
    "        for i in range(samples):\n",
    "            qc = QuantumCircuit(2)\n",
    "\n",
    "            #switch to pauli basis\n",
    "            for k,p in enumerate(pauli):\n",
    "               match p:\n",
    "                case 'X':\n",
    "                    qc.h(k)\n",
    "                case 'Y':\n",
    "                    qc.h(k)\n",
    "                    qc.s(k)\n",
    "                case 'Z':\n",
    "                    qc.id(k)\n",
    "                    \n",
    "            #add the twirled layers\n",
    "            tw = twirled_circuit(2,l)\n",
    "            qc = qc.compose(tw)\n",
    "\n",
    "            #switch to measurement basis\n",
    "            for k,p in enumerate(pauli):\n",
    "               match p:\n",
    "                case 'X':\n",
    "                    qc.h(k)\n",
    "                case 'Y':\n",
    "                    qc.sdg(k)\n",
    "                    qc.h(k)\n",
    "                case 'Z':\n",
    "                    qc.id(k)\n",
    "\n",
    "\n",
    "            #add the readout layer\n",
    "            ro, binstr = twirled_readout(n)\n",
    "            qc = qc.compose(ro)\n",
    "            qc.measure_all()\n",
    "\n",
    "            #transpile the circuits\n",
    "            info.append({'pauli': pauli, 'data':binstr, 'length':l})\n",
    "            circs.append(qc)\n",
    "            progressBar(m*samples+i, len(lengths)*samples)\n",
    "\n",
    "    return (circs,info)\n",
    "\n",
    "#turn the results and circuit metadata into expectation values and get exponential fit\n",
    "def process_data(circuits_data, pauli_weight, samples, shots):\n",
    "    #sort the data back into the lengths\n",
    "    lengths = []\n",
    "    expectations = []\n",
    "\n",
    "    #iterate over the circuit data\n",
    "    for circ in circuits_data:\n",
    "        counts = circ['counts'] #circuit instance counts\n",
    "        rostring = circ['data'] #readout twirl string\n",
    "        #get the expectation value of Z[a] by summing P(b)(-1)**(a.b) over b\n",
    "        expec = np.sum([counts[key]*(-1)**dot(oplus(key[::-1],rostring), pauli_weight) for key in counts.keys()]) \n",
    "        if not circ['length'] in lengths: #create a bin for lengths\n",
    "            lengths.append(circ['length'])\n",
    "            expectations.append(0)\n",
    "\n",
    "        #collect the expectation values\n",
    "        expectations[lengths.index(circ['length'])] += expec/(samples*shots)\n",
    "\n",
    "    #get the exponential fit to the data\n",
    "    popt, pcov = curve_fit(lambda x,a,b: a*np.exp(-b*x), lengths, expectations, p0=[.95, .01])\n",
    "    return (popt[0], popt[1], lengths, expectations)"
   ]
  },
  {
   "cell_type": "code",
   "execution_count": 9,
   "metadata": {},
   "outputs": [
    {
     "name": "stdout",
     "output_type": "stream",
     "text": [
      " |███████████████████████████████████████████████████████████████████████████████████████████████████-| 99.9% \r"
     ]
    }
   ],
   "source": [
    "n=2 #number of qubitss\n",
    "samples = 128 #number of random circuit instances per circuit depth\n",
    "shots = 256 #shots to run per circuit\n",
    "levels = [2,4,8,16, 32, 64, 128] #circuit depth levels\n",
    "backend = Aer.get_backend('qasm_simulator')\n",
    "circs = []\n",
    "data = []\n",
    "\n",
    "for p in product('XYZ', repeat = n):\n",
    "    circ, info = pauli_meas(\"\".join(p), levels, samples, backend) #generate the transpiled circuits\n",
    "    circs += circ #collect circuits in a batch\n",
    "    data += info #store corresponding circuit metadata"
   ]
  },
  {
   "cell_type": "code",
   "execution_count": 10,
   "metadata": {},
   "outputs": [],
   "source": [
    "trans = transpile(circs, backend, optimization_level = 0, basis_gates = noise_model.basis_gates)"
   ]
  },
  {
   "cell_type": "code",
   "execution_count": 11,
   "metadata": {},
   "outputs": [],
   "source": [
    "result = backend.run(trans, shots = shots, noise_model = noise_model) #run the circuits\n",
    "\n",
    "for i,count in enumerate(result.result().get_counts()):\n",
    "    data[i]['counts'] = count #put the results in with the circuit metadata"
   ]
  },
  {
   "cell_type": "code",
   "execution_count": 12,
   "metadata": {},
   "outputs": [],
   "source": [
    "#create a dictionary where the keys are Paulis\n",
    "results = {\"\".join(p):[] for p in product(\"IXYZ\", repeat = n)}\n",
    "for datum in data:\n",
    "    results[datum['pauli']].append(datum) #restructure the data into dictionary"
   ]
  },
  {
   "cell_type": "code",
   "execution_count": 13,
   "metadata": {},
   "outputs": [],
   "source": [
    "coeffs = {}\n",
    "#find fidelities for weight 1 paulis\n",
    "for p in ['X','Y','Z']:\n",
    "        #at least three simultaneous measurements can be found from one max-weight pauli measurement\n",
    "        coeffs[p+'I'] = process_data(results[p+'X'], '10', samples, shots)\n",
    "        coeffs['I'+ p] = process_data(results['X'+p], '01', samples, shots)\n",
    "\n",
    "#find fidelities for weight two operators\n",
    "for p in product(['X','Y','Z'], repeat = n):\n",
    "        coeffs[\"\".join(p)] = process_data(results[\"\".join(p)], '11', samples, shots)"
   ]
  },
  {
   "cell_type": "code",
   "execution_count": 14,
   "metadata": {},
   "outputs": [
    {
     "data": {
      "text/plain": [
       "Text(0, 0.5, 'Fidelity')"
      ]
     },
     "execution_count": 14,
     "metadata": {},
     "output_type": "execute_result"
    },
    {
     "data": {
      "image/png": "[encoded data removed]",
      "text/plain": [
       "<Figure size 432x288 with 1 Axes>"
      ]
     },
     "metadata": {
      "needs_background": "light"
     },
     "output_type": "display_data"
    }
   ],
   "source": [
    "xrange = np.linspace(0, max(levels))\n",
    "expfit = lambda x,a,b : a*np.exp(-b*x)\n",
    "cycol = cycle('bgrcmk')\n",
    "\n",
    "#plot exponential decays\n",
    "for key in coeffs.keys():\n",
    "    p_data = coeffs[key]\n",
    "    c = next(cycol)\n",
    "    plt.plot(levels, p_data[3],c+'X')\n",
    "    plt.plot(xrange, [expfit(x, p_data[0], p_data[1]) for x in xrange], c)\n",
    "\n",
    "plt.title(\"Pauli fidelity vs circuit depth\")\n",
    "plt.xlabel(\"Circuit depth\")\n",
    "plt.ylabel(\"Fidelity\")"
   ]
  },
  {
   "cell_type": "markdown",
   "metadata": {},
   "source": [
    "## Find real values and graph\n",
    "It turns out that the values are not the same as the diagonal values on the raw transfer matrix, but the twirling is necessary to find them. Here is what I used to find the ideal values. `error_model.to_quantumchannel()` gives a superoperator $S$ representing the error appended to every gate. In terms of Kraus operators $M_k$, $S$ is represented\n",
    "$$\n",
    "S \\operatorname{vec}(\\rho) = \\operatorname{vec}\\left(\\sum_k M_k \\rho M_k^\\dagger\\right) = \\left(\\sum_k M_k^\\ast \\otimes M_k\\right) \\operatorname{vec}(\\rho)\n",
    "$$\n",
    "The twirl acts on the channel by conjugating the operators:\n",
    "$$\n",
    "\\begin{align*}\n",
    "\\operatorname{vec}\\left(S^{\\mathbb P^n}(\\rho)\\right) &= \\operatorname{vec}\\left(\\sum_{j,k}P_jM_kP_j\\rho P_jM_k^\\dagger P_j\\right)\\\\\n",
    "&= \\sum_{j,k}(P_jM_k^\\dagger P_j)^\\top\\otimes(P_jM_kP_j)\\operatorname{vec}(\\rho)\\\\\n",
    "&= \\sum_{j,k}(P_j^\\ast \\otimes P_j)(M_k^\\ast \\otimes M_k)(P_j^\\ast P_j)\\operatorname{vec}(\\rho)\\\\\n",
    "&= \\sum_{k}(P_j^\\ast \\otimes P_j)S(P_j^\\ast P_j)\\operatorname{vec}(\\rho)\\\\\n",
    "\\end{align*}\n",
    "$$\n",
    "So the superoperator representation of the twirled channel is evidently\n",
    "$$\n",
    "S^{\\mathbb{P}^n} = \\sum_{P \\in \\mathbb{P}^n}(P^\\ast \\otimes P)S(P^\\ast \\otimes P)\\\\\n",
    "$$\n",
    "Then this matrix can be converted to the pauli transfer matrix via\n",
    "$$\n",
    "(R_{S})_{a,b} = \\frac{1}{2^n}\\operatorname{Tr}[P_aS^{\\mathbb{P}^n}(P_b)]\n",
    "$$\n",
    "using the `qiskit.quantum_info.PTM` routine. The pauli fidelities are the elements on the diagonal of this matrix in lexicographic order.\n"
   ]
  },
  {
   "cell_type": "code",
   "execution_count": 15,
   "metadata": {},
   "outputs": [
    {
     "data": {
      "text/plain": [
       "<matplotlib.legend.Legend at 0x7f2bea804190>"
      ]
     },
     "execution_count": 15,
     "metadata": {},
     "output_type": "execute_result"
    },
    {
     "data": {
      "image/png": "[encoded data removed]",
      "text/plain": [
       "<Figure size 432x288 with 1 Axes>"
      ]
     },
     "metadata": {
      "needs_background": "light"
     },
     "output_type": "display_data"
    }
   ],
   "source": [
    "channel = error_model.tensor(error_model).to_quantumchannel().data\n",
    "twirled_channel = np.zeros([4**n,4**n])\n",
    "real_values = {}\n",
    "\n",
    "for m in pauli_basis(n, pauli_list=True):\n",
    "    p = np.kron(np.conjugate(m.to_matrix()),m.to_matrix())\n",
    "    twirled_channel = np.add(twirled_channel, 1/4**n * p @ channel @ p)\n",
    "transfer_matrix = PTM(SuperOp(twirled_channel)).data\n",
    "\n",
    "real_values = {p:transfer_matrix[i][i].real for i,p in enumerate(pauli_basis(n, pauli_list=True).to_labels())}\n",
    "\n",
    "measured_values = {key: expfit(1,1, coeffs[key][1]) for key in coeffs.keys()}\n",
    "x_axis = np.arange(len(measured_values.keys()))\n",
    "b = plt.bar(x_axis-.2,[100*(1-val) for val in measured_values.values()],.4,color='b')\n",
    "e = plt.bar(x_axis+.2, [100*(1-real_values[key]) for key in measured_values.keys()],.4, color = 'r')\n",
    "plt.xticks(x_axis, measured_values.keys());\n",
    "\n",
    "plt.title(\"Measured vs. calculated Pauli eigenvalues\")\n",
    "plt.xlabel(\"Pauli term\")\n",
    "plt.ylabel(\"100x(1- f)\")\n",
    "plt.legend([\"Measured\", \"Ideal\"])"
   ]
  }
 ],
 "metadata": {
  "kernelspec": {
   "display_name": "Python 3.10.4 ('qiskit_env')",
   "language": "python",
   "name": "python3"
  },
  "language_info": {
   "codemirror_mode": {
    "name": "ipython",
    "version": 3
   },
   "file_extension": ".py",
   "mimetype": "text/x-python",
   "name": "python",
   "nbconvert_exporter": "python",
   "pygments_lexer": "ipython3",
   "version": "3.10.4"
  },
  "orig_nbformat": 4,
  "vscode": {
   "interpreter": {
    "hash": "d4803144e0ca2433cbbdbc82809c7bf0c6dd86d5d16291a48205e2d911513c87"
   }
  }
 },
 "nbformat": 4,
 "nbformat_minor": 2
}
