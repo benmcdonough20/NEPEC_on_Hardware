{
 "cells": [
  {
   "cell_type": "markdown",
   "metadata": {},
   "source": [
    "# GST on Rigetti Backends with PyGSTi\n",
    "The purpose of this notebook is to use the data collected from a GST experiment that has been read into the `rigetti_first_run` directory and perform GST on it. \n",
    "\n",
    "This code was mostly taken from the tutorial notebook [UnitaryFundDemoNotebook1.ipynb\n",
    "](https://zenodo.org/record/5715199#.Yr_TOUjMLJF). This notebook also exhibits pyGSTi's full html report functionality, but there is a conflict with the latest version of jinja2 which breaks this."
   ]
  },
  {
   "cell_type": "code",
   "execution_count": 11,
   "metadata": {},
   "outputs": [],
   "source": [
    "#PyGSTi tools\n",
    "import pygsti\n",
    "from pygsti.data.dataset import DataSet\n",
    "\n",
    "#Mitiq and pyGSTi seem to require competing versions of numpy,\n",
    "#so output is pickled and passed to a different notebook\n",
    "import pickle\n",
    "\n",
    "#Rigetti tools\n",
    "from forest.benchmarking.operator_tools.superoperator_transformations import pauli_liouville2superop\n",
    "from pyquil import Program"
   ]
  },
  {
   "cell_type": "markdown",
   "metadata": {},
   "source": [
    "## Read data from experiment\n",
    "This data was written by the `get_gst_data.ipynb` file."
   ]
  },
  {
   "cell_type": "code",
   "execution_count": 12,
   "metadata": {},
   "outputs": [],
   "source": [
    "data = pygsti.io.read_data_from_dir('experiment_data/rigetti_first_run')"
   ]
  },
  {
   "cell_type": "markdown",
   "metadata": {},
   "source": [
    "## Run GST on the data"
   ]
  },
  {
   "cell_type": "code",
   "execution_count": 13,
   "metadata": {},
   "outputs": [
    {
     "name": "stdout",
     "output_type": "stream",
     "text": [
      "-- Std Practice:  Iter 1 of 3  (TP) --: \n",
      "  --- Iterative GST: [##################################################] 100.0%  550 circuits ---\n",
      "  Iterative GST Total Time: 1.4s\n",
      "-- Std Practice:  Iter 2 of 3  (CPTP) --: \n",
      "  --- Iterative GST: [########------------------------------------------] 16.67%  96 circuits ---\r"
     ]
    },
    {
     "name": "stderr",
     "output_type": "stream",
     "text": [
      "\n",
      "WARNING: Treating result as *converged* after maximum iterations (100) were exceeded.\n"
     ]
    },
    {
     "name": "stdout",
     "output_type": "stream",
     "text": [
      "  --- Iterative GST: [##################################################] 100.0%  550 circuits ---\n",
      "  Iterative GST Total Time: 19.5s\n",
      "-- Std Practice:  Iter 3 of 3  (Target) --: \n"
     ]
    }
   ],
   "source": [
    "gst_protocol = pygsti.protocols.StandardGST('TP,CPTP,Target')\n",
    "results = gst_protocol.run(data)"
   ]
  },
  {
   "cell_type": "markdown",
   "metadata": {},
   "source": [
    "## Create GST report"
   ]
  },
  {
   "cell_type": "code",
   "execution_count": 14,
   "metadata": {},
   "outputs": [
    {
     "name": "stdout",
     "output_type": "stream",
     "text": [
      "Running idle tomography\n",
      "Computing switchable properties\n"
     ]
    }
   ],
   "source": [
    "report = pygsti.report.construct_standard_report(\n",
    "    results, title=\"GST Overview Tutorial Example Report\")"
   ]
  },
  {
   "cell_type": "markdown",
   "metadata": {},
   "source": [
    "## Constrain to TPCP and gauge-optimize\n",
    "The estimates_final_model is an `ExplicitOpModel` type, which carries the preps, measurements, and operations as Pauli-transfer matrices. The documentation refers to this as the 'pauli-product' basis. The `forest_benchmarking` tools can be used to convert these into superoperators, which is the form mitiq uses to describe quantum channels."
   ]
  },
  {
   "cell_type": "code",
   "execution_count": 15,
   "metadata": {},
   "outputs": [
    {
     "name": "stdout",
     "output_type": "stream",
     "text": [
      "rho0 = TPState with dimension 4\n",
      " 0.71 0.02 0.03 0.69\n",
      "\n",
      "\n",
      "Mdefault = TPPOVM with effect vectors:\n",
      "0: FullPOVMEffect with dimension 4\n",
      " 0.81-0.01-0.03 0.61\n",
      "\n",
      "1: ComplementPOVMEffect with dimension 4\n",
      " 0.61 0.01 0.03-0.61\n",
      "\n",
      "\n",
      "\n",
      "Gxpi2:0 = \n",
      "FullTPOp with shape (4, 4)\n",
      " 1.00   0   0   0\n",
      "   0 0.99 0.03-0.03\n",
      "   0-0.03 0.01-0.98\n",
      "   0-0.03 0.98 0.01\n",
      "\n",
      "\n",
      "Gzpi2:0 = \n",
      "FullTPOp with shape (4, 4)\n",
      " 1.00   0   0   0\n",
      "   0   0-1.00-0.03\n",
      "   0 1.00   0 0.03\n",
      "   0-0.03-0.03 1.00\n",
      "\n",
      "\n",
      "\n",
      "\n"
     ]
    }
   ],
   "source": [
    "cptp_estimate = results.estimates['CPTP']\n",
    "cptp_estimate_final_model = cptp_estimate.models['stdgaugeopt']\n",
    "print(cptp_estimate_final_model)"
   ]
  },
  {
   "cell_type": "code",
   "execution_count": 19,
   "metadata": {},
   "outputs": [],
   "source": [
    "# Convert operator transfer matrix to superoperator\n",
    "superop_rep_x = pauli_liouville2superop(cptp_estimate_final_model.operations[('Gxpi2',0)])\n",
    "superop_rep_z = pauli_liouville2superop(cptp_estimate_final_model.operations[('Gzpi2',0)])\n",
    "\n",
    "# Pickle them to pass them to Mitiq_representation notebook to be used for PEC\n",
    "with open(\"experiment_data/XZ.superop\", \"wb\") as f:\n",
    "    pickle.dump([superop_rep_x,superop_rep_z],f)"
   ]
  }
 ],
 "metadata": {
  "kernelspec": {
   "display_name": "Python 3 (ipykernel)",
   "language": "python",
   "name": "python3"
  },
  "language_info": {
   "codemirror_mode": {
    "name": "ipython",
    "version": 3
   },
   "file_extension": ".py",
   "mimetype": "text/x-python",
   "name": "python",
   "nbconvert_exporter": "python",
   "pygments_lexer": "ipython3",
   "version": "3.10.4"
  },
  "vscode": {
   "interpreter": {
    "hash": "d4803144e0ca2433cbbdbc82809c7bf0c6dd86d5d16291a48205e2d911513c87"
   }
  }
 },
 "nbformat": 4,
 "nbformat_minor": 4
}
