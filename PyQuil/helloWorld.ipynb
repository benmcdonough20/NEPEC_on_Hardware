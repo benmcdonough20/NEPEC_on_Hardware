{
 "cells": [
  {
   "cell_type": "markdown",
   "metadata": {},
   "source": [
    "# First program in PyQuil"
   ]
  },
  {
   "cell_type": "code",
   "execution_count": 50,
   "metadata": {},
   "outputs": [],
   "source": [
    "from pyquil.api import local_forest_runtime\n",
    "from pyquil.api import WavefunctionSimulator\n",
    "from pyquil import get_qc, Program\n",
    "from pyquil.gates import CNOT, H, MEASURE, RX\n",
    "from pyquil.quilbase import Declare\n",
    "import numpy as np"
   ]
  },
  {
   "cell_type": "code",
   "execution_count": 52,
   "metadata": {},
   "outputs": [
    {
     "name": "stdout",
     "output_type": "stream",
     "text": [
      "(0.7071067812+0j)|0> + 0.7071067812j|1>\n"
     ]
    }
   ],
   "source": [
    "prog = Program(RX(-np.pi/2, 0))\n",
    "wf_simulator = WavefunctionSimulator()\n",
    "with local_forest_runtime():\n",
    "    print(wf_simulator.wavefunction(prog))"
   ]
  },
  {
   "cell_type": "code",
   "execution_count": 53,
   "metadata": {},
   "outputs": [
    {
     "name": "stdout",
     "output_type": "stream",
     "text": [
      "[[0 0]\n",
      " [1 1]\n",
      " [1 1]\n",
      " [0 0]\n",
      " [1 1]\n",
      " [0 0]\n",
      " [1 1]\n",
      " [0 0]\n",
      " [1 1]\n",
      " [0 0]]\n"
     ]
    }
   ],
   "source": [
    "prog = Program()\n",
    "ro = prog.declare(\"ro\", \"BIT\", 2)\n",
    "prog.reset(0)\n",
    "prog += H(0)\n",
    "prog += CNOT(0,1)\n",
    "prog += MEASURE(0,ro[0])\n",
    "prog += MEASURE(1,ro[1])\n",
    "prog.wrap_in_numshots_loop(10)\n",
    "\n",
    "with local_forest_runtime():\n",
    "    qvm = get_qc(\"9q-square-qvm\");\n",
    "    executable = qvm.compile(prog)\n",
    "    job = qvm.run(executable)\n",
    "    results = job.readout_data.get(\"ro\")\n",
    "\n",
    "print(results)"
   ]
  },
  {
   "cell_type": "code",
   "execution_count": 54,
   "metadata": {},
   "outputs": [
    {
     "name": "stdout",
     "output_type": "stream",
     "text": [
      "DECLARE ro BIT[2]\n",
      "RESET 0\n",
      "H 0\n",
      "CNOT 0 1\n",
      "MEASURE 0 ro[0]\n",
      "MEASURE 1 ro[1]\n",
      "\n"
     ]
    }
   ],
   "source": [
    "print(prog)"
   ]
  },
  {
   "cell_type": "code",
   "execution_count": null,
   "metadata": {},
   "outputs": [],
   "source": []
  }
 ],
 "metadata": {
  "kernelspec": {
   "display_name": "Python 3.10.4 ('pyquil_env')",
   "language": "python",
   "name": "python3"
  },
  "language_info": {
   "codemirror_mode": {
    "name": "ipython",
    "version": 3
   },
   "file_extension": ".py",
   "mimetype": "text/x-python",
   "name": "python",
   "nbconvert_exporter": "python",
   "pygments_lexer": "ipython3",
   "version": "3.10.4"
  },
  "orig_nbformat": 4,
  "vscode": {
   "interpreter": {
    "hash": "0e69d5f72a4514c03a838d577958f1d3751802f0d39455863bbd8efbeb11968f"
   }
  }
 },
 "nbformat": 4,
 "nbformat_minor": 2
}
