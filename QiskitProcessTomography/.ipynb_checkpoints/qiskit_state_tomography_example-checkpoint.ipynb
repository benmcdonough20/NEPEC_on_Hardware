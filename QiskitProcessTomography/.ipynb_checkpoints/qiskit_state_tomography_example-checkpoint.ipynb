{
 "cells": [
  {
   "cell_type": "code",
   "execution_count": 6,
   "id": "e572f46f",
   "metadata": {},
   "outputs": [],
   "source": [
    "from qiskit import QuantumCircuit\n",
    "from qiskit_experiments.library import StateTomography\n",
    "\n",
    "from qiskit.providers.aer import AerSimulator\n",
    "# Noise model\n",
    "from qiskit.test.mock import FakeParis\n",
    "\n",
    "# Construct noisy simulator\n",
    "backend = AerSimulator.from_backend(FakeParis())"
   ]
  },
  {
   "cell_type": "code",
   "execution_count": 15,
   "id": "89d7e175",
   "metadata": {
    "scrolled": false
   },
   "outputs": [
    {
     "name": "stdout",
     "output_type": "stream",
     "text": [
      "DbAnalysisResultV1\n",
      "- name: state\n",
      "- value: DensityMatrix([[ 0.49462891+0.j        ,  0.0086263 -0.01009115j,\n",
      "                 0.00634766-0.01269531j,  0.44580078+0.j        ],\n",
      "               [ 0.0086263 +0.01009115j,  0.02457682+0.j        ,\n",
      "                 0.01123047+0.00488281j,  0.00341797-0.00683594j],\n",
      "               [ 0.00634766+0.01269531j,  0.01123047-0.00488281j,\n",
      "                 0.02718099+0.j        , -0.00309245-0.00032552j],\n",
      "               [ 0.44580078+0.j        ,  0.00341797+0.00683594j,\n",
      "                -0.00309245+0.00032552j,  0.45361328+0.j        ]],\n",
      "              dims=(2, 2))\n",
      "- extra: <5 items>\n",
      "- device_components: ['Q0', 'Q1']\n",
      "- verified: False\n",
      "{'trace': 1.0000000000000018, 'eigvals': array([0.92058024, 0.05037027, 0.01635479, 0.0126947 ]), 'raw_eigvals': array([0.92058024, 0.05037027, 0.01635479, 0.0126947 ]), 'rescaled_psd': False, 'fitter_metadata': {'fitter': 'linear_inversion', 'fitter_time': 0.0036270618438720703}}\n",
      "DbAnalysisResultV1\n",
      "- name: state_fidelity\n",
      "- value: 0.9199218750000002\n",
      "- device_components: ['Q0', 'Q1']\n",
      "- verified: False\n",
      "{}\n",
      "DbAnalysisResultV1\n",
      "- name: positive\n",
      "- value: True\n",
      "- device_components: ['Q0', 'Q1']\n",
      "- verified: False\n",
      "{}\n",
      "State Fidelity = 0.91992\n"
     ]
    }
   ],
   "source": [
    "qc = QuantumCircuit(2)\n",
    "qc.h(0)\n",
    "qc.cx(0,1)\n",
    "\n",
    "qstexp = StateTomography(qc)\n",
    "qstdata = qstexp.run(backend, seed_simulation=100).block_for_results()\n",
    "\n",
    "for result in qstdata.analysis_results():\n",
    "    print(result)\n",
    "    print(result.extra)\n",
    "    \n",
    "fid_result = qstdata.analysis_results(\"state_fidelity\")\n",
    "print(\"State Fidelity = {:.5f}\".format(fid_result.value))"
   ]
  }
 ],
 "metadata": {
  "kernelspec": {
   "display_name": "Python 3 (ipykernel)",
   "language": "python",
   "name": "python3"
  },
  "language_info": {
   "codemirror_mode": {
    "name": "ipython",
    "version": 3
   },
   "file_extension": ".py",
   "mimetype": "text/x-python",
   "name": "python",
   "nbconvert_exporter": "python",
   "pygments_lexer": "ipython3",
   "version": "3.10.5"
  }
 },
 "nbformat": 4,
 "nbformat_minor": 5
}
