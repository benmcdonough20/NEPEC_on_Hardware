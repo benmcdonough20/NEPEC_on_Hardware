{
 "cells": [
  {
   "cell_type": "markdown",
   "metadata": {},
   "source": [
    "# Carrying out PEC on one qubit\n",
    "\n",
    "This is a demo of PEC carried out on a single qubit. This notebook uses the ideal model coefficients to determine how well it works. The full version would involve learning the model coefficients first and then using those to do PEC."
   ]
  },
  {
   "cell_type": "code",
   "execution_count": 89,
   "metadata": {},
   "outputs": [],
   "source": [
    "import numpy as np\n",
    "from numpy.random import randint\n",
    "\n",
    "from qiskit.providers.aer.noise import kraus_error, NoiseModel\n",
    "from qiskit.quantum_info import Kraus, Pauli\n",
    "from qiskit import Aer, QuantumCircuit, execute"
   ]
  },
  {
   "cell_type": "markdown",
   "metadata": {},
   "source": [
    "Inputting the model parameters"
   ]
  },
  {
   "cell_type": "code",
   "execution_count": 90,
   "metadata": {},
   "outputs": [],
   "source": [
    "T = [Pauli(\"X\"), Pauli(\"Y\"), Pauli(\"Z\")]\n",
    "coeffs = [.05, .05, .05]\n",
    "w = .5*(1.0+np.exp(-2.0*lmbda))\n",
    "omegas = np.multiply(.5, np.add(1, np.exp(np.multiply(-2.0, coeffs))))"
   ]
  },
  {
   "cell_type": "markdown",
   "metadata": {},
   "source": [
    "Using these parameters to generate a Kraus map representing the error model"
   ]
  },
  {
   "cell_type": "code",
   "execution_count": 91,
   "metadata": {},
   "outputs": [],
   "source": [
    "kraus_ops = Kraus(np.identity(2))\n",
    "for i in range(len(T)):\n",
    "    op = Kraus([T[i].to_matrix()*np.sqrt(1-omegas[i]),np.sqrt(omegas[i])*np.identity(2)]);\n",
    "    kraus_ops = kraus_ops.compose(op);\n",
    "\n",
    "kraus_error_channel = kraus_error(kraus_ops.data)\n",
    "kraus_noise_model = NoiseModel()\n",
    "kraus_noise_model.add_all_qubit_quantum_error(kraus_error_channel, ['id', 'rx', 'ry', 'rz'])\n",
    "kraus_basis_gates = kraus_noise_model.basis_gates\n",
    "\n",
    "def expectation(counts):\n",
    "    if not '0' in list(counts.keys()):\n",
    "        return -1\n",
    "    if not '1' in list(counts.keys()):\n",
    "        return 1\n",
    "    return (counts['0']-counts['1'])/(counts['0']+counts['1'])"
   ]
  },
  {
   "cell_type": "markdown",
   "metadata": {},
   "source": [
    "Sample from the inverse distribution according to the procedure outlined on page 4, section B in the text:\n",
    "1. Sample the identity with probability $\\omega_k$ and $P_k$ otherwise\n",
    "2. Record the number of times a Pauli was applied\n",
    "3. Compose the sampled operators together and compose (insert?) into the gate being mitigated\n",
    "4. Scale the result of this instance by $(-1)^m\\gamma$"
   ]
  },
  {
   "cell_type": "code",
   "execution_count": 148,
   "metadata": {},
   "outputs": [],
   "source": [
    "samples = 10000\n",
    "total = 0\n",
    "\n",
    "gate_to_mitigate = Pauli('Y')\n",
    "\n",
    "def rand_precision(prec_digits):\n",
    "    return Decimal(randint(0, 10**prec_digits))/10**prec_digits\n",
    "\n",
    "for i in range(samples):\n",
    "    m = 1 \n",
    "    qc = QuantumCircuit(1,1)\n",
    "    op = gate_to_mitigate\n",
    "    \n",
    "    for (i,Pk) in enumerate(T):\n",
    "        if rand_precision(10) < 1-w:\n",
    "            m*=-1\n",
    "            op = op.compose(Pk)\n",
    "            \n",
    "    qc = QuantumCircuit(1,1)\n",
    "    qc.append(op.to_instruction(),[0])\n",
    "    qc.measure(0,0)\n",
    "    \n",
    "    counts = execute(qc, backend, noise_model=kraus_noise_model, \n",
    "                     basis_gates = kraus_basis_gates, shots = 1,\n",
    "                    optimization_level = 0).result().get_counts()\n",
    "    total += (counts.get('0',0)-counts.get('1',0))*m"
   ]
  },
  {
   "cell_type": "markdown",
   "metadata": {},
   "source": [
    "Get the mitigated value and the unmitigated value, then compare them to the actual value"
   ]
  },
  {
   "cell_type": "code",
   "execution_count": 149,
   "metadata": {},
   "outputs": [
    {
     "name": "stdout",
     "output_type": "stream",
     "text": [
      "Unmitigated value:  -0.8162\n",
      "Mitigated value:  -1.008074557497759\n"
     ]
    }
   ],
   "source": [
    "qc = QuantumCircuit(1,1)\n",
    "qc.append(gate_to_mitigate, [0])\n",
    "qc.measure(0,0)\n",
    "counts = execute(qc, backend, noise_model=kraus_noise_model, \n",
    "                     basis_gates = kraus_basis_gates, shots = samples,\n",
    "                    optimization_level = 0).result().get_counts()\n",
    "print(\"Unmitigated value: \", (counts.get('0',0)-counts.get('1',0))/samples)\n",
    "print(\"Mitigated value: \", total*overhead/samples)"
   ]
  }
 ],
 "metadata": {
  "kernelspec": {
   "display_name": "Python 3 (ipykernel)",
   "language": "python",
   "name": "python3"
  },
  "language_info": {
   "codemirror_mode": {
    "name": "ipython",
    "version": 3
   },
   "file_extension": ".py",
   "mimetype": "text/x-python",
   "name": "python",
   "nbconvert_exporter": "python",
   "pygments_lexer": "ipython3",
   "version": "3.10.4"
  },
  "vscode": {
   "interpreter": {
    "hash": "e7370f93d1d0cde622a1f8e1c04877d8463912d04d973331ad4851f04de6915a"
   }
  }
 },
 "nbformat": 4,
 "nbformat_minor": 2
}
