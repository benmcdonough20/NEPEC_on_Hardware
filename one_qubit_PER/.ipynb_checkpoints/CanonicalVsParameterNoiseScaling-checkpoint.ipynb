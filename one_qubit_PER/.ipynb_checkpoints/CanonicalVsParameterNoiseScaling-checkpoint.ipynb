{
 "cells": [
  {
   "cell_type": "code",
   "execution_count": 80,
   "id": "f1dd5d11",
   "metadata": {},
   "outputs": [],
   "source": [
    "#helper libraries\n",
    "import numpy as np\n",
    "from numpy.random import rand\n",
    "import math\n",
    "import scipy.optimize\n",
    "import matplotlib.pyplot as plt\n",
    "\n",
    "#qiskit functionalities\n",
    "from qiskit import Aer, execute, QuantumCircuit, QuantumRegister, ClassicalRegister\n",
    "from qiskit.tools.visualization import plot_histogram\n",
    "\n",
    "#noise model stuff\n",
    "from qiskit.providers.aer.noise import NoiseModel, kraus_error, pauli_error\n",
    "    \n",
    "#operator info\n",
    "from qiskit.quantum_info import PauliList, Pauli, Kraus\n",
    "from qiskit.circuit.library import XGate\n",
    "\n",
    "#%load_ext autoreload\n",
    "#%autoreload 2\n",
    "import PauliExperimentHelperFunctions as pe"
   ]
  },
  {
   "cell_type": "markdown",
   "id": "adc9323f",
   "metadata": {},
   "source": [
    "## Learn the model\n",
    "\n",
    "The module `PauliExperimentHelperFunctions` condenses all of the code from the previous journal into a few methods to make it more compact. The code below creates a noise model based on the parameters $\\lambda_k$ given in `coeffs`, then measures the fidelities of the Pauli operators in `F` at different circuit depths, performs a fit to get the fidelities, and lastly approximates model coefficients that match the measured fidelities using the least squares method."
   ]
  },
  {
   "cell_type": "code",
   "execution_count": 132,
   "id": "43d49cfa",
   "metadata": {
    "scrolled": false
   },
   "outputs": [
    {
     "name": "stdout",
     "output_type": "stream",
     "text": [
      "Manhattan distance between measured/ideal fidelity vectors:  0.00688\n",
      "Manhattan distance between measured/ideal model coefficients:  0.00310\n"
     ]
    }
   ],
   "source": [
    "n = 1 #Number of qubits\n",
    "F = PauliList(['I', 'X', 'Y', 'Z']) #list of paulis\n",
    "T = PauliList(['X', 'Y', 'Z']) #paulis considered in the model\n",
    "coeffs = [.01, .05, .0085] #model coefficients\n",
    "\n",
    "#Kraus error channel\n",
    "noise_model = pe.build_noise_model(F, T, coeffs, n)\n",
    "\n",
    "backend = Aer.get_backend('qasm_simulator')\n",
    "gate = XGate() #the gate to use for noise profiling\n",
    "folds = 40 #number of folds to fit noise\n",
    "shots = 4096 #number of shots for expectation values\n",
    "\n",
    "#generate the circuits with increasing numbers of folds\n",
    "circuits = pe.generate_circuits('X', gate, folds)\n",
    "#extract expectation values at each circuit depth\n",
    "xfidelities = pe.fidelity_experiment(circuits, backend, noise_model,shots)\n",
    "\n",
    "#repeat for <Y>\n",
    "circuits = pe.generate_circuits('Y', gate, folds)\n",
    "yfidelities = pe.fidelity_experiment(circuits, backend, noise_model,shots)\n",
    "\n",
    "#repeat for <Z>\n",
    "circuits = pe.generate_circuits('Z', gate, folds)\n",
    "zfidelities = pe.fidelity_experiment(circuits, backend, noise_model,shots)\n",
    "\n",
    "measured_fidelities = pe.learn_fidelities(xfidelities, yfidelities, zfidelities)\n",
    "#get the coefficients from the fit\n",
    "measured_coeffs = pe.learn_model_coefficients(measured_fidelities, F, T)\n",
    "\n",
    "def unzip(zippedlist):\n",
    "    return [a for (x,a) in zippedlist]\n",
    "\n",
    "def manhattannorm(a, b):\n",
    "    return np.sum(np.abs(np.subtract(a,b)))\n",
    "\n",
    "print(\"Manhattan distance between measured/ideal fidelity vectors: \", \"%.5f\" %manhattannorm(unzip(pe.get_ideal_fidelities(F, T, coeffs)), unzip(measured_fidelities)))\n",
    "print(\"Manhattan distance between measured/ideal model coefficients: \", \"%.5f\" %manhattannorm(unzip(measured_coeffs), coeffs))"
   ]
  },
  {
   "cell_type": "markdown",
   "id": "fdc69099",
   "metadata": {},
   "source": [
    "## Canonical Noise Scaling\n",
    "\n",
    "Canonical noise scaling involves separating the distribution into the negative and positive volumes by the sign of the coefficients. Given a QPD representation of a unitary $\\mathcal{U}$ in terms of noisy gates $\\mathcal{O}_\\alpha\\in \\mathcal{I}$,\n",
    "$$\n",
    "\\mathcal{U} = \\sum_{\\alpha} \\eta_\\alpha \\mathcal{O}_\\alpha\n",
    "$$\n",
    "the indices $\\alpha$ corresponding to negative and positive coefficients can be separated into two sets:\n",
    "$$\n",
    "D^{\\pm} = \\{\\alpha \\ | \\ \\eta_\\alpha \\gtrless 0\\}\n",
    "$$\n",
    "Then the gates corresponding to each set can be used to construct a TPCP operator:\n",
    "$$\n",
    "\\Phi^{\\pm} = \\frac{1}{\\gamma^{\\pm}}\\sum_{\\alpha \\in D^{\\pm}}|\\eta_\\alpha| \\mathcal{O}_\\alpha\n",
    "$$\n",
    "Where the overhead is selected so that the operator is trace-preserving:\n",
    "$$\n",
    "\\gamma^{\\pm} = \\sum_{\\alpha \\in D^{\\pm}}|\\eta_\\alpha|\n",
    "$$\n",
    "Then $\\mathcal{U}$ can be written in terms of these channels:\n",
    "$$\n",
    "\\mathcal{U} = \\gamma^+ \\Phi^+ - \\gamma^- \\Phi^-\n",
    "$$\n",
    "A noisy gate $\\mathcal{U}^\\lambda$ can be parameterized as\n",
    "$$\n",
    "\\mathcal{U}^\\lambda = (\\gamma^+-\\lambda \\gamma^-)\\Phi^+-(1-\\lambda)\\gamma^-\\Phi^-\n",
    "$$\n",
    "This has the convenient property that at $\\lambda = 0$ it reduces to the ideal QPD, at $\\lambda = 1$ it reduces to $\\Phi^+$ representing around hardware noise level, and at $\\lambda = \\frac{\\gamma^+}{\\gamma^-}$ it reduces to $\\Phi^-$, representing the greatest level of noise.\n",
    "\n",
    "## Separating negative and positive volumes\n",
    "\n",
    "In the text, it is shown that taking $\\mathcal{L} \\to -\\mathcal{L}$ leads to the inverse of the channel fidelities $f_a \\to \\frac{1}{f_a}$. Using the Walsh-Hadamard transform, these fidelities can be used to define a Pauli channel:\n",
    "$$\n",
    "\\Lambda^{-1}(\\rho) = \\sum_{i} c_i P_i \\rho P_i\n",
    "$$\n",
    "where the coefficient $c_i$ can be found with\n",
    "$$\n",
    "c_i = \\sum_{j \\in \\mathcal{F}}(-1)^{\\langle i, j \\rangle_{sp}}\\frac{1}{f_a}\n",
    "$$\n",
    "This leads to an unphysical inverse map where some of the eigenvalues are negative, which can be implemented as a QPD. I am not sure if the sampling remains efficient because the number of operators to sample now scales as $4^n$. I think this might make this method intractible, unless there is a more efficient way to get the positive and negative volumes."
   ]
  },
  {
   "cell_type": "code",
   "execution_count": 86,
   "id": "215a837c",
   "metadata": {},
   "outputs": [
    {
     "name": "stdout",
     "output_type": "stream",
     "text": [
      "Chi matrix diagonal:  [1.072977523076903, -0.010042797461849273, -0.054043160259660106, -0.00889156535539376]\n"
     ]
    }
   ],
   "source": [
    "#Invert the fidelities and transform to inverse process matrix\n",
    "chi = []\n",
    "for b in range(len(F)):\n",
    "    chi.append(pe.WHtransform(b, np.divide(1, unzip(measured_fidelities)), F))\n",
    "print(\"Chi matrix diagonal: \", chi)"
   ]
  },
  {
   "cell_type": "markdown",
   "id": "aae28f13",
   "metadata": {},
   "source": [
    "Separate the volume into negative and positive, then form the TPCP channels by computing overheads and converting into QPD"
   ]
  },
  {
   "cell_type": "code",
   "execution_count": 87,
   "id": "9b9a35d0",
   "metadata": {},
   "outputs": [
    {
     "name": "stdout",
     "output_type": "stream",
     "text": [
      "Positive channel overhead:  1.073\n",
      "Negative channel overhead:  0.073\n"
     ]
    }
   ],
   "source": [
    "Dplus = [i for (i, c) in enumerate(chi) if c > 0]\n",
    "Dminus = [i for (i, c) in enumerate(chi) if c < 0]\n",
    "\n",
    "gammaplus = np.sum([chi[i] for i in Dplus])\n",
    "gammaminus = np.multiply(-1, np.sum([chi[i] for i in Dminus]))\n",
    "\n",
    "#Transform the probabilities in chi into valid probability distribution\n",
    "for alpha in Dplus:\n",
    "    chi[alpha] /= gammaplus\n",
    "for alpha in Dminus:\n",
    "    chi[alpha] /= -gammaminus\n",
    "\n",
    "print(\"Positive channel overhead: \", \"%.3f\" % gammaplus)\n",
    "print(\"Negative channel overhead: \", \"%.3f\" % gammaminus)"
   ]
  },
  {
   "cell_type": "code",
   "execution_count": 88,
   "id": "d8f4d123",
   "metadata": {},
   "outputs": [],
   "source": [
    "samples = 4096 #number of samples from the distribution"
   ]
  },
  {
   "cell_type": "markdown",
   "id": "be2ba86d",
   "metadata": {},
   "source": [
    "Create circuit with a single layer of a one-qubit gate to measure the expectation value"
   ]
  },
  {
   "cell_type": "code",
   "execution_count": 89,
   "id": "2ac48262",
   "metadata": {},
   "outputs": [
    {
     "data": {
      "text/html": [
       "<pre style=\"word-wrap: normal;white-space: pre;background: #fff0;line-height: 1.1;font-family: &quot;Courier New&quot;,Courier,monospace\">     ┌───┐┌─┐\n",
       "  q: ┤ X ├┤M├\n",
       "     └───┘└╥┘\n",
       "c: 1/══════╩═\n",
       "           0 </pre>"
      ],
      "text/plain": [
       "     ┌───┐┌─┐\n",
       "  q: ┤ X ├┤M├\n",
       "     └───┘└╥┘\n",
       "c: 1/══════╩═\n",
       "           0 "
      ]
     },
     "execution_count": 89,
     "metadata": {},
     "output_type": "execute_result"
    }
   ],
   "source": [
    "ideal_circuit = QuantumCircuit(1,1)\n",
    "ideal_circuit.x(0)\n",
    "\n",
    "full_circuit = ideal_circuit.copy()#for displaying purposes\n",
    "full_circuit.measure(0,0)\n",
    "\n",
    "#get unmitigated value by taking the same number of samples of a noisy circuit\n",
    "backend = Aer.get_backend(\"qasm_simulator\")\n",
    "job = execute(full_circuit, backend, noise_model = noise_model, basis_gates = noise_model.basis_gates, shots = samples)\n",
    "unmitigated_value = pe.expectation(job.result().get_counts())\n",
    "\n",
    "ideal_circuit.barrier()\n",
    "full_circuit.draw()"
   ]
  },
  {
   "cell_type": "markdown",
   "id": "9f5d5e19",
   "metadata": {},
   "source": [
    "## Procedure for Canonical Noise Scaling\n",
    "Create a distribution of circuits in `circuits` such that the map\n",
    "$$\n",
    "(\\gamma^+-\\lambda \\gamma^-)\\Phi^+-(1-\\lambda)\\gamma^-\\Phi^-\n",
    "$$\n",
    "is implemented. First, when $\\lambda < 1$, the total overhead can be defined as\n",
    "$$\n",
    "\\gamma_{tot} = \\gamma - 2\\lambda \\gamma^-\n",
    "$$\n",
    "Where $\\gamma = \\gamma^++\\gamma^-$ is the normal overhead. The protocol is the following:\n",
    "1. Sample $\\Phi^+$ with probability $\\frac{\\gamma^+-\\lambda \\gamma^-}{\\gamma-2\\lambda\\gamma^-}$ and sample $\\Phi^-$ otherwise\n",
    "2. If from $\\Phi^+$, then\n",
    "    1. Sample from $\\mathcal F$ (the set of Paulis) according to the subset $\\chi_{D^+}$, which has been converted to a distribution\n",
    "    2. Scale the result of running the circuit by $\\gamma-2\\lambda \\gamma^-$\n",
    "    3. Add to total result\n",
    "3. If from $\\Phi^{-}$ then\n",
    "    1. Sample from $\\mathcal F$ according to the subset $\\chi_{D^-}$, which has been converted to a distribution\n",
    "    2. Scale the result of the circuit by $-(\\gamma-2\\lambda \\gamma^-)$,\n",
    "    3. Add to the total result\n",
    "4. Find the value of the estimator by dividing the total by the number of samples\n",
    "\n",
    "If $\\lambda_{max} > \\lambda > 1$, then the overhead is zero and the operation is already a valid distribution."
   ]
  },
  {
   "cell_type": "code",
   "execution_count": 90,
   "id": "38c21758",
   "metadata": {},
   "outputs": [],
   "source": [
    "#Sample from a distribution\n",
    "def sample(dist):\n",
    "    i = rand()\n",
    "    intervals = np.cumsum(dist)\n",
    "    return min(j for j,c in enumerate(intervals) if c > i)\n",
    "\n",
    "def simulate_error_mitigation(starting_circuit, samples, \n",
    "                              Dplus, Dminus, chi, gammaplus, gammaminus, lmbda,\n",
    "                              backend, noise_model):\n",
    "    #check if lambda is within the allowed range\n",
    "    if(lmbda > gammaplus/gammaminus):\n",
    "        print(\"Lambda is above maximum noise\")\n",
    "        return\n",
    "    \n",
    "    if(lmbda < 1):\n",
    "        gamma_tot = gammaplus+gammaminus-2*lmbda*gammaminus #factor if lambda < 1\n",
    "    else:\n",
    "        gamma_tot = 1 #factor if lambda > 1\n",
    "        \n",
    "    pplus = (gammaplus - lmbda*gammaminus)/gamma_tot #probability of choosing Phi^+\n",
    "        \n",
    "    circuits = []\n",
    "    sgns = []\n",
    "    \n",
    "    for i in range(samples):\n",
    "        circuit = ideal_circuit.copy() #start with ideal circuit\n",
    "        op = F[0] #how do you initialize variables in python?\n",
    "        \n",
    "        if rand() < pplus: #sample Phi^+ or Phi^-\n",
    "            op = F[Dplus[sample([chi[a] for a in Dplus])]] #sample from paulis\n",
    "            sgns.append(1) #record the sign chosen for later\n",
    "        else:\n",
    "            op = F[Dminus[sample([chi[a] for a in Dminus])]] #sample from paulis\n",
    "            if gamma_tot == 1:\n",
    "                sgns.append(1)\n",
    "            else:\n",
    "                sgns.append(-1) #record sign\n",
    "            \n",
    "        circuit.append(op.to_instruction(), [0]) #add op to circuit\n",
    "        circuit.measure(0,0)\n",
    "        circuits.append(circuit)\n",
    "    \n",
    "    #execute all circuits from the distribution with one shot apiece\n",
    "    job = execute(circuits, backend, noise_model = noise_model, basis_gates = noise_model.basis_gates, shots = 1)\n",
    "    counts = job.result().get_counts()\n",
    "    \n",
    "    #weight the individual measurements and average according to the procedure\n",
    "    total = 0\n",
    "    for (count, sign) in zip(job.result().get_counts(), sgns):\n",
    "        total += pe.expectation(count)*gamma_tot*sign\n",
    "        \n",
    "    return (total / len(sgns), gamma_tot)"
   ]
  },
  {
   "cell_type": "markdown",
   "id": "31c5b508",
   "metadata": {},
   "source": [
    "## Find estimator for different values of $\\lambda$"
   ]
  },
  {
   "cell_type": "code",
   "execution_count": 91,
   "id": "e956e7d0",
   "metadata": {},
   "outputs": [],
   "source": [
    "lmbdas = [0, .2, .4, .6, .8, 1, 1.2]\n",
    "mitigated_values = []\n",
    "overheads = []\n",
    "#Run the procedure for each lambda\n",
    "for lmbda in lmbdas:\n",
    "    mitigated_value, overhead = simulate_error_mitigation(ideal_circuit, samples, Dplus, Dminus, chi, gammaplus, gammaminus, lmbda, backend, noise_model)\n",
    "    mitigated_values.append(mitigated_value)\n",
    "    overheads.append(overhead) #overhead interpolates linearly between max overhead and 1"
   ]
  },
  {
   "cell_type": "code",
   "execution_count": 92,
   "id": "630ac028",
   "metadata": {},
   "outputs": [
    {
     "name": "stdout",
     "output_type": "stream",
     "text": [
      "Maximum overhead:  1.15\n"
     ]
    },
    {
     "data": {
      "image/png": "[encoded data removed]",
      "text/plain": [
       "<Figure size 432x288 with 1 Axes>"
      ]
     },
     "metadata": {
      "needs_background": "light"
     },
     "output_type": "display_data"
    }
   ],
   "source": [
    "xrange = np.linspace(0, max(lmbdas), 100)\n",
    "plt.ylim([-1.1, -.80])\n",
    "mv, = plt.plot(lmbdas, mitigated_values, 'ro')\n",
    "umv, = plt.plot(1.0, unmitigated_value, 'bo')\n",
    "iv, = plt.plot(xrange, [-1]*len(xrange), '-.')\n",
    "plt.xlabel(\"Noise level\")\n",
    "plt.ylabel(\"Estimator value for %s shots\" %samples)\n",
    "plt.axvline(1)\n",
    "plt.title(\"Noise Level vs Estimator value\")\n",
    "plt.legend([mv, umv, iv], ['Error-mitigated value', 'Unmitigated value', 'Ideal value'], loc=\"lower right\")\n",
    "print(\"Maximum overhead: \", \"%.2f\" % overheads[0])"
   ]
  },
  {
   "cell_type": "markdown",
   "id": "5dad7707",
   "metadata": {},
   "source": [
    "## Parameter Noise Scaling\n",
    "\n",
    "I observed that the Sparse Pauli-Lindblad model gives rise to an intuitive definition of scaled noise by taking $\\lambda_k \\to \\lambda \\lambda_k$, where $\\lambda \\in [0,1]$ is the strength of the noise. Since all the terms in $\\mathcal{L}$ are mutually commuting,\n",
    "\n",
    "$$\n",
    "e^{\\lambda \\mathcal{L}(\\rho)} = e^{\\mathcal{L}(\\rho)-\\mathcal{L}(\\rho)}e^{\\lambda \\mathcal{L}(\\rho)} = \\Lambda(\\rho) e^{-(1-\\lambda)\\mathcal{L}(\\rho)}\n",
    "$$\n",
    "\n",
    "Let \n",
    "$$\n",
    "\\Lambda_{(\\lambda)}(\\rho) \\equiv e^{-(1-\\lambda)\\mathcal{L}(\\rho)}\n",
    "$$\n",
    "\n",
    "be the map that takes the noise to the desired strength. This map can be expanded into product form as before:\n",
    "\n",
    "$$\n",
    "\\Lambda_{(\\lambda)}(\\rho) = \\frac{1}{2}(e^{2(1-\\lambda)\\lambda_k}+1)\\rho-\\frac{1}{2}(e^{2(1-\\lambda)\\lambda_k}-1)P_k\\rho P_k\n",
    "$$\n",
    "\n",
    "When $\\lambda < 1$, it can be seen that $e^{2(1-\\lambda)\\lambda_k} > 1$, so the second term is negative. The overhead of the $k^\\text{th}$ term is then\n",
    "$$\n",
    "\\gamma_{(\\lambda)}^{(k)} = \\frac{1}{2}(e^{2(1-\\lambda)\\lambda_k}+1)+\\frac{1}{2}(e^{2(1-\\lambda)\\lambda_k}-1) = e^{2(1-\\lambda)\\lambda_k}\n",
    "$$\n",
    "And the total overhead is\n",
    "$$\n",
    "\\gamma_{(\\lambda)} = \\prod_{k \\in \\mathcal{T}} \\gamma_{(\\lambda)}^{(k)} = e^{2(1-\\lambda)\\sum_k\\lambda_k}\n",
    "$$\n",
    "The term $\\phi_k \\equiv \\frac{1}{2}(1+e^{-2(1-\\lambda)\\lambda_k})$ can be used to write the product in quasiprobability form:\n",
    "$$\n",
    "\\Lambda_{(\\lambda)}(\\rho) = \\gamma_{(\\lambda)}\\prod_{k\\in\\mathcal{T}} \\phi_k \\rho-(1-\\phi_k)P_k\\rho P_k\n",
    "$$\n",
    "The sampling can be accomplished as with the inverse map. In the case where $\\lambda > 1$, then the second term in the sum is positive, and the product is already a probability distribution with overhead $1$.\n",
    "\n",
    "There is no natural limit to the scaling of this noise above hardware level. The largest error probability is\n",
    "$$\n",
    "\\prod_k \\frac{1}{2}(1-e^{-2(\\lambda-1)\\lambda_k}) < \\left(\\frac{1-e^{-2(\\lambda-1)\\lambda_{min}}}{2}\\right)^k <1\n",
    "$$\n",
    "Since $e^{-2(\\lambda-1)\\lambda_{min}}\\leq 1$ for all $\\lambda_{min}$, there is no upper bound on $\\lambda$."
   ]
  },
  {
   "cell_type": "code",
   "execution_count": 93,
   "id": "9d846a2f",
   "metadata": {},
   "outputs": [],
   "source": [
    "def uniform_noise_scaling(lmbda, samples, ideal_circuit, measured_coeffs, backend, noise_model, T):\n",
    "    circuits = []\n",
    "    sgns = []\n",
    "\n",
    "    adjusted_omegas = .5*(np.exp(np.multiply(-2*(1-lmbda), measured_coeffs))+1)\n",
    "    \n",
    "    for i in range(samples):\n",
    "        m = 0 #m keeps track of the sign, with paulis carrying a negative sign\n",
    "        qc = ideal_circuit.copy()\n",
    "        op = Pauli('I')\n",
    "        for (omega, Pk) in zip(adjusted_omegas, T):\n",
    "            #with probability 1-\\omega_k, sample the Pauli gate and compose into operator\n",
    "            if rand() < 1-omega:\n",
    "                m+=1\n",
    "                op = op.compose(Pk) #Wow I spent so long on this silly line\n",
    "        qc.barrier()\n",
    "        qc.append(op.to_instruction(),[0])\n",
    "        qc.barrier()\n",
    "        qc.measure(0,0)\n",
    "        circuits.append(qc)\n",
    "        if lmbda < 1:\n",
    "            sgns.append((-1)**m)\n",
    "        else:\n",
    "            sgns.append(1)\n",
    "    \n",
    "    \n",
    "    job = execute(circuits, backend, noise_model = noise_model, basis_gates = noise_model.basis_gates, shots = 1)\n",
    "    \n",
    "    overhead = math.exp(2*(1-lmbda)*np.sum(measured_coeffs))\n",
    "    \n",
    "    total = 0\n",
    "    for (count,sgn) in zip(job.result().get_counts(),sgns):\n",
    "        total += pe.expectation(count)*sgn*overhead\n",
    "\n",
    "    mitigated_value = total/samples\n",
    "    \n",
    "    return mitigated_value"
   ]
  },
  {
   "cell_type": "code",
   "execution_count": 94,
   "id": "c0f34ad7",
   "metadata": {},
   "outputs": [],
   "source": [
    "lmbdas = [0, .2, .4, .6, .8, 1, 1.2]\n",
    "mitigated_values_scaling = []\n",
    "#Run the procedure for each lambda\n",
    "for lmbda in lmbdas:\n",
    "    mitigated_value = uniform_noise_scaling(lmbda, samples, ideal_circuit, unzip(measured_coeffs), backend, noise_model, T)\n",
    "    mitigated_values_scaling.append(mitigated_value)"
   ]
  },
  {
   "cell_type": "code",
   "execution_count": 95,
   "id": "be0a1449",
   "metadata": {},
   "outputs": [
    {
     "data": {
      "text/plain": [
       "<matplotlib.legend.Legend at 0x7effa1570eb0>"
      ]
     },
     "execution_count": 95,
     "metadata": {},
     "output_type": "execute_result"
    },
    {
     "data": {
      "image/png": "[encoded data removed]",
      "text/plain": [
       "<Figure size 432x288 with 1 Axes>"
      ]
     },
     "metadata": {
      "needs_background": "light"
     },
     "output_type": "display_data"
    }
   ],
   "source": [
    "xrange = np.linspace(0, max(lmbdas), 100)\n",
    "plt.ylim([-1.1, -.80])\n",
    "mv, = plt.plot(lmbdas, mitigated_values, 'ro')\n",
    "mvs, = plt.plot(lmbdas, mitigated_values_scaling, 'go')\n",
    "umv, = plt.plot(1.0, unmitigated_value, 'bo')\n",
    "iv, = plt.plot(xrange, [-1]*len(xrange), '-.')\n",
    "plt.xlabel(\"Noise level\")\n",
    "plt.ylabel(\"Estimator value for %s shots\" %samples)\n",
    "plt.axvline(1)\n",
    "plt.title(\"Noise Level vs Estimator value\")\n",
    "plt.legend([mv, umv, iv, mvs], ['Error-mitigated value', 'Unmitigated value', 'Ideal value', 'Parameter Scaling Value'], loc=\"lower right\")"
   ]
  },
  {
   "cell_type": "code",
   "execution_count": 129,
   "id": "5a90f555",
   "metadata": {},
   "outputs": [],
   "source": [
    "gamma = math.exp(2*np.sum(unzip(measured_coeffs)))\n",
    "#overheads_canonical = [gamma*(1-lmbda)+lmbda for lmbda in xrange]\n",
    "overheads_canonical = [gamma*(1-lmbda)+lmbda for lmbda in xrange]\n",
    "overheads_scaling = [gamma**(1-lmbda) for lmbda in xrange]"
   ]
  },
  {
   "cell_type": "markdown",
   "id": "58652cf1",
   "metadata": {},
   "source": [
    "I was surprised to find that these models yield similar overheads. This is true as long as $\\gamma \\approx 1$. In the Canonical Scaling method, using $\\gamma^+-\\gamma^- = 1$ and $\\gamma^++\\gamma^- = \\gamma$, the overhead is found to be:\n",
    "$$\n",
    "\\begin{align*}\n",
    "\\gamma_{can} &= (\\gamma^+-\\gamma^-)-2\\lambda\\gamma^-\\\\\n",
    "&= \\gamma-2\\lambda\\left(\\frac{\\gamma-1}{2}\\right)\\\\\n",
    "&= \\gamma(1-\\lambda)+\\lambda\n",
    "\\end{align*}\n",
    "$$\n",
    "Whereas with the noise scaling method, the overhead is\n",
    "$$\n",
    "\\begin{align*}\n",
    "\\gamma_{param} &= \\prod_{k} e^{2(1-\\lambda)\\lambda_k}\\\\\n",
    "&= \\left(e^{2\\sum_{k}\\lambda_k}\\right)^{2(1-\\lambda)}\\\\\n",
    "&= \\gamma^{2(1-\\lambda)}\n",
    "\\end{align*}\n",
    "$$\n",
    "The difference\n",
    "$$\n",
    "\\gamma_{can}-\\gamma_{param} = \\gamma(1-\\lambda)+\\lambda-\\gamma^{2(1-\\lambda)}\n",
    "$$\n",
    "is only positive on the interval $[0,1]$, and is maximized by\n",
    "$$\n",
    "\\lambda_{max} = 1+\\log_{\\gamma}\\left(\\frac{\\ln(\\gamma)}{\\gamma-1}\\right)\n",
    "$$\n",
    "If the overhead scales weakly exponentially, then $\\gamma \\to 1$, and $\\lambda_{max} \\to \\frac{1}{2}$, which I found using a computer. Plugging in $\\lambda_{max}$,\n",
    "$$\n",
    "\\gamma_{can} - \\gamma_{param} = \\frac{1}{2}(\\gamma+1)-\\sqrt{\\gamma} \\approx 0\n",
    "$$\n",
    "Thus the maximum difference in overhead approaches zero as $\\gamma \\to 1$. This method does not give the advantage in overhead I was hoping for, but the parameter scaling method is still simpler to sample than the canonical noise scaling method."
   ]
  },
  {
   "cell_type": "code",
   "execution_count": 130,
   "id": "14bf1c4c",
   "metadata": {},
   "outputs": [
    {
     "data": {
      "image/png": "[encoded data removed]",
      "text/plain": [
       "<Figure size 432x288 with 1 Axes>"
      ]
     },
     "metadata": {
      "needs_background": "light"
     },
     "output_type": "display_data"
    }
   ],
   "source": [
    "ov, = plt.plot(xrange, overheads_canonical, 'r')\n",
    "os, = plt.plot(xrange, overheads_scaling, 'g')\n",
    "plt.axhline(1, linestyle='-.')\n",
    "plt.axvline(1, linestyle='-.')\n",
    "plt.xlabel(\"Noise Level\")\n",
    "plt.ylabel(\"Overhead\")\n",
    "plt.title(\"Noise Level vs Sampling Overhead for both Methods\")\n",
    "plt.legend([ov, os], [\"Canonical Noise Scaling\", \"Parameter Noise Scaling\"]);"
   ]
  }
 ],
 "metadata": {
  "kernelspec": {
   "display_name": "Python 3 (ipykernel)",
   "language": "python",
   "name": "python3"
  },
  "language_info": {
   "codemirror_mode": {
    "name": "ipython",
    "version": 3
   },
   "file_extension": ".py",
   "mimetype": "text/x-python",
   "name": "python",
   "nbconvert_exporter": "python",
   "pygments_lexer": "ipython3",
   "version": "3.10.5"
  }
 },
 "nbformat": 4,
 "nbformat_minor": 5
}
