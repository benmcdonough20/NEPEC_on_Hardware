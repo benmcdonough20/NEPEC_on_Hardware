{
 "cells": [
  {
   "cell_type": "markdown",
   "metadata": {},
   "source": [
    "# GST on Rigetti Backends with PyGSTi"
   ]
  },
  {
   "cell_type": "code",
   "execution_count": 37,
   "metadata": {},
   "outputs": [],
   "source": [
    "import pygsti\n",
    "import time\n",
    "from pygsti.modelpacks import smq1Q_XYI"
   ]
  },
  {
   "cell_type": "markdown",
   "metadata": {},
   "source": [
    "## Create experiment design"
   ]
  },
  {
   "cell_type": "code",
   "execution_count": null,
   "metadata": {},
   "outputs": [],
   "source": [
    "exp_design = smq1Q_XYI.create_gst_experiment_design(max_max_length=32)  "
   ]
  },
  {
   "cell_type": "markdown",
   "metadata": {},
   "source": [
    "## Write empty protocol data file"
   ]
  },
  {
   "cell_type": "code",
   "execution_count": 27,
   "metadata": {},
   "outputs": [],
   "source": [
    "pygsti.io.write_empty_protocol_data('tutorial_files/test_gst_dir', exp_design, clobber_ok=True)\n",
    "#Actual (empty) dataset located at tutorial_files/test_gst_dir/data/dataset.txt"
   ]
  },
  {
   "cell_type": "markdown",
   "metadata": {},
   "source": [
    "## Run circuits"
   ]
  },
  {
   "cell_type": "code",
   "execution_count": 43,
   "metadata": {},
   "outputs": [],
   "source": [
    "exp_design.all_circuits_needing_data\n",
    "circuits = list(exp_design.all_circuits_needing_data)\n",
    "quil_circuits = [circ.convert_to_quil() for circ in circuits]"
   ]
  },
  {
   "cell_type": "markdown",
   "metadata": {},
   "source": [
    "## Read data from experiment"
   ]
  },
  {
   "cell_type": "code",
   "execution_count": 29,
   "metadata": {},
   "outputs": [],
   "source": [
    "data = pygsti.io.read_data_from_dir('tutorial_files/test_gst_dir')"
   ]
  },
  {
   "cell_type": "markdown",
   "metadata": {},
   "source": [
    "## Run GST on the data"
   ]
  },
  {
   "cell_type": "code",
   "execution_count": 30,
   "metadata": {},
   "outputs": [
    {
     "name": "stdout",
     "output_type": "stream",
     "text": [
      "-- Std Practice:  Iter 1 of 3  (full TP) --: \n",
      "  --- Iterative GST: [##################################################] 100.0%  784 circuits ---\n",
      "  Iterative GST Total Time: 1.8s\n",
      "-- Std Practice:  Iter 2 of 3  (CPTP) --: \n",
      "  --- Iterative GST: [##################################################] 100.0%  784 circuits ---\n",
      "  Iterative GST Total Time: 18.2s\n",
      "-- Std Practice:  Iter 3 of 3  (Target) --: \n"
     ]
    }
   ],
   "source": [
    "gst_protocol = pygsti.protocols.StandardGST()\n",
    "results = gst_protocol.run(data)"
   ]
  },
  {
   "cell_type": "markdown",
   "metadata": {},
   "source": [
    "## Create GST report"
   ]
  },
  {
   "cell_type": "code",
   "execution_count": 31,
   "metadata": {},
   "outputs": [
    {
     "name": "stdout",
     "output_type": "stream",
     "text": [
      "Running idle tomography\n",
      "Computing switchable properties\n",
      "Found standard clifford compilation from smq1Q_XYI\n",
      "Found standard clifford compilation from smq1Q_XYI\n",
      "Found standard clifford compilation from smq1Q_XYI\n"
     ]
    }
   ],
   "source": [
    "report = pygsti.report.construct_standard_report(\n",
    "    results, title=\"GST Overview Tutorial Example Report\")\n",
    "\n",
    "report.write_html(\"tutorial_files/ExampleReport\")"
   ]
  },
  {
   "cell_type": "markdown",
   "metadata": {},
   "source": [
    "## Constrain to TPCP and gauge-optimize"
   ]
  },
  {
   "cell_type": "code",
   "execution_count": 24,
   "metadata": {},
   "outputs": [
    {
     "name": "stdout",
     "output_type": "stream",
     "text": [
      "rho0 = TPState with dimension 4\n",
      " 0.71   0   0 0.71\n",
      "\n",
      "\n",
      "Mdefault = TPPOVM with effect vectors:\n",
      "0: FullPOVMEffect with dimension 4\n",
      " 0.71   0   0 0.71\n",
      "\n",
      "1: ComplementPOVMEffect with dimension 4\n",
      " 0.71   0   0-0.71\n",
      "\n",
      "\n",
      "\n",
      "[] = \n",
      "FullTPOp with shape (4, 4)\n",
      " 1.00   0   0   0\n",
      "   0 0.99   0   0\n",
      "   0   0 0.99   0\n",
      "   0   0   0 0.99\n",
      "\n",
      "\n",
      "Gxpi2:0 = \n",
      "FullTPOp with shape (4, 4)\n",
      " 1.00   0   0   0\n",
      "   0 0.99   0   0\n",
      "   0   0   0-0.99\n",
      "   0   0 0.99   0\n",
      "\n",
      "\n",
      "Gypi2:0 = \n",
      "FullTPOp with shape (4, 4)\n",
      " 1.00   0   0   0\n",
      "   0   0   0 0.99\n",
      "   0   0 0.99   0\n",
      "   0-0.99   0   0\n",
      "\n",
      "\n",
      "\n",
      "\n"
     ]
    }
   ],
   "source": [
    "cptp_estimate = results.estimates['CPTP']\n",
    "cptp_estimate_final_model = cptp_estimate.models['stdgaugeopt']\n",
    "print(cptp_estimate_final_model)"
   ]
  }
 ],
 "metadata": {
  "kernelspec": {
   "display_name": "Python 3 (ipykernel)",
   "language": "python",
   "name": "python3"
  },
  "language_info": {
   "codemirror_mode": {
    "name": "ipython",
    "version": 3
   },
   "file_extension": ".py",
   "mimetype": "text/x-python",
   "name": "python",
   "nbconvert_exporter": "python",
   "pygments_lexer": "ipython3",
   "version": "3.10.4"
  },
  "vscode": {
   "interpreter": {
    "hash": "d4803144e0ca2433cbbdbc82809c7bf0c6dd86d5d16291a48205e2d911513c87"
   }
  }
 },
 "nbformat": 4,
 "nbformat_minor": 4
}
