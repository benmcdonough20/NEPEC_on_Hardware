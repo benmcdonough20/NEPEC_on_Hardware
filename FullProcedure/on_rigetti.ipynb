{
 "cells": [
  {
   "cell_type": "code",
   "execution_count": 1,
   "metadata": {},
   "outputs": [],
   "source": [
    "from pyquil.api import BenchmarkConnection\n",
    "from pyquil import get_qc, Program\n",
    "from pyquil.gates import CZ, I, H, S, MEASURE, X, CNOT, FENCE, RZ\n",
    "from pyquil.paulis import PauliTerm, ID\n",
    "from pyquil.latex import display\n",
    "from pyquil.quil import Pragma"
   ]
  },
  {
   "cell_type": "code",
   "execution_count": 5,
   "metadata": {},
   "outputs": [],
   "source": [
    "import networkx as nx\n",
    "from itertools import cycle, product, permutations\n",
    "from random import choice\n",
    "from scipy.optimize import curve_fit, nnls\n",
    "import scipy as sc\n",
    "import numpy as np\n",
    "from itertools import combinations\n",
    "from matplotlib import pyplot as plt"
   ]
  },
  {
   "cell_type": "code",
   "execution_count": 3,
   "metadata": {},
   "outputs": [],
   "source": [
    "DOUBLE_GATE = 2\n",
    "SINGLE_GATE = 1\n",
    "NUM_BASES = 9\n",
    "\n",
    "class LearningProcedure:\n",
    "    def __init__(self, layer, qpu):\n",
    "        self.qubits = layer.get_qubits()\n",
    "        self.layer = Program([inst for inst in layer if len(inst.get_qubits()) == 2])\n",
    "        self.n = len(self.qubits)\n",
    "        topology = qpu.qubit_topology().subgraph(self.qubits)\n",
    "        self.qpu = qpu\n",
    "\n",
    "        self.bases = self.pauli_bases(topology)\n",
    "        self.model_paulis = self.model_terms(topology)\n",
    "\n",
    "    def pauli_bases(self, connectivity : nx.Graph):\n",
    "        n = self.n\n",
    "        remaining = self.qubits.copy() \n",
    "\n",
    "        bases = [ID()]*NUM_BASES\n",
    "        while remaining:\n",
    "            vertex = remaining.pop()\n",
    "            #copied from Fig. S3 in van den Berg\n",
    "            orderings = {\"XXXYYYZZZ\":\"XYZXYZXYZ\",\n",
    "                                \"XXXYYZZZY\":\"XYZXYZXYZ\",\n",
    "                                \"XXYYYZZZX\":\"XYZXYZXYZ\",\n",
    "                                \"XXZYYZXYZ\":\"XYZXZYZYX\",\n",
    "                                \"XYZXYZXYZ\":\"XYZZXYYZX\"}\n",
    "\n",
    "            children = connectivity.neighbors(vertex) \n",
    "            predecessors = [c for c in children if c not in remaining]\n",
    "\n",
    "            match len(predecessors):\n",
    "                #trivial if no predecessors\n",
    "                case 0:\n",
    "                    cycp = cycle(\"XYZ\")\n",
    "                    for i,_ in enumerate(bases):\n",
    "                        bases[i] *= PauliTerm(next(cycp),vertex)\n",
    "                #Choose p1:\"XXXYYYZZZ\" and p2:\"XYZXYZXYZ\" if one predecessor\n",
    "                case 1:\n",
    "                    pred, = predecessors\n",
    "                    #store permutation of indices so that predecessor has X,X,X,Y,Y,Y,Z,Z,Z\n",
    "                    bases = list(list(zip(*sorted(zip([p[pred] for p in bases], bases))))[1])\n",
    "                    cycp = cycle(\"XYZ\")\n",
    "                    for i,_ in enumerate(bases):\n",
    "                        bases[i] *= PauliTerm(next(cycp),vertex)\n",
    "                case 2:\n",
    "                    pred0,pred1 = predecessors\n",
    "                    bases = list(list(zip(*sorted(zip([p[pred0] for p in bases], bases))))[1])\n",
    "                    #list out string with permuted values of predecessor 2\n",
    "                    substr = [p[pred0] for p in bases]\n",
    "                    #match predecessor two with a permutation of example_orderings\n",
    "                    reordering = \"\"\n",
    "                    for perm in permutations(\"XYZ\"):\n",
    "                        p_substr = \"\".join([\"XYZ\"[perm.index(p)] for p in p_substr])\n",
    "                        if p_substr in orderings:\n",
    "                            current = orderings[p_substr] \n",
    "                            for i,p in enumerate(current):\n",
    "                                bases[i] *= PauliTerm(p,vertex)\n",
    "                            break\n",
    "                case _: #processor needs to have connectivity so that there are <= 2 predecessors\n",
    "                    raise Exception(\"Three or more predecessors encountered\")\n",
    "\n",
    "        print([s.pauli_string(self.qubits) for s in bases])\n",
    "\n",
    "        return bases\n",
    "\n",
    "    def model_terms(self, topology):\n",
    "        model_terms = []\n",
    "\n",
    "        #get all single-weight paulis\n",
    "        for i in topology.nodes:\n",
    "            for op in \"XYZ\":\n",
    "                model_terms.append(PauliTerm(op, i))\n",
    "                \n",
    "        #get all weight-two paulis on with suport on nieghboring qubits\n",
    "        for (q1,q2) in topology.edges:\n",
    "            for op1,op2 in product(\"XYZ\", repeat=2):\n",
    "                model_terms.append(PauliTerm(op1, q1)*PauliTerm(op2,q2))\n",
    "\n",
    "        print(\"The terms included in the model are the following:\", [p.pauli_string(self.qubits) for p in model_terms])\n",
    "        return model_terms\n",
    "\n",
    "    def instance(\n",
    "        self, \n",
    "        prep_basis, \n",
    "        meas_basis, \n",
    "        noise_repetitions : int, \n",
    "        transpiled=True\n",
    "        ):\n",
    "\n",
    "        n = self.n\n",
    "        qubits = self.qubits\n",
    "        bc = BenchmarkConnection()\n",
    "\n",
    "        circ = Program(Pragma('INITIAL_REWIRING', ['\"NAIVE\"']))\n",
    "        ro = circ.declare(\"ro\", \"BIT\", self.n)\n",
    "\n",
    "        #get preparation ops from desired basis \n",
    "        def prep(basis, qubit):\n",
    "            if basis == \"X\":\n",
    "                return H(qubit)\n",
    "            elif basis == \"Y\":\n",
    "                return Program(H(qubit),S(qubit))\n",
    "            return I(qubit)\n",
    "\n",
    "        def meas(basis, qubit):\n",
    "            if basis == \"X\":\n",
    "                return H(qubit)\n",
    "            elif basis == \"Y\":\n",
    "                return Program(RZ(-pi/2, qubit), H(qubit))\n",
    "            return I(qubit)\n",
    "        \n",
    "        pauli_frame = ID()\n",
    "\n",
    "        #apply the prep and twirling operators to the circuit\n",
    "        qc = Program()\n",
    "        qc += [prep(b,qubit) for qubit,b in prep_basis]\n",
    "\n",
    "        #apply repetitions of noise, including basis-change gates when needed\n",
    "        for i in range(noise_repetitions):\n",
    "            twirl = PauliTerm.from_list([(choice(\"IXYZ\"),q) for q in self.qubits]) \n",
    "            qc += twirl.program\n",
    "\n",
    "            if transpiled:\n",
    "                circ += self.qpu.compiler.quil_to_native_quil(qc)\n",
    "            else:\n",
    "                circ += qc\n",
    "\n",
    "            circ += self.layer\n",
    "            qc = Program()\n",
    "            pauli_frame *= twirl\n",
    "            pauli_frame = bc.apply_clifford_to_pauli(self.layer, pauli_frame)\n",
    "\n",
    "        rostring = PauliTerm.from_list([(choice(\"IX\"),q) for q in self.qubits]) \n",
    "        qc += pauli_frame.program\n",
    "        qc += [meas(b,q) for q,b in meas_basis]\n",
    "        qc += rostring.program\n",
    "\n",
    "        if transpiled:\n",
    "            circ += self.qpu.compiler.quil_to_native_quil(qc)\n",
    "        else:\n",
    "            circ += qc\n",
    "        \n",
    "        circ += [MEASURE(q,ro[i]) for i,q in enumerate(self.qubits)]\n",
    "\n",
    "        return circ, {\n",
    "            \"prep_basis\":prep_basis,\n",
    "                \"meas_basis\":meas_basis, \n",
    "                \"depth\":noise_repetitions, \n",
    "                \"rostring\": tuple({\"I\":0,\"X\":1}[char] for char in  rostring.pauli_string(self.qubits))\n",
    "            }\n",
    "\n",
    "    def procedure(\n",
    "        self,\n",
    "        depths,\n",
    "        samples,\n",
    "        shots,\n",
    "        single_samples = None,\n",
    "        transpiled = True\n",
    "    ):\n",
    "\n",
    "        if isinstance(samples, int):\n",
    "            samples = [samples]*len(depths)\n",
    "        if not single_samples:\n",
    "            single_samples = samples[0]\n",
    "\n",
    "        self.depths = depths\n",
    "        self.single_samples = single_samples\n",
    "        bc = BenchmarkConnection()\n",
    "    \n",
    "        pairs = [(p,bc.apply_clifford_to_pauli(self.layer, p)) for p in self.model_paulis]\n",
    "\n",
    "        single_measurements = [(p1,p2) for (p1,p2) in pairs if p1 != p2 and len(p1) == 1 and len(p2) == 2]\n",
    "        single_measurements += list(set([frozenset([p1,p2]) for p1,p2 in pairs if p1 != p2 and len(p1) == len(p2) == 2]))\n",
    "        single_measurements = [list(s) for s in single_measurements]\n",
    "\n",
    "        print(\"The following pairs require single measurements:\", single_measurements)\n",
    "\n",
    "        circuits = []\n",
    "        metadatas = []\n",
    "        bases = self.bases\n",
    "        total = len(bases)*sum(samples)+len(single_measurements)*single_samples\n",
    "\n",
    "        j=0\n",
    "        for basis, (d,s) in product(bases, zip(depths,samples)):\n",
    "\n",
    "            for i in range(s):\n",
    "                circ, data = self.instance(\n",
    "                    basis, \n",
    "                    basis, \n",
    "                    d,\n",
    "                    transpiled\n",
    "                    )\n",
    "\n",
    "                j+=1\n",
    "                print(j,\"/\",total, end='\\r')\n",
    "                circ.wrap_in_numshots_loop(shots)\n",
    "                circuits.append(circ)\n",
    "                metadatas.append(dict(**data, type = \"double\"))\n",
    "        \n",
    "        for (pauli, pair), s in product(single_measurements, range(single_samples)):\n",
    "\n",
    "            circ, data = self.instance(\n",
    "                pair,\n",
    "                pauli,\n",
    "                1,\n",
    "                transpiled\n",
    "            )\n",
    "            j+=1\n",
    "            print(j,\"/\",total, end='\\r')\n",
    "            circ.wrap_in_numshots_loop(shots)\n",
    "            circuits.append(circ)\n",
    "            metadatas.append({\"type\":\"single\", **data})\n",
    "\n",
    "        print(\"Generated\", len(circuits), \"circuits\")\n",
    "\n",
    "        return circuits, metadatas"
   ]
  },
  {
   "cell_type": "code",
   "execution_count": 4,
   "metadata": {},
   "outputs": [
    {
     "name": "stdout",
     "output_type": "stream",
     "text": [
      "['XX', 'XY', 'XZ', 'YX', 'YY', 'YZ', 'ZX', 'ZY', 'ZZ']\n",
      "The terms included in the model are the following: ['XI', 'YI', 'ZI', 'IX', 'IY', 'IZ', 'XX', 'XY', 'XZ', 'YX', 'YY', 'YZ', 'ZX', 'ZY', 'ZZ']\n"
     ]
    }
   ],
   "source": [
    "qpu = get_qc(\"9q-qvm\", noisy=True)\n",
    "layer = Program(CZ(0,1))\n",
    "tglp = LearningProcedure(layer, qpu)"
   ]
  },
  {
   "cell_type": "code",
   "execution_count": 513,
   "metadata": {},
   "outputs": [],
   "source": [
    "circ, data = tglp.instance(PauliTerm.from_list([(\"X\",0),(\"Y\",1)]),PauliTerm.from_list([(\"X\",0),(\"Y\",1)]),2, transpiled=False)"
   ]
  },
  {
   "cell_type": "code",
   "execution_count": 514,
   "metadata": {},
   "outputs": [
    {
     "data": {
      "text/plain": [
       "QAMExecutionResult(executable=<pyquil.quil.Program object at 0x7f983bdce860>, readout_data={'ro': array([[0, 0]])})"
      ]
     },
     "execution_count": 514,
     "metadata": {},
     "output_type": "execute_result"
    }
   ],
   "source": [
    "exe = qpu.compiler.native_quil_to_executable(circ)\n",
    "qpu.run(exe)"
   ]
  },
  {
   "cell_type": "code",
   "execution_count": 515,
   "metadata": {},
   "outputs": [
    {
     "data": {
      "image/png": "[encoded data removed]",
      "text/plain": [
       "<IPython.core.display.Image object>"
      ]
     },
     "execution_count": 515,
     "metadata": {},
     "output_type": "execute_result"
    }
   ],
   "source": [
    "display(circ)"
   ]
  },
  {
   "cell_type": "code",
   "execution_count": 536,
   "metadata": {},
   "outputs": [
    {
     "name": "stdout",
     "output_type": "stream",
     "text": [
      "The following pairs require single measurements: [[(1+0j)*X0, (1+0j)*X0*Z1], [(1+0j)*Y0, (1+0j)*Y0*Z1], [(1+0j)*X1, (1+0j)*Z0*X1], [(1+0j)*Y1, (1+0j)*Z0*Y1], [(1+0j)*Y0*X1, (-1+0j)*X0*Y1], [(1+0j)*Y0*Y1, (1+0j)*X0*X1], [(1+0j)*X0*Y1, (-1+0j)*Y0*X1]]\n",
      "Generated 1700 circuits\n"
     ]
    }
   ],
   "source": [
    "circuits, metadatas = tglp.procedure([2,4,16], 50, 50, transpiled=False)"
   ]
  },
  {
   "cell_type": "code",
   "execution_count": 537,
   "metadata": {},
   "outputs": [
    {
     "name": "stdout",
     "output_type": "stream",
     "text": [
      "1699\r"
     ]
    }
   ],
   "source": [
    "results = []\n",
    "from collections import Counter\n",
    "for i,circ in enumerate(circuits):\n",
    "    print(i, end='\\r')\n",
    "    exe = qpu.compiler.native_quil_to_executable(circ)\n",
    "    res = qpu.run(exe).readout_data['ro']\n",
    "    l = [tuple(r) for r in res]\n",
    "    results.append(Counter(l))"
   ]
  },
  {
   "cell_type": "code",
   "execution_count": 538,
   "metadata": {},
   "outputs": [],
   "source": [
    "class ProcedureAnalysis:\n",
    "    def __init__(self, layer, depths, single_samples, model_terms):\n",
    "        self.qubits = layer.get_qubits()\n",
    "        self.layer = Program([inst for inst in layer if len(inst.get_qubits()) == 2])\n",
    "        self.n = len(layer.get_qubits())\n",
    "        self.single_samples = single_samples\n",
    "        self.depths = depths\n",
    "        self.model_terms = model_terms\n",
    "\n",
    "    @classmethod\n",
    "    def fromExperiment(cls, experiment):\n",
    "        return cls(\n",
    "            experiment.layer,\n",
    "            experiment.depths,\n",
    "            experiment.single_samples,\n",
    "            experiment.model_paulis\n",
    "        )\n",
    "\n",
    "    def get_expectation(self, measurement, **metadata):\n",
    "        total = 0\n",
    "        counts = metadata['counts']\n",
    "        pauli_weight = [{\"I\":0}.get(p,1) for p in measurement.pauli_string(self.qubits)]\n",
    "        rostring = metadata['rostring']\n",
    "        for key in counts.keys():\n",
    "            ro_adjusted = np.bitwise_xor(key, rostring)\n",
    "            sgn = np.dot(pauli_weight, ro_adjusted)\n",
    "            total += (-1)**sgn*counts[key]\n",
    "        return total/sum(counts.values())\n",
    "\n",
    "    def analyze(self, results, metadatas):\n",
    "\n",
    "        bc = BenchmarkConnection()\n",
    "\n",
    "        def simultaneous_measurements(pauli):\n",
    "            sim_meas = []\n",
    "            for i,p in enumerate(pauli):\n",
    "                for subset in combinations(pauli, i+1):\n",
    "                    sim_meas.append(PauliTerm.from_list([tuple(reversed(s)) for s in subset]))\n",
    "            return sim_meas\n",
    "\n",
    "        depths = self.depths\n",
    "        single_samples = self.single_samples\n",
    "        #Sort into single and double measurements\n",
    "        results_dict = [{**metadata, \"counts\":count} for metadata,count in zip(metadatas,results)]\n",
    "        singles = []\n",
    "        doubles = []\n",
    "        for datum in results_dict:\n",
    "            type = datum[\"type\"]\n",
    "            datum.pop(\"type\")\n",
    "            if type == \"single\":\n",
    "                singles.append(datum)\n",
    "            elif type == \"double\":\n",
    "                doubles.append(datum)\n",
    "\n",
    "        expfit = lambda x,a,b: a*np.exp(-b*x)\n",
    "\n",
    "        #reorder by measurement basis\n",
    "        basis_dict = {}\n",
    "        for datum in doubles:\n",
    "            basis = datum['prep_basis']\n",
    "            depth = datum['depth']\n",
    "            for pauli in simultaneous_measurements(basis):\n",
    "                expectation = self.get_expectation(pauli, **datum)\n",
    "                if not pauli in basis_dict:\n",
    "                    basis_dict[pauli] = {\"expectation\":[0 for d in depths], \"total\":[0 for d in depths]}\n",
    "                basis_dict[pauli][\"expectation\"][depths.index(depth)] += expectation\n",
    "                basis_dict[pauli][\"total\"][depths.index(depth)] += 1\n",
    "\n",
    "        self_conjugates = []\n",
    "        pair_measurements = []\n",
    "        for key in basis_dict.keys():\n",
    "            for i,d in enumerate(depths):\n",
    "                basis_dict[key][\"expectation\"][i] /= basis_dict[key][\"total\"][i]\n",
    "            try:\n",
    "                popt, pcov = curve_fit(expfit, depths, basis_dict[key][\"expectation\"], p0=[.9,.01])\n",
    "                basis_dict[key][\"fidelity\"] = expfit(1,1,popt[1])\n",
    "                basis_dict[key][\"SPAM\"] = popt[0]\n",
    "            except:\n",
    "                print(\"warning: fit did not converge for\", key, \"using 1\")\n",
    "                basis_dict[key][\"fidelity\"] = 1\n",
    "                basis_dict[key][\"SPAM\"] = 1\n",
    "\n",
    "            if key != bc.apply_clifford_to_pauli(self.layer, key):\n",
    "                pair_measurements.append(((key.pauli_string(self.qubits),bc.apply_clifford_to_pauli(self.layer,key).pauli_string(self.qubits)), basis_dict[key][\"fidelity\"]))\n",
    "                basis_dict[key][\"type\"] = \"pair\"\n",
    "            else:\n",
    "                self_conjugates.append((key.pauli_string(self.qubits), basis_dict[key][\"fidelity\"]))\n",
    "                basis_dict[key][\"type\"] = \"single\"\n",
    "\n",
    "        print(\"The following SPAM-free measurements were reconstructed:\", self_conjugates)\n",
    "        print(\"The following SPAM-free measurement pairs were constructed:\", pair_measurements)\n",
    "\n",
    "        singles_dict = {}\n",
    "\n",
    "        for datum in singles:\n",
    "            counts = datum['counts']\n",
    "            prep_basis = datum['prep_basis']\n",
    "            meas_basis = datum['meas_basis']\n",
    "\n",
    "            if meas_basis not in singles_dict:\n",
    "                singles_dict[meas_basis] = 0\n",
    "\n",
    "            expectation = self.get_expectation(meas_basis, **datum)\n",
    "            avg = basis_dict[meas_basis]['SPAM']\n",
    "            fidelity = np.min([1.0,np.abs(expectation)/avg])\n",
    "                \n",
    "            singles_dict[meas_basis] += fidelity/single_samples\n",
    "\n",
    "        for key in singles_dict.keys():\n",
    "            basis_dict[key]['fidelity'] = singles_dict[key]\n",
    "            basis_dict[key]['type'] = \"single\"\n",
    "\n",
    "        print(\"The following degeneracy-lifting measurements were reconstructed:\", list(zip([p.pauli_string(self.qubits) for p in singles_dict.keys()], singles_dict.values()))) \n",
    "\n",
    "        self.data = basis_dict \n",
    "        return self.data\n",
    "\n",
    "    def fit_model(self):\n",
    "        F1 = []\n",
    "        F2 = []\n",
    "        fidelities = []\n",
    "        for key in self.model_terms:\n",
    "            F1.append(key)\n",
    "            fidelities.append(self.data[key]['fidelity'])\n",
    "            if self.data[key][\"type\"] == \"pair\":\n",
    "                pair = bc.apply_clifford_to_pauli(self.layer, key)\n",
    "                F2.append(pair)\n",
    "            else:\n",
    "                F2.append(key)\n",
    "        \n",
    "        sprod = lambda a,b: int(a.anticommutes(b))\n",
    "        M1 = [[sprod(a,b) for a in self.model_terms] for b in F1]\n",
    "        M2 = [[sprod(a,b) for a in self.model_terms] for b in F2]\n",
    "\n",
    "        if np.linalg.matrix_rank(np.add(M1, M2)) != len(self.model_terms):\n",
    "            raise Exception(\"Matrix is not full rank, something went wrong\")\n",
    "\n",
    "        coeffs,rnorm = sc.optimize.nnls(np.add(M1,M2), -np.log(fidelities))\n",
    "        print(\"Model reconstructed with r-norm\", rnorm)\n",
    "        return list(zip(coeffs, self.model_terms))\n",
    "\n",
    "    def graph(self, *paulis):\n",
    "        expfit = lambda x,a,b: a*np.exp(-b*x)\n",
    "        colcy = cycle(\"rgbcmk\")\n",
    "        for p in paulis:\n",
    "            c = next(colcy)\n",
    "            data = self.data[p]['expectation']\n",
    "            popt, pcov = curve_fit(expfit, self.depths, data, p0=[.9,.01])\n",
    "            xrange = np.linspace(0,np.max(self.depths))\n",
    "            plt.plot(self.depths, data, c+\"X\")\n",
    "            plt.plot(xrange, [expfit(x, *popt) for x in xrange], c)\n",
    "\n",
    "        plt.show()\n",
    "\n",
    "    def display(self, *paulis):\n",
    "        bc = BenchmarkConnection()\n",
    "        ax = np.arange(len(paulis))\n",
    "        fidelities = []\n",
    "        for p in paulis:\n",
    "            fid = self.data[p]['fidelity']\n",
    "            if(self.data[p]['type'] == 'pair'):\n",
    "                pair = bc.apply_clifford_to_pauli(self.layer, p)\n",
    "                fid = fid**2/self.data[pair]['fidelity']\n",
    "            fidelities.append(fid)\n",
    "        plt.bar(ax, [10*(1-f) for f in fidelities], .4,color='b')\n",
    "        plt.xticks(ax, [p.pauli_string(self.qubits) for p in paulis])"
   ]
  },
  {
   "cell_type": "code",
   "execution_count": 539,
   "metadata": {},
   "outputs": [],
   "source": [
    "analysis = ProcedureAnalysis.fromExperiment(tglp)"
   ]
  },
  {
   "cell_type": "code",
   "execution_count": 540,
   "metadata": {},
   "outputs": [
    {
     "name": "stdout",
     "output_type": "stream",
     "text": [
      "The following SPAM-free measurements were reconstructed: [('IZ', 0.9968130817169732), ('ZI', 0.9945473484962417), ('ZZ', 0.9943320850781431)]\n",
      "The following SPAM-free measurement pairs were constructed: [(('XI', 'XZ'), 0.9947571579279085), (('IX', 'ZX'), 0.9929943631487318), (('XX', 'YY'), 0.9966164669201742), (('IY', 'ZY'), 0.9925690627544155), (('XY', 'YX'), 0.9900965614070979), (('XZ', 'XI'), 0.9921934850608726), (('YI', 'YZ'), 0.9914362472176119), (('YX', 'XY'), 0.9868727692260593), (('YY', 'XX'), 0.9876718110433547), (('YZ', 'YI'), 0.9966333415866145), (('ZX', 'IX'), 0.991772144894124), (('ZY', 'IY'), 0.9873434880747763)]\n",
      "The following degeneracy-lifting measurements were reconstructed: [('XI', 0.959232040409584), ('YI', 0.9311232233042481), ('IX', 0.9590170087025325), ('IY', 0.9596859541143523), ('YX', 0.920452320061483), ('YY', 0.9505657234852088), ('XY', 0.9507231530533119)]\n"
     ]
    },
    {
     "data": {
      "text/plain": [
       "{(1+0j)*X0: {'expectation': [0.8696, 0.8461333333333335, 0.8029333333333337],\n",
       "  'total': [150, 150, 150],\n",
       "  'fidelity': 0.959232040409584,\n",
       "  'SPAM': 0.8720929128630233,\n",
       "  'type': 'single'},\n",
       " (1+0j)*X1: {'expectation': [0.8701333333333332,\n",
       "   0.8530666666666669,\n",
       "   0.7869333333333337],\n",
       "  'total': [150, 150, 150],\n",
       "  'fidelity': 0.9590170087025325,\n",
       "  'SPAM': 0.8801552021527072,\n",
       "  'type': 'single'},\n",
       " (1+0j)*X0*X1: {'expectation': [0.7432000000000002,\n",
       "   0.7472000000000001,\n",
       "   0.7120000000000002],\n",
       "  'total': [50, 50, 50],\n",
       "  'fidelity': 0.9966164669201742,\n",
       "  'SPAM': 0.752444396275424,\n",
       "  'type': 'pair'},\n",
       " (1+0j)*Y1: {'expectation': [0.8709333333333327,\n",
       "   0.8538666666666668,\n",
       "   0.7832000000000005],\n",
       "  'total': [150, 150, 150],\n",
       "  'fidelity': 0.9596859541143523,\n",
       "  'SPAM': 0.8820711746600974,\n",
       "  'type': 'single'},\n",
       " (1+0j)*X0*Y1: {'expectation': [0.7808000000000002,\n",
       "   0.7064,\n",
       "   0.6608000000000002],\n",
       "  'total': [50, 50, 50],\n",
       "  'fidelity': 0.9507231530533119,\n",
       "  'SPAM': 0.768762390810969,\n",
       "  'type': 'single'},\n",
       " (1+0j)*Z1: {'expectation': [0.8679999999999998,\n",
       "   0.8626666666666667,\n",
       "   0.8301333333333334],\n",
       "  'total': [150, 150, 150],\n",
       "  'fidelity': 0.9968130817169732,\n",
       "  'SPAM': 0.8736474174821646,\n",
       "  'type': 'single'},\n",
       " (1+0j)*X0*Z1: {'expectation': [0.7864000000000003,\n",
       "   0.7672,\n",
       "   0.7024000000000002],\n",
       "  'total': [50, 50, 50],\n",
       "  'fidelity': 0.9921934850608726,\n",
       "  'SPAM': 0.7955600399578685,\n",
       "  'type': 'pair'},\n",
       " (1+0j)*Y0: {'expectation': [0.8714666666666668,\n",
       "   0.853066666666667,\n",
       "   0.7714666666666671],\n",
       "  'total': [150, 150, 150],\n",
       "  'fidelity': 0.9311232233042481,\n",
       "  'SPAM': 0.8849279153162906,\n",
       "  'type': 'single'},\n",
       " (1+0j)*Y0*X1: {'expectation': [0.7976000000000003,\n",
       "   0.7447999999999999,\n",
       "   0.6536],\n",
       "  'total': [50, 50, 50],\n",
       "  'fidelity': 0.920452320061483,\n",
       "  'SPAM': 0.8038329867756744,\n",
       "  'type': 'single'},\n",
       " (1+0j)*Y0*Y1: {'expectation': [0.7568000000000004,\n",
       "   0.7647999999999999,\n",
       "   0.6440000000000002],\n",
       "  'total': [50, 50, 50],\n",
       "  'fidelity': 0.9505657234852088,\n",
       "  'SPAM': 0.7883422583778972,\n",
       "  'type': 'single'},\n",
       " (1+0j)*Y0*Z1: {'expectation': [0.7440000000000001,\n",
       "   0.7432000000000001,\n",
       "   0.7111999999999999],\n",
       "  'total': [50, 50, 50],\n",
       "  'fidelity': 0.9966333415866145,\n",
       "  'SPAM': 0.7509860600966439,\n",
       "  'type': 'pair'},\n",
       " (1+0j)*Z0: {'expectation': [0.88, 0.8674666666666663, 0.8141333333333332],\n",
       "  'total': [150, 150, 150],\n",
       "  'fidelity': 0.9945473484962417,\n",
       "  'SPAM': 0.8882944810414242,\n",
       "  'type': 'single'},\n",
       " (1+0j)*Z0*X1: {'expectation': [0.7936000000000004,\n",
       "   0.7568000000000004,\n",
       "   0.6992000000000003],\n",
       "  'total': [50, 50, 50],\n",
       "  'fidelity': 0.991772144894124,\n",
       "  'SPAM': 0.7956728685033444,\n",
       "  'type': 'pair'},\n",
       " (1+0j)*Z0*Y1: {'expectation': [0.7568000000000003,\n",
       "   0.7664000000000002,\n",
       "   0.6416],\n",
       "  'total': [50, 50, 50],\n",
       "  'fidelity': 0.9873434880747763,\n",
       "  'SPAM': 0.7898533939458475,\n",
       "  'type': 'pair'},\n",
       " (1+0j)*Z0*Z1: {'expectation': [0.7488000000000002,\n",
       "   0.7464,\n",
       "   0.6936000000000001],\n",
       "  'total': [50, 50, 50],\n",
       "  'fidelity': 0.9943320850781431,\n",
       "  'SPAM': 0.7601891964133712,\n",
       "  'type': 'single'}}"
      ]
     },
     "execution_count": 540,
     "metadata": {},
     "output_type": "execute_result"
    }
   ],
   "source": [
    "analysis.analyze(results, metadatas)"
   ]
  },
  {
   "cell_type": "code",
   "execution_count": 571,
   "metadata": {},
   "outputs": [
    {
     "name": "stdout",
     "output_type": "stream",
     "text": [
      "320\r"
     ]
    }
   ],
   "source": [
    "depths = [2,4,8,16,32]\n",
    "results = [0]*len(depths)\n",
    "j = 0\n",
    "circs = [[]]*len(depths)\n",
    "datas = []\n",
    "samples = 64\n",
    "pauli = PauliTerm.from_list([('Z',0),(\"Z\",1)])\n",
    "bc = BenchmarkConnection()\n",
    "pair = bc.apply_clifford_to_pauli(layer, pauli)\n",
    "for k,d in enumerate(depths):\n",
    "    for i in range(samples):\n",
    "        circ,data = tglp.instance(pauli, pauli, d, transpiled=False)\n",
    "        circs[k].append(circ)\n",
    "        exe = qpu.compiler.native_quil_to_executable(circ)\n",
    "        res = qpu.run(exe).readout_data['ro']\n",
    "        result = Counter([tuple(r) for r in res])\n",
    "        results[k] += analysis.get_expectation(pauli, counts = result, **data)/samples\n",
    "        j+= 1\n",
    "        print(j, end='\\r')"
   ]
  },
  {
   "cell_type": "code",
   "execution_count": 572,
   "metadata": {},
   "outputs": [],
   "source": [
    "expfit = lambda x,a,b: a*np.exp(-b*x)\n",
    "popt, pcov = curve_fit(expfit, depths, results)"
   ]
  },
  {
   "cell_type": "code",
   "execution_count": 573,
   "metadata": {},
   "outputs": [
    {
     "data": {
      "text/plain": [
       "0.9875008649628311"
      ]
     },
     "execution_count": 573,
     "metadata": {},
     "output_type": "execute_result"
    }
   ],
   "source": [
    "expfit(1,1,popt[1])"
   ]
  },
  {
   "cell_type": "code",
   "execution_count": 574,
   "metadata": {},
   "outputs": [
    {
     "data": {
      "text/plain": [
       "[0.84375, 0.71875, 0.8125, 0.46875, 0.625]"
      ]
     },
     "execution_count": 574,
     "metadata": {},
     "output_type": "execute_result"
    }
   ],
   "source": [
    "results"
   ]
  },
  {
   "cell_type": "code",
   "execution_count": 575,
   "metadata": {},
   "outputs": [
    {
     "data": {
      "text/plain": [
       "[<matplotlib.lines.Line2D at 0x7f983b6e9cf0>]"
      ]
     },
     "execution_count": 575,
     "metadata": {},
     "output_type": "execute_result"
    },
    {
     "data": {
      "image/png": "[encoded data removed]",
      "text/plain": [
       "<Figure size 432x288 with 1 Axes>"
      ]
     },
     "metadata": {
      "needs_background": "light"
     },
     "output_type": "display_data"
    }
   ],
   "source": [
    "plt.plot(depths,results)"
   ]
  }
 ],
 "metadata": {
  "kernelspec": {
   "display_name": "Python 3.10.4 ('qiskit_env')",
   "language": "python",
   "name": "python3"
  },
  "language_info": {
   "codemirror_mode": {
    "name": "ipython",
    "version": 3
   },
   "file_extension": ".py",
   "mimetype": "text/x-python",
   "name": "python",
   "nbconvert_exporter": "python",
   "pygments_lexer": "ipython3",
   "version": "3.10.4"
  },
  "orig_nbformat": 4,
  "vscode": {
   "interpreter": {
    "hash": "d4803144e0ca2433cbbdbc82809c7bf0c6dd86d5d16291a48205e2d911513c87"
   }
  }
 },
 "nbformat": 4,
 "nbformat_minor": 2
}
