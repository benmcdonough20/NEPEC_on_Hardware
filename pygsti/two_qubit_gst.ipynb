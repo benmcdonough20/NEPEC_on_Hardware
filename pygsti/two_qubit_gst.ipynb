{
 "cells": [
  {
   "cell_type": "code",
   "execution_count": 21,
   "metadata": {},
   "outputs": [],
   "source": [
    "import pygsti\n",
    "from pygsti.processors import QubitProcessorSpec\n",
    "from pygsti.models import create_crosstalk_free_model\n",
    "import pygsti.algorithms.fiducialselection as fidsel\n",
    "import pygsti.algorithms.germselection as germsel\n",
    "from pygsti.models import modelconstruction"
   ]
  },
  {
   "cell_type": "code",
   "execution_count": 141,
   "metadata": {},
   "outputs": [],
   "source": [
    "n_qubits = 2\n",
    "\n",
    "qubit_labels = ['Q0','Q1']\n",
    "\n",
    "gate_names = ['Gxpi2', # A X rotation by pi/2\n",
    "              'Gzpi2', # A Z rotation by pi/2\n",
    "              'Gcphase']  # The controlled-Z gate.\n",
    "\n",
    "availability = {\n",
    "    'Gxpi2': [('Q0',), ('Q1',)],\n",
    "    'Gzpi2': [('Q0',), ('Q1',)],\n",
    "    'Gcphase':[('Q0','Q1')]}\n",
    "\n",
    "nonstd_gate_unitaries = {}\n",
    "\n",
    "pspec = pygsti.processors.QubitProcessorSpec(num_qubits=n_qubits, gate_names=gate_names,\n",
    "                                 nonstd_gate_unitaries=nonstd_gate_unitaries, \n",
    "                                 availability=availability, qubit_labels=qubit_labels)\n",
    "\n",
    "explicit_mdl = modelconstruction.create_explicit_model(pspec) #throws an error because not all gates are the same dimension\n",
    "\n",
    "explicit_mdl = modelconstruction.create_explicit_model_from_expressions(qubit_labels,\n",
    "    [('Gxpi2', 1), ('Gzpi2', 1), ('Gxpi2', 0), ('Gzpi2', 0), ('Gcphase', 0, 1)],\n",
    "            ['I(Q0):I(Q1)', 'I(Q0):X(pi/2,Q1)', 'I(Q0):Z(pi/2,Q1)', 'X(pi/2,Q0):I(Q1)', 'Z(pi/2,Q0):I(Q1)', 'CPHASE(Q0,Q1)'],\n",
    "            effect_labels=['00', '01', '10', '11'],\n",
    "            effect_expressions=['0', '1', '2', '3'] ) \n"
   ]
  },
  {
   "cell_type": "code",
   "execution_count": 142,
   "metadata": {},
   "outputs": [
    {
     "name": "stdout",
     "output_type": "stream",
     "text": [
      "Using GRASP algorithm.\n"
     ]
    },
    {
     "name": "stderr",
     "output_type": "stream",
     "text": [
      "\n",
      "WARNING: Complete initial fiducial set FAILS.\n",
      "\n",
      "WARNING: Aborting search.\n",
      "\n",
      "WARNING: Complete initial fiducial set FAILS.\n",
      "\n",
      "WARNING: Aborting search.\n"
     ]
    }
   ],
   "source": [
    "uniformPrepFids, uniformMeasFids = fidsel.find_fiducials(explicit_mdl) #haven't found a working config yet\n"
   ]
  }
 ],
 "metadata": {
  "kernelspec": {
   "display_name": "Python 3 (ipykernel)",
   "language": "python",
   "name": "python3"
  },
  "language_info": {
   "codemirror_mode": {
    "name": "ipython",
    "version": 3
   },
   "file_extension": ".py",
   "mimetype": "text/x-python",
   "name": "python",
   "nbconvert_exporter": "python",
   "pygments_lexer": "ipython3",
   "version": "3.10.4"
  },
  "vscode": {
   "interpreter": {
    "hash": "d4803144e0ca2433cbbdbc82809c7bf0c6dd86d5d16291a48205e2d911513c87"
   }
  }
 },
 "nbformat": 4,
 "nbformat_minor": 4
}
