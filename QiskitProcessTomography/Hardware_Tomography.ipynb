{
 "cells": [
  {
   "cell_type": "code",
   "execution_count": 24,
   "id": "74938619",
   "metadata": {},
   "outputs": [],
   "source": [
    "#Boiler plate\n",
    "from qiskit import QuantumCircuit, execute, QuantumRegister, ClassicalRegister\n",
    "\n",
    "#This package will soon be depreciated, but it seems that the hardware\n",
    "#API has not caught up to the new qiskit-experiments package yet. I got\n",
    "# an unsupported op error when using the newer version\n",
    "from qiskit.ignis.verification.tomography import process_tomography_circuits, ProcessTomographyFitter\n",
    "from qiskit.test.mock import FakeVigo\n",
    "import qiskit.quantum_info as qi\n",
    "\n",
    "from numpy import pi"
   ]
  },
  {
   "cell_type": "code",
   "execution_count": 3,
   "id": "eb33bb8a",
   "metadata": {},
   "outputs": [
    {
     "data": {
      "text/plain": [
       "<AccountProvider for IBMQ(hub='ibm-q', group='open', project='main')>"
      ]
     },
     "execution_count": 3,
     "metadata": {},
     "output_type": "execute_result"
    }
   ],
   "source": [
    "#Load account\n",
    "from qiskit import IBMQ\n",
    "IBMQ.load_account()"
   ]
  },
  {
   "cell_type": "code",
   "execution_count": 5,
   "id": "e3afaa6a",
   "metadata": {},
   "outputs": [
    {
     "name": "stdout",
     "output_type": "stream",
     "text": [
      "{'backend_name': 'ibmq_qasm_simulator', 'backend_version': '0.1.547', 'operational': True, 'pending_jobs': 13, 'status_msg': 'active'}\n",
      "{'backend_name': 'ibmq_armonk', 'backend_version': '2.4.35', 'operational': True, 'pending_jobs': 1, 'status_msg': 'active'}\n",
      "{'backend_name': 'ibmq_santiago', 'backend_version': '1.4.3', 'operational': True, 'pending_jobs': 85, 'status_msg': 'active'}\n",
      "{'backend_name': 'ibmq_bogota', 'backend_version': '1.6.41', 'operational': True, 'pending_jobs': 246, 'status_msg': 'active'}\n",
      "{'backend_name': 'ibmq_lima', 'backend_version': '1.0.36', 'operational': True, 'pending_jobs': 12, 'status_msg': 'active'}\n",
      "{'backend_name': 'ibmq_belem', 'backend_version': '1.0.42', 'operational': True, 'pending_jobs': 19, 'status_msg': 'active'}\n",
      "{'backend_name': 'ibmq_quito', 'backend_version': '1.1.30', 'operational': True, 'pending_jobs': 23, 'status_msg': 'active'}\n",
      "{'backend_name': 'simulator_statevector', 'backend_version': '0.1.547', 'operational': True, 'pending_jobs': 13, 'status_msg': 'active'}\n",
      "{'backend_name': 'simulator_mps', 'backend_version': '0.1.547', 'operational': True, 'pending_jobs': 13, 'status_msg': 'active'}\n",
      "{'backend_name': 'simulator_extended_stabilizer', 'backend_version': '0.1.547', 'operational': True, 'pending_jobs': 13, 'status_msg': 'active'}\n",
      "{'backend_name': 'simulator_stabilizer', 'backend_version': '0.1.547', 'operational': True, 'pending_jobs': 14, 'status_msg': 'active'}\n",
      "{'backend_name': 'ibmq_manila', 'backend_version': '1.0.30', 'operational': True, 'pending_jobs': 210, 'status_msg': 'active'}\n",
      "{'backend_name': 'ibm_oslo', 'backend_version': '1.0.0', 'operational': True, 'pending_jobs': 3, 'status_msg': 'active'}\n"
     ]
    }
   ],
   "source": [
    "#Search for provider\n",
    "provider = IBMQ.get_provider(hub='ibm-q')\n",
    "for backend in provider.backends():\n",
    "    print(backend.status().to_dict())"
   ]
  },
  {
   "cell_type": "code",
   "execution_count": 16,
   "id": "6ba4ef35",
   "metadata": {},
   "outputs": [],
   "source": [
    "#I picked the one with the fewest jobs, I was only using a single qubit\n",
    "device = provider.get_backend('ibmq_armonk')"
   ]
  },
  {
   "cell_type": "code",
   "execution_count": 17,
   "id": "de391350",
   "metadata": {},
   "outputs": [
    {
     "name": "stdout",
     "output_type": "stream",
     "text": [
      "12\n"
     ]
    }
   ],
   "source": [
    "# Put together the process\n",
    "qr = QuantumRegister(1)\n",
    "cr = ClassicalRegister(1)\n",
    "qc = QuantumCircuit(qr,cr)\n",
    "qc.ry(pi/2, 0)"
   ]
  },
  {
   "cell_type": "code",
   "execution_count": 27,
   "id": "a7e7c087",
   "metadata": {},
   "outputs": [
    {
     "name": "stdout",
     "output_type": "stream",
     "text": [
      "(('Zp',), ('X',))\n",
      "(('Zp',), ('Y',))\n",
      "(('Zp',), ('Z',))\n",
      "(('Zm',), ('X',))\n",
      "(('Zm',), ('Y',))\n",
      "(('Zm',), ('Z',))\n",
      "(('Xp',), ('X',))\n",
      "(('Xp',), ('Y',))\n",
      "(('Xp',), ('Z',))\n",
      "(('Yp',), ('X',))\n",
      "(('Yp',), ('Y',))\n",
      "(('Yp',), ('Z',))\n"
     ]
    }
   ],
   "source": [
    "#Qiskit automatically generate the circuits to measure the full set of\n",
    "#expectation values\n",
    "qpt_circs = process_tomography_circuits(qc,[0])\n",
    "for circ in qpt_circs:\n",
    "    print(circ.name)"
   ]
  },
  {
   "cell_type": "code",
   "execution_count": 18,
   "id": "e75eb971",
   "metadata": {},
   "outputs": [],
   "source": [
    "#run circuits on device\n",
    "job = execute(qpt_circs, device, shots = 4000)"
   ]
  },
  {
   "cell_type": "code",
   "execution_count": 19,
   "id": "17ad0633",
   "metadata": {},
   "outputs": [
    {
     "data": {
      "text/plain": [
       "{(('Zp',), ('X',)): {'0': 3910, '1': 90},\n",
       " (('Zp',), ('Y',)): {'0': 2120, '1': 1880},\n",
       " (('Zp',), ('Z',)): {'0': 2078, '1': 1922},\n",
       " (('Zm',), ('X',)): {'0': 236, '1': 3764},\n",
       " (('Zm',), ('Y',)): {'0': 2034, '1': 1966},\n",
       " (('Zm',), ('Z',)): {'0': 1997, '1': 2003},\n",
       " (('Xp',), ('X',)): {'0': 2073, '1': 1927},\n",
       " (('Xp',), ('Y',)): {'0': 2042, '1': 1958},\n",
       " (('Xp',), ('Z',)): {'0': 237, '1': 3763},\n",
       " (('Yp',), ('X',)): {'0': 2077, '1': 1923},\n",
       " (('Yp',), ('Y',)): {'0': 3900, '1': 100},\n",
       " (('Yp',), ('Z',)): {'0': 2164, '1': 1836}}"
      ]
     },
     "execution_count": 19,
     "metadata": {},
     "output_type": "execute_result"
    }
   ],
   "source": [
    "#Organize data\n",
    "qpt_tomo = ProcessTomographyFitter(job.result(), qpt_circs)\n",
    "qpt_tomo.data"
   ]
  },
  {
   "cell_type": "code",
   "execution_count": 23,
   "id": "b16ad965",
   "metadata": {},
   "outputs": [
    {
     "name": "stdout",
     "output_type": "stream",
     "text": [
      "Average gate fidelity: F = 0.95365\n"
     ]
    }
   ],
   "source": [
    "#Find the closest TPCP map to the measured choi matrix\n",
    "choi_fit = qpt_tomo.fit(method='lstsq')\n",
    "#Convert to Kraus operators\n",
    "kraus_ops = qi.Kraus(choi_fit)\n",
    "#get gate fidelity (out of curiosity)\n",
    "print('Average gate fidelity: F = {:.5f}'.format(qi.average_gate_fidelity(choi_fit, target=qi.Operator(qc))))"
   ]
  },
  {
   "cell_type": "code",
   "execution_count": 21,
   "id": "cc45caa2",
   "metadata": {},
   "outputs": [
    {
     "name": "stdout",
     "output_type": "stream",
     "text": [
      "Kraus op no. 0:\n",
      "\n",
      "[[ 0.69656895-1.45919336e-17j -0.67437702-3.12949635e-02j]\n",
      " [ 0.68150683+2.14814712e-02j  0.67477499+2.38053192e-02j]]\n",
      "\n",
      "\n",
      "Kraus op no. 1:\n",
      "\n",
      "[[ 0.11887707-1.29837972e-11j  0.16558419+4.86069853e-02j]\n",
      " [ 0.07790308+6.79040616e-03j -0.03511688+3.52818041e-02j]]\n",
      "\n",
      "\n",
      "Kraus op no. 2:\n",
      "\n",
      "[[ 0.14124606-5.47767497e-10j -0.01251611-1.02168682e-01j]\n",
      " [-0.08117136+8.19437890e-02j -0.07699419-1.89589605e-01j]]\n",
      "\n",
      "\n"
     ]
    }
   ],
   "source": [
    "#Read off Kraus operators\n",
    "for i,op in enumerate(kraus_ops.data):\n",
    "    print(\"Kraus op no. \" + str(i) + \":\\n\")\n",
    "    print(op)\n",
    "    print(\"\\n\")"
   ]
  }
 ],
 "metadata": {
  "kernelspec": {
   "display_name": "Python 3 (ipykernel)",
   "language": "python",
   "name": "python3"
  },
  "language_info": {
   "codemirror_mode": {
    "name": "ipython",
    "version": 3
   },
   "file_extension": ".py",
   "mimetype": "text/x-python",
   "name": "python",
   "nbconvert_exporter": "python",
   "pygments_lexer": "ipython3",
   "version": "3.10.5"
  }
 },
 "nbformat": 4,
 "nbformat_minor": 5
}
