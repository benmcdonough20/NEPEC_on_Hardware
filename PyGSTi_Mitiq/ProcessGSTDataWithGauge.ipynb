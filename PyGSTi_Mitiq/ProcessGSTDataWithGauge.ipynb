{
 "cells": [
  {
   "cell_type": "markdown",
   "metadata": {},
   "source": [
    "# GST on Rigetti Backends with PyGSTi\n",
    "The purpose of this notebook is to use the data collected from a GST experiment that has been read into the `rigetti_first_run` directory and perform GST on it. \n",
    "\n",
    "This code was mostly taken from the tutorial notebook [UnitaryFundDemoNotebook1.ipynb\n",
    "](https://zenodo.org/record/5715199#.Yr_TOUjMLJF). This notebook also exhibits pyGSTi's full html report functionality, but there is a conflict with the latest version of jinja2 which breaks this."
   ]
  },
  {
   "cell_type": "code",
   "execution_count": 1,
   "metadata": {},
   "outputs": [
    {
     "name": "stderr",
     "output_type": "stream",
     "text": [
      "/home/ben/.local/lib/python3.10/site-packages/pygsti/baseobjs/opcalc/__init__.py:31: UserWarning: \n",
      "An optimized Cython-based implementation of `pygsti.baseobjs.opcalc` is available as\n",
      "an extension, but couldn't be imported. This might happen if the\n",
      "extension has not been built. `pip install cython`, then reinstall\n",
      "pyGSTi to build Cython extensions. Alternatively, setting the\n",
      "environment variable `PYGSTI_NO_CYTHON_WARNING` will suppress this\n",
      "message.\n",
      "\n",
      "  _warnings.warn(warn_msg)\n"
     ]
    }
   ],
   "source": [
    "#PyGSTi tools\n",
    "import pygsti\n",
    "from pygsti.data.dataset import DataSet\n",
    "\n",
    "#Mitiq and pyGSTi seem to require competing versions of numpy,\n",
    "#so output is pickled and passed to a different notebook\n",
    "import pickle\n",
    "\n",
    "#Rigetti tools\n",
    "from forest.benchmarking.operator_tools.superoperator_transformations import pauli_liouville2superop\n",
    "from pyquil import Program"
   ]
  },
  {
   "cell_type": "markdown",
   "metadata": {},
   "source": [
    "## Read data from experiment\n",
    "This data was written by the `get_gst_data.ipynb` file."
   ]
  },
  {
   "cell_type": "code",
   "execution_count": 2,
   "metadata": {},
   "outputs": [],
   "source": [
    "data = pygsti.io.read_data_from_dir('experiment_data/rigetti_first_run')"
   ]
  },
  {
   "cell_type": "markdown",
   "metadata": {},
   "source": [
    "## Run GST on the data"
   ]
  },
  {
   "cell_type": "code",
   "execution_count": 3,
   "metadata": {},
   "outputs": [
    {
     "name": "stdout",
     "output_type": "stream",
     "text": [
      "-- Std Practice:  Iter 1 of 3  (TP) --: \n",
      "  --- Iterative GST: [##################################################] 100.0%  550 circuits ---\n",
      "  Iterative GST Total Time: 1.5s\n",
      "-- Std Practice:  Iter 2 of 3  (CPTP) --: \n",
      "  --- Iterative GST: [########------------------------------------------] 16.67%  96 circuits ---\r"
     ]
    },
    {
     "name": "stderr",
     "output_type": "stream",
     "text": [
      "\n",
      "WARNING: Treating result as *converged* after maximum iterations (100) were exceeded.\n"
     ]
    },
    {
     "name": "stdout",
     "output_type": "stream",
     "text": [
      "  --- Iterative GST: [##################################################] 100.0%  550 circuits ---\n",
      "  Iterative GST Total Time: 16.6s\n",
      "-- Std Practice:  Iter 3 of 3  (Target) --: \n"
     ]
    }
   ],
   "source": [
    "gst_protocol = pygsti.protocols.StandardGST('TP,CPTP,Target')\n",
    "results = gst_protocol.run(data)"
   ]
  },
  {
   "cell_type": "markdown",
   "metadata": {},
   "source": [
    "## Create GST report"
   ]
  },
  {
   "cell_type": "code",
   "execution_count": 4,
   "metadata": {},
   "outputs": [
    {
     "name": "stdout",
     "output_type": "stream",
     "text": [
      "Running idle tomography\n",
      "Computing switchable properties\n"
     ]
    }
   ],
   "source": [
    "report = pygsti.report.construct_standard_report(\n",
    "    results, title=\"GST Overview Tutorial Example Report\")"
   ]
  },
  {
   "cell_type": "markdown",
   "metadata": {},
   "source": [
    "## Constrain to TPCP and gauge-optimize\n",
    "The estimates_final_model is an `ExplicitOpModel` type, which carries the preps, measurements, and operations as Pauli-transfer matrices. The documentation refers to this as the 'pauli-product' basis. The `forest_benchmarking` tools can be used to convert these into superoperators, which is the form mitiq uses to describe quantum channels."
   ]
  },
  {
   "cell_type": "code",
   "execution_count": 13,
   "metadata": {},
   "outputs": [
    {
     "name": "stdout",
     "output_type": "stream",
     "text": [
      "rho0 = TPState with dimension 4\n",
      " 0.71 0.02 0.03 0.69\n",
      "\n",
      "\n",
      "Mdefault = TPPOVM with effect vectors:\n",
      "0: FullPOVMEffect with dimension 4\n",
      " 0.81-0.01-0.03 0.61\n",
      "\n",
      "1: ComplementPOVMEffect with dimension 4\n",
      " 0.61 0.01 0.03-0.61\n",
      "\n",
      "\n",
      "\n",
      "Gxpi2:0 = \n",
      "FullTPOp with shape (4, 4)\n",
      " 1.00   0   0   0\n",
      "   0 0.99 0.03-0.03\n",
      "   0-0.03 0.01-0.98\n",
      "   0-0.03 0.98 0.01\n",
      "\n",
      "\n",
      "Gzpi2:0 = \n",
      "FullTPOp with shape (4, 4)\n",
      " 1.00   0   0   0\n",
      "   0   0-1.00-0.03\n",
      "   0 1.00   0 0.03\n",
      "   0-0.03-0.03 1.00\n",
      "\n",
      "\n",
      "\n",
      "\n"
     ]
    }
   ],
   "source": [
    "cptp_estimate = results.estimates['CPTP']\n",
    "cptp_estimate_final_model = cptp_estimate.models['stdgaugeopt']\n",
    "print(cptp_estimate_final_model)"
   ]
  },
  {
   "cell_type": "markdown",
   "metadata": {},
   "source": [
    "## Gauge optimization"
   ]
  },
  {
   "cell_type": "code",
   "execution_count": 14,
   "metadata": {},
   "outputs": [
    {
     "name": "stdout",
     "output_type": "stream",
     "text": [
      "rho0 = TPState with dimension 4\n",
      " 0.71   0   0 0.71\n",
      "\n",
      "\n",
      "Mdefault = TPPOVM with effect vectors:\n",
      "0: FullPOVMEffect with dimension 4\n",
      " 0.71   0   0 0.71\n",
      "\n",
      "1: ComplementPOVMEffect with dimension 4\n",
      " 0.71   0   0-0.71\n",
      "\n",
      "\n",
      "\n",
      "Gxpi2:0 = \n",
      "FullTPOp with shape (4, 4)\n",
      " 1.00   0   0   0\n",
      "   0 1.00   0   0\n",
      "   0   0   0-1.00\n",
      "   0   0 1.00   0\n",
      "\n",
      "\n",
      "Gzpi2:0 = \n",
      "FullTPOp with shape (4, 4)\n",
      " 1.00   0   0   0\n",
      "   0   0-1.00   0\n",
      "   0 1.00   0   0\n",
      "   0   0   0 1.00\n",
      "\n",
      "\n",
      "\n",
      "\n"
     ]
    }
   ],
   "source": [
    "target_cptp_estimate = results.estimates['Target']\n",
    "target_mdl = target_cptp_estimate.models['stdgaugeopt']\n",
    "print(target_mdl)\n"
   ]
  },
  {
   "cell_type": "code",
   "execution_count": 31,
   "metadata": {},
   "outputs": [
    {
     "name": "stdout",
     "output_type": "stream",
     "text": [
      "  --- Gauge Optimization (ls method, <class 'pygsti.models.gaugegroup.TPGaugeGroup'>) ---\n",
      "  Least squares message = Sum of squares is at most 3\n",
      "Gauge optimization completed in 0.0107453s.\n",
      "rho0 = TPState with dimension 4\n",
      " 0.71 0.02 0.03 0.69\n",
      "\n",
      "\n",
      "Mdefault = TPPOVM with effect vectors:\n",
      "0: FullPOVMEffect with dimension 4\n",
      " 0.81-0.01-0.03 0.61\n",
      "\n",
      "1: ComplementPOVMEffect with dimension 4\n",
      " 0.61 0.01 0.03-0.61\n",
      "\n",
      "\n",
      "\n",
      "Gxpi2:0 = \n",
      "FullTPOp with shape (4, 4)\n",
      " 1.00   0   0   0\n",
      "   0 0.99 0.03-0.03\n",
      "   0-0.03 0.01-0.98\n",
      "   0-0.03 0.98 0.01\n",
      "\n",
      "\n",
      "Gzpi2:0 = \n",
      "FullTPOp with shape (4, 4)\n",
      " 1.00   0   0   0\n",
      "   0   0-1.00-0.03\n",
      "   0 1.00   0 0.03\n",
      "   0-0.03-0.03 1.00\n",
      "\n",
      "\n",
      "\n",
      "\n"
     ]
    }
   ],
   "source": [
    "# from pygsti.models.gaugegroup import FullGaugeGroup                                                          \n",
    "\n",
    "gauge_optimized_mdl = pygsti.algorithms.gaugeopt_to_target(cptp_estimate_final_model, \n",
    "                                                           target_mdl,\n",
    "                                                           # gauge_group=FullGaugeGroup(1),\n",
    "                                                           item_weights={'Gz': 1.0, 'gates': 0.0, \"spam\": 0.0},\n",
    "                                                           verbosity=3,\n",
    "                                                           tol=10^9,\n",
    ")\n",
    "print(gauge_optimized_mdl)"
   ]
  },
  {
   "cell_type": "code",
   "execution_count": 26,
   "metadata": {},
   "outputs": [],
   "source": [
    "from pygsti.modelpacks import smq1Q_XYZI\n",
    "initial_model = smq1Q_XYZI.target_model()\n",
    "# Change all of initial_model's operations to having a CPTP-constrained parameterization.\n",
    "initial_model.set_all_parameterizations(\"CPTP\")\n",
    "# Replace the CPTP-constrained Z-gate with an always-perfect (0 parameter, \"static\") Z-gate.\n",
    "gate_matrix = initial_model[('Gzpi2',0)].to_dense()"
   ]
  },
  {
   "cell_type": "code",
   "execution_count": 30,
   "metadata": {},
   "outputs": [
    {
     "ename": "AttributeError",
     "evalue": "'ModelEstimateResults' object has no attribute 'edesign'",
     "output_type": "error",
     "traceback": [
      "\u001b[0;31m---------------------------------------------------------------------------\u001b[0m",
      "\u001b[0;31mAttributeError\u001b[0m                            Traceback (most recent call last)",
      "\u001b[1;32m/home/ben/Documents/NEPEC_on_Hardware/PyGSTi_Mitiq/ProcessGSTDataWithGauge.ipynb Cell 15\u001b[0m in \u001b[0;36m<cell line: 3>\u001b[0;34m()\u001b[0m\n\u001b[1;32m      <a href='vscode-notebook-cell:/home/ben/Documents/NEPEC_on_Hardware/PyGSTi_Mitiq/ProcessGSTDataWithGauge.ipynb#X24sZmlsZQ%3D%3D?line=0'>1</a>\u001b[0m initial_model[(\u001b[39m'\u001b[39m\u001b[39mGzpi2\u001b[39m\u001b[39m'\u001b[39m,\u001b[39m0\u001b[39m)] \u001b[39m=\u001b[39m pygsti\u001b[39m.\u001b[39mmodelmembers\u001b[39m.\u001b[39moperations\u001b[39m.\u001b[39mstaticarbitraryop\u001b[39m.\u001b[39mStaticArbitraryOp(gate_matrix)\n\u001b[1;32m      <a href='vscode-notebook-cell:/home/ben/Documents/NEPEC_on_Hardware/PyGSTi_Mitiq/ProcessGSTDataWithGauge.ipynb#X24sZmlsZQ%3D%3D?line=1'>2</a>\u001b[0m \u001b[39m# Run GST (on existing gst_data)\u001b[39;00m\n\u001b[0;32m----> <a href='vscode-notebook-cell:/home/ben/Documents/NEPEC_on_Hardware/PyGSTi_Mitiq/ProcessGSTDataWithGauge.ipynb#X24sZmlsZQ%3D%3D?line=2'>3</a>\u001b[0m results \u001b[39m=\u001b[39m pygsti\u001b[39m.\u001b[39;49mprotocols\u001b[39m.\u001b[39;49mGST(initial_model, gaugeopt_suite\u001b[39m=\u001b[39;49m\u001b[39mNone\u001b[39;49;00m)\u001b[39m.\u001b[39;49mrun(results)\n",
      "File \u001b[0;32m~/.local/lib/python3.10/site-packages/pygsti/protocols/gst.py:1181\u001b[0m, in \u001b[0;36mGateSetTomography.run\u001b[0;34m(self, data, memlimit, comm)\u001b[0m\n\u001b[1;32m   1178\u001b[0m \u001b[39mif\u001b[39;00m _tools\u001b[39m.\u001b[39msharedmemtools\u001b[39m.\u001b[39mshared_mem_is_enabled():  \u001b[39m# enable use of shared memory\u001b[39;00m\n\u001b[1;32m   1179\u001b[0m     resource_alloc\u001b[39m.\u001b[39mbuild_hostcomms()  \u001b[39m# signals that we want to use shared intra-host memory\u001b[39;00m\n\u001b[0;32m-> 1181\u001b[0m circuit_lists \u001b[39m=\u001b[39m data\u001b[39m.\u001b[39;49medesign\u001b[39m.\u001b[39mcircuit_lists\n\u001b[1;32m   1182\u001b[0m aliases \u001b[39m=\u001b[39m circuit_lists[\u001b[39m-\u001b[39m\u001b[39m1\u001b[39m]\u001b[39m.\u001b[39mop_label_aliases \u001b[39mif\u001b[39;00m \u001b[39misinstance\u001b[39m(circuit_lists[\u001b[39m-\u001b[39m\u001b[39m1\u001b[39m], _CircuitList) \u001b[39melse\u001b[39;00m \u001b[39mNone\u001b[39;00m\n\u001b[1;32m   1183\u001b[0m ds \u001b[39m=\u001b[39m data\u001b[39m.\u001b[39mdataset\n",
      "\u001b[0;31mAttributeError\u001b[0m: 'ModelEstimateResults' object has no attribute 'edesign'"
     ]
    }
   ],
   "source": [
    "\n",
    "initial_model[('Gzpi2',0)] = pygsti.modelmembers.operations.staticarbitraryop.StaticArbitraryOp(gate_matrix)\n",
    "# Run GST (on existing gst_data)\n",
    "results = pygsti.protocols.GST(initial_model, gaugeopt_suite=None).run(results)"
   ]
  },
  {
   "cell_type": "code",
   "execution_count": 69,
   "metadata": {},
   "outputs": [
    {
     "data": {
      "text/plain": [
       "True"
      ]
     },
     "execution_count": 69,
     "metadata": {},
     "output_type": "execute_result"
    }
   ],
   "source": [
    "import numpy as np\n",
    "\n",
    "before = cptp_estimate_final_model.operations[('Gzpi2',0)]\n",
    "after = gauge_optimized_mdl.operations[('Gzpi2',0)]\n",
    "\n",
    "np.allclose(before, after)"
   ]
  },
  {
   "cell_type": "markdown",
   "metadata": {},
   "source": [
    "## Save data"
   ]
  },
  {
   "cell_type": "code",
   "execution_count": null,
   "metadata": {},
   "outputs": [],
   "source": [
    "# Convert operator transfer matrix to superoperator\n",
    "superop_rep_x = pauli_liouville2superop(cptp_estimate_final_model.operations[('Gxpi2',0)])\n",
    "superop_rep_z = pauli_liouville2superop(cptp_estimate_final_model.operations[('Gzpi2',0)])\n",
    "\n",
    "# Pickle them to pass them to Mitiq_representation notebook to be used for PEC\n",
    "with open(\"experiment_data/XZ.superop\", \"wb\") as f:\n",
    "    pickle.dump([superop_rep_x,superop_rep_z],f)"
   ]
  }
 ],
 "metadata": {
  "kernelspec": {
   "display_name": "Python 3",
   "language": "python",
   "name": "python3"
  },
  "language_info": {
   "codemirror_mode": {
    "name": "ipython",
    "version": 3
   },
   "file_extension": ".py",
   "mimetype": "text/x-python",
   "name": "python",
   "nbconvert_exporter": "python",
   "pygments_lexer": "ipython3",
   "version": "3.10.4"
  },
  "vscode": {
   "interpreter": {
    "hash": "d4803144e0ca2433cbbdbc82809c7bf0c6dd86d5d16291a48205e2d911513c87"
   }
  }
 },
 "nbformat": 4,
 "nbformat_minor": 4
}
