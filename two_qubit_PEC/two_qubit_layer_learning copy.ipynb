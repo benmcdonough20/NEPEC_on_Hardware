{
 "cells": [
  {
   "cell_type": "code",
   "execution_count": 384,
   "metadata": {},
   "outputs": [],
   "source": [
    "from qiskit import QuantumCircuit, transpile\n",
    "from qiskit.quantum_info import Pauli, pauli_basis, SuperOp, PTM, Operator\n",
    "from qiskit.circuit.library import CXGate, CZGate, HGate, SGate, SdgGate\n",
    "from random import choice, choices\n",
    "from itertools import product, permutations, cycle\n",
    "from scipy.optimize import curve_fit, nnls\n",
    "from matplotlib import pyplot as plt\n",
    "import numpy as np\n",
    "from qiskit.providers.aer.noise import NoiseModel\n",
    "from qiskit.providers.fake_provider import FakeVigoV2\n",
    "from typing import List, Tuple, Dict\n",
    "from qiskit.providers.backend import Backend, BackendV1, BackendV2\n",
    "from sympy import singularities\n",
    "\n",
    "plt.rcParams[\"figure.figsize\"] = (6.4,4.0)"
   ]
  },
  {
   "cell_type": "code",
   "execution_count": 385,
   "metadata": {},
   "outputs": [],
   "source": [
    "from collections import namedtuple\n",
    "\n",
    "QUBIT = int\n",
    "DOUBLE_GATE = 2\n",
    "SINGLE_GATE = 1\n",
    "NUM_BASES = 9\n",
    "Layer = namedtuple(\"Layer\", ['layer_qubits','two_qubit_gates','single_qubit_gates'])\n",
    "\n",
    "layer = [0,1]\n",
    "n = len(layer)\n",
    "two_qubit_gates = [('cx',(0,1))]\n",
    "single_qubit_gates = []\n",
    "backend = FakeVigoV2()\n",
    "\n",
    "unmap = lambda i: layer.index(i)\n",
    "two_qubit_gates = [(gate,tuple(unmap(s) for s in support)) for gate,support in two_qubit_gates]\n",
    "single_qubit_gates = [unmap(q) for q in single_qubit_gates]"
   ]
  },
  {
   "cell_type": "code",
   "execution_count": 386,
   "metadata": {},
   "outputs": [],
   "source": [
    "coupling_map = [(q1, q2) for q1,q2 in backend.coupling_map.get_edges() if q1 in layer and q2 in layer]\n",
    "\n",
    "#remap qubits so that layer is sequential\n",
    "verts = [unmap(qubit) for qubit in layer]\n",
    "edges = [(unmap(qubit1), unmap(qubit2)) for qubit1,qubit2 in coupling_map]\n",
    "\n",
    "#adjacency matrix has a 1 at i,j if i and j are connected, 0 otherwise\n",
    "adjacency_matrix = [[0 for i in verts] for j in verts] \n",
    "for (vert1,vert2) in edges:\n",
    "    adjacency_matrix[vert1][vert2] = 1\n",
    "    adjacency_matrix[vert2][vert1] = 1"
   ]
  },
  {
   "cell_type": "code",
   "execution_count": 387,
   "metadata": {},
   "outputs": [],
   "source": [
    "bases = [['I']*n for i in range(NUM_BASES)]\n",
    "remaining = list(verts) \n",
    "\n",
    "while remaining:\n",
    "    vertex = remaining.pop(0)\n",
    "    #copied from Fig. S3 in van den Berg\n",
    "    orderings = {\"XXXYYYZZZ\":\"XYZXYZXYZ\",\n",
    "                        \"XXXYYZZZY\":\"XYZXYZXYZ\",\n",
    "                        \"XXYYYZZZX\":\"XYZXYZXYZ\",\n",
    "                        \"XXZYYZXYZ\":\"XYZXZYZYX\",\n",
    "                        \"XYZXYZXYZ\":\"XYZZXYYZX\"}\n",
    "    children = [i for i,e in enumerate(adjacency_matrix[vertex]) if e == 1]\n",
    "    predecessors = [c for c in children if c not in remaining]\n",
    "\n",
    "    match len(predecessors):\n",
    "        #trivial if no predecessors\n",
    "        case 0:\n",
    "            cycp = cycle(\"XYZ\")\n",
    "            for i,_ in enumerate(bases):\n",
    "                bases[i][vertex] = next(cycp)\n",
    "        #Choose p1:\"XXXYYYZZZ\" and p2:\"XYZXYZXYZ\" if one predecessor\n",
    "        case 1:\n",
    "            pred = predecessors[0]\n",
    "            #store permutation of indices so that predecessor has X,X,X,Y,Y,Y,Z,Z,Z\n",
    "            bases = list(zip(*sorted(zip([p[pred] for p in bases], bases))))[1]\n",
    "            cycp = cycle(\"XYZ\")\n",
    "            for i,_ in enumerate(bases):\n",
    "                bases[i][vertex] = next(cycp)\n",
    "        case 2:\n",
    "            pred0,pred1 = predecessors\n",
    "            bases = list(zip(*sorted(zip([p[pred0] for p in bases], bases))))[1]\n",
    "            #list out string with permuted values of predecessor 2\n",
    "            substr = [p[pred0] for p in bases]\n",
    "            #match predecessor two with a permutation of example_orderings\n",
    "            reordering = \"\"\n",
    "            for perm in permutations(\"XYZ\"):\n",
    "                p_substr = \"\".join([\"XYZ\"[perm.index(p)] for p in p_substr])\n",
    "                if p_substr in orderings:\n",
    "                    current = orderings[p_substr] \n",
    "                    for i,p in enumerate(current):\n",
    "                        bases[i][vertex] = p\n",
    "                    break\n",
    "        case _: #processor needs to have connectivity so that there are <= 2 predecessors\n",
    "            raise Exception(\"Three or more predecessors encountered\")\n",
    "\n",
    "bases = [Pauli(\"\".join(string[::-1])) for string in bases]"
   ]
  },
  {
   "cell_type": "code",
   "execution_count": 388,
   "metadata": {},
   "outputs": [],
   "source": [
    "model_terms = set()\n",
    "identity = Pauli(\"I\"*n)    \n",
    "\n",
    "#get all single-weight paulis\n",
    "for i in range(n):\n",
    "    for op in pauli_basis(1, pauli_list = True):\n",
    "        pauli = identity.copy()\n",
    "        pauli[i] = op\n",
    "        model_terms.add(pauli)\n",
    "        \n",
    "#get all weight-two paulis on with suport on nieghboring qubits\n",
    "for vert1,link in enumerate(adjacency_matrix):\n",
    "    for vert2,val in enumerate(link[:vert1]):\n",
    "        if val == 1:\n",
    "            for p1, p2 in pauli_basis(2, pauli_list = True):\n",
    "                pauli = identity.copy()\n",
    "                pauli[vert1] = p1\n",
    "                pauli[vert2] = p2\n",
    "                model_terms.add(pauli)\n",
    "\n",
    "model_terms.remove(identity)\n",
    "model_terms = list(model_terms)"
   ]
  },
  {
   "cell_type": "code",
   "execution_count": 389,
   "metadata": {},
   "outputs": [],
   "source": [
    "#remove the phase from a Pauli\n",
    "def nophase(pauli):\n",
    "    return Pauli((pauli.z, pauli.x))\n",
    "\n",
    "#given a pauli matrix, get the corresponding name (in terms of I,X,Y,Z)\n",
    "def get_name(pauli):\n",
    "    for p in pauli_group:\n",
    "        if Operator(p).equiv(Operator(pauli)):\n",
    "            return p\n",
    "\n",
    "#conjugate a pauli with a clifford\n",
    "def conjugate(p, c):\n",
    "    return nophase(Pauli(get_name(c @ p.to_matrix() @ np.conjugate(np.transpose(c)))))\n",
    "\n",
    "conjugation = {'cx':{}, 'cz':{}}\n",
    "pauli_group = pauli_basis(2, pauli_list = True)\n",
    "gates = [('cx',CXGate()), ('cz', CZGate())]\n",
    "for p,(g_name, g) in product(pauli_group, gates):\n",
    "    conjugation[g_name][p] = conjugate(p, g.to_matrix())"
   ]
  },
  {
   "cell_type": "code",
   "execution_count": 390,
   "metadata": {},
   "outputs": [],
   "source": [
    "def commute_layer(pauli, two_qubit_gates):\n",
    "    p_prime = pauli.copy()\n",
    "    for (gate,support) in two_qubit_gates:\n",
    "        p = nophase(p_prime[support[1]].tensor(p_prime[support[0]]))\n",
    "        pp = conjugation[gate][p]\n",
    "        for i,s in enumerate(support):\n",
    "            p_prime[s] = pp[i]\n",
    "    return nophase(p_prime)\n",
    "\n",
    "pairs = [(p,commute_layer(p, two_qubit_gates)) for p in model_terms]"
   ]
  },
  {
   "cell_type": "code",
   "execution_count": 424,
   "metadata": {},
   "outputs": [],
   "source": [
    "def instance( \n",
    "    prep_basis : Pauli, \n",
    "    meas_basis : Pauli, \n",
    "    noise_repetitions : int, \n",
    "    transpiled=True):\n",
    "\n",
    "    circ = QuantumCircuit(n,n) #storing the final circuit\n",
    "\n",
    "    #get preparation ops from desired basis \n",
    "    def prep(basis, qubit, qc):\n",
    "        if basis.equiv(Pauli(\"X\")):\n",
    "            qc.h(qubit) \n",
    "        elif basis.equiv(Pauli(\"Y\")):\n",
    "            qc.h(qubit)\n",
    "            qc.s(qubit)\n",
    "\n",
    "    #apply operators to a quantum circuit to measure in desired pauli basis\n",
    "    def meas(basis, qubit, qc):\n",
    "        if basis.equiv(Pauli(\"X\")):\n",
    "            qc.h(qubit)\n",
    "        elif basis.equiv(Pauli(\"Y\")):\n",
    "            qc.sdg(qubit)\n",
    "            qc.h(qubit)\n",
    "\n",
    "    #apply a two-qubit gate to the circuit\n",
    "    def apply_gate(two_qubit_gate, qc):\n",
    "        gate,support = two_qubit_gate\n",
    "        if gate == 'cx':\n",
    "            qc.cx(*support)\n",
    "        if gate == 'cz':\n",
    "            qc.cz(*support)\n",
    "    \n",
    "    pauli_frame = choice(pauli_basis(n, pauli_list = True))\n",
    "\n",
    "    #apply the prep and twirling operators to the circuit\n",
    "    for qubit,(p,b) in enumerate(zip(pauli_frame,prep_basis)):\n",
    "        prep(b,qubit,circ)\n",
    "        circ.append(p, [qubit])\n",
    "    \n",
    "    if noise_repetitions > 0:\n",
    "        for gate in two_qubit_gates:\n",
    "            apply_gate(gate, circ)\n",
    "        pauli_frame = commute_layer(pauli_frame, two_qubit_gates)\n",
    "\n",
    "    #apply repetitions of noise, including basis-change gates when needed\n",
    "    for i in range(noise_repetitions-1):\n",
    "        twirl = choice(pauli_basis(n, pauli_list = True))\n",
    "        for i,p in enumerate(twirl):\n",
    "            circ.append(p,[i])\n",
    "\n",
    "        pauli_frame = nophase(pauli_frame.compose(twirl))\n",
    "        pauli_frame = commute_layer(pauli_frame, two_qubit_gates)\n",
    "        for gate in two_qubit_gates:\n",
    "            apply_gate(gate, circ)\n",
    "\n",
    "        circ.barrier()\n",
    "\n",
    "    #choose sstring of bit flips for readout twirling\n",
    "    rostring = \"\".join(choices(['I','X'], k=n))\n",
    "\n",
    "    for q,(p,b,r) in enumerate(zip(pauli_frame, meas_basis, rostring)):\n",
    "        circ.append(p, [q])\n",
    "        meas(b, q, circ)\n",
    "        if r == \"X\":\n",
    "            circ.x(q)\n",
    "\n",
    "    circ.barrier()\n",
    "\n",
    "    if transpiled:\n",
    "        circ = transpile(circ, backend, initial_layout = layer, optimization_level = 1)\n",
    "        for i,q in enumerate(layer):\n",
    "            circ.measure(q,i)\n",
    "    else:\n",
    "        for i in range(n):\n",
    "            circ.measure(i,i)\n",
    "\n",
    "    return circ, {\n",
    "        \"prep_basis\":prep_basis,\n",
    "            \"meas_basis\":meas_basis, \n",
    "            \"depth\":noise_repetitions, \n",
    "            \"rostring\":rostring[::-1],\n",
    "            }"
   ]
  },
  {
   "cell_type": "code",
   "execution_count": 435,
   "metadata": {},
   "outputs": [],
   "source": [
    "def get_expectation(measurement, **metadata):\n",
    "        total = 0\n",
    "        counts = metadata['counts']\n",
    "        pauli_weight = list(reversed([{Pauli(\"I\"):'0'}.get(p,'1') for p in measurement]))\n",
    "        rostring = metadata['rostring']\n",
    "        for key in counts.keys():\n",
    "            ro_adjusted = [{'0':'1','1':'0'}[bit] if flip==\"X\" else bit for bit,flip in zip(key,rostring)]\n",
    "            sgn = sum([{('1','1'):1}.get((pauli_bit, key_bit), 0) for pauli_bit, key_bit in zip(pauli_weight, ro_adjusted)])\n",
    "            total += (-1)**sgn*counts[key]\n",
    "        return total/sum(counts.values())"
   ]
  },
  {
   "cell_type": "code",
   "execution_count": 436,
   "metadata": {},
   "outputs": [],
   "source": [
    "from qiskit.providers.aer import Aer, AerSimulator\n",
    "sim = Aer.get_backend('qasm_simulator')"
   ]
  },
  {
   "cell_type": "code",
   "execution_count": 437,
   "metadata": {},
   "outputs": [],
   "source": [
    "from qiskit.providers.aer.noise import pauli_error\n",
    "from random import random\n",
    "\n",
    "errorgen = 4\n",
    "p_single = .005\n",
    "errorops = choices(pauli_basis(2, pauli_list = True), k=errorgen)\n",
    "errorprobs = [random()*.05/errorgen for op in errorops]\n",
    "twoqubit_error = pauli_error([(op, p) for op,p in zip(errorops, errorprobs)]+[(Pauli(\"II\"), 1-sum(errorprobs))])\n",
    "noise_model = NoiseModel()\n",
    "noise_model.add_all_qubit_quantum_error(twoqubit_error, ['cx','cz'])\n",
    "singlequbit_error = pauli_error([(Pauli(\"X\"), p_single), (Pauli(\"Y\"), p_single), (Pauli(\"Z\"), p_single),(Pauli(\"I\"), 1-3*p_single)])\n",
    "noise_model.add_all_qubit_quantum_error(singlequbit_error, ['id','x','y','z'])"
   ]
  },
  {
   "cell_type": "code",
   "execution_count": 438,
   "metadata": {},
   "outputs": [
    {
     "data": {
      "image/png": "[encoded data removed]",
      "text/plain": [
       "<Figure size 1440x396 with 1 Axes>"
      ]
     },
     "metadata": {
      "needs_background": "light"
     },
     "output_type": "display_data"
    }
   ],
   "source": [
    "\n",
    "real_errors = {}\n",
    "q2_transfer = PTM(twoqubit_error.to_quantumchannel())\n",
    "q1_transfer = PTM(singlequbit_error.to_quantumchannel())\n",
    "transfer_matrix = q1_transfer.tensor(q1_transfer).compose(q2_transfer).data\n",
    "for i,pauli in enumerate(pauli_basis(2, pauli_list = True)):\n",
    "    real_errors[pauli] = transfer_matrix[i][i]\n",
    "    plt.bar(pauli.to_label(), 10*(1-transfer_matrix[i][i]).real)"
   ]
  },
  {
   "cell_type": "code",
   "execution_count": 439,
   "metadata": {},
   "outputs": [
    {
     "name": "stdout",
     "output_type": "stream",
     "text": [
      "32 31\r"
     ]
    }
   ],
   "source": [
    "depths = [0,2,4,8,16,32]\n",
    "results = []\n",
    "samples = 32\n",
    "for d in depths:\n",
    "    result = 0\n",
    "    for t in range(samples):\n",
    "        circ, metadata = instance(Pauli(\"XZ\"), Pauli(\"XZ\"),d,transpiled=False)\n",
    "        counts = sim.run(circ, shots = 1000, noise_model = noise_model).result().get_counts()\n",
    "        result += get_expectation(Pauli(\"XZ\"), counts = counts, rostring = metadata['rostring'])\n",
    "        print(d,t, end='\\r')\n",
    "    results.append(result/samples)"
   ]
  },
  {
   "cell_type": "code",
   "execution_count": 440,
   "metadata": {},
   "outputs": [],
   "source": [
    "from scipy.optimize import curve_fit\n",
    "expfit = lambda x,a,b: a*np.exp(-b*x)\n",
    "popt, pcov = curve_fit(expfit, depths, results, p0=[.9,.01])"
   ]
  },
  {
   "cell_type": "code",
   "execution_count": 441,
   "metadata": {},
   "outputs": [
    {
     "data": {
      "text/plain": [
       "[<matplotlib.lines.Line2D at 0x7fd889ef8220>]"
      ]
     },
     "execution_count": 441,
     "metadata": {},
     "output_type": "execute_result"
    },
    {
     "data": {
      "image/png": "[encoded data removed]",
      "text/plain": [
       "<Figure size 1440x396 with 1 Axes>"
      ]
     },
     "metadata": {
      "needs_background": "light"
     },
     "output_type": "display_data"
    }
   ],
   "source": [
    "xrange = np.linspace(0,np.max(depths),100)\n",
    "plt.plot(depths,results, \"X\")\n",
    "plt.plot(xrange,[expfit(x,*popt) for x in xrange])"
   ]
  },
  {
   "cell_type": "code",
   "execution_count": 442,
   "metadata": {},
   "outputs": [],
   "source": [
    "from numpy import single\n",
    "\n",
    "\n",
    "def weight(pauli):\n",
    "    return len([p for p in pauli if not p==Pauli(\"I\")])\n",
    "    \n",
    "single_measurements = [(p1,p2) for (p1,p2) in pairs if p1 != p2 and weight(p1) == 1]\n",
    "single_measurements += list(set([frozenset([p1,p2]) for p1,p2 in pairs if p1 != p2 and weight(p1) == 2 and weight(p2) == 2]))\n",
    "single_measurements = [list(s) for s in single_measurements]"
   ]
  },
  {
   "cell_type": "code",
   "execution_count": 443,
   "metadata": {},
   "outputs": [
    {
     "name": "stdout",
     "output_type": "stream",
     "text": [
      "2940 / 2940\r"
     ]
    }
   ],
   "source": [
    "circuits = []\n",
    "metadatas = []\n",
    "depths = [0,2,4,8,16,32]\n",
    "samples = [100]+[32]*5\n",
    "single_samples = 100\n",
    "total = len(bases)*sum(samples)+len(single_measurements)*single_samples\n",
    "\n",
    "j=0\n",
    "for basis, (d,s) in product(bases, zip(depths,samples)):\n",
    "\n",
    "    for i in range(s):\n",
    "        circ, data = instance(\n",
    "            basis, \n",
    "            basis, \n",
    "            d, \n",
    "            transpiled = False\n",
    "            )\n",
    "\n",
    "        j+=1\n",
    "        print(j,\"/\",total, end='\\r')\n",
    "        circuits.append(circ)\n",
    "        metadatas.append(dict(**data, type = \"double\"))\n",
    "\n",
    "for (pauli, pair), s in product(single_measurements, range(single_samples)):\n",
    "\n",
    "    circ, data = instance(\n",
    "        pair,\n",
    "        pauli,\n",
    "        1,\n",
    "        transpiled = False\n",
    "    )\n",
    "    j+=1\n",
    "    print(j,\"/\",total, end='\\r')\n",
    "    circuits.append(circ)\n",
    "    metadatas.append({\"type\":\"single\", **data})"
   ]
  },
  {
   "cell_type": "code",
   "execution_count": 444,
   "metadata": {},
   "outputs": [],
   "source": [
    "results = sim.run(circuits, shots=250, noise_model = noise_model).result().get_counts()"
   ]
  },
  {
   "cell_type": "code",
   "execution_count": 445,
   "metadata": {},
   "outputs": [],
   "source": [
    "def simultaneous_measurements(pauli):\n",
    "    label = pauli.to_label()\n",
    "    identity = \"I\"*n\n",
    "    combos = zip(identity,label)\n",
    "    sim_meas = []\n",
    "    for pauli_string in product(*combos):\n",
    "        sim_meas.append(Pauli(\"\".join(pauli_string)))\n",
    "    sim_meas.pop(0)\n",
    "    return sim_meas"
   ]
  },
  {
   "cell_type": "code",
   "execution_count": 457,
   "metadata": {},
   "outputs": [],
   "source": [
    "#Sort into single and double measurements\n",
    "results_dict = [{**metadata, \"counts\":count} for metadata,count in zip(metadatas,results)]\n",
    "singles = []\n",
    "doubles = []\n",
    "for datum in results_dict:\n",
    "    type = datum[\"type\"]\n",
    "    datum.pop(\"type\")\n",
    "    if type == \"single\":\n",
    "        singles.append(datum)\n",
    "    elif type == \"double\":\n",
    "        doubles.append(datum)\n",
    "\n",
    "#reorder by measurement basis\n",
    "basis_dict = {}\n",
    "for datum in doubles:\n",
    "    basis = datum['prep_basis']\n",
    "    depth = datum['depth']\n",
    "    for pauli in simultaneous_measurements(basis):\n",
    "        expectation = get_expectation(pauli, **datum)\n",
    "        if not pauli in basis_dict:\n",
    "            basis_dict[pauli] = {\"expectation\":[0 for d in depths], \"total\":[0 for d in depths]}\n",
    "        basis_dict[pauli][\"expectation\"][depths.index(depth)] += expectation\n",
    "        basis_dict[pauli][\"total\"][depths.index(depth)] += 1\n",
    "\n",
    "for key in basis_dict.keys():\n",
    "    for i,d in enumerate(depths):\n",
    "        basis_dict[key][\"expectation\"][i] /= basis_dict[key][\"total\"][i]\n",
    "    popt, pcov = curve_fit(expfit, depths, basis_dict[key][\"expectation\"], p0=[.9,.01])\n",
    "    basis_dict[key][\"fidelity\"] = expfit(1,1,popt[1])\n",
    "\n",
    "    if key != commute_layer(key, two_qubit_gates):\n",
    "        basis_dict[key][\"type\"] = \"pair\"\n",
    "    else:\n",
    "        basis_dict[key][\"type\"] = \"single\"\n",
    "\n",
    "singles_dict = {}\n",
    "\n",
    "for datum in singles:\n",
    "    counts = datum['counts']\n",
    "    prep_basis = datum['prep_basis']\n",
    "    meas_basis = datum['meas_basis']\n",
    "\n",
    "    if meas_basis not in singles_dict:\n",
    "        singles_dict[meas_basis] = 0\n",
    "\n",
    "    expectation = get_expectation(meas_basis, **datum)\n",
    "    fidelity = np.min([1.0,np.abs(expectation)/basis_dict[meas_basis]['expectation'][0]])\n",
    "    singles_dict[meas_basis] += fidelity/single_samples\n",
    "\n",
    "for key in singles_dict.keys():\n",
    "    basis_dict[key]['fidelity'] = singles_dict[key]\n",
    "    basis_dict[key]['type'] = \"single\""
   ]
  },
  {
   "cell_type": "code",
   "execution_count": 447,
   "metadata": {},
   "outputs": [],
   "source": [
    "def graph(*paulis):\n",
    "    colcy = cycle(\"rgbcmk\")\n",
    "    for p in paulis:\n",
    "        c = next(colcy)\n",
    "        data = basis_dict[p]['expectation']\n",
    "        popt, pcov = curve_fit(expfit, depths, data, p0=[.9,.01])\n",
    "        xrange = np.linspace(0,np.max(depths))\n",
    "        plt.plot(depths, data, c+\"X\")\n",
    "        plt.plot(xrange, [expfit(x, *popt) for x in xrange], c)\n",
    "\n",
    "def display(*paulis):\n",
    "    ax = np.arange(len(paulis))\n",
    "    fidelities = []\n",
    "    fidelities_calculated = []\n",
    "    for p in paulis:\n",
    "        fid = basis_dict[p]['fidelity']\n",
    "        if(basis_dict[p]['type'] == 'pair'):\n",
    "            pair = commute_layer(p, two_qubit_gates)\n",
    "            fid = fid**2/basis_dict[pair]['fidelity']\n",
    "        fidelities.append(fid)\n",
    "        fidelities_calculated.append(real_errors[p])\n",
    "    plt.bar(ax+.2, [10*(1-f) for f in fidelities], .4,color='b')\n",
    "    plt.bar(ax-.2, [10*(1-f) for f in fidelities_calculated],.4, color='r')\n",
    "    plt.xticks(ax, paulis)"
   ]
  },
  {
   "cell_type": "code",
   "execution_count": 448,
   "metadata": {},
   "outputs": [
    {
     "data": {
      "text/plain": [
       "[(Pauli('ZY'), Pauli('YX')),\n",
       " (Pauli('YY'), Pauli('ZX')),\n",
       " (Pauli('XY'), Pauli('IY')),\n",
       " (Pauli('ZI'), Pauli('ZZ')),\n",
       " (Pauli('IY'), Pauli('XY')),\n",
       " (Pauli('XI'), Pauli('XI')),\n",
       " (Pauli('YZ'), Pauli('YI')),\n",
       " (Pauli('XX'), Pauli('IX')),\n",
       " (Pauli('IZ'), Pauli('IZ')),\n",
       " (Pauli('IX'), Pauli('XX')),\n",
       " (Pauli('ZZ'), Pauli('ZI')),\n",
       " (Pauli('YX'), Pauli('ZY')),\n",
       " (Pauli('XZ'), Pauli('XZ')),\n",
       " (Pauli('YI'), Pauli('YZ')),\n",
       " (Pauli('ZX'), Pauli('YY'))]"
      ]
     },
     "execution_count": 448,
     "metadata": {},
     "output_type": "execute_result"
    }
   ],
   "source": [
    "pairs"
   ]
  },
  {
   "cell_type": "code",
   "execution_count": 458,
   "metadata": {},
   "outputs": [
    {
     "name": "stderr",
     "output_type": "stream",
     "text": [
      "/home/ben/.local/lib/python3.10/site-packages/matplotlib/transforms.py:775: ComplexWarning: Casting complex values to real discards the imaginary part\n",
      "  points = np.asarray(points, float)\n"
     ]
    },
    {
     "data": {
      "image/png": "[encoded data removed]",
      "text/plain": [
       "<Figure size 1440x396 with 1 Axes>"
      ]
     },
     "metadata": {
      "needs_background": "light"
     },
     "output_type": "display_data"
    }
   ],
   "source": [
    "display(*model_terms)"
   ]
  },
  {
   "cell_type": "code",
   "execution_count": 450,
   "metadata": {},
   "outputs": [
    {
     "data": {
      "image/png": "[encoded data removed]",
      "text/plain": [
       "<Figure size 1440x396 with 1 Axes>"
      ]
     },
     "metadata": {
      "needs_background": "light"
     },
     "output_type": "display_data"
    }
   ],
   "source": [
    "graph(Pauli(\"ZX\"))"
   ]
  },
  {
   "cell_type": "code",
   "execution_count": 451,
   "metadata": {},
   "outputs": [
    {
     "data": {
      "text/plain": [
       "{'expectation': [0.9012800000000005,\n",
       "  0.8080000000000002,\n",
       "  0.7115000000000002,\n",
       "  0.5429999999999999,\n",
       "  0.29175000000000006,\n",
       "  0.10375000000000004],\n",
       " 'total': [100, 32, 32, 32, 32, 32],\n",
       " 'fidelity': 0.9633469279191416,\n",
       " 'type': 'single'}"
      ]
     },
     "execution_count": 451,
     "metadata": {},
     "output_type": "execute_result"
    }
   ],
   "source": [
    "basis_dict[Pauli(\"YY\")]"
   ]
  },
  {
   "cell_type": "code",
   "execution_count": 452,
   "metadata": {},
   "outputs": [],
   "source": [
    "F1 = []\n",
    "F2 = []\n",
    "fidelities = []\n",
    "for key in model_terms:\n",
    "    F1.append(key)\n",
    "    fidelities.append(basis_dict[key]['fidelity'])\n",
    "    if basis_dict[key][\"type\"] == \"pair\":\n",
    "        pair = commute_layer(key, two_qubit_gates)\n",
    "        F2.append(pair)\n",
    "    else:\n",
    "        F2.append(Pauli(\"I\"*n))"
   ]
  },
  {
   "cell_type": "code",
   "execution_count": 453,
   "metadata": {},
   "outputs": [],
   "source": [
    "sprod = lambda a,b: int(a.anticommutes(b))\n",
    "M1 = [[sprod(a,b) for a in model_terms] for b in F1]\n",
    "M2 = [[sprod(a,b) for a in model_terms] for b in F2]"
   ]
  },
  {
   "cell_type": "code",
   "execution_count": 454,
   "metadata": {},
   "outputs": [
    {
     "data": {
      "text/plain": [
       "True"
      ]
     },
     "execution_count": 454,
     "metadata": {},
     "output_type": "execute_result"
    }
   ],
   "source": [
    "np.linalg.matrix_rank(np.add(M1,M2)) == len(model_terms)"
   ]
  },
  {
   "cell_type": "code",
   "execution_count": 455,
   "metadata": {},
   "outputs": [],
   "source": [
    "import scipy as sc\n",
    "coeffs,rnorm = sc.optimize.nnls(np.add(M1,M2), -np.log(fidelities))"
   ]
  },
  {
   "cell_type": "code",
   "execution_count": 456,
   "metadata": {},
   "outputs": [
    {
     "data": {
      "image/png": "[encoded data removed]",
      "text/plain": [
       "<Figure size 1440x396 with 1 Axes>"
      ]
     },
     "metadata": {
      "needs_background": "light"
     },
     "output_type": "display_data"
    }
   ],
   "source": [
    "plt.rcParams[\"figure.figsize\"] = (20,5.5)\n",
    "for coeff,term in zip(coeffs, model_terms):\n",
    "        plt.bar(term.to_label(), coeff, color='b')"
   ]
  }
 ],
 "metadata": {
  "kernelspec": {
   "display_name": "Python 3.10.5 64-bit",
   "language": "python",
   "name": "python3"
  },
  "language_info": {
   "codemirror_mode": {
    "name": "ipython",
    "version": 3
   },
   "file_extension": ".py",
   "mimetype": "text/x-python",
   "name": "python",
   "nbconvert_exporter": "python",
   "pygments_lexer": "ipython3",
   "version": "3.10.5"
  },
  "orig_nbformat": 4,
  "vscode": {
   "interpreter": {
    "hash": "e7370f93d1d0cde622a1f8e1c04877d8463912d04d973331ad4851f04de6915a"
   }
  }
 },
 "nbformat": 4,
 "nbformat_minor": 2
}
