{
 "cells": [
  {
   "cell_type": "code",
   "execution_count": 1,
   "id": "aad0d9ad",
   "metadata": {},
   "outputs": [],
   "source": [
    "from qiskit.quantum_info import Operator, Pauli \n",
    "from qiskit.circuit.library import CXGate, CZGate, HGate, SGate\n",
    "from qiskit import QuantumCircuit, Aer\n",
    "\n",
    "import numpy as np\n",
    "from random import choices\n",
    "from numpy.random import permutation\n",
    "import matplotlib.pyplot as plt\n",
    "from itertools import product"
   ]
  },
  {
   "cell_type": "markdown",
   "id": "a14ddb81",
   "metadata": {},
   "source": [
    "The `operator` class has a lot of nice features. This cell sets up some useful operator-related functions."
   ]
  },
  {
   "cell_type": "code",
   "execution_count": 25,
   "id": "53276b18",
   "metadata": {},
   "outputs": [],
   "source": [
    "#convenient names for common operators\n",
    "I = Operator(np.identity(2))\n",
    "H = Operator(HGate())\n",
    "CX = Operator(CXGate())\n",
    "CZ = Operator(CZGate())\n",
    "X = Operator(Pauli('X'))\n",
    "Y = Operator(Pauli('Y'))\n",
    "Z = Operator(Pauli('Z'))\n",
    "S = Operator(SGate())\n",
    "IH = I.tensor(H)\n",
    "HI = H.tensor(I)\n",
    "\n",
    "#dimension of the system\n",
    "n = 2\n",
    "\n",
    "#iterate through all pauli strings and convert them to operators. indices are a convenient representation of ops\n",
    "names = [\"\".join(str) for str in product(['I', 'X', 'Y','Z'], repeat=n)]\n",
    "paulis = [Operator(Pauli(name)) for name in names]\n",
    "\n",
    "#match pauli names with operators, so pauli_dict[name] = Operator(Pauli(name))\n",
    "pauli_dict = dict(zip(names, paulis))\n",
    "\n",
    "#give this function a pauli matrix and it returns its name if it is on the list, e.g. \"XIYZ\"\n",
    "def get_name(pauli_op):\n",
    "    try:\n",
    "        #iterate through gates and check if they are equivalent up to global phase\n",
    "        return names[min([i for (i,gate) in enumerate(paulis) if pauli_op.equiv(gate)])]\n",
    "    except:\n",
    "        return -1\n",
    "\n",
    "#simplifying conjugating a pauli by a clifford\n",
    "def conjugate(op1, op2):\n",
    "    return op2.compose(op1).compose(op2.adjoint())\n",
    "\n",
    "#get a random pauli of a specified weight\n",
    "def sample_pauli(weight):\n",
    "    if weight > n:\n",
    "        return -1\n",
    "    return pauli_dict[\"\".join(permutation(choices(['X', 'Y','Z'], k=weight)+['I']*(n-weight)))]"
   ]
  },
  {
   "cell_type": "code",
   "execution_count": 6,
   "id": "f7a459c5",
   "metadata": {},
   "outputs": [],
   "source": [
    "from typing import List\n",
    "import networkx as nx\n",
    "\n",
    "'''\n",
    "This class translates an adjacency list of random labels into an adjacency matrix,\n",
    "and provides some utilities for getting information about the connectivity of the processor.\n",
    "Uncommented version in processor_connectivity_tools.py\n",
    "'''\n",
    "class connectivity_map:\n",
    "\n",
    "    def __init__(self, undirected_adjacency_list : List[tuple]):\n",
    "\n",
    "        #For typographical reasons\n",
    "        ual = undirected_adjacency_list\n",
    "        #use set so that no two qubits are mapped twice\n",
    "        qubits_unordered = set()\n",
    "        #add all qubits from adjacency list to\n",
    "        for (qubit1,qubit2) in ual:\n",
    "            qubits_unordered.add(qubit1)\n",
    "            qubits_unordered.add(qubit2)\n",
    "\n",
    "        self.num_qubits = len(qubits_unordered)\n",
    "        self.qubits = range(self.num_qubits) #for iterating\n",
    "        #this dictionary stores the mapping from internal representation to hardware\n",
    "        self.mapping = {i:qubit for (i,qubit) in enumerate(qubits_unordered)} #mapping from internal to hardware\n",
    "        self.reverse_mapping = {v:i for (i,v) in self.mapping.items()} #mapping from hardware to internal\n",
    "        self.mapped_adjacency_list = undirected_adjacency_list #hardware mapping\n",
    "        #internal mapping\n",
    "        self.unmapped_adjacency_list = [(self.reverse_mapping[qubit1], self.reverse_mapping[qubit2]) for (qubit1, qubit2) in ual]\n",
    "        self.adjacency_matrix = [[] for i in self.qubits] #initialize adjacency matrix\n",
    "        #change adjacency list to matrix\n",
    "        for (qubit1,qubit2) in self.unmapped_adjacency_list:\n",
    "            self.adjacency_matrix[qubit1].append(qubit2)\n",
    "            self.adjacency_matrix[qubit2].append(qubit1)\n",
    "    \n",
    "    #a recursive internal method to find chains. Method has side effects but no return value\n",
    "    def _get_chain(self, qubit : int, depth : int, prev_chain : List[int], chains : List[tuple]) -> None:\n",
    "        if depth==0: #add chain as tuple and terminate\n",
    "            chains.append(tuple(prev_chain)) \n",
    "            return\n",
    "\n",
    "        #create new chain and add each child of current node\n",
    "        for child in self.adjacency_matrix[qubit]:\n",
    "            chain = prev_chain.copy() #copy old chain\n",
    "            if not child in chain: #add child unless there is a loop\n",
    "                #add child to chain and continue recursively\n",
    "                chain.append(child)\n",
    "                self._get_chain(child,depth-1, chain, chains)\n",
    "\n",
    "    #this method returns all chains of adjacent qubits in the processor\n",
    "    def get_chains(self, chain_length : int) -> List[tuple]:\n",
    "        #although it could make sense to use a set, tuples are ordered and sets are unhashable\n",
    "        chains = []\n",
    "        #start recursion at every qubit\n",
    "        for qubit in self.qubits:\n",
    "            chain = [qubit]\n",
    "            self._get_chain(qubit, chain_length-1, chain, chains)\n",
    "\n",
    "        #remove any duplicate chains equal up to permutation\n",
    "        i = 0\n",
    "        N = len(chains) #will decrease as chains are removed\n",
    "        while i < N:\n",
    "            #log redundant chains for removal\n",
    "            chains_to_remove = []\n",
    "\n",
    "            #check all chains greater than i\n",
    "            for j in range(i+1,N):\n",
    "                if all(elem in chains[i] for elem in chains[j]): #check if chains are equal up to permutation\n",
    "                    chains_to_remove.append(chains[j])\n",
    "            #remove chains\n",
    "            for j in chains_to_remove:\n",
    "                chains.remove(j)\n",
    "            #decrease N to reflect new length of set.\n",
    "            #i does not need to be decreased becuause only chains > i are checked\n",
    "            N -= len(chains_to_remove)\n",
    "            i+=1\n",
    "\n",
    "        return chains\n",
    "    \n",
    "    #This method returns all chains of length depth containing qubit\n",
    "    def get_chains_with(self, qubit : int, depth : int) -> List[tuple]:\n",
    "        #create head for recursion\n",
    "        chains = []\n",
    "        chain = [qubit]\n",
    "        #start recursion with current qubit\n",
    "        self._get_chain(qubit, depth, chain, chains)\n",
    "\n",
    "        return chains\n",
    "\n",
    "    #get all qubits that are separated by depth steps from the current qubit\n",
    "    def connections_at_depth(self, qubit : int, depth : int) -> List[int]:\n",
    "        #get the chains originating at qubit and return tail of each\n",
    "        return [connection[-1] for connection in self.get_chains(qubit, depth)]\n",
    "\n",
    "    #get all pairs of qubits that are separated by depth steps\n",
    "    def all_connections_at_depth(self, depth : int) -> List[tuple]:\n",
    "        #get all of the chains of length depth and return first and last elements of each\n",
    "        return[(chain[0], chain[-1]) for chain in self.get_chains(depth+1)]\n",
    "\n",
    "    #create a linear processor of a number of qubits\n",
    "    def linear_proc(num_qubits : int):\n",
    "        #create edges representing linear connectivity\n",
    "        edges = [(i, i+1) for i in range(num_qubits-1)]\n",
    "        return connectivity_map(edges) \n",
    "\n",
    "    #create square processor with side length\n",
    "    def square_proc(side_length : int):\n",
    "        #linear processor, but connect ends for a cycle\n",
    "        edges = [(i, i+1) for i in range((side_length-1)*4-1)]+[((side_length-1)*4-1, 0)]\n",
    "        return connectivity_map(edges)\n",
    "    \n",
    "    #use networkx to display processor as graph\n",
    "    def draw_processor(self) -> None:\n",
    "        G = nx.Graph()\n",
    "        G.add_edges_from(self.mapped_adjacency_list)\n",
    "        nx.draw_networkx(G)\n",
    "        plt.show()\n",
    "\n",
    "    #Visualize a full-rank pauli operator applied to the processor\n",
    "    #useful for verifying the model generation\n",
    "    def draw_pauli(self, str : str) -> None:\n",
    "        G = nx.Graph()\n",
    "        G.add_edges_from(self.mapped_adjacency_list)\n",
    "        pos = nx.spring_layout(G, seed=3113794652)\n",
    "        #create alias labels corresponding to paulis\n",
    "        labels = dict(zip(self.qubits, str))\n",
    "        nx.draw_networkx(G, labels = labels, node_shape = \"d\", node_color = \"w\")\n",
    "        plt.show()\n",
    "    \n",
    "    #return all paulis with support on qubit_group\n",
    "    def benchmark_paulis(self, qubit_group : tuple) -> List[str]:\n",
    "        weight = len(qubit_group)\n",
    "        pauli_list = []\n",
    "        #iterate through all weight-length combinations of nonidentity paulis\n",
    "        for str in product(['X','Y','Z'], repeat = weight):\n",
    "            pauli_str = ['I']*self.num_qubits #initialize all slots to I\n",
    "            for char,qb in zip(str,qubit_group):\n",
    "                pauli_str[qb] = char #apply pauli char to qubit qb\n",
    "            pauli_list.append(\"\".join(pauli_str)) #add pauli string to list\n",
    "\n",
    "        return pauli_list #return list of pauli strings\n",
    "\n",
    "    #run benchmark paulis on all chains of a certain weight\n",
    "    def proc_benchmark_paulis_weight(self, weight : int) -> set:\n",
    "        return set([pauli for group in self.get_chains(weight) for pauli in self.benchmark_paulis(group)])\n",
    "\n",
    "    #run proc_benchmark_paulis_weight for all chains up to max_weight\n",
    "    def proc_benchmark_max_weight(self, max_weight) -> List[str]:\n",
    "        benchmark_paulis = set()\n",
    "        for weight in range(1,max_weight+1):\n",
    "            benchmark_paulis = benchmark_paulis.union(self.proc_benchmark_paulis_weight(weight))\n",
    "        return list(benchmark_paulis)"
   ]
  },
  {
   "cell_type": "code",
   "execution_count": 13,
   "id": "dcfead6b",
   "metadata": {},
   "outputs": [
    {
     "name": "stdout",
     "output_type": "stream",
     "text": [
      "[(0, 1, 2), (0, 1, 3), (1, 3, 5), (2, 1, 3), (3, 5, 4), (3, 5, 6), (4, 5, 6)]\n",
      "[(0, 5), (1, 4), (1, 6), (2, 5)]\n",
      "[(0, 1, 2), (0, 1, 3)]\n",
      "{0: 0, 1: 1, 2: 2, 3: 3, 4: 4, 5: 5, 6: 6}\n"
     ]
    },
    {
     "data": {
      "image/png": "[encoded data removed]",
      "text/plain": [
       "<Figure size 432x288 with 1 Axes>"
      ]
     },
     "metadata": {},
     "output_type": "display_data"
    }
   ],
   "source": [
    "#list copied from IBM spec\n",
    "nairobi_adjacency = [(0,1),(1,2),(1,3),(3,5),(4,5),(5,6)]\n",
    "#initialize from adjacency list\n",
    "nairobi = connectivity_map(nairobi_adjacency)\n",
    "#print all chains of length 3\n",
    "print(nairobi.get_chains(3))\n",
    "#print all qubits separated by 2\n",
    "print(nairobi.all_connections_at_depth(3))\n",
    "#print all chains of depth 2 containing qubit 0\n",
    "print(nairobi.get_chains_with(0,2))\n",
    "#how the qubits are mapped to the numbers\n",
    "print(nairobi.mapping)\n",
    "nairobi.draw_processor()"
   ]
  },
  {
   "cell_type": "code",
   "execution_count": 14,
   "id": "609014f8",
   "metadata": {},
   "outputs": [
    {
     "data": {
      "image/png": "[encoded data removed]",
      "text/plain": [
       "<Figure size 432x288 with 1 Axes>"
      ]
     },
     "metadata": {},
     "output_type": "display_data"
    }
   ],
   "source": [
    "#generate benchmarking group with weight two lining up with the connectivity of the nairobi QPU\n",
    "pauli_group = nairobi.proc_benchmark_max_weight(2)\n",
    "#display a random operator drawn over the processor\n",
    "nairobi.draw_pauli(choices(pauli_group)[0])"
   ]
  },
  {
   "cell_type": "code",
   "execution_count": 26,
   "id": "bc9a94aa",
   "metadata": {},
   "outputs": [
    {
     "name": "stdout",
     "output_type": "stream",
     "text": [
      "['YZ', 'YI', 'ZI', 'XY', 'ZZ', 'YX', 'IY', 'IZ', 'XI', 'YY', 'XZ', 'XX', 'IX', 'ZY', 'ZX']\n"
     ]
    }
   ],
   "source": [
    "#create a small two-qubit model to begin testing\n",
    "small_proc = connectivity_map.linear_proc(2)\n",
    "pauli_group = small_proc.proc_benchmark_max_weight(2)\n",
    "print(pauli_group)"
   ]
  },
  {
   "cell_type": "code",
   "execution_count": 17,
   "id": "7eabed0c",
   "metadata": {},
   "outputs": [],
   "source": [
    "PREP_CIRCUITS = {'0Z':I, '1Z':X, '0X':H, '1X':X.compose(H), '0Y':H.compose(S), '1Y':X.compose(H).compose(S)}\n",
    "MEAS_CIRCUITS = {'Z':I, 'X':H, 'Y':S.compose(H)}\n",
    "def pauli_eigenstate_prep_ops(pauli_str):\n",
    "    pos_states = []\n",
    "    neg_states = []\n",
    "    dim = len(pauli_str)\n",
    "    weight = len(pauli_str)-pauli_str.count('I')\n",
    "    for sgns in product([0,1],repeat=weight):\n",
    "        op = Operator([1])\n",
    "        for i in range(dim):\n",
    "            if pauli_str[i] == 'I':\n",
    "                op  = op.tensor(I)\n",
    "            else:\n",
    "                idx = i-pauli_str[:i].count('I')\n",
    "                op = op.tensor(PREP_CIRCUITS[str(sgns[idx])+pauli_str[i]])\n",
    "        if sum(sgns) %2 == 0:\n",
    "            pos_states.append(op)\n",
    "        else:\n",
    "            neg_states.append(op)\n",
    "    return (pos_states, neg_states)\n",
    "\n",
    "def measure_in_pauli_basis(pauli_str):\n",
    "    op = Operator([1])\n",
    "    for char in pauli_str:\n",
    "        if char == 'I':\n",
    "            op = op.tensor(I)\n",
    "        else:\n",
    "            op = op.tensor(MEAS_CIRCUITS[char])\n",
    "    return op"
   ]
  },
  {
   "cell_type": "markdown",
   "id": "45eb37c7",
   "metadata": {},
   "source": [
    "## Measurement procedure"
   ]
  },
  {
   "cell_type": "code",
   "execution_count": 18,
   "id": "99bbaa5a",
   "metadata": {},
   "outputs": [],
   "source": [
    "pauli = pauli_group[0]\n",
    "gate_to_benchmark = CZ\n",
    "prep_circuits_pos, prep_circuits_neg = pauli_eigenstate_prep_ops('XX')\n",
    "\n",
    "def count_to_val(count):\n",
    "    return -2*(count.count('1') % 2)+1\n",
    "\n",
    "from qiskit.providers.aer.noise import depolarizing_error, NoiseModel\n",
    "from qiskit import execute\n",
    "\n",
    "p = .01\n",
    "num = len(pauli_group)\n",
    "onequbit_error = depolarizing_error(p, 1)\n",
    "twoqubit_error = depolarizing_error(p, 2)\n",
    "error_model = NoiseModel()\n",
    "error_model.add_all_qubit_quantum_error(onequbit_error, ['id','rz', 'sx', 'u1', 'u2', 'u3'])\n",
    "error_model.add_all_qubit_quantum_error(twoqubit_error, ['cx','cz'])\n",
    "basis_gates = error_model.basis_gates\n",
    "\n",
    "def get_expectation(circuit):\n",
    "    SHOTS = 10000\n",
    "    backend = Aer.get_backend('qasm_simulator')\n",
    "    circ = circuit.copy()\n",
    "    circ.measure_all()\n",
    "    counts = execute(circ, backend, shots = SHOTS, noise_model = error_model, basis_gates = basis_gates, optimization_level=0).result().get_counts()\n",
    "    return np.sum([count_to_val(count)*counts[count]/SHOTS for count in counts.keys()])"
   ]
  },
  {
   "cell_type": "code",
   "execution_count": 28,
   "id": "49c5b8b3",
   "metadata": {},
   "outputs": [],
   "source": [
    "def s_prod(a,b):\n",
    "    return {True:0, False:1}[Pauli(a).commutes(Pauli(b))]\n",
    "\n",
    "M1 = [[s_prod(a,b) for a in pauli_group] for b in pauli_group]\n",
    "p_group_permuted = [get_name(conjugate(pauli_dict[pauli], gate_to_benchmark)) for pauli in pauli_group]\n",
    "M2 = [[s_prod(a,b) for a in p_group_permuted] for b in pauli_group]\n",
    "M = np.add(M1, M2)"
   ]
  },
  {
   "cell_type": "code",
   "execution_count": 20,
   "id": "ffe19434",
   "metadata": {},
   "outputs": [],
   "source": [
    "def measure_fidelity(pauli, folds):\n",
    "    dim = len(pauli)\n",
    "    op_dim = int(np.log2(gate_to_benchmark.dim[0]))\n",
    "    prep_circuits_pos, prep_circuits_neg = pauli_eigenstate_prep_ops(pauli)\n",
    "    total = 0\n",
    "    for circ in prep_circuits_pos:\n",
    "        qc = QuantumCircuit(dim)\n",
    "        qc.append(circ,range(dim))\n",
    "        for i in range(folds):\n",
    "            qc.append(gate_to_benchmark, range(op_dim))\n",
    "            qc.append(gate_to_benchmark, range(op_dim))\n",
    "        qc.append(measure_in_pauli_basis(pauli),range(dim))\n",
    "        total += get_expectation(qc)\n",
    "    for circ in prep_circuits_neg:\n",
    "        qc = QuantumCircuit(dim)\n",
    "        qc.append(circ,range(dim))\n",
    "        for i in range(folds):\n",
    "            qc.append(gate_to_benchmark, range(op_dim))\n",
    "            qc.append(gate_to_benchmark, range(op_dim))\n",
    "        qc.append(measure_in_pauli_basis(pauli),range(dim))\n",
    "        total -= get_expectation(qc)\n",
    "\n",
    "    return total*1/2**dim\n",
    "\n",
    "def exp(x,a):\n",
    "    return np.exp(-a*x)\n",
    "\n",
    "from scipy.optimize import curve_fit\n",
    "\n",
    "def fit_fidelity(pauli, max_folds, precision):\n",
    "    fidelities = []\n",
    "    for folds in range(0,max_folds,precision):\n",
    "        fidelities.append(measure_fidelity(pauli, folds))\n",
    "    fidelities = [fid/fidelities[0] for fid in fidelities]\n",
    "    xrange = range(0,max_folds*2, precision*2)\n",
    "    popt, pcov = curve_fit(exp, xrange, fidelities, p0=[.01])\n",
    "    return popt, fidelities\n",
    "\n",
    "def progressBar (iteration, total, prefix = '', suffix = '', decimals = 1, length = 100, fill = '█', printEnd = \"\\r\"):\n",
    "    # Displays a nice progress bar\n",
    "    percent = (\"{0:.\" + str(decimals) + \"f}\").format(100 * (iteration / float(total)))\n",
    "    filledLength = int(length * iteration // total)\n",
    "    bar = fill * filledLength + '-' * (length - filledLength)\n",
    "    print(f'\\r{prefix} |{bar}| {percent}% {suffix}', end = printEnd)\n",
    "    if iteration == total: \n",
    "        print()\n",
    "\n",
    "def generate_full_fidelity_list(max_folds, precision):\n",
    "    fidelities = []\n",
    "    progressBar(0, len(pauli_group))\n",
    "    for i,pauli in enumerate(pauli_group):\n",
    "        fidelities.append(fit_fidelity(pauli, max_folds, precision)[0][0])\n",
    "        progressBar(i+1, len(pauli_group))\n",
    "    return fidelities"
   ]
  },
  {
   "cell_type": "code",
   "execution_count": 22,
   "id": "fa9a2f05",
   "metadata": {},
   "outputs": [
    {
     "data": {
      "text/plain": [
       "[<matplotlib.lines.Line2D at 0x7f0470d79ab0>]"
      ]
     },
     "execution_count": 22,
     "metadata": {},
     "output_type": "execute_result"
    },
    {
     "data": {
      "image/png": "[encoded data removed]",
      "text/plain": [
       "<Figure size 432x288 with 1 Axes>"
      ]
     },
     "metadata": {
      "needs_background": "light"
     },
     "output_type": "display_data"
    }
   ],
   "source": [
    "prec = 8\n",
    "coeffs, fidelities = fit_fidelity(\"YY\", 40, prec)\n",
    "\n",
    "xrange = range(0,80, prec*2)\n",
    "plt.plot(xrange, [exp(x,coeffs[0]) for x in xrange])\n",
    "plt.plot(xrange, fidelities)"
   ]
  },
  {
   "cell_type": "code",
   "execution_count": 40,
   "id": "74ca7f2a",
   "metadata": {},
   "outputs": [
    {
     "name": "stdout",
     "output_type": "stream",
     "text": [
      " |████████████████████████████████████████████████████████████████████████████████████████████████████| 100.0% \n"
     ]
    },
    {
     "data": {
      "image/png": "[encoded data removed]",
      "text/plain": [
       "<Figure size 720x360 with 1 Axes>"
      ]
     },
     "metadata": {
      "needs_background": "light"
     },
     "output_type": "display_data"
    }
   ],
   "source": [
    "f = generate_full_fidelity_list(40, 8)\n",
    "fig, ax = plt.subplots()\n",
    "ax.bar(range(len(pauli_group)), f)\n",
    "ax.set_xticks(range(len(pauli_group)), [p1+\"*\"+p2 for p1,p2 in zip(pauli_group, p_group_permuted)]);\n",
    "fig.set_size_inches(10, 5, forward=True)"
   ]
  }
 ],
 "metadata": {
  "kernelspec": {
   "display_name": "Python 3.10.4",
   "language": "python",
   "name": "python3"
  },
  "language_info": {
   "codemirror_mode": {
    "name": "ipython",
    "version": 3
   },
   "file_extension": ".py",
   "mimetype": "text/x-python",
   "name": "python",
   "nbconvert_exporter": "python",
   "pygments_lexer": "ipython3",
   "version": "3.10.4"
  },
  "vscode": {
   "interpreter": {
    "hash": "d4803144e0ca2433cbbdbc82809c7bf0c6dd86d5d16291a48205e2d911513c87"
   }
  }
 },
 "nbformat": 4,
 "nbformat_minor": 5
}
