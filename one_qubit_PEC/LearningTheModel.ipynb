{
 "cells": [
  {
   "cell_type": "markdown",
   "id": "328b2e80",
   "metadata": {},
   "source": [
    "# Learning the model\n",
    "\n",
    "This is the procedure I have for learning the parameters of the sparse model on one qubit."
   ]
  },
  {
   "cell_type": "code",
   "execution_count": 2,
   "id": "f1dd5d11",
   "metadata": {},
   "outputs": [],
   "source": [
    "#helper libraries\n",
    "import numpy as np\n",
    "from numpy.random import rand\n",
    "import math\n",
    "import scipy.optimize\n",
    "import matplotlib.pyplot as plt\n",
    "\n",
    "#qiskit functionalities\n",
    "from qiskit import Aer, execute, QuantumCircuit, QuantumRegister, ClassicalRegister\n",
    "from qiskit.tools.visualization import plot_histogram\n",
    "\n",
    "#noise model stuff\n",
    "from qiskit.providers.aer.noise import NoiseModel, kraus_error, pauli_error\n",
    "    \n",
    "#operator info\n",
    "from qiskit.quantum_info import PauliList, Pauli, Kraus\n",
    "from qiskit.circuit.library import XGate"
   ]
  },
  {
   "cell_type": "markdown",
   "id": "34a3e670",
   "metadata": {},
   "source": [
    "Define the terms\n",
    "$$\n",
    "\\vec\\lambda, \\mathcal{F}, \\mathcal{T}, \\vec \\omega\n",
    "$$\n",
    "Where $\\vec \\lambda$ is a list of the coefficients, $\\mathcal{F}$ is the set of Pauli operators, $\\mathcal{T}$ is the set of operators in the sparse model, and $\\vec \\omega$ is the transformed coefficients in the noise model (Eq. S9)"
   ]
  },
  {
   "cell_type": "code",
   "execution_count": 3,
   "id": "20d8350e",
   "metadata": {},
   "outputs": [],
   "source": [
    "n = 1 #Number of qubits\n",
    "T = PauliList(['I', 'X', 'Y', 'Z']) #List of Pauli operators\n",
    "F = PauliList(['I','X', 'Y', 'Z']) #Pauli operators considered in the sparse model\n",
    "coeffs = [0,.01, .05, .0085] #lambda coefficients for the model Paulis"
   ]
  },
  {
   "cell_type": "markdown",
   "id": "70c54263",
   "metadata": {},
   "source": [
    "Eq. S9: \n",
    "$$\n",
    "\\omega_k = \\frac{1}{2}(1+e^{-2\\lambda_k})\n",
    "$$"
   ]
  },
  {
   "cell_type": "code",
   "execution_count": 4,
   "id": "2c55c68d",
   "metadata": {},
   "outputs": [],
   "source": [
    "omegas = []\n",
    "for (k, lambdak) in enumerate(coeffs):\n",
    "    omegas.append(.5*(1+math.exp(-2*lambdak)))"
   ]
  },
  {
   "cell_type": "markdown",
   "id": "189fb966",
   "metadata": {},
   "source": [
    "Defining the simplectic inner product, a function such that\n",
    "$$\n",
    "\\langle P_a, P_b \\rangle_{sp} = \n",
    "\\begin{cases}\n",
    "0 & [P_a, P_b] = 0 \\\\\n",
    "1 & \\text{else}\n",
    "\\end{cases}\n",
    "$$\n",
    "This is expressed in a matrix $M(\\mathcal{T}, \\mathcal{F})_{ab} = \\langle T_a, F_b \\rangle_{sp}$ to simplify equation (S10)"
   ]
  },
  {
   "cell_type": "code",
   "execution_count": 51,
   "id": "9f877b8c",
   "metadata": {},
   "outputs": [],
   "source": [
    "def s_prod(a, b):\n",
    "    if(a.compose(b) == b.compose(a)):\n",
    "        return 0\n",
    "    else:\n",
    "        return 1\n",
    "\n",
    "M = np.zeros([len(F),len(T)])\n",
    "for (i,a) in enumerate(F):\n",
    "    for (j,b) in enumerate(T):\n",
    "        M[i,j] = s_prod(a,b)\n",
    "        "
   ]
  },
  {
   "cell_type": "markdown",
   "id": "2a575a26",
   "metadata": {},
   "source": [
    "ideal_fidelities is the ideal $\\vec f$ (with components $f_a$) giving the fidelities for each element in $\\mathcal{F}. This is computed using Eq. (S11),\n",
    "$$\n",
    "-\\log(\\vec f)/2 = M\\vec \\lambda\n",
    "$$"
   ]
  },
  {
   "cell_type": "code",
   "execution_count": 6,
   "id": "a2c3e5a0",
   "metadata": {},
   "outputs": [
    {
     "name": "stdout",
     "output_type": "stream",
     "text": [
      "[1.         0.88958519 0.96367614 0.88692044]\n"
     ]
    }
   ],
   "source": [
    "ideal_fidelities = np.exp(-2*np.dot(M, coeffs))\n",
    "print(ideal_fidelities)"
   ]
  },
  {
   "cell_type": "markdown",
   "id": "4072ad29",
   "metadata": {},
   "source": [
    "The model fidelities can be converted to Pauli coefficients using the simplectic Hadamard transformation,\n",
    "$$\n",
    "c_b = \\frac{1}{2^n} \\sum_a (-1)^{\\langle P_a, P_b\\rangle_{sp}}f_a\n",
    "$$\n",
    "These convert the diagonal transfer matrix to a diagonal $\\chi$ matrix. There seems to be something wrong with the normalization given in the text, am I doing something wrong?"
   ]
  },
  {
   "cell_type": "code",
   "execution_count": 7,
   "id": "63c02a59",
   "metadata": {},
   "outputs": [
    {
     "name": "stdout",
     "output_type": "stream",
     "text": [
      "[0.9350454413074056, 0.00974715527430009, 0.04679262636712117, 0.008414777051173161]\n"
     ]
    }
   ],
   "source": [
    "#Do all 4^n-1 fidelities need to be measured or can some be omitted?\n",
    "def WHtransform(b, ideal_fidelities, F):\n",
    "    c_b = 0\n",
    "    P_b = F[b]\n",
    "    for (f_a, P_a) in zip(ideal_fidelities, F):\n",
    "        c_b += (-1)**s_prod(P_a, P_b)*f_a\n",
    "    c_b /= 4**n #text gives normalization 2**n\n",
    "    return c_b\n",
    "\n",
    "M = np.zeros([len(F),len(T)])\n",
    "for (i,a) in enumerate(F):\n",
    "    for (j,b) in enumerate(T):\n",
    "        M[i,j] = s_prod(a,b)\n",
    "\n",
    "chi = []\n",
    "for b in range(len(T)):\n",
    "    chi.append(WHtransform(b, ideal_fidelities, F))\n",
    "    \n",
    "print(chi)"
   ]
  },
  {
   "cell_type": "markdown",
   "id": "ab8d51cc",
   "metadata": {},
   "source": [
    "Use the resulting diagonal process matrix to create a pauli channel\n",
    "$$\n",
    "\\Lambda(\\rho) = \\sum_{i}\\chi_i P_i \\rho P_i\n",
    "$$"
   ]
  },
  {
   "cell_type": "code",
   "execution_count": 8,
   "id": "af816012",
   "metadata": {},
   "outputs": [],
   "source": [
    "#Pauli error channel\n",
    "pauli_error_channel = pauli_error(zip(F, chi))\n",
    "pauli_noise_model = NoiseModel()\n",
    "pauli_noise_model.add_all_qubit_quantum_error(pauli_error_channel, ['id', 'rz', 'sx'])\n",
    "pauli_basis_gates = pauli_noise_model.basis_gates"
   ]
  },
  {
   "cell_type": "markdown",
   "id": "a3b01a39",
   "metadata": {},
   "source": [
    "This is an alternative expression of the noise model through Kraus operators according to Eq. (1):\n",
    "$$\n",
    "\\Lambda(\\rho) = \\prod_{k \\in \\kappa} \\left(\\omega_k \\rho + (1-\\omega_k)P_k \\rho P_k\\right)\n",
    "$$\n",
    "where the product symbol denotes composition"
   ]
  },
  {
   "cell_type": "code",
   "execution_count": 9,
   "id": "ab384aa5",
   "metadata": {},
   "outputs": [
    {
     "name": "stderr",
     "output_type": "stream",
     "text": [
      "/home/ben/.local/lib/python3.10/site-packages/qiskit/quantum_info/operators/channel/kraus.py:92: VisibleDeprecationWarning: Creating an ndarray from ragged nested sequences (which is a list-or-tuple of lists-or-tuples-or ndarrays with different lengths or shapes) is deprecated. If you meant to do this, you must specify 'dtype=object' when creating the ndarray.\n",
      "  if isinstance(data, np.ndarray) or np.array(data).ndim == 2:\n"
     ]
    }
   ],
   "source": [
    "#Build list of Kraus Operators\n",
    "kraus_ops = Kraus(np.identity(2**n))\n",
    "for (P,omega,lambdak) in zip(T, omegas, coeffs):\n",
    "   if lambdak != 0:\n",
    "        op = Kraus([P.to_matrix()*np.sqrt(1-omega),np.sqrt(omega)*np.identity(2**n).astype(complex)])\n",
    "        kraus_ops = kraus_ops.compose(op)"
   ]
  },
  {
   "cell_type": "code",
   "execution_count": 10,
   "id": "43d49cfa",
   "metadata": {
    "scrolled": false
   },
   "outputs": [
    {
     "name": "stdout",
     "output_type": "stream",
     "text": [
      "[array([[0.-0.00199258j, 0.+0.j        ],\n",
      "       [0.+0.j        , 0.-0.00199258j]]), array([[0.+0.j        , 0.-0.01992617j],\n",
      "       [0.-0.01992617j, 0.+0.j        ]]), array([[ 0.        +0.j,  0.00891482+0.j],\n",
      "       [-0.00891482+0.j,  0.        +0.j]]), array([[ 0.08914966+0.j,  0.        +0.j],\n",
      "       [ 0.        +0.j, -0.08914966+0.j]]), array([[0.-0.02161287j, 0.+0.j        ],\n",
      "       [0.+0.j        , 0.+0.02161287j]]), array([[0.+0.j        , 0.-0.21613226j],\n",
      "       [0.+0.21613226j, 0.+0.j        ]]), array([[0.        +0.j, 0.09669593+0.j],\n",
      "       [0.09669593+0.j, 0.        +0.j]]), array([[0.96697542+0.j, 0.        +0.j],\n",
      "       [0.        +0.j, 0.96697542+0.j]])]\n"
     ]
    }
   ],
   "source": [
    "#Kraus error channel\n",
    "kraus_error_channel = kraus_error(kraus_ops.data)\n",
    "kraus_noise_model = NoiseModel()\n",
    "kraus_noise_model.add_all_qubit_quantum_error(kraus_error_channel, ['id', 'rz', 'sx', 'h', 'rx'])\n",
    "kraus_basis_gates = kraus_noise_model.basis_gates\n",
    "print(kraus_ops.data)"
   ]
  },
  {
   "cell_type": "markdown",
   "id": "b2d9d71f",
   "metadata": {},
   "source": [
    "I'm not sure whether the noise is dependent on the specific gates enacted. In the literature, it is written $\\tilde{\\mathcal{U}} = \\Lambda \\circ \\mathcal{U}$, but is $\\Lambda$ dependent on $\\mathcal{U}$?"
   ]
  },
  {
   "cell_type": "markdown",
   "id": "f020720b",
   "metadata": {},
   "source": [
    "The pauli operators are diagonalizable in terms of their eigenvectors:\n",
    "$$\n",
    "P_a = \\sum_{\\vert\\psi\\rangle \\in E_{a}(+1)} \\vert\\psi\\rangle \\langle\\psi\\vert - \\sum_{\\vert\\psi\\rangle\\in E_a(-1)} \\vert\\psi\\rangle\\langle\\psi\\vert\n",
    "$$\n",
    "Since the eigenvectors are realizable, the expectation value can be computed by leveraging linearity:\n",
    "$$\n",
    "\\operatorname{Tr}[Z\\Lambda(P_a)] = \\sum_{\\vert\\psi\\rangle \\in E_{a}(+1)} \\operatorname{Tr}[Z\\Lambda(\\vert\\psi\\rangle \\langle\\psi\\vert) - \\sum_{\\vert\\psi\\rangle\\in E_a(-1)} \\operatorname{Tr}[Z\\Lambda(\\vert\\psi\\rangle\\langle\\psi\\vert)\n",
    "$$"
   ]
  },
  {
   "cell_type": "code",
   "execution_count": 11,
   "id": "2fc460eb",
   "metadata": {},
   "outputs": [],
   "source": [
    "qr = QuantumRegister(1)\n",
    "cr = ClassicalRegister(1)\n",
    "backend = Aer.get_backend('qasm_simulator')"
   ]
  },
  {
   "cell_type": "markdown",
   "id": "1d297c91",
   "metadata": {},
   "source": [
    "For $Z$ estimation, prepare eigenstates and measure expectation values"
   ]
  },
  {
   "cell_type": "code",
   "execution_count": 12,
   "id": "e29e1a13",
   "metadata": {},
   "outputs": [],
   "source": [
    "circuits = []\n",
    "gate = XGate() #the gate to use for noise profiling. Is the noise gate-dependent?\n",
    "folds = 40 #number of folds to fit noise\n",
    "\n",
    "for i in range(folds):\n",
    "    qc = QuantumCircuit(qr,cr)\n",
    "    \n",
    "    #initialize to positive eigenstate of Pauli being measured\n",
    "    qc.initialize(\"0\")\n",
    "    qc.barrier() #these are necessary to deter the compiler from cancelling\n",
    "    \n",
    "    #add anumber of unitary folds\n",
    "    for j in range(i+1):\n",
    "        qc.append(gate, [0])\n",
    "        qc.barrier()\n",
    "        qc.append(gate.inverse(), [0])\n",
    "        qc.barrier()\n",
    "    \n",
    "    #measure in the operator basis\n",
    "    qc.measure(0,0)\n",
    "    circuits.append([qc.copy()])\n",
    "    \n",
    "    #repeat the process but for the negative eigenstate\n",
    "    qc = QuantumCircuit(qr,cr)\n",
    "    qc.initialize(\"1\")\n",
    "    qc.barrier()\n",
    "    for j in range(i+1):\n",
    "        qc.append(gate, [0])\n",
    "        qc.barrier()\n",
    "        qc.append(gate.inverse(), [0])\n",
    "        qc.barrier()\n",
    "    qc.measure(0,0)\n",
    "    circuits[i].append(qc.copy())"
   ]
  },
  {
   "cell_type": "code",
   "execution_count": 13,
   "id": "0db93867",
   "metadata": {},
   "outputs": [],
   "source": [
    "fidelities = []\n",
    "expectations = [0,0]\n",
    "shots = 4096\n",
    "counts = [0,0]\n",
    "for [circuit1, circuit2] in circuits:\n",
    "    job = execute(circuit1, backend, noise_model=kraus_noise_model,\n",
    "                  basis_gates = kraus_basis_gates, shots = shots)\n",
    "    counts[0] = job.result().get_counts()\n",
    "    job = execute(circuit2, backend, noise_model=kraus_noise_model, \n",
    "                  basis_gates = kraus_basis_gates, shots = shots)\n",
    "    counts[1] = job.result().get_counts()\n",
    "    expectations[0] = (1/shots)*(counts[0]['0']*1+(-1)*counts[0]['1'])\n",
    "    expectations[1] = (1/shots)*(counts[1]['0']*1+(-1)*counts[1]['1'])\n",
    "    fidelities.append((1/2**n)*(expectations[0]-expectations[1]))\n",
    "    \n",
    "zfidelities = fidelities.copy()"
   ]
  },
  {
   "cell_type": "markdown",
   "id": "2c65fa79",
   "metadata": {},
   "source": [
    "Repeat for $X$"
   ]
  },
  {
   "cell_type": "code",
   "execution_count": 14,
   "id": "2015141d",
   "metadata": {},
   "outputs": [],
   "source": [
    "circuits = []\n",
    "gate = XGate() #the gate to use for noise profiling. Is the noise gate-dependent?\n",
    "folds = 40 #number of folds to fit noise\n",
    "\n",
    "for i in range(folds):\n",
    "    qc = QuantumCircuit(qr,cr)\n",
    "    \n",
    "    #initialize to positive eigenstate of Pauli being measured\n",
    "    qc.initialize(\"+\")\n",
    "    qc.barrier() #these are necessary to deter the compiler from cancelling\n",
    "    \n",
    "    #add anumber of unitary folds\n",
    "    for j in range(i+1):\n",
    "        qc.append(gate, [0])\n",
    "        qc.barrier()\n",
    "        qc.append(gate.inverse(), [0])\n",
    "        qc.barrier()\n",
    "    \n",
    "    #measure in the operator basis\n",
    "    qc.h(0)\n",
    "    qc.measure(0,0)\n",
    "    circuits.append([qc.copy()])\n",
    "    \n",
    "    #repeat the process but for the negative eigenstate\n",
    "    qc = QuantumCircuit(qr,cr)\n",
    "    qc.initialize(\"-\")\n",
    "    qc.barrier()\n",
    "    for j in range(i+1):\n",
    "        qc.append(gate, [0])\n",
    "        qc.barrier()\n",
    "        qc.append(gate.inverse(), [0])\n",
    "        qc.barrier()\n",
    "    \n",
    "    qc.h(0)\n",
    "    qc.measure(0,0)\n",
    "    circuits[i].append(qc.copy())"
   ]
  },
  {
   "cell_type": "code",
   "execution_count": 15,
   "id": "296d8408",
   "metadata": {},
   "outputs": [],
   "source": [
    "fidelities = []\n",
    "expectations = [0,0]\n",
    "counts = [0,0]\n",
    "for [circuit1, circuit2] in circuits:\n",
    "    job = execute(circuit1, backend, noise_model=kraus_noise_model,\n",
    "                  basis_gates = kraus_basis_gates, shots = shots)\n",
    "    counts[0] = job.result().get_counts()\n",
    "    job = execute(circuit2, backend, noise_model=kraus_noise_model, \n",
    "                  basis_gates = kraus_basis_gates, shots = shots)\n",
    "    counts[1] = job.result().get_counts()\n",
    "    expectations[0] = (1/shots)*(counts[0]['0']*1+(-1)*counts[0]['1'])\n",
    "    expectations[1] = (1/shots)*(counts[1]['0']*1+(-1)*counts[1]['1'])\n",
    "    fidelities.append((1/2**n)*(expectations[0]-expectations[1]))\n",
    "    \n",
    "xfidelities = fidelities.copy()"
   ]
  },
  {
   "cell_type": "markdown",
   "id": "adb65b39",
   "metadata": {},
   "source": [
    "Repeat for $Y$"
   ]
  },
  {
   "cell_type": "code",
   "execution_count": 16,
   "id": "99e32e9d",
   "metadata": {},
   "outputs": [],
   "source": [
    "circuits = []\n",
    "gate = XGate() #the gate to use for noise profiling. Is the noise gate-dependent?\n",
    "folds = 40 #number of folds to fit noise\n",
    "\n",
    "for i in range(folds):\n",
    "    qc = QuantumCircuit(qr,cr)\n",
    "    \n",
    "    #initialize to positive eigenstate of Pauli being measured\n",
    "    qc.initialize(\"r\")\n",
    "    qc.barrier() #these are necessary to deter the compiler from cancelling\n",
    "    \n",
    "    #add anumber of unitary folds\n",
    "    for j in range(i+1):\n",
    "        qc.append(gate, [0])\n",
    "        qc.barrier()\n",
    "        qc.append(gate.inverse(), [0])\n",
    "        qc.barrier()\n",
    "    \n",
    "    #measure in the operator basis\n",
    "    qc.sdg(0)\n",
    "    qc.h(0)\n",
    "    qc.measure(0,0)\n",
    "    circuits.append([qc.copy()])\n",
    "    \n",
    "    #repeat the process but for the negative eigenstate\n",
    "    qc = QuantumCircuit(qr,cr)\n",
    "    qc.initialize(\"l\")\n",
    "    qc.barrier()\n",
    "    for j in range(i+1):\n",
    "        qc.append(gate, [0])\n",
    "        qc.barrier()\n",
    "        qc.append(gate.inverse(), [0])\n",
    "        qc.barrier()\n",
    "        \n",
    "    qc.sdg(0)\n",
    "    qc.h(0)\n",
    "    qc.measure(0,0)\n",
    "    circuits[i].append(qc.copy())"
   ]
  },
  {
   "cell_type": "code",
   "execution_count": 17,
   "id": "2032c5a7",
   "metadata": {},
   "outputs": [],
   "source": [
    "fidelities = []\n",
    "expectations = [0,0]\n",
    "counts = [0,0]\n",
    "for [circuit1, circuit2] in circuits:\n",
    "    job = execute(circuit1, backend, noise_model=kraus_noise_model,\n",
    "                  basis_gates = kraus_basis_gates, shots = shots)\n",
    "    counts[0] = job.result().get_counts()\n",
    "    job = execute(circuit2, backend, noise_model=kraus_noise_model, \n",
    "                  basis_gates = kraus_basis_gates, shots = shots)\n",
    "    counts[1] = job.result().get_counts()\n",
    "    expectations[0] = (1/shots)*(counts[0]['0']*1+(-1)*counts[0]['1'])\n",
    "    expectations[1] = (1/shots)*(counts[1]['0']*1+(-1)*counts[1]['1'])\n",
    "    fidelities.append((1/2**n)*(expectations[0]-expectations[1]))\n",
    "    \n",
    "yfidelities = fidelities.copy()"
   ]
  },
  {
   "cell_type": "markdown",
   "id": "47da3538",
   "metadata": {},
   "source": [
    "The expectation value of any Pauli operator on a maximally randomized state is\n",
    "$$\n",
    "\\begin{align*}\n",
    "\\frac{1}{2^n}\\operatorname{Tr}[P_a\\Lambda(I)] &= \\frac{1}{2^n}\\operatorname{Tr}[P_a \\prod_{k}\\omega_k I + (1-\\omega_k)P_aIP_a] \\\\\n",
    "&= \\frac{1}{2^n}\\operatorname{Tr}[P_a \\prod_{k}\\omega_k + (1-\\omega_k)] \\\\\n",
    "&= \\frac{1}{2^n}\\operatorname{Tr}[P_a] \\\\\n",
    "&= 0\n",
    "\\end{align*}\n",
    "$$\n",
    "So we can assume that $f_a \\to 0$ as the circuit depth grows to $\\infty$. Due to SPAM, the fidelities at zero depth may be less than one. Errors accumulate exponentially, so the function chosen to fit is\n",
    "$$\n",
    "f_a(d) = c_1e^{-c_2d}\n",
    "$$\n",
    "Once the fit is obtained, $c_1$ is set to one to remove errors due to SPAM, because a SPAM-free situation would have $f_a=1$ at depth zero, and the noise channel fidelity $f_a$ is obtained by evaluating $e^{-c_2}$, corresponding to half a fold, or one gate application."
   ]
  },
  {
   "cell_type": "code",
   "execution_count": 18,
   "id": "cdb06b4c",
   "metadata": {},
   "outputs": [
    {
     "data": {
      "image/png": "[encoded data removed]",
      "text/plain": [
       "<Figure size 432x288 with 1 Axes>"
      ]
     },
     "metadata": {
      "needs_background": "light"
     },
     "output_type": "display_data"
    }
   ],
   "source": [
    "#plot each fold as two gates and scale so it starts at 2\n",
    "xrange = np.multiply(2,range(1,1+folds)) \n",
    "\n",
    "#plot the measured fidelities vs gate depths\n",
    "plt.plot(xrange, xfidelities, 'ro')\n",
    "plt.plot(xrange, yfidelities, 'mo')\n",
    "plt.plot(xrange, zfidelities, 'bo')\n",
    "\n",
    "#fitting function\n",
    "def Exp(t, c1, c2):\n",
    "    return c1*np.exp(-t * c2)\n",
    "\n",
    "#first guess for optimization\n",
    "p0 = (1, .05)\n",
    "\n",
    "#plot f_x\n",
    "params, cv = scipy.optimize.curve_fit(Exp, xrange, xfidelities, p0)\n",
    "ax, bx = params\n",
    "line1, = plt.plot(xrange, ax*np.exp(np.multiply(-1*bx, xrange)), 'r', label=\"f_x\")\n",
    "\n",
    "#plot f_y\n",
    "params, cv = scipy.optimize.curve_fit(Exp, xrange, yfidelities, p0)\n",
    "ay, by = params\n",
    "line2, = plt.plot(xrange, ay*np.exp(np.multiply(-1*by, xrange)), 'm', label=\"f_y\")\n",
    "\n",
    "#plot f_z\n",
    "params, cv = scipy.optimize.curve_fit(Exp, xrange, zfidelities, p0)\n",
    "az, bz = params\n",
    "line3, = plt.plot(xrange, az*np.exp(np.multiply(-1*bz, xrange)), 'b', label=\"f_z\");\n",
    "\n",
    "#plot labels and parameters\n",
    "plt.title(\"Pauli fidelities vs circuit depth\")\n",
    "plt.xlabel(\"Circuit Depth\")\n",
    "plt.ylabel(\"Fidelity\")\n",
    "plt.legend(handles=[line1, line2, line3]);"
   ]
  },
  {
   "cell_type": "markdown",
   "id": "ebc9b325",
   "metadata": {},
   "source": [
    "Comparing the extrapolated (measured) fidelities to the ideal ones"
   ]
  },
  {
   "cell_type": "code",
   "execution_count": 49,
   "id": "b66fd7bf",
   "metadata": {},
   "outputs": [
    {
     "name": "stdout",
     "output_type": "stream",
     "text": [
      "Measured fidelities:  [1, 0.8860698622969769, 0.9635347537494877, 0.8833934486677013]\n",
      "Ideal Fidelitites:  [1.         0.88958519 0.96367614 0.88692044]\n",
      "Manhattan Norm:  0.007183700515456359\n"
     ]
    }
   ],
   "source": [
    "measured_fidelities = [1, math.exp(-bx), math.exp(-by), math.exp(-bz)]\n",
    "print(\"Measured fidelities: \", measured_fidelities)\n",
    "print(\"Ideal Fidelitites: \", ideal_fidelities)\n",
    "print(\"Manhattan Norm: \", np.sum(np.abs(ideal_fidelities-measured_fidelities)))"
   ]
  },
  {
   "cell_type": "markdown",
   "id": "3da35327",
   "metadata": {},
   "source": [
    "The original fidelities are obtained from the model coefficients using Eq. S11\n",
    "$$\n",
    "-\\frac{1}{2}\\ln(\\vec f) = M\\vec \\lambda\n",
    "$$\n",
    "Having measured $\\vec f$, the solution $\\vec \\lambda$ is found such that\n",
    "$$\n",
    "\\vert \\vert M\\lambda + \\frac{1}{2}\\ln(\\vec f) \\vert \\vert_2\n",
    "$$\n",
    "is minimized"
   ]
  },
  {
   "cell_type": "code",
   "execution_count": 52,
   "id": "019d65f7",
   "metadata": {},
   "outputs": [
    {
     "name": "stdout",
     "output_type": "stream",
     "text": [
      "Reconstructed model coefficients:  [0.         0.01004296 0.05194934 0.0085304 ]\n",
      "Ideal model coefficients:  [0, 0.01, 0.05, 0.0085]\n"
     ]
    }
   ],
   "source": [
    "def lsq_fit(coeffs):\n",
    "    return np.sum(np.square(np.dot(M,coeffs)+np.log(measured_fidelities)/2))\n",
    "\n",
    "coeffs_guess = scipy.optimize.nnls(M, -.5*np.log(measured_fidelities))\n",
    "\n",
    "#Compare guess to the actual values\n",
    "print(\"Reconstructed model coefficients: \", coeffs_guess[0])\n",
    "print(\"Ideal model coefficients: \", coeffs)"
   ]
  }
 ],
 "metadata": {
  "kernelspec": {
   "display_name": "Python 3.10.4",
   "language": "python",
   "name": "python3"
  },
  "language_info": {
   "codemirror_mode": {
    "name": "ipython",
    "version": 3
   },
   "file_extension": ".py",
   "mimetype": "text/x-python",
   "name": "python",
   "nbconvert_exporter": "python",
   "pygments_lexer": "ipython3",
   "version": "3.10.4"
  },
  "vscode": {
   "interpreter": {
    "hash": "d4803144e0ca2433cbbdbc82809c7bf0c6dd86d5d16291a48205e2d911513c87"
   }
  }
 },
 "nbformat": 4,
 "nbformat_minor": 5
}
