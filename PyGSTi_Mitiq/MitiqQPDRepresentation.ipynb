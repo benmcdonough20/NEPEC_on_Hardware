{
 "cells": [
  {
   "cell_type": "markdown",
   "id": "4f9e7f97",
   "metadata": {},
   "source": [
    "# PEC representation of Rigetti gates using Mitiq\n",
    "This was originally intended to be a part of the `process_gst.ipynb` notebook, but it seems as though Mitiq and pyGSTi rely on competing versions of Numpy. To fix this conflict, the superoperator restuls of the GST are pickled and then re-imported here.\n",
    "\n",
    "The Mitiq noisy basis was found by composing operators from the set together. Then, the `mitiq.pec.representations.optimal.find_optimal_representation` method generates an optimal representation of the nosiy gate. The complexity of the distribution and the overhead for different gate depths are compared.\n",
    "\n",
    "There are several places for further improvement. pyGSTi uses pre-computed lists of feducials, which are required to be informationally complete and maximally orthogonal, and a set of germs to be repeated at different depths, which they term 'amplificationally complete'. The modelpack used by default did not include an idle gate. In the future it would be useful to see how much the inclusion of the idle gate affects the QPD representation. In addition, it would be interesting to test how much the QPD representations differ for different qubits. \n",
    "\n",
    "Lastly, a technical issue still remains to be resolved, which is the interpretation $RX(\\theta)$ as $\\exp(i\\frac{\\theta}{2})$ or $\\exp(-i\\frac{\\theta}{2})$. It is currently unclear whether this is coming from the mitiq, pyGSTi, pyQuil, or Qiskit representation. Because the superoperator terms are fairly close to their ideal values, it is easy to address the error by simply changing the sign where necessary."
   ]
  },
  {
   "cell_type": "code",
   "execution_count": 1,
   "id": "b0348058",
   "metadata": {},
   "outputs": [],
   "source": [
    "'''\n",
    "-    NoisyOperations store ideal representation as a generalized PROGRAM object (here using qiskit circuits)\n",
    "         along with a SuperOperator matrix representing the error channel.\n",
    "-    NoisyBasis stores a list of NoisyOperations and provides several sampling tools\n",
    "     find_optimal_representation is a routine that automatically finds a QPD representation of the ideal gate \n",
    "     with the smallest possible negative overhead.\n",
    "'''\n",
    "from mitiq.pec import NoisyOperation, NoisyBasis \n",
    "from mitiq.pec.representations.optimal import find_optimal_representation\n",
    "\n",
    "#Qiskit imports\n",
    "from qiskit import QuantumCircuit\n",
    "from qiskit.quantum_info import SuperOp, Kraus, Operator\n",
    "from qiskit.circuit.library import RXGate, RZGate, XGate, YGate, ZGate, IGate\n",
    "\n",
    "#Helper libraries\n",
    "import pickle\n",
    "import numpy as np\n",
    "from itertools import product\n",
    "import matplotlib.pyplot as plt\n",
    "\n",
    "#make numpy matrices easier to read\n",
    "np.set_printoptions(precision=3, suppress=True)\n",
    "plt.style.use(\"ggplot\")"
   ]
  },
  {
   "cell_type": "markdown",
   "id": "5ce049a2",
   "metadata": {},
   "source": [
    "## Import superoperators\n",
    "The superoperators were found by running a pyGSTi standard gate set tomography using the `smq1Q_XZ` modelpack. These are pickled in `process_gst.ipynb` and imported here."
   ]
  },
  {
   "cell_type": "code",
   "execution_count": 32,
   "id": "574a4f58",
   "metadata": {},
   "outputs": [],
   "source": [
    "fname = \"XZ.superop\"\n",
    "with open(fname,\"rb\") as f: #Load pickled data\n",
    "    superops = pickle.load(f)\n",
    "\n",
    "superops = [SuperOp(s) for s in superops] #initialize superoperators\n",
    "\n",
    "#Create a list of ideal gates as labels for the noisy ones\n",
    "ideal_gates = [RXGate(-np.pi/2), RZGate(-np.pi/2), IGate()]"
   ]
  },
  {
   "cell_type": "markdown",
   "id": "fc1d0a7a",
   "metadata": {},
   "source": [
    "## Create noisy basis\n",
    "From the $M$ gates in the gateset, there are $M^n$ gates in the basis with length $n$. The span theoretically will increase with the depths $n$ that are considered in the set. The following cell generates such a spanning set of the permissible operations by listing out all the words from elements in the gate set with a length $n$ for all $n \\leq N$. Then it uses these along with the corresponding ideal circuits to construct `NoisyOperation` elements, and combine these into a `NoisyBasis`. It remains to be seen whether a set with more orthogonality will incresae the quality of the representation."
   ]
  },
  {
   "cell_type": "code",
   "execution_count": 33,
   "id": "75a641f6",
   "metadata": {},
   "outputs": [],
   "source": [
    "#This method generates all words of a certain length from a set of superoperators, \n",
    "#and returns a list of NoisyOperations\n",
    "def get_gate_sequences(n):\n",
    "    NoisyOperations = []\n",
    "\n",
    "    for string in product(zip(superops,ideal_gates), repeat=n): #combine the noisy and ideal ops and iterate through words\n",
    "        qc = QuantumCircuit(1)\n",
    "        superop = SuperOp(np.identity(4)) #start at the identity op\n",
    "\n",
    "        for (noisy_op, ideal_op) in string: #iterate through all the pairs in string\n",
    "            qc.append(ideal_op,[0]) #add the ideal op to circuit\n",
    "            superop = superop.compose(noisy_op) #compose the noisy op for total channel\n",
    "\n",
    "        NoisyOperations.append(NoisyOperation(qc, superop.data)) #Instatiate NoisyOperation and add to array\n",
    "    \n",
    "    return NoisyOperations.copy()\n",
    "\n",
    "NoisyOperations = []\n",
    "N = 3\n",
    "\n",
    "for i in range(N): #do this for all n <= N\n",
    "    NoisyOperations = np.concatenate((NoisyOperations, get_gate_sequences(i+1)))\n",
    "\n",
    "#combine into basis object\n",
    "noisy_basis = NoisyBasis(*NoisyOperations)"
   ]
  },
  {
   "cell_type": "markdown",
   "id": "977cd145",
   "metadata": {},
   "source": [
    "## Generate PEC representation\n",
    "If the spanning set is big enough, there may be many combinations of gates that form a QPD representation of the ideal gate within the desired tolerance level. Thus, the challenge is to find the representation\n",
    "$$\n",
    "\\mathcal{U}_{ideal} = \\sum_{\\alpha}\\eta_\\alpha \\mathcal{O}_\\alpha\n",
    "$$\n",
    "Where $\\mathcal{O}_\\alpha$ are noisy operations and\n",
    "$$\n",
    "\\gamma = \\sum_{\\alpha}\\vert \\eta_\\alpha \\vert\n",
    "$$\n",
    "is minimized. Mitiq provides a method to do this automatically. The `find_optimal_representation` method returns an optimal representation of a `PROGRAM` object, which can be a Circ, Quil, or Qiskit circuit object, given a noisy basis, and a desired tolerance level. In practice, I found that the overhead is highly sensitive to the tolerance level. A nearly perfect representation is accessible, but with an intractible overhead.\n",
    "\n",
    "As is expected, the noisy gate $RX(-\\frac{\\pi}{2})$ has the largest coefficient because it closely approximates the true gate, with other corrective terms."
   ]
  },
  {
   "cell_type": "code",
   "execution_count": 34,
   "id": "0cb11217",
   "metadata": {},
   "outputs": [
    {
     "name": "stdout",
     "output_type": "stream",
     "text": [
      "q_0: ───Rx(-0.5π)─── = -0.004*(q_0: ───Rx(-0.5π)───Rz(-0.5π)───Rz(-0.5π)───)-0.001*(q_0: ───Rx(-0.5π)───Rx(-0.5π)───Rx(-0.5π)───)+0.015*(q_0: ───Rx(-0.5π)───Rz(-0.5π)───)+0.992*(q_0: ───Rx(-0.5π)───)+0.007*(q_0: ───Rx(-0.5π)───Rz(-0.5π)───Rx(-0.5π)───)-0.002*(q_0: ───Rz(-0.5π)───Rz(-0.5π)───)+0.008*(q_0: ───Rz(-0.5π)───Rx(-0.5π)───)-0.006*(q_0: ───Rz(-0.5π)───Rz(-0.5π)───Rz(-0.5π)───)+0.002*(q_0: ───Rz(-0.5π)───)\n",
      "Overhead:  1.037184079299902\n"
     ]
    }
   ],
   "source": [
    "#Optimal circuit to represent\n",
    "optimal_circuit = QuantumCircuit(1)\n",
    "optimal_circuit.append(RXGate(-np.pi/2), [0])\n",
    "\n",
    "#get optimal representation in terms of noisy gates\n",
    "optimal_rep = find_optimal_representation(optimal_circuit, noisy_basis, tol=.01)\n",
    "print(optimal_rep)\n",
    "print(\"Overhead: \", optimal_rep.norm) #hopefully close to 1"
   ]
  },
  {
   "cell_type": "markdown",
   "id": "d84869c5",
   "metadata": {},
   "source": [
    "The approximated superoperator is very close to the desired gate"
   ]
  },
  {
   "cell_type": "code",
   "execution_count": 35,
   "id": "2aef438d",
   "metadata": {},
   "outputs": [
    {
     "name": "stdout",
     "output_type": "stream",
     "text": [
      "Approximated superoperator\n",
      "[[ 0.507+0.j    -0.007-0.49j  -0.007+0.49j   0.501-0.j   ]\n",
      " [-0.003-0.492j  0.499-0.01j   0.49 +0.006j  0.01 +0.49j ]\n",
      " [-0.003+0.492j  0.49 -0.006j  0.499+0.01j   0.01 -0.49j ]\n",
      " [ 0.504-0.j     0.007+0.49j   0.007-0.49j   0.51 -0.j   ]]\n",
      "------------------------------\n",
      "Ideal superoperator\n",
      "[[0.5+0.j  0. -0.5j 0. +0.5j 0.5+0.j ]\n",
      " [0. -0.5j 0.5+0.j  0.5+0.j  0. +0.5j]\n",
      " [0. +0.5j 0.5+0.j  0.5+0.j  0. -0.5j]\n",
      " [0.5+0.j  0. +0.5j 0. -0.5j 0.5+0.j ]]\n"
     ]
    }
   ],
   "source": [
    "matrices = [m.channel_matrix for m in optimal_rep.noisy_operations]\n",
    "mat = sum(m*coeff for (m,coeff) in zip(matrices, optimal_rep.coeffs))\n",
    "print(\"Approximated superoperator\")\n",
    "print(mat)\n",
    "print('------------------------------')\n",
    "print(\"Ideal superoperator\")\n",
    "ideal_mat = SuperOp(RXGate(np.pi/2)).data #It clearly matches RX(pi/2), but I don't know why\n",
    "print(ideal_mat)"
   ]
  },
  {
   "cell_type": "markdown",
   "id": "32f9399e",
   "metadata": {},
   "source": [
    "## Testing effects of different parameters\n",
    "The relevant independent parameters are the max depth $N$ of the noisy basis and the tolerance of the fit. These might effect the final estimate in two ways: the overhead can get larger or closer to one, and the probability distribution may become more or less complicated to sample."
   ]
  },
  {
   "cell_type": "code",
   "execution_count": 36,
   "id": "50a3d4f7",
   "metadata": {},
   "outputs": [],
   "source": [
    "#generate basis of circuits with depth N and below\n",
    "def generate_noisy_basis(N):\n",
    "    NoisyOperations = []\n",
    "    for i in range(N): #do this for all n <= N\n",
    "        NoisyOperations = np.concatenate((NoisyOperations, get_gate_sequences(i+1)))\n",
    "    #combine into basis object\n",
    "    return NoisyBasis(*NoisyOperations)\n",
    "\n",
    "#frobenius distance between two matrices\n",
    "def frobenius_dist(op1, op2):\n",
    "    mat = op1-op2\n",
    "    return (np.sqrt(np.trace(np.dot(mat,np.conjugate(np.transpose(mat)))))).real"
   ]
  },
  {
   "cell_type": "code",
   "execution_count": 53,
   "id": "b413295e",
   "metadata": {},
   "outputs": [],
   "source": [
    "#lengths of these sets become large\n",
    "max_depths = [5] #Procedure fails for 2<=N<=6\n",
    "noisy_bases = [generate_noisy_basis(N) for N in max_depths]"
   ]
  },
  {
   "cell_type": "markdown",
   "id": "d6ab1067",
   "metadata": {},
   "source": [
    "These next two cells compare the complexity of the distribution, the sampling overhead, and the distance to the ideal matrix. When looking at the complexity of the resulting probability distribution, the coefficients less than $1\\times 10^{-7}$ were excluded because they were assumed to be to small to randomly sample."
   ]
  },
  {
   "cell_type": "code",
   "execution_count": 56,
   "id": "9140e000",
   "metadata": {},
   "outputs": [
    {
     "name": "stdout",
     "output_type": "stream",
     "text": [
      "Tolerance 1e-5:\n",
      "QPD with 34 operators and overhead 1.7338230851671923 and distance to ideal matrix 4.957837202478995e-05\n"
     ]
    }
   ],
   "source": [
    "optimal_reps = [find_optimal_representation(optimal_circuit, noisy_basis_N, tol=1e-5) for noisy_basis_N in noisy_bases] #fails for 2<=N<=5\n",
    "print(\"Tolerance 1e-5:\")\n",
    "for optimal_rep in optimal_reps:\n",
    "    channel_ops = [op.channel_matrix for op in optimal_rep.noisy_operations]\n",
    "    channel = sum(op*coeff for (op,coeff) in zip(channel_ops, optimal_rep.coeffs))\n",
    "    print(\"QPD with\",\n",
    "                    len([coeff for coeff in optimal_rep.coeffs if coeff > 1e-7]),\n",
    "                    \"operators and overhead\",\n",
    "                    optimal_rep.norm,\n",
    "                    \"and distance to ideal matrix\",\n",
    "                    frobenius_dist(channel, ideal_mat))"
   ]
  },
  {
   "cell_type": "code",
   "execution_count": 585,
   "id": "7d1c9d26",
   "metadata": {},
   "outputs": [
    {
     "name": "stdout",
     "output_type": "stream",
     "text": [
      "Tolerance .01:\n",
      "QPD with 7 operators and overhead 1.0339647618960912 and distance to ideal matrix 0.0434106268407838\n",
      "QPD with 16 operators and overhead 1.0580912023823537 and distance to ideal matrix 0.046535634799173754\n",
      "QPD with 29 operators and overhead 1.0564030091714847 and distance to ideal matrix 0.04482870178549561\n"
     ]
    }
   ],
   "source": [
    "optimal_reps = [find_optimal_representation(optimal_circuit, noisy_basis_N, tol=.01) for noisy_basis_N in noisy_bases] #fails for 2<=N<=5\n",
    "print(\"Tolerance .01:\")\n",
    "for optimal_rep in optimal_reps:\n",
    "    channel_ops = [op.channel_matrix for op in optimal_rep.noisy_operations]\n",
    "    channel = sum(op*coeff for (op,coeff) in zip(channel_ops, optimal_rep.coeffs))\n",
    "    print(\"QPD with\",\n",
    "                    len([coeff for coeff in optimal_rep.coeffs if coeff > 1e-7]),\n",
    "                    \"operators and overhead\",\n",
    "                    optimal_rep.norm,\n",
    "                    \"and distance to ideal matrix\",\n",
    "                    frobenius_dist(channel, ideal_mat))"
   ]
  },
  {
   "cell_type": "markdown",
   "id": "7fce5e36",
   "metadata": {},
   "source": [
    "## Overhead advantage for noise scaling\n",
    "The following cells show the overhead advantage achieved through noise scaling with an overhead of $\\gamma = 1.73$, obtained through the $10^{-5}$ tolerance fit. A hypothetical circuit of depth eight is used for reference."
   ]
  },
  {
   "cell_type": "code",
   "execution_count": 6,
   "id": "08fed7f3",
   "metadata": {},
   "outputs": [
    {
     "data": {
      "text/plain": [
       "<matplotlib.legend.Legend at 0x7fe7917144c0>"
      ]
     },
     "execution_count": 6,
     "metadata": {},
     "output_type": "execute_result"
    },
    {
     "data": {
      "image/png": "[encoded data removed]",
      "text/plain": [
       "<Figure size 432x288 with 1 Axes>"
      ]
     },
     "metadata": {},
     "output_type": "display_data"
    }
   ],
   "source": [
    "ax = np.arange(9)\n",
    "gamma = 1.73\n",
    "lmbdas = [.8,.5,.2,0]\n",
    "for lmbda in lmbdas:\n",
    "    plt.plot(ax, [(gamma-lmbda*(gamma-1))**n for n in ax])\n",
    "\n",
    "plt.title(\"Overhead vs circuit depth for different noise values\")\n",
    "plt.xlabel(\"Circuit depth\")\n",
    "plt.ylabel(\"Sampling overhead\")\n",
    "plt.legend([r\"$\\lambda = $\" + str(lmbda) for lmbda in lmbdas])"
   ]
  },
  {
   "cell_type": "code",
   "execution_count": 7,
   "id": "2a7981b2",
   "metadata": {},
   "outputs": [
    {
     "data": {
      "text/plain": [
       "Text(0, 0.5, 'Overhead')"
      ]
     },
     "execution_count": 7,
     "metadata": {},
     "output_type": "execute_result"
    },
    {
     "data": {
      "image/png": "[encoded data removed]",
      "text/plain": [
       "<Figure size 432x288 with 1 Axes>"
      ]
     },
     "metadata": {},
     "output_type": "display_data"
    }
   ],
   "source": [
    "xax = np.linspace(0,1, 100)\n",
    "plt.plot(xax, [(gamma-lmbda*(gamma-1))**8 for lmbda in xax])\n",
    "plt.title(\"Overhead vs noise strength\")\n",
    "plt.xlabel(\"Noise strength\")\n",
    "plt.ylabel(\"Overhead\")"
   ]
  }
 ],
 "metadata": {
  "kernelspec": {
   "display_name": "Python 3 (ipykernel)",
   "language": "python",
   "name": "python3"
  },
  "language_info": {
   "codemirror_mode": {
    "name": "ipython",
    "version": 3
   },
   "file_extension": ".py",
   "mimetype": "text/x-python",
   "name": "python",
   "nbconvert_exporter": "python",
   "pygments_lexer": "ipython3",
   "version": "3.8.13"
  },
  "vscode": {
   "interpreter": {
    "hash": "c7c859f551ac771d7ec7b66508341cbf372a533465b4e32d787c7352e7a7fb68"
   }
  }
 },
 "nbformat": 4,
 "nbformat_minor": 5
}
