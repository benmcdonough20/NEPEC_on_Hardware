{
 "cells": [
  {
   "cell_type": "markdown",
   "id": "0e991293",
   "metadata": {},
   "source": [
    "# One Qubit PER\n",
    "In [Extending quantum probabilistic error cancellation through noise scaling](https://arxiv.org/abs/2108.02237) by Mari et. Al, a method of transforming a QPD representation of gates to produce a noise-scaled gate is set forth. This notebook uses `mitiq` to implement this method for general QPD representations and carries it out on a measurement of $Z$ after a preparation of the state $\\ket{1}$"
   ]
  },
  {
   "cell_type": "code",
   "execution_count": 1,
   "id": "f1dd5d11",
   "metadata": {},
   "outputs": [],
   "source": [
    "#helper libraries\n",
    "import numpy as np\n",
    "import matplotlib.pyplot as plt\n",
    "from copy import deepcopy\n",
    "\n",
    "#operator info\n",
    "from qiskit.quantum_info import Pauli, SuperOp, Kraus, Operator\n",
    "from qiskit import QuantumCircuit, Aer, execute \n",
    "from qiskit.providers.aer.noise import kraus_error, NoiseModel\n",
    "\n",
    "#Mitiq\n",
    "from mitiq.pec.types import OperationRepresentation, NoisyOperation\n",
    "from mitiq.pec import execute_with_pec"
   ]
  },
  {
   "cell_type": "markdown",
   "id": "34a3e670",
   "metadata": {},
   "source": [
    "## Create noise model\n",
    "\n",
    "This method works for general Pauli channels, but I used the particular sparse noise model described in *Probabilistic error cancellation with sparse Pauli-Lindblad models on noisy quantum processors* for better comparison to the other notebooks.\n",
    "\n",
    "This next cell defines the model parameters"
   ]
  },
  {
   "cell_type": "code",
   "execution_count": 2,
   "id": "43d49cfa",
   "metadata": {
    "scrolled": false
   },
   "outputs": [],
   "source": [
    "n = 1 #number of qubits\n",
    "F = [Pauli(\"I\"), Pauli(\"X\"), Pauli(\"Y\"), Pauli(\"Z\")] #list of Paulis\n",
    "T = [Pauli(\"X\"), Pauli(\"Y\"), Pauli(\"Z\")] #These are the terms considered in the model\n",
    "coeffs = [.05, .05, .05] #These are the corresponding lambdas\n",
    "omegas = np.multiply(.5, np.add(1, np.exp(np.multiply(-2.0, coeffs)))) #Equation (S9)"
   ]
  },
  {
   "cell_type": "markdown",
   "id": "68dbe4ff",
   "metadata": {},
   "source": [
    "The following cell leverages the product form of this error model $\\Lambda(\\cdot) = \\prod_{k \\in \\mathcal{T}}\\omega_k\\mathcal{I}(\\cdot)+(1-\\omega_k)\\mathcal{P}_k(\\cdot)$ to generate a superoperator representation of the error channel, which will be used later to construct the noisy simulator and specify the noisy pauli gates that can be applied."
   ]
  },
  {
   "cell_type": "code",
   "execution_count": 3,
   "id": "b29cb003",
   "metadata": {},
   "outputs": [],
   "source": [
    "channel = SuperOp(np.identity(4)) #Start with identity map\n",
    "\n",
    "#Repeatedly compose (w_kI+(1-w_k)P_k) to get error channel as superops\n",
    "for i in range(len(T)):\n",
    "    op = SuperOp(T[i])*(1-omegas[i])+omegas[i]*SuperOp(np.identity(4));\n",
    "    channel = channel.compose(op);\n",
    "\n",
    "kraus_ops = Kraus(channel).data #convert to Kraus channel and extract array of ops\n",
    "noise_model = NoiseModel() #create noise model from kraus error channel\n",
    "noise_model.add_all_qubit_quantum_error(kraus_error(kraus_ops), ['id', 'x','y','z']) #add noise to all gates\n",
    "basis_gates = noise_model.basis_gates"
   ]
  },
  {
   "cell_type": "markdown",
   "id": "fdc69099",
   "metadata": {},
   "source": [
    "## Canonical Noise Scaling\n",
    "\n",
    "Canonical noise scaling involves separating the distribution into the negative and positive volumes by the sign of the coefficients. Given a QPD representation of a unitary $\\mathcal{U}$ in terms of noisy gates $\\mathcal{O}_\\alpha\\in \\mathcal{I}$,\n",
    "$$\n",
    "\\mathcal{U} = \\sum_{\\alpha} \\eta_\\alpha \\mathcal{O}_\\alpha\n",
    "$$\n",
    "the indices $\\alpha$ corresponding to negative and positive coefficients can be separated into two sets:\n",
    "$$\n",
    "D^{\\pm} = \\{\\alpha \\ | \\ \\eta_\\alpha \\gtrless 0\\}\n",
    "$$\n",
    "Then the gates corresponding to each set can be used to construct a TPCP operator:\n",
    "$$\n",
    "\\Phi^{\\pm} = \\frac{1}{\\gamma^{\\pm}}\\sum_{\\alpha \\in D^{\\pm}}|\\eta_\\alpha| \\mathcal{O}_\\alpha\n",
    "$$\n",
    "Where the overhead is selected so that the operator is trace-preserving:\n",
    "$$\n",
    "\\gamma^{\\pm} = \\sum_{\\alpha \\in D^{\\pm}}|\\eta_\\alpha|\n",
    "$$\n",
    "Then $\\mathcal{U}$ can be written in terms of these channels:\n",
    "$$\n",
    "\\mathcal{U} = \\gamma^+ \\Phi^+ - \\gamma^- \\Phi^-\n",
    "$$\n",
    "A noisy gate $\\mathcal{U}^\\lambda$ can be parameterized as\n",
    "$$\n",
    "\\mathcal{U}^\\lambda = (\\gamma^+-\\lambda \\gamma^-)\\Phi^+-(1-\\lambda)\\gamma^-\\Phi^-\n",
    "$$\n",
    "This has the convenient property that at $\\lambda = 0$ it reduces to the ideal QPD, at $\\lambda = 1$ it reduces to $\\Phi^+$ representing around hardware noise level, and at $\\lambda = \\frac{\\gamma^+}{\\gamma^-}$ it reduces to $\\Phi^-$, representing the greatest level of noise.\n",
    "\n",
    "Lastly, the overheads $\\gamma^+$ and $\\gamma^-$ can be computed in terms of $\\gamma$, using the equations\n",
    "$$\n",
    "\\gamma^+-\\gamma^- = 1\\\\\n",
    "\\gamma^+ + \\gamma^- = \\gamma\n",
    "$$\n",
    "Which hold when $\\lambda < 1$. Adding and subtracting these yields\n",
    "$$\n",
    "\\gamma^+ = \\frac{\\gamma+1}{2}\\\\\n",
    "\\gamma^- = \\frac{\\gamma-1}{2}\n",
    "$$"
   ]
  },
  {
   "cell_type": "markdown",
   "id": "7a6e644d",
   "metadata": {},
   "source": [
    "\n",
    "### Deriving Pauli channel from sparse model\n",
    "\n",
    "The sparse model is constructed in the paper from the transfer matrix, with diagonal elements \n",
    "$$\n",
    "f_a = \\text{Tr}[P_a \\Lambda(P_a)] = \\langle \\langle P_a \\vert R_\\Lambda \\vert P_a \\rangle \\rangle \\ \\ \\Rightarrow R_\\Lambda = \\frac{1}{4^n}\\sum_a f_a \\vert P_a \\rangle \\rangle \\langle \\langle P_a \\vert\\\\\n",
    "\\text{where} \\ \\ \\langle \\langle P_a \\vert P_b \\rangle \\rangle = \\text{Tr}[P_a^\\dagger P_b] = \\delta_{ab}2^n\n",
    "$$\n",
    "The pauli transfer matrix is the matrix form of the error channel when vectorized, expressed as\n",
    "$$\n",
    "R_\\Lambda\\vert \\rho \\rangle \\rangle = \\vert\\Lambda(\\rho)\\rangle \\rangle\n",
    "$$\n",
    "For a Pauli channel, the transfer matrix is diagonal in the pauli basis. The process matrix $\\Chi$ is also diagonal for a Pauli channel, and the evolution takes the form\n",
    "$$\n",
    "\\sum_{i}\\chi_i P_i\\rho P_i = \\Lambda(\\rho)\n",
    "$$\n",
    "Using Roth's Lemma, which states that $\\text{vec}(ABC) = C^\\top \\otimes A \\text{vec}(B)$, the process matrix becomes the following superoperator:\n",
    "$$\n",
    "\\vert \\sum_{i}\\chi_i P_i\\rho P_i \\rangle \\rangle = \\sum_i\\chi_i P_i^\\ast \\otimes P_i \\vert \\rho \\rangle \\rangle\n",
    "$$\n",
    "Since $\\vert \\rho \\rangle \\rangle$ is an arbitrary density matrix, this means that\n",
    "$$\n",
    "\\frac{1}{4^n}\\sum_i f_i \\vert P_i \\rangle \\rangle \\langle \\langle P_i \\vert = \\sum_i c_i P_i^\\ast \\otimes P_i\n",
    "$$\n",
    "Then, we can multiply both sides on the left by $P_j^\\ast \\otimes P_j$ and take the trace\n",
    "$$\n",
    "\\frac{1}{4^n}\\text{Tr}\\left[(P_j^\\ast \\otimes P_j)\\sum_i f_i \\vert P_i \\rangle \\rangle \\langle \\langle P_i \\vert\\right] = \\text{Tr}\\left[(P_j^\\ast \\otimes P_j)\\sum_i c_i P_i^\\ast \\otimes P_i\\right]\n",
    "$$\n",
    "The right side simplifies quickly:\n",
    "$$\n",
    "\\begin{align*}\n",
    "\\text{Tr}\\left[(P_j^\\ast \\otimes P_j)\\sum_i c_i P_i^\\ast \\otimes P_i\\right] &= \\text{Tr}\\left[\\sum_i c_i (P_iP_j)^\\ast \\otimes (P_jP_i)\\right]\\\\\n",
    "&= \\sum_i c_i \\text{Tr}\\left[(P_iP_j)^\\ast \\otimes (P_jP_i)\\right]\\\\\n",
    "&= 4^nc_j\n",
    "\\end{align*}\n",
    "$$\n",
    "For the left side, define the symplectic inner product \n",
    "$$\n",
    "\\langle a, b \\rangle_{sym} = \n",
    "\\begin{cases}\n",
    "0 & [P_a, P_b] = 0\\\\\n",
    "1 & \\{P_a,P_b\\} = 0\n",
    "\\end{cases}\n",
    "$$\n",
    "Then the left side reduces to\n",
    "$$\n",
    "\\begin{align*}\n",
    "\\frac{1}{4^n}\\text{Tr}\\left[(P_j^\\ast \\otimes P_j)\\sum_i f_i \\vert P_i \\rangle \\rangle \\langle \\langle P_i \\vert\\right] &= \\sum_i f_i \\text{Tr}\\left[(P_j^\\ast \\otimes P_j)\\vert P_i \\rangle \\rangle \\langle \\langle P_i \\vert\\right]\\\\\n",
    "&= \\frac{1}{4^n}\\sum_i f_i \\text{Tr}\\left[(P_j^\\ast \\otimes P_j)\\vert P_i \\rangle \\rangle \\langle \\langle P_i \\vert\\right]\\\\\n",
    "&= \\frac{1}{4^n}\\sum_i f_i \\text{Tr}\\left[\\vert P_j P_i P_j \\rangle \\rangle \\langle \\langle P_i \\vert\\right]\\\\\n",
    "&= \\frac{1}{4^n}\\sum_i f_i \\sum_{k}\\langle \\langle P_k \\vert P_j P_i P_j \\rangle \\rangle \\langle \\langle P_i \\vert P_k \\rangle \\rangle\\\\\n",
    "&= \\frac{1}{8^n}\\sum_i f_i \\langle \\langle P_i \\vert P_j P_i P_j \\rangle \\rangle\\\\\n",
    "&= \\frac{1}{8^n}\\sum_i f_i (-1)^{\\langle i,j \\rangle_{sym}}\\langle \\langle P_i \\vert P_i \\rangle \\rangle\\\\\n",
    "&= \\frac{1}{16^n}\\sum_i f_i (-1)^{\\langle i,j \\rangle_{sym}}\n",
    "\\end{align*}\n",
    "$$\n",
    "Equating these sides, we find that\n",
    "$$\n",
    "c_j = \\frac{1}{4^n}\\sum_k(-1)^{\\langle j, k\\rangle}f_k\n",
    "$$"
   ]
  },
  {
   "cell_type": "markdown",
   "id": "129cd5b6",
   "metadata": {},
   "source": [
    "This next cell defines the symplectic inner product and the above expression as the Walsh-Hadamard transformation. Then the model coefficients are converted to fidelities using the equation\n",
    "$$\n",
    "f_a = \\exp\\left(-2\\sum_{\\langle a, b \\rangle_{sym} = 1}\\lambda_k\\right)\n",
    "$$\n",
    "The inverse channel is characterized by the inverse fidelities, and so the inverse coefficients are found using\n",
    "$$\n",
    "c_j^{-1} = \\frac{1}{4^n}\\sum_j (-1)^{\\langle j,k\\rangle}\\frac{1}{f_a}\n",
    "$$"
   ]
  },
  {
   "cell_type": "code",
   "execution_count": 4,
   "id": "b6f5722d",
   "metadata": {},
   "outputs": [],
   "source": [
    "def s_prod(j, k): #symplectic inner product\n",
    "    return {True:0,False:1}[F[j].compose(F[k]) == F[k].compose(F[j])]\n",
    "\n",
    "M = [[s_prod(j,k) for k in range(len(F))] for j in range(len(F))] #Use a matrix to express as system of linear equations\n",
    "\n",
    "f = np.exp(np.multiply(-2.0, np.dot(M,[0]+coeffs))) #find ideal fidelities\n",
    "        \n",
    "def WHtransform(k): #Walsh-Hadamard transform with inverse fidelities\n",
    "    return 1/4**n*np.sum([(-1)**s_prod(k,j)*1/f[j] for j in range(len(F))])\n",
    "    \n",
    "pauli_coeffs = [WHtransform(k) for k in range(len(F))] #get coefficients"
   ]
  },
  {
   "cell_type": "markdown",
   "id": "d608a45e",
   "metadata": {},
   "source": [
    "This cell creates an `OperationRepresentation` of `gate_to_mitigate`. For simplicity this is now only a Pauli operator, but this can easily be extended to whatever operators are natively supported on the hardware by replacing the pauli `.compose()` method with more general operator composition. "
   ]
  },
  {
   "cell_type": "code",
   "execution_count": 5,
   "id": "6bb72b56",
   "metadata": {},
   "outputs": [
    {
     "name": "stdout",
     "output_type": "stream",
     "text": [
      "q_0: ───X─── = 1.166*(q_0: ───X───)-0.055*(q_0: ───I───)-0.055*(q_0: ───Z───)-0.055*(q_0: ───Y───)\n"
     ]
    }
   ],
   "source": [
    "gate_to_mitigate = Pauli('X') #the gate to be turned into a QPD\n",
    "noisy_ops = [SuperOp(P).compose(channel) for P in F] #Noisy operator base are all paulis with added noise\n",
    "\n",
    "rep_dict = {}\n",
    "for (coeff,P,noisy_op) in zip(pauli_coeffs,F,noisy_ops):\n",
    "    qc = QuantumCircuit(1) #ideal quantum circuit representing noisy op\n",
    "    P = Pauli(gate_to_mitigate.compose(P).to_label()[-1]) #hack to get rid of global phase, breaks without this\n",
    "    qc.append(P.to_instruction(),[0]) #insert the pauli into the ideal circuit\n",
    "    rep_dict[NoisyOperation(qc, noisy_op.data)] = coeff\n",
    "\n",
    "ideal = QuantumCircuit(1)\n",
    "ideal.append(gate_to_mitigate,[0])\n",
    "op_rep = OperationRepresentation(ideal, rep_dict)\n",
    "print(op_rep) #print the operator representation"
   ]
  },
  {
   "cell_type": "markdown",
   "id": "e0e12ffe",
   "metadata": {},
   "source": [
    "The canonical noise scaling is carried out by a method with takes an `OperationRepresentation` and returns a noise-scaled version. The PEC distribution in `op_rep` represents\n",
    "$$\n",
    "\\lambda^+ \\Phi^+-\\lambda^-\\Phi^-\n",
    "$$\n",
    "To convert this to the noise-scaled representation, all of the negative coefficients are scaled by $(1-\\lambda)$ and the positive coefficients are scaled by $\\frac{\\gamma^+-\\lambda\\gamma^-}{\\gamma^+}$, resulting in the noise-scaled distribution\n",
    "$$\n",
    "(\\gamma^+-\\lambda \\gamma^-)\\Phi^+-(1-\\lambda)\\gamma^- \\Phi^-\n",
    "$$"
   ]
  },
  {
   "cell_type": "code",
   "execution_count": 6,
   "id": "2b788415",
   "metadata": {},
   "outputs": [],
   "source": [
    "#convert PEC rep to PER rep\n",
    "def get_canonical_noise_scaled_rep(op_rep : OperationRepresentation,\n",
    "                                   lmbda) -> OperationRepresentation:\n",
    "    #copy data from previous rep\n",
    "    noisy_ops = op_rep.noisy_operations\n",
    "    coeffs = list(op_rep.coeffs)\n",
    "    ideal_program = op_rep.ideal\n",
    "\n",
    "    #define terms\n",
    "    gammaminus = .5*(op_rep.norm-1)\n",
    "    gammaplus = .5*(op_rep.norm+1)\n",
    "\n",
    "    #scale coefficients accordingly\n",
    "    for (i,coeff) in enumerate(coeffs):\n",
    "        if coeff < 0:\n",
    "            coeffs[i] = coeff*(1-lmbda)\n",
    "        else:\n",
    "            coeffs[i] = coeff/gammaplus*(gammaplus-lmbda*gammaminus)\n",
    "    \n",
    "    #construct and return new representation\n",
    "    scaled_rep_dict = dict(zip(noisy_ops, coeffs))\n",
    "    return OperationRepresentation(ideal_program, scaled_rep_dict)"
   ]
  },
  {
   "cell_type": "markdown",
   "id": "1a76d61b",
   "metadata": {},
   "source": [
    "Get the unmitigated expectation value of the ideal circuit"
   ]
  },
  {
   "cell_type": "code",
   "execution_count": 7,
   "id": "06ca8276",
   "metadata": {},
   "outputs": [
    {
     "name": "stdout",
     "output_type": "stream",
     "text": [
      "-0.8168\n"
     ]
    }
   ],
   "source": [
    "test_shots = 10000\n",
    "backend = Aer.get_backend('qasm_simulator')\n",
    "circ = ideal.copy()\n",
    "circ.measure_all()\n",
    "counts = execute(circ, backend, noise_model = noise_model, basis_gates = basis_gates, shots=test_shots).result().get_counts()\n",
    "unmitigated_value = (counts.get('0', 0)-counts.get('1',0))/test_shots\n",
    "print(unmitigated_value)\n"
   ]
  },
  {
   "cell_type": "markdown",
   "id": "486da718",
   "metadata": {},
   "source": [
    "Define a function to act as the `Executor` passed to the `execute_with_pec`. This function is a substitute for a routine to find the expectation value of a circuit on a noisy quantum backend."
   ]
  },
  {
   "cell_type": "code",
   "execution_count": 8,
   "id": "ac4f35ef",
   "metadata": {},
   "outputs": [],
   "source": [
    "shots = 1000\n",
    "def noisy_executor(circ):\n",
    "    qc = circ.copy()\n",
    "    qc.measure_all()\n",
    "    counts = execute(qc, backend, noise_model = noise_model, basis_gates = basis_gates, optimization_level = 0, shots=shots).result().get_counts()\n",
    "    return (counts.get('0', 0)-counts.get('1',0))/shots"
   ]
  },
  {
   "cell_type": "markdown",
   "id": "f8e86987",
   "metadata": {},
   "source": [
    "Test if PEC is working before running full scan, value should be close to $-1$ within two digits of precision."
   ]
  },
  {
   "cell_type": "code",
   "execution_count": 9,
   "id": "933c5a5b",
   "metadata": {},
   "outputs": [
    {
     "name": "stdout",
     "output_type": "stream",
     "text": [
      "-1.0084670378234133\n"
     ]
    }
   ],
   "source": [
    "print(execute_with_pec(ideal, noisy_executor, representations=[op_rep]))"
   ]
  },
  {
   "cell_type": "markdown",
   "id": "31c5b508",
   "metadata": {},
   "source": [
    "## Find estimator for different values of $\\lambda$"
   ]
  },
  {
   "cell_type": "code",
   "execution_count": 10,
   "id": "e956e7d0",
   "metadata": {},
   "outputs": [],
   "source": [
    "lmbdas = [0, .2, .6, 1, 1.2]\n",
    "mitigated_values = []\n",
    "samples = 1000\n",
    "#Run the procedure for each lambda\n",
    "mitigated_values = [execute_with_pec(ideal, noisy_executor, representations=[get_canonical_noise_scaled_rep(op_rep, lmbda)]) for lmbda in lmbdas]"
   ]
  },
  {
   "cell_type": "code",
   "execution_count": 11,
   "id": "630ac028",
   "metadata": {},
   "outputs": [
    {
     "data": {
      "text/plain": [
       "<matplotlib.legend.Legend at 0x7f9d12d74ca0>"
      ]
     },
     "execution_count": 11,
     "metadata": {},
     "output_type": "execute_result"
    },
    {
     "data": {
      "image/png": "[encoded data removed]",
      "text/plain": [
       "<Figure size 432x288 with 1 Axes>"
      ]
     },
     "metadata": {
      "needs_background": "light"
     },
     "output_type": "display_data"
    }
   ],
   "source": [
    "xrange = np.linspace(0, max(lmbdas), 100)\n",
    "mv, = plt.plot(lmbdas, mitigated_values, 'ro')\n",
    "umv, = plt.plot([1], unmitigated_value, 'bo')\n",
    "iv, = plt.plot(xrange, [-1]*len(xrange), '-.')\n",
    "plt.xlabel(\"Noise level\")\n",
    "plt.ylabel(\"Estimator value for %s shots\" %samples)\n",
    "plt.axvline(1)\n",
    "plt.title(\"Noise Level vs Estimator value\")\n",
    "plt.legend([umv, mv, iv], ['Unmitigated value', 'Error-mitigated value', 'Ideal value'], loc=\"lower right\")"
   ]
  }
 ],
 "metadata": {
  "kernelspec": {
   "display_name": "Python 3 (ipykernel)",
   "language": "python",
   "name": "python3"
  },
  "language_info": {
   "codemirror_mode": {
    "name": "ipython",
    "version": 3
   },
   "file_extension": ".py",
   "mimetype": "text/x-python",
   "name": "python",
   "nbconvert_exporter": "python",
   "pygments_lexer": "ipython3",
   "version": "3.10.5"
  },
  "vscode": {
   "interpreter": {
    "hash": "c7c859f551ac771d7ec7b66508341cbf372a533465b4e32d787c7352e7a7fb68"
   }
  }
 },
 "nbformat": 4,
 "nbformat_minor": 5
}
