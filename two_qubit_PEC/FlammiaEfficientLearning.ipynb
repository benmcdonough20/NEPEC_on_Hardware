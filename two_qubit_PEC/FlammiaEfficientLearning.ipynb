{
 "cells": [
  {
   "cell_type": "code",
   "execution_count": 427,
   "metadata": {},
   "outputs": [],
   "source": [
    "from qiskit import quantum_info as qi\n",
    "from typing import List\n",
    "from itertools import product\n",
    "import numpy as np\n",
    "import scipy as sc\n",
    "import qiskit.circuit.library as lib\n",
    "import qiskit\n",
    "\n",
    "Pauli = List[int]\n",
    "\n",
    "np.set_printoptions(precision = 3, suppress=True)\n",
    "from numba import vectorize\n",
    "\n",
    "ST_IDX = 2 #starting index for binary strings\n",
    "n = 2 #global number of qubits\n",
    "d = 2**n #global size of hilbert space\n",
    "P_1 = [np.identity(2), qi.Pauli('X').to_matrix(), qi.Pauli('Z').to_matrix()] \n",
    "pauli_names = ['I', 'X', 'Z', 'Y']\n",
    "B_gates = [np.identity(2), lib.HGate().to_matrix(), np.identity(2), lib.HGate().to_matrix() @ lib.SGate().to_matrix()]"
   ]
  },
  {
   "cell_type": "code",
   "execution_count": 387,
   "metadata": {},
   "outputs": [],
   "source": [
    "#return the name associated with a pauli binary string\n",
    "def p_name(a: Pauli):\n",
    "    p_name = \"\"\n",
    "    for i in range(n):\n",
    "        p_name += pauli_names[a[i]+a[i+n]*2]\n",
    "    return p_name\n",
    "\n",
    "#binary representation of pauli operator\n",
    "def P(a: Pauli):\n",
    "    ret_op = [1]\n",
    "    for i in range(n):\n",
    "        op = np.identity(2)\n",
    "        op = op @ P_1[a[i]]\n",
    "        op = op @ P_1[a[i+n]*2]\n",
    "        op = op * 1j ** np.dot(a[n:], a[:n])\n",
    "        ret_op = np.kron(ret_op,op)\n",
    "    return ret_op\n",
    "\n",
    "#define the binary symplectic product\n",
    "def bs_prod(a : Pauli, b : Pauli):\n",
    "    tot = 0\n",
    "    for i in range(n):\n",
    "        tot += a[i]*b[i+n]+a[i+n]*b[i]\n",
    "    return tot % 2\n",
    "\n",
    "def order_A(G : List[Pauli]):\n",
    "    return 2**d/(d**2-len(G))"
   ]
  },
  {
   "cell_type": "code",
   "execution_count": 417,
   "metadata": {},
   "outputs": [
    {
     "name": "stdout",
     "output_type": "stream",
     "text": [
      "['XY', 'YX']\n"
     ]
    }
   ],
   "source": [
    "generators = [[1,1,0,1],[1,1,1,0]]\n",
    "print([p_name(p) for p in generators])"
   ]
  },
  {
   "cell_type": "code",
   "execution_count": 402,
   "metadata": {},
   "outputs": [],
   "source": [
    "def stabilizer_state(S, a):\n",
    "    op = np.identity(d)\n",
    "    for i in range(len(S)):\n",
    "        sgn = (-1)**bs_prod(S[i], a)\n",
    "        proj = .5*(np.identity(d)-np.multiply(sgn,P(S[i])))\n",
    "        op = op @ proj\n",
    "    return op\n",
    "\n",
    "def stabilizer_measurement(S, a):\n",
    "    p = S[0]\n",
    "    B = np.ones(1)\n",
    "    for i in range(n):\n",
    "        print(p[i]+p[i+n])\n",
    "        B = np.kron(B, B_gates[p[i]+p[i+n]*2])\n",
    "    return B"
   ]
  },
  {
   "cell_type": "code",
   "execution_count": 403,
   "metadata": {},
   "outputs": [],
   "source": [
    "stab = stabilizer_state(generators, [0,0,1,0])"
   ]
  },
  {
   "cell_type": "code",
   "execution_count": 425,
   "metadata": {},
   "outputs": [],
   "source": [
    "vals, vecs = np.linalg.eig(stab)\n",
    "proj = [vecs[i] for i in range(len(vecs)) if not np.abs(vals[i])<1e-16][0]"
   ]
  },
  {
   "cell_type": "code",
   "execution_count": 433,
   "metadata": {},
   "outputs": [
    {
     "data": {
      "text/plain": [
       "<qiskit.circuit.instructionset.InstructionSet at 0x7fb0a2cacc00>"
      ]
     },
     "execution_count": 433,
     "metadata": {},
     "output_type": "execute_result"
    }
   ],
   "source": [
    "qc = qiskit.QuantumCircuit(2,2)\n",
    "qc.initialize(proj)"
   ]
  },
  {
   "cell_type": "code",
   "execution_count": 429,
   "metadata": {},
   "outputs": [
    {
     "data": {
      "text/html": [
       "<pre style=\"word-wrap: normal;white-space: pre;background: #fff0;line-height: 1.1;font-family: &quot;Courier New&quot;,Courier,monospace\">     ┌────────────────────────────────────────────┐\n",
       "q_0: ┤0                                           ├\n",
       "     │  Initialize(0.28868,-0.5,0.57735,-0.57735) │\n",
       "q_1: ┤1                                           ├\n",
       "     └────────────────────────────────────────────┘\n",
       "c: 2/══════════════════════════════════════════════\n",
       "                                                   </pre>"
      ],
      "text/plain": [
       "     ┌────────────────────────────────────────────┐\n",
       "q_0: ┤0                                           ├\n",
       "     │  Initialize(0.28868,-0.5,0.57735,-0.57735) │\n",
       "q_1: ┤1                                           ├\n",
       "     └────────────────────────────────────────────┘\n",
       "c: 2/══════════════════════════════════════════════\n",
       "                                                   "
      ]
     },
     "execution_count": 429,
     "metadata": {},
     "output_type": "execute_result"
    }
   ],
   "source": [
    "qc.draw()"
   ]
  },
  {
   "cell_type": "code",
   "execution_count": null,
   "metadata": {},
   "outputs": [],
   "source": []
  }
 ],
 "metadata": {
  "kernelspec": {
   "display_name": "Python 3.10.4 ('qiskit_env')",
   "language": "python",
   "name": "python3"
  },
  "language_info": {
   "codemirror_mode": {
    "name": "ipython",
    "version": 3
   },
   "file_extension": ".py",
   "mimetype": "text/x-python",
   "name": "python",
   "nbconvert_exporter": "python",
   "pygments_lexer": "ipython3",
   "version": "3.10.4"
  },
  "orig_nbformat": 4,
  "vscode": {
   "interpreter": {
    "hash": "d4803144e0ca2433cbbdbc82809c7bf0c6dd86d5d16291a48205e2d911513c87"
   }
  }
 },
 "nbformat": 4,
 "nbformat_minor": 2
}
