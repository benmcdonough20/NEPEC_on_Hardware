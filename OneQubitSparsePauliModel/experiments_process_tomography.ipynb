{
 "cells": [
  {
   "cell_type": "code",
   "execution_count": 3,
   "id": "98083c83",
   "metadata": {},
   "outputs": [],
   "source": [
    "from qiskit import QuantumCircuit, execute\n",
    "import qiskit.quantum_info as qi\n",
    "#the simulator\n",
    "from qiskit.providers.aer import AerSimulator\n",
    "# Noise model\n",
    "from qiskit.test.mock import FakeVigo\n",
    "from numpy import pi\n",
    "\n",
    "#qiskit experiments is replacing qiskit ignis. Docs can be found here:\n",
    "#https://qiskit.org/documentation/experiments/apidocs/index.html\n",
    "from qiskit_experiments.library.tomography import ProcessTomography, ProcessTomographyAnalysis\n",
    "from qiskit_experiments.library.tomography.fitters import linear_inversion, scipy_gaussian_lstsq\n",
    "\n",
    "#Is there a library for SICPOVM basis?\n",
    "from qiskit_experiments.library.tomography.basis import PauliMeasurementBasis, PauliPreparationBasis\n",
    "\n",
    "# Construct noisy simulator\n",
    "backend = AerSimulator.from_backend(FakeVigo())"
   ]
  },
  {
   "cell_type": "markdown",
   "id": "daa66d93",
   "metadata": {},
   "source": [
    "1. Prepare the process by specifying a circuit"
   ]
  },
  {
   "cell_type": "code",
   "execution_count": 4,
   "id": "bceb1be6",
   "metadata": {},
   "outputs": [],
   "source": [
    "qc = QuantumCircuit(1)\n",
    "qc.ry(pi/2, 0);"
   ]
  },
  {
   "cell_type": "markdown",
   "id": "1752e2f2",
   "metadata": {},
   "source": [
    "2. The tomography experiment sets up the circuits to measure in the chosen basis"
   ]
  },
  {
   "cell_type": "code",
   "execution_count": 17,
   "id": "b7c9aae9",
   "metadata": {},
   "outputs": [],
   "source": [
    "#circuit (or appendable object, measurement basis, qubits to measure (all if None), and preparation basis)\n",
    "exp = ProcessTomography(qc)\n",
    "experiment_data = exp.run(backend, fitter = \"linear_inversion\")"
   ]
  },
  {
   "cell_type": "code",
   "execution_count": 18,
   "id": "758174b1",
   "metadata": {},
   "outputs": [],
   "source": [
    "#acquire the data\n",
    "results = experiment_data.analysis_results()\n",
    "choi_matrix = results[0].value\n",
    "kraus_rep = qi.Kraus(choi_matrix)"
   ]
  },
  {
   "cell_type": "code",
   "execution_count": 19,
   "id": "0d2e4477",
   "metadata": {},
   "outputs": [
    {
     "name": "stdout",
     "output_type": "stream",
     "text": [
      "[{'0': 495, '1': 529}, {'1': 62, '0': 962}, {'1': 496, '0': 528}, {'1': 507, '0': 517}, {'0': 91, '1': 933}, {'0': 521, '1': 503}, {'0': 73, '1': 951}, {'0': 514, '1': 510}, {'1': 535, '0': 489}, {'1': 477, '0': 547}, {'1': 545, '0': 479}, {'1': 90, '0': 934}]\n"
     ]
    }
   ],
   "source": [
    "print(experiment_data.jobs()[0].result().get_counts())"
   ]
  },
  {
   "cell_type": "code",
   "execution_count": 6,
   "id": "05adf776",
   "metadata": {},
   "outputs": [
    {
     "name": "stdout",
     "output_type": "stream",
     "text": [
      "Kraus operator 0:\n",
      "\n",
      "[[ 0.66102454-2.99258647e-17j -0.68884136-2.07222535e-02j]\n",
      " [ 0.68036113-1.74846107e-02j  0.65297883+3.15234914e-02j]]\n",
      "\n",
      "\n",
      "Kraus operator 1:\n",
      "\n",
      "[[-0.07678613-5.09359511e-16j -0.01553209-7.36176057e-02j]\n",
      " [-0.06540309-5.42950125e-03j  0.13007581-6.34798216e-02j]]\n",
      "\n",
      "\n",
      "Kraus operator 2:\n",
      "\n",
      "[[ 8.78525773e-11-0.17799218j  3.21189909e-02-0.03562504j]\n",
      " [ 4.38259930e-02+0.17240365j -6.38655752e-03-0.03953072j]]\n",
      "\n",
      "\n",
      "Kraus operator 3:\n",
      "\n",
      "[[-0.10861564+1.82573960e-14j -0.10838458+1.98844318e-01j]\n",
      " [-0.0607013 +1.04112767e-01j  0.06268127+1.09377444e-01j]]\n",
      "\n",
      "\n"
     ]
    }
   ],
   "source": [
    "for (i,op) in enumerate(kraus_rep.data):\n",
    "    print(\"Kraus operator \" + str(i) + \":\\n\")\n",
    "    print(op)\n",
    "    print(\"\\n\")"
   ]
  },
  {
   "cell_type": "code",
   "execution_count": 7,
   "id": "641ffbd1",
   "metadata": {},
   "outputs": [
    {
     "data": {
      "text/html": [
       "<pre style=\"word-wrap: normal;white-space: pre;background: #fff0;line-height: 1.1;font-family: &quot;Courier New&quot;,Courier,monospace\">          ┌─────────────┐ ░ ┌─────────┐ ░ ┌────────────┐ ░ ┌─┐\n",
       "  q: ─|0>─┤ PauliPrepZp ├─░─┤ Ry(π/2) ├─░─┤ PauliMeasZ ├─░─┤M├\n",
       "          └─────────────┘ ░ └─────────┘ ░ └────────────┘ ░ └╥┘\n",
       "c: 1/═══════════════════════════════════════════════════════╩═\n",
       "                                                            0 </pre>"
      ],
      "text/plain": [
       "          ┌─────────────┐ ░ ┌─────────┐ ░ ┌────────────┐ ░ ┌─┐\n",
       "  q: ─|0>─┤ PauliPrepZp ├─░─┤ Ry(π/2) ├─░─┤ PauliMeasZ ├─░─┤M├\n",
       "          └─────────────┘ ░ └─────────┘ ░ └────────────┘ ░ └╥┘\n",
       "c: 1/═══════════════════════════════════════════════════════╩═\n",
       "                                                            0 "
      ]
     },
     "execution_count": 7,
     "metadata": {},
     "output_type": "execute_result"
    }
   ],
   "source": [
    "exp.circuits()[0].draw()"
   ]
  },
  {
   "cell_type": "code",
   "execution_count": 8,
   "id": "55918a01",
   "metadata": {},
   "outputs": [
    {
     "name": "stdout",
     "output_type": "stream",
     "text": [
      "Choi([[ 0.48632813+0.j        ,  0.43066406+0.01464844j,\n",
      "       -0.43603516+0.02392578j,  0.421875  -0.01269531j],\n",
      "      [ 0.43066406-0.01464844j,  0.51367188+0.j        ,\n",
      "       -0.44433594+0.02929688j,  0.43603516-0.02392578j],\n",
      "      [-0.43603516-0.02392578j, -0.44433594-0.02929688j,\n",
      "        0.53417969+0.j        , -0.43164062+0.0234375j ],\n",
      "      [ 0.421875  +0.01269531j,  0.43603516+0.02392578j,\n",
      "       -0.43164062-0.0234375j ,  0.46582031+0.j        ]],\n",
      "     input_dims=(2,), output_dims=(2,))\n"
     ]
    }
   ],
   "source": [
    "print(choi_matrix)"
   ]
  },
  {
   "cell_type": "code",
   "execution_count": null,
   "id": "af549bed",
   "metadata": {},
   "outputs": [],
   "source": []
  }
 ],
 "metadata": {
  "kernelspec": {
   "display_name": "Python 3 (ipykernel)",
   "language": "python",
   "name": "python3"
  },
  "language_info": {
   "codemirror_mode": {
    "name": "ipython",
    "version": 3
   },
   "file_extension": ".py",
   "mimetype": "text/x-python",
   "name": "python",
   "nbconvert_exporter": "python",
   "pygments_lexer": "ipython3",
   "version": "3.10.4"
  }
 },
 "nbformat": 4,
 "nbformat_minor": 5
}
