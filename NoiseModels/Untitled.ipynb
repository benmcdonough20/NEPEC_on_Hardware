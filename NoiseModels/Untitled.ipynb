{
 "cells": [
  {
   "cell_type": "code",
   "execution_count": 8,
   "id": "d084f0d6",
   "metadata": {},
   "outputs": [],
   "source": [
    "import numpy as np\n",
    "import random\n",
    "from qiskit import execute, QuantumCircuit, QuantumRegister, ClassicalRegister\n",
    "from qiskit.quantum_info import Kraus\n",
    "\n",
    "from qiskit.providers.aer.noise import NoiseModel, pauli_error"
   ]
  },
  {
   "cell_type": "code",
   "execution_count": 2,
   "id": "8c9d08fb",
   "metadata": {},
   "outputs": [],
   "source": [
    "p_error = .05\n",
    "bit_flip = pauli_error([('X', p_error),('I',1-p_error)])"
   ]
  },
  {
   "cell_type": "code",
   "execution_count": 10,
   "id": "3653860f",
   "metadata": {},
   "outputs": [
    {
     "name": "stdout",
     "output_type": "stream",
     "text": [
      "0.22179488886955911\n"
     ]
    }
   ],
   "source": [
    "print(random.random())"
   ]
  },
  {
   "cell_type": "code",
   "execution_count": 20,
   "id": "95704292",
   "metadata": {},
   "outputs": [
    {
     "name": "stdout",
     "output_type": "stream",
     "text": [
      "[0.56989381 0.89383724 0.53932277 0.4460691  0.59234464 0.64226028\n",
      " 0.71400972]\n"
     ]
    }
   ],
   "source": [
    "print(np.random.rand(7))"
   ]
  },
  {
   "cell_type": "code",
   "execution_count": null,
   "id": "5291096e",
   "metadata": {},
   "outputs": [],
   "source": []
  }
 ],
 "metadata": {
  "kernelspec": {
   "display_name": "Python 3 (ipykernel)",
   "language": "python",
   "name": "python3"
  },
  "language_info": {
   "codemirror_mode": {
    "name": "ipython",
    "version": 3
   },
   "file_extension": ".py",
   "mimetype": "text/x-python",
   "name": "python",
   "nbconvert_exporter": "python",
   "pygments_lexer": "ipython3",
   "version": "3.10.5"
  }
 },
 "nbformat": 4,
 "nbformat_minor": 5
}
