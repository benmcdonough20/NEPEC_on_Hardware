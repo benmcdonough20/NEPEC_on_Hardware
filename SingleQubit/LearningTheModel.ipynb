{
 "cells": [
  {
   "cell_type": "markdown",
   "id": "328b2e80",
   "metadata": {},
   "source": [
    "# Learning the model\n",
    "\n",
    "This shows a simplified example of learning the coefficients in the generator of the sparse noise model on a single qubit."
   ]
  },
  {
   "cell_type": "code",
   "execution_count": 61,
   "id": "f1dd5d11",
   "metadata": {},
   "outputs": [],
   "source": [
    "#helper libraries\n",
    "import numpy as np\n",
    "from random import random, choice\n",
    "import math\n",
    "from itertools import cycle\n",
    "import scipy.optimize\n",
    "import matplotlib.pyplot as plt\n",
    "\n",
    "#qiskit functionalities\n",
    "from qiskit import Aer, execute, QuantumCircuit, QuantumRegister, ClassicalRegister\n",
    "from qiskit.tools.visualization import plot_histogram\n",
    "\n",
    "#noise model stuff\n",
    "from qiskit.providers.aer.noise import NoiseModel, kraus_error, pauli_error\n",
    "    \n",
    "#operator info\n",
    "from qiskit.quantum_info import PauliList, Pauli, Kraus, pauli_basis\n",
    "\n",
    "plt.style.use(\"ggplot\")"
   ]
  },
  {
   "cell_type": "markdown",
   "id": "34a3e670",
   "metadata": {},
   "source": [
    "Define the terms\n",
    "$$\n",
    "\\vec\\lambda, \\mathcal{F}, \\mathcal{T}, \\vec \\omega\n",
    "$$\n",
    "Where $\\vec \\lambda$ is a list of the coefficients, $\\mathcal{F}$ is the set of Pauli operators, $\\mathcal{T}$ is the set of operators in the sparse model, and $\\vec \\omega$ is the transformed coefficients in the noise model (Eq. S9)"
   ]
  },
  {
   "cell_type": "code",
   "execution_count": 62,
   "id": "20d8350e",
   "metadata": {},
   "outputs": [],
   "source": [
    "n = 1 #Number of qubits\n",
    "T = PauliList(['I','X', 'Y', 'Z']) #List of Pauli operators\n",
    "F = PauliList(['X', 'Y', 'Z']) #Pauli operators considered in the sparse model\n",
    "coeffs = [random()*.1 for p in F] #lambda coefficients for the model Paulis"
   ]
  },
  {
   "cell_type": "markdown",
   "id": "70c54263",
   "metadata": {},
   "source": [
    "Eq. S9: \n",
    "$$\n",
    "\\omega_k = \\frac{1}{2}(1+e^{-2\\lambda_k})\n",
    "$$"
   ]
  },
  {
   "cell_type": "code",
   "execution_count": 92,
   "id": "2c55c68d",
   "metadata": {},
   "outputs": [],
   "source": [
    "omegas = [.5*(1+np.exp(-2*lambdak)) for lambdak in coeffs]"
   ]
  },
  {
   "cell_type": "markdown",
   "id": "189fb966",
   "metadata": {},
   "source": [
    "Defining the simplectic inner product, a function such that\n",
    "$$\n",
    "\\langle P_a, P_b \\rangle_{sp} = \n",
    "\\begin{cases}\n",
    "0 & [P_a, P_b] = 0 \\\\\n",
    "1 & \\text{else}\n",
    "\\end{cases}\n",
    "$$\n",
    "This is expressed in a matrix $M(\\mathcal{T}, \\mathcal{F})_{ab} = \\langle T_a, F_b \\rangle_{sp}$ to simplify equation (S10)"
   ]
  },
  {
   "cell_type": "code",
   "execution_count": 93,
   "id": "9f877b8c",
   "metadata": {},
   "outputs": [],
   "source": [
    "def s_prod(a, b):\n",
    "    return int(a.anticommutes(b))\n",
    "\n",
    "M = [[s_prod(a,b) for b in F] for a in T]"
   ]
  },
  {
   "cell_type": "markdown",
   "id": "2a575a26",
   "metadata": {},
   "source": [
    "ideal_fidelities is the ideal $\\vec f$ (with components $f_a$) giving the fidelities for each element in $\\mathcal{F}$. This is computed using Eq. (S11),\n",
    "$$\n",
    "-\\log(\\vec f)/2 = M\\vec \\lambda\n",
    "$$"
   ]
  },
  {
   "cell_type": "code",
   "execution_count": 94,
   "id": "a2c3e5a0",
   "metadata": {},
   "outputs": [
    {
     "name": "stdout",
     "output_type": "stream",
     "text": [
      "[1.         0.8133486  0.69805414 0.8412741 ]\n"
     ]
    }
   ],
   "source": [
    "ideal_fidelities = np.exp(-2*np.dot(M, coeffs))\n",
    "print(ideal_fidelities)"
   ]
  },
  {
   "cell_type": "markdown",
   "id": "4072ad29",
   "metadata": {},
   "source": [
    "The model fidelities can be converted to Pauli coefficients using the simplectic Hadamard transformation,\n",
    "$$\n",
    "c_b = \\frac{1}{2^n} \\sum_a (-1)^{\\langle P_a, P_b\\rangle_{sp}}f_a\n",
    "$$\n",
    "These convert the diagonal transfer matrix to a diagonal $\\chi$ matrix."
   ]
  },
  {
   "cell_type": "code",
   "execution_count": 95,
   "id": "63c02a59",
   "metadata": {},
   "outputs": [
    {
     "name": "stdout",
     "output_type": "stream",
     "text": [
      "[0.8381692098638039, 0.06850508920708634, 0.01085785971033279, 0.08246784121877701]\n"
     ]
    }
   ],
   "source": [
    "#Do all 4^n-1 fidelities need to be measured or can some be omitted?\n",
    "def WHtransform(P_b, eigenvals):\n",
    "    return sum([(-1)**s_prod(P_a, P_b)*f_a/4**n for f_a, P_a in zip(eigenvals, T)])\n",
    "\n",
    "chi = [WHtransform(b, ideal_fidelities) for b in T]\n",
    "    \n",
    "print(chi)"
   ]
  },
  {
   "cell_type": "markdown",
   "id": "ab8d51cc",
   "metadata": {},
   "source": [
    "Use the resulting diagonal process matrix to create a pauli channel\n",
    "$$\n",
    "\\Lambda(\\rho) = \\sum_{i}\\chi_i P_i \\rho P_i\n",
    "$$"
   ]
  },
  {
   "cell_type": "code",
   "execution_count": 67,
   "id": "af816012",
   "metadata": {},
   "outputs": [],
   "source": [
    "#Pauli error channel\n",
    "pauli_error_channel = pauli_error(zip(T, chi))\n",
    "pauli_noise_model = NoiseModel()\n",
    "pauli_noise_model.add_all_qubit_quantum_error(pauli_error_channel, ['id', 'x','y','z'])\n",
    "pauli_basis_gates = pauli_noise_model.basis_gates"
   ]
  },
  {
   "cell_type": "markdown",
   "id": "f020720b",
   "metadata": {},
   "source": [
    "Following Flammia et Al., if $\\ket{\\pm}$ is an eigenstate of $P_a$ with eigenvalue $\\pm 1$, then a pauli channel has the property that\n",
    "$$\n",
    "f_a = tr(P_a\\Lambda(|\\pm\\rangle \\langle \\pm |) = \\pm\\frac{1}{2^n}tr(P_a \\Lambda(P_a))\n",
    "$$\n",
    "This means that the fidelity $f_a$ can be measured by only preparing a single eigenstate of $P_a$."
   ]
  },
  {
   "cell_type": "code",
   "execution_count": 96,
   "id": "2fc460eb",
   "metadata": {},
   "outputs": [],
   "source": [
    "backend = Aer.get_backend('qasm_simulator')\n",
    "\n",
    "depths = [0,2,4,6,8,10] #number of folds to fit noise\n",
    "circuits = {p:{d:[] for d in depths} for p in F}\n",
    "samples = 100\n",
    "\n",
    "for p in F:\n",
    "    for depth in depths:\n",
    "        for sample in range(samples):\n",
    "            qc = QuantumCircuit(1,1)\n",
    "            frame = Pauli(\"I\") #store the overall pauli frame due to the twirl\n",
    "            #prepare an eigenstate of the desired pauli operator\n",
    "            match p.to_label():\n",
    "                case \"X\":\n",
    "                    qc.h(0)\n",
    "                case \"Y\":\n",
    "                    qc.h(0)\n",
    "                    qc.s(0)\n",
    "\n",
    "            #add twirling layers\n",
    "            for j in range(depth-1):\n",
    "                twirl = Pauli(choice(\"IXYZ\"))\n",
    "                qc.append(twirl,[0])\n",
    "                frame = frame.compose(twirl) \n",
    "\n",
    "            #invert the overall effect of the twirl\n",
    "            if depth > 0:\n",
    "                qc.append(Pauli((frame.z, frame.x)), [0]) \n",
    "\n",
    "            #convert to computational basis\n",
    "            match p.to_label():\n",
    "                case \"X\":\n",
    "                    qc.h(0)\n",
    "                case \"Y\":\n",
    "                    qc.sdg(0)\n",
    "                    qc.h(0)\n",
    "\n",
    "            #measure in the operator basis\n",
    "            qc.measure(0,0)\n",
    "        \n",
    "            circuits[p][depth].append(qc)"
   ]
  },
  {
   "cell_type": "markdown",
   "id": "cb9e934a",
   "metadata": {},
   "source": [
    "Get measurements from noisy simulator"
   ]
  },
  {
   "cell_type": "code",
   "execution_count": 70,
   "id": "0db93867",
   "metadata": {},
   "outputs": [],
   "source": [
    "fidelities = {p:[] for p in F}\n",
    "shots = 1000\n",
    "for p in F:\n",
    "    for d in depths:\n",
    "        expectation = 0\n",
    "        for circ in circuits[p][d]:\n",
    "            #run circuit\n",
    "            job = backend.run(circ,noise_model = pauli_noise_model, shots = shots)\n",
    "            counts = job.result().get_counts()\n",
    "            #compute expectation value of Z\n",
    "            expectation += (1/shots)*(counts.get('0',0)*1+(-1)*counts.get('1',0))\n",
    "        fidelities[p].append(expectation/samples)"
   ]
  },
  {
   "cell_type": "markdown",
   "id": "47da3538",
   "metadata": {},
   "source": [
    "The expectation value of any Pauli operator on a maximally randomized state is\n",
    "$$\n",
    "\\begin{align*}\n",
    "\\frac{1}{2^n}\\operatorname{Tr}[P_a\\Lambda(I)] &= \\frac{1}{2^n}\\operatorname{Tr}[P_a \\prod_{k}\\omega_k I + (1-\\omega_k)P_aIP_a] \\\\\n",
    "&= \\frac{1}{2^n}\\operatorname{Tr}[P_a \\prod_{k}\\omega_k + (1-\\omega_k)] \\\\\n",
    "&= \\frac{1}{2^n}\\operatorname{Tr}[P_a] \\\\\n",
    "&= 0\n",
    "\\end{align*}\n",
    "$$\n",
    "So we can assume that $f_a \\to 0$ as the circuit depth grows to $\\infty$. Due to SPAM, the fidelities at zero depth may be less than one. Errors accumulate exponentially, so the function chosen to fit is\n",
    "$$\n",
    "f_a(d) = c_1e^{-c_2d}\n",
    "$$\n",
    "Once the fit is obtained, $c_1$ is set to one to remove errors due to SPAM, because a SPAM-free situation would have $f_a=1$ at depth zero, and the noise channel fidelity $f_a$ is obtained by evaluating $e^{-c_2}$, corresponding to half a fold, or one gate application."
   ]
  },
  {
   "cell_type": "code",
   "execution_count": 98,
   "id": "cdb06b4c",
   "metadata": {},
   "outputs": [
    {
     "data": {
      "text/plain": [
       "<matplotlib.legend.Legend at 0x7fd219f87bb0>"
      ]
     },
     "execution_count": 98,
     "metadata": {},
     "output_type": "execute_result"
    },
    {
     "data": {
      "image/png": "[encoded data removed]",
      "text/plain": [
       "<Figure size 432x288 with 1 Axes>"
      ]
     },
     "metadata": {},
     "output_type": "display_data"
    }
   ],
   "source": [
    "#plot each fold as two gates and scale so it starts at 2\n",
    "xrange = np.linspace(0,np.max(depths),100) \n",
    "colcy = cycle([\"tab:red\", \"tab:blue\", \"tab:green\"])\n",
    "expfit = lambda x,a,b: a* np.exp(-b*x)\n",
    "measured_fidelities = []\n",
    "#plot the measured fidelities vs gate depths\n",
    "figs = []\n",
    "for p in F:\n",
    "    params, cv = scipy.optimize.curve_fit(expfit, depths, fidelities[p])\n",
    "    measured_fidelities.append(np.exp(-params[1]))\n",
    "    color = next(colcy)\n",
    "    fig, = plt.plot(xrange, [expfit(x, *params) for x in xrange], color = color)\n",
    "    figs.append(fig)\n",
    "    plt.plot(depths, fidelities[p], color = color, linestyle = \"None\", marker = \"X\")\n",
    "plt.title(\"Circuit Depth vs Fidelity\")\n",
    "plt.xlabel(\"Depth\")\n",
    "plt.ylabel(\"Fidelity\")\n",
    "plt.legend(figs, [\"X\",\"Y\",\"Z\"])"
   ]
  },
  {
   "cell_type": "markdown",
   "id": "ebc9b325",
   "metadata": {},
   "source": [
    "Comparing the extrapolated (measured) fidelities to the ideal ones"
   ]
  },
  {
   "cell_type": "code",
   "execution_count": 72,
   "id": "b66fd7bf",
   "metadata": {},
   "outputs": [
    {
     "name": "stdout",
     "output_type": "stream",
     "text": [
      "Measured fidelities:  [0.8136761629428637, 0.6980195899691938, 0.8404387088145991]\n",
      "Ideal Fidelitites:  [0.8133486  0.69805414 0.8412741 ]\n",
      "Manhattan Norm:  0.0011975073307256556\n"
     ]
    }
   ],
   "source": [
    "print(\"Measured fidelities: \", measured_fidelities)\n",
    "print(\"Ideal Fidelitites: \", ideal_fidelities[1:])\n",
    "print(\"Manhattan Norm: \", np.sum(np.abs(ideal_fidelities[1:]-measured_fidelities)))"
   ]
  },
  {
   "cell_type": "markdown",
   "id": "3da35327",
   "metadata": {},
   "source": [
    "The original fidelities are obtained from the model coefficients using Eq. S11\n",
    "$$\n",
    "-\\frac{1}{2}\\ln(\\vec f) = M\\vec \\lambda\n",
    "$$\n",
    "Having measured $\\vec f$, the solution $\\vec \\lambda$ is found such that\n",
    "$$\n",
    "\\vert \\vert M\\lambda + \\frac{1}{2}\\ln(\\vec f) \\vert \\vert_2\n",
    "$$\n",
    "is minimized"
   ]
  },
  {
   "cell_type": "code",
   "execution_count": 77,
   "id": "019d65f7",
   "metadata": {},
   "outputs": [
    {
     "name": "stdout",
     "output_type": "stream",
     "text": [
      "Reconstructed model coefficients:  [0.08178663 0.00512899 0.09796742]\n",
      "Ideal model coefficients:  [0.08142522066508827, 0.004993653342113336, 0.09830408732389304]\n"
     ]
    }
   ],
   "source": [
    "def lsq_fit(coeffs):\n",
    "    return np.sum(np.square(np.dot(M,coeffs)+np.log(measured_fidelities)/2))\n",
    "\n",
    "measured_coeffs, rnorm = scipy.optimize.nnls(M, -.5*np.log([1]+measured_fidelities))\n",
    "#Compare guess to the actual values\n",
    "print(\"Reconstructed model coefficients: \", measured_coeffs)\n",
    "print(\"Ideal model coefficients: \", coeffs)"
   ]
  },
  {
   "cell_type": "code",
   "execution_count": 91,
   "id": "6a801ec3",
   "metadata": {},
   "outputs": [
    {
     "data": {
      "text/plain": [
       "<matplotlib.legend.Legend at 0x7fd219e55300>"
      ]
     },
     "execution_count": 91,
     "metadata": {},
     "output_type": "execute_result"
    },
    {
     "data": {
      "image/png": "[encoded data removed]",
      "text/plain": [
       "<Figure size 432x288 with 1 Axes>"
      ]
     },
     "metadata": {},
     "output_type": "display_data"
    }
   ],
   "source": [
    "ax = np.arange(len(T)-1)\n",
    "plt.bar(ax-.2,measured_coeffs,.4, color = \"tab:blue\")\n",
    "plt.bar(ax+.2,coeffs,.4, color = \"tab:green\")\n",
    "plt.xticks(ax, F)\n",
    "plt.title(\"Measured vs. ideal model coefficients\")\n",
    "plt.ylabel(\"Coefficient\")\n",
    "plt.xlabel(\"Term\")\n",
    "plt.legend([\"Measured\", \"Ideal\"]);"
   ]
  }
 ],
 "metadata": {
  "kernelspec": {
   "display_name": "Python 3.10.4",
   "language": "python",
   "name": "python3"
  },
  "language_info": {
   "codemirror_mode": {
    "name": "ipython",
    "version": 3
   },
   "file_extension": ".py",
   "mimetype": "text/x-python",
   "name": "python",
   "nbconvert_exporter": "python",
   "pygments_lexer": "ipython3",
   "version": "3.10.4"
  },
  "vscode": {
   "interpreter": {
    "hash": "d4803144e0ca2433cbbdbc82809c7bf0c6dd86d5d16291a48205e2d911513c87"
   }
  }
 },
 "nbformat": 4,
 "nbformat_minor": 5
}
