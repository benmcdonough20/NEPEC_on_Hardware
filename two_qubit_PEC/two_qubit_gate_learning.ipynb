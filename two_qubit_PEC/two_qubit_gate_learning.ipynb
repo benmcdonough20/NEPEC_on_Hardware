{
 "cells": [
  {
   "cell_type": "code",
   "execution_count": 5,
   "id": "aad0d9ad",
   "metadata": {},
   "outputs": [],
   "source": [
    "from qiskit.quantum_info import Operator, Pauli, PTM, pauli_basis\n",
    "from qiskit.circuit.library import CXGate, CZGate, HGate, SGate\n",
    "from qiskit import QuantumCircuit, Aer, execute\n",
    "from qiskit.providers.aer.noise import depolarizing_error, NoiseModel, pauli_error\n",
    "\n",
    "import numpy as np\n",
    "from random import choices, random\n",
    "from numpy.random import permutation\n",
    "import matplotlib.pyplot as plt\n",
    "from itertools import product\n",
    "from scipy.optimize import curve_fit"
   ]
  },
  {
   "cell_type": "code",
   "execution_count": 19,
   "id": "53276b18",
   "metadata": {},
   "outputs": [],
   "source": [
    "n=2\n",
    "names = [\"\".join(str) for str in product(['I', 'X', 'Y','Z'], repeat=n)]\n",
    "paulis = [Operator(Pauli(name)) for name in names]\n",
    "\n",
    "def get_name(pauli_op):\n",
    "    try:\n",
    "        return names[min([i for (i,gate) in enumerate(paulis) if pauli_op.equiv(gate)])]\n",
    "    except:\n",
    "        return -1\n",
    "\n",
    "def conjugate(pauli, cliffordop):\n",
    "    return get_name(cliffordop.compose(Operator(Pauli(pauli).to_matrix())).compose(cliffordop))"
   ]
  },
  {
   "cell_type": "code",
   "execution_count": 20,
   "id": "50519303",
   "metadata": {},
   "outputs": [
    {
     "name": "stdout",
     "output_type": "stream",
     "text": [
      "[('II', 'II'), ('IX', 'ZX'), ('IY', 'ZY'), ('IZ', 'IZ'), ('XI', 'XZ'), ('XX', 'YY'), ('XY', 'YX'), ('XZ', 'XI'), ('YI', 'YZ'), ('YX', 'XY'), ('YY', 'XX'), ('YZ', 'YI'), ('ZI', 'ZI'), ('ZX', 'IX'), ('ZY', 'IY'), ('ZZ', 'ZZ')]\n"
     ]
    }
   ],
   "source": [
    "p_group = pauli_basis(n, pauli_list = True).to_labels()\n",
    "p_group_permuted = [conjugate(p, Operator(CZGate())) for p in p_group]\n",
    "pairs = list(zip(p_group, p_group_permuted))\n",
    "print(pairs)"
   ]
  },
  {
   "cell_type": "code",
   "execution_count": 141,
   "id": "99bbaa5a",
   "metadata": {},
   "outputs": [
    {
     "name": "stdout",
     "output_type": "stream",
     "text": [
      "II : (1+0j)\n",
      "IX : (1+0j)\n",
      "IY : (0.96+0j)\n",
      "IZ : (0.96+0j)\n",
      "XI : (0.96+0j)\n",
      "XX : (0.96+0j)\n",
      "XY : (0.96+0j)\n",
      "XZ : (0.96+0j)\n",
      "YI : (1+0j)\n",
      "YX : (1+0j)\n",
      "YY : (0.96+0j)\n",
      "YZ : (0.96+0j)\n",
      "ZI : (0.96+0j)\n",
      "ZX : (0.96+0j)\n",
      "ZY : (0.96+0j)\n",
      "ZZ : (0.96+0j)\n"
     ]
    },
    {
     "data": {
      "image/png": "[encoded data removed]",
      "text/plain": [
       "<Figure size 432x288 with 1 Axes>"
      ]
     },
     "metadata": {
      "needs_background": "light"
     },
     "output_type": "display_data"
    }
   ],
   "source": [
    "errorgen = 4\n",
    "errorops = choices(p_group, k=errorgen)\n",
    "errorprobs = [random()*.1/errorgen for op in errorops]\n",
    "twoqubit_error = pauli_error([(Pauli(op), .01) for op in [\"YI\", \"IX\", \"YX\"]]+[(Pauli(\"II\"), .97)])\n",
    "noise_model = NoiseModel()\n",
    "noise_model.add_all_qubit_quantum_error(twoqubit_error, ['cx','cz'])\n",
    "\n",
    "real_errors = {}\n",
    "transfer_matrix = PTM(twoqubit_error.to_quantumchannel()).data\n",
    "for i,pauli in enumerate(pauli_basis(2, pauli_list = True)):\n",
    "    real_errors[pauli.to_label()] = transfer_matrix[i][i]\n",
    "    plt.bar(pauli.to_label(), 10*(1-transfer_matrix[i][i]).real)\n",
    "    print(pauli, \":\", transfer_matrix[i][i])\n",
    "\n",
    "SHOTS = 10000"
   ]
  },
  {
   "cell_type": "code",
   "execution_count": 84,
   "id": "ffe19434",
   "metadata": {},
   "outputs": [],
   "source": [
    "def get_expectation(circuit, pauli_str):\n",
    "    circ = circuit.copy()\n",
    "    circ.measure_all()\n",
    "    backend = Aer.get_backend('qasm_simulator')\n",
    "    counts = execute(circ, backend, shots = SHOTS, noise_model = noise_model, basis_gates = noise_model.basis_gates, optimization_level=0).result().get_counts()\n",
    "    total = 0\n",
    "    for key in counts.keys():\n",
    "        pauli_weight = [{\"I\":'0'}.get(p,'1') for p in pauli_str]\n",
    "        total += (-1)**sum([{('1','1'):1}.get((pauli_bit, key_bit), 0) for pauli_bit, key_bit in zip(pauli_weight, key)])*counts[key]\n",
    "    return total/SHOTS\n",
    "\n",
    "def measure_circuit(pauli_prep, pauli_meas, depth):\n",
    "    total = 0\n",
    "    qc = QuantumCircuit(2)\n",
    "    for i,p in enumerate(pauli_prep[::-1]):\n",
    "        match p:\n",
    "            case 'X':\n",
    "                qc.h(i)\n",
    "            case 'Y':\n",
    "                qc.h(i)\n",
    "                qc.s(i)\n",
    "    for i in range(depth):\n",
    "        qc.cz(0,1)\n",
    "    for i,p in enumerate(pauli_meas[::-1]):\n",
    "        match p:\n",
    "            case 'X':\n",
    "                qc.h(i)\n",
    "            case 'Y':\n",
    "                qc.sdg(i)\n",
    "                qc.h(i)\n",
    "    return qc "
   ]
  },
  {
   "cell_type": "code",
   "execution_count": 85,
   "id": "8092fdbe",
   "metadata": {},
   "outputs": [
    {
     "name": "stdout",
     "output_type": "stream",
     "text": [
      "{('XZ', 'XI'), ('ZY', 'IY'), ('YZ', 'YI'), ('ZX', 'IX')}\n"
     ]
    }
   ],
   "source": [
    "single_pairs = set()\n",
    "for p1, p2 in zip(p_group, p_group_permuted):\n",
    "    if 'I' in p1 and not 'I' in p2:\n",
    "        single_pairs.add((p2,p1))\n",
    "    if 'I' in p2 and not 'I' in p1:\n",
    "        single_pairs.add((p1,p2))\n",
    "print(single_pairs)"
   ]
  },
  {
   "cell_type": "code",
   "execution_count": 86,
   "id": "fa9a2f05",
   "metadata": {},
   "outputs": [
    {
     "name": "stdout",
     "output_type": "stream",
     "text": [
      "XI 1.0 (1+0j)\n",
      "IY 0.963 (0.96+0j)\n",
      "YI 0.9588 (0.96+0j)\n",
      "IX 1.0 (1+0j)\n"
     ]
    }
   ],
   "source": [
    "for double, single in single_pairs:\n",
    "    circ = measure_circuit(double,double,1)\n",
    "    print(single, get_expectation(circ, single), real_errors[single]) #no spam, otherwise divide by single measurement"
   ]
  },
  {
   "cell_type": "code",
   "execution_count": 87,
   "id": "a0da4755",
   "metadata": {},
   "outputs": [
    {
     "name": "stdout",
     "output_type": "stream",
     "text": [
      "XI real: (1+0j) measured: 0.9797236367017296 pair: (0.9797958971132712+0j)\n",
      "IY real: (0.96+0j) measured: 0.9600998973316762 pair: (0.96+0j)\n",
      "YI real: (0.96+0j) measured: 0.9605890372954362 pair: (0.96+0j)\n",
      "IX real: (1+0j) measured: 0.979256076202965 pair: (0.9797958971132712+0j)\n"
     ]
    }
   ],
   "source": [
    "depths = [1,3,5,7,9,11,13]\n",
    "for double, single in single_pairs:\n",
    "    res = []\n",
    "    for d in depths:\n",
    "        circ = measure_circuit(double, double, d)\n",
    "        res.append(get_expectation(circ, single))\n",
    "    expfit = lambda x,a,b: np.exp(-b*x)*a\n",
    "    popt, pcov = curve_fit(expfit, depths, res)\n",
    "    fid = expfit(1,1,popt[1])\n",
    "    print(single, \"real:\", real_errors[single], \"measured:\", fid, \"pair:\", np.sqrt(real_errors[single]*real_errors[double]))"
   ]
  },
  {
   "cell_type": "code",
   "execution_count": 88,
   "id": "1a44b2e0",
   "metadata": {},
   "outputs": [
    {
     "name": "stdout",
     "output_type": "stream",
     "text": [
      "XZ real: (0.96+0j) measured: 0.9797277055009549 pair: (0.9797958971132712+0j)\n",
      "ZY real: (0.96+0j) measured: 0.959378187787746 pair: (0.96+0j)\n",
      "YZ real: (0.96+0j) measured: 0.9593365772694431 pair: (0.96+0j)\n",
      "ZX real: (0.96+0j) measured: 0.9799604740877566 pair: (0.9797958971132712+0j)\n"
     ]
    }
   ],
   "source": [
    "depths = [2,4,6,8,10,12,14]\n",
    "for double, single in single_pairs:\n",
    "    res = []\n",
    "    for d in depths:\n",
    "        circ = measure_circuit(double, double, d)\n",
    "        res.append(get_expectation(circ, double))\n",
    "    expfit = lambda x,a,b: np.exp(-b*x)*a\n",
    "    popt, pcov = curve_fit(expfit, depths, res)\n",
    "    fid = expfit(1,1,popt[1])\n",
    "    print(double, \"real:\", real_errors[double], \"measured:\", fid, \"pair:\", np.sqrt(real_errors[single]*real_errors[double]))"
   ]
  },
  {
   "cell_type": "code",
   "execution_count": 89,
   "id": "74ca7f2a",
   "metadata": {},
   "outputs": [
    {
     "name": "stdout",
     "output_type": "stream",
     "text": [
      "II measured: 1.0 ideal (1+0j)\n",
      "ZX measured: 0.9608 ideal (0.96+0j)\n",
      "ZY measured: 0.9598 ideal (0.96+0j)\n",
      "IZ measured: 0.9612 ideal (0.96+0j)\n",
      "XZ measured: 0.962 ideal (0.96+0j)\n",
      "YY measured: 0.9636 ideal (0.96+0j)\n",
      "YX measured: 0.959 ideal (0.96+0j)\n",
      "XI measured: 1.0 ideal (1+0j)\n",
      "YZ measured: 0.9618 ideal (0.96+0j)\n",
      "XY measured: 0.9584 ideal (0.96+0j)\n",
      "XX measured: 1.0 ideal (1+0j)\n",
      "YI measured: 0.9622 ideal (0.96+0j)\n",
      "ZI measured: 0.9602 ideal (0.96+0j)\n",
      "IX measured: 1.0 ideal (1+0j)\n",
      "IY measured: 0.96 ideal (0.96+0j)\n",
      "ZZ measured: 0.9642 ideal (0.96+0j)\n"
     ]
    }
   ],
   "source": [
    "for p1, p2 in pairs:\n",
    "    circ = measure_circuit(p1, p2, 1)\n",
    "    res = get_expectation(circ, p2)\n",
    "    print(p2, \"measured:\", np.abs(res), \"ideal\", real_errors[p2])"
   ]
  },
  {
   "cell_type": "code",
   "execution_count": 90,
   "id": "a605cfbe",
   "metadata": {},
   "outputs": [
    {
     "name": "stdout",
     "output_type": "stream",
     "text": [
      "[('XX', 'YY'), ('XY', 'YX')]\n"
     ]
    }
   ],
   "source": [
    "double_pairs = []\n",
    "for p1, p2 in pairs:\n",
    "    if not (\"I\" in p1 or \"I\" in p2 or (p2,p1) in double_pairs or p1 == p2):\n",
    "        double_pairs.append((p1,p2))\n",
    "\n",
    "print(double_pairs)"
   ]
  },
  {
   "cell_type": "code",
   "execution_count": 127,
   "id": "b3b9cf8d",
   "metadata": {},
   "outputs": [],
   "source": [
    "def measure_double(pauli, pauli_pair, depth):\n",
    "    qc = QuantumCircuit(n)\n",
    "\n",
    "    for i,p in enumerate(pauli[::-1]):\n",
    "        match p:\n",
    "            case \"X\":\n",
    "                qc.h(i)\n",
    "            case \"Y\":\n",
    "                qc.h(i)\n",
    "                qc.s(i)\n",
    "\n",
    "    qc.barrier()\n",
    "    \n",
    "    for i in range(depth):\n",
    "        for i,p in enumerate(zip(pauli[::-1], pauli_pair[::-1])):\n",
    "            match p:\n",
    "                case (\"X\",\"Y\"):\n",
    "                    qc.s(i)\n",
    "                case (\"X\", \"Z\"):\n",
    "                    qc.h(i)\n",
    "                case (\"Y\", \"X\"):\n",
    "                    qc.sdg(i)\n",
    "                case (\"Y\", \"Z\"):\n",
    "                    qc.sdg(i)\n",
    "                    qc.h(i)\n",
    "                case (\"Z\", \"X\"):\n",
    "                    qc.h(i)\n",
    "                case (\"Z\", \"Y\"):\n",
    "                    qc.h(i)\n",
    "                    qc.s(i)\n",
    "\n",
    "\n",
    "        qc.cz(0,1) \n",
    "        qc.barrier()\n",
    "    for i,p in enumerate(pauli[::-1]):\n",
    "        match p:\n",
    "            case \"X\":\n",
    "                qc.h(i)\n",
    "            case \"Y\":\n",
    "                qc.sdg(i)\n",
    "                qc.h(i)\n",
    "\n",
    "    return qc"
   ]
  },
  {
   "cell_type": "code",
   "execution_count": 143,
   "id": "a76401ad",
   "metadata": {},
   "outputs": [
    {
     "name": "stdout",
     "output_type": "stream",
     "text": [
      "real: (0.96+0j) measured 0.9606297758788682\n"
     ]
    }
   ],
   "source": [
    "results = []\n",
    "depths = [2,4,6,8,10,12] #has to be even\n",
    "for d in depths:\n",
    "    circ = measure_double(\"XY\", \"YX\", d)\n",
    "    results.append(get_expectation(circ, \"XY\"))\n",
    "popt, pcov = curve_fit(expfit, depths, results)\n",
    "print(\"real:\", real_errors['XY'], \"measured\", np.exp(-popt[1]))"
   ]
  },
  {
   "cell_type": "code",
   "execution_count": 845,
   "id": "26a09b04",
   "metadata": {},
   "outputs": [
    {
     "name": "stdout",
     "output_type": "stream",
     "text": [
      "['II', 'IZ', 'ZI', 'ZZ']\n"
     ]
    }
   ],
   "source": [
    "easy_group = [p for p,b in pairs if p==b]\n",
    "print(easy_group)"
   ]
  },
  {
   "cell_type": "code",
   "execution_count": 129,
   "id": "452883dc",
   "metadata": {},
   "outputs": [
    {
     "data": {
      "text/html": [
       "<pre style=\"word-wrap: normal;white-space: pre;background: #fff0;line-height: 1.1;font-family: &quot;Courier New&quot;,Courier,monospace\">        ┌───┐┌───┐ ░ ┌─────┐    ░ ┌─────┐    ░ ┌─────┐┌───┐ ░ ┌─┐   \n",
       "   q_0: ┤ H ├┤ S ├─░─┤ Sdg ├─■──░─┤ Sdg ├─■──░─┤ Sdg ├┤ H ├─░─┤M├───\n",
       "        ├───┤└───┘ ░ └┬───┬┘ │  ░ └┬───┬┘ │  ░ └┬───┬┘└───┘ ░ └╥┘┌─┐\n",
       "   q_1: ┤ H ├──────░──┤ S ├──■──░──┤ S ├──■──░──┤ H ├───────░──╫─┤M├\n",
       "        └───┘      ░  └───┘     ░  └───┘     ░  └───┘       ░  ║ └╥┘\n",
       "meas: 2/═══════════════════════════════════════════════════════╩══╩═\n",
       "                                                               0  1 </pre>"
      ],
      "text/plain": [
       "        ┌───┐┌───┐ ░ ┌─────┐    ░ ┌─────┐    ░ ┌─────┐┌───┐ ░ ┌─┐   \n",
       "   q_0: ┤ H ├┤ S ├─░─┤ Sdg ├─■──░─┤ Sdg ├─■──░─┤ Sdg ├┤ H ├─░─┤M├───\n",
       "        ├───┤└───┘ ░ └┬───┬┘ │  ░ └┬───┬┘ │  ░ └┬───┬┘└───┘ ░ └╥┘┌─┐\n",
       "   q_1: ┤ H ├──────░──┤ S ├──■──░──┤ S ├──■──░──┤ H ├───────░──╫─┤M├\n",
       "        └───┘      ░  └───┘     ░  └───┘     ░  └───┘       ░  ║ └╥┘\n",
       "meas: 2/═══════════════════════════════════════════════════════╩══╩═\n",
       "                                                               0  1 "
      ]
     },
     "execution_count": 129,
     "metadata": {},
     "output_type": "execute_result"
    }
   ],
   "source": [
    "circ = measure_double(\"XY\", \"YX\", 2)\n",
    "circ.measure_all()\n",
    "circ.draw()"
   ]
  }
 ],
 "metadata": {
  "kernelspec": {
   "display_name": "Python 3.10.4 ('qiskit_env')",
   "language": "python",
   "name": "python3"
  },
  "language_info": {
   "codemirror_mode": {
    "name": "ipython",
    "version": 3
   },
   "file_extension": ".py",
   "mimetype": "text/x-python",
   "name": "python",
   "nbconvert_exporter": "python",
   "pygments_lexer": "ipython3",
   "version": "3.10.4"
  },
  "vscode": {
   "interpreter": {
    "hash": "d4803144e0ca2433cbbdbc82809c7bf0c6dd86d5d16291a48205e2d911513c87"
   }
  }
 },
 "nbformat": 4,
 "nbformat_minor": 5
}
