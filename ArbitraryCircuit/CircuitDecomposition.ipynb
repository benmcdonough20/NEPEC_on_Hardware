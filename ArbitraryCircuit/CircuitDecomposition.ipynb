{
 "cells": [
  {
   "cell_type": "code",
   "execution_count": 74,
   "metadata": {},
   "outputs": [],
   "source": [
    "from qiskit import QuantumCircuit\n",
    "from qiskit.dagcircuit import DAGCircuit\n",
    "from qiskit.converters import circuit_to_dag, dag_to_circuit\n",
    "from qiskit.tools.visualization import dag_drawer"
   ]
  },
  {
   "cell_type": "code",
   "execution_count": 350,
   "metadata": {},
   "outputs": [
    {
     "data": {
      "text/plain": [
       "<qiskit.circuit.instructionset.InstructionSet at 0x7fe52074f670>"
      ]
     },
     "execution_count": 350,
     "metadata": {},
     "output_type": "execute_result"
    }
   ],
   "source": [
    "qc = QuantumCircuit(4,4)\n",
    "qc.x(0)\n",
    "qc.cx(0,1)\n",
    "qc.cx(2,3)\n",
    "qc.x(0)\n",
    "qc.x(1)\n",
    "qc.cx(0,1)\n",
    "qc.cx(2,3)\n",
    "qc.cx(1,2)\n",
    "qc.measure(range(4), range(4))"
   ]
  },
  {
   "cell_type": "code",
   "execution_count": 351,
   "metadata": {},
   "outputs": [
    {
     "data": {
      "text/html": [
       "<pre style=\"word-wrap: normal;white-space: pre;background: #fff0;line-height: 1.1;font-family: &quot;Courier New&quot;,Courier,monospace\">     ┌───┐     ┌───┐          ┌─┐      \n",
       "q_0: ┤ X ├──■──┤ X ├──■───────┤M├──────\n",
       "     └───┘┌─┴─┐├───┤┌─┴─┐     └╥┘┌─┐   \n",
       "q_1: ─────┤ X ├┤ X ├┤ X ├──■───╫─┤M├───\n",
       "          └───┘└───┘└───┘┌─┴─┐ ║ └╥┘┌─┐\n",
       "q_2: ──■────■────────────┤ X ├─╫──╫─┤M├\n",
       "     ┌─┴─┐┌─┴─┐ ┌─┐      └───┘ ║  ║ └╥┘\n",
       "q_3: ┤ X ├┤ X ├─┤M├────────────╫──╫──╫─\n",
       "     └───┘└───┘ └╥┘            ║  ║  ║ \n",
       "c: 4/════════════╩═════════════╩══╩══╩═\n",
       "                 3             0  1  2 </pre>"
      ],
      "text/plain": [
       "     ┌───┐     ┌───┐          ┌─┐      \n",
       "q_0: ┤ X ├──■──┤ X ├──■───────┤M├──────\n",
       "     └───┘┌─┴─┐├───┤┌─┴─┐     └╥┘┌─┐   \n",
       "q_1: ─────┤ X ├┤ X ├┤ X ├──■───╫─┤M├───\n",
       "          └───┘└───┘└───┘┌─┴─┐ ║ └╥┘┌─┐\n",
       "q_2: ──■────■────────────┤ X ├─╫──╫─┤M├\n",
       "     ┌─┴─┐┌─┴─┐ ┌─┐      └───┘ ║  ║ └╥┘\n",
       "q_3: ┤ X ├┤ X ├─┤M├────────────╫──╫──╫─\n",
       "     └───┘└───┘ └╥┘            ║  ║  ║ \n",
       "c: 4/════════════╩═════════════╩══╩══╩═\n",
       "                 3             0  1  2 "
      ]
     },
     "execution_count": 351,
     "metadata": {},
     "output_type": "execute_result"
    }
   ],
   "source": [
    "qc.draw()"
   ]
  },
  {
   "cell_type": "code",
   "execution_count": 368,
   "metadata": {},
   "outputs": [
    {
     "data": {
      "text/html": [
       "<pre style=\"word-wrap: normal;white-space: pre;background: #fff0;line-height: 1.1;font-family: &quot;Courier New&quot;,Courier,monospace\">     ┌───┐      ░ ┌───┐      ░       ░ ┌─┐         \n",
       "q_0: ┤ X ├──■───░─┤ X ├──■───░───────░─┤M├─────────\n",
       "     └───┘┌─┴─┐ ░ ├───┤┌─┴─┐ ░       ░ └╥┘┌─┐      \n",
       "q_1: ─────┤ X ├─░─┤ X ├┤ X ├─░───■───░──╫─┤M├──────\n",
       "          └───┘ ░ └───┘└───┘ ░ ┌─┴─┐ ░  ║ └╥┘┌─┐   \n",
       "q_2: ──■────────░───■────────░─┤ X ├─░──╫──╫─┤M├───\n",
       "     ┌─┴─┐      ░ ┌─┴─┐      ░ └───┘ ░  ║  ║ └╥┘┌─┐\n",
       "q_3: ┤ X ├──────░─┤ X ├──────░───────░──╫──╫──╫─┤M├\n",
       "     └───┘      ░ └───┘      ░       ░  ║  ║  ║ └╥┘\n",
       "c: 4/═══════════════════════════════════╩══╩══╩══╩═\n",
       "                                        0  1  2  3 </pre>"
      ],
      "text/plain": [
       "     ┌───┐      ░ ┌───┐      ░       ░ ┌─┐         \n",
       "q_0: ┤ X ├──■───░─┤ X ├──■───░───────░─┤M├─────────\n",
       "     └───┘┌─┴─┐ ░ ├───┤┌─┴─┐ ░       ░ └╥┘┌─┐      \n",
       "q_1: ─────┤ X ├─░─┤ X ├┤ X ├─░───■───░──╫─┤M├──────\n",
       "          └───┘ ░ └───┘└───┘ ░ ┌─┴─┐ ░  ║ └╥┘┌─┐   \n",
       "q_2: ──■────────░───■────────░─┤ X ├─░──╫──╫─┤M├───\n",
       "     ┌─┴─┐      ░ ┌─┴─┐      ░ └───┘ ░  ║  ║ └╥┘┌─┐\n",
       "q_3: ┤ X ├──────░─┤ X ├──────░───────░──╫──╫──╫─┤M├\n",
       "     └───┘      ░ └───┘      ░       ░  ║  ║  ║ └╥┘\n",
       "c: 4/═══════════════════════════════════╩══╩══╩══╩═\n",
       "                                        0  1  2  3 "
      ]
     },
     "execution_count": 368,
     "metadata": {},
     "output_type": "execute_result"
    }
   ],
   "source": [
    "layers, measurements = circuit_to_benchmark_layers(qc)\n",
    "render_layers(layers, measurements).draw()"
   ]
  },
  {
   "cell_type": "code",
   "execution_count": 364,
   "metadata": {},
   "outputs": [],
   "source": [
    "def circuit_to_benchmark_layers(qc):\n",
    "    layers = []\n",
    "    #remove final measurements and store as separate layer\n",
    "    measurements = qc.copy_empty_like()\n",
    "    for inst in qc:\n",
    "        if inst.operation.name == \"measure\":\n",
    "            measurements.append(inst)\n",
    "\n",
    "    #convert qc to a list of instructions\n",
    "    inst_list = [inst for inst in qc if inst.operation.name != \"measure\"] \n",
    "\n",
    "    #iterate through instructions adding to layers according to the rules until all are added\n",
    "    while inst_list:\n",
    "        circ = qc.copy_empty_like()\n",
    "        layer_qubits = set()\n",
    "\n",
    "        for inst in inst_list.copy():\n",
    "            if not layer_qubits.intersection(inst.qubits):\n",
    "                if len(inst.qubits) == 2:\n",
    "                    layer_qubits = layer_qubits.union(inst.qubits)\n",
    "                circ.append(inst)\n",
    "                inst_list.remove(inst)\n",
    "\n",
    "        layers.append(circ)\n",
    "\n",
    "    return layers, measurements"
   ]
  },
  {
   "cell_type": "code",
   "execution_count": 367,
   "metadata": {},
   "outputs": [],
   "source": [
    "def render_layers(layers, measurements):\n",
    "    qc = layers[0].copy_empty_like()\n",
    "    for l in layers:\n",
    "        qc = qc.compose(l)\n",
    "        qc.barrier()\n",
    "    qc = qc.compose(measurements)\n",
    "    return qc"
   ]
  }
 ],
 "metadata": {
  "kernelspec": {
   "display_name": "Python 3.10.4 ('qiskit_env')",
   "language": "python",
   "name": "python3"
  },
  "language_info": {
   "codemirror_mode": {
    "name": "ipython",
    "version": 3
   },
   "file_extension": ".py",
   "mimetype": "text/x-python",
   "name": "python",
   "nbconvert_exporter": "python",
   "pygments_lexer": "ipython3",
   "version": "3.10.4"
  },
  "orig_nbformat": 4,
  "vscode": {
   "interpreter": {
    "hash": "d4803144e0ca2433cbbdbc82809c7bf0c6dd86d5d16291a48205e2d911513c87"
   }
  }
 },
 "nbformat": 4,
 "nbformat_minor": 2
}
