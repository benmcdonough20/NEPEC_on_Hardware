{
 "cells": [
  {
   "cell_type": "code",
   "execution_count": 3,
   "metadata": {},
   "outputs": [
    {
     "name": "stderr",
     "output_type": "stream",
     "text": [
      "/tmp/ipykernel_11420/2948114732.py:1: DeprecationWarning: The qiskit.ignis package is deprecated and has been supersceded by the qiskit-experiments project. Refer to the migration guide: https://github.com/Qiskit/qiskit-ignis#migration-guide on how to migrate to the new project.\n",
      "  from qiskit.ignis.verification.tomography.basis import default_gateset_basis\n"
     ]
    }
   ],
   "source": [
    "from qiskit.ignis.verification.tomography.basis import default_gateset_basis\n",
    "from qiskit import Aer, assemble\n",
    "from qiskit.ignis.verification.tomography import gateset_tomography_circuits, GatesetTomographyFitter\n",
    "\n",
    "from qiskit.quantum_info import Choi, Operator, Kraus\n",
    "from qiskit.extensions import HGate, XGate"
   ]
  },
  {
   "cell_type": "code",
   "execution_count": 14,
   "metadata": {},
   "outputs": [],
   "source": [
    "\n",
    "def collect_tomography_data(shots=10000,\n",
    "                            noise_model=None,\n",
    "                            gateset_basis='Standard GST'):\n",
    "    backend_qasm = Aer.get_backend('qasm_simulator')\n",
    "    circuits = gateset_tomography_circuits(gateset_basis=gateset_basis)\n",
    "    qobj = assemble(circuits, shots=shots)\n",
    "    result = backend_qasm.run(qobj, noise_model=noise_model).result()\n",
    "    fitter = GatesetTomographyFitter(result, circuits, gateset_basis)\n",
    "    return fitter\n",
    "\n",
    "def gate_set_tomography(gate, noise_model=None):\n",
    "    basis = default_gateset_basis()\n",
    "    basis.add_gate(gate)\n",
    "    fitter = collect_tomography_data(shots=10000, noise_model=noise_model, gateset_basis=basis)\n",
    "    result_gates = fitter.fit()\n",
    "    return result_gates"
   ]
  },
  {
   "cell_type": "code",
   "execution_count": 15,
   "metadata": {},
   "outputs": [
    {
     "name": "stdout",
     "output_type": "stream",
     "text": [
      "{'E': Operator([[ 1.00017081e+00+0.00000000e+00j,\n",
      "            7.60513535e-17-7.60513535e-17j],\n",
      "          [-2.45326947e-18-2.45326947e-18j,\n",
      "            0.00000000e+00+0.00000000e+00j]],\n",
      "         input_dims=(2,), output_dims=(2,)), 'rho': DensityMatrix([[1.00000000e+00+0.00000000e+00j,\n",
      "                3.92523115e-17-3.92523115e-17j],\n",
      "               [1.17756934e-16+1.17756934e-16j,\n",
      "                1.11022302e-16+0.00000000e+00j]],\n",
      "              dims=(2,)), 'Id': PTM([[ 1.01118925+0.j,  0.00260256+0.j,  0.01055427+0.j,  0.00306526+0.j],\n",
      "     [-0.00666579+0.j,  0.98206837+0.j, -0.01425608+0.j,  0.01927794+0.j],\n",
      "     [-0.01433245+0.j, -0.00109868+0.j,  0.97436736+0.j,  0.00132553+0.j],\n",
      "     [-0.00263909+0.j,  0.00531327+0.j, -0.0215093 +0.j,  0.993066  +0.j]],\n",
      "    input_dims=(2,), output_dims=(2,)), 'X_Rot_90': PTM([[ 1.00116832e+00+0.j, -3.09502875e-03+0.j,  3.77521403e-03+0.j,\n",
      "      -1.85222912e-03+0.j],\n",
      "     [-1.98561092e-03+0.j,  9.99181799e-01+0.j,  9.01071090e-03+0.j,\n",
      "      -4.15450801e-05+0.j],\n",
      "     [ 3.70358143e-04+0.j, -3.46385993e-03+0.j, -1.36259820e-03+0.j,\n",
      "      -9.89817661e-01+0.j],\n",
      "     [-3.73429746e-03+0.j, -5.11528690e-03+0.j,  9.88628629e-01+0.j,\n",
      "      -2.29593321e-04+0.j]],\n",
      "    input_dims=(2,), output_dims=(2,)), 'Y_Rot_90': PTM([[ 1.00428775+0.j, -0.00917235+0.j,  0.0082023 +0.j, -0.00396378+0.j],\n",
      "     [ 0.00595042+0.j,  0.01374835+0.j, -0.00296244+0.j, -0.99401567+0.j],\n",
      "     [-0.00344548+0.j,  0.00707271+0.j,  0.98376195+0.j, -0.00574527+0.j],\n",
      "     [-0.01035641+0.j,  0.99091743+0.j, -0.01131815+0.j,  0.00543159+0.j]],\n",
      "    input_dims=(2,), output_dims=(2,)), 'h': PTM([[ 1.01647135e+00+0.j,  5.22003897e-05+0.j,  8.19815118e-03+0.j,\n",
      "       2.30076934e-03+0.j],\n",
      "     [-7.32923082e-03+0.j, -3.37932261e-03+0.j,  9.34797571e-04+0.j,\n",
      "       9.91295283e-01+0.j],\n",
      "     [-5.11823911e-03+0.j, -1.23370463e-02+0.j, -9.80956025e-01+0.j,\n",
      "       1.58496802e-03+0.j],\n",
      "     [ 1.06849522e-03+0.j,  9.98347145e-01+0.j,  5.01998528e-05+0.j,\n",
      "       2.05800099e-02+0.j]],\n",
      "    input_dims=(2,), output_dims=(2,))}\n"
     ]
    }
   ],
   "source": [
    "channel_fit = gate_set_tomography(HGate())\n",
    "print(channel_fit)"
   ]
  },
  {
   "cell_type": "code",
   "execution_count": 9,
   "metadata": {},
   "outputs": [],
   "source": [
    "circs = gateset_tomography_circuits(gateset_basis = default_gateset_basis())"
   ]
  },
  {
   "cell_type": "code",
   "execution_count": 17,
   "metadata": {},
   "outputs": [
    {
     "name": "stdout",
     "output_type": "stream",
     "text": [
      "      ┌──────────────┐ ░  ░ ┌─────────┐┌─┐\n",
      "   q: ┤ U2(-π/2,π/2) ├─░──░─┤ U2(π,π) ├┤M├\n",
      "      └──────────────┘ ░  ░ └─────────┘└╥┘\n",
      "c0: 1/══════════════════════════════════╩═\n",
      "                                        0 \n"
     ]
    }
   ],
   "source": [
    "print(circs[6])"
   ]
  },
  {
   "cell_type": "code",
   "execution_count": null,
   "metadata": {},
   "outputs": [],
   "source": []
  }
 ],
 "metadata": {
  "kernelspec": {
   "display_name": "Python 3 (ipykernel)",
   "language": "python",
   "name": "python3"
  },
  "language_info": {
   "codemirror_mode": {
    "name": "ipython",
    "version": 3
   },
   "file_extension": ".py",
   "mimetype": "text/x-python",
   "name": "python",
   "nbconvert_exporter": "python",
   "pygments_lexer": "ipython3",
   "version": "3.10.5"
  },
  "vscode": {
   "interpreter": {
    "hash": "e7370f93d1d0cde622a1f8e1c04877d8463912d04d973331ad4851f04de6915a"
   }
  }
 },
 "nbformat": 4,
 "nbformat_minor": 2
}
