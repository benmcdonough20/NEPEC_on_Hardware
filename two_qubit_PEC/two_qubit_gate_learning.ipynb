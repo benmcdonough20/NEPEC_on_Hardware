{
 "cells": [
  {
   "cell_type": "code",
   "execution_count": 337,
   "id": "aad0d9ad",
   "metadata": {},
   "outputs": [],
   "source": [
    "from qiskit.quantum_info import Operator, Pauli, PTM, pauli_basis\n",
    "from qiskit.circuit.library import CXGate, CZGate, HGate, SGate\n",
    "from qiskit import QuantumCircuit, Aer, execute\n",
    "from qiskit.providers.aer.noise import depolarizing_error, NoiseModel, pauli_error\n",
    "\n",
    "import numpy as np\n",
    "from random import choices, random\n",
    "from numpy.random import permutation\n",
    "import matplotlib.pyplot as plt\n",
    "from itertools import product\n",
    "from scipy.optimize import curve_fit"
   ]
  },
  {
   "cell_type": "code",
   "execution_count": 338,
   "id": "53276b18",
   "metadata": {},
   "outputs": [],
   "source": [
    "n=2\n",
    "names = [\"\".join(str) for str in product(['I', 'X', 'Y','Z'], repeat=n)]\n",
    "paulis = [Operator(Pauli(name)) for name in names]\n",
    "\n",
    "def get_name(pauli_op):\n",
    "    try:\n",
    "        return names[min([i for (i,gate) in enumerate(paulis) if pauli_op.equiv(gate)])]\n",
    "    except:\n",
    "        return -1\n",
    "\n",
    "def conjugate(pauli, cliffordop):\n",
    "    return get_name(cliffordop.compose(Operator(Pauli(pauli).to_matrix())).compose(cliffordop))"
   ]
  },
  {
   "cell_type": "code",
   "execution_count": 339,
   "id": "50519303",
   "metadata": {},
   "outputs": [
    {
     "name": "stdout",
     "output_type": "stream",
     "text": [
      "[('II', 'II'), ('IX', 'XX'), ('IY', 'XY'), ('IZ', 'IZ'), ('XI', 'XI'), ('XX', 'IX'), ('XY', 'IY'), ('XZ', 'XZ'), ('YI', 'YZ'), ('YX', 'ZY'), ('YY', 'ZX'), ('YZ', 'YI'), ('ZI', 'ZZ'), ('ZX', 'YY'), ('ZY', 'YX'), ('ZZ', 'ZI')]\n"
     ]
    }
   ],
   "source": [
    "p_group = pauli_basis(n, pauli_list = True).to_labels()\n",
    "p_group_permuted = [conjugate(p, Operator(CXGate())) for p in p_group]\n",
    "pairs = list(zip(p_group, p_group_permuted))\n",
    "print(pairs)"
   ]
  },
  {
   "cell_type": "code",
   "execution_count": 340,
   "id": "99bbaa5a",
   "metadata": {},
   "outputs": [
    {
     "name": "stdout",
     "output_type": "stream",
     "text": [
      "II : (1+0j)\n",
      "IX : (0.8760985446556255+0j)\n",
      "IY : (0.9305881951818744+0j)\n",
      "IZ : (0.9005836274822399+0j)\n",
      "XI : (0.9655289901174212+0j)\n",
      "XX : (0.9105695545382043+0j)\n",
      "XY : (0.8961171852992956+0j)\n",
      "XZ : (0.9350546373648186+0j)\n",
      "YI : (0.9575179983605743+0j)\n",
      "YX : (0.9185805462950513+0j)\n",
      "YY : (0.8881061935424487+0j)\n",
      "YZ : (0.9430656291216656+0j)\n",
      "ZI : (0.9230469884779955+0j)\n",
      "ZX : (0.95305155617763+0j)\n",
      "ZY : (0.8536351836598699+0j)\n",
      "ZZ : (0.9775366390042444+0j)\n"
     ]
    },
    {
     "data": {
      "image/png": "[encoded data removed]",
      "text/plain": [
       "<Figure size 432x288 with 1 Axes>"
      ]
     },
     "metadata": {
      "needs_background": "light"
     },
     "output_type": "display_data"
    }
   ],
   "source": [
    "errorgen = 4\n",
    "errorops = choices(p_group, k=errorgen)\n",
    "errorprobs = [random()*.1/errorgen for op in errorops]\n",
    "twoqubit_error = pauli_error([(op, p) for op,p in zip(errorops, errorprobs)]+[(Pauli(\"II\"), 1-sum(errorprobs))])\n",
    "noise_model = NoiseModel()\n",
    "noise_model.add_all_qubit_quantum_error(twoqubit_error, ['cx','cz'])\n",
    "\n",
    "real_errors = {}\n",
    "transfer_matrix = PTM(twoqubit_error.to_quantumchannel()).data\n",
    "for i,pauli in enumerate(pauli_basis(2, pauli_list = True)):\n",
    "    real_errors[pauli.to_label()] = transfer_matrix[i][i]\n",
    "    plt.bar(pauli.to_label(), 10*(1-transfer_matrix[i][i]).real)\n",
    "    print(pauli, \":\", transfer_matrix[i][i])\n",
    "\n",
    "SHOTS = 10000"
   ]
  },
  {
   "cell_type": "code",
   "execution_count": 341,
   "id": "ffe19434",
   "metadata": {},
   "outputs": [],
   "source": [
    "def get_expectation(circuit, pauli_str):\n",
    "    circ = circuit.copy()\n",
    "    circ.measure_all()\n",
    "    backend = Aer.get_backend('qasm_simulator')\n",
    "    counts = execute(circ, backend, shots = SHOTS, noise_model = noise_model, basis_gates = noise_model.basis_gates, optimization_level=0).result().get_counts()\n",
    "    total = 0\n",
    "    for key in counts.keys():\n",
    "        pauli_weight = [{\"I\":'0'}.get(p,'1') for p in pauli_str]\n",
    "        total += (-1)**sum([{('1','1'):1}.get((pauli_bit, key_bit), 0) for pauli_bit, key_bit in zip(pauli_weight, key)])*counts[key]\n",
    "    return total/SHOTS\n",
    "\n",
    "def measure_circuit(pauli_prep, pauli_meas, depth):\n",
    "    total = 0\n",
    "    qc = QuantumCircuit(2)\n",
    "    for i,p in enumerate(pauli_prep[::-1]):\n",
    "        match p:\n",
    "            case 'X':\n",
    "                qc.h(i)\n",
    "            case 'Y':\n",
    "                qc.h(i)\n",
    "                qc.s(i)\n",
    "    for i in range(depth):\n",
    "        qc.cx(0,1)\n",
    "    for i,p in enumerate(pauli_meas[::-1]):\n",
    "        match p:\n",
    "            case 'X':\n",
    "                qc.h(i)\n",
    "            case 'Y':\n",
    "                qc.sdg(i)\n",
    "                qc.h(i)\n",
    "    return qc "
   ]
  },
  {
   "cell_type": "code",
   "execution_count": 342,
   "id": "8092fdbe",
   "metadata": {},
   "outputs": [
    {
     "name": "stdout",
     "output_type": "stream",
     "text": [
      "{('YZ', 'YI'), ('XY', 'IY'), ('XX', 'IX'), ('ZZ', 'ZI')}\n"
     ]
    }
   ],
   "source": [
    "single_pairs = set()\n",
    "for p1, p2 in zip(p_group, p_group_permuted):\n",
    "    if 'I' in p1 and not 'I' in p2:\n",
    "        single_pairs.add((p2,p1))\n",
    "    if 'I' in p2 and not 'I' in p1:\n",
    "        single_pairs.add((p1,p2))\n",
    "print(single_pairs)"
   ]
  },
  {
   "cell_type": "code",
   "execution_count": 343,
   "id": "fa9a2f05",
   "metadata": {},
   "outputs": [
    {
     "name": "stdout",
     "output_type": "stream",
     "text": [
      "YI 0.959 (0.9575179983605743+0j)\n",
      "IY 0.9248 (0.9305881951818744+0j)\n",
      "IX 0.8748 (0.8760985446556255+0j)\n",
      "ZI 0.9218 (0.9230469884779955+0j)\n"
     ]
    }
   ],
   "source": [
    "for double, single in single_pairs:\n",
    "    circ = measure_circuit(double,double,1)\n",
    "    print(single, get_expectation(circ, single), real_errors[single]) #no spam, otherwise divide by single measurement"
   ]
  },
  {
   "cell_type": "code",
   "execution_count": 344,
   "id": "a0da4755",
   "metadata": {},
   "outputs": [
    {
     "name": "stdout",
     "output_type": "stream",
     "text": [
      "YI real: (0.9575179983605743+0j) measured: 0.9495949989184699 pair: (0.950264338760133+0j)\n",
      "IY real: (0.9305881951818744+0j) measured: 0.9123455751210617 pair: (0.9131900536794807+0j)\n",
      "IX real: (0.8760985446556255+0j) measured: 0.8919441979971695 pair: (0.8931677678569923+0j)\n",
      "ZI real: (0.9230469884779955+0j) measured: 0.9490466608275138 pair: (0.9499011794706695+0j)\n"
     ]
    }
   ],
   "source": [
    "depths = [1,3,5,7,9,11,13]\n",
    "for double, single in single_pairs:\n",
    "    res = []\n",
    "    for d in depths:\n",
    "        circ = measure_circuit(double, double, d)\n",
    "        res.append(get_expectation(circ, single))\n",
    "    expfit = lambda x,a,b: np.exp(-b*x)*a\n",
    "    popt, pcov = curve_fit(expfit, depths, res)\n",
    "    fid = expfit(1,1,popt[1])\n",
    "    print(single, \"real:\", real_errors[single], \"measured:\", fid, \"pair:\", np.sqrt(real_errors[single]*real_errors[double]))"
   ]
  },
  {
   "cell_type": "code",
   "execution_count": 345,
   "id": "1a44b2e0",
   "metadata": {},
   "outputs": [
    {
     "name": "stdout",
     "output_type": "stream",
     "text": [
      "YZ real: (0.9430656291216656+0j) measured: 0.9502933289567181 pair: (0.950264338760133+0j)\n",
      "XY real: (0.8961171852992956+0j) measured: 0.9137752441275736 pair: (0.9131900536794807+0j)\n",
      "XX real: (0.9105695545382043+0j) measured: 0.8927650032095649 pair: (0.8931677678569923+0j)\n",
      "ZZ real: (0.9775366390042444+0j) measured: 0.9491591673709797 pair: (0.9499011794706695+0j)\n"
     ]
    }
   ],
   "source": [
    "depths = [2,4,6,8,10,12,14]\n",
    "for double, single in single_pairs:\n",
    "    res = []\n",
    "    for d in depths:\n",
    "        circ = measure_circuit(double, double, d)\n",
    "        res.append(get_expectation(circ, double))\n",
    "    expfit = lambda x,a,b: np.exp(-b*x)*a\n",
    "    popt, pcov = curve_fit(expfit, depths, res)\n",
    "    fid = expfit(1,1,popt[1])\n",
    "    print(double, \"real:\", real_errors[double], \"measured:\", fid, \"pair:\", np.sqrt(real_errors[single]*real_errors[double]))"
   ]
  },
  {
   "cell_type": "code",
   "execution_count": 346,
   "id": "74ca7f2a",
   "metadata": {},
   "outputs": [
    {
     "name": "stdout",
     "output_type": "stream",
     "text": [
      "II measured: 1.0 ideal (1+0j)\n",
      "XX measured: 0.9092 ideal (0.9105695545382043+0j)\n",
      "XY measured: 0.8966 ideal (0.8961171852992956+0j)\n",
      "IZ measured: 0.8884 ideal (0.9005836274822399+0j)\n",
      "XI measured: 0.9676 ideal (0.9655289901174212+0j)\n",
      "IX measured: 0.8824 ideal (0.8760985446556255+0j)\n",
      "IY measured: 0.9324 ideal (0.9305881951818744+0j)\n",
      "XZ measured: 0.9336 ideal (0.9350546373648186+0j)\n",
      "YZ measured: 0.9466 ideal (0.9430656291216656+0j)\n",
      "ZY measured: 0.8528 ideal (0.8536351836598699+0j)\n",
      "ZX measured: 0.9582 ideal (0.95305155617763+0j)\n",
      "YI measured: 0.9568 ideal (0.9575179983605743+0j)\n",
      "ZZ measured: 0.9782 ideal (0.9775366390042444+0j)\n",
      "YY measured: 0.884 ideal (0.8881061935424487+0j)\n",
      "YX measured: 0.915 ideal (0.9185805462950513+0j)\n",
      "ZI measured: 0.9198 ideal (0.9230469884779955+0j)\n"
     ]
    }
   ],
   "source": [
    "for p1, p2 in pairs:\n",
    "    circ = measure_circuit(p1, p2, 1)\n",
    "    res = get_expectation(circ, p2)\n",
    "    print(p2, \"measured:\", np.abs(res), \"ideal\", real_errors[p2])"
   ]
  },
  {
   "cell_type": "code",
   "execution_count": 347,
   "id": "a605cfbe",
   "metadata": {},
   "outputs": [
    {
     "name": "stdout",
     "output_type": "stream",
     "text": [
      "[('YX', 'ZY'), ('YY', 'ZX')]\n"
     ]
    }
   ],
   "source": [
    "double_pairs = []\n",
    "for p1, p2 in pairs:\n",
    "    if not (\"I\" in p1 or \"I\" in p2 or (p2,p1) in double_pairs or p1 == p2):\n",
    "        double_pairs.append((p1,p2))\n",
    "\n",
    "print(double_pairs)"
   ]
  },
  {
   "cell_type": "code",
   "execution_count": 348,
   "id": "b3b9cf8d",
   "metadata": {},
   "outputs": [],
   "source": [
    "def measure_double(pauli, pauli_pair, depth):\n",
    "    qc = QuantumCircuit(n)\n",
    "\n",
    "    for i,p in enumerate(pauli[::-1]):\n",
    "        match p:\n",
    "            case \"X\":\n",
    "                qc.h(i)\n",
    "            case \"Y\":\n",
    "                qc.h(i)\n",
    "                qc.s(i)\n",
    "\n",
    "    qc.barrier()\n",
    "    \n",
    "    for j in range(depth):\n",
    "        for i,p in enumerate(zip(pauli[::-1], pauli_pair[::-1])):\n",
    "            match p:\n",
    "                case (\"X\",\"Y\"):\n",
    "                    qc.s(i)\n",
    "                case (\"X\", \"Z\"):\n",
    "                    qc.h(i)\n",
    "                case (\"Y\", \"X\"):\n",
    "                    qc.sdg(i)\n",
    "                case (\"Y\", \"Z\"):\n",
    "                    qc.sdg(i)\n",
    "                    qc.h(i)\n",
    "                case (\"Z\", \"X\"):\n",
    "                    qc.h(i)\n",
    "                case (\"Z\", \"Y\"):\n",
    "                    qc.h(i)\n",
    "                    qc.s(i)\n",
    "\n",
    "        qc.cx(0,1) \n",
    "        qc.barrier()\n",
    "    for i,p in enumerate(pauli[::-1]):\n",
    "        match p:\n",
    "            case \"X\":\n",
    "                qc.h(i)\n",
    "            case \"Y\":\n",
    "                qc.sdg(i)\n",
    "                qc.h(i)\n",
    "\n",
    "    return qc"
   ]
  },
  {
   "cell_type": "code",
   "execution_count": 349,
   "id": "a76401ad",
   "metadata": {},
   "outputs": [
    {
     "name": "stdout",
     "output_type": "stream",
     "text": [
      "real: (0.95305155617763+0j) measured 0.9527475318337907\n"
     ]
    }
   ],
   "source": [
    "results = []\n",
    "depths = [2,4,6,8,10,12] #has to be even\n",
    "for d in depths:\n",
    "    circ = measure_double(\"ZX\", \"YY\", d)\n",
    "    results.append(get_expectation(circ, \"ZX\"))\n",
    "popt, pcov = curve_fit(expfit, depths, results)\n",
    "print(\"real:\", real_errors['ZX'], \"measured\", np.exp(-popt[1]))"
   ]
  },
  {
   "cell_type": "code",
   "execution_count": 350,
   "id": "ad24d4c3",
   "metadata": {},
   "outputs": [
    {
     "data": {
      "text/plain": [
       "{'11': 504, '00': 520}"
      ]
     },
     "execution_count": 350,
     "metadata": {},
     "output_type": "execute_result"
    }
   ],
   "source": [
    "sim = Aer.get_backend(\"qasm_simulator\")\n",
    "circ = measure_double(\"ZX\", \"YY\", 2)\n",
    "circ.measure_all()\n",
    "sim.run(circ).result().get_counts()"
   ]
  },
  {
   "cell_type": "code",
   "execution_count": 351,
   "id": "c262eb50",
   "metadata": {},
   "outputs": [
    {
     "data": {
      "text/html": [
       "<pre style=\"word-wrap: normal;white-space: pre;background: #fff0;line-height: 1.1;font-family: &quot;Courier New&quot;,Courier,monospace\">        ┌───┐ ░ ┌───┐           ░ ┌───┐           ░ ┌───┐ ░ ┌─┐   \n",
       "   q_0: ┤ H ├─░─┤ S ├───────■───░─┤ S ├───────■───░─┤ H ├─░─┤M├───\n",
       "        └───┘ ░ ├───┤┌───┐┌─┴─┐ ░ ├───┤┌───┐┌─┴─┐ ░ └───┘ ░ └╥┘┌─┐\n",
       "   q_1: ──────░─┤ H ├┤ S ├┤ X ├─░─┤ H ├┤ S ├┤ X ├─░───────░──╫─┤M├\n",
       "              ░ └───┘└───┘└───┘ ░ └───┘└───┘└───┘ ░       ░  ║ └╥┘\n",
       "meas: 2/═════════════════════════════════════════════════════╩══╩═\n",
       "                                                             0  1 </pre>"
      ],
      "text/plain": [
       "        ┌───┐ ░ ┌───┐           ░ ┌───┐           ░ ┌───┐ ░ ┌─┐   \n",
       "   q_0: ┤ H ├─░─┤ S ├───────■───░─┤ S ├───────■───░─┤ H ├─░─┤M├───\n",
       "        └───┘ ░ ├───┤┌───┐┌─┴─┐ ░ ├───┤┌───┐┌─┴─┐ ░ └───┘ ░ └╥┘┌─┐\n",
       "   q_1: ──────░─┤ H ├┤ S ├┤ X ├─░─┤ H ├┤ S ├┤ X ├─░───────░──╫─┤M├\n",
       "              ░ └───┘└───┘└───┘ ░ └───┘└───┘└───┘ ░       ░  ║ └╥┘\n",
       "meas: 2/═════════════════════════════════════════════════════╩══╩═\n",
       "                                                             0  1 "
      ]
     },
     "execution_count": 351,
     "metadata": {},
     "output_type": "execute_result"
    }
   ],
   "source": [
    "circ.draw()"
   ]
  },
  {
   "cell_type": "code",
   "execution_count": 352,
   "id": "bd11b9ac",
   "metadata": {},
   "outputs": [],
   "source": [
    "def measure_single(single, double):\n",
    "    results = []\n",
    "    for d in depths:\n",
    "        circ = measure_double(double, single, d)\n",
    "        results.append(get_expectation(circ, double)) \n",
    "    popt_double, pcov_double = curve_fit(expfit, depths, results)\n",
    "    fid_double = np.exp(-popt_double[1])\n",
    "\n",
    "    circ = measure_double(single, single, 0)\n",
    "    result0 = get_expectation(circ, single)\n",
    "    circ = measure_double(double, single, 1)\n",
    "    result1 = get_expectation(circ, single)\n",
    "    result = result1/result0\n",
    "    \n",
    "    return (result, fid_double**2/result)"
   ]
  },
  {
   "cell_type": "code",
   "execution_count": 353,
   "id": "27b2e22b",
   "metadata": {},
   "outputs": [
    {
     "name": "stdout",
     "output_type": "stream",
     "text": [
      "(-0.0084, -100.53635234367866)\n",
      "((0.8760985446556255+0j), (0.95305155617763+0j))\n"
     ]
    }
   ],
   "source": [
    "print(measure_single(\"IX\", \"ZX\"))\n",
    "print((real_errors[\"IX\"], real_errors[\"ZX\"]))"
   ]
  },
  {
   "cell_type": "markdown",
   "id": "62f0cfe6",
   "metadata": {},
   "source": [
    "# Full Procedure"
   ]
  },
  {
   "cell_type": "code",
   "execution_count": 354,
   "id": "9c88d9a0",
   "metadata": {},
   "outputs": [],
   "source": [
    "easy_set = set(p1 for (p1, p2) in pairs if p1==p2)\n",
    "medium_set = set([(p1,p2) for (p1,p2) in pairs if not (\"I\" in p1 or \"I\" in p2) and p1 != p2])\n",
    "hard_set = set([(p1, p2) for (p1, p2) in pairs if (not \"I\" in p2 and \"I\" in p1) and not p1 in easy_set])"
   ]
  },
  {
   "cell_type": "code",
   "execution_count": 355,
   "id": "cca7212a",
   "metadata": {},
   "outputs": [
    {
     "data": {
      "text/plain": [
       "{('YX', 'ZY'), ('YY', 'ZX'), ('ZX', 'YY'), ('ZY', 'YX')}"
      ]
     },
     "execution_count": 355,
     "metadata": {},
     "output_type": "execute_result"
    }
   ],
   "source": [
    "medium_set"
   ]
  },
  {
   "cell_type": "code",
   "execution_count": 356,
   "id": "e00fbaa3",
   "metadata": {},
   "outputs": [
    {
     "name": "stderr",
     "output_type": "stream",
     "text": [
      "/home/ben/.local/lib/python3.10/site-packages/scipy/optimize/minpack.py:833: OptimizeWarning: Covariance of the parameters could not be estimated\n",
      "  warnings.warn('Covariance of the parameters could not be estimated',\n"
     ]
    }
   ],
   "source": [
    "measured_errors = {}\n",
    "depths = [2,4,6,8,10,12] #has to be even\n",
    "\n",
    "for p in easy_set:\n",
    "    results = []\n",
    "    for d in depths:\n",
    "        circ = measure_double(p, p, d)\n",
    "        results.append(get_expectation(circ, p))\n",
    "    popt, pcov = curve_fit(expfit, depths, results)\n",
    "    measured_errors[p] = np.exp(-popt[1])"
   ]
  },
  {
   "cell_type": "code",
   "execution_count": 357,
   "id": "d2a6f4ea",
   "metadata": {},
   "outputs": [],
   "source": [
    "for p1, p2 in medium_set:\n",
    "    results = []\n",
    "    for d in depths:\n",
    "        circ = measure_double(p1, p2, d)\n",
    "        results.append(get_expectation(circ, p1))\n",
    "    popt, pcov = curve_fit(expfit, depths, results) \n",
    "    measured_errors[p1] = np.exp(-popt[1])"
   ]
  },
  {
   "cell_type": "code",
   "execution_count": 358,
   "id": "e67faa32",
   "metadata": {},
   "outputs": [],
   "source": [
    "for single, double in hard_set:\n",
    "    single_err, double_err = measure_single(single, double)\n",
    "    measured_errors[single] = single_err\n",
    "    measured_errors[double] = double_err"
   ]
  },
  {
   "cell_type": "code",
   "execution_count": 359,
   "id": "df5fcd82",
   "metadata": {},
   "outputs": [
    {
     "name": "stderr",
     "output_type": "stream",
     "text": [
      "/home/ben/.local/lib/python3.10/site-packages/matplotlib/transforms.py:775: ComplexWarning: Casting complex values to real discards the imaginary part\n",
      "  points = np.asarray(points, float)\n"
     ]
    },
    {
     "data": {
      "image/png": "[encoded data removed]",
      "text/plain": [
       "<Figure size 432x288 with 1 Axes>"
      ]
     },
     "metadata": {
      "needs_background": "light"
     },
     "output_type": "display_data"
    }
   ],
   "source": [
    "labels = []\n",
    "real_bar = []\n",
    "measured_bar = []\n",
    "for pauli in pauli_basis(2, pauli_list = True).to_labels():\n",
    "    labels.append(pauli)\n",
    "    real_bar.append(10*(1-real_errors[pauli]))\n",
    "    measured_bar.append(10*(1-measured_errors[pauli]))\n",
    "\n",
    "ax = np.arange(len(labels))\n",
    "plt.bar(ax+.2, real_bar, .4, color='b')\n",
    "plt.bar(ax-.2, measured_bar, .4, color='r')\n",
    "plt.xticks(ax, labels);"
   ]
  },
  {
   "cell_type": "markdown",
   "id": "e09f6ed5",
   "metadata": {},
   "source": [
    "Multi-qubit layer"
   ]
  },
  {
   "cell_type": "code",
   "execution_count": 360,
   "id": "00c5e692",
   "metadata": {},
   "outputs": [],
   "source": [
    "from qiskit.providers.fake_provider import FakeQuito\n",
    "from qiskit.quantum_info import SuperOp"
   ]
  },
  {
   "cell_type": "code",
   "execution_count": 361,
   "id": "9cd24d2d",
   "metadata": {},
   "outputs": [],
   "source": [
    "backend = FakeQuito()\n",
    "quito_noisemodel = NoiseModel.from_backend(backend)"
   ]
  },
  {
   "cell_type": "code",
   "execution_count": 362,
   "id": "c1765fd5",
   "metadata": {},
   "outputs": [],
   "source": [
    "channel = quito_noisemodel._local_quantum_errors['cx'][(1,2)].to_quantumchannel().data\n",
    "twirled_channel = np.zeros([16,16])\n",
    "for p in pauli_basis(2, pauli_list = True):\n",
    "    mat = p.to_matrix()\n",
    "    op = np.kron(np.conjugate(mat), mat)\n",
    "    twirled_channel = np.add(twirled_channel, op @ channel @ op)\n",
    "trans = PTM(SuperOp(twirled_channel/16)).data\n",
    "cx_errors = {}\n",
    "for i,p in enumerate(pauli_basis(2, pauli_list = True).to_labels()):\n",
    "    cx_errors[p] = trans[i][i]\n"
   ]
  },
  {
   "cell_type": "code",
   "execution_count": 363,
   "id": "e20a8be3",
   "metadata": {},
   "outputs": [
    {
     "data": {
      "text/plain": [
       "(0.9494785249240928+0j)"
      ]
     },
     "execution_count": 363,
     "metadata": {},
     "output_type": "execute_result"
    }
   ],
   "source": [
    "cx_errors[\"ZX\"]"
   ]
  },
  {
   "cell_type": "code",
   "execution_count": 364,
   "id": "e9774d37",
   "metadata": {},
   "outputs": [
    {
     "data": {
      "text/plain": [
       "(0.9469370020930594+0j)"
      ]
     },
     "execution_count": 364,
     "metadata": {},
     "output_type": "execute_result"
    }
   ],
   "source": [
    "cx_errors[\"ZZ\"]"
   ]
  }
 ],
 "metadata": {
  "kernelspec": {
   "display_name": "Python 3.10.4 ('qiskit_env')",
   "language": "python",
   "name": "python3"
  },
  "language_info": {
   "codemirror_mode": {
    "name": "ipython",
    "version": 3
   },
   "file_extension": ".py",
   "mimetype": "text/x-python",
   "name": "python",
   "nbconvert_exporter": "python",
   "pygments_lexer": "ipython3",
   "version": "3.10.4"
  },
  "vscode": {
   "interpreter": {
    "hash": "d4803144e0ca2433cbbdbc82809c7bf0c6dd86d5d16291a48205e2d911513c87"
   }
  }
 },
 "nbformat": 4,
 "nbformat_minor": 5
}
