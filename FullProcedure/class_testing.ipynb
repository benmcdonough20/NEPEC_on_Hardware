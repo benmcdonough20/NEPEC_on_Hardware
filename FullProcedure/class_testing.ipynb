{
 "cells": [
  {
   "cell_type": "code",
   "execution_count": 2,
   "metadata": {},
   "outputs": [],
   "source": [
    "from qiskit import QuantumCircuit, transpile\n",
    "from qiskit.quantum_info import Pauli, pauli_basis, SuperOp, PTM, Operator\n",
    "from qiskit.circuit.library import CXGate, CZGate, HGate, SGate, SdgGate\n",
    "from random import choice, choices\n",
    "from itertools import product, permutations, cycle\n",
    "from scipy.optimize import curve_fit, nnls\n",
    "from matplotlib import pyplot as plt\n",
    "import numpy as np\n",
    "from qiskit.providers.aer.noise import NoiseModel\n",
    "from qiskit.providers.fake_provider import FakeVigoV2\n",
    "from qiskit.providers.aer import Aer\n",
    "from typing import List, Tuple, Dict\n",
    "from qiskit.providers.backend import Backend, BackendV1, BackendV2\n",
    "from sympy import singularities\n",
    "from collections import namedtuple\n",
    "import scipy as sc\n",
    "\n",
    "plt.rcParams[\"figure.figsize\"] = (6.4,4.0)"
   ]
  },
  {
   "cell_type": "code",
   "execution_count": 3,
   "metadata": {},
   "outputs": [],
   "source": [
    "QUBIT = int\n",
    "DOUBLE_GATE = 2\n",
    "SINGLE_GATE = 1\n",
    "NUM_BASES = 9\n",
    "\n",
    "class LearningProcedure:\n",
    "    def __init__(self, layer, backend):\n",
    "        self.qubits = [q.index for q in layer.qubits]\n",
    "\n",
    "        self.layer = QuantumCircuit(layer.num_qubits)\n",
    "        for gate in layer:\n",
    "            if gate.operation.num_qubits == 2:\n",
    "                self.layer.append(gate)\n",
    "\n",
    "        self.backend = backend\n",
    "        self.n = layer.num_qubits\n",
    "\n",
    "        self.bases = self.pauli_bases(backend.coupling_map.reduce(self.qubits))\n",
    "        self.model_paulis = self.model_terms(backend.coupling_map.reduce(self.qubits))\n",
    "\n",
    "\n",
    "    def pauli_bases(self, connectivity):\n",
    "\n",
    "        n = self.n\n",
    "        bases = [['I']*(np.max(self.qubits)+1) for i in range(NUM_BASES)]\n",
    "        remaining = set(self.qubits)\n",
    "\n",
    "        while remaining:\n",
    "            vertex = remaining.pop()\n",
    "            #copied from Fig. S3 in van den Berg\n",
    "            orderings = {\"XXXYYYZZZ\":\"XYZXYZXYZ\",\n",
    "                                \"XXXYYZZZY\":\"XYZXYZXYZ\",\n",
    "                                \"XXYYYZZZX\":\"XYZXYZXYZ\",\n",
    "                                \"XXZYYZXYZ\":\"XYZXZYZYX\",\n",
    "                                \"XYZXYZXYZ\":\"XYZZXYYZX\"}\n",
    "\n",
    "            children = set(connectivity.neighbors(vertex))\n",
    "            predecessors = children.difference(remaining)\n",
    "\n",
    "            match len(predecessors):\n",
    "                #trivial if no predecessors\n",
    "                case 0:\n",
    "                    cycp = cycle(\"XYZ\")\n",
    "                    for i,_ in enumerate(bases):\n",
    "                        bases[i][vertex] = next(cycp)\n",
    "                #Choose p1:\"XXXYYYZZZ\" and p2:\"XYZXYZXYZ\" if one predecessor\n",
    "                case 1:\n",
    "                    pred, = predecessors\n",
    "                    #store permutation of indices so that predecessor has X,X,X,Y,Y,Y,Z,Z,Z\n",
    "                    bases = list(zip(*sorted(zip([p[pred] for p in bases], bases))))[1]\n",
    "                    cycp = cycle(\"XYZ\")\n",
    "                    for i,_ in enumerate(bases):\n",
    "                        bases[i][vertex] = next(cycp)\n",
    "                case 2:\n",
    "                    pred0,pred1 = predecessors\n",
    "                    bases = list(zip(*sorted(zip([p[pred0] for p in bases], bases))))[1]\n",
    "                    #list out string with permuted values of predecessor 2\n",
    "                    substr = [p[pred0] for p in bases]\n",
    "                    #match predecessor two with a permutation of example_orderings\n",
    "                    reordering = \"\"\n",
    "                    for perm in permutations(\"XYZ\"):\n",
    "                        p_substr = \"\".join([\"XYZ\"[perm.index(p)] for p in p_substr])\n",
    "                        if p_substr in orderings:\n",
    "                            current = orderings[p_substr] \n",
    "                            for i,p in enumerate(current):\n",
    "                                bases[i][vertex] = p\n",
    "                            break\n",
    "                case _: #processor needs to have connectivity so that there are <= 2 predecessors\n",
    "                    raise Exception(\"Three or more predecessors encountered\")\n",
    "\n",
    "        print(\"Pauli bases were chosen:\",[\"\".join(string[::-1]) for string in bases])\n",
    "\n",
    "        return [Pauli(\"\".join(string[::-1])) for string in bases]\n",
    "\n",
    "    def model_terms(self, connectivity):\n",
    "        n = self.n\n",
    "        model_terms = set()\n",
    "        identity = Pauli(\"I\"*(np.max(self.qubits)+1))    \n",
    "\n",
    "        #get all single-weight paulis\n",
    "        for i in self.qubits:\n",
    "            for op in pauli_basis(1, pauli_list = True):\n",
    "                pauli = identity.copy()\n",
    "                pauli[i] = op\n",
    "                model_terms.add(pauli)\n",
    "                \n",
    "        #get all weight-two paulis on with suport on nieghboring qubits\n",
    "        for q1, q2 in connectivity.graph.edge_list():\n",
    "            for p1, p2 in pauli_basis(2, pauli_list = True):\n",
    "                pauli = identity.copy()\n",
    "                pauli[q1] = p1\n",
    "                pauli[q2] = p2\n",
    "                model_terms.add(pauli)\n",
    "\n",
    "        model_terms.remove(identity)\n",
    "        print(\"The terms included in the model are the following:\", [p.to_label() for p in model_terms])\n",
    "        return list(model_terms)\n",
    "    \n",
    "    def instance(\n",
    "        self, \n",
    "        prep_basis : Pauli, \n",
    "        meas_basis : Pauli, \n",
    "        noise_repetitions : int, \n",
    "        transpiled=True\n",
    "        ):\n",
    "\n",
    "        n = np.max(self.qubits)+1\n",
    "        backend = self.backend\n",
    "        qubits = self.qubits\n",
    "        circ = QuantumCircuit(n,self.n) #storing the final circuit\n",
    "\n",
    "        def nophase(pauli):\n",
    "            return Pauli((pauli.z, pauli.x))\n",
    "\n",
    "        #get preparation ops from desired basis \n",
    "        def prep(basis, qubit, qc):\n",
    "            if basis.equiv(Pauli(\"X\")):\n",
    "                qc.h(qubit) \n",
    "            elif basis.equiv(Pauli(\"Y\")):\n",
    "                qc.h(qubit)\n",
    "                qc.s(qubit)\n",
    "\n",
    "        #apply operators to a quantum circuit to measure in desired pauli basis\n",
    "        def meas(basis, qubit, qc):\n",
    "            if basis.equiv(Pauli(\"X\")):\n",
    "                qc.h(qubit)\n",
    "            elif basis.equiv(Pauli(\"Y\")):\n",
    "                qc.sdg(qubit)\n",
    "                qc.h(qubit)\n",
    "\n",
    "        pauli_frame = Pauli(\"I\"*n)\n",
    "        qc = QuantumCircuit()\n",
    "        #apply the prep and twirling operators to the circuit\n",
    "        for qubit,b in enumerate(prep_basis):\n",
    "            prep(b,qubit,circ)\n",
    "\n",
    "        #apply repetitions of noise, including basis-change gates when needed\n",
    "        for i in range(noise_repetitions):\n",
    "\n",
    "            twirl = choice(pauli_basis(n, pauli_list = True))\n",
    "            for i,p in enumerate(twirl):\n",
    "                circ.append(p,[i])\n",
    "\n",
    "            circ = circ.compose(self.layer)\n",
    "\n",
    "            pauli_frame = pauli_frame.compose(twirl)\n",
    "            pauli_frame = pauli_frame.evolve(self.layer)\n",
    "            \n",
    "            circ.barrier()\n",
    "\n",
    "        #choose sstring of bit flips for readout twirling\n",
    "        rostring = choices([0,1], k=n)\n",
    "\n",
    "        for q,(p,b,r) in enumerate(zip(pauli_frame, meas_basis, rostring)):\n",
    "            circ.append(p, [q])\n",
    "            meas(b, q, circ)\n",
    "            if r:\n",
    "                circ.x(q)\n",
    "\n",
    "        circ.barrier()\n",
    "\n",
    "        if transpiled:\n",
    "            circ = transpile(circ, backend, optimization_level = 1)\n",
    "            for i,q in enumerate(qubits):\n",
    "                circ.measure(q,i)\n",
    "        else:\n",
    "            for i in range(n):\n",
    "                circ.measure(i,i)\n",
    "\n",
    "        return circ, {\n",
    "            \"prep_basis\":prep_basis,\n",
    "                \"meas_basis\":meas_basis, \n",
    "                \"depth\":noise_repetitions, \n",
    "                \"rostring\":rostring[::-1],\n",
    "                }\n",
    "\n",
    "    def procedure(\n",
    "        self,\n",
    "        depths,\n",
    "        samples,\n",
    "        single_samples = None,\n",
    "        transpiled = True\n",
    "    ):\n",
    "\n",
    "        if isinstance(samples, int):\n",
    "            samples = [samples]*len(depths)\n",
    "        if not single_samples:\n",
    "            single_samples = samples[0]\n",
    "\n",
    "        self.depths = depths\n",
    "        self.single_samples = single_samples\n",
    "\n",
    "        def weight(pauli):\n",
    "            return len([p for p in pauli if not p==Pauli(\"I\")])\n",
    "\n",
    "        def nophase(pauli):\n",
    "            return Pauli((pauli.z, pauli.x))\n",
    "            \n",
    "        pairs = [(p, nophase(p.evolve(self.layer))) for p in self.model_paulis]\n",
    "\n",
    "        single_measurements = [(p1,p2) for (p1,p2) in pairs if p1 != p2 and weight(p1) == 1 and weight(p2) == 2]\n",
    "        single_measurements += list(set([frozenset([p1,p2]) for p1,p2 in pairs if p1 != p2 and weight(p1) == weight(p2) == 2]))\n",
    "        single_measurements = [list(s) for s in single_measurements]\n",
    "\n",
    "        print(\"The following pairs require single measurements:\", single_measurements)\n",
    "\n",
    "        circuits = []\n",
    "        metadatas = []\n",
    "        bases = self.bases\n",
    "        total = len(bases)*sum(samples)+len(single_measurements)*single_samples\n",
    "\n",
    "        j=0\n",
    "        for basis, (d,s) in product(bases, zip(depths,samples)):\n",
    "\n",
    "            for i in range(s):\n",
    "                circ, data = self.instance(\n",
    "                    basis, \n",
    "                    basis, \n",
    "                    d, \n",
    "                    transpiled\n",
    "                    )\n",
    "\n",
    "                j+=1\n",
    "                print(j,\"/\",total, end='\\r')\n",
    "                circuits.append(circ)\n",
    "                metadatas.append(dict(**data, type = \"double\"))\n",
    "        \n",
    "        for (pauli, pair), s in product(single_measurements, range(single_samples)):\n",
    "\n",
    "            circ, data = self.instance(\n",
    "                pair,\n",
    "                pauli,\n",
    "                1,\n",
    "                transpiled\n",
    "            )\n",
    "            j+=1\n",
    "            print(j,\"/\",total, end='\\r')\n",
    "            circuits.append(circ)\n",
    "            metadatas.append({\"type\":\"single\", **data})\n",
    "\n",
    "        print(\"Generated\", len(circuits), \"circuits\")\n",
    "\n",
    "        return circuits, metadatas"
   ]
  },
  {
   "cell_type": "code",
   "execution_count": 18,
   "metadata": {},
   "outputs": [],
   "source": [
    "class ProcedureAnalysis:\n",
    "    def __init__(self, layer, qubits, depths, single_samples, model_terms):\n",
    "        self.n = len(qubits) \n",
    "        self.qubits = qubits \n",
    "        self.layer = layer\n",
    "        \n",
    "        self.depths = depths\n",
    "        self.single_samples = single_samples\n",
    "\n",
    "        self.model_terms = model_terms\n",
    "\n",
    "    @classmethod\n",
    "    def fromExperiment(cls, experiment):\n",
    "        return cls(\n",
    "            experiment.layer,\n",
    "            experiment.qubits,\n",
    "            experiment.depths,\n",
    "            experiment.single_samples,\n",
    "            experiment.model_paulis\n",
    "        )\n",
    "\n",
    "    def get_expectation(self, measurement, **metadata):\n",
    "        total = 0\n",
    "        counts = metadata['counts']\n",
    "        pauli_weight = tuple(reversed([{Pauli(\"I\"):0}.get(measurement[q],1) for q in self.qubits]))\n",
    "        rostring = metadata['rostring']\n",
    "        for key in counts.keys():\n",
    "            num_key = tuple({'0':0, '1':1}[b] for b in key)\n",
    "            ro_adjusted = np.bitwise_xor(num_key, rostring)\n",
    "            total += (-1)**np.dot(pauli_weight, ro_adjusted)*counts[key]\n",
    "        return total/sum(counts.values())   \n",
    "\n",
    "    def analyze(self, results, metadatas):\n",
    "\n",
    "        def nophase(pauli):\n",
    "            return Pauli((pauli.z, pauli.x))\n",
    "\n",
    "        def simultaneous_measurements(pauli):\n",
    "            label = pauli.to_label()\n",
    "            n = len(pauli)\n",
    "            identity = \"I\"*n\n",
    "            combos = zip(identity,label)\n",
    "            sim_meas = set()\n",
    "            for pauli_string in product(*combos):\n",
    "                sim_meas.add(Pauli(\"\".join(pauli_string)))\n",
    "            sim_meas.remove(Pauli(\"I\"*n))\n",
    "            return sim_meas\n",
    "\n",
    "        depths = self.depths\n",
    "        single_samples = self.single_samples\n",
    "        #Sort into single and double measurements\n",
    "        results_dict = [{**metadata, \"counts\":count} for metadata,count in zip(metadatas,results)]\n",
    "        singles = []\n",
    "        doubles = []\n",
    "        for datum in results_dict:\n",
    "            type = datum[\"type\"]\n",
    "            datum.pop(\"type\")\n",
    "            if type == \"single\":\n",
    "                singles.append(datum)\n",
    "            elif type == \"double\":\n",
    "                doubles.append(datum)\n",
    "\n",
    "        expfit = lambda x,a,b: a*np.exp(-b*x)\n",
    "\n",
    "        #reorder by measurement basis\n",
    "        basis_dict = {}\n",
    "        for datum in doubles:\n",
    "            basis = datum['prep_basis']\n",
    "            depth = datum['depth']\n",
    "            for pauli in simultaneous_measurements(basis):\n",
    "                expectation = self.get_expectation(pauli, **datum)\n",
    "                if not pauli in basis_dict:\n",
    "                    basis_dict[pauli] = {\"expectation\":[0 for d in depths], \"total\":[0 for d in depths]}\n",
    "                basis_dict[pauli][\"expectation\"][depths.index(depth)] += expectation\n",
    "                basis_dict[pauli][\"total\"][depths.index(depth)] += 1\n",
    "\n",
    "        self_conjugates = []\n",
    "        pair_measurements = []\n",
    "        for key in basis_dict.keys():\n",
    "            for i,d in enumerate(depths):\n",
    "                basis_dict[key][\"expectation\"][i] /= basis_dict[key][\"total\"][i]\n",
    "            try:\n",
    "                popt, pcov = curve_fit(expfit, depths, basis_dict[key][\"expectation\"], p0=[.9,.01])\n",
    "                basis_dict[key][\"fidelity\"] = expfit(1,1,popt[1])\n",
    "                basis_dict[key][\"SPAM\"] = popt[0]\n",
    "            except:\n",
    "                print(\"warning: fit did not converge for\", key, \"using 1\")\n",
    "                basis_dict[key][\"fidelity\"] = 1\n",
    "\n",
    "            if key != nophase(key.evolve(self.layer)):\n",
    "                pair_measurements.append(((key.to_label(),nophase(key.evolve(self.layer)).to_label()), basis_dict[key][\"fidelity\"]))\n",
    "                basis_dict[key][\"type\"] = \"pair\"\n",
    "            else:\n",
    "                self_conjugates.append((key.to_label(), basis_dict[key][\"fidelity\"]))\n",
    "                basis_dict[key][\"type\"] = \"single\"\n",
    "\n",
    "        print(\"The following SPAM-free measurements were reconstructed:\", self_conjugates)\n",
    "        print(\"The following SPAM-free measurement pairs were constructed:\", pair_measurements)\n",
    "\n",
    "        singles_dict = {}\n",
    "\n",
    "        for datum in singles:\n",
    "            counts = datum['counts']\n",
    "            prep_basis = datum['prep_basis']\n",
    "            meas_basis = datum['meas_basis']\n",
    "\n",
    "            if meas_basis not in singles_dict:\n",
    "                singles_dict[meas_basis] = 0\n",
    "\n",
    "            expectation = self.get_expectation(meas_basis, **datum)\n",
    "            avg = basis_dict[meas_basis]['SPAM']\n",
    "            fidelity = np.min([1,np.max([basis_dict[prep_basis]['fidelity']**2,np.abs(expectation)/avg])])\n",
    "                \n",
    "            singles_dict[meas_basis] += fidelity/single_samples\n",
    "\n",
    "        for key in singles_dict.keys():\n",
    "            basis_dict[key]['fidelity'] = singles_dict[key]\n",
    "            basis_dict[key]['type'] = \"single\"\n",
    "\n",
    "        print(\"The following degeneracy-lifting measurements were reconstructed:\", list(zip([p.to_label() for p in singles_dict.keys()], singles_dict.values()))) \n",
    "\n",
    "        self.data = basis_dict \n",
    "        return self.data\n",
    "\n",
    "    def fit_model(self):\n",
    "        F1 = []\n",
    "        F2 = []\n",
    "        fidelities = []\n",
    "        for key in self.model_terms:\n",
    "            F1.append(key)\n",
    "            fidelities.append(self.data[key]['fidelity'])\n",
    "            if self.data[key][\"type\"] == \"pair\":\n",
    "                pair = key.evolve(self.layer)\n",
    "                F2.append(pair)\n",
    "            else:\n",
    "                F2.append(key)\n",
    "        \n",
    "        sprod = lambda a,b: int(a.anticommutes(b))\n",
    "        M1 = [[sprod(a,b) for a in self.model_terms] for b in F1]\n",
    "        M2 = [[sprod(a,b) for a in self.model_terms] for b in F2]\n",
    "\n",
    "        if np.linalg.matrix_rank(np.add(M1, M2)) != len(self.model_terms):\n",
    "            raise Exception(\"Matrix is not full rank, something went wrong\")\n",
    "\n",
    "        coeffs,rnorm = sc.optimize.nnls(np.add(M1,M2), -np.log(fidelities))\n",
    "        print(\"Model reconstructed with r-norm\", rnorm)\n",
    "        return list(zip(coeffs, self.model_terms))\n",
    "\n",
    "    def graph(self, *paulis):\n",
    "        expfit = lambda x,a,b: a*np.exp(-b*x)\n",
    "        colcy = cycle(\"rgbcmk\")\n",
    "        for p in paulis:\n",
    "            c = next(colcy)\n",
    "            data = self.data[p]['expectation']\n",
    "            popt, pcov = curve_fit(expfit, self.depths, data, p0=[.9,.01])\n",
    "            xrange = np.linspace(0,np.max(self.depths))\n",
    "            plt.plot(self.depths, data, c+\"X\")\n",
    "            plt.plot(xrange, [expfit(x, *popt) for x in xrange], c)\n",
    "        plt.title(\"Pauli fidelity vs circuit depth\")\n",
    "        plt.xlabel(\"Circuit depth\")\n",
    "        plt.ylabel(\"Fidelity\")\n",
    "        plt.show()\n",
    "\n",
    "    def display(self, *paulis):\n",
    "        def nophase(pauli):\n",
    "            return Pauli((pauli.z, pauli.x))\n",
    "        fidelities = []\n",
    "        ax = np.arange(len(paulis))\n",
    "        for p in paulis:\n",
    "            fid = self.data[p]['fidelity']\n",
    "            if(self.data[p]['type'] == 'pair'):\n",
    "                pair = nophase(p.evolve(self.layer))\n",
    "                fid = fid**2/self.data[pair]['fidelity']\n",
    "            fidelities.append(fid)\n",
    "        plt.bar(ax, [10*(1-f) for f in fidelities], color='b')\n",
    "        plt.xticks(ax, paulis)\n",
    "        plt.title(\"Measured model fidelities\")\n",
    "        plt.xlabel(\"Model term\")\n",
    "        plt.ylabel(\"10 x (1-f)\")"
   ]
  },
  {
   "cell_type": "code",
   "execution_count": 5,
   "metadata": {},
   "outputs": [
    {
     "name": "stdout",
     "output_type": "stream",
     "text": [
      "Pauli bases were chosen: ['XX', 'YX', 'ZX', 'XY', 'YY', 'ZY', 'XZ', 'YZ', 'ZZ']\n",
      "The terms included in the model are the following: ['IY', 'YX', 'XX', 'YY', 'ZX', 'IX', 'YZ', 'XZ', 'IZ', 'ZZ', 'ZI', 'YI', 'ZY', 'XY', 'XI']\n"
     ]
    },
    {
     "name": "stderr",
     "output_type": "stream",
     "text": [
      "/tmp/ipykernel_27533/1200715781.py:8: DeprecationWarning: Back-references to from Bit instances to their containing Registers have been deprecated. Instead, inspect Registers to find their contained Bits.\n",
      "  self.qubits = [q.index for q in layer.qubits]\n"
     ]
    }
   ],
   "source": [
    "layer = QuantumCircuit(2)\n",
    "layer.cx(0,1)\n",
    "backend = FakeVigoV2()\n",
    "sim = Aer.get_backend(\"qasm_simulator\")\n",
    "\n",
    "tglp = LearningProcedure(layer, backend)"
   ]
  },
  {
   "cell_type": "code",
   "execution_count": 6,
   "metadata": {},
   "outputs": [],
   "source": [
    "from qiskit.providers.aer.noise import pauli_error\n",
    "from random import random\n",
    "\n",
    "errorgen = 4\n",
    "errorops = choices(pauli_basis(2, pauli_list = True), k=errorgen)\n",
    "errorprobs = [random()*.05/errorgen for op in errorops]\n",
    "twoqubit_error = pauli_error([(op, p) for op,p in zip(errorops, errorprobs)]+[(Pauli(\"II\"), 1-sum(errorprobs))])\n",
    "noise_model = NoiseModel()\n",
    "noise_model.add_all_qubit_quantum_error(twoqubit_error, ['cx','cz'])"
   ]
  },
  {
   "cell_type": "code",
   "execution_count": 7,
   "metadata": {},
   "outputs": [
    {
     "data": {
      "image/png": "[encoded data removed]",
      "text/plain": [
       "<Figure size 460.8x288 with 1 Axes>"
      ]
     },
     "metadata": {
      "needs_background": "light"
     },
     "output_type": "display_data"
    }
   ],
   "source": [
    "\n",
    "real_errors = {}\n",
    "transfer_matrix = PTM(twoqubit_error.to_quantumchannel()).data\n",
    "for i,pauli in enumerate(pauli_basis(2, pauli_list = True)):\n",
    "    real_errors[pauli] = transfer_matrix[i][i]\n",
    "    plt.bar(pauli.to_label(), 10*(1-transfer_matrix[i][i]).real)"
   ]
  },
  {
   "cell_type": "code",
   "execution_count": 8,
   "metadata": {},
   "outputs": [
    {
     "name": "stdout",
     "output_type": "stream",
     "text": [
      "The following pairs require single measurements: [[Pauli('IY'), Pauli('XY')], [Pauli('IX'), Pauli('XX')], [Pauli('ZI'), Pauli('ZZ')], [Pauli('YI'), Pauli('YZ')], [Pauli('YY'), Pauli('ZX')], [Pauli('ZY'), Pauli('YX')]]\n",
      "Generated 4200 circuits\n"
     ]
    }
   ],
   "source": [
    "circuits, metadatas = tglp.procedure([2,4,16, 32], 100,100, transpiled=False)"
   ]
  },
  {
   "cell_type": "code",
   "execution_count": 9,
   "metadata": {},
   "outputs": [],
   "source": [
    "analysis = ProcedureAnalysis.fromExperiment(tglp)"
   ]
  },
  {
   "cell_type": "code",
   "execution_count": 24,
   "metadata": {},
   "outputs": [],
   "source": [
    "results = sim.run(circuits, shots=1000, noise_model = noise_model).result().get_counts()"
   ]
  },
  {
   "cell_type": "code",
   "execution_count": 25,
   "metadata": {},
   "outputs": [
    {
     "name": "stdout",
     "output_type": "stream",
     "text": [
      "The following SPAM-free measurements were reconstructed: [('XI', 0.988057666646021), ('IZ', 0.9974302043214438), ('XZ', 0.9906561204754593)]\n",
      "The following SPAM-free measurement pairs were constructed: [(('IX', 'XX'), 0.9723715678717214), (('XX', 'IX'), 0.9724130161307141), (('YX', 'ZY'), 0.9892160941335149), (('YI', 'YZ'), 0.9618447190912925), (('ZX', 'YY'), 0.9866240539978446), (('ZI', 'ZZ'), 0.9712550828071137), (('XY', 'IY'), 0.9723098180010951), (('IY', 'XY'), 0.9724713057819652), (('YY', 'ZX'), 0.9868386468866381), (('ZY', 'YX'), 0.9894797333564932), (('YZ', 'YI'), 0.961443711841236), (('ZZ', 'ZI'), 0.9712729040597662)]\n",
      "The following degeneracy-lifting measurements were reconstructed: [('IY', 0.9660113046394535), ('IX', 0.9667960217499826), ('ZI', 0.9703976728480236), ('YI', 0.96473242525285), ('YY', 0.9922684400543441), ('ZY', 0.9851447126733969)]\n"
     ]
    }
   ],
   "source": [
    "basis_dict = analysis.analyze(results, metadatas)"
   ]
  },
  {
   "cell_type": "code",
   "execution_count": 26,
   "metadata": {},
   "outputs": [],
   "source": [
    "def nophase(pauli):\n",
    "    return Pauli((pauli.z, pauli.x))\n",
    "def display(*paulis):\n",
    "    fidelities = []\n",
    "    fidelities_calculated = []\n",
    "    ax = np.arange(len(tglp.model_paulis))\n",
    "    for p in tglp.model_paulis:\n",
    "        fid = basis_dict[p]['fidelity']\n",
    "        if(basis_dict[p]['type'] == 'pair'):\n",
    "            pair = nophase(p.evolve(layer))\n",
    "            fid = fid**2/basis_dict[pair]['fidelity']\n",
    "        fidelities.append(fid)\n",
    "        fidelities_calculated.append(real_errors[p])\n",
    "    plt.bar(ax+.2, [10*(1-f) for f in fidelities], .4,color='b')\n",
    "    plt.bar(ax-.2, [10*(1-f) for f in fidelities_calculated],.4, color='r')\n",
    "    plt.xticks(ax, tglp.model_paulis)\n",
    "    plt.title(\"Measured vs. ideal fidelities for a CNOT gate\")\n",
    "    plt.xlabel(\"Pauli term\")\n",
    "    plt.ylabel(\"10x(1-f)\")\n",
    "    plt.legend([\"Measured\", \"Calculated\"])"
   ]
  },
  {
   "cell_type": "markdown",
   "metadata": {},
   "source": []
  },
  {
   "cell_type": "code",
   "execution_count": 27,
   "metadata": {},
   "outputs": [
    {
     "name": "stderr",
     "output_type": "stream",
     "text": [
      "/home/ben/.local/lib/python3.10/site-packages/matplotlib/transforms.py:775: ComplexWarning: Casting complex values to real discards the imaginary part\n",
      "  points = np.asarray(points, float)\n"
     ]
    },
    {
     "data": {
      "image/png": "[encoded data removed]",
      "text/plain": [
       "<Figure size 460.8x288 with 1 Axes>"
      ]
     },
     "metadata": {
      "needs_background": "light"
     },
     "output_type": "display_data"
    }
   ],
   "source": [
    "display(*tglp.model_paulis)"
   ]
  },
  {
   "cell_type": "code",
   "execution_count": 14,
   "metadata": {},
   "outputs": [
    {
     "data": {
      "image/png": "[encoded data removed]",
      "text/plain": [
       "<Figure size 460.8x288 with 1 Axes>"
      ]
     },
     "metadata": {
      "needs_background": "light"
     },
     "output_type": "display_data"
    }
   ],
   "source": [
    "analysis.display(*tglp.model_paulis)"
   ]
  },
  {
   "cell_type": "code",
   "execution_count": 23,
   "metadata": {},
   "outputs": [
    {
     "data": {
      "image/png": "[encoded data removed]",
      "text/plain": [
       "<Figure size 460.8x288 with 1 Axes>"
      ]
     },
     "metadata": {
      "needs_background": "light"
     },
     "output_type": "display_data"
    }
   ],
   "source": [
    "analysis.graph(*tglp.model_paulis)"
   ]
  },
  {
   "cell_type": "code",
   "execution_count": 16,
   "metadata": {},
   "outputs": [
    {
     "name": "stdout",
     "output_type": "stream",
     "text": [
      "Model reconstructed with r-norm 0.0020301263260792037\n"
     ]
    },
    {
     "data": {
      "text/plain": [
       "Text(0, 0.5, 'Coefficient')"
      ]
     },
     "execution_count": 16,
     "metadata": {},
     "output_type": "execute_result"
    },
    {
     "data": {
      "image/png": "[encoded data removed]",
      "text/plain": [
       "<Figure size 460.8x288 with 1 Axes>"
      ]
     },
     "metadata": {
      "needs_background": "light"
     },
     "output_type": "display_data"
    }
   ],
   "source": [
    "for coeff,term in analysis.fit_model():\n",
    "        plt.bar(term.to_label(), coeff, color='b')\n",
    "plt.title(\"Learned model coefficients on simulated processor\")\n",
    "plt.xlabel(\"Model term\")\n",
    "plt.ylabel(\"Coefficient\")\n"
   ]
  }
 ],
 "metadata": {
  "kernelspec": {
   "display_name": "Python 3.10.4",
   "language": "python",
   "name": "python3"
  },
  "language_info": {
   "codemirror_mode": {
    "name": "ipython",
    "version": 3
   },
   "file_extension": ".py",
   "mimetype": "text/x-python",
   "name": "python",
   "nbconvert_exporter": "python",
   "pygments_lexer": "ipython3",
   "version": "3.10.4"
  },
  "orig_nbformat": 4,
  "vscode": {
   "interpreter": {
    "hash": "d4803144e0ca2433cbbdbc82809c7bf0c6dd86d5d16291a48205e2d911513c87"
   }
  }
 },
 "nbformat": 4,
 "nbformat_minor": 2
}
