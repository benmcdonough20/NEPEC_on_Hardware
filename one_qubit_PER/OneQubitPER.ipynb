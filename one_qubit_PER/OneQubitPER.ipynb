{
 "cells": [
  {
   "cell_type": "markdown",
   "id": "0e991293",
   "metadata": {},
   "source": [
    "# One Qubit PER\n",
    "\n",
    "Carry out canonical noise scaling on one qubit"
   ]
  },
  {
   "cell_type": "code",
   "execution_count": 1,
   "id": "f1dd5d11",
   "metadata": {},
   "outputs": [],
   "source": [
    "#helper libraries\n",
    "import numpy as np\n",
    "from numpy.random import randint\n",
    "import matplotlib.pyplot as plt\n",
    "from decimal import Decimal\n",
    "from numpy.random import permutation\n",
    "\n",
    "#qiskit functionalities\n",
    "from qiskit import Aer, execute, QuantumCircuit\n",
    "\n",
    "#noise model stuff\n",
    "from qiskit.providers.aer.noise import NoiseModel, kraus_error\n",
    "    \n",
    "#operator info\n",
    "from qiskit.quantum_info import Pauli, Kraus"
   ]
  },
  {
   "cell_type": "markdown",
   "id": "34a3e670",
   "metadata": {},
   "source": [
    "## Create noise model\n",
    "\n",
    "Use the model parameters to create a noise model"
   ]
  },
  {
   "cell_type": "code",
   "execution_count": 2,
   "id": "43d49cfa",
   "metadata": {
    "scrolled": false
   },
   "outputs": [],
   "source": [
    "F = [Pauli(\"I\"), Pauli(\"X\"), Pauli(\"Y\"), Pauli(\"Z\")] #list of Paulis\n",
    "T = [Pauli(\"X\"), Pauli(\"Y\"), Pauli(\"Z\")] #These are the terms considered in the model\n",
    "coeffs = [.01, .01, .01] #These are the corresponding lambdas\n",
    "omegas = np.multiply(.5, np.add(1, np.exp(np.multiply(-2.0, coeffs)))) #Equation (S9)\n",
    "gamma = np.exp(2.0*np.sum(coeffs)) #below Eq (5)"
   ]
  },
  {
   "cell_type": "code",
   "execution_count": 3,
   "id": "b29cb003",
   "metadata": {},
   "outputs": [
    {
     "name": "stderr",
     "output_type": "stream",
     "text": [
      "/home/ben/.local/lib/python3.10/site-packages/qiskit/quantum_info/operators/channel/kraus.py:92: VisibleDeprecationWarning: Creating an ndarray from ragged nested sequences (which is a list-or-tuple of lists-or-tuples-or ndarrays with different lengths or shapes) is deprecated. If you meant to do this, you must specify 'dtype=object' when creating the ndarray.\n",
      "  if isinstance(data, np.ndarray) or np.array(data).ndim == 2:\n"
     ]
    }
   ],
   "source": [
    "kraus_ops = Kraus(np.identity(2)) #Start with identity map\n",
    "\n",
    "#Repeatedly compose (w_kI+(1-w_k)P_k) to get error channel as Kraus map\n",
    "for i in range(len(T)):\n",
    "    op = Kraus([T[i].to_matrix()*np.sqrt(1-omegas[i]),np.sqrt(omegas[i])*np.identity(2)]);\n",
    "    kraus_ops = kraus_ops.compose(op);\n",
    "\n",
    "kraus_error_channel = kraus_error(kraus_ops.data) #create kraus error channel from kraus map\n",
    "kraus_noise_model = NoiseModel() #create noise model from kraus error channel\n",
    "kraus_noise_model.add_all_qubit_quantum_error(kraus_error_channel, ['id', 'rx', 'ry', 'rz']) #add noise to all gates\n",
    "kraus_basis_gates = kraus_noise_model.basis_gates #get noisy basis gates"
   ]
  },
  {
   "cell_type": "markdown",
   "id": "fdc69099",
   "metadata": {},
   "source": [
    "## Canonical Noise Scaling\n",
    "\n",
    "Canonical noise scaling involves separating the distribution into the negative and positive volumes by the sign of the coefficients. Given a QPD representation of a unitary $\\mathcal{U}$ in terms of noisy gates $\\mathcal{O}_\\alpha\\in \\mathcal{I}$,\n",
    "$$\n",
    "\\mathcal{U} = \\sum_{\\alpha} \\eta_\\alpha \\mathcal{O}_\\alpha\n",
    "$$\n",
    "the indices $\\alpha$ corresponding to negative and positive coefficients can be separated into two sets:\n",
    "$$\n",
    "D^{\\pm} = \\{\\alpha \\ | \\ \\eta_\\alpha \\gtrless 0\\}\n",
    "$$\n",
    "Then the gates corresponding to each set can be used to construct a TPCP operator:\n",
    "$$\n",
    "\\Phi^{\\pm} = \\frac{1}{\\gamma^{\\pm}}\\sum_{\\alpha \\in D^{\\pm}}|\\eta_\\alpha| \\mathcal{O}_\\alpha\n",
    "$$\n",
    "Where the overhead is selected so that the operator is trace-preserving:\n",
    "$$\n",
    "\\gamma^{\\pm} = \\sum_{\\alpha \\in D^{\\pm}}|\\eta_\\alpha|\n",
    "$$\n",
    "Then $\\mathcal{U}$ can be written in terms of these channels:\n",
    "$$\n",
    "\\mathcal{U} = \\gamma^+ \\Phi^+ - \\gamma^- \\Phi^-\n",
    "$$\n",
    "A noisy gate $\\mathcal{U}^\\lambda$ can be parameterized as\n",
    "$$\n",
    "\\mathcal{U}^\\lambda = (\\gamma^+-\\lambda \\gamma^-)\\Phi^+-(1-\\lambda)\\gamma^-\\Phi^-\n",
    "$$\n",
    "This has the convenient property that at $\\lambda = 0$ it reduces to the ideal QPD, at $\\lambda = 1$ it reduces to $\\Phi^+$ representing around hardware noise level, and at $\\lambda = \\frac{\\gamma^+}{\\gamma^-}$ it reduces to $\\Phi^-$, representing the greatest level of noise.\n",
    "\n",
    "Lastly, the overheads $\\gamma^+$ and $\\gamma^-$ can be computed in terms of $\\gamma$, using the equations\n",
    "$$\n",
    "\\gamma^+-\\gamma^- = 1\\\\\n",
    "\\gamma^+ + \\gamma^- = \\gamma\n",
    "$$\n",
    "Which hold when $\\lambda < 1$. Adding and subtracting these yields\n",
    "$$\n",
    "\\gamma^+ = \\frac{\\gamma+1}{2}\\\\\n",
    "\\gamma^- = \\frac{\\gamma-1}{2}\n",
    "$$\n",
    "\n",
    "## Separating negative and positive volumes\n",
    "\n",
    "I was unsure about the best way to go about this. The solution I came up with was using the fact that the inverse channel $\\Lambda^{-1}$ is defined by the inverse fidelities $\\frac{1}{f_a}$ to convert the inverse to a Pauli channel via\n",
    "\n",
    "$$\n",
    "\\Lambda^{-1}(\\rho) = \\sum_k c_k P_k \\rho P_k \\ \\ \\text{where} \\ \\ c_k = \\frac{1}{4^n}\\sum_j (-1)^{\\langle j, k \\rangle} \\frac{1}{f_a}\n",
    "$$\n",
    "\n",
    "This is done in the following cell:"
   ]
  },
  {
   "cell_type": "code",
   "execution_count": 4,
   "id": "b6f5722d",
   "metadata": {},
   "outputs": [],
   "source": [
    "def s_prod(j, k): #symplectic inner product\n",
    "    return {True:0,False:1}[F[j].compose(F[k]) == F[k].compose(F[j])]\n",
    "\n",
    "M = [[s_prod(j,k) for k in range(len(F))] for j in range(len(F))] #Matrix expressing commutativity\n",
    "\n",
    "f = np.exp(np.multiply(-2.0, np.dot(M,[0]+coeffs))) #find ideal fidelities\n",
    "        \n",
    "def WHtransform(k): #Walsh-Hadamard transform with inverse fidelities\n",
    "    return 1/4*np.sum([(-1)**s_prod(k,j)*1/f[j] for j in range(len(F))])\n",
    "    \n",
    "pauli_coeffs = [WHtransform(k) for k in range(len(F))] #get coefficients"
   ]
  },
  {
   "cell_type": "markdown",
   "id": "9b67c037",
   "metadata": {},
   "source": [
    "Compute positive and negative volumes and scale them into probability distributions"
   ]
  },
  {
   "cell_type": "code",
   "execution_count": 23,
   "id": "a4c93f2d",
   "metadata": {},
   "outputs": [],
   "source": [
    "Dplus = [(P, c) for (P,c) in zip(F,pauli_coeffs) if c > 0]\n",
    "Dminus = [(P, c) for (P,c) in zip(F,pauli_coeffs) if c < 0]\n",
    "\n",
    "pos_dist = [np.abs(c) for (P,c) in Dplus]\n",
    "neg_dist = [np.abs(c) for (P,c) in Dminus]\n",
    "\n",
    "pos_dist = np.divide(pos_dist, np.sum(pos_dist))\n",
    "neg_dist = np.divide(neg_dist, np.sum(neg_dist))"
   ]
  },
  {
   "cell_type": "code",
   "execution_count": 30,
   "id": "38c21758",
   "metadata": {},
   "outputs": [],
   "source": [
    "#I wanted to be able to control the precision of the rng\n",
    "def rand_precision(prec_digits):\n",
    "    return Decimal(randint(0, 10**prec_digits))/10**prec_digits\n",
    "\n",
    "def sample(dist):\n",
    "    r = rand_precision(10)\n",
    "    return min([i for (i,a) in enumerate(np.cumsum(dist)) if a > r])\n",
    "\n",
    "def mitigation(gate_to_mitigate, samples, lmbda):\n",
    "    total = 0 #stores the estimator value\n",
    "    gammaplus = (gamma+1)/2\n",
    "    gammaminus = (gamma-1)/2\n",
    "    \n",
    "    backend = Aer.get_backend('qasm_simulator') #backend is a simulator (for now)\n",
    "    \n",
    "    for i in range(samples):\n",
    "        op = gate_to_mitigate #start with the gate to be mitigated\n",
    "        if rand_precision(10) < (gammaplus-lmbda*gammaminus)/(gamma - lmbda*(gamma-1)):\n",
    "            # sample from positive distribution\n",
    "            m = 1\n",
    "            (P,c) = Dplus[sample(pos_dist)]\n",
    "            op.compose(P)\n",
    "        else:\n",
    "            # sample from negative distribution\n",
    "            m = -1\n",
    "            (P,c) = Dminus[sample(pos_dist)]\n",
    "            op.compose(P)\n",
    "    \n",
    "        qc = QuantumCircuit(1,1) \n",
    "        qc.append(op.to_instruction(),[0]) #apply combination of paulis in circuit\n",
    "        qc.measure(0,0)\n",
    "        \n",
    "        #run one shot of this circuit\n",
    "        counts = execute(qc, backend, noise_model=kraus_noise_model, \n",
    "                        basis_gates = kraus_basis_gates, shots = 1,\n",
    "                        optimization_level = 0).result().get_counts()\n",
    "        \n",
    "        total += (counts.get('0',0)-counts.get('1',0))*m #scale the results accordingly\n",
    "        \n",
    "    return total * (gamma - lmbda*(gamma-1)) / samples\n",
    "        "
   ]
  },
  {
   "cell_type": "markdown",
   "id": "31c5b508",
   "metadata": {},
   "source": [
    "## Find estimator for different values of $\\lambda$"
   ]
  },
  {
   "cell_type": "code",
   "execution_count": 31,
   "id": "e956e7d0",
   "metadata": {},
   "outputs": [],
   "source": [
    "lmbdas = [0, .2, .6, 1]\n",
    "mitigated_values = []\n",
    "samples = 1000\n",
    "#Run the procedure for each lambda\n",
    "for lmbda in lmbdas:\n",
    "    mitigated_value = mitigation(Pauli('X'), samples, lmbda)\n",
    "    mitigated_values.append(mitigated_value)"
   ]
  },
  {
   "cell_type": "code",
   "execution_count": 32,
   "id": "630ac028",
   "metadata": {},
   "outputs": [
    {
     "data": {
      "text/plain": [
       "<matplotlib.legend.Legend at 0x7f76183fff70>"
      ]
     },
     "execution_count": 32,
     "metadata": {},
     "output_type": "execute_result"
    },
    {
     "data": {
      "image/png": "[encoded data removed]",
      "text/plain": [
       "<Figure size 432x288 with 1 Axes>"
      ]
     },
     "metadata": {
      "needs_background": "light"
     },
     "output_type": "display_data"
    }
   ],
   "source": [
    "xrange = np.linspace(0, max(lmbdas), 100)\n",
    "mv, = plt.plot(lmbdas, mitigated_values, 'ro')\n",
    "iv, = plt.plot(xrange, [-1]*len(xrange), '-.')\n",
    "plt.xlabel(\"Noise level\")\n",
    "plt.ylabel(\"Estimator value for %s shots\" %samples)\n",
    "plt.axvline(1)\n",
    "plt.title(\"Noise Level vs Estimator value\")\n",
    "plt.legend([mv, iv], ['Error-mitigated value', 'Ideal value'], loc=\"lower right\")"
   ]
  }
 ],
 "metadata": {
  "kernelspec": {
   "display_name": "Python 3 (ipykernel)",
   "language": "python",
   "name": "python3"
  },
  "language_info": {
   "codemirror_mode": {
    "name": "ipython",
    "version": 3
   },
   "file_extension": ".py",
   "mimetype": "text/x-python",
   "name": "python",
   "nbconvert_exporter": "python",
   "pygments_lexer": "ipython3",
   "version": "3.10.4"
  }
 },
 "nbformat": 4,
 "nbformat_minor": 5
}
