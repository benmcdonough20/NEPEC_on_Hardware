{
 "cells": [
  {
   "cell_type": "code",
   "execution_count": 13,
   "id": "b0348058",
   "metadata": {},
   "outputs": [],
   "source": [
    "import mitiq\n",
    "import pickle\n",
    "\n",
    "from mitiq.pec.representations.optimal import find_optimal_representation"
   ]
  },
  {
   "cell_type": "code",
   "execution_count": 5,
   "id": "574a4f58",
   "metadata": {},
   "outputs": [],
   "source": [
    "with open(\"XZ.kraus\",\"rb\") as f:\n",
    "    kraus_ops = pickle.load(f)"
   ]
  },
  {
   "cell_type": "code",
   "execution_count": 9,
   "id": "87fd9405",
   "metadata": {},
   "outputs": [],
   "source": [
    "Gxpi2 = kraus_ops[0]\n",
    "Gzpi2 = kraus_ops[1]"
   ]
  },
  {
   "cell_type": "code",
   "execution_count": 16,
   "id": "4e8ce71a",
   "metadata": {},
   "outputs": [],
   "source": [
    "with open(\"op.program\",\"rb\") as f:\n",
    "    prog = pickle.load(f)"
   ]
  },
  {
   "cell_type": "code",
   "execution_count": 23,
   "id": "0cb11217",
   "metadata": {},
   "outputs": [
    {
     "ename": "AttributeError",
     "evalue": "'list' object has no attribute 'elements'",
     "output_type": "error",
     "traceback": [
      "\u001b[0;31m---------------------------------------------------------------------------\u001b[0m",
      "\u001b[0;31mAttributeError\u001b[0m                            Traceback (most recent call last)",
      "Input \u001b[0;32mIn [23]\u001b[0m, in \u001b[0;36m<cell line: 1>\u001b[0;34m()\u001b[0m\n\u001b[0;32m----> 1\u001b[0m \u001b[43mfind_optimal_representation\u001b[49m\u001b[43m(\u001b[49m\u001b[43mprog\u001b[49m\u001b[43m,\u001b[49m\u001b[43m \u001b[49m\u001b[43m[\u001b[49m\u001b[43mGxpi2\u001b[49m\u001b[43m,\u001b[49m\u001b[43m \u001b[49m\u001b[43mGzpi2\u001b[49m\u001b[43m]\u001b[49m\u001b[43m)\u001b[49m\n",
      "File \u001b[0;32m~/anaconda3/envs/mitiq/lib/python3.8/site-packages/mitiq/pec/representations/optimal.py:132\u001b[0m, in \u001b[0;36mfind_optimal_representation\u001b[0;34m(ideal_operation, noisy_basis, tol, initial_guess)\u001b[0m\n\u001b[1;32m    128\u001b[0m ideal_cirq_circuit, _ \u001b[38;5;241m=\u001b[39m convert_to_mitiq(ideal_operation)\n\u001b[1;32m    129\u001b[0m ideal_matrix \u001b[38;5;241m=\u001b[39m kraus_to_super(\n\u001b[1;32m    130\u001b[0m     cast(List[np\u001b[38;5;241m.\u001b[39mndarray], kraus(ideal_cirq_circuit))\n\u001b[1;32m    131\u001b[0m )\n\u001b[0;32m--> 132\u001b[0m basis_set \u001b[38;5;241m=\u001b[39m \u001b[43mnoisy_basis\u001b[49m\u001b[38;5;241;43m.\u001b[39;49m\u001b[43melements\u001b[49m\n\u001b[1;32m    134\u001b[0m \u001b[38;5;28;01mtry\u001b[39;00m:\n\u001b[1;32m    135\u001b[0m     basis_matrices \u001b[38;5;241m=\u001b[39m [noisy_op\u001b[38;5;241m.\u001b[39mchannel_matrix \u001b[38;5;28;01mfor\u001b[39;00m noisy_op \u001b[38;5;129;01min\u001b[39;00m basis_set]\n",
      "\u001b[0;31mAttributeError\u001b[0m: 'list' object has no attribute 'elements'"
     ]
    }
   ],
   "source": [
    "find_optimal_representation(prog, [Gxpi2, Gzpi2])"
   ]
  },
  {
   "cell_type": "code",
   "execution_count": null,
   "id": "694ceb27",
   "metadata": {},
   "outputs": [],
   "source": []
  }
 ],
 "metadata": {
  "kernelspec": {
   "display_name": "Python 3 (ipykernel)",
   "language": "python",
   "name": "python3"
  },
  "language_info": {
   "codemirror_mode": {
    "name": "ipython",
    "version": 3
   },
   "file_extension": ".py",
   "mimetype": "text/x-python",
   "name": "python",
   "nbconvert_exporter": "python",
   "pygments_lexer": "ipython3",
   "version": "3.8.13"
  }
 },
 "nbformat": 4,
 "nbformat_minor": 5
}
