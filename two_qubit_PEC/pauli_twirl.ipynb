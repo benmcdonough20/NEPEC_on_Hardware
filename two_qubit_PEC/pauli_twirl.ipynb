{
 "cells": [
  {
   "cell_type": "markdown",
   "id": "ecb33a2f",
   "metadata": {},
   "source": [
    "# Pauli twirled noise learning\n",
    "This notebook implements the procedure described in section SIV, noise learning for single-qubit gates with crosstalk on a simulated backend"
   ]
  },
  {
   "cell_type": "markdown",
   "id": "f56872e9",
   "metadata": {},
   "source": [
    "## Imports"
   ]
  },
  {
   "cell_type": "code",
   "execution_count": 4,
   "id": "aad0d9ad",
   "metadata": {},
   "outputs": [],
   "source": [
    "from qiskit.circuit.library import HGate, XGate, YGate, ZGate, IGate\n",
    "from qiskit.providers.fake_provider import FakeLondonV2\n",
    "from qiskit import QuantumCircuit, transpile\n",
    "from qiskit.circuit import Gate\n",
    "\n",
    "import numpy as np\n",
    "from random import choices\n",
    "import matplotlib.pyplot as plt\n",
    "from itertools import product\n",
    "from scipy.optimize import curve_fit\n",
    "\n",
    "from abc import ABC, abstractmethod\n",
    "from typing import Any, List"
   ]
  },
  {
   "cell_type": "markdown",
   "id": "a14ddb81",
   "metadata": {},
   "source": [
    "## Dynamic circuits\n",
    "I struggled to find a good way to set up the pauli twirl. The solution I came up with was an abtract class called `dynamic_circuit`. This is a combination of the `qiskit.experiments` approach and the mitiq `execute with PEC` approach. This generalizes the need to create distributions of circuits, compile and send them to a backend, and convert the results into estimators.\n",
    "\n",
    "The utility of a class like this is that functions like pauli twirling and readout twirling can be easily chained together. The problem of sampling circuits can be broken down into multiple parts, with layers of the circuit updating themselves.\n",
    "\n",
    "The anlysis class of the readout data flips the bit results in classical post-processing for every $X$ that was applied at the end. The analysis class of the twirling procedure does nothing, because the twirled gates ideally compose to the identity. The `learning_procedure` analysis class computes the parity of the overlap with the desired pauli observable $P_{z(i)}$ after the readout analysis is processed and returns $\\pm 1$. "
   ]
  },
  {
   "cell_type": "markdown",
   "id": "e9d269f1",
   "metadata": {},
   "source": [
    "### Helper methods\n",
    "A few useful methods for later use"
   ]
  },
  {
   "cell_type": "code",
   "execution_count": 5,
   "id": "ba5f6ccb",
   "metadata": {},
   "outputs": [],
   "source": [
    "#return the composition of two gate objects with\n",
    "#a name that reflects the two gates that were composed,\n",
    "#primarily for debugging\n",
    "def compose_gates(gate1 : Gate, gate2 : Gate) -> Gate:\n",
    "    qc = QuantumCircuit(1)\n",
    "    qc.append(gate1, [0])\n",
    "    qc.append(gate2, [0])\n",
    "    gate = qc.to_gate()\n",
    "    gate.name = gate1.name + \".\"+gate2.name\n",
    "    return gate\n",
    "\n",
    "#compose two arrays of gates representing layers together pairwise\n",
    "def _compose_layers(layer1 : List[Gate], layer2 : List[Gate]) -> List[Gate]:\n",
    "    return [compose_gates(gate1, gate2) for (gate1, gate2) in zip(layer1, layer2)]\n",
    "\n",
    "#compose an arbitrary number of layers together pairwise\n",
    "def compose_layers(*layers : List[Gate]) -> List[Gate]:\n",
    "    layer = layers[0]\n",
    "    for i in range(1,len(layers)):\n",
    "        layer = _compose_layers(layer, layers[i])\n",
    "    return layer\n",
    "\n",
    "#append a layer of single-qubit gates represented as an array of gates\n",
    "#to a QuantumCircuit instance\n",
    "def append_layer(qc : QuantumCircuit, layer : List[Gate]) -> None:\n",
    "    for i,gate in enumerate(layer):\n",
    "        qc.append(gate,[i])\n",
    "\n",
    "#compute the dot product of two binary strings\n",
    "def dot_product(binstr1 : str, binstr2 : str) -> int:\n",
    "    tot = 0\n",
    "    for char1, char2 in zip(binstr1, binstr2):\n",
    "        if char1 == '1' and char2 == '1':\n",
    "            tot += 1\n",
    "    return tot % 2\n",
    "\n",
    "#convert a pauli operator to a weight map, e.g. 'XXIZ' -> '1101'\n",
    "def pauli_to_binstr(pauli : str) -> str:\n",
    "    binstr = \"\" \n",
    "    for p in pauli:\n",
    "        if p == 'I':\n",
    "            binstr += '0'\n",
    "        else:\n",
    "            binstr += '1'\n",
    "    return binstr"
   ]
  },
  {
   "cell_type": "markdown",
   "id": "3ac94b99",
   "metadata": {},
   "source": [
    "### Abstract class Implementation\n",
    "\n",
    "This is the general dynamic circuit interface that will be used to set up the procedure. The class is intended to be generalizable, and promises to contain the following:\n",
    "1. A method to sample gates from a distribution and compute the metadata needed for analyzing the result of running the instance\n",
    "2. A method to convert the gate layers to a usable circuit, such as qiskit or pyquil\n",
    "3. A method to convert a single shot of the circuit into an estimator based on the metadata associated with the circuit instance"
   ]
  },
  {
   "cell_type": "code",
   "execution_count": 6,
   "id": "8a5898b6",
   "metadata": {},
   "outputs": [],
   "source": [
    "'''\n",
    "An abstract class for randomly sampling circuits\n",
    "\n",
    "This class stores\n",
    "    -  circuit dimension\n",
    "    -  a method for sampling the circuit\n",
    "    -  a method for converting to a usable circuit format such as quil or qiskit\n",
    "    -  a metadata object that gets updated when sampling\n",
    "'''\n",
    "\n",
    "class dynamic_circuit(ABC):\n",
    "\n",
    "    def __init__(self, dim):\n",
    "        self.metadata = {} #metadata associated with circuit instance\n",
    "        self.dim = dim #dimension of the resulting circuit\n",
    "        self.sample() #call the sampling method to start with a random circuit\n",
    "\n",
    "    #This method samples from a distribution of gates/layers/circuits\n",
    "    #metadata must be updated by this method\n",
    "    @abstractmethod\n",
    "    def sample(self) -> None:\n",
    "        pass\n",
    "    \n",
    "    #Return a usable circuit form from whatever underlying structure such as\n",
    "    #an array of dynamic_circuit's or an array of gates\n",
    "    @abstractmethod\n",
    "    def get_circuit(self) -> Any:\n",
    "        pass\n",
    "\n",
    "    '''\n",
    "    Each circuit object will represent an estimator of some value.\n",
    "    this method takes the result of a single shot of the circuit and \n",
    "    uses the associated metadata to produce a single estimator measurement.\n",
    "\n",
    "    This method is static, anticipating that the original class instances generating\n",
    "    the data will not be carried once the circuits are sent for executation. Instead,\n",
    "    an uninstantiated version of the class can be used, and the metadata needs to\n",
    "    contain enough information to perform the analysis\n",
    "    '''\n",
    "    @staticmethod\n",
    "    @abstractmethod\n",
    "    def analyze(result : str, **metadata) -> Any:\n",
    "        pass\n",
    "    \n",
    "    #return a copy of the metadata. One of the most common mistakes I\n",
    "    #make is not copying arrays and accidentally passing pointers instead of data\n",
    "    def get_metadata(self) -> dict:\n",
    "        return self.metadata.copy()\n",
    "\n",
    "    #set a specific entry in the metadata dictionary\n",
    "    def set_metadata(self, **metadata) -> None:\n",
    "        for key in metadata:\n",
    "            self.metadata[key] = metadata[key]"
   ]
  },
  {
   "cell_type": "markdown",
   "id": "3f63c760",
   "metadata": {},
   "source": [
    "### Dynamic circuit representing layer of twirling"
   ]
  },
  {
   "cell_type": "code",
   "execution_count": 7,
   "id": "a412a144",
   "metadata": {},
   "outputs": [],
   "source": [
    "#Implement a single layer of pauli-twirled noise\n",
    "class twirled_layer(dynamic_circuit):\n",
    "    #...  original constructor\n",
    "\n",
    "    #implement sampling routine\n",
    "    def sample(self):\n",
    "        self.layers = [None]*2\n",
    "        #choose random paulis for each qubit\n",
    "        self.layers[0] = choices([IGate(), XGate(), YGate(), ZGate()], k = self.dim)\n",
    "        #paulis are hermitian, so repeat the layer for the twirl\n",
    "        self.layers[1] = self.layers[0].copy()\n",
    "    \n",
    "    #return a circuit object looking like --P_i--P_i--\n",
    "    def get_circuit(self):\n",
    "        qc = QuantumCircuit(self.dim)\n",
    "        for i,gate in enumerate(self.layers[0]):\n",
    "            qc.append(gate,[i])\n",
    "        for i,gate in enumerate(self.layers[1]):\n",
    "            qc.append(gate,[i])\n",
    "        return qc\n",
    "\n",
    "    #No analysis needed because overall unitary is identity\n",
    "    @staticmethod\n",
    "    def analyze(result : str, **metadata) -> str:\n",
    "        return result"
   ]
  },
  {
   "cell_type": "markdown",
   "id": "f8c7c202",
   "metadata": {},
   "source": [
    "### Dynamic circuit representing noise-twirled readout\n",
    "readout-twirling described in this paper: https://arxiv.org/abs/2012.09738 . The scheme is that before readout, gates are randomly samples from $\\{I, X\\}$ on each qubit. This diagonalizes the readout error in the Z basis, and allows for efficient characterization of spam errors."
   ]
  },
  {
   "cell_type": "code",
   "execution_count": 8,
   "id": "8670d3ce",
   "metadata": {},
   "outputs": [],
   "source": [
    "class readout_layer(dynamic_circuit):\n",
    "    #... same constructor\n",
    "\n",
    "    #randomly sample from {I,X}^\\otimes dim\n",
    "    def sample(self) -> None:\n",
    "        flips = choices(['0','1'], k=self.dim) #randomly choose flips\n",
    "        self.layer = [None]*self.dim\n",
    "        self.layer = [{'0':IGate(), '1':XGate()}[bit] for bit in flips] #create gate layer\n",
    "        self.set_metadata(readout_flip = \"\".join(flips)) #record flip sequence as metadata\n",
    "\n",
    "    #return a circuit like --I-- or --X-- for each qubit\n",
    "    def get_circuit(self) -> QuantumCircuit:\n",
    "        qc = QuantumCircuit(self.dim)\n",
    "        append_layer(qc, self.layer)\n",
    "\n",
    "        return qc\n",
    "\n",
    "    #take flip the result if an 'X' was applied to the bit \n",
    "    @staticmethod\n",
    "    def analyze(result, **metadata) -> str:\n",
    "        #get binary string representing where 'X' was applied\n",
    "        ro_string = metadata['readout_flip']\n",
    "        return 1-2*(ro_string.count('1')%2)"
   ]
  },
  {
   "cell_type": "markdown",
   "id": "afa85a4d",
   "metadata": {},
   "source": [
    "### Noise learning for single-qubit gates with crosstalk\n",
    "\n",
    "Here, the `learning_procedure` class implements the single qubit learning procedure as described in section SIV of the paper:\n",
    "\n",
    "1. Gates $B_i$ implement a basis change from $P_{z(i)}$ to $P_i$ in the first layer\n",
    "2. Conjugate pairs of pauli gates are randomly sampled into $2k$ layers to twirl the noise\n",
    "3. The gates $B_i^\\dagger$ are inserted in the penultimate layer to convert back to the $P_{z(i)}$ basis\n",
    "4. Gates on each qubit are randomly sampled from $\\{I, X\\}$ to diagonalize the readout error, so it becomes classical readout error\n",
    "5. The gates from each layer are composed together into $k+1$ layers of unitaries, resulting in $k+1$ applications of noise, with the $k+1$ term counting as readout error.\n"
   ]
  },
  {
   "cell_type": "code",
   "execution_count": 9,
   "id": "0dde26f8",
   "metadata": {},
   "outputs": [],
   "source": [
    "#define H*S gate\n",
    "qc = QuantumCircuit(1)\n",
    "qc.h(0)\n",
    "qc.s(0)\n",
    "HS = qc.to_gate()\n",
    "HS.name = 'HS'\n",
    "\n",
    "#define S^dag * H gate\n",
    "qc = QuantumCircuit(1)\n",
    "qc.sdg(0)\n",
    "qc.h(0)\n",
    "SDGH = qc.to_gate()\n",
    "SDGH.name = 'SdagH'\n",
    "\n",
    "#convert P_z(i) basis to P_i and back for single qubits\n",
    "BASIS_CHANGE = {'I':IGate(), 'Z':IGate(), 'X':HGate(), 'Y':HS}\n",
    "BASIS_CHANGE_BACK = {'I':IGate(), 'Z':IGate(), 'X':HGate(), 'Y':SDGH}\n",
    "\n",
    "#class representing the full single-qubit gate with crosstalk learning procedure\n",
    "class learning_procedure(dynamic_circuit):\n",
    "\n",
    "    #paulis P_p and P_m are used to compute 1/2**n Tr(P_m Lambda(P_p))\n",
    "    #The layers containing the basis change are static circuit layers,\n",
    "    #The noise twirling and readout twirling are implemented as dynamic circuits\n",
    "\n",
    "    def __init__(self, pauli_prep : str, pauli_meas : str, eigenstate : str, k : int, dim : int):\n",
    "        # must have k > 0. in particular, if k==0 then there are no longer k+1 cycles of noise\n",
    "        # this is taken care of by the first term in the exponential fit\n",
    "        if k < 1:\n",
    "            raise Exception(\"k must be > 0\")\n",
    "\n",
    "        #initialize class variables used in circuit conversion and sampling\n",
    "        self.k = k\n",
    "        self.pauli_prep = pauli_prep\n",
    "        self.pauli_meas = pauli_meas\n",
    "        self.eigenstate = eigenstate\n",
    "\n",
    "        #implement static and dynamic circuit layers\n",
    "        self.prep_layer = [{'0':IGate(), '1':XGate()}[sgn] for sgn in eigenstate]\n",
    "        self.B_layer = [BASIS_CHANGE[p] for p in pauli_prep]\n",
    "        self.twirled_layers = [twirled_layer(dim) for i in range(k)]\n",
    "        self.B_dag_layer = [BASIS_CHANGE_BACK[p] for p in pauli_meas]\n",
    "        self.ro_layer = readout_layer(dim)\n",
    "\n",
    "        super().__init__(dim) #initialize implemented class\n",
    "\n",
    "        self.sample() #generate random circuit layers\n",
    "        #set metadata\n",
    "        self.set_metadata(pauli_prep = pauli_prep, \n",
    "                          pauli_meas = pauli_meas,\n",
    "                          eigenval = 1-2*(eigenstate.count('1') % 2),\n",
    "                          k = k)\n",
    "\n",
    "    #sample from twirled and readout layers\n",
    "    def sample(self) -> None:\n",
    "        for layer in self.twirled_layers:\n",
    "            layer.sample()\n",
    "        self.ro_layer.sample()\n",
    "        self.set_metadata(**self.ro_layer.get_metadata())\n",
    "\n",
    "    #for debugging purposes, return circuit before unitaries are combined\n",
    "    def get_raw_circuit(self) -> QuantumCircuit:\n",
    "        qc = QuantumCircuit(self.dim)\n",
    "        #append eigenstate prep layer\n",
    "        append_layer(qc, self.prep_layer)\n",
    "        #append b layer\n",
    "        append_layer(qc, self.B_layer)\n",
    "        qc.barrier()\n",
    "        #append twirling layers with barriers in between\n",
    "        for twirled_layer in self.twirled_layers:\n",
    "            for layer in twirled_layer.layers:\n",
    "                append_layer(qc, layer)\n",
    "            qc.barrier()\n",
    "        #append bdag layer\n",
    "        append_layer(qc, self.B_dag_layer)\n",
    "        #append readout twirling layer\n",
    "        append_layer(qc, self.ro_layer.layer)\n",
    "\n",
    "        return qc\n",
    "\n",
    "    #Combine unitaries so that the noise is applied k+1 times during execution\n",
    "    def get_circuit(self):\n",
    "        qc = QuantumCircuit(self.dim)\n",
    "        #compose B layer with first half of first layer of twirling\n",
    "        append_layer(qc, compose_layers(self.prep_layer,\n",
    "                                        self.B_layer, \n",
    "                                        self.twirled_layers[0].layers[0]))\n",
    "        qc.barrier()\n",
    "\n",
    "        #combine the second half of each twirled layer with the first half of the next one\n",
    "        for i in range(1,self.k):\n",
    "            append_layer(qc, \n",
    "                         compose_layers(self.twirled_layers[i-1].layers[1],\n",
    "                                        self.twirled_layers[i].layers[0]))\n",
    "            qc.barrier()\n",
    "        \n",
    "        #compose last half of last layer of twirl with basis change layer and readout layer\n",
    "        append_layer(qc, compose_layers(self.twirled_layers[-1].layers[1], \n",
    "                                self.B_dag_layer, \n",
    "                                self.ro_layer.layer))\n",
    "        return qc\n",
    "\n",
    "    #Analyze readout twirling and compute overlap with desired pauli\n",
    "    @staticmethod\n",
    "    def analyze(result, **metadata):\n",
    "        #get the pauli observable that is being measured\n",
    "        pauli_meas = metadata['pauli_meas']\n",
    "        #call the readout class analysis on result to untwirl the readout\n",
    "        readout_mitigation = readout_layer.analyze(result, **metadata)\n",
    "        tot = dot_product(result, pauli_to_binstr(pauli_meas))\n",
    "        #find parity and return as \\pm 1\n",
    "        return (1-2*tot)*readout_mitigation*metadata['eigenval']"
   ]
  },
  {
   "cell_type": "markdown",
   "id": "535c1dd3",
   "metadata": {},
   "source": [
    "### Brief demo\n",
    "a demo of the `learning_procedure` class"
   ]
  },
  {
   "cell_type": "code",
   "execution_count": 11,
   "id": "784bf7db",
   "metadata": {},
   "outputs": [
    {
     "data": {
      "text/html": [
       "<pre style=\"word-wrap: normal;white-space: pre;background: #fff0;line-height: 1.1;font-family: &quot;Courier New&quot;,Courier,monospace\">     ┌───┐┌───┐  ░ ┌───┐┌───┐ ░ ┌───┐┌───┐ ░   ┌───┐  ┌───┐\n",
       "q_0: ┤ I ├┤ H ├──░─┤ Z ├┤ Z ├─░─┤ Y ├┤ Y ├─░───┤ H ├──┤ I ├\n",
       "     ├───┤├───┴┐ ░ ├───┤├───┤ ░ ├───┤├───┤ ░ ┌─┴───┴─┐├───┤\n",
       "q_1: ┤ I ├┤ HS ├─░─┤ I ├┤ I ├─░─┤ Y ├┤ Y ├─░─┤ SdagH ├┤ X ├\n",
       "     ├───┤└────┘ ░ ├───┤├───┤ ░ ├───┤├───┤ ░ └─┬───┬─┘├───┤\n",
       "q_2: ┤ H ├───────░─┤ Y ├┤ Y ├─░─┤ I ├┤ I ├─░───┤ H ├──┤ I ├\n",
       "     └───┘       ░ └───┘└───┘ ░ └───┘└───┘ ░   └───┘  └───┘</pre>"
      ],
      "text/plain": [
       "     ┌───┐┌───┐  ░ ┌───┐┌───┐ ░ ┌───┐┌───┐ ░   ┌───┐  ┌───┐\n",
       "q_0: ┤ I ├┤ H ├──░─┤ Z ├┤ Z ├─░─┤ Y ├┤ Y ├─░───┤ H ├──┤ I ├\n",
       "     ├───┤├───┴┐ ░ ├───┤├───┤ ░ ├───┤├───┤ ░ ┌─┴───┴─┐├───┤\n",
       "q_1: ┤ I ├┤ HS ├─░─┤ I ├┤ I ├─░─┤ Y ├┤ Y ├─░─┤ SdagH ├┤ X ├\n",
       "     ├───┤└────┘ ░ ├───┤├───┤ ░ ├───┤├───┤ ░ └─┬───┬─┘├───┤\n",
       "q_2: ┤ H ├───────░─┤ Y ├┤ Y ├─░─┤ I ├┤ I ├─░───┤ H ├──┤ I ├\n",
       "     └───┘       ░ └───┘└───┘ ░ └───┘└───┘ ░   └───┘  └───┘"
      ]
     },
     "execution_count": 11,
     "metadata": {},
     "output_type": "execute_result"
    }
   ],
   "source": [
    "example_procedure = learning_procedure(\"XYX\", \"XYX\", '00', 2, 3) #sample() is called in the constructor\n",
    "example_procedure.get_raw_circuit().draw() #a different circuit will be generated each time"
   ]
  },
  {
   "cell_type": "code",
   "execution_count": 12,
   "id": "ab8d8634",
   "metadata": {},
   "outputs": [
    {
     "name": "stdout",
     "output_type": "stream",
     "text": [
      "{'readout_flip': '010', 'pauli_prep': 'XYX', 'pauli_meas': 'XYX', 'eigenval': 1, 'k': 2}\n"
     ]
    }
   ],
   "source": [
    "print(example_procedure.get_metadata()) #this will reflect the structure of the above circuit"
   ]
  },
  {
   "cell_type": "code",
   "execution_count": 13,
   "id": "785c98db",
   "metadata": {},
   "outputs": [
    {
     "data": {
      "text/html": [
       "<pre style=\"word-wrap: normal;white-space: pre;background: #fff0;line-height: 1.1;font-family: &quot;Courier New&quot;,Courier,monospace\">      ┌────────┐  ░ ┌─────┐  ░   ┌────────┐ \n",
       "q_0: ─┤ id.h.z ├──░─┤ z.y ├──░───┤ y.h.id ├─\n",
       "     ┌┴────────┴┐ ░ ├─────┴┐ ░ ┌─┴────────┴┐\n",
       "q_1: ┤ id.HS.id ├─░─┤ id.y ├─░─┤ y.SdagH.x ├\n",
       "     └──────────┘ ░ ├──────┤ ░ └┬─────────┬┘\n",
       "q_2: ─────────────░─┤ y.id ├─░──┤ id.h.id ├─\n",
       "                  ░ └──────┘ ░  └─────────┘ </pre>"
      ],
      "text/plain": [
       "      ┌────────┐  ░ ┌─────┐  ░   ┌────────┐ \n",
       "q_0: ─┤ id.h.z ├──░─┤ z.y ├──░───┤ y.h.id ├─\n",
       "     ┌┴────────┴┐ ░ ├─────┴┐ ░ ┌─┴────────┴┐\n",
       "q_1: ┤ id.HS.id ├─░─┤ id.y ├─░─┤ y.SdagH.x ├\n",
       "     └──────────┘ ░ ├──────┤ ░ └┬─────────┬┘\n",
       "q_2: ─────────────░─┤ y.id ├─░──┤ id.h.id ├─\n",
       "                  ░ └──────┘ ░  └─────────┘ "
      ]
     },
     "execution_count": 13,
     "metadata": {},
     "output_type": "execute_result"
    }
   ],
   "source": [
    "#noise is applied after every layer. There are k+1 layers for k > 1\n",
    "example_procedure.get_circuit().draw()"
   ]
  },
  {
   "cell_type": "markdown",
   "id": "45eb37c7",
   "metadata": {},
   "source": [
    "## Measurement procedure\n",
    "\n",
    "The measurement procedure involves measuring $\\text{Tr}[P_a \\Lambda^k(P_a)]$ for different depths $k$. Then, an exponential of the form $ae^{-bx}$ is fit to the data, noting that $\\text{Tr}[P_a \\Lambda^{k\\to\\infty}(P_a)] = \\text{Tr}[P_aI] = 0$. The $a$ coefficient gives the strength of the SPAM noise, and $e^{-b}$ gives the fidelity $f_a$. \n",
    "\n",
    "In order to later run this on a Rigetti processor, the process is broken up into different parts.\n",
    "1. The circuits are sampled randomly and transpiled, then recorded with the corresponding metadata\n",
    "2. The transpiled circuits are run on the backend (in this case `FakeLondon`) and results are recorded with the metadata\n",
    "3. The analysis method of the `learning procedure` class is used to produce the estimator values, then the valus are averaged"
   ]
  },
  {
   "cell_type": "markdown",
   "id": "a5ba5d8e",
   "metadata": {},
   "source": [
    "### Helper methods\n",
    "A routine to generate benchmark paulis and display a progress bar.\n",
    "\n",
    "The paper mentions that the measurements can be combined into a basis of only nine measurements. I have not learned how to do this yet."
   ]
  },
  {
   "cell_type": "code",
   "execution_count": 14,
   "id": "6a204c14",
   "metadata": {},
   "outputs": [
    {
     "name": "stdout",
     "output_type": "stream",
     "text": [
      "['XIII', 'YIII', 'ZIII', 'IXII', 'IYII', 'IZII', 'IIXI', 'IIYI', 'IIZI', 'IIIX', 'IIIY', 'IIIZ', 'XXII', 'XYII', 'XZII', 'YXII', 'YYII', 'YZII', 'ZXII', 'ZYII', 'ZZII', 'IXXI', 'IXYI', 'IXZI', 'IYXI', 'IYYI', 'IYZI', 'IZXI', 'IZYI', 'IZZI', 'IIXX', 'IIXY', 'IIXZ', 'IIYX', 'IIYY', 'IIYZ', 'IIZX', 'IIZY', 'IIZZ']\n"
     ]
    }
   ],
   "source": [
    "#generate all of the paulis with support on connected qubit pairs and on the single qubits\n",
    "def generate_paulis(adjacency_list : List[tuple], proc_size : int) -> List[str]:\n",
    "    pauli_list = []\n",
    "    idPauli = ['I']*proc_size\n",
    "    \n",
    "    #get all single-weight paulis\n",
    "    for i in range(proc_size):\n",
    "        for op in ['X','Y','Z']:\n",
    "            pauli = idPauli.copy()\n",
    "            pauli[i] = op\n",
    "            pauli_list.append(\"\".join(pauli))\n",
    "\n",
    "    #get all weight-two paulis on nieghboring qubits\n",
    "    for (qubit1, qubit2) in adjacency_list:\n",
    "        for pauli1, pauli2 in product(['X','Y','Z'], repeat =2):\n",
    "            pauli = idPauli.copy()\n",
    "            pauli[qubit1] = pauli1\n",
    "            pauli[qubit2] = pauli2\n",
    "            pauli_list.append(\"\".join(pauli))\n",
    "\n",
    "    return pauli_list\n",
    "\n",
    "# Displays a nice progress bar\n",
    "def progressBar(iteration, total, prefix = '', suffix = '', decimals = 1, length = 100, fill = '█', printEnd = \"\\r\"):\n",
    "    percent = (\"{0:.\" + str(decimals) + \"f}\").format(100 * (iteration / float(total)))\n",
    "    filledLength = int(length * iteration // total)\n",
    "    bar = fill * filledLength + '-' * (length - filledLength)\n",
    "    print(f'\\r{prefix} |{bar}| {percent}% {suffix}', end = printEnd)\n",
    "    if iteration == total: \n",
    "        print()\n",
    "\n",
    "#this is what the generate_paulis method does\n",
    "#size is 3n+9(n-1)\n",
    "print(generate_paulis([(0,1),(1,2),(2,3)], 4))"
   ]
  },
  {
   "cell_type": "markdown",
   "id": "9edfb4c5",
   "metadata": {},
   "source": [
    "### Single measurement at one depth\n",
    "Making a single fidelity measurement at a single depth before moving to the full procedure"
   ]
  },
  {
   "cell_type": "code",
   "execution_count": 15,
   "id": "99bbaa5a",
   "metadata": {},
   "outputs": [
    {
     "name": "stdout",
     "output_type": "stream",
     "text": [
      "['XI', 'YI', 'ZI', 'IX', 'IY', 'IZ', 'XX', 'XY', 'XZ', 'YX', 'YY', 'YZ', 'ZX', 'ZY', 'ZZ']\n"
     ]
    }
   ],
   "source": [
    "small_proc = [(0,1)] #set up a two-qubit processor\n",
    "pauli_set = generate_paulis(small_proc,2) #generate benchmark paulis\n",
    "num = len(pauli_set)\n",
    "sglp = learning_procedure(\"XX\", \"XY\", '00',2, 2)\n",
    "print(pauli_set)"
   ]
  },
  {
   "cell_type": "markdown",
   "id": "b4345dc7",
   "metadata": {},
   "source": [
    "Example of the effect of transpilation. One problem I have encountered is that in the unlikely event that the gate $I \\circ I$ is encountered, the transpiler completely gets rid of the layer. I would like to figure out how to replace these with delays."
   ]
  },
  {
   "cell_type": "code",
   "execution_count": 16,
   "id": "24dffdb1",
   "metadata": {},
   "outputs": [
    {
     "data": {
      "text/html": [
       "<pre style=\"word-wrap: normal;white-space: pre;background: #fff0;line-height: 1.1;font-family: &quot;Courier New&quot;,Courier,monospace\">     ┌─────────┐ ░ ┌──────┐ ░   ┌────────┐  \n",
       "q_0: ┤ id.h.id ├─░─┤ id.z ├─░───┤ z.h.id ├──\n",
       "     └┬────────┤ ░ ├─────┬┘ ░ ┌─┴────────┴─┐\n",
       "q_1: ─┤ id.h.z ├─░─┤ z.z ├──░─┤ z.SdagH.id ├\n",
       "      └────────┘ ░ └─────┘  ░ └────────────┘</pre>"
      ],
      "text/plain": [
       "     ┌─────────┐ ░ ┌──────┐ ░   ┌────────┐  \n",
       "q_0: ┤ id.h.id ├─░─┤ id.z ├─░───┤ z.h.id ├──\n",
       "     └┬────────┤ ░ ├─────┬┘ ░ ┌─┴────────┴─┐\n",
       "q_1: ─┤ id.h.z ├─░─┤ z.z ├──░─┤ z.SdagH.id ├\n",
       "      └────────┘ ░ └─────┘  ░ └────────────┘"
      ]
     },
     "execution_count": 16,
     "metadata": {},
     "output_type": "execute_result"
    }
   ],
   "source": [
    "sglp.get_circuit().draw()"
   ]
  },
  {
   "cell_type": "code",
   "execution_count": 17,
   "id": "51db132e",
   "metadata": {},
   "outputs": [
    {
     "data": {
      "text/html": [
       "<pre style=\"word-wrap: normal;white-space: pre;background: #fff0;line-height: 1.1;font-family: &quot;Courier New&quot;,Courier,monospace\">                ┌──────────┐ ░ ┌────────┐ ░  ┌─────────┐  \n",
       "      q_0 -> 0 ─┤ U2(0,-π) ├─░─┤ U1(-π) ├─░──┤ U2(0,0) ├──\n",
       "               ┌┴──────────┤ ░ └────────┘ ░ ┌┴─────────┴─┐\n",
       "      q_1 -> 1 ┤ U2(-π,-π) ├─░────────────░─┤ U2(0,-π/2) ├\n",
       "               └───────────┘ ░            ░ └────────────┘\n",
       "ancilla_0 -> 2 ───────────────────────────────────────────\n",
       "                                                          \n",
       "ancilla_1 -> 3 ───────────────────────────────────────────\n",
       "                                                          \n",
       "ancilla_2 -> 4 ───────────────────────────────────────────\n",
       "                                                          </pre>"
      ],
      "text/plain": [
       "                ┌──────────┐ ░ ┌────────┐ ░  ┌─────────┐  \n",
       "      q_0 -> 0 ─┤ U2(0,-π) ├─░─┤ U1(-π) ├─░──┤ U2(0,0) ├──\n",
       "               ┌┴──────────┤ ░ └────────┘ ░ ┌┴─────────┴─┐\n",
       "      q_1 -> 1 ┤ U2(-π,-π) ├─░────────────░─┤ U2(0,-π/2) ├\n",
       "               └───────────┘ ░            ░ └────────────┘\n",
       "ancilla_0 -> 2 ───────────────────────────────────────────\n",
       "                                                          \n",
       "ancilla_1 -> 3 ───────────────────────────────────────────\n",
       "                                                          \n",
       "ancilla_2 -> 4 ───────────────────────────────────────────\n",
       "                                                          "
      ]
     },
     "execution_count": 17,
     "metadata": {},
     "output_type": "execute_result"
    }
   ],
   "source": [
    "backend = FakeLondonV2()\n",
    "transpile(sglp.get_circuit(), backend).draw()"
   ]
  },
  {
   "cell_type": "code",
   "execution_count": 443,
   "id": "76adcb56",
   "metadata": {},
   "outputs": [
    {
     "name": "stdout",
     "output_type": "stream",
     "text": [
      " |████████████████████████████████████████████████████████████████████████████████████████████████████| 100.0% \n"
     ]
    }
   ],
   "source": [
    "shots = 1000 #shots of estimator to take\n",
    "transpiled_circs = [] #stores tuples of transpiled circuits and metadata\n",
    "for j,binstr in enumerate(product('01', repeat = 2)):\n",
    "    sglp = learning_procedure(\"XX\",\"XX\", \"\".join(binstr), 2, 2)\n",
    "    for i in range(shots):\n",
    "        sglp.sample() #generate a random circuit\n",
    "        #measure the qubits in the circuit\n",
    "        qc = sglp.get_circuit()\n",
    "        qc.measure_all()\n",
    "        #transpile the circuit and store with metadata\n",
    "        circ = transpile(qc, backend)\n",
    "        transpiled_circs.append((circ, sglp.get_metadata()))\n",
    "        progressBar(j*shots+i+1, shots*2**2)"
   ]
  },
  {
   "cell_type": "code",
   "execution_count": 444,
   "id": "e533927b",
   "metadata": {},
   "outputs": [
    {
     "name": "stdout",
     "output_type": "stream",
     "text": [
      " |████████████████████████████████████████████████████████████████████████████████████████████████████| 100.0% \n"
     ]
    }
   ],
   "source": [
    "results = [] #store tuples containing results and metadata\n",
    "\n",
    "for i,(circ, metadata) in enumerate(transpiled_circs):\n",
    "    #get result\n",
    "    res = backend.run(circ, shots = 1).result().get_counts()\n",
    "    #get result of single shot (is there a better way?)\n",
    "    count = list(res.keys())[0]\n",
    "    results.append((count, metadata))\n",
    "    progressBar(i+1, shots*2**2)"
   ]
  },
  {
   "cell_type": "code",
   "execution_count": 446,
   "id": "3f02e5ca",
   "metadata": {},
   "outputs": [
    {
     "name": "stdout",
     "output_type": "stream",
     "text": [
      "0.8085\n"
     ]
    }
   ],
   "source": [
    "total = 0\n",
    "for result, metadata in results:\n",
    "    total += learning_procedure.analyze(result, **metadata)\n",
    "\n",
    "print(total/shots/2**2)"
   ]
  },
  {
   "cell_type": "markdown",
   "id": "da824003",
   "metadata": {},
   "source": [
    "### Measurements at multiple depths\n",
    "Taking measurements at multiple depths and fitting the exponentials"
   ]
  },
  {
   "cell_type": "code",
   "execution_count": 472,
   "id": "43bbbb66",
   "metadata": {},
   "outputs": [
    {
     "name": "stdout",
     "output_type": "stream",
     "text": [
      "Creating 16000 circuit instances\n",
      " |████████████████████████████████████████████████████████████████████████████████████████████████████| 100.0% \n"
     ]
    }
   ],
   "source": [
    "backend = FakeLondonV2()\n",
    "n = 2\n",
    "depths = [2,4,16,128]\n",
    "shots = 1000\n",
    "num_circuits = shots*len(depths)*2**n\n",
    "print(\"Creating\", num_circuits, \"circuit instances\")\n",
    "\n",
    "instances = []\n",
    "for k in depths:\n",
    "    for j,binstr in enumerate(product('01', repeat = n)):\n",
    "        sglp = learning_procedure(\"XX\",\"XX\", \"\".join(binstr), k, n)\n",
    "        for i in range(shots):\n",
    "            sglp.sample()\n",
    "            qc = sglp.get_circuit()\n",
    "            qc.measure_all()\n",
    "            instances.append((qc, sglp.get_metadata()))\n",
    "            progressBar(depths.index(k)*shots*2**n+shots*j+i+1, num_circuits)"
   ]
  },
  {
   "cell_type": "code",
   "execution_count": 473,
   "id": "347492d4",
   "metadata": {},
   "outputs": [
    {
     "ename": "KeyboardInterrupt",
     "evalue": "",
     "output_type": "error",
     "traceback": [
      "\u001b[0;31m---------------------------------------------------------------------------\u001b[0m",
      "\u001b[0;31mKeyboardInterrupt\u001b[0m                         Traceback (most recent call last)",
      "\u001b[1;32m/home/ben/Documents/NEPEC_on_Hardware/two_qubit_PEC/pauli_twirl.ipynb Cell 33'\u001b[0m in \u001b[0;36m<cell line: 4>\u001b[0;34m()\u001b[0m\n\u001b[1;32m      <a href='vscode-notebook-cell:/home/ben/Documents/NEPEC_on_Hardware/two_qubit_PEC/pauli_twirl.ipynb#ch0000071?line=1'>2</a>\u001b[0m transpiled_circs \u001b[39m=\u001b[39m []\n\u001b[1;32m      <a href='vscode-notebook-cell:/home/ben/Documents/NEPEC_on_Hardware/two_qubit_PEC/pauli_twirl.ipynb#ch0000071?line=3'>4</a>\u001b[0m \u001b[39mwith\u001b[39;00m ThreadPool(\u001b[39m24\u001b[39m) \u001b[39mas\u001b[39;00m pool:\n\u001b[0;32m----> <a href='vscode-notebook-cell:/home/ben/Documents/NEPEC_on_Hardware/two_qubit_PEC/pauli_twirl.ipynb#ch0000071?line=4'>5</a>\u001b[0m     transpiled_circs \u001b[39m=\u001b[39m pool\u001b[39m.\u001b[39;49mmap(\u001b[39mlambda\u001b[39;49;00m x : (transpile(x[\u001b[39m0\u001b[39;49m], backend, basis_gates \u001b[39m=\u001b[39;49m basis_gates), x[\u001b[39m1\u001b[39;49m]), instances)\n",
      "File \u001b[0;32m~/anaconda3/envs/qiskit_env/lib/python3.10/multiprocessing/pool.py:364\u001b[0m, in \u001b[0;36mPool.map\u001b[0;34m(self, func, iterable, chunksize)\u001b[0m\n\u001b[1;32m    359\u001b[0m \u001b[39mdef\u001b[39;00m \u001b[39mmap\u001b[39m(\u001b[39mself\u001b[39m, func, iterable, chunksize\u001b[39m=\u001b[39m\u001b[39mNone\u001b[39;00m):\n\u001b[1;32m    360\u001b[0m     \u001b[39m'''\u001b[39;00m\n\u001b[1;32m    361\u001b[0m \u001b[39m    Apply `func` to each element in `iterable`, collecting the results\u001b[39;00m\n\u001b[1;32m    362\u001b[0m \u001b[39m    in a list that is returned.\u001b[39;00m\n\u001b[1;32m    363\u001b[0m \u001b[39m    '''\u001b[39;00m\n\u001b[0;32m--> 364\u001b[0m     \u001b[39mreturn\u001b[39;00m \u001b[39mself\u001b[39;49m\u001b[39m.\u001b[39;49m_map_async(func, iterable, mapstar, chunksize)\u001b[39m.\u001b[39;49mget()\n",
      "File \u001b[0;32m~/anaconda3/envs/qiskit_env/lib/python3.10/multiprocessing/pool.py:765\u001b[0m, in \u001b[0;36mApplyResult.get\u001b[0;34m(self, timeout)\u001b[0m\n\u001b[1;32m    764\u001b[0m \u001b[39mdef\u001b[39;00m \u001b[39mget\u001b[39m(\u001b[39mself\u001b[39m, timeout\u001b[39m=\u001b[39m\u001b[39mNone\u001b[39;00m):\n\u001b[0;32m--> 765\u001b[0m     \u001b[39mself\u001b[39;49m\u001b[39m.\u001b[39;49mwait(timeout)\n\u001b[1;32m    766\u001b[0m     \u001b[39mif\u001b[39;00m \u001b[39mnot\u001b[39;00m \u001b[39mself\u001b[39m\u001b[39m.\u001b[39mready():\n\u001b[1;32m    767\u001b[0m         \u001b[39mraise\u001b[39;00m \u001b[39mTimeoutError\u001b[39;00m\n",
      "File \u001b[0;32m~/anaconda3/envs/qiskit_env/lib/python3.10/multiprocessing/pool.py:762\u001b[0m, in \u001b[0;36mApplyResult.wait\u001b[0;34m(self, timeout)\u001b[0m\n\u001b[1;32m    761\u001b[0m \u001b[39mdef\u001b[39;00m \u001b[39mwait\u001b[39m(\u001b[39mself\u001b[39m, timeout\u001b[39m=\u001b[39m\u001b[39mNone\u001b[39;00m):\n\u001b[0;32m--> 762\u001b[0m     \u001b[39mself\u001b[39;49m\u001b[39m.\u001b[39;49m_event\u001b[39m.\u001b[39;49mwait(timeout)\n",
      "File \u001b[0;32m~/anaconda3/envs/qiskit_env/lib/python3.10/threading.py:600\u001b[0m, in \u001b[0;36mEvent.wait\u001b[0;34m(self, timeout)\u001b[0m\n\u001b[1;32m    598\u001b[0m signaled \u001b[39m=\u001b[39m \u001b[39mself\u001b[39m\u001b[39m.\u001b[39m_flag\n\u001b[1;32m    599\u001b[0m \u001b[39mif\u001b[39;00m \u001b[39mnot\u001b[39;00m signaled:\n\u001b[0;32m--> 600\u001b[0m     signaled \u001b[39m=\u001b[39m \u001b[39mself\u001b[39;49m\u001b[39m.\u001b[39;49m_cond\u001b[39m.\u001b[39;49mwait(timeout)\n\u001b[1;32m    601\u001b[0m \u001b[39mreturn\u001b[39;00m signaled\n",
      "File \u001b[0;32m~/anaconda3/envs/qiskit_env/lib/python3.10/threading.py:320\u001b[0m, in \u001b[0;36mCondition.wait\u001b[0;34m(self, timeout)\u001b[0m\n\u001b[1;32m    318\u001b[0m \u001b[39mtry\u001b[39;00m:    \u001b[39m# restore state no matter what (e.g., KeyboardInterrupt)\u001b[39;00m\n\u001b[1;32m    319\u001b[0m     \u001b[39mif\u001b[39;00m timeout \u001b[39mis\u001b[39;00m \u001b[39mNone\u001b[39;00m:\n\u001b[0;32m--> 320\u001b[0m         waiter\u001b[39m.\u001b[39;49macquire()\n\u001b[1;32m    321\u001b[0m         gotit \u001b[39m=\u001b[39m \u001b[39mTrue\u001b[39;00m\n\u001b[1;32m    322\u001b[0m     \u001b[39melse\u001b[39;00m:\n",
      "\u001b[0;31mKeyboardInterrupt\u001b[0m: "
     ]
    }
   ],
   "source": [
    "from multiprocessing.pool import ThreadPool\n",
    "transpiled_circs = []\n",
    "\n",
    "with ThreadPool(24) as pool:\n",
    "    transpiled_circs = pool.map(lambda x : (transpile(x[0], backend, basis_gates = basis_gates), x[1]), instances)"
   ]
  },
  {
   "cell_type": "code",
   "execution_count": null,
   "id": "cad0d0af",
   "metadata": {},
   "outputs": [],
   "source": [
    "def get_result(transpiled_circ):\n",
    "    result = backend.run(transpiled_circ[0], shots = 1, noise_model = error_model).result().get_counts()\n",
    "    count = list(result.keys())[0]\n",
    "    return ((count, transpiled_circ[1]))\n",
    "\n",
    "results = []\n",
    "with ThreadPool(24) as pool:\n",
    "    results = pool.map(get_result, transpiled_circs)"
   ]
  },
  {
   "cell_type": "code",
   "execution_count": null,
   "id": "9f8db94f",
   "metadata": {},
   "outputs": [],
   "source": [
    "values = dict(zip(depths, np.zeros([len(depths)])))\n",
    "for result, metadata in results:\n",
    "    expec = learning_procedure.analyze(result, **metadata)\n",
    "    values[metadata['k']] += expec/shots/2**n"
   ]
  },
  {
   "cell_type": "code",
   "execution_count": null,
   "id": "d7c1f4c9",
   "metadata": {},
   "outputs": [],
   "source": [
    "popt, pcov = curve_fit(lambda x,a,b,c : a*np.exp(-b*x)+c, depths, list(values.values()), p0=[.95, .15, .3])"
   ]
  },
  {
   "cell_type": "code",
   "execution_count": null,
   "id": "e31b577e",
   "metadata": {},
   "outputs": [
    {
     "data": {
      "text/plain": [
       "[<matplotlib.lines.Line2D at 0x7ff5d63cfe20>]"
      ]
     },
     "execution_count": 471,
     "metadata": {},
     "output_type": "execute_result"
    },
    {
     "data": {
      "image/png": "[encoded data removed]",
      "text/plain": [
       "<Figure size 432x288 with 1 Axes>"
      ]
     },
     "metadata": {
      "needs_background": "light"
     },
     "output_type": "display_data"
    }
   ],
   "source": [
    "yrange = list(values.values())\n",
    "xrange = np.linspace(np.min(depths), np.max(depths))\n",
    "plt.plot(depths, yrange, 'ro')\n",
    "plt.plot(xrange, popt[0]*np.exp(-popt[1]*xrange)+popt[2])"
   ]
  }
 ],
 "metadata": {
  "kernelspec": {
   "display_name": "Python 3.10.4",
   "language": "python",
   "name": "python3"
  },
  "language_info": {
   "codemirror_mode": {
    "name": "ipython",
    "version": 3
   },
   "file_extension": ".py",
   "mimetype": "text/x-python",
   "name": "python",
   "nbconvert_exporter": "python",
   "pygments_lexer": "ipython3",
   "version": "3.10.4"
  },
  "vscode": {
   "interpreter": {
    "hash": "d4803144e0ca2433cbbdbc82809c7bf0c6dd86d5d16291a48205e2d911513c87"
   }
  }
 },
 "nbformat": 4,
 "nbformat_minor": 5
}
