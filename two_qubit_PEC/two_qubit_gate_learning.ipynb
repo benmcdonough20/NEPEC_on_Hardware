{
 "cells": [
  {
   "cell_type": "code",
   "execution_count": 1,
   "id": "aad0d9ad",
   "metadata": {},
   "outputs": [],
   "source": [
    "from qiskit.quantum_info import Operator, Pauli \n",
    "from qiskit.circuit.library import CXGate, CZGate, HGate, SGate\n",
    "from qiskit import QuantumCircuit, Aer\n",
    "\n",
    "import numpy as np\n",
    "from random import choices\n",
    "from numpy.random import permutation\n",
    "import matplotlib.pyplot as plt\n",
    "from itertools import product"
   ]
  },
  {
   "cell_type": "markdown",
   "id": "a14ddb81",
   "metadata": {},
   "source": [
    "The `operator` class has a lot of nice features. This cell sets up some useful operator-related functions."
   ]
  },
  {
   "cell_type": "code",
   "execution_count": 25,
   "id": "53276b18",
   "metadata": {},
   "outputs": [],
   "source": [
    "#convenient names for common operators\n",
    "I = Operator(np.identity(2))\n",
    "H = Operator(HGate())\n",
    "CX = Operator(CXGate())\n",
    "CZ = Operator(CZGate())\n",
    "X = Operator(Pauli('X'))\n",
    "Y = Operator(Pauli('Y'))\n",
    "Z = Operator(Pauli('Z'))\n",
    "S = Operator(SGate())\n",
    "IH = I.tensor(H)\n",
    "HI = H.tensor(I)\n",
    "\n",
    "#dimension of the system\n",
    "n = 2\n",
    "\n",
    "#iterate through all pauli strings and convert them to operators. indices are a convenient representation of ops\n",
    "names = [\"\".join(str) for str in product(['I', 'X', 'Y','Z'], repeat=n)]\n",
    "paulis = [Operator(Pauli(name)) for name in names]\n",
    "\n",
    "#match pauli names with operators, so pauli_dict[name] = Operator(Pauli(name))\n",
    "pauli_dict = dict(zip(names, paulis))\n",
    "\n",
    "#give this function a pauli matrix and it returns its name if it is on the list, e.g. \"XIYZ\"\n",
    "def get_name(pauli_op):\n",
    "    try:\n",
    "        #iterate through gates and check if they are equivalent up to global phase\n",
    "        return names[min([i for (i,gate) in enumerate(paulis) if pauli_op.equiv(gate)])]\n",
    "    except:\n",
    "        return -1\n",
    "\n",
    "#simplifying conjugating a pauli by a clifford\n",
    "def conjugate(op1, op2):\n",
    "    return op2.compose(op1).compose(op2.adjoint())\n",
    "\n",
    "#get a random pauli of a specified weight\n",
    "def sample_pauli(weight):\n",
    "    if weight > n:\n",
    "        return -1\n",
    "    return pauli_dict[\"\".join(permutation(choices(['X', 'Y','Z'], k=weight)+['I']*(n-weight)))]"
   ]
  },
  {
   "cell_type": "code",
   "execution_count": 199,
   "id": "6a204c14",
   "metadata": {},
   "outputs": [],
   "source": [
    "def generate_paulis(adjacency_list, proc_size):\n",
    "    pauli_list = []\n",
    "    idPauli = ['I']*proc_size\n",
    "    \n",
    "    for i in range(proc_size):\n",
    "        for op in ['X','Y','Z']:\n",
    "            pauli = idPauli.copy()\n",
    "            pauli[i] = op\n",
    "            pauli_list.append(\"\".join(pauli))\n",
    "\n",
    "    for (qubit1, qubit2) in adjacency_list:\n",
    "        for pauli1, pauli2 in product(['X','Y','Z'], repeat =2):\n",
    "            pauli = idPauli.copy()\n",
    "            pauli[qubit1] = pauli1\n",
    "            pauli[qubit2] = pauli2\n",
    "            pauli_list.append(\"\".join(pauli))\n",
    "\n",
    "    return pauli_list\n",
    "    \n"
   ]
  },
  {
   "cell_type": "code",
   "execution_count": 201,
   "id": "bc9a94aa",
   "metadata": {},
   "outputs": [
    {
     "name": "stdout",
     "output_type": "stream",
     "text": [
      "['XI', 'YI', 'ZI', 'IX', 'IY', 'IZ', 'XX', 'XY', 'XZ', 'YX', 'YY', 'YZ', 'ZX', 'ZY', 'ZZ']\n"
     ]
    }
   ],
   "source": [
    "#create a small two-qubit model to begin testing\n",
    "small_proc = [(0,1)]\n",
    "pauli_group = generate_paulis(small_proc, 2)\n",
    "print(pauli_group)"
   ]
  },
  {
   "cell_type": "code",
   "execution_count": 446,
   "id": "7eabed0c",
   "metadata": {},
   "outputs": [],
   "source": [
    "BASIS_CHANGE = {'I':I, 'Z':I, 'X':H, 'Y':H.compose(S)}\n",
    "\n",
    "def change_basis_back(pauli_str):\n",
    "    op = Operator([1])\n",
    "    for char in pauli_str:\n",
    "        op = op.tensor(BASIS_CHANGE[char])\n",
    "    return op\n",
    "\n",
    "def change_basis(pauli_str):\n",
    "    op = Operator([1])\n",
    "    for char in pauli_str:\n",
    "        op = op.tensor(BASIS_CHANGE[char].adjoint())\n",
    "    return op\n",
    "\n",
    "def pauli_eigenstate_prep_ops(pauli_str):\n",
    "    pos_ops, neg_ops = z_eigenstate_prep_ops(pauli_str)\n",
    "    pos_ops = [op.compose(change_basis(pauli_str)) for op in pos_ops]\n",
    "    neg_ops = [op.compose(change_basis(pauli_str)) for op in neg_ops]\n",
    "    return (pos_ops, neg_ops)\n",
    "\n",
    "def z_eigenstate_prep_ops(pauli_str):\n",
    "    if len(pauli_str) == 1:\n",
    "        return {'I':([I,X],[])}.get(pauli_str, ([I],[X]))\n",
    "    last = z_eigenstate_prep_ops(pauli_str[-1])\n",
    "    rest = z_eigenstate_prep_ops(pauli_str[:-1])\n",
    "    ret_pos = [op2.tensor(op1) for op1 in last[0] for op2 in rest[0]]+[op2.tensor(op1) for op1 in last[1] for op2 in rest[1]]\n",
    "    ret_neg = [op2.tensor(op1) for op1 in last[1] for op2 in rest[0]]+[op2.tensor(op1) for op1 in last[0] for op2 in rest[1]]\n",
    "    return (ret_pos, ret_neg)\n"
   ]
  },
  {
   "cell_type": "code",
   "execution_count": 487,
   "id": "4ed50ad9",
   "metadata": {},
   "outputs": [
    {
     "data": {
      "text/plain": [
       "array([[ 0.00000000e+00+0.j],\n",
       "       [ 0.00000000e+00+0.j],\n",
       "       [ 1.00000000e+00+0.j],\n",
       "       [-2.23711432e-17+0.j]])"
      ]
     },
     "execution_count": 487,
     "metadata": {},
     "output_type": "execute_result"
    }
   ],
   "source": [
    "change_basis_back(\"IX\").data @ pauli_eigenstate_prep_ops(\"IX\")[0][1].data @ [[1],[0],[0],[0]]"
   ]
  },
  {
   "cell_type": "markdown",
   "id": "45eb37c7",
   "metadata": {},
   "source": [
    "## Measurement procedure"
   ]
  },
  {
   "cell_type": "code",
   "execution_count": 190,
   "id": "99bbaa5a",
   "metadata": {},
   "outputs": [],
   "source": [
    "pauli = pauli_group[0]\n",
    "gate_to_benchmark = CZ\n",
    "prep_circuits_pos, prep_circuits_neg = pauli_eigenstate_prep_ops('XX')\n",
    "\n",
    "def count_to_val(count):\n",
    "    return -2*(count.count('1') % 2)+1\n",
    "\n",
    "from qiskit.providers.aer.noise import depolarizing_error, NoiseModel\n",
    "from qiskit import execute\n",
    "\n",
    "p = .01\n",
    "num = len(pauli_group)\n",
    "onequbit_error = depolarizing_error(p, 1)\n",
    "twoqubit_error = depolarizing_error(p, 2)\n",
    "error_model = NoiseModel()\n",
    "error_model.add_all_qubit_quantum_error(onequbit_error, ['id','rz', 'sx', 'u1', 'u2', 'u3'])\n",
    "error_model.add_all_qubit_quantum_error(twoqubit_error, ['cx','cz'])\n",
    "basis_gates = error_model.basis_gates\n",
    "\n",
    "def get_expectation(circuit):\n",
    "    SHOTS = 10000\n",
    "    backend = Aer.get_backend('qasm_simulator')\n",
    "    circ = circuit.copy()\n",
    "    circ.measure_all()\n",
    "    counts = execute(circ, backend, shots = SHOTS, noise_model = error_model, basis_gates = basis_gates, optimization_level=0).result().get_counts()\n",
    "    return np.sum([count_to_val(count)*counts[count]/SHOTS for count in counts.keys()])"
   ]
  },
  {
   "cell_type": "code",
   "execution_count": 483,
   "id": "ffe19434",
   "metadata": {},
   "outputs": [],
   "source": [
    "def measure_fidelity(pauli, folds):\n",
    "    dim = len(pauli)\n",
    "    op_dim = int(np.log2(gate_to_benchmark.dim[0]))\n",
    "    prep_circuits_pos, prep_circuits_neg = pauli_eigenstate_prep_ops(pauli)\n",
    "    total = 0\n",
    "    for circ in prep_circuits_pos:\n",
    "        qc = QuantumCircuit(dim)\n",
    "        qc.append(circ,range(dim))\n",
    "        #for i in range(folds):\n",
    "        #    qc.append(gate_to_benchmark, range(op_dim))\n",
    "        #    qc.append(gate_to_benchmark, range(op_dim))\n",
    "        qc.append(change_basis_back(pauli),range(dim))\n",
    "        total += get_expectation(qc)\n",
    "    for circ in prep_circuits_neg:\n",
    "        qc = QuantumCircuit(dim)\n",
    "        qc.append(circ,range(dim))\n",
    "        #for i in range(folds):\n",
    "        #    qc.append(gate_to_benchmark, range(op_dim))\n",
    "        #    qc.append(gate_to_benchmark, range(op_dim))\n",
    "        qc.append(change_basis_back(pauli),range(dim))\n",
    "        #total -= get_expectation(qc)\n",
    "\n",
    "    return total*1/2**dim\n",
    "\n",
    "def exp(x,a):\n",
    "    return np.exp(-a*x)\n",
    "\n",
    "from scipy.optimize import curve_fit\n",
    "\n",
    "def fit_fidelity(pauli, max_folds, precision):\n",
    "    fidelities = []\n",
    "    for folds in range(0,max_folds,precision):\n",
    "        fidelities.append(measure_fidelity(pauli, folds))\n",
    "    fidelities = [fid/fidelities[0] for fid in fidelities]\n",
    "    xrange = range(0,max_folds*2, precision*2)\n",
    "    popt, pcov = curve_fit(exp, xrange, fidelities, p0=[.01])\n",
    "    return popt, fidelities\n",
    "\n",
    "def progressBar (iteration, total, prefix = '', suffix = '', decimals = 1, length = 100, fill = '█', printEnd = \"\\r\"):\n",
    "    # Displays a nice progress bar\n",
    "    percent = (\"{0:.\" + str(decimals) + \"f}\").format(100 * (iteration / float(total)))\n",
    "    filledLength = int(length * iteration // total)\n",
    "    bar = fill * filledLength + '-' * (length - filledLength)\n",
    "    print(f'\\r{prefix} |{bar}| {percent}% {suffix}', end = printEnd)\n",
    "    if iteration == total: \n",
    "        print()\n",
    "\n",
    "def generate_full_fidelity_list(max_folds, precision):\n",
    "    fidelities = []\n",
    "    progressBar(0, len(pauli_group))\n",
    "    for i,pauli in enumerate(pauli_group):\n",
    "        fidelities.append(fit_fidelity(pauli, max_folds, precision)[0][0])\n",
    "        progressBar(i+1, len(pauli_group))\n",
    "    #return np.exp(np.multiply(-1, fidelities))\n",
    "    return fidelities"
   ]
  },
  {
   "cell_type": "code",
   "execution_count": 482,
   "id": "d936ca61",
   "metadata": {},
   "outputs": [
    {
     "data": {
      "text/plain": [
       "-0.0008500000000000174"
      ]
     },
     "execution_count": 482,
     "metadata": {},
     "output_type": "execute_result"
    }
   ],
   "source": [
    "measure_fidelity(\"XI\", 0)"
   ]
  },
  {
   "cell_type": "code",
   "execution_count": 452,
   "id": "fa9a2f05",
   "metadata": {},
   "outputs": [
    {
     "data": {
      "text/plain": [
       "[<matplotlib.lines.Line2D at 0x7f04622c3c10>]"
      ]
     },
     "execution_count": 452,
     "metadata": {},
     "output_type": "execute_result"
    },
    {
     "data": {
      "image/png": "[encoded data removed]",
      "text/plain": [
       "<Figure size 432x288 with 1 Axes>"
      ]
     },
     "metadata": {
      "needs_background": "light"
     },
     "output_type": "display_data"
    }
   ],
   "source": [
    "prec = 8\n",
    "coeffs, fidelities = fit_fidelity(\"YZ\", 40, prec)\n",
    "\n",
    "xrange = range(0,80, prec*2)\n",
    "plt.plot(xrange, [exp(x,coeffs[0]) for x in xrange])\n",
    "plt.plot(xrange, fidelities)"
   ]
  },
  {
   "cell_type": "code",
   "execution_count": 213,
   "id": "74ca7f2a",
   "metadata": {},
   "outputs": [
    {
     "name": "stdout",
     "output_type": "stream",
     "text": [
      " |████████████████████████████████████████████████████████████████████████████████████████████████████| 100.0% \n"
     ]
    },
    {
     "data": {
      "image/png": "[encoded data removed]",
      "text/plain": [
       "<Figure size 720x360 with 1 Axes>"
      ]
     },
     "metadata": {
      "needs_background": "light"
     },
     "output_type": "display_data"
    }
   ],
   "source": [
    "f = generate_full_fidelity_list(40, 8)\n",
    "p_group_permuted = [get_name(conjugate(pauli_dict[pauli], gate_to_benchmark)) for pauli in pauli_group]\n",
    "fig, ax = plt.subplots()\n",
    "ax.bar(range(len(pauli_group)), f)\n",
    "ax.set_xticks(range(len(pauli_group)), [p1+\"*\"+p2 for p1,p2 in zip(pauli_group, p_group_permuted)]);\n",
    "fig.set_size_inches(10, 5, forward=True)"
   ]
  },
  {
   "cell_type": "code",
   "execution_count": 195,
   "id": "3aecce4f",
   "metadata": {},
   "outputs": [
    {
     "name": "stdout",
     "output_type": "stream",
     "text": [
      "[0.         0.0031181  0.00147964 0.00315117 0.         0.\n",
      " 0.00299037 0.0013718  0.00311824 0.00315633 0.         0.\n",
      " 0.00280727 0.         0.        ]\n"
     ]
    }
   ],
   "source": [
    "import scipy\n",
    "\n",
    "def s_prod(a,b):\n",
    "    return {True:0, False:1}[Pauli(a).commutes(Pauli(b))]\n",
    "\n",
    "M1 = [[s_prod(a,b) for a in pauli_group] for b in pauli_group]\n",
    "M2 = [[s_prod(a,b) for a in p_group_permuted] for b in pauli_group]\n",
    "M = np.add(M1, M2)\n",
    "\n",
    "model_coeffs, fit = scipy.optimize.nnls(M, -.5*np.log(f)) \n",
    "print(model_coeffs)"
   ]
  }
 ],
 "metadata": {
  "kernelspec": {
   "display_name": "Python 3.10.4",
   "language": "python",
   "name": "python3"
  },
  "language_info": {
   "codemirror_mode": {
    "name": "ipython",
    "version": 3
   },
   "file_extension": ".py",
   "mimetype": "text/x-python",
   "name": "python",
   "nbconvert_exporter": "python",
   "pygments_lexer": "ipython3",
   "version": "3.10.4"
  },
  "vscode": {
   "interpreter": {
    "hash": "d4803144e0ca2433cbbdbc82809c7bf0c6dd86d5d16291a48205e2d911513c87"
   }
  }
 },
 "nbformat": 4,
 "nbformat_minor": 5
}
