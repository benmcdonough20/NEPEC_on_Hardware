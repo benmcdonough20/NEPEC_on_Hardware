{
 "cells": [
  {
   "cell_type": "code",
   "execution_count": 1,
   "id": "f1dd5d11",
   "metadata": {},
   "outputs": [],
   "source": [
    "#helper libraries\n",
    "import numpy as np\n",
    "from numpy.random import rand\n",
    "import math\n",
    "import scipy.optimize\n",
    "import matplotlib.pyplot as plt\n",
    "\n",
    "#qiskit functionalities\n",
    "from qiskit import Aer, execute, QuantumCircuit, QuantumRegister, ClassicalRegister\n",
    "from qiskit.tools.visualization import plot_histogram\n",
    "\n",
    "#noise model stuff\n",
    "from qiskit.providers.aer.noise import NoiseModel, kraus_error, pauli_error\n",
    "    \n",
    "#operator info\n",
    "from qiskit.quantum_info import PauliList, Pauli, Kraus\n",
    "from qiskit.circuit.library import XGate"
   ]
  },
  {
   "cell_type": "markdown",
   "id": "34a3e670",
   "metadata": {},
   "source": [
    "Define the terms\n",
    "$$\n",
    "\\vec\\lambda, \\kappa, K \\equiv |\\kappa|, \\vec \\omega\n",
    "$$\n",
    "Where $\\vec \\lambda$ is a list of the coefficients, $\\kappa$ is the set of Pauli operators in the model, $K$ is the order of this set, and $\\vec \\omega$ is the transformed product-form coefficients in the noise model (Eq. S9)"
   ]
  },
  {
   "cell_type": "code",
   "execution_count": 2,
   "id": "20d8350e",
   "metadata": {},
   "outputs": [],
   "source": [
    "n = 1 #Number of qubits (Later specify processor topology)\n",
    "model_paulis = PauliList(['I', 'X', 'Y', 'Z'])\n",
    "pauli_list = PauliList(['X', 'Y', 'Z']) #Kappa\n",
    "K = len(pauli_list) #K = |Kappa|\n",
    "coeffs = [.01, .05, .0085]"
   ]
  },
  {
   "cell_type": "markdown",
   "id": "70c54263",
   "metadata": {},
   "source": [
    "Eq. S9: $\\omega_k = \\frac{1}{2}(1+e^{-2\\lambda_k})$"
   ]
  },
  {
   "cell_type": "code",
   "execution_count": 3,
   "id": "8b7491c3",
   "metadata": {},
   "outputs": [],
   "source": [
    "omegas = []\n",
    "for (k, lambdak) in enumerate(coeffs):\n",
    "    omegas.append(.5*(1+math.exp(-2*lambdak)))"
   ]
  },
  {
   "cell_type": "markdown",
   "id": "189fb966",
   "metadata": {},
   "source": [
    "Defining the simplectic inner product, a piecewise function such that\n",
    "$$\n",
    "\\langle P_a, P_b \\rangle_{sp} = \n",
    "\\begin{cases}\n",
    "0 & [P_a, P_b] = 0 \\\\\n",
    "1 & \\text{else}\n",
    "\\end{cases}\n",
    "$$\n",
    "This is expressed in a matrix $M_{ab} = \\langle P_a, P_b \\rangle_{sp}$ to simplify equation (S10)"
   ]
  },
  {
   "cell_type": "code",
   "execution_count": 4,
   "id": "bd9514ed",
   "metadata": {},
   "outputs": [],
   "source": [
    "#Symplectic inner product\n",
    "def s_prod(a, b):\n",
    "    if(a.compose(b) == b.compose(a)):\n",
    "        return 0\n",
    "    else:\n",
    "        return 1\n",
    "\n",
    "M = np.zeros([len(model_paulis),K])\n",
    "for (i,a) in enumerate(model_paulis):\n",
    "    for (j,b) in enumerate(pauli_list):\n",
    "        M[i,j] = s_prod(a,b)\n",
    "        "
   ]
  },
  {
   "cell_type": "code",
   "execution_count": 5,
   "id": "8b33cd01",
   "metadata": {},
   "outputs": [
    {
     "name": "stdout",
     "output_type": "stream",
     "text": [
      "[[0. 0. 0.]\n",
      " [0. 1. 1.]\n",
      " [1. 0. 1.]\n",
      " [1. 1. 0.]]\n"
     ]
    }
   ],
   "source": [
    "print(M)"
   ]
  },
  {
   "cell_type": "markdown",
   "id": "2a575a26",
   "metadata": {},
   "source": [
    "ideal_fidelities is the ideal $\\vec f$ (with components $f_a$) giving the fidelities for each element in `pauli_list`. This is computed using Eq. (S11),\n",
    "$$\n",
    "-\\log(\\vec f)/2 = M\\vec \\lambda\n",
    "$$"
   ]
  },
  {
   "cell_type": "code",
   "execution_count": 6,
   "id": "a2c3e5a0",
   "metadata": {},
   "outputs": [
    {
     "name": "stdout",
     "output_type": "stream",
     "text": [
      "[1.         0.88958519 0.96367614 0.88692044]\n"
     ]
    }
   ],
   "source": [
    "ideal_fidelities = np.exp(-2*np.dot(M, coeffs))\n",
    "print(ideal_fidelities)"
   ]
  },
  {
   "cell_type": "markdown",
   "id": "a3b01a39",
   "metadata": {},
   "source": [
    "This is an alternative expression of the noise model through Kraus operators according to Eq. (1):\n",
    "$$\n",
    "\\Lambda(\\rho) = \\prod_{k \\in \\kappa} \\left(\\omega_k \\rho + P_k \\rho P_k\\right)\n",
    "$$\n",
    "where the product symbol denotes composition"
   ]
  },
  {
   "cell_type": "code",
   "execution_count": 7,
   "id": "4ffe9fa1",
   "metadata": {},
   "outputs": [
    {
     "name": "stderr",
     "output_type": "stream",
     "text": [
      "C:\\Users\\Ben\\AppData\\Local\\Packages\\PythonSoftwareFoundation.Python.3.8_qbz5n2kfra8p0\\LocalCache\\local-packages\\Python38\\site-packages\\qiskit\\quantum_info\\operators\\channel\\kraus.py:92: VisibleDeprecationWarning: Creating an ndarray from ragged nested sequences (which is a list-or-tuple of lists-or-tuples-or ndarrays with different lengths or shapes) is deprecated. If you meant to do this, you must specify 'dtype=object' when creating the ndarray.\n",
      "  if isinstance(data, np.ndarray) or np.array(data).ndim == 2:\n"
     ]
    }
   ],
   "source": [
    "#Build list of Kraus Operators\n",
    "kraus_ops = Kraus(np.identity(2**n))\n",
    "for (P,omega,lambdak) in zip(pauli_list, omegas, coeffs):\n",
    "   if lambdak != 0:\n",
    "        op = Kraus([P.to_matrix()*np.sqrt(1-omega),np.sqrt(omega)*np.identity(2**n)])\n",
    "        kraus_ops = kraus_ops.compose(op)"
   ]
  },
  {
   "cell_type": "code",
   "execution_count": 8,
   "id": "43d49cfa",
   "metadata": {
    "scrolled": false
   },
   "outputs": [],
   "source": [
    "#Kraus error channel\n",
    "kraus_error_channel = kraus_error(kraus_ops.data)\n",
    "kraus_noise_model = NoiseModel()\n",
    "kraus_noise_model.add_all_qubit_quantum_error(kraus_error_channel, ['id', 'rz', 'sx', 'h', 'rx'])\n",
    "kraus_basis_gates = kraus_noise_model.basis_gates"
   ]
  },
  {
   "cell_type": "markdown",
   "id": "b2d9d71f",
   "metadata": {},
   "source": [
    "I'm not sure whether the noise is dependent on the specific gates enacted. In the literature, it is written $\\tilde{\\mathcal{U}} = \\mathcal{U} \\circ \\Lambda$, but is $\\Lambda$ dependent on $\\mathcal{U}$?"
   ]
  },
  {
   "cell_type": "markdown",
   "id": "f020720b",
   "metadata": {},
   "source": [
    "The pauli operators are diagonalizable in terms of their eigenvectors:\n",
    "$$\n",
    "P_a = \\sum_{\\vert\\psi\\rangle \\in E_{a}(+1)} \\vert\\psi\\rangle \\langle\\psi\\vert - \\sum_{\\vert\\psi\\rangle\\in E_a(-1)} \\vert\\psi\\rangle\\langle\\psi\\vert\n",
    "$$\n",
    "Take $X$ for example:\n",
    "$$\n",
    "\\begin{align}\n",
    "\\text{Tr}[X\\Lambda(X)] &= \\text{Tr}[X\\Lambda(\\vert+\\rangle\\langle+\\vert-\\vert-\\rangle \\langle -\\vert)]\\\\\n",
    "&= \\text{Tr}[X\\Lambda(\\vert+\\rangle\\langle+\\vert)]+\\text{Tr}[X\\Lambda(\\vert-\\rangle\\langle -\\vert)]\n",
    "\\end{align}\n",
    "$$"
   ]
  },
  {
   "cell_type": "markdown",
   "id": "1d297c91",
   "metadata": {},
   "source": [
    "For $X$ estimation"
   ]
  },
  {
   "cell_type": "code",
   "execution_count": 9,
   "id": "b71d4637",
   "metadata": {},
   "outputs": [],
   "source": [
    "qr = QuantumRegister(1)\n",
    "cr = ClassicalRegister(1)\n",
    "backend = Aer.get_backend('qasm_simulator')"
   ]
  },
  {
   "cell_type": "code",
   "execution_count": 1,
   "id": "2fc460eb",
   "metadata": {},
   "outputs": [
    {
     "ename": "SyntaxError",
     "evalue": "invalid syntax (864323485.py, line 16)",
     "output_type": "error",
     "traceback": [
      "\u001b[1;36m  Input \u001b[1;32mIn [1]\u001b[1;36m\u001b[0m\n\u001b[1;33m    match basis:\u001b[0m\n\u001b[1;37m          ^\u001b[0m\n\u001b[1;31mSyntaxError\u001b[0m\u001b[1;31m:\u001b[0m invalid syntax\n"
     ]
    }
   ],
   "source": [
    "#The counts objects are annoyingly not dictionaries, so they don't have the has_key()\n",
    "#method build in\n",
    "def haskey(counts, key):\n",
    "    return key in list(counts.keys())\n",
    "\n",
    "#Get the expectation value from a counts object\n",
    "def expectation(counts):\n",
    "    if not haskey(counts, '0'):\n",
    "        return -1\n",
    "    if not haskey(counts, '1'):\n",
    "        return 1\n",
    "    return (counts['0']-counts['1'])/(counts['0']+counts['1'])\n",
    "\n",
    "#Measure in one of the Pauli bases given an eigenvalue\n",
    "def meas_basis(qc, qbit, cbit, basis):\n",
    "    match basis:\n",
    "        case '+':\n",
    "            qc.h(qbit)\n",
    "            qc.measure(qbit, cbit)\n",
    "        case '-':\n",
    "            qc.h(qbit)\n",
    "            qc.measure(qbit, cbit)\n",
    "        case 'r':\n",
    "            qc.sdg(qbit)\n",
    "            qc.h(qbit)\n",
    "            qc.measure(qbit, cbit)\n",
    "        case 'l':\n",
    "            qc.sdg(qbit)\n",
    "            qc.h(qbit)\n",
    "            qc.measure(qbit, cbit)\n",
    "        case '0':\n",
    "            qc.measure(qbit,cbit)\n",
    "        case '1':\n",
    "            qc.measure(qbit,cbit)\n",
    "        \n",
    "#prepare eigenstate and generate a number of folds\n",
    "def fold_state(eig, gate, folds):\n",
    "    qc = QuantumCircuit(1,1)\n",
    "    qc.initialize(eig)\n",
    "    qc.barrier()\n",
    "    for j in range(folds):\n",
    "        qc.append(gate, [0])\n",
    "        qc.barrier()\n",
    "        qc.append(gate.inverse(), [0])\n",
    "        qc.barrier()\n",
    "    meas_basis(qc, 0, 0, eig)\n",
    "    return qc\n",
    "\n",
    "#Generate circuits for negative and positive eigenvalues and return as tuple\n",
    "def bench_circuits(pos_eig, neg_eig, gate, folds):\n",
    "    pos = fold_state(pos_eig, gate, folds)\n",
    "    neg = fold_state(neg_eig, gate, folds)\n",
    "    return [pos, neg]\n",
    "\n",
    "#Reconstruct the expectation value on a Pauli operator given the expectation values\n",
    "#on the positive and negative eigenstates\n",
    "def reconstruct(positive, negative):\n",
    "    return (1/2**n)*(positive-negative)\n",
    "\n",
    "def measure_fidelity(pos_circuit, neg_circuit):\n",
    "    job = execute(pos_circuit, backend, noise_model=kraus_noise_model,\n",
    "                  basis_gates = kraus_basis_gates, shots = shots)\n",
    "    pos = expectation(job.result().get_counts())\n",
    "    job = execute(neg_circuit, backend, noise_model=kraus_noise_model, \n",
    "                  basis_gates = kraus_basis_gates, shots = shots)\n",
    "    neg = expectation(job.result().get_counts())\n",
    "    return reconstruct(pos, neg)"
   ]
  },
  {
   "cell_type": "code",
   "execution_count": 20,
   "id": "e29e1a13",
   "metadata": {},
   "outputs": [],
   "source": [
    "gate = XGate() #the gate to use for noise profiling. Is the noise gate-dependent?\n",
    "folds = 40 #number of folds to fit noise\n",
    "shots = 4096\n",
    "#X estimation\n",
    "circuits = []\n",
    "for i in range(folds):\n",
    "    circuits.append(bench_circuits(\"+\", \"-\", gate, i))\n",
    "\n",
    "fidelities = []\n",
    "for [pos_circ, neg_circ] in circuits:\n",
    "    fidelities.append(measure_fidelity(pos_circ, neg_circ))\n",
    "\n",
    "xfidelities = fidelities.copy()\n",
    "\n",
    "#Y estimation\n",
    "circuits = []\n",
    "for i in range(folds):\n",
    "    circuits.append(bench_circuits(\"r\", \"l\", gate, i))\n",
    "\n",
    "fidelities = []\n",
    "for [pos_circ, neg_circ] in circuits:\n",
    "    fidelities.append(measure_fidelity(pos_circ, neg_circ))\n",
    "\n",
    "yfidelities = fidelities.copy()\n",
    "\n",
    "#z estimation\n",
    "circuits = []\n",
    "for i in range(folds):\n",
    "    circuits.append(bench_circuits(\"0\", \"1\", gate, i))\n",
    "\n",
    "fidelities = []\n",
    "for [pos_circ, neg_circ] in circuits:\n",
    "    fidelities.append(measure_fidelity(pos_circ, neg_circ))\n",
    "\n",
    "zfidelities = fidelities.copy()"
   ]
  },
  {
   "cell_type": "code",
   "execution_count": 21,
   "id": "cdb06b4c",
   "metadata": {},
   "outputs": [
    {
     "data": {
      "image/png": "[encoded data removed]",
      "text/plain": [
       "<Figure size 432x288 with 1 Axes>"
      ]
     },
     "metadata": {
      "needs_background": "light"
     },
     "output_type": "display_data"
    }
   ],
   "source": [
    "xrange = np.multiply(2,range(1,1+folds)) \n",
    "\n",
    "plt.plot(xrange, xfidelities, 'ro')\n",
    "plt.plot(xrange, yfidelities, 'mo')\n",
    "plt.plot(xrange, zfidelities, 'bo')\n",
    "\n",
    "#perform optimized fit to extrapolate to the the single-gate noise limit\n",
    "\n",
    "\n",
    "#do they decay to zero over time?\n",
    "def Exp(t, b, a):\n",
    "    return a*np.exp(-t * b)\n",
    "\n",
    "p0 = (.05, 1)\n",
    "params, cv = scipy.optimize.curve_fit(Exp, xrange, xfidelities, p0)\n",
    "bx, ax = params\n",
    "plt.plot(xrange, ax*np.exp(np.multiply(-1*bx, xrange)), 'r')\n",
    "\n",
    "params, cv = scipy.optimize.curve_fit(Exp, xrange, yfidelities, p0)\n",
    "by, ay = params\n",
    "plt.plot(xrange, ay*np.exp(np.multiply(-1*by, xrange)), 'm')\n",
    "\n",
    "params, cv = scipy.optimize.curve_fit(Exp, xrange, zfidelities, p0)\n",
    "bz, az = params\n",
    "plt.plot(xrange, az*np.exp(np.multiply(-1*bz, xrange)), 'b');"
   ]
  },
  {
   "cell_type": "code",
   "execution_count": 22,
   "id": "b66fd7bf",
   "metadata": {},
   "outputs": [
    {
     "name": "stdout",
     "output_type": "stream",
     "text": [
      "[1, 0.8883237588413975, 0.9648982363010735, 0.8867243879828367]\n",
      "[1.         0.88958519 0.96367614 0.88692044]\n"
     ]
    }
   ],
   "source": [
    "measured_fidelities = [1, math.exp(-bx), math.exp(-by), math.exp(-bz)]\n",
    "print(measured_fidelities)\n",
    "print(ideal_fidelities)"
   ]
  },
  {
   "cell_type": "markdown",
   "id": "3da35327",
   "metadata": {},
   "source": [
    "Now, the coefficients in the Lindbladian are reconstructed using the sparse model"
   ]
  },
  {
   "cell_type": "code",
   "execution_count": 23,
   "id": "019d65f7",
   "metadata": {},
   "outputs": [
    {
     "name": "stdout",
     "output_type": "stream",
     "text": [
      "[0.00938367 0.05072686 0.00848264]\n",
      "[0.01, 0.05, 0.0085]\n"
     ]
    }
   ],
   "source": [
    "def lsq_fit(coeffs):\n",
    "    return np.sum(np.dot(M,coeffs)+np.log(measured_fidelities)/2)\n",
    "\n",
    "coeffs_guess = scipy.optimize.nnls(M, -.5*np.log(measured_fidelities))\n",
    "measured_coeffs = coeffs_guess[0]\n",
    "#Compare guess to the actual values\n",
    "print(measured_coeffs)\n",
    "print(coeffs)"
   ]
  },
  {
   "cell_type": "markdown",
   "id": "fdc69099",
   "metadata": {},
   "source": [
    "Now that the error model is learned, it can be reconstructed to do PEC, with the inverse\n",
    "$$\n",
    "\\Lambda^{-1}(\\rho) = \\gamma\\prod_{k\\in \\kappa}(\\omega_k \\rho - (1-\\omega_k)P_k \\rho P_k)\n",
    "$$\n",
    "The procedure as described in the text is as follows:\n",
    "1. sample the identity with probability $\\omega_k$ and sample the Pauli $P_k$ otherwise\n",
    "2. record the number of times $m$ a Pauli was sampled\n",
    "3. multiply the final result by $\\gamma (-1)^m$\n",
    "4. average the results together to get the mitigated expectation value\n",
    "\n",
    "The overhead is given by\n",
    "$$\n",
    "\\gamma = \\exp(2\\sum_k \\lambda_k)\n",
    "$$"
   ]
  },
  {
   "cell_type": "code",
   "execution_count": 24,
   "id": "2ac48262",
   "metadata": {},
   "outputs": [
    {
     "data": {
      "text/html": [
       "<pre style=\"word-wrap: normal;white-space: pre;background: #fff0;line-height: 1.1;font-family: &quot;Courier New&quot;,Courier,monospace\">      ┌───┐┌─┐\n",
       "  q0: ┤ X ├┤M├\n",
       "      └───┘└╥┘\n",
       "c0: 1/══════╩═\n",
       "            0 </pre>"
      ],
      "text/plain": [
       "      ┌───┐┌─┐\n",
       "  q0: ┤ X ├┤M├\n",
       "      └───┘└╥┘\n",
       "c0: 1/══════╩═\n",
       "            0 "
      ]
     },
     "execution_count": 24,
     "metadata": {},
     "output_type": "execute_result"
    }
   ],
   "source": [
    "samples = 10000 #number of circuits toi sample\n",
    "\n",
    "overhead = np.exp(2*np.sum(coeffs)) #Compute the sampling overhead\n",
    "\n",
    "ideal_circuit = QuantumCircuit(qr, cr)\n",
    "ideal_circuit.x(0)\n",
    "ideal_circuit.measure(0,0) #expectation value \n",
    "ideal_circuit.draw()"
   ]
  },
  {
   "cell_type": "code",
   "execution_count": 25,
   "id": "177c73f5",
   "metadata": {},
   "outputs": [
    {
     "name": "stdout",
     "output_type": "stream",
     "text": [
      "-0.8924\n"
     ]
    }
   ],
   "source": [
    "job = execute(ideal_circuit, backend, noise_model = kraus_noise_model, basis_gates = kraus_basis_gates, shots=10000)\n",
    "unmitigated_value = expectation(job.result().get_counts())\n",
    "print(unmitigated_value)"
   ]
  },
  {
   "cell_type": "markdown",
   "id": "9bbc03d7",
   "metadata": {},
   "source": [
    "Using the learned $\\lambda_k$ model coefficients, calculate the $\\omega_k$ for sampling"
   ]
  },
  {
   "cell_type": "code",
   "execution_count": 26,
   "id": "215a837c",
   "metadata": {},
   "outputs": [],
   "source": [
    "measured_omegas = np.exp(-2*np.dot(M, measured_coeffs))"
   ]
  },
  {
   "cell_type": "markdown",
   "id": "9f5d5e19",
   "metadata": {},
   "source": [
    "Circuits are sampled into `circuits` according to the procedure"
   ]
  },
  {
   "cell_type": "code",
   "execution_count": 27,
   "id": "38c21758",
   "metadata": {},
   "outputs": [],
   "source": [
    "circuits = [] #Circuits sampled from distribution\n",
    "ms = []\n",
    "ideal_circuit = QuantumCircuit(qr, cr)\n",
    "ideal_circuit.x(0)\n",
    "\n",
    "#Follow the procedure for sampling gates\n",
    "for i in range(samples):\n",
    "    m = 0 #m keeps track of the sign, with paulis carrying a negative sign\n",
    "    qc = ideal_circuit.copy()\n",
    "    op = Pauli('I')\n",
    "    for (omega, Pk) in zip(omegas, pauli_list):\n",
    "        #with probability 1-\\omega_k, sample the Pauli gate and compose into operator\n",
    "        if rand() < 1-omega:\n",
    "            m+=1\n",
    "            op = op.compose(Pk) #Wow I spent so long on this silly line\n",
    "    qc.barrier()\n",
    "    qc.append(op.to_instruction(),[0])\n",
    "    qc.barrier()\n",
    "    qc.measure(0,0)\n",
    "    circuits.append(qc)\n",
    "    ms.append(m)"
   ]
  },
  {
   "cell_type": "code",
   "execution_count": 28,
   "id": "9a328fce",
   "metadata": {},
   "outputs": [],
   "source": [
    "#run each circuit with a single shot and record the result\n",
    "job = execute(circuits, backend, noise_model = kraus_noise_model, basis_gates = kraus_basis_gates, shots = 1)"
   ]
  },
  {
   "cell_type": "code",
   "execution_count": 29,
   "id": "82961c5a",
   "metadata": {},
   "outputs": [],
   "source": [
    "total = 0\n",
    "for (count,m) in zip(job.result().get_counts(),ms):\n",
    "    total += expectation(count)*(-1)**m*overhead\n",
    "\n",
    "mitigated_value = total/samples"
   ]
  },
  {
   "cell_type": "code",
   "execution_count": 30,
   "id": "630ac028",
   "metadata": {},
   "outputs": [
    {
     "name": "stdout",
     "output_type": "stream",
     "text": [
      "overhead:  1.1468281485203982\n",
      "actual value: -1.0\n",
      "unmitigated value:  -0.8924\n",
      "mitigated value:  -0.9917769828403039\n"
     ]
    }
   ],
   "source": [
    "print(\"overhead: \", overhead)\n",
    "print(\"actual value: -1.0\")\n",
    "print(\"unmitigated value: \", unmitigated_value)\n",
    "print(\"mitigated value: \", mitigated_value)"
   ]
  }
 ],
 "metadata": {
  "kernelspec": {
   "display_name": "Python 3 (ipykernel)",
   "language": "python",
   "name": "python3"
  },
  "language_info": {
   "codemirror_mode": {
    "name": "ipython",
    "version": 3
   },
   "file_extension": ".py",
   "mimetype": "text/x-python",
   "name": "python",
   "nbconvert_exporter": "python",
   "pygments_lexer": "ipython3",
   "version": "3.8.10"
  }
 },
 "nbformat": 4,
 "nbformat_minor": 5
}
