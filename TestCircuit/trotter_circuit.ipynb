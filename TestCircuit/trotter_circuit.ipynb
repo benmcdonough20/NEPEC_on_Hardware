{
 "cells": [
  {
   "cell_type": "code",
   "execution_count": 41,
   "metadata": {},
   "outputs": [],
   "source": [
    "from qiskit import QuantumCircuit\n",
    "from matplotlib import pyplot as plt\n",
    "from qiskit.providers.aer import Aer"
   ]
  },
  {
   "cell_type": "code",
   "execution_count": 51,
   "metadata": {},
   "outputs": [],
   "source": [
    "def trotterLayer(h,J,dt,n):\n",
    "    trotterLayer = QuantumCircuit(2*n)\n",
    "    trotterLayer.rx(4*h*dt, range(2*n))\n",
    "    trotterLayer.cx(*zip(*[(2*i, 2*i+1) for i in range(n)]))\n",
    "    trotterLayer.rz(-4*J*dt, [2*i+1 for i in range(n)])\n",
    "    trotterLayer.cx(*zip(*[(2*i, 2*i+1) for i in range(n)]))\n",
    "    trotterLayer.cx(*zip(*[(2*i+1, 2*i+2) for i in range(n-1)]))\n",
    "    trotterLayer.rz(-4*J*dt, [2*i+2 for i in range(n-1)])\n",
    "    trotterLayer.cx(*zip(*[(2*i+1, 2*i+2) for i in range(n-1)]))\n",
    "    return trotterLayer\n",
    "\n",
    "h = 1\n",
    "J = -.15\n",
    "dt = .25\n",
    "n = 2\n",
    "def maketrotterCircuit(s):\n",
    "    tL = trotterLayer(h, J, dt, n)\n",
    "    trotterCircuit = QuantumCircuit(n*2)\n",
    "    for i in range(s):\n",
    "        trotterCircuit = trotterCircuit.compose(tL)\n",
    "        trotterCircuit.barrier()\n",
    "    return trotterCircuit"
   ]
  },
  {
   "cell_type": "code",
   "execution_count": 52,
   "metadata": {},
   "outputs": [
    {
     "data": {
      "text/html": [
       "<pre style=\"word-wrap: normal;white-space: pre;background: #fff0;line-height: 1.1;font-family: &quot;Courier New&quot;,Courier,monospace\">     ┌───────┐                                            \n",
       "q_0: ┤ Rx(1) ├──■────────────────■────────────────────────\n",
       "     ├───────┤┌─┴─┐┌──────────┐┌─┴─┐                      \n",
       "q_1: ┤ Rx(1) ├┤ X ├┤ Rz(0.15) ├┤ X ├──■────────────────■──\n",
       "     ├───────┤└───┘└──────────┘└───┘┌─┴─┐┌──────────┐┌─┴─┐\n",
       "q_2: ┤ Rx(1) ├──■────────────────■──┤ X ├┤ Rz(0.15) ├┤ X ├\n",
       "     ├───────┤┌─┴─┐┌──────────┐┌─┴─┐└───┘└──────────┘└───┘\n",
       "q_3: ┤ Rx(1) ├┤ X ├┤ Rz(0.15) ├┤ X ├──────────────────────\n",
       "     └───────┘└───┘└──────────┘└───┘                      </pre>"
      ],
      "text/plain": [
       "     ┌───────┐                                            \n",
       "q_0: ┤ Rx(1) ├──■────────────────■────────────────────────\n",
       "     ├───────┤┌─┴─┐┌──────────┐┌─┴─┐                      \n",
       "q_1: ┤ Rx(1) ├┤ X ├┤ Rz(0.15) ├┤ X ├──■────────────────■──\n",
       "     ├───────┤└───┘└──────────┘└───┘┌─┴─┐┌──────────┐┌─┴─┐\n",
       "q_2: ┤ Rx(1) ├──■────────────────■──┤ X ├┤ Rz(0.15) ├┤ X ├\n",
       "     ├───────┤┌─┴─┐┌──────────┐┌─┴─┐└───┘└──────────┘└───┘\n",
       "q_3: ┤ Rx(1) ├┤ X ├┤ Rz(0.15) ├┤ X ├──────────────────────\n",
       "     └───────┘└───┘└──────────┘└───┘                      "
      ]
     },
     "execution_count": 52,
     "metadata": {},
     "output_type": "execute_result"
    }
   ],
   "source": [
    "step = trotterLayer(h,J,dt,n)\n",
    "step.draw()"
   ]
  },
  {
   "cell_type": "code",
   "execution_count": 59,
   "metadata": {},
   "outputs": [],
   "source": [
    "resultsz = []\n",
    "resultsy = []\n",
    "backend = Aer.get_backend('qasm_simulator')\n",
    "\n",
    "for i in range(15):\n",
    "    circ = maketrotterCircuit(i)\n",
    "    circ.measure_all()\n",
    "    result = backend.run(circ)\n",
    "    count = result.result().get_counts()\n",
    "    count = {tuple(int(k) for k in key):count[key] for key in count.keys()}\n",
    "    tot = 0\n",
    "    for key in count.keys():\n",
    "        num = sum([(-1)**bit for bit in key])\n",
    "        tot += num*count[key]\n",
    "    resultsz.append(tot/(1024*n*2))\n",
    "\n",
    "for i in range(15):\n",
    "    circ = maketrotterCircuit(i)\n",
    "    circ.sdg(range(4))\n",
    "    circ.h(range(4))\n",
    "    circ.measure_all()\n",
    "    result = backend.run(circ)\n",
    "    count = result.result().get_counts()\n",
    "    count = {tuple(int(k) for k in key):count[key] for key in count.keys()}\n",
    "    tot = 0\n",
    "    for key in count.keys():\n",
    "        num = sum([(-1)**bit for bit in key])\n",
    "        tot += num*count[key]\n",
    "    resultsy.append(tot/(1024*n*2))"
   ]
  },
  {
   "cell_type": "code",
   "execution_count": 61,
   "metadata": {},
   "outputs": [
    {
     "data": {
      "text/plain": [
       "[<matplotlib.lines.Line2D at 0x7fab524e1930>]"
      ]
     },
     "execution_count": 61,
     "metadata": {},
     "output_type": "execute_result"
    },
    {
     "data": {
      "image/png": "[encoded data removed]",
      "text/plain": [
       "<Figure size 432x288 with 1 Axes>"
      ]
     },
     "metadata": {
      "needs_background": "light"
     },
     "output_type": "display_data"
    }
   ],
   "source": [
    "plt.plot(resultsy, resultsz)"
   ]
  },
  {
   "cell_type": "code",
   "execution_count": 35,
   "metadata": {},
   "outputs": [],
   "source": [
    "def trotterstep_to_layers(step):\n",
    "    circuits = []\n",
    "    new_circ = QuantumCircuit(step.qubits)\n",
    "    old_qubits = set()\n",
    "    new_qubits = set()\n",
    "\n",
    "    for gate in step:\n",
    "        if gate.operation.num_qubits == 2:\n",
    "            for q in gate.qubits:\n",
    "                new_qubits.add(q)\n",
    "\n",
    "        if new_qubits.intersection(old_qubits):\n",
    "            old_qubits = new_qubits.copy()\n",
    "            new_qubits = set()\n",
    "            circuits.append(new_circ)\n",
    "            new_circ = QuantumCircuit(step.qubits)\n",
    "\n",
    "        if gate.operation.num_qubits == 1 and old_qubits:\n",
    "            new_qubits = set()\n",
    "            old_qubits = set()\n",
    "            circuits.append(new_circ)\n",
    "            new_circ = QuantumCircuit(step.qubits)\n",
    "\n",
    "        old_qubits = old_qubits.union(new_qubits)\n",
    "        new_circ.append(gate)\n",
    "        new_qubits = set()\n",
    "\n",
    "    circuits.append(new_circ)\n",
    "            \n",
    "    return circuits"
   ]
  },
  {
   "cell_type": "code",
   "execution_count": 62,
   "metadata": {},
   "outputs": [],
   "source": [
    "circs = trotterstep_to_layers(step)"
   ]
  },
  {
   "cell_type": "code",
   "execution_count": 69,
   "metadata": {},
   "outputs": [
    {
     "data": {
      "text/html": [
       "<pre style=\"word-wrap: normal;white-space: pre;background: #fff0;line-height: 1.1;font-family: &quot;Courier New&quot;,Courier,monospace\">                    \n",
       "0: ──────────────■──\n",
       "   ┌──────────┐┌─┴─┐\n",
       "1: ┤ Rz(0.15) ├┤ X ├\n",
       "   └──────────┘└───┘\n",
       "2: ──────────────■──\n",
       "   ┌──────────┐┌─┴─┐\n",
       "3: ┤ Rz(0.15) ├┤ X ├\n",
       "   └──────────┘└───┘</pre>"
      ],
      "text/plain": [
       "                    \n",
       "0: ──────────────■──\n",
       "   ┌──────────┐┌─┴─┐\n",
       "1: ┤ Rz(0.15) ├┤ X ├\n",
       "   └──────────┘└───┘\n",
       "2: ──────────────■──\n",
       "   ┌──────────┐┌─┴─┐\n",
       "3: ┤ Rz(0.15) ├┤ X ├\n",
       "   └──────────┘└───┘"
      ]
     },
     "execution_count": 69,
     "metadata": {},
     "output_type": "execute_result"
    }
   ],
   "source": [
    "layer = circs[1]\n",
    "layer.draw()"
   ]
  },
  {
   "cell_type": "markdown",
   "metadata": {},
   "source": [
    "Running with PEC"
   ]
  },
  {
   "cell_type": "code",
   "execution_count": 67,
   "metadata": {},
   "outputs": [],
   "source": [
    "class TrotterCircuit:\n",
    "    def __init__(self, trotterLayers, noise_model, last_layer = None):\n",
    "        #trotter layers is a list of quantum circuits decomposed as a number of single gate layers follwed by a two-qubit layer (both optional)\n",
    "        #measurement_basis is the pauli expectation value to be measured\n",
    "        #noise_model is a list of lists of tuples with paulis and model coefficients for sampling\n",
    "        #the last_layer can be used if the trotter steps decompose in reverse order, if set it will trigger the subsequent layers to be flipped\n",
    "        self.qubits = trotterLayers[0].qubits\n",
    "        self.trotterLayers = trotterLayers\n",
    "        self.noise_model = noise_model\n",
    "        self.last_layer = last_layer\n",
    "    \n",
    "\n",
    "    def layer_with_PEC(self,layer, noise_model, last_twirl = None):\n",
    "        qubits = [q.index for q in layer.qubits]\n",
    "        circ = QuantumCircuit(layer.qubits)\n",
    "        cliff = circ.copy()\n",
    "\n",
    "        if last_twirl:\n",
    "            circ.append(last_twirl, self.qubits)\n",
    "\n",
    "        for gate in layer:\n",
    "            match gate.operation.num_qubits:\n",
    "                case 1:\n",
    "                    circ.append(gate)\n",
    "                case 2:\n",
    "                    cliff.append(gate)\n",
    "\n",
    "        pauli = Pauli(\"\".join(choices(\"IXYZ\", k=layer.num_qubits))) \n",
    "        mitigation, sign = self.sample(noise_model, layer.num_qubits)\n",
    "\n",
    "        circ.append(pauli, self.qubits)\n",
    "        circ.append(mitigation, self.qubits)\n",
    "\n",
    "        for gate in layer:\n",
    "            if gate.operation.num_qubits == 2:\n",
    "                circ.append(gate)\n",
    "        return circ, pauli, sign\n",
    "\n",
    "    def sample(self, noise_model,n):\n",
    "        operator = Pauli(\"I\"*n)\n",
    "        sgn = 0\n",
    "        for term, prob in noise_model:\n",
    "            if random() < prob:\n",
    "                operator = operator.compose(term)\n",
    "                sgn ^= 1\n",
    "        return operator, sgn\n",
    "\n",
    "    def trotterstep_with_PEC(self):\n",
    "        circ = QuantumCircuit(self.qubits)\n",
    "        pauli = None\n",
    "        overall_sign = 0\n",
    "        for layer,noise_model in zip(self.trotterLayers, self.noise_model):\n",
    "            qc, pauli, sgn = self.layer_with_PEC(layer, noise_model, pauli)\n",
    "            circ = circ.compose(qc)\n",
    "            overall_sign ^= sgn\n",
    "            circ.barrier()\n",
    "        return circ\n",
    "\n",
    "    def trotter_with_PEC(self,measurement_basis):\n",
    "        pass"
   ]
  },
  {
   "cell_type": "code",
   "execution_count": 471,
   "metadata": {},
   "outputs": [
    {
     "data": {
      "text/html": [
       "<pre style=\"word-wrap: normal;white-space: pre;background: #fff0;line-height: 1.1;font-family: &quot;Courier New&quot;,Courier,monospace\">      ┌───┐    ┌───┐          \n",
       "0: ───┤ X ├────┤ I ├──────────\n",
       "      ├───┤    ├───┤          \n",
       "1: ───┤ X ├────┤ I ├───────■──\n",
       "   ┌──┴───┴───┐├───┤┌───┐┌─┴─┐\n",
       "2: ┤ Rz(0.15) ├┤ X ├┤ I ├┤ X ├\n",
       "   └──┬───┬───┘├───┤└───┘└───┘\n",
       "3: ───┤ X ├────┤ I ├──────────\n",
       "      └───┘    └───┘          </pre>"
      ],
      "text/plain": [
       "      ┌───┐    ┌───┐          \n",
       "0: ───┤ X ├────┤ I ├──────────\n",
       "      ├───┤    ├───┤          \n",
       "1: ───┤ X ├────┤ I ├───────■──\n",
       "   ┌──┴───┴───┐├───┤┌───┐┌─┴─┐\n",
       "2: ┤ Rz(0.15) ├┤ X ├┤ I ├┤ X ├\n",
       "   └──┬───┬───┘├───┤└───┘└───┘\n",
       "3: ───┤ X ├────┤ I ├──────────\n",
       "      └───┘    └───┘          "
      ]
     },
     "execution_count": 471,
     "metadata": {},
     "output_type": "execute_result"
    }
   ],
   "source": [
    "circ.draw()"
   ]
  },
  {
   "cell_type": "code",
   "execution_count": 71,
   "metadata": {},
   "outputs": [],
   "source": [
    "tl = TrotterCircuit(circs, [l]*4)"
   ]
  },
  {
   "cell_type": "code",
   "execution_count": 74,
   "metadata": {},
   "outputs": [
    {
     "name": "stderr",
     "output_type": "stream",
     "text": [
      "/tmp/ipykernel_367109/2337152484.py:14: DeprecationWarning: Back-references to from Bit instances to their containing Registers have been deprecated. Instead, inspect Registers to find their contained Bits.\n",
      "  qubits = [q.index for q in layer.qubits]\n"
     ]
    }
   ],
   "source": [
    "l = [(Pauli(\"XXII\"), .1), (Pauli(\"IIXX\"), .2)]\n",
    "circ = tl.trotterstep_with_PEC()"
   ]
  },
  {
   "cell_type": "code",
   "execution_count": 73,
   "metadata": {},
   "outputs": [
    {
     "data": {
      "text/html": [
       "<pre style=\"word-wrap: normal;white-space: pre;background: #fff0;line-height: 1.1;font-family: &quot;Courier New&quot;,Courier,monospace\">   ┌───────┐┌──────────────┐┌──────────────┐      ░ ┌──────────────┐»\n",
       "0: ┤ Rx(1) ├┤0             ├┤0             ├──■───░─┤0             ├»\n",
       "   ├───────┤│              ││              │┌─┴─┐ ░ │              │»\n",
       "1: ┤ Rx(1) ├┤1             ├┤1             ├┤ X ├─░─┤1             ├»\n",
       "   ├───────┤│  Pauli(YXYZ) ││  Pauli(IIII) │└───┘ ░ │  Pauli(YXYZ) │»\n",
       "2: ┤ Rx(1) ├┤2             ├┤2             ├──■───░─┤2             ├»\n",
       "   ├───────┤│              ││              │┌─┴─┐ ░ │              │»\n",
       "3: ┤ Rx(1) ├┤3             ├┤3             ├┤ X ├─░─┤3             ├»\n",
       "   └───────┘└──────────────┘└──────────────┘└───┘ ░ └──────────────┘»\n",
       "«               ┌──────────────┐┌──────────────┐      ░ ┌──────────────┐»\n",
       "«0: ────────────┤0             ├┤0             ├──■───░─┤0             ├»\n",
       "«   ┌──────────┐│              ││              │┌─┴─┐ ░ │              │»\n",
       "«1: ┤ Rz(0.15) ├┤1             ├┤1             ├┤ X ├─░─┤1             ├»\n",
       "«   └──────────┘│  Pauli(XYZX) ││  Pauli(IIII) │└───┘ ░ │  Pauli(XYZX) │»\n",
       "«2: ────────────┤2             ├┤2             ├──■───░─┤2             ├»\n",
       "«   ┌──────────┐│              ││              │┌─┴─┐ ░ │              │»\n",
       "«3: ┤ Rz(0.15) ├┤3             ├┤3             ├┤ X ├─░─┤3             ├»\n",
       "«   └──────────┘└──────────────┘└──────────────┘└───┘ ░ └──────────────┘»\n",
       "«   ┌──────────────┐┌──────────────┐      ░ ┌──────────────┐            »\n",
       "«0: ┤0             ├┤0             ├──────░─┤0             ├────────────»\n",
       "«   │              ││              │      ░ │              │            »\n",
       "«1: ┤1             ├┤1             ├──■───░─┤1             ├────────────»\n",
       "«   │  Pauli(IYIZ) ││  Pauli(IIII) │┌─┴─┐ ░ │  Pauli(IYIZ) │┌──────────┐»\n",
       "«2: ┤2             ├┤2             ├┤ X ├─░─┤2             ├┤ Rz(0.15) ├»\n",
       "«   │              ││              │└───┘ ░ │              │└──────────┘»\n",
       "«3: ┤3             ├┤3             ├──────░─┤3             ├────────────»\n",
       "«   └──────────────┘└──────────────┘      ░ └──────────────┘            »\n",
       "«   ┌──────────────┐┌──────────────┐      ░ \n",
       "«0: ┤0             ├┤0             ├──────░─\n",
       "«   │              ││              │      ░ \n",
       "«1: ┤1             ├┤1             ├──■───░─\n",
       "«   │  Pauli(IZYI) ││  Pauli(IIXX) │┌─┴─┐ ░ \n",
       "«2: ┤2             ├┤2             ├┤ X ├─░─\n",
       "«   │              ││              │└───┘ ░ \n",
       "«3: ┤3             ├┤3             ├──────░─\n",
       "«   └──────────────┘└──────────────┘      ░ </pre>"
      ],
      "text/plain": [
       "   ┌───────┐┌──────────────┐┌──────────────┐      ░ ┌──────────────┐»\n",
       "0: ┤ Rx(1) ├┤0             ├┤0             ├──■───░─┤0             ├»\n",
       "   ├───────┤│              ││              │┌─┴─┐ ░ │              │»\n",
       "1: ┤ Rx(1) ├┤1             ├┤1             ├┤ X ├─░─┤1             ├»\n",
       "   ├───────┤│  Pauli(YXYZ) ││  Pauli(IIII) │└───┘ ░ │  Pauli(YXYZ) │»\n",
       "2: ┤ Rx(1) ├┤2             ├┤2             ├──■───░─┤2             ├»\n",
       "   ├───────┤│              ││              │┌─┴─┐ ░ │              │»\n",
       "3: ┤ Rx(1) ├┤3             ├┤3             ├┤ X ├─░─┤3             ├»\n",
       "   └───────┘└──────────────┘└──────────────┘└───┘ ░ └──────────────┘»\n",
       "«               ┌──────────────┐┌──────────────┐      ░ ┌──────────────┐»\n",
       "«0: ────────────┤0             ├┤0             ├──■───░─┤0             ├»\n",
       "«   ┌──────────┐│              ││              │┌─┴─┐ ░ │              │»\n",
       "«1: ┤ Rz(0.15) ├┤1             ├┤1             ├┤ X ├─░─┤1             ├»\n",
       "«   └──────────┘│  Pauli(XYZX) ││  Pauli(IIII) │└───┘ ░ │  Pauli(XYZX) │»\n",
       "«2: ────────────┤2             ├┤2             ├──■───░─┤2             ├»\n",
       "«   ┌──────────┐│              ││              │┌─┴─┐ ░ │              │»\n",
       "«3: ┤ Rz(0.15) ├┤3             ├┤3             ├┤ X ├─░─┤3             ├»\n",
       "«   └──────────┘└──────────────┘└──────────────┘└───┘ ░ └──────────────┘»\n",
       "«   ┌──────────────┐┌──────────────┐      ░ ┌──────────────┐            »\n",
       "«0: ┤0             ├┤0             ├──────░─┤0             ├────────────»\n",
       "«   │              ││              │      ░ │              │            »\n",
       "«1: ┤1             ├┤1             ├──■───░─┤1             ├────────────»\n",
       "«   │  Pauli(IYIZ) ││  Pauli(IIII) │┌─┴─┐ ░ │  Pauli(IYIZ) │┌──────────┐»\n",
       "«2: ┤2             ├┤2             ├┤ X ├─░─┤2             ├┤ Rz(0.15) ├»\n",
       "«   │              ││              │└───┘ ░ │              │└──────────┘»\n",
       "«3: ┤3             ├┤3             ├──────░─┤3             ├────────────»\n",
       "«   └──────────────┘└──────────────┘      ░ └──────────────┘            »\n",
       "«   ┌──────────────┐┌──────────────┐      ░ \n",
       "«0: ┤0             ├┤0             ├──────░─\n",
       "«   │              ││              │      ░ \n",
       "«1: ┤1             ├┤1             ├──■───░─\n",
       "«   │  Pauli(IZYI) ││  Pauli(IIXX) │┌─┴─┐ ░ \n",
       "«2: ┤2             ├┤2             ├┤ X ├─░─\n",
       "«   │              ││              │└───┘ ░ \n",
       "«3: ┤3             ├┤3             ├──────░─\n",
       "«   └──────────────┘└──────────────┘      ░ "
      ]
     },
     "execution_count": 73,
     "metadata": {},
     "output_type": "execute_result"
    }
   ],
   "source": [
    "circ.draw()"
   ]
  }
 ],
 "metadata": {
  "kernelspec": {
   "display_name": "Python 3.10.5 64-bit",
   "language": "python",
   "name": "python3"
  },
  "language_info": {
   "codemirror_mode": {
    "name": "ipython",
    "version": 3
   },
   "file_extension": ".py",
   "mimetype": "text/x-python",
   "name": "python",
   "nbconvert_exporter": "python",
   "pygments_lexer": "ipython3",
   "version": "3.10.5"
  },
  "orig_nbformat": 4,
  "vscode": {
   "interpreter": {
    "hash": "e7370f93d1d0cde622a1f8e1c04877d8463912d04d973331ad4851f04de6915a"
   }
  }
 },
 "nbformat": 4,
 "nbformat_minor": 2
}
